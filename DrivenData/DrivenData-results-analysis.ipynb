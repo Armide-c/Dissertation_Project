{
 "cells": [
  {
   "cell_type": "code",
   "execution_count": 1,
   "id": "23847c71",
   "metadata": {
    "_cell_guid": "b1076dfc-b9ad-4769-8c92-a6c4dae69d19",
    "_uuid": "8f2839f25d086af736a60e9eeb907d3b93b6e0e5",
    "execution": {
     "iopub.execute_input": "2021-08-24T10:26:26.183114Z",
     "iopub.status.busy": "2021-08-24T10:26:26.181930Z",
     "iopub.status.idle": "2021-08-24T10:26:26.205126Z",
     "shell.execute_reply": "2021-08-24T10:26:26.203849Z",
     "shell.execute_reply.started": "2021-08-24T10:23:39.961204Z"
    },
    "papermill": {
     "duration": 0.118094,
     "end_time": "2021-08-24T10:26:26.205300",
     "exception": false,
     "start_time": "2021-08-24T10:26:26.087206",
     "status": "completed"
    },
    "tags": []
   },
   "outputs": [],
   "source": [
    "%matplotlib inline\n",
    "import sys\n",
    "import os\n",
    "import csv\n",
    "import json\n",
    "import logging\n",
    "from pathlib import Path\n",
    "import random\n",
    "import tarfile\n",
    "import tempfile\n",
    "import warnings\n",
    "import matplotlib.pyplot as plt\n",
    "import numpy as np\n",
    "import pandas as pd\n",
    "from tqdm import tqdm\n",
    "import plotly.graph_objects as go\n",
    "sys.path.append(str(Path.cwd().parent))"
   ]
  },
  {
   "cell_type": "code",
   "execution_count": 2,
   "id": "384e2d69",
   "metadata": {
    "execution": {
     "iopub.execute_input": "2021-08-24T10:26:26.415961Z",
     "iopub.status.busy": "2021-08-24T10:26:26.415310Z",
     "iopub.status.idle": "2021-08-24T10:26:26.417763Z",
     "shell.execute_reply": "2021-08-24T10:26:26.417147Z",
     "shell.execute_reply.started": "2021-08-24T10:23:39.989512Z"
    },
    "papermill": {
     "duration": 0.111335,
     "end_time": "2021-08-24T10:26:26.417887",
     "exception": false,
     "start_time": "2021-08-24T10:26:26.306552",
     "status": "completed"
    },
    "tags": []
   },
   "outputs": [],
   "source": [
    "dataset = Path.cwd().parent/\"input/multi-tags-results/Multi_model_results_tags.csv\""
   ]
  },
  {
   "cell_type": "code",
   "execution_count": 3,
   "id": "4c742049",
   "metadata": {
    "execution": {
     "iopub.execute_input": "2021-08-24T10:26:26.602361Z",
     "iopub.status.busy": "2021-08-24T10:26:26.601648Z",
     "iopub.status.idle": "2021-08-24T10:26:26.716085Z",
     "shell.execute_reply": "2021-08-24T10:26:26.715287Z",
     "shell.execute_reply.started": "2021-08-24T10:23:39.996509Z"
    },
    "papermill": {
     "duration": 0.208734,
     "end_time": "2021-08-24T10:26:26.716260",
     "exception": false,
     "start_time": "2021-08-24T10:26:26.507526",
     "status": "completed"
    },
    "tags": []
   },
   "outputs": [],
   "source": [
    "Multi_dataset = pd.read_csv(dataset)"
   ]
  },
  {
   "cell_type": "code",
   "execution_count": 4,
   "id": "637db79c",
   "metadata": {
    "execution": {
     "iopub.execute_input": "2021-08-24T10:26:26.928207Z",
     "iopub.status.busy": "2021-08-24T10:26:26.927591Z",
     "iopub.status.idle": "2021-08-24T10:26:26.946290Z",
     "shell.execute_reply": "2021-08-24T10:26:26.946822Z",
     "shell.execute_reply.started": "2021-08-24T10:23:40.118088Z"
    },
    "papermill": {
     "duration": 0.120937,
     "end_time": "2021-08-24T10:26:26.947005",
     "exception": false,
     "start_time": "2021-08-24T10:26:26.826068",
     "status": "completed"
    },
    "tags": []
   },
   "outputs": [
    {
     "data": {
      "text/html": [
       "<div>\n",
       "<style scoped>\n",
       "    .dataframe tbody tr th:only-of-type {\n",
       "        vertical-align: middle;\n",
       "    }\n",
       "\n",
       "    .dataframe tbody tr th {\n",
       "        vertical-align: top;\n",
       "    }\n",
       "\n",
       "    .dataframe thead th {\n",
       "        text-align: right;\n",
       "    }\n",
       "</style>\n",
       "<table border=\"1\" class=\"dataframe\">\n",
       "  <thead>\n",
       "    <tr style=\"text-align: right;\">\n",
       "      <th></th>\n",
       "      <th>id</th>\n",
       "      <th>True Label</th>\n",
       "      <th>Label</th>\n",
       "      <th>Proba</th>\n",
       "      <th>Community</th>\n",
       "      <th>Multi/Uni</th>\n",
       "      <th>Text</th>\n",
       "    </tr>\n",
       "  </thead>\n",
       "  <tbody>\n",
       "    <tr>\n",
       "      <th>0</th>\n",
       "      <td>16395</td>\n",
       "      <td>1</td>\n",
       "      <td>1</td>\n",
       "      <td>0.949035</td>\n",
       "      <td>Disable</td>\n",
       "      <td>multi</td>\n",
       "      <td>handjobs sold seperately</td>\n",
       "    </tr>\n",
       "    <tr>\n",
       "      <th>1</th>\n",
       "      <td>37405</td>\n",
       "      <td>1</td>\n",
       "      <td>1</td>\n",
       "      <td>0.790196</td>\n",
       "      <td>Women</td>\n",
       "      <td>multi</td>\n",
       "      <td>introducing fidget spinner for women</td>\n",
       "    </tr>\n",
       "    <tr>\n",
       "      <th>2</th>\n",
       "      <td>94180</td>\n",
       "      <td>1</td>\n",
       "      <td>1</td>\n",
       "      <td>0.689591</td>\n",
       "      <td>LGBT</td>\n",
       "      <td>uni</td>\n",
       "      <td>happy pride month let's go beat up lesbians</td>\n",
       "    </tr>\n",
       "    <tr>\n",
       "      <th>3</th>\n",
       "      <td>54321</td>\n",
       "      <td>1</td>\n",
       "      <td>1</td>\n",
       "      <td>0.698236</td>\n",
       "      <td>Black</td>\n",
       "      <td>multi</td>\n",
       "      <td>laughs in [majority of u.s crime rate]</td>\n",
       "    </tr>\n",
       "    <tr>\n",
       "      <th>4</th>\n",
       "      <td>97015</td>\n",
       "      <td>1</td>\n",
       "      <td>1</td>\n",
       "      <td>0.993769</td>\n",
       "      <td>Musulman</td>\n",
       "      <td>multi</td>\n",
       "      <td>finds out those 72 virgins.. are goats</td>\n",
       "    </tr>\n",
       "    <tr>\n",
       "      <th>...</th>\n",
       "      <td>...</td>\n",
       "      <td>...</td>\n",
       "      <td>...</td>\n",
       "      <td>...</td>\n",
       "      <td>...</td>\n",
       "      <td>...</td>\n",
       "      <td>...</td>\n",
       "    </tr>\n",
       "    <tr>\n",
       "      <th>995</th>\n",
       "      <td>3869</td>\n",
       "      <td>0</td>\n",
       "      <td>0</td>\n",
       "      <td>0.000301</td>\n",
       "      <td>Not Applicable</td>\n",
       "      <td>multi</td>\n",
       "      <td>a mother's love for the child is a divine thing</td>\n",
       "    </tr>\n",
       "    <tr>\n",
       "      <th>996</th>\n",
       "      <td>23817</td>\n",
       "      <td>0</td>\n",
       "      <td>0</td>\n",
       "      <td>0.000613</td>\n",
       "      <td>Not Applicable</td>\n",
       "      <td>uni</td>\n",
       "      <td>sea monkeys</td>\n",
       "    </tr>\n",
       "    <tr>\n",
       "      <th>997</th>\n",
       "      <td>56280</td>\n",
       "      <td>0</td>\n",
       "      <td>1</td>\n",
       "      <td>0.995270</td>\n",
       "      <td>Not Applicable</td>\n",
       "      <td>multi</td>\n",
       "      <td>little miss muffet sat on her tuffet</td>\n",
       "    </tr>\n",
       "    <tr>\n",
       "      <th>998</th>\n",
       "      <td>29384</td>\n",
       "      <td>0</td>\n",
       "      <td>0</td>\n",
       "      <td>0.020082</td>\n",
       "      <td>Not Applicable</td>\n",
       "      <td>multi</td>\n",
       "      <td>they're in a row</td>\n",
       "    </tr>\n",
       "    <tr>\n",
       "      <th>999</th>\n",
       "      <td>34127</td>\n",
       "      <td>0</td>\n",
       "      <td>1</td>\n",
       "      <td>0.510685</td>\n",
       "      <td>Musulman</td>\n",
       "      <td>multi</td>\n",
       "      <td>that feeling when you win a fifa game after be...</td>\n",
       "    </tr>\n",
       "  </tbody>\n",
       "</table>\n",
       "<p>1000 rows × 7 columns</p>\n",
       "</div>"
      ],
      "text/plain": [
       "        id  True Label  Label     Proba       Community Multi/Uni  \\\n",
       "0    16395           1      1  0.949035         Disable     multi   \n",
       "1    37405           1      1  0.790196           Women     multi   \n",
       "2    94180           1      1  0.689591            LGBT       uni   \n",
       "3    54321           1      1  0.698236           Black     multi   \n",
       "4    97015           1      1  0.993769        Musulman     multi   \n",
       "..     ...         ...    ...       ...             ...       ...   \n",
       "995   3869           0      0  0.000301  Not Applicable     multi   \n",
       "996  23817           0      0  0.000613  Not Applicable       uni   \n",
       "997  56280           0      1  0.995270  Not Applicable     multi   \n",
       "998  29384           0      0  0.020082  Not Applicable     multi   \n",
       "999  34127           0      1  0.510685        Musulman     multi   \n",
       "\n",
       "                                                  Text  \n",
       "0                             handjobs sold seperately  \n",
       "1                 introducing fidget spinner for women  \n",
       "2          happy pride month let's go beat up lesbians  \n",
       "3               laughs in [majority of u.s crime rate]  \n",
       "4               finds out those 72 virgins.. are goats  \n",
       "..                                                 ...  \n",
       "995    a mother's love for the child is a divine thing  \n",
       "996                                        sea monkeys  \n",
       "997               little miss muffet sat on her tuffet  \n",
       "998                                   they're in a row  \n",
       "999  that feeling when you win a fifa game after be...  \n",
       "\n",
       "[1000 rows x 7 columns]"
      ]
     },
     "execution_count": 4,
     "metadata": {},
     "output_type": "execute_result"
    }
   ],
   "source": [
    "Multi_dataset"
   ]
  },
  {
   "cell_type": "markdown",
   "id": "ad69c1bf",
   "metadata": {
    "papermill": {
     "duration": 0.09353,
     "end_time": "2021-08-24T10:26:27.133559",
     "exception": false,
     "start_time": "2021-08-24T10:26:27.040029",
     "status": "completed"
    },
    "tags": []
   },
   "source": [
    "# Looking at the number of sample:"
   ]
  },
  {
   "cell_type": "markdown",
   "id": "9394421a",
   "metadata": {
    "papermill": {
     "duration": 0.095277,
     "end_time": "2021-08-24T10:26:27.335696",
     "exception": false,
     "start_time": "2021-08-24T10:26:27.240419",
     "status": "completed"
    },
    "tags": []
   },
   "source": [
    "Hateful (1) or Note Hateful (0)"
   ]
  },
  {
   "cell_type": "code",
   "execution_count": 5,
   "id": "12ac01e2",
   "metadata": {
    "execution": {
     "iopub.execute_input": "2021-08-24T10:26:27.524333Z",
     "iopub.status.busy": "2021-08-24T10:26:27.523674Z",
     "iopub.status.idle": "2021-08-24T10:26:27.541311Z",
     "shell.execute_reply": "2021-08-24T10:26:27.540636Z",
     "shell.execute_reply.started": "2021-08-24T10:23:40.157544Z"
    },
    "papermill": {
     "duration": 0.114225,
     "end_time": "2021-08-24T10:26:27.541449",
     "exception": false,
     "start_time": "2021-08-24T10:26:27.427224",
     "status": "completed"
    },
    "tags": []
   },
   "outputs": [],
   "source": [
    "not_hateful_labels = Multi_dataset[Multi_dataset['True Label'] == 0]\n",
    "hateful_labels = Multi_dataset[Multi_dataset['True Label'] == 1]"
   ]
  },
  {
   "cell_type": "code",
   "execution_count": 6,
   "id": "a1ecbd48",
   "metadata": {
    "execution": {
     "iopub.execute_input": "2021-08-24T10:26:27.727222Z",
     "iopub.status.busy": "2021-08-24T10:26:27.726283Z",
     "iopub.status.idle": "2021-08-24T10:26:27.732334Z",
     "shell.execute_reply": "2021-08-24T10:26:27.732815Z",
     "shell.execute_reply.started": "2021-08-24T10:23:40.185316Z"
    },
    "papermill": {
     "duration": 0.101039,
     "end_time": "2021-08-24T10:26:27.732974",
     "exception": false,
     "start_time": "2021-08-24T10:26:27.631935",
     "status": "completed"
    },
    "tags": []
   },
   "outputs": [
    {
     "name": "stdout",
     "output_type": "stream",
     "text": [
      "Number of none hateful samples in the dataset:  501\n",
      "Number of hateful samples in the dataset:  499\n"
     ]
    }
   ],
   "source": [
    "numb_not_hateful_labels = len(not_hateful_labels)\n",
    "numb_hateful_labels = len(hateful_labels)\n",
    "\n",
    "print(\"Number of none hateful samples in the dataset: \", numb_not_hateful_labels)\n",
    "print(\"Number of hateful samples in the dataset: \",numb_hateful_labels)"
   ]
  },
  {
   "cell_type": "markdown",
   "id": "8dc4b05c",
   "metadata": {
    "papermill": {
     "duration": 0.09046,
     "end_time": "2021-08-24T10:26:27.914663",
     "exception": false,
     "start_time": "2021-08-24T10:26:27.824203",
     "status": "completed"
    },
    "tags": []
   },
   "source": [
    "Uni or Multi"
   ]
  },
  {
   "cell_type": "code",
   "execution_count": 7,
   "id": "b7ba1fe2",
   "metadata": {
    "execution": {
     "iopub.execute_input": "2021-08-24T10:26:28.103290Z",
     "iopub.status.busy": "2021-08-24T10:26:28.102689Z",
     "iopub.status.idle": "2021-08-24T10:26:28.105108Z",
     "shell.execute_reply": "2021-08-24T10:26:28.105619Z",
     "shell.execute_reply.started": "2021-08-24T10:23:40.194499Z"
    },
    "papermill": {
     "duration": 0.101635,
     "end_time": "2021-08-24T10:26:28.105791",
     "exception": false,
     "start_time": "2021-08-24T10:26:28.004156",
     "status": "completed"
    },
    "tags": []
   },
   "outputs": [],
   "source": [
    "multi_sample = Multi_dataset[Multi_dataset['Multi/Uni'] == 'multi']\n",
    "uni_sample = Multi_dataset[Multi_dataset['Multi/Uni'] == 'uni']"
   ]
  },
  {
   "cell_type": "code",
   "execution_count": 8,
   "id": "a7208625",
   "metadata": {
    "execution": {
     "iopub.execute_input": "2021-08-24T10:26:28.313996Z",
     "iopub.status.busy": "2021-08-24T10:26:28.312880Z",
     "iopub.status.idle": "2021-08-24T10:26:28.319821Z",
     "shell.execute_reply": "2021-08-24T10:26:28.319262Z",
     "shell.execute_reply.started": "2021-08-24T10:23:40.208499Z"
    },
    "papermill": {
     "duration": 0.123084,
     "end_time": "2021-08-24T10:26:28.319990",
     "exception": false,
     "start_time": "2021-08-24T10:26:28.196906",
     "status": "completed"
    },
    "tags": []
   },
   "outputs": [
    {
     "name": "stdout",
     "output_type": "stream",
     "text": [
      "Number of multimodal samples in the dataset:  724\n",
      "Number of unimodal samples in the dataset:  275\n"
     ]
    }
   ],
   "source": [
    "numb_multi_sample = len(multi_sample)\n",
    "numb_uni_sample = len(uni_sample)\n",
    "\n",
    "print(\"Number of multimodal samples in the dataset: \", numb_multi_sample)\n",
    "print(\"Number of unimodal samples in the dataset: \", numb_uni_sample)"
   ]
  },
  {
   "cell_type": "markdown",
   "id": "56520e7a",
   "metadata": {
    "papermill": {
     "duration": 0.109823,
     "end_time": "2021-08-24T10:26:28.553182",
     "exception": false,
     "start_time": "2021-08-24T10:26:28.443359",
     "status": "completed"
    },
    "tags": []
   },
   "source": [
    "How many Hateful and not Hateful samples than are also multimodal sample?"
   ]
  },
  {
   "cell_type": "code",
   "execution_count": 9,
   "id": "a5a162f9",
   "metadata": {
    "execution": {
     "iopub.execute_input": "2021-08-24T10:26:28.751234Z",
     "iopub.status.busy": "2021-08-24T10:26:28.750542Z",
     "iopub.status.idle": "2021-08-24T10:26:28.753757Z",
     "shell.execute_reply": "2021-08-24T10:26:28.754319Z",
     "shell.execute_reply.started": "2021-08-24T10:23:40.221758Z"
    },
    "papermill": {
     "duration": 0.106494,
     "end_time": "2021-08-24T10:26:28.754472",
     "exception": false,
     "start_time": "2021-08-24T10:26:28.647978",
     "status": "completed"
    },
    "tags": []
   },
   "outputs": [
    {
     "data": {
      "text/plain": [
       "{'Multi and 0': 295, 'Multi and 1': 429}"
      ]
     },
     "execution_count": 9,
     "metadata": {},
     "output_type": "execute_result"
    }
   ],
   "source": [
    "Multi_and_0 = len(multi_sample[multi_sample['True Label'] == 0])\n",
    "Multi_and_1= len(multi_sample[multi_sample['True Label'] == 1])\n",
    "\n",
    "multi_labels = {\n",
    "'Multi and 0' : Multi_and_0,\n",
    "'Multi and 1': Multi_and_1}\n",
    "\n",
    "multi_labels"
   ]
  },
  {
   "cell_type": "markdown",
   "id": "a7d1fd4b",
   "metadata": {
    "papermill": {
     "duration": 0.093723,
     "end_time": "2021-08-24T10:26:28.943058",
     "exception": false,
     "start_time": "2021-08-24T10:26:28.849335",
     "status": "completed"
    },
    "tags": []
   },
   "source": [
    "How many Hateful and not Hateful samples than are also unimodal sample?\n"
   ]
  },
  {
   "cell_type": "code",
   "execution_count": 10,
   "id": "d1865df5",
   "metadata": {
    "execution": {
     "iopub.execute_input": "2021-08-24T10:26:29.133387Z",
     "iopub.status.busy": "2021-08-24T10:26:29.132787Z",
     "iopub.status.idle": "2021-08-24T10:26:29.140181Z",
     "shell.execute_reply": "2021-08-24T10:26:29.140782Z",
     "shell.execute_reply.started": "2021-08-24T10:23:40.236615Z"
    },
    "papermill": {
     "duration": 0.103199,
     "end_time": "2021-08-24T10:26:29.140953",
     "exception": false,
     "start_time": "2021-08-24T10:26:29.037754",
     "status": "completed"
    },
    "tags": []
   },
   "outputs": [
    {
     "data": {
      "text/plain": [
       "{'Uni and 0': 205, 'Uni and 1': 70}"
      ]
     },
     "execution_count": 10,
     "metadata": {},
     "output_type": "execute_result"
    }
   ],
   "source": [
    "Uni_and_0 = len(uni_sample[uni_sample['True Label'] == 0])\n",
    "Uni_and_1= len(uni_sample[uni_sample['True Label'] == 1])\n",
    "\n",
    "uni_labels = {\n",
    "'Uni and 0' : Uni_and_0,\n",
    "'Uni and 1': Uni_and_1}\n",
    "\n",
    "uni_labels"
   ]
  },
  {
   "cell_type": "code",
   "execution_count": 11,
   "id": "5cf21821",
   "metadata": {
    "execution": {
     "iopub.execute_input": "2021-08-24T10:26:29.328322Z",
     "iopub.status.busy": "2021-08-24T10:26:29.327734Z",
     "iopub.status.idle": "2021-08-24T10:26:29.486800Z",
     "shell.execute_reply": "2021-08-24T10:26:29.487219Z",
     "shell.execute_reply.started": "2021-08-24T10:23:40.252668Z"
    },
    "papermill": {
     "duration": 0.254027,
     "end_time": "2021-08-24T10:26:29.487383",
     "exception": false,
     "start_time": "2021-08-24T10:26:29.233356",
     "status": "completed"
    },
    "tags": []
   },
   "outputs": [
    {
     "data": {
      "image/png": "[encoded data removed]",
      "text/plain": [
       "<Figure size 432x288 with 1 Axes>"
      ]
     },
     "metadata": {
      "needs_background": "light"
     },
     "output_type": "display_data"
    }
   ],
   "source": [
    "N = 2\n",
    "ind = np.arange(N) \n",
    "width = 0.25\n",
    "  \n",
    "xvals = [Uni_and_0, Uni_and_1]\n",
    "bar1 = plt.bar(ind, xvals, width, color = 'tab:blue')\n",
    "  \n",
    "yvals = [Multi_and_0, Multi_and_1]\n",
    "bar2 = plt.bar(ind+width, yvals, width, color=(0.5,0.1,0.5,0.6))\n",
    "  \n",
    "  \n",
    "plt.ylabel('Number of sample')\n",
    "plt.title(\"Number of hateful and not hateful sample that are unimodal or multimodal\")\n",
    "  \n",
    "plt.xticks(ind+width,['Not Hateful', 'Hateful'])\n",
    "plt.legend( (bar1, bar2), ('Unimodal', 'Multimodal') )\n",
    "plt.show()"
   ]
  },
  {
   "cell_type": "markdown",
   "id": "a0cd6bea",
   "metadata": {
    "papermill": {
     "duration": 0.091356,
     "end_time": "2021-08-24T10:26:29.670276",
     "exception": false,
     "start_time": "2021-08-24T10:26:29.578920",
     "status": "completed"
    },
    "tags": []
   },
   "source": [
    "# For each category "
   ]
  },
  {
   "cell_type": "markdown",
   "id": "da167378",
   "metadata": {
    "papermill": {
     "duration": 0.092486,
     "end_time": "2021-08-24T10:26:29.856403",
     "exception": false,
     "start_time": "2021-08-24T10:26:29.763917",
     "status": "completed"
    },
    "tags": []
   },
   "source": [
    "* Disable\n",
    "* Women\n",
    "* LGBT\n",
    "* Black\n",
    "* Musulman\n",
    "* Fake News\n",
    "* N/A\n",
    "* Inciting Violence\n",
    "* Transgender\n",
    "* Ginger\n",
    "* Immigrant\n",
    "* Jewish\n",
    "* People of Color\n",
    "* White\n",
    "* Indian\n",
    "* Japanese\n",
    "* Chinese \n",
    "* Asian\n",
    "* Politic\n",
    "* German\n",
    "* Romania\n",
    "* Christian"
   ]
  },
  {
   "cell_type": "code",
   "execution_count": 12,
   "id": "ed1a7034",
   "metadata": {
    "execution": {
     "iopub.execute_input": "2021-08-24T10:26:30.065731Z",
     "iopub.status.busy": "2021-08-24T10:26:30.064683Z",
     "iopub.status.idle": "2021-08-24T10:26:30.067788Z",
     "shell.execute_reply": "2021-08-24T10:26:30.067226Z",
     "shell.execute_reply.started": "2021-08-24T10:23:40.425746Z"
    },
    "papermill": {
     "duration": 0.120193,
     "end_time": "2021-08-24T10:26:30.067911",
     "exception": false,
     "start_time": "2021-08-24T10:26:29.947718",
     "status": "completed"
    },
    "tags": []
   },
   "outputs": [],
   "source": [
    "Disable_sample = Multi_dataset[Multi_dataset['Community'] == 'Disable']\n",
    "Women_sample = Multi_dataset[Multi_dataset['Community'] == 'Women']\n",
    "LGBT_sample = Multi_dataset[Multi_dataset['Community'] == 'LGBT']\n",
    "Black_sample = Multi_dataset[Multi_dataset['Community'] == 'Black']\n",
    "Musulman_sample = Multi_dataset[Multi_dataset['Community'] == 'Musulman']\n",
    "FakeNews_sample = Multi_dataset[Multi_dataset['Community'] == 'Fake News']\n",
    "NA_sample = Multi_dataset[Multi_dataset['Community'] == 'Not Applicable']\n",
    "IncitingViolence_sample = Multi_dataset[Multi_dataset['Community'] == 'Inciting Violence']\n",
    "Transgender_sample = Multi_dataset[Multi_dataset['Community'] == 'Transgender']\n",
    "Ginger_sample = Multi_dataset[Multi_dataset['Community'] == 'Ginger']\n",
    "Immigrant_sample = Multi_dataset[Multi_dataset['Community'] == 'Immigrant']\n",
    "Jewish_sample = Multi_dataset[Multi_dataset['Community'] == 'Jewish']\n",
    "PeopleofColor_sample = Multi_dataset[Multi_dataset['Community'] == 'People of Color']\n",
    "White_sample = Multi_dataset[Multi_dataset['Community'] == 'White']\n",
    "Indian_sample = Multi_dataset[Multi_dataset['Community'] == 'Indian']\n",
    "Japanese_sample = Multi_dataset[Multi_dataset['Community'] == 'Japanese']\n",
    "Chinese_sample = Multi_dataset[Multi_dataset['Community'] == 'Chinese']\n",
    "Asian_sample = Multi_dataset[Multi_dataset['Community'] == 'Asian']\n",
    "Politic_sample = Multi_dataset[Multi_dataset['Community'] == 'Politic']\n",
    "German_sample = Multi_dataset[Multi_dataset['Community'] == 'German']\n",
    "Romanian_sample = Multi_dataset[Multi_dataset['Community'] == 'Romania']\n",
    "Christian_sample = Multi_dataset[Multi_dataset['Community'] == 'Christian']"
   ]
  },
  {
   "cell_type": "code",
   "execution_count": 13,
   "id": "fd25622b",
   "metadata": {
    "execution": {
     "iopub.execute_input": "2021-08-24T10:26:30.261030Z",
     "iopub.status.busy": "2021-08-24T10:26:30.260355Z",
     "iopub.status.idle": "2021-08-24T10:26:30.262934Z",
     "shell.execute_reply": "2021-08-24T10:26:30.263354Z",
     "shell.execute_reply.started": "2021-08-24T10:23:40.451118Z"
    },
    "papermill": {
     "duration": 0.104369,
     "end_time": "2021-08-24T10:26:30.263514",
     "exception": false,
     "start_time": "2021-08-24T10:26:30.159145",
     "status": "completed"
    },
    "tags": []
   },
   "outputs": [
    {
     "data": {
      "text/html": [
       "<div>\n",
       "<style scoped>\n",
       "    .dataframe tbody tr th:only-of-type {\n",
       "        vertical-align: middle;\n",
       "    }\n",
       "\n",
       "    .dataframe tbody tr th {\n",
       "        vertical-align: top;\n",
       "    }\n",
       "\n",
       "    .dataframe thead th {\n",
       "        text-align: right;\n",
       "    }\n",
       "</style>\n",
       "<table border=\"1\" class=\"dataframe\">\n",
       "  <thead>\n",
       "    <tr style=\"text-align: right;\">\n",
       "      <th></th>\n",
       "      <th>id</th>\n",
       "      <th>True Label</th>\n",
       "      <th>Label</th>\n",
       "      <th>Proba</th>\n",
       "      <th>Community</th>\n",
       "      <th>Multi/Uni</th>\n",
       "      <th>Text</th>\n",
       "    </tr>\n",
       "  </thead>\n",
       "  <tbody>\n",
       "    <tr>\n",
       "      <th>671</th>\n",
       "      <td>97568</td>\n",
       "      <td>1</td>\n",
       "      <td>1</td>\n",
       "      <td>0.769319</td>\n",
       "      <td>Romania</td>\n",
       "      <td>multi</td>\n",
       "      <td>how to cook turkey in usa how to cook turkey i...</td>\n",
       "    </tr>\n",
       "    <tr>\n",
       "      <th>784</th>\n",
       "      <td>38496</td>\n",
       "      <td>1</td>\n",
       "      <td>0</td>\n",
       "      <td>0.235308</td>\n",
       "      <td>Romania</td>\n",
       "      <td>multi</td>\n",
       "      <td>romanians when they see a slightly open purse/...</td>\n",
       "    </tr>\n",
       "    <tr>\n",
       "      <th>811</th>\n",
       "      <td>10748</td>\n",
       "      <td>1</td>\n",
       "      <td>0</td>\n",
       "      <td>0.000105</td>\n",
       "      <td>Romania</td>\n",
       "      <td>multi</td>\n",
       "      <td>can afford to travel from romania to london st...</td>\n",
       "    </tr>\n",
       "  </tbody>\n",
       "</table>\n",
       "</div>"
      ],
      "text/plain": [
       "        id  True Label  Label     Proba Community Multi/Uni  \\\n",
       "671  97568           1      1  0.769319   Romania     multi   \n",
       "784  38496           1      0  0.235308   Romania     multi   \n",
       "811  10748           1      0  0.000105   Romania     multi   \n",
       "\n",
       "                                                  Text  \n",
       "671  how to cook turkey in usa how to cook turkey i...  \n",
       "784  romanians when they see a slightly open purse/...  \n",
       "811  can afford to travel from romania to london st...  "
      ]
     },
     "execution_count": 13,
     "metadata": {},
     "output_type": "execute_result"
    }
   ],
   "source": [
    "Romanian_sample"
   ]
  },
  {
   "cell_type": "code",
   "execution_count": 14,
   "id": "6d9f2c72",
   "metadata": {
    "execution": {
     "iopub.execute_input": "2021-08-24T10:26:30.450992Z",
     "iopub.status.busy": "2021-08-24T10:26:30.450433Z",
     "iopub.status.idle": "2021-08-24T10:26:30.457127Z",
     "shell.execute_reply": "2021-08-24T10:26:30.457678Z",
     "shell.execute_reply.started": "2021-08-24T10:23:40.467874Z"
    },
    "papermill": {
     "duration": 0.102368,
     "end_time": "2021-08-24T10:26:30.457830",
     "exception": false,
     "start_time": "2021-08-24T10:26:30.355462",
     "status": "completed"
    },
    "tags": []
   },
   "outputs": [],
   "source": [
    "numb_Disable_sample = len(Disable_sample)\n",
    "numb_Women_sample = len(Women_sample)\n",
    "numb_LGBT_sample = len(LGBT_sample)\n",
    "numb_Black_sample = len(Black_sample)\n",
    "numb_Musulman_sample = len(Musulman_sample)\n",
    "numb_FakeNews_sample = len(FakeNews_sample)\n",
    "numb_NA_sample = len(NA_sample)\n",
    "numb_IncitingViolence_sample = len(IncitingViolence_sample)\n",
    "numb_Transgender_sample = len(Transgender_sample)\n",
    "numb_German_sample = len(Ginger_sample)\n",
    "numb_Immigrant_sample = len(Immigrant_sample)\n",
    "numb_Jewish_sample = len(Jewish_sample)\n",
    "numb_PeopleofColor_sample = len(PeopleofColor_sample)\n",
    "numb_White_sample = len(White_sample)\n",
    "numb_Indian_sample = len(Indian_sample)\n",
    "numb_Japanese_sample = len(Japanese_sample)\n",
    "numb_Chinese_sample = len(Chinese_sample)\n",
    "numb_Asian_sample = len(Asian_sample)\n",
    "numb_Politic_sample = len(Politic_sample)\n",
    "numb_German_sample = len(German_sample)\n",
    "numb_Romanian_sample = len(Romanian_sample)\n",
    "numb_Christian_sample = len(Christian_sample)"
   ]
  },
  {
   "cell_type": "code",
   "execution_count": 15,
   "id": "da9c43e8",
   "metadata": {
    "execution": {
     "iopub.execute_input": "2021-08-24T10:26:30.691691Z",
     "iopub.status.busy": "2021-08-24T10:26:30.691091Z",
     "iopub.status.idle": "2021-08-24T10:26:31.005954Z",
     "shell.execute_reply": "2021-08-24T10:26:31.005321Z",
     "shell.execute_reply.started": "2021-08-24T10:23:40.478536Z"
    },
    "papermill": {
     "duration": 0.410343,
     "end_time": "2021-08-24T10:26:31.006091",
     "exception": false,
     "start_time": "2021-08-24T10:26:30.595748",
     "status": "completed"
    },
    "tags": []
   },
   "outputs": [
    {
     "data": {
      "text/plain": [
       "Text(0, 0.5, 'number of sample')"
      ]
     },
     "execution_count": 15,
     "metadata": {},
     "output_type": "execute_result"
    },
    {
     "data": {
      "image/png": "[encoded data removed]",
      "text/plain": [
       "<Figure size 432x288 with 1 Axes>"
      ]
     },
     "metadata": {
      "needs_background": "light"
     },
     "output_type": "display_data"
    }
   ],
   "source": [
    "categories_ = {\n",
    "'Disable' : len(Disable_sample),\n",
    "'Women' : len(Women_sample),\n",
    "'LGBT' : len(LGBT_sample),\n",
    "'Black' : len(Black_sample),\n",
    "'Musulman' : len(Musulman_sample),\n",
    "'FakeNews' : len(FakeNews_sample),\n",
    "'NA' : len(NA_sample),\n",
    "'Inciting Violence' : len(IncitingViolence_sample),\n",
    "'Transgender' : len(Transgender_sample),\n",
    "'Ginger' : len(Ginger_sample),\n",
    "'Immigrant' : len(Immigrant_sample),\n",
    "'Jewish' : len(Jewish_sample),\n",
    "'People of Color' : len(PeopleofColor_sample),\n",
    "'White' : len(White_sample),\n",
    "'Indian' : len(Indian_sample),\n",
    "'Japanese' : len(Japanese_sample),\n",
    "'Chinese' : len(Chinese_sample),\n",
    "'Asian' : len(Asian_sample),\n",
    "'Politic' : len(Politic_sample),\n",
    "'German' : len(German_sample),\n",
    "'Romanian' : len(Romanian_sample),\n",
    "'Christian' : len(Christian_sample)\n",
    "}\n",
    "\n",
    "lists = sorted(categories_.items()) # sorted by key, return a list of tuples\n",
    "categories, numb_of_sample = zip(*lists) # unpack a list of pairs into two tuples\n",
    "\n",
    "plt.xticks(rotation='vertical')\n",
    "df = plt.bar(categories, numb_of_sample, color=(0.5,0.1,0.5,0.6))\n",
    "plt.title('Number of sample by category')\n",
    "plt.xlabel('categories')\n",
    "plt.ylabel('number of sample')"
   ]
  },
  {
   "cell_type": "code",
   "execution_count": 16,
   "id": "a5802669",
   "metadata": {
    "execution": {
     "iopub.execute_input": "2021-08-24T10:26:31.196115Z",
     "iopub.status.busy": "2021-08-24T10:26:31.195438Z",
     "iopub.status.idle": "2021-08-24T10:26:31.202909Z",
     "shell.execute_reply": "2021-08-24T10:26:31.202354Z",
     "shell.execute_reply.started": "2021-08-24T10:23:40.782195Z"
    },
    "papermill": {
     "duration": 0.103737,
     "end_time": "2021-08-24T10:26:31.203044",
     "exception": false,
     "start_time": "2021-08-24T10:26:31.099307",
     "status": "completed"
    },
    "tags": []
   },
   "outputs": [
    {
     "data": {
      "text/plain": [
       "{'Disable': 62,\n",
       " 'Women': 60,\n",
       " 'LGBT': 32,\n",
       " 'Black': 125,\n",
       " 'Musulman': 119,\n",
       " 'FakeNews': 6,\n",
       " 'NA': 391,\n",
       " 'Inciting Violence': 14,\n",
       " 'Transgender': 15,\n",
       " 'Ginger': 1,\n",
       " 'Immigrant': 13,\n",
       " 'Jewish': 75,\n",
       " 'People of Color': 21,\n",
       " 'White': 15,\n",
       " 'Indian': 2,\n",
       " 'Japanese': 3,\n",
       " 'Chinese': 6,\n",
       " 'Asian': 11,\n",
       " 'Politic': 19,\n",
       " 'German': 3,\n",
       " 'Romanian': 3,\n",
       " 'Christian': 1}"
      ]
     },
     "execution_count": 16,
     "metadata": {},
     "output_type": "execute_result"
    }
   ],
   "source": [
    "categories_"
   ]
  },
  {
   "cell_type": "code",
   "execution_count": 17,
   "id": "02a4212f",
   "metadata": {
    "execution": {
     "iopub.execute_input": "2021-08-24T10:26:31.400785Z",
     "iopub.status.busy": "2021-08-24T10:26:31.400132Z",
     "iopub.status.idle": "2021-08-24T10:26:31.403280Z",
     "shell.execute_reply": "2021-08-24T10:26:31.402739Z",
     "shell.execute_reply.started": "2021-08-24T10:23:40.789545Z"
    },
    "papermill": {
     "duration": 0.105661,
     "end_time": "2021-08-24T10:26:31.403431",
     "exception": false,
     "start_time": "2021-08-24T10:26:31.297770",
     "status": "completed"
    },
    "tags": []
   },
   "outputs": [],
   "source": [
    "OtherThanNA_sample = Multi_dataset[Multi_dataset['Community'] != 'Not Applicable']"
   ]
  },
  {
   "cell_type": "code",
   "execution_count": 18,
   "id": "1cbd4571",
   "metadata": {
    "execution": {
     "iopub.execute_input": "2021-08-24T10:26:31.634412Z",
     "iopub.status.busy": "2021-08-24T10:26:31.630122Z",
     "iopub.status.idle": "2021-08-24T10:26:31.740255Z",
     "shell.execute_reply": "2021-08-24T10:26:31.739685Z",
     "shell.execute_reply.started": "2021-08-24T10:23:40.803600Z"
    },
    "papermill": {
     "duration": 0.240234,
     "end_time": "2021-08-24T10:26:31.740400",
     "exception": false,
     "start_time": "2021-08-24T10:26:31.500166",
     "status": "completed"
    },
    "tags": []
   },
   "outputs": [
    {
     "data": {
      "text/plain": [
       "Text(0, 0.5, 'number of sample')"
      ]
     },
     "execution_count": 18,
     "metadata": {},
     "output_type": "execute_result"
    },
    {
     "data": {
      "image/png": "[encoded data removed]",
      "text/plain": [
       "<Figure size 432x288 with 1 Axes>"
      ]
     },
     "metadata": {
      "needs_background": "light"
     },
     "output_type": "display_data"
    }
   ],
   "source": [
    "bi_cat = {\n",
    "    'NA' : len(NA_sample),\n",
    "    'Other than NA' : len(OtherThanNA_sample)\n",
    "}\n",
    "\n",
    "lists = sorted(bi_cat.items()) # sorted by key, return a list of tuples\n",
    "categories, numb_of_sample = zip(*lists) # unpack a list of pairs into two tuples\n",
    "\n",
    "plt.xticks(rotation='vertical')\n",
    "plt.bar(categories, numb_of_sample, color=\"tab:blue\")\n",
    "plt.title('Number of sample by category')\n",
    "plt.xlabel('categories')\n",
    "plt.ylabel('number of sample')"
   ]
  },
  {
   "cell_type": "markdown",
   "id": "8d9d5ceb",
   "metadata": {
    "papermill": {
     "duration": 0.095906,
     "end_time": "2021-08-24T10:26:31.933828",
     "exception": false,
     "start_time": "2021-08-24T10:26:31.837922",
     "status": "completed"
    },
    "tags": []
   },
   "source": [
    "Hateful by community "
   ]
  },
  {
   "cell_type": "code",
   "execution_count": 19,
   "id": "39b66279",
   "metadata": {
    "execution": {
     "iopub.execute_input": "2021-08-24T10:26:32.151365Z",
     "iopub.status.busy": "2021-08-24T10:26:32.150719Z",
     "iopub.status.idle": "2021-08-24T10:26:32.155803Z",
     "shell.execute_reply": "2021-08-24T10:26:32.156236Z",
     "shell.execute_reply.started": "2021-08-24T10:23:40.943371Z"
    },
    "papermill": {
     "duration": 0.125449,
     "end_time": "2021-08-24T10:26:32.156402",
     "exception": false,
     "start_time": "2021-08-24T10:26:32.030953",
     "status": "completed"
    },
    "tags": []
   },
   "outputs": [],
   "source": [
    "Disable_sample_h = hateful_labels[hateful_labels['Community'] == 'Disable']\n",
    "Women_sample_h = hateful_labels[hateful_labels['Community'] == 'Women']\n",
    "LGBT_sample_h = hateful_labels[hateful_labels['Community'] == 'LGBT']\n",
    "Black_sample_h = hateful_labels[hateful_labels['Community'] == 'Black']\n",
    "Musulman_sample_h = hateful_labels[hateful_labels['Community'] == 'Musulman']\n",
    "FakeNews_sample_h = hateful_labels[hateful_labels['Community'] == 'Fake News']\n",
    "NA_sample_h = hateful_labels[hateful_labels['Community'] == 'Not Applicable']\n",
    "IncitingViolence_sample_h = hateful_labels[hateful_labels['Community'] == 'Inciting Violence']\n",
    "Transgender_sample_h = hateful_labels[hateful_labels['Community'] == 'Transgender']\n",
    "Ginger_sample_h = hateful_labels[hateful_labels['Community'] == 'Ginger']\n",
    "Immigrant_sample_h = hateful_labels[hateful_labels['Community'] == 'Immigrant']\n",
    "Jewish_sample_h = hateful_labels[hateful_labels['Community'] == 'Jewish']\n",
    "PeopleofColor_sample_h = hateful_labels[hateful_labels['Community'] == 'People of Color']\n",
    "White_sample_h = hateful_labels[hateful_labels['Community'] == 'White']\n",
    "Indian_sample_h = hateful_labels[hateful_labels['Community'] == 'Indian']\n",
    "Japanese_sample_h = hateful_labels[hateful_labels['Community'] == 'Japanese']\n",
    "Chinese_sample_h = hateful_labels[hateful_labels['Community'] == 'Chinese']\n",
    "Asian_sample_h = hateful_labels[hateful_labels['Community'] == 'Asian']\n",
    "Politic_sample_h = hateful_labels[hateful_labels['Community'] == 'Politic']\n",
    "German_sample_h = hateful_labels[hateful_labels['Community'] == 'German']\n",
    "Romanian_sample_h = hateful_labels[hateful_labels['Community'] == 'Romania']\n",
    "Christian_sample_h = hateful_labels[hateful_labels['Community'] == 'Christian']"
   ]
  },
  {
   "cell_type": "code",
   "execution_count": 20,
   "id": "bfb9a9d2",
   "metadata": {
    "execution": {
     "iopub.execute_input": "2021-08-24T10:26:32.397956Z",
     "iopub.status.busy": "2021-08-24T10:26:32.394099Z",
     "iopub.status.idle": "2021-08-24T10:26:32.651815Z",
     "shell.execute_reply": "2021-08-24T10:26:32.651200Z",
     "shell.execute_reply.started": "2021-08-24T10:23:40.965885Z"
    },
    "papermill": {
     "duration": 0.397911,
     "end_time": "2021-08-24T10:26:32.651947",
     "exception": false,
     "start_time": "2021-08-24T10:26:32.254036",
     "status": "completed"
    },
    "tags": []
   },
   "outputs": [
    {
     "data": {
      "text/plain": [
       "Text(0, 0.5, 'number of sample')"
      ]
     },
     "execution_count": 20,
     "metadata": {},
     "output_type": "execute_result"
    },
    {
     "data": {
      "image/png": "[encoded data removed]",
      "text/plain": [
       "<Figure size 432x288 with 1 Axes>"
      ]
     },
     "metadata": {
      "needs_background": "light"
     },
     "output_type": "display_data"
    }
   ],
   "source": [
    "H_categories = {\n",
    "'Disable' : len(Disable_sample_h),\n",
    "'Women' : len(Women_sample_h),\n",
    "'LGBT' : len(LGBT_sample_h),\n",
    "'Black' : len(Black_sample_h),\n",
    "'Musulman' : len(Musulman_sample_h),\n",
    "'FakeNews' : len(FakeNews_sample_h),\n",
    "'NA' : len(NA_sample_h),\n",
    "'Inciting Violence' : len(IncitingViolence_sample_h),\n",
    "'Transgender' : len(Transgender_sample_h),\n",
    "'Ginger' : len(Ginger_sample_h),\n",
    "'Immigrant' : len(Immigrant_sample_h),\n",
    "'Jewish' : len(Jewish_sample_h),\n",
    "'People of Color' : len(PeopleofColor_sample_h),\n",
    "'White' : len(White_sample_h),\n",
    "'Indian' : len(Indian_sample_h),\n",
    "'Japanese' : len(Japanese_sample_h),\n",
    "'Chinese' : len(Chinese_sample_h),\n",
    "'Asian' : len(Asian_sample_h),\n",
    "'Politic' : len(Politic_sample_h),\n",
    "'German' : len(German_sample_h),\n",
    "'Romanian' : len(Romanian_sample_h),\n",
    "'Christian' : len(Christian_sample_h)\n",
    "}\n",
    "\n",
    "lists = sorted(H_categories.items()) # sorted by key, return a list of tuples\n",
    "categories, numb_of_sample = zip(*lists) # unpack a list of pairs into two tuples\n",
    "\n",
    "plt.xticks(rotation='vertical')\n",
    "df = plt.bar(categories, numb_of_sample, color=(0.5,0.1,0.5,0.6))\n",
    "plt.title('Number of sample by category')\n",
    "plt.xlabel('categories')\n",
    "plt.ylabel('number of sample')"
   ]
  },
  {
   "cell_type": "markdown",
   "id": "95d0ab84",
   "metadata": {
    "papermill": {
     "duration": 0.097731,
     "end_time": "2021-08-24T10:26:32.848282",
     "exception": false,
     "start_time": "2021-08-24T10:26:32.750551",
     "status": "completed"
    },
    "tags": []
   },
   "source": [
    "Not Hateful by community "
   ]
  },
  {
   "cell_type": "code",
   "execution_count": 21,
   "id": "627857d2",
   "metadata": {
    "execution": {
     "iopub.execute_input": "2021-08-24T10:26:33.072314Z",
     "iopub.status.busy": "2021-08-24T10:26:33.071636Z",
     "iopub.status.idle": "2021-08-24T10:26:33.074059Z",
     "shell.execute_reply": "2021-08-24T10:26:33.073446Z",
     "shell.execute_reply.started": "2021-08-24T10:23:41.253136Z"
    },
    "papermill": {
     "duration": 0.127319,
     "end_time": "2021-08-24T10:26:33.074205",
     "exception": false,
     "start_time": "2021-08-24T10:26:32.946886",
     "status": "completed"
    },
    "tags": []
   },
   "outputs": [],
   "source": [
    "Disable_sample_nh = not_hateful_labels[not_hateful_labels['Community'] == 'Disable']\n",
    "Women_sample_nh = not_hateful_labels[not_hateful_labels['Community'] == 'Women']\n",
    "LGBT_sample_nh = not_hateful_labels[not_hateful_labels['Community'] == 'LGBT']\n",
    "Black_sample_nh = not_hateful_labels[not_hateful_labels['Community'] == 'Black']\n",
    "Musulman_sample_nh = not_hateful_labels[not_hateful_labels['Community'] == 'Musulman']\n",
    "FakeNews_sample_nh = not_hateful_labels[not_hateful_labels['Community'] == 'Fake News']\n",
    "NA_sample_nh = not_hateful_labels[not_hateful_labels['Community'] == 'Not Applicable']\n",
    "IncitingViolence_sample_nh = not_hateful_labels[not_hateful_labels['Community'] == 'Inciting Violence']\n",
    "Transgender_sample_nh = not_hateful_labels[not_hateful_labels['Community'] == 'Transgender']\n",
    "Ginger_sample_nh = not_hateful_labels[not_hateful_labels['Community'] == 'Ginger']\n",
    "Immigrant_sample_nh = not_hateful_labels[not_hateful_labels['Community'] == 'Immigrant']\n",
    "Jewish_sample_nh = not_hateful_labels[not_hateful_labels['Community'] == 'Jewish']\n",
    "PeopleofColor_sample_nh = not_hateful_labels[not_hateful_labels['Community'] == 'People of Color']\n",
    "White_sample_nh = not_hateful_labels[not_hateful_labels['Community'] == 'White']\n",
    "Indian_sample_nh = not_hateful_labels[not_hateful_labels['Community'] == 'Indian']\n",
    "Japanese_sample_nh = not_hateful_labels[not_hateful_labels['Community'] == 'Japanese']\n",
    "Chinese_sample_nh = not_hateful_labels[not_hateful_labels['Community'] == 'Chinese']\n",
    "Asian_sample_nh = not_hateful_labels[not_hateful_labels['Community'] == 'Asian']\n",
    "Politic_sample_nh = not_hateful_labels[not_hateful_labels['Community'] == 'Politic']\n",
    "German_sample_nh = not_hateful_labels[not_hateful_labels['Community'] == 'German']\n",
    "Romanian_sample_nh = not_hateful_labels[not_hateful_labels['Community'] == 'Romania']\n",
    "Christian_sample_nh = not_hateful_labels[not_hateful_labels['Community'] == 'Christian']"
   ]
  },
  {
   "cell_type": "code",
   "execution_count": 22,
   "id": "7d708074",
   "metadata": {
    "execution": {
     "iopub.execute_input": "2021-08-24T10:26:33.311183Z",
     "iopub.status.busy": "2021-08-24T10:26:33.308797Z",
     "iopub.status.idle": "2021-08-24T10:26:33.585456Z",
     "shell.execute_reply": "2021-08-24T10:26:33.585940Z",
     "shell.execute_reply.started": "2021-08-24T10:23:41.276020Z"
    },
    "papermill": {
     "duration": 0.413374,
     "end_time": "2021-08-24T10:26:33.586121",
     "exception": false,
     "start_time": "2021-08-24T10:26:33.172747",
     "status": "completed"
    },
    "tags": []
   },
   "outputs": [
    {
     "data": {
      "text/plain": [
       "Text(0, 0.5, 'number of sample')"
      ]
     },
     "execution_count": 22,
     "metadata": {},
     "output_type": "execute_result"
    },
    {
     "data": {
      "image/png": "[encoded data removed]",
      "text/plain": [
       "<Figure size 432x288 with 1 Axes>"
      ]
     },
     "metadata": {
      "needs_background": "light"
     },
     "output_type": "display_data"
    }
   ],
   "source": [
    "NH_categories = {\n",
    "'Disable' : len(Disable_sample_nh),\n",
    "'Women' : len(Women_sample_nh),\n",
    "'LGBT' : len(LGBT_sample_nh),\n",
    "'Black' : len(Black_sample_nh),\n",
    "'Musulman' : len(Musulman_sample_nh),\n",
    "'FakeNews' : len(FakeNews_sample_nh),\n",
    "'NA' : len(NA_sample_nh),\n",
    "'Inciting Violence' : len(IncitingViolence_sample_nh),\n",
    "'Transgender' : len(Transgender_sample_nh),\n",
    "'Ginger' : len(Ginger_sample_nh),\n",
    "'Immigrant' : len(Immigrant_sample_nh),\n",
    "'Jewish' : len(Jewish_sample_nh),\n",
    "'People of Color' : len(PeopleofColor_sample_nh),\n",
    "'White' : len(White_sample_nh),\n",
    "'Indian' : len(Indian_sample_nh),\n",
    "'Japanese' : len(Japanese_sample_nh),\n",
    "'Chinese' : len(Chinese_sample_nh),\n",
    "'Asian' : len(Asian_sample_nh),\n",
    "'Politic' : len(Politic_sample_nh),\n",
    "'German' : len(German_sample_nh),\n",
    "'Romanian' : len(Romanian_sample_nh),\n",
    "'Christian' : len(Christian_sample_nh)\n",
    "}\n",
    "\n",
    "lists = sorted(NH_categories.items()) # sorted by key, return a list of tuples\n",
    "categories, numb_of_sample = zip(*lists) # unpack a list of pairs into two tuples\n",
    "\n",
    "plt.xticks(rotation='vertical')\n",
    "df = plt.bar(categories, numb_of_sample, color='b')\n",
    "plt.title('Number of sample by category')\n",
    "plt.xlabel('categories')\n",
    "plt.ylabel('number of sample')"
   ]
  },
  {
   "cell_type": "code",
   "execution_count": 23,
   "id": "52fb3baa",
   "metadata": {
    "execution": {
     "iopub.execute_input": "2021-08-24T10:26:33.788909Z",
     "iopub.status.busy": "2021-08-24T10:26:33.787977Z",
     "iopub.status.idle": "2021-08-24T10:26:33.792148Z",
     "shell.execute_reply": "2021-08-24T10:26:33.791509Z",
     "shell.execute_reply.started": "2021-08-24T10:23:41.569076Z"
    },
    "papermill": {
     "duration": 0.107819,
     "end_time": "2021-08-24T10:26:33.792277",
     "exception": false,
     "start_time": "2021-08-24T10:26:33.684458",
     "status": "completed"
    },
    "tags": []
   },
   "outputs": [
    {
     "data": {
      "text/plain": [
       "{'Disable': 55,\n",
       " 'Women': 43,\n",
       " 'LGBT': 20,\n",
       " 'Black': 112,\n",
       " 'Musulman': 93,\n",
       " 'FakeNews': 5,\n",
       " 'NA': 9,\n",
       " 'Inciting Violence': 13,\n",
       " 'Transgender': 13,\n",
       " 'Ginger': 1,\n",
       " 'Immigrant': 12,\n",
       " 'Jewish': 63,\n",
       " 'People of Color': 19,\n",
       " 'White': 11,\n",
       " 'Indian': 2,\n",
       " 'Japanese': 3,\n",
       " 'Chinese': 5,\n",
       " 'Asian': 7,\n",
       " 'Politic': 5,\n",
       " 'German': 1,\n",
       " 'Romanian': 3,\n",
       " 'Christian': 1}"
      ]
     },
     "execution_count": 23,
     "metadata": {},
     "output_type": "execute_result"
    }
   ],
   "source": [
    "H_categories"
   ]
  },
  {
   "cell_type": "markdown",
   "id": "c9ec4c6c",
   "metadata": {
    "papermill": {
     "duration": 0.099498,
     "end_time": "2021-08-24T10:26:33.989253",
     "exception": false,
     "start_time": "2021-08-24T10:26:33.889755",
     "status": "completed"
    },
    "tags": []
   },
   "source": [
    "# Prediction"
   ]
  },
  {
   "cell_type": "code",
   "execution_count": 24,
   "id": "f3704e54",
   "metadata": {
    "execution": {
     "iopub.execute_input": "2021-08-24T10:26:34.206927Z",
     "iopub.status.busy": "2021-08-24T10:26:34.205931Z",
     "iopub.status.idle": "2021-08-24T10:26:34.210530Z",
     "shell.execute_reply": "2021-08-24T10:26:34.209904Z",
     "shell.execute_reply.started": "2021-08-24T10:23:41.578561Z"
    },
    "papermill": {
     "duration": 0.121076,
     "end_time": "2021-08-24T10:26:34.210693",
     "exception": false,
     "start_time": "2021-08-24T10:26:34.089617",
     "status": "completed"
    },
    "tags": []
   },
   "outputs": [
    {
     "data": {
      "text/html": [
       "<div>\n",
       "<style scoped>\n",
       "    .dataframe tbody tr th:only-of-type {\n",
       "        vertical-align: middle;\n",
       "    }\n",
       "\n",
       "    .dataframe tbody tr th {\n",
       "        vertical-align: top;\n",
       "    }\n",
       "\n",
       "    .dataframe thead th {\n",
       "        text-align: right;\n",
       "    }\n",
       "</style>\n",
       "<table border=\"1\" class=\"dataframe\">\n",
       "  <thead>\n",
       "    <tr style=\"text-align: right;\">\n",
       "      <th></th>\n",
       "      <th>id</th>\n",
       "      <th>True Label</th>\n",
       "      <th>Label</th>\n",
       "      <th>Proba</th>\n",
       "      <th>Community</th>\n",
       "      <th>Multi/Uni</th>\n",
       "      <th>Text</th>\n",
       "    </tr>\n",
       "  </thead>\n",
       "  <tbody>\n",
       "    <tr>\n",
       "      <th>0</th>\n",
       "      <td>16395</td>\n",
       "      <td>1</td>\n",
       "      <td>1</td>\n",
       "      <td>0.949035</td>\n",
       "      <td>Disable</td>\n",
       "      <td>multi</td>\n",
       "      <td>handjobs sold seperately</td>\n",
       "    </tr>\n",
       "    <tr>\n",
       "      <th>1</th>\n",
       "      <td>37405</td>\n",
       "      <td>1</td>\n",
       "      <td>1</td>\n",
       "      <td>0.790196</td>\n",
       "      <td>Women</td>\n",
       "      <td>multi</td>\n",
       "      <td>introducing fidget spinner for women</td>\n",
       "    </tr>\n",
       "    <tr>\n",
       "      <th>2</th>\n",
       "      <td>94180</td>\n",
       "      <td>1</td>\n",
       "      <td>1</td>\n",
       "      <td>0.689591</td>\n",
       "      <td>LGBT</td>\n",
       "      <td>uni</td>\n",
       "      <td>happy pride month let's go beat up lesbians</td>\n",
       "    </tr>\n",
       "    <tr>\n",
       "      <th>3</th>\n",
       "      <td>54321</td>\n",
       "      <td>1</td>\n",
       "      <td>1</td>\n",
       "      <td>0.698236</td>\n",
       "      <td>Black</td>\n",
       "      <td>multi</td>\n",
       "      <td>laughs in [majority of u.s crime rate]</td>\n",
       "    </tr>\n",
       "    <tr>\n",
       "      <th>4</th>\n",
       "      <td>97015</td>\n",
       "      <td>1</td>\n",
       "      <td>1</td>\n",
       "      <td>0.993769</td>\n",
       "      <td>Musulman</td>\n",
       "      <td>multi</td>\n",
       "      <td>finds out those 72 virgins.. are goats</td>\n",
       "    </tr>\n",
       "    <tr>\n",
       "      <th>...</th>\n",
       "      <td>...</td>\n",
       "      <td>...</td>\n",
       "      <td>...</td>\n",
       "      <td>...</td>\n",
       "      <td>...</td>\n",
       "      <td>...</td>\n",
       "      <td>...</td>\n",
       "    </tr>\n",
       "    <tr>\n",
       "      <th>995</th>\n",
       "      <td>3869</td>\n",
       "      <td>0</td>\n",
       "      <td>0</td>\n",
       "      <td>0.000301</td>\n",
       "      <td>Not Applicable</td>\n",
       "      <td>multi</td>\n",
       "      <td>a mother's love for the child is a divine thing</td>\n",
       "    </tr>\n",
       "    <tr>\n",
       "      <th>996</th>\n",
       "      <td>23817</td>\n",
       "      <td>0</td>\n",
       "      <td>0</td>\n",
       "      <td>0.000613</td>\n",
       "      <td>Not Applicable</td>\n",
       "      <td>uni</td>\n",
       "      <td>sea monkeys</td>\n",
       "    </tr>\n",
       "    <tr>\n",
       "      <th>997</th>\n",
       "      <td>56280</td>\n",
       "      <td>0</td>\n",
       "      <td>1</td>\n",
       "      <td>0.995270</td>\n",
       "      <td>Not Applicable</td>\n",
       "      <td>multi</td>\n",
       "      <td>little miss muffet sat on her tuffet</td>\n",
       "    </tr>\n",
       "    <tr>\n",
       "      <th>998</th>\n",
       "      <td>29384</td>\n",
       "      <td>0</td>\n",
       "      <td>0</td>\n",
       "      <td>0.020082</td>\n",
       "      <td>Not Applicable</td>\n",
       "      <td>multi</td>\n",
       "      <td>they're in a row</td>\n",
       "    </tr>\n",
       "    <tr>\n",
       "      <th>999</th>\n",
       "      <td>34127</td>\n",
       "      <td>0</td>\n",
       "      <td>1</td>\n",
       "      <td>0.510685</td>\n",
       "      <td>Musulman</td>\n",
       "      <td>multi</td>\n",
       "      <td>that feeling when you win a fifa game after be...</td>\n",
       "    </tr>\n",
       "  </tbody>\n",
       "</table>\n",
       "<p>1000 rows × 7 columns</p>\n",
       "</div>"
      ],
      "text/plain": [
       "        id  True Label  Label     Proba       Community Multi/Uni  \\\n",
       "0    16395           1      1  0.949035         Disable     multi   \n",
       "1    37405           1      1  0.790196           Women     multi   \n",
       "2    94180           1      1  0.689591            LGBT       uni   \n",
       "3    54321           1      1  0.698236           Black     multi   \n",
       "4    97015           1      1  0.993769        Musulman     multi   \n",
       "..     ...         ...    ...       ...             ...       ...   \n",
       "995   3869           0      0  0.000301  Not Applicable     multi   \n",
       "996  23817           0      0  0.000613  Not Applicable       uni   \n",
       "997  56280           0      1  0.995270  Not Applicable     multi   \n",
       "998  29384           0      0  0.020082  Not Applicable     multi   \n",
       "999  34127           0      1  0.510685        Musulman     multi   \n",
       "\n",
       "                                                  Text  \n",
       "0                             handjobs sold seperately  \n",
       "1                 introducing fidget spinner for women  \n",
       "2          happy pride month let's go beat up lesbians  \n",
       "3               laughs in [majority of u.s crime rate]  \n",
       "4               finds out those 72 virgins.. are goats  \n",
       "..                                                 ...  \n",
       "995    a mother's love for the child is a divine thing  \n",
       "996                                        sea monkeys  \n",
       "997               little miss muffet sat on her tuffet  \n",
       "998                                   they're in a row  \n",
       "999  that feeling when you win a fifa game after be...  \n",
       "\n",
       "[1000 rows x 7 columns]"
      ]
     },
     "execution_count": 24,
     "metadata": {},
     "output_type": "execute_result"
    }
   ],
   "source": [
    "Multi_dataset"
   ]
  },
  {
   "cell_type": "code",
   "execution_count": 25,
   "id": "7ba8e3e0",
   "metadata": {
    "execution": {
     "iopub.execute_input": "2021-08-24T10:26:34.419113Z",
     "iopub.status.busy": "2021-08-24T10:26:34.418380Z",
     "iopub.status.idle": "2021-08-24T10:26:35.463209Z",
     "shell.execute_reply": "2021-08-24T10:26:35.462700Z",
     "shell.execute_reply.started": "2021-08-24T10:23:41.603065Z"
    },
    "papermill": {
     "duration": 1.15116,
     "end_time": "2021-08-24T10:26:35.463347",
     "exception": false,
     "start_time": "2021-08-24T10:26:34.312187",
     "status": "completed"
    },
    "tags": []
   },
   "outputs": [],
   "source": [
    "from sklearn.metrics import confusion_matrix\n",
    "import seaborn as sns\n",
    "from sklearn import metrics\n",
    "from sklearn.metrics import roc_auc_score"
   ]
  },
  {
   "cell_type": "code",
   "execution_count": 26,
   "id": "7fe9f436",
   "metadata": {
    "execution": {
     "iopub.execute_input": "2021-08-24T10:26:35.668285Z",
     "iopub.status.busy": "2021-08-24T10:26:35.667695Z",
     "iopub.status.idle": "2021-08-24T10:26:35.670281Z",
     "shell.execute_reply": "2021-08-24T10:26:35.669769Z",
     "shell.execute_reply.started": "2021-08-24T10:23:42.801483Z"
    },
    "papermill": {
     "duration": 0.106726,
     "end_time": "2021-08-24T10:26:35.670417",
     "exception": false,
     "start_time": "2021-08-24T10:26:35.563691",
     "status": "completed"
    },
    "tags": []
   },
   "outputs": [],
   "source": [
    "y_actual = list(Multi_dataset['True Label'])\n",
    "pred_set = list(Multi_dataset['Label'])"
   ]
  },
  {
   "cell_type": "code",
   "execution_count": 27,
   "id": "3d573f32",
   "metadata": {
    "execution": {
     "iopub.execute_input": "2021-08-24T10:26:35.875490Z",
     "iopub.status.busy": "2021-08-24T10:26:35.874897Z",
     "iopub.status.idle": "2021-08-24T10:26:35.880068Z",
     "shell.execute_reply": "2021-08-24T10:26:35.879611Z",
     "shell.execute_reply.started": "2021-08-24T10:23:42.808122Z"
    },
    "papermill": {
     "duration": 0.109345,
     "end_time": "2021-08-24T10:26:35.880205",
     "exception": false,
     "start_time": "2021-08-24T10:26:35.770860",
     "status": "completed"
    },
    "tags": []
   },
   "outputs": [
    {
     "name": "stdout",
     "output_type": "stream",
     "text": [
      "AUC:  0.5367721470885882\n"
     ]
    }
   ],
   "source": [
    "print(\"AUC: \", roc_auc_score(y_actual, pred_set))"
   ]
  },
  {
   "cell_type": "code",
   "execution_count": 28,
   "id": "fbaa0d3d",
   "metadata": {
    "execution": {
     "iopub.execute_input": "2021-08-24T10:26:36.085935Z",
     "iopub.status.busy": "2021-08-24T10:26:36.085245Z",
     "iopub.status.idle": "2021-08-24T10:26:36.326246Z",
     "shell.execute_reply": "2021-08-24T10:26:36.326750Z",
     "shell.execute_reply.started": "2021-08-24T10:25:56.932348Z"
    },
    "papermill": {
     "duration": 0.347241,
     "end_time": "2021-08-24T10:26:36.326916",
     "exception": false,
     "start_time": "2021-08-24T10:26:35.979675",
     "status": "completed"
    },
    "tags": []
   },
   "outputs": [
    {
     "data": {
      "text/plain": [
       "Text(33.0, 0.5, 'Actual labels')"
      ]
     },
     "execution_count": 28,
     "metadata": {},
     "output_type": "execute_result"
    },
    {
     "data": {
      "image/png": "[encoded data removed]",
      "text/plain": [
       "<Figure size 432x288 with 2 Axes>"
      ]
     },
     "metadata": {
      "needs_background": "light"
     },
     "output_type": "display_data"
    }
   ],
   "source": [
    "cf_matrix = confusion_matrix(y_actual, pred_set)\n",
    "\n",
    "plt.title('Multimodal DrivenData \\n Confusion matrix displaying correctly and uncorrectly predicted labels')\n",
    "sns.heatmap(cf_matrix, annot=True, fmt='d')\n",
    "plt.xlabel('Predicted labels')\n",
    "plt.ylabel('Actual labels')"
   ]
  },
  {
   "cell_type": "code",
   "execution_count": 29,
   "id": "1c4ad309",
   "metadata": {
    "execution": {
     "iopub.execute_input": "2021-08-24T10:26:36.535992Z",
     "iopub.status.busy": "2021-08-24T10:26:36.535056Z",
     "iopub.status.idle": "2021-08-24T10:26:36.541228Z",
     "shell.execute_reply": "2021-08-24T10:26:36.541683Z",
     "shell.execute_reply.started": "2021-08-24T10:23:43.103518Z"
    },
    "papermill": {
     "duration": 0.113569,
     "end_time": "2021-08-24T10:26:36.541848",
     "exception": false,
     "start_time": "2021-08-24T10:26:36.428279",
     "status": "completed"
    },
    "tags": []
   },
   "outputs": [],
   "source": [
    "not_hateful_labels = Multi_dataset[Multi_dataset['True Label'] == 0]\n",
    "hateful_labels = Multi_dataset[Multi_dataset['True Label'] == 1]"
   ]
  },
  {
   "cell_type": "code",
   "execution_count": 30,
   "id": "a7aae843",
   "metadata": {
    "execution": {
     "iopub.execute_input": "2021-08-24T10:26:36.753463Z",
     "iopub.status.busy": "2021-08-24T10:26:36.752852Z",
     "iopub.status.idle": "2021-08-24T10:26:36.754666Z",
     "shell.execute_reply": "2021-08-24T10:26:36.755120Z",
     "shell.execute_reply.started": "2021-08-24T10:23:43.112529Z"
    },
    "papermill": {
     "duration": 0.11256,
     "end_time": "2021-08-24T10:26:36.755271",
     "exception": false,
     "start_time": "2021-08-24T10:26:36.642711",
     "status": "completed"
    },
    "tags": []
   },
   "outputs": [],
   "source": [
    "TP = not_hateful_labels[not_hateful_labels['Label'] == 0]\n",
    "TN = hateful_labels[hateful_labels['Label'] == 1]\n",
    "FP = hateful_labels[hateful_labels['Label'] == 0]\n",
    "FN = not_hateful_labels[not_hateful_labels['Label'] == 1]"
   ]
  },
  {
   "cell_type": "code",
   "execution_count": 31,
   "id": "bd71c342",
   "metadata": {
    "execution": {
     "iopub.execute_input": "2021-08-24T10:26:36.962285Z",
     "iopub.status.busy": "2021-08-24T10:26:36.961656Z",
     "iopub.status.idle": "2021-08-24T10:26:36.967861Z",
     "shell.execute_reply": "2021-08-24T10:26:36.968366Z",
     "shell.execute_reply.started": "2021-08-24T10:23:43.130366Z"
    },
    "papermill": {
     "duration": 0.111372,
     "end_time": "2021-08-24T10:26:36.968533",
     "exception": false,
     "start_time": "2021-08-24T10:26:36.857161",
     "status": "completed"
    },
    "tags": []
   },
   "outputs": [
    {
     "name": "stdout",
     "output_type": "stream",
     "text": [
      "Number of not hateful correctly classify:  326\n",
      "Number of not hateful wrongly classify as hateful:  175\n",
      "Number of hateful correctly classify as hateful:  211\n",
      "Number of hateful wrongly classify as not hateful:  288\n"
     ]
    }
   ],
   "source": [
    "print(\"Number of not hateful correctly classify: \", len(TP))\n",
    "print(\"Number of not hateful wrongly classify as hateful: \", len(FN))\n",
    "print(\"Number of hateful correctly classify as hateful: \", len(TN))\n",
    "print(\"Number of hateful wrongly classify as not hateful: \", len(FP))"
   ]
  },
  {
   "cell_type": "code",
   "execution_count": 32,
   "id": "72664067",
   "metadata": {
    "execution": {
     "iopub.execute_input": "2021-08-24T10:26:37.179220Z",
     "iopub.status.busy": "2021-08-24T10:26:37.178492Z",
     "iopub.status.idle": "2021-08-24T10:26:37.181494Z",
     "shell.execute_reply": "2021-08-24T10:26:37.181991Z",
     "shell.execute_reply.started": "2021-08-24T10:23:43.146611Z"
    },
    "papermill": {
     "duration": 0.110844,
     "end_time": "2021-08-24T10:26:37.182149",
     "exception": false,
     "start_time": "2021-08-24T10:26:37.071305",
     "status": "completed"
    },
    "tags": []
   },
   "outputs": [
    {
     "data": {
      "text/plain": [
       "0.537"
      ]
     },
     "execution_count": 32,
     "metadata": {},
     "output_type": "execute_result"
    }
   ],
   "source": [
    "#Accuracy\n",
    "\n",
    "Accuracy_ = (len(TP) + len(TN)) / (len(TP) + len(FP) + len(TN) + len(FN))\n",
    "Accuracy_"
   ]
  },
  {
   "cell_type": "code",
   "execution_count": 33,
   "id": "46d20558",
   "metadata": {
    "execution": {
     "iopub.execute_input": "2021-08-24T10:26:37.390635Z",
     "iopub.status.busy": "2021-08-24T10:26:37.390007Z",
     "iopub.status.idle": "2021-08-24T10:26:37.395556Z",
     "shell.execute_reply": "2021-08-24T10:26:37.396255Z",
     "shell.execute_reply.started": "2021-08-24T10:23:43.159578Z"
    },
    "papermill": {
     "duration": 0.111514,
     "end_time": "2021-08-24T10:26:37.396462",
     "exception": false,
     "start_time": "2021-08-24T10:26:37.284948",
     "status": "completed"
    },
    "tags": []
   },
   "outputs": [
    {
     "name": "stdout",
     "output_type": "stream",
     "text": [
      "The precision score is: 0.5466321243523317\n"
     ]
    }
   ],
   "source": [
    "# precision is the ratio of correctly predicted hateful memes to all pedicted hateful (so 129 and the wrong classified 52)\n",
    "#precision = TN / (TN + FN)\n",
    "\n",
    "precision = len(TN) / (len(TN) + len(FN))\n",
    "print( \"The precision score is:\", precision)"
   ]
  },
  {
   "cell_type": "code",
   "execution_count": 34,
   "id": "caa0e107",
   "metadata": {
    "execution": {
     "iopub.execute_input": "2021-08-24T10:26:37.609060Z",
     "iopub.status.busy": "2021-08-24T10:26:37.608314Z",
     "iopub.status.idle": "2021-08-24T10:26:37.611571Z",
     "shell.execute_reply": "2021-08-24T10:26:37.612318Z",
     "shell.execute_reply.started": "2021-08-24T10:23:43.174096Z"
    },
    "papermill": {
     "duration": 0.112509,
     "end_time": "2021-08-24T10:26:37.612528",
     "exception": false,
     "start_time": "2021-08-24T10:26:37.500019",
     "status": "completed"
    },
    "tags": []
   },
   "outputs": [
    {
     "name": "stdout",
     "output_type": "stream",
     "text": [
      "The recall score is: 0.4228456913827655\n"
     ]
    }
   ],
   "source": [
    "# recall is the ratio of correctly predicted hateful to all actual hateful (so 129 over the entire hateful meme in the dataset)\n",
    "#recall = TN / (TN + FP)\n",
    "\n",
    "recall = len(TN) / (len(TN) + len(FP))\n",
    "print(\"The recall score is:\", recall)"
   ]
  },
  {
   "cell_type": "code",
   "execution_count": 35,
   "id": "1af9c9cd",
   "metadata": {
    "execution": {
     "iopub.execute_input": "2021-08-24T10:26:37.825628Z",
     "iopub.status.busy": "2021-08-24T10:26:37.824826Z",
     "iopub.status.idle": "2021-08-24T10:26:37.828653Z",
     "shell.execute_reply": "2021-08-24T10:26:37.829765Z",
     "shell.execute_reply.started": "2021-08-24T10:23:43.184905Z"
    },
    "papermill": {
     "duration": 0.114223,
     "end_time": "2021-08-24T10:26:37.830023",
     "exception": false,
     "start_time": "2021-08-24T10:26:37.715800",
     "status": "completed"
    },
    "tags": []
   },
   "outputs": [
    {
     "name": "stdout",
     "output_type": "stream",
     "text": [
      "The F1 score is: 0.4768361581920904\n"
     ]
    }
   ],
   "source": [
    "#F1 score\n",
    "#The problem of the accuracy is that this metric doesn't represent well the performance of the model on both classes \n",
    "\n",
    "F1Score = (2 * precision * recall) / (precision + recall)\n",
    "print(\"The F1 score is:\", F1Score)"
   ]
  },
  {
   "cell_type": "code",
   "execution_count": 36,
   "id": "1de58f28",
   "metadata": {
    "execution": {
     "iopub.execute_input": "2021-08-24T10:26:38.046726Z",
     "iopub.status.busy": "2021-08-24T10:26:38.045717Z",
     "iopub.status.idle": "2021-08-24T10:26:38.049606Z",
     "shell.execute_reply": "2021-08-24T10:26:38.050090Z",
     "shell.execute_reply.started": "2021-08-24T10:23:43.197467Z"
    },
    "papermill": {
     "duration": 0.11491,
     "end_time": "2021-08-24T10:26:38.050268",
     "exception": false,
     "start_time": "2021-08-24T10:26:37.935358",
     "status": "completed"
    },
    "tags": []
   },
   "outputs": [
    {
     "name": "stdout",
     "output_type": "stream",
     "text": [
      "Classified  65.06986027944112 % of the not hateful memes\n",
      "Classified  42.28456913827655 % of the hateful memes\n"
     ]
    }
   ],
   "source": [
    "#Accuracy on not hateful meme\n",
    "acc_NHM = len(TP) / (len(TP) + len(FN)) * 100\n",
    "print(\"Classified \", acc_NHM, \"%\", \"of the not hateful memes\")\n",
    "\n",
    "#Accuracy on not hateful meme\n",
    "acc_HM = len(TN) / (len(TN) + len(FP)) * 100\n",
    "print(\"Classified \", acc_HM, \"%\", \"of the hateful memes\")"
   ]
  },
  {
   "cell_type": "markdown",
   "id": "f8ba4795",
   "metadata": {
    "papermill": {
     "duration": 0.103807,
     "end_time": "2021-08-24T10:26:38.257887",
     "exception": false,
     "start_time": "2021-08-24T10:26:38.154080",
     "status": "completed"
    },
    "tags": []
   },
   "source": [
    "# Exploring result in TN dataset"
   ]
  },
  {
   "cell_type": "code",
   "execution_count": 37,
   "id": "ddc2fe09",
   "metadata": {
    "execution": {
     "iopub.execute_input": "2021-08-24T10:26:38.483872Z",
     "iopub.status.busy": "2021-08-24T10:26:38.483215Z",
     "iopub.status.idle": "2021-08-24T10:26:38.489788Z",
     "shell.execute_reply": "2021-08-24T10:26:38.490299Z",
     "shell.execute_reply.started": "2021-08-24T10:23:43.210926Z"
    },
    "papermill": {
     "duration": 0.127238,
     "end_time": "2021-08-24T10:26:38.490463",
     "exception": false,
     "start_time": "2021-08-24T10:26:38.363225",
     "status": "completed"
    },
    "tags": []
   },
   "outputs": [
    {
     "data": {
      "text/html": [
       "<div>\n",
       "<style scoped>\n",
       "    .dataframe tbody tr th:only-of-type {\n",
       "        vertical-align: middle;\n",
       "    }\n",
       "\n",
       "    .dataframe tbody tr th {\n",
       "        vertical-align: top;\n",
       "    }\n",
       "\n",
       "    .dataframe thead th {\n",
       "        text-align: right;\n",
       "    }\n",
       "</style>\n",
       "<table border=\"1\" class=\"dataframe\">\n",
       "  <thead>\n",
       "    <tr style=\"text-align: right;\">\n",
       "      <th></th>\n",
       "      <th>id</th>\n",
       "      <th>True Label</th>\n",
       "      <th>Label</th>\n",
       "      <th>Proba</th>\n",
       "      <th>Community</th>\n",
       "      <th>Multi/Uni</th>\n",
       "      <th>Text</th>\n",
       "    </tr>\n",
       "  </thead>\n",
       "  <tbody>\n",
       "    <tr>\n",
       "      <th>0</th>\n",
       "      <td>16395</td>\n",
       "      <td>1</td>\n",
       "      <td>1</td>\n",
       "      <td>0.949035</td>\n",
       "      <td>Disable</td>\n",
       "      <td>multi</td>\n",
       "      <td>handjobs sold seperately</td>\n",
       "    </tr>\n",
       "    <tr>\n",
       "      <th>1</th>\n",
       "      <td>37405</td>\n",
       "      <td>1</td>\n",
       "      <td>1</td>\n",
       "      <td>0.790196</td>\n",
       "      <td>Women</td>\n",
       "      <td>multi</td>\n",
       "      <td>introducing fidget spinner for women</td>\n",
       "    </tr>\n",
       "    <tr>\n",
       "      <th>2</th>\n",
       "      <td>94180</td>\n",
       "      <td>1</td>\n",
       "      <td>1</td>\n",
       "      <td>0.689591</td>\n",
       "      <td>LGBT</td>\n",
       "      <td>uni</td>\n",
       "      <td>happy pride month let's go beat up lesbians</td>\n",
       "    </tr>\n",
       "    <tr>\n",
       "      <th>3</th>\n",
       "      <td>54321</td>\n",
       "      <td>1</td>\n",
       "      <td>1</td>\n",
       "      <td>0.698236</td>\n",
       "      <td>Black</td>\n",
       "      <td>multi</td>\n",
       "      <td>laughs in [majority of u.s crime rate]</td>\n",
       "    </tr>\n",
       "    <tr>\n",
       "      <th>4</th>\n",
       "      <td>97015</td>\n",
       "      <td>1</td>\n",
       "      <td>1</td>\n",
       "      <td>0.993769</td>\n",
       "      <td>Musulman</td>\n",
       "      <td>multi</td>\n",
       "      <td>finds out those 72 virgins.. are goats</td>\n",
       "    </tr>\n",
       "    <tr>\n",
       "      <th>...</th>\n",
       "      <td>...</td>\n",
       "      <td>...</td>\n",
       "      <td>...</td>\n",
       "      <td>...</td>\n",
       "      <td>...</td>\n",
       "      <td>...</td>\n",
       "      <td>...</td>\n",
       "    </tr>\n",
       "    <tr>\n",
       "      <th>962</th>\n",
       "      <td>95260</td>\n",
       "      <td>1</td>\n",
       "      <td>1</td>\n",
       "      <td>0.999951</td>\n",
       "      <td>Black</td>\n",
       "      <td>multi</td>\n",
       "      <td>what's black and screams harvey price answerin...</td>\n",
       "    </tr>\n",
       "    <tr>\n",
       "      <th>969</th>\n",
       "      <td>93820</td>\n",
       "      <td>1</td>\n",
       "      <td>1</td>\n",
       "      <td>0.926298</td>\n",
       "      <td>LGBT</td>\n",
       "      <td>uni</td>\n",
       "      <td>we should legally be allowed to shoot fat g*y ...</td>\n",
       "    </tr>\n",
       "    <tr>\n",
       "      <th>980</th>\n",
       "      <td>68749</td>\n",
       "      <td>1</td>\n",
       "      <td>1</td>\n",
       "      <td>0.674431</td>\n",
       "      <td>Musulman</td>\n",
       "      <td>multi</td>\n",
       "      <td>\"my name is osama bin laden and this is jackass\"</td>\n",
       "    </tr>\n",
       "    <tr>\n",
       "      <th>985</th>\n",
       "      <td>94175</td>\n",
       "      <td>1</td>\n",
       "      <td>1</td>\n",
       "      <td>0.989739</td>\n",
       "      <td>Black</td>\n",
       "      <td>multi</td>\n",
       "      <td>\"we're his kids and he hasn't returned. yeah t...</td>\n",
       "    </tr>\n",
       "    <tr>\n",
       "      <th>992</th>\n",
       "      <td>31405</td>\n",
       "      <td>1</td>\n",
       "      <td>1</td>\n",
       "      <td>0.995903</td>\n",
       "      <td>Black</td>\n",
       "      <td>multi</td>\n",
       "      <td>\"they were uneducated false. they all had thei...</td>\n",
       "    </tr>\n",
       "  </tbody>\n",
       "</table>\n",
       "<p>211 rows × 7 columns</p>\n",
       "</div>"
      ],
      "text/plain": [
       "        id  True Label  Label     Proba Community Multi/Uni  \\\n",
       "0    16395           1      1  0.949035   Disable     multi   \n",
       "1    37405           1      1  0.790196     Women     multi   \n",
       "2    94180           1      1  0.689591      LGBT       uni   \n",
       "3    54321           1      1  0.698236     Black     multi   \n",
       "4    97015           1      1  0.993769  Musulman     multi   \n",
       "..     ...         ...    ...       ...       ...       ...   \n",
       "962  95260           1      1  0.999951     Black     multi   \n",
       "969  93820           1      1  0.926298      LGBT       uni   \n",
       "980  68749           1      1  0.674431  Musulman     multi   \n",
       "985  94175           1      1  0.989739     Black     multi   \n",
       "992  31405           1      1  0.995903     Black     multi   \n",
       "\n",
       "                                                  Text  \n",
       "0                             handjobs sold seperately  \n",
       "1                 introducing fidget spinner for women  \n",
       "2          happy pride month let's go beat up lesbians  \n",
       "3               laughs in [majority of u.s crime rate]  \n",
       "4               finds out those 72 virgins.. are goats  \n",
       "..                                                 ...  \n",
       "962  what's black and screams harvey price answerin...  \n",
       "969  we should legally be allowed to shoot fat g*y ...  \n",
       "980   \"my name is osama bin laden and this is jackass\"  \n",
       "985  \"we're his kids and he hasn't returned. yeah t...  \n",
       "992  \"they were uneducated false. they all had thei...  \n",
       "\n",
       "[211 rows x 7 columns]"
      ]
     },
     "execution_count": 37,
     "metadata": {},
     "output_type": "execute_result"
    }
   ],
   "source": [
    "TN"
   ]
  },
  {
   "cell_type": "code",
   "execution_count": 38,
   "id": "360e41f6",
   "metadata": {
    "execution": {
     "iopub.execute_input": "2021-08-24T10:26:38.719486Z",
     "iopub.status.busy": "2021-08-24T10:26:38.706951Z",
     "iopub.status.idle": "2021-08-24T10:26:38.723869Z",
     "shell.execute_reply": "2021-08-24T10:26:38.723236Z",
     "shell.execute_reply.started": "2021-08-24T10:23:43.241494Z"
    },
    "papermill": {
     "duration": 0.127943,
     "end_time": "2021-08-24T10:26:38.724008",
     "exception": false,
     "start_time": "2021-08-24T10:26:38.596065",
     "status": "completed"
    },
    "tags": []
   },
   "outputs": [
    {
     "data": {
      "text/html": [
       "<div>\n",
       "<style scoped>\n",
       "    .dataframe tbody tr th:only-of-type {\n",
       "        vertical-align: middle;\n",
       "    }\n",
       "\n",
       "    .dataframe tbody tr th {\n",
       "        vertical-align: top;\n",
       "    }\n",
       "\n",
       "    .dataframe thead th {\n",
       "        text-align: right;\n",
       "    }\n",
       "</style>\n",
       "<table border=\"1\" class=\"dataframe\">\n",
       "  <thead>\n",
       "    <tr style=\"text-align: right;\">\n",
       "      <th></th>\n",
       "      <th>id</th>\n",
       "      <th>True Label</th>\n",
       "      <th>Label</th>\n",
       "      <th>Proba</th>\n",
       "      <th>Community</th>\n",
       "      <th>Multi/Uni</th>\n",
       "      <th>Text</th>\n",
       "    </tr>\n",
       "  </thead>\n",
       "  <tbody>\n",
       "    <tr>\n",
       "      <th>259</th>\n",
       "      <td>9357</td>\n",
       "      <td>1</td>\n",
       "      <td>1</td>\n",
       "      <td>0.999999</td>\n",
       "      <td>Jewish</td>\n",
       "      <td>multi</td>\n",
       "      <td>when you fart next to the jewish kid, and real...</td>\n",
       "    </tr>\n",
       "    <tr>\n",
       "      <th>21</th>\n",
       "      <td>86139</td>\n",
       "      <td>1</td>\n",
       "      <td>1</td>\n",
       "      <td>0.999999</td>\n",
       "      <td>Women</td>\n",
       "      <td>multi</td>\n",
       "      <td>what do i have in common with cow pies? xxx th...</td>\n",
       "    </tr>\n",
       "    <tr>\n",
       "      <th>803</th>\n",
       "      <td>23694</td>\n",
       "      <td>1</td>\n",
       "      <td>1</td>\n",
       "      <td>0.999999</td>\n",
       "      <td>Musulman</td>\n",
       "      <td>uni</td>\n",
       "      <td>\"we will take over politically, oust the const...</td>\n",
       "    </tr>\n",
       "    <tr>\n",
       "      <th>325</th>\n",
       "      <td>47680</td>\n",
       "      <td>1</td>\n",
       "      <td>1</td>\n",
       "      <td>0.999998</td>\n",
       "      <td>Black</td>\n",
       "      <td>multi</td>\n",
       "      <td>spiders are like him not all of them are dange...</td>\n",
       "    </tr>\n",
       "    <tr>\n",
       "      <th>378</th>\n",
       "      <td>73049</td>\n",
       "      <td>1</td>\n",
       "      <td>1</td>\n",
       "      <td>0.999998</td>\n",
       "      <td>Transgender</td>\n",
       "      <td>multi</td>\n",
       "      <td>i was asked who my favourite x-men character w...</td>\n",
       "    </tr>\n",
       "    <tr>\n",
       "      <th>...</th>\n",
       "      <td>...</td>\n",
       "      <td>...</td>\n",
       "      <td>...</td>\n",
       "      <td>...</td>\n",
       "      <td>...</td>\n",
       "      <td>...</td>\n",
       "      <td>...</td>\n",
       "    </tr>\n",
       "    <tr>\n",
       "      <th>323</th>\n",
       "      <td>8541</td>\n",
       "      <td>1</td>\n",
       "      <td>1</td>\n",
       "      <td>0.562129</td>\n",
       "      <td>Disable</td>\n",
       "      <td>multi</td>\n",
       "      <td>when your test comes back and you got a 47 out...</td>\n",
       "    </tr>\n",
       "    <tr>\n",
       "      <th>234</th>\n",
       "      <td>90814</td>\n",
       "      <td>1</td>\n",
       "      <td>1</td>\n",
       "      <td>0.539335</td>\n",
       "      <td>Black</td>\n",
       "      <td>multi</td>\n",
       "      <td>being able to call someone \"mine\"</td>\n",
       "    </tr>\n",
       "    <tr>\n",
       "      <th>157</th>\n",
       "      <td>21530</td>\n",
       "      <td>1</td>\n",
       "      <td>1</td>\n",
       "      <td>0.524767</td>\n",
       "      <td>Musulman</td>\n",
       "      <td>multi</td>\n",
       "      <td>went down on a muslim bitch. her pussy was the...</td>\n",
       "    </tr>\n",
       "    <tr>\n",
       "      <th>927</th>\n",
       "      <td>34297</td>\n",
       "      <td>1</td>\n",
       "      <td>1</td>\n",
       "      <td>0.515690</td>\n",
       "      <td>Jewish</td>\n",
       "      <td>multi</td>\n",
       "      <td>feeling cute. might kill 6 million later...idk</td>\n",
       "    </tr>\n",
       "    <tr>\n",
       "      <th>44</th>\n",
       "      <td>89105</td>\n",
       "      <td>1</td>\n",
       "      <td>1</td>\n",
       "      <td>0.512807</td>\n",
       "      <td>Disable</td>\n",
       "      <td>multi</td>\n",
       "      <td>flight attendant: *yawns* deaf passengers:</td>\n",
       "    </tr>\n",
       "  </tbody>\n",
       "</table>\n",
       "<p>211 rows × 7 columns</p>\n",
       "</div>"
      ],
      "text/plain": [
       "        id  True Label  Label     Proba    Community Multi/Uni  \\\n",
       "259   9357           1      1  0.999999       Jewish     multi   \n",
       "21   86139           1      1  0.999999        Women     multi   \n",
       "803  23694           1      1  0.999999     Musulman       uni   \n",
       "325  47680           1      1  0.999998        Black     multi   \n",
       "378  73049           1      1  0.999998  Transgender     multi   \n",
       "..     ...         ...    ...       ...          ...       ...   \n",
       "323   8541           1      1  0.562129      Disable     multi   \n",
       "234  90814           1      1  0.539335        Black     multi   \n",
       "157  21530           1      1  0.524767     Musulman     multi   \n",
       "927  34297           1      1  0.515690       Jewish     multi   \n",
       "44   89105           1      1  0.512807      Disable     multi   \n",
       "\n",
       "                                                  Text  \n",
       "259  when you fart next to the jewish kid, and real...  \n",
       "21   what do i have in common with cow pies? xxx th...  \n",
       "803  \"we will take over politically, oust the const...  \n",
       "325  spiders are like him not all of them are dange...  \n",
       "378  i was asked who my favourite x-men character w...  \n",
       "..                                                 ...  \n",
       "323  when your test comes back and you got a 47 out...  \n",
       "234                  being able to call someone \"mine\"  \n",
       "157  went down on a muslim bitch. her pussy was the...  \n",
       "927     feeling cute. might kill 6 million later...idk  \n",
       "44          flight attendant: *yawns* deaf passengers:  \n",
       "\n",
       "[211 rows x 7 columns]"
      ]
     },
     "execution_count": 38,
     "metadata": {},
     "output_type": "execute_result"
    }
   ],
   "source": [
    "TN_sortedFrame = TN.sort_values(\"Proba\", ascending=False)\n",
    "TN_sortedFrame"
   ]
  },
  {
   "cell_type": "code",
   "execution_count": 39,
   "id": "bfe81366",
   "metadata": {
    "execution": {
     "iopub.execute_input": "2021-08-24T10:26:38.952812Z",
     "iopub.status.busy": "2021-08-24T10:26:38.951835Z",
     "iopub.status.idle": "2021-08-24T10:26:38.955782Z",
     "shell.execute_reply": "2021-08-24T10:26:38.956233Z",
     "shell.execute_reply.started": "2021-08-24T10:23:43.264606Z"
    },
    "papermill": {
     "duration": 0.12666,
     "end_time": "2021-08-24T10:26:38.956405",
     "exception": false,
     "start_time": "2021-08-24T10:26:38.829745",
     "status": "completed"
    },
    "tags": []
   },
   "outputs": [
    {
     "data": {
      "text/html": [
       "<div>\n",
       "<style scoped>\n",
       "    .dataframe tbody tr th:only-of-type {\n",
       "        vertical-align: middle;\n",
       "    }\n",
       "\n",
       "    .dataframe tbody tr th {\n",
       "        vertical-align: top;\n",
       "    }\n",
       "\n",
       "    .dataframe thead th {\n",
       "        text-align: right;\n",
       "    }\n",
       "</style>\n",
       "<table border=\"1\" class=\"dataframe\">\n",
       "  <thead>\n",
       "    <tr style=\"text-align: right;\">\n",
       "      <th></th>\n",
       "      <th>id</th>\n",
       "      <th>True Label</th>\n",
       "      <th>Label</th>\n",
       "      <th>Proba</th>\n",
       "      <th>Community</th>\n",
       "      <th>Multi/Uni</th>\n",
       "      <th>Text</th>\n",
       "    </tr>\n",
       "  </thead>\n",
       "  <tbody>\n",
       "    <tr>\n",
       "      <th>48</th>\n",
       "      <td>1936</td>\n",
       "      <td>1</td>\n",
       "      <td>1</td>\n",
       "      <td>0.986847</td>\n",
       "      <td>People of Color</td>\n",
       "      <td>uni</td>\n",
       "      <td>we said we would never forget why are you voti...</td>\n",
       "    </tr>\n",
       "    <tr>\n",
       "      <th>324</th>\n",
       "      <td>95306</td>\n",
       "      <td>1</td>\n",
       "      <td>1</td>\n",
       "      <td>0.985908</td>\n",
       "      <td>People of Color</td>\n",
       "      <td>multi</td>\n",
       "      <td>why is it so good? because it's white</td>\n",
       "    </tr>\n",
       "    <tr>\n",
       "      <th>20</th>\n",
       "      <td>1865</td>\n",
       "      <td>1</td>\n",
       "      <td>1</td>\n",
       "      <td>0.973565</td>\n",
       "      <td>People of Color</td>\n",
       "      <td>uni</td>\n",
       "      <td>i'm this pretty because both my parents are white</td>\n",
       "    </tr>\n",
       "    <tr>\n",
       "      <th>708</th>\n",
       "      <td>76842</td>\n",
       "      <td>1</td>\n",
       "      <td>1</td>\n",
       "      <td>0.967716</td>\n",
       "      <td>People of Color</td>\n",
       "      <td>multi</td>\n",
       "      <td>these wind chimes don't make a sound should ha...</td>\n",
       "    </tr>\n",
       "    <tr>\n",
       "      <th>77</th>\n",
       "      <td>87039</td>\n",
       "      <td>1</td>\n",
       "      <td>1</td>\n",
       "      <td>0.962213</td>\n",
       "      <td>People of Color</td>\n",
       "      <td>multi</td>\n",
       "      <td>this makes me puke send all of them back home</td>\n",
       "    </tr>\n",
       "    <tr>\n",
       "      <th>761</th>\n",
       "      <td>19587</td>\n",
       "      <td>1</td>\n",
       "      <td>1</td>\n",
       "      <td>0.961765</td>\n",
       "      <td>People of Color</td>\n",
       "      <td>multi</td>\n",
       "      <td>i support terrorists because they're pea brain...</td>\n",
       "    </tr>\n",
       "    <tr>\n",
       "      <th>18</th>\n",
       "      <td>62134</td>\n",
       "      <td>1</td>\n",
       "      <td>1</td>\n",
       "      <td>0.888029</td>\n",
       "      <td>People of Color</td>\n",
       "      <td>multi</td>\n",
       "      <td>its not right to judge someone by the color of...</td>\n",
       "    </tr>\n",
       "    <tr>\n",
       "      <th>701</th>\n",
       "      <td>70214</td>\n",
       "      <td>1</td>\n",
       "      <td>1</td>\n",
       "      <td>0.685415</td>\n",
       "      <td>People of Color</td>\n",
       "      <td>multi</td>\n",
       "      <td>let's not be hasty. the worldview of the guys ...</td>\n",
       "    </tr>\n",
       "  </tbody>\n",
       "</table>\n",
       "</div>"
      ],
      "text/plain": [
       "        id  True Label  Label     Proba        Community Multi/Uni  \\\n",
       "48    1936           1      1  0.986847  People of Color       uni   \n",
       "324  95306           1      1  0.985908  People of Color     multi   \n",
       "20    1865           1      1  0.973565  People of Color       uni   \n",
       "708  76842           1      1  0.967716  People of Color     multi   \n",
       "77   87039           1      1  0.962213  People of Color     multi   \n",
       "761  19587           1      1  0.961765  People of Color     multi   \n",
       "18   62134           1      1  0.888029  People of Color     multi   \n",
       "701  70214           1      1  0.685415  People of Color     multi   \n",
       "\n",
       "                                                  Text  \n",
       "48   we said we would never forget why are you voti...  \n",
       "324              why is it so good? because it's white  \n",
       "20   i'm this pretty because both my parents are white  \n",
       "708  these wind chimes don't make a sound should ha...  \n",
       "77       this makes me puke send all of them back home  \n",
       "761  i support terrorists because they're pea brain...  \n",
       "18   its not right to judge someone by the color of...  \n",
       "701  let's not be hasty. the worldview of the guys ...  "
      ]
     },
     "execution_count": 39,
     "metadata": {},
     "output_type": "execute_result"
    }
   ],
   "source": [
    "CorCl = TN_sortedFrame[TN_sortedFrame['Community'] == 'People of Color']\n",
    "CorCl.sort_values(\"Proba\")\n",
    "CorCl"
   ]
  },
  {
   "cell_type": "code",
   "execution_count": 40,
   "id": "96584d31",
   "metadata": {
    "execution": {
     "iopub.execute_input": "2021-08-24T10:26:39.181102Z",
     "iopub.status.busy": "2021-08-24T10:26:39.180298Z",
     "iopub.status.idle": "2021-08-24T10:26:39.184296Z",
     "shell.execute_reply": "2021-08-24T10:26:39.185087Z",
     "shell.execute_reply.started": "2021-08-24T10:23:43.283185Z"
    },
    "papermill": {
     "duration": 0.12068,
     "end_time": "2021-08-24T10:26:39.185384",
     "exception": false,
     "start_time": "2021-08-24T10:26:39.064704",
     "status": "completed"
    },
    "tags": []
   },
   "outputs": [
    {
     "name": "stdout",
     "output_type": "stream",
     "text": [
      "Number of multimodal samples in the dataset:  182\n",
      "Number of unimodal samples in the dataset:  29\n"
     ]
    }
   ],
   "source": [
    "multi_sample_in_TN = TN[TN['Multi/Uni'] == 'multi']\n",
    "uni_sample_in_TN = TN[TN['Multi/Uni'] == 'uni']\n",
    "\n",
    "numb_multi_sample_TN = len(multi_sample_in_TN)\n",
    "numb_uni_sample_TN = len(uni_sample_in_TN)\n",
    "\n",
    "print(\"Number of multimodal samples in the dataset: \", numb_multi_sample_TN)\n",
    "print(\"Number of unimodal samples in the dataset: \", numb_uni_sample_TN)"
   ]
  },
  {
   "cell_type": "markdown",
   "id": "e92cf49b",
   "metadata": {
    "papermill": {
     "duration": 0.130724,
     "end_time": "2021-08-24T10:26:39.427847",
     "exception": false,
     "start_time": "2021-08-24T10:26:39.297123",
     "status": "completed"
    },
    "tags": []
   },
   "source": [
    "Here, the model perform worse at unimodal that the BERT only model "
   ]
  },
  {
   "cell_type": "code",
   "execution_count": 41,
   "id": "65a2c515",
   "metadata": {
    "execution": {
     "iopub.execute_input": "2021-08-24T10:26:39.702217Z",
     "iopub.status.busy": "2021-08-24T10:26:39.701294Z",
     "iopub.status.idle": "2021-08-24T10:26:39.961786Z",
     "shell.execute_reply": "2021-08-24T10:26:39.961116Z",
     "shell.execute_reply.started": "2021-08-24T10:23:43.292615Z"
    },
    "papermill": {
     "duration": 0.426649,
     "end_time": "2021-08-24T10:26:39.961926",
     "exception": false,
     "start_time": "2021-08-24T10:26:39.535277",
     "status": "completed"
    },
    "tags": []
   },
   "outputs": [
    {
     "data": {
      "text/plain": [
       "Text(0, 0.5, 'number of sample')"
      ]
     },
     "execution_count": 41,
     "metadata": {},
     "output_type": "execute_result"
    },
    {
     "data": {
      "image/png": "[encoded data removed]",
      "text/plain": [
       "<Figure size 432x288 with 1 Axes>"
      ]
     },
     "metadata": {
      "needs_background": "light"
     },
     "output_type": "display_data"
    }
   ],
   "source": [
    "Disable_sample_tn = TN[TN['Community'] == 'Disable']\n",
    "Women_sample_tn = TN[TN['Community'] == 'Women']\n",
    "LGBT_sample_tn = TN[TN['Community'] == 'LGBT']\n",
    "Black_sample_tn = TN[TN['Community'] == 'Black']\n",
    "Musulman_sample_tn = TN[TN['Community'] == 'Musulman']\n",
    "FakeNews_sample_tn = TN[TN['Community'] == 'Fake News']\n",
    "NA_sample_tn = TN[TN['Community'] == 'Not Applicable']\n",
    "IncitingViolence_sample_tn = TN[TN['Community'] == 'Inciting Violence']\n",
    "Transgender_sample_tn = TN[TN['Community'] == 'Transgender']\n",
    "Ginger_sample_tn = TN[TN['Community'] == 'Ginger']\n",
    "Immigrant_sample_tn = TN[TN['Community'] == 'Immigrant']\n",
    "Jewish_sample_tn = TN[TN['Community'] == 'Jewish']\n",
    "PeopleofColor_sample_tn = TN[TN['Community'] == 'People of Color']\n",
    "White_sample_tn = TN[TN['Community'] == 'White']\n",
    "Indian_sample_tn = TN[TN['Community'] == 'Indian']\n",
    "Japanese_sample_tn = TN[TN['Community'] == 'Japanese']\n",
    "Chinese_sample_tn = TN[TN['Community'] == 'Chinese']\n",
    "Asian_sample_tn = TN[TN['Community'] == 'Asian']\n",
    "Politic_sample_tn = TN[TN['Community'] == 'Politic']\n",
    "German_sample_tn = TN[TN['Community'] == 'German']\n",
    "Romanian_sample_tn = TN[TN['Community'] == 'Romania']\n",
    "Christian_sample_tn = TN[TN['Community'] == 'Christian']\n",
    "\n",
    "TN_categories = {\n",
    "'Disable' : len(Disable_sample_tn),\n",
    "'Women' : len(Women_sample_tn),\n",
    "'LGBT' : len(LGBT_sample_tn),\n",
    "'Black' : len(Black_sample_tn),\n",
    "'Musulman' : len(Musulman_sample_tn),\n",
    "'FakeNews' : len(FakeNews_sample_tn),\n",
    "'NA' : len(NA_sample_tn),\n",
    "'Inciting Violence' : len(IncitingViolence_sample_tn),\n",
    "'Transgender' : len(Transgender_sample_tn),\n",
    "'Ginger' : len(Ginger_sample_tn),\n",
    "'Immigrant' : len(Immigrant_sample_tn),\n",
    "'Jewish' : len(Jewish_sample_tn),\n",
    "'People of Color' : len(PeopleofColor_sample_tn),\n",
    "'White' : len(White_sample_tn),\n",
    "'Indian' : len(Indian_sample_tn),\n",
    "'Japanese' : len(Japanese_sample_tn),\n",
    "'Chinese' : len(Chinese_sample_tn),\n",
    "'Asian' : len(Asian_sample_tn),\n",
    "'Politic' : len(Politic_sample_tn),\n",
    "'German' : len(German_sample_tn),\n",
    "'Romanian' : len(Romanian_sample_tn),\n",
    "'Christian' : len(Christian_sample_tn)\n",
    "}\n",
    "\n",
    "lists = sorted(TN_categories.items()) # sorted by key, return a list of tuples\n",
    "categories, numb_of_sample = zip(*lists) # unpack a list of pairs into two tuples\n",
    "\n",
    "plt.xticks(rotation='vertical')\n",
    "df = plt.bar(categories, numb_of_sample, color='b')\n",
    "plt.title('Number of sample by category')\n",
    "plt.xlabel('categories')\n",
    "plt.ylabel('number of sample')"
   ]
  },
  {
   "cell_type": "markdown",
   "id": "c918a37d",
   "metadata": {
    "papermill": {
     "duration": 0.107982,
     "end_time": "2021-08-24T10:26:40.178053",
     "exception": false,
     "start_time": "2021-08-24T10:26:40.070071",
     "status": "completed"
    },
    "tags": []
   },
   "source": []
  },
  {
   "cell_type": "code",
   "execution_count": 42,
   "id": "26711f76",
   "metadata": {
    "execution": {
     "iopub.execute_input": "2021-08-24T10:26:40.434306Z",
     "iopub.status.busy": "2021-08-24T10:26:40.424959Z",
     "iopub.status.idle": "2021-08-24T10:26:40.704639Z",
     "shell.execute_reply": "2021-08-24T10:26:40.703892Z",
     "shell.execute_reply.started": "2021-08-24T10:23:43.609585Z"
    },
    "papermill": {
     "duration": 0.4186,
     "end_time": "2021-08-24T10:26:40.704785",
     "exception": false,
     "start_time": "2021-08-24T10:26:40.286185",
     "status": "completed"
    },
    "tags": []
   },
   "outputs": [
    {
     "data": {
      "text/plain": [
       "Text(0, 0.5, 'number of sample')"
      ]
     },
     "execution_count": 42,
     "metadata": {},
     "output_type": "execute_result"
    },
    {
     "data": {
      "image/png": "[encoded data removed]",
      "text/plain": [
       "<Figure size 432x288 with 1 Axes>"
      ]
     },
     "metadata": {
      "needs_background": "light"
     },
     "output_type": "display_data"
    }
   ],
   "source": [
    "Acc_TN_Disable = len(Disable_sample_tn) / len(Disable_sample_h) * 100\n",
    "Acc_TN_Women = len(Women_sample_tn) / len(Women_sample_h) * 100\n",
    "Acc_TN_LGBT = len(LGBT_sample_tn) / len(LGBT_sample_h) * 100\n",
    "Acc_TN_Black = len(Black_sample_tn) / len(Black_sample_h) * 100\n",
    "Acc_TN_Musulman = len(Musulman_sample_tn) / len(Musulman_sample_h) * 100\n",
    "Acc_TN_FakeNews = len(FakeNews_sample_tn) / len(FakeNews_sample_h) * 100\n",
    "Acc_TN_NA = len(NA_sample_tn) / len(NA_sample_h) * 100\n",
    "Acc_TN_IncitingViolence = len(IncitingViolence_sample_tn) / len(IncitingViolence_sample_h) * 100\n",
    "Acc_TN_Transgender = len(Transgender_sample_tn) / len(Transgender_sample_h) * 100\n",
    "Acc_TN_Ginger = len(Ginger_sample_tn) / len(Ginger_sample_h) * 100\n",
    "Acc_TN_Immigrant = len(Immigrant_sample_tn) / len(Immigrant_sample_h) * 100\n",
    "Acc_TN_Jewish = len(Jewish_sample_tn) / len(Jewish_sample_h) * 100\n",
    "Acc_TN_PeopleofColor = len(PeopleofColor_sample_tn) / len(PeopleofColor_sample_h) * 100\n",
    "Acc_TN_White = len(White_sample_tn) / len(White_sample_h) * 100\n",
    "Acc_TN_Indian = len(Indian_sample_tn) / len(Indian_sample_h) * 100\n",
    "Acc_TN_Japanese = len(Japanese_sample_tn) / len(Japanese_sample_h) * 100\n",
    "Acc_TN_Chinese = len(Chinese_sample_tn) / len(Chinese_sample_h) * 100\n",
    "Acc_TN_Asian = len(Asian_sample_tn) / len(Asian_sample_h) * 100\n",
    "Acc_TN_Politic = len(Politic_sample_tn) / len(Politic_sample_h) * 100\n",
    "Acc_TN_German = len(German_sample_tn) / len(German_sample_h) * 100\n",
    "Acc_TN_Romanian = 0\n",
    "Acc_TN_Christian = len(Christian_sample_tn) / len(Christian_sample_h) * 100\n",
    "\n",
    "\n",
    "Acc_TN_categories = {\n",
    "'Disable' : Acc_TN_Disable,\n",
    "'Women' : Acc_TN_Women,\n",
    "'LGBT' : Acc_TN_LGBT,\n",
    "'Black' : Acc_TN_Black,\n",
    "'Musulman' : Acc_TN_Musulman,\n",
    "'FakeNews' : Acc_TN_FakeNews,\n",
    "'NA' : Acc_TN_NA,\n",
    "'Inciting Violence' : Acc_TN_IncitingViolence,\n",
    "'Transgender' : Acc_TN_Transgender,\n",
    "'Ginger' : Acc_TN_Ginger,\n",
    "'Immigrant' : Acc_TN_Immigrant,\n",
    "'Jewish' : Acc_TN_Jewish,\n",
    "'People of Color' : Acc_TN_PeopleofColor,\n",
    "'White' : Acc_TN_White,\n",
    "'Indian' : Acc_TN_Indian,\n",
    "'Japanese' : Acc_TN_Japanese,\n",
    "'Chinese' : Acc_TN_Chinese,\n",
    "'Asian' : Acc_TN_Asian,\n",
    "'Politic' : Acc_TN_Politic,\n",
    "'German' : Acc_TN_German,\n",
    "'Romanian' : Acc_TN_Romanian,\n",
    "'Christian' : Acc_TN_Christian\n",
    "}\n",
    "\n",
    "lists = sorted(Acc_TN_categories.items()) # sorted by key, return a list of tuples\n",
    "categories, numb_of_sample = zip(*lists) # unpack a list of pairs into two tuples\n",
    "\n",
    "plt.xticks(rotation='vertical')\n",
    "df = plt.bar(categories, numb_of_sample, color=(0.5,0.1,0.5,0.6))\n",
    "plt.title('Number of sample by category')\n",
    "plt.xlabel('categories')\n",
    "plt.ylabel('number of sample')"
   ]
  },
  {
   "cell_type": "code",
   "execution_count": 43,
   "id": "563e2e79",
   "metadata": {
    "execution": {
     "iopub.execute_input": "2021-08-24T10:26:40.930711Z",
     "iopub.status.busy": "2021-08-24T10:26:40.929679Z",
     "iopub.status.idle": "2021-08-24T10:26:40.936996Z",
     "shell.execute_reply": "2021-08-24T10:26:40.936497Z",
     "shell.execute_reply.started": "2021-08-24T10:23:43.935350Z"
    },
    "papermill": {
     "duration": 0.12164,
     "end_time": "2021-08-24T10:26:40.937142",
     "exception": false,
     "start_time": "2021-08-24T10:26:40.815502",
     "status": "completed"
    },
    "tags": []
   },
   "outputs": [
    {
     "name": "stdout",
     "output_type": "stream",
     "text": [
      "Disable : 40.0 %\n",
      "Women : 32.55813953488372 %\n",
      "LGBT : 40.0 %\n",
      "Black : 39.285714285714285 %\n",
      "Musulman : 45.16129032258064 %\n",
      "FakeNews : 60.0 %\n",
      "NA : 33.33333333333333 %\n",
      "Inciting Violence : 23.076923076923077 %\n",
      "Transgender : 30.76923076923077 %\n",
      "Ginger : 100.0 %\n",
      "Immigrant : 33.33333333333333 %\n",
      "Jewish : 57.14285714285714 %\n",
      "People of Color : 42.10526315789473 %\n",
      "White : 54.54545454545454 %\n",
      "Indian : 50.0 %\n",
      "Japanese : 33.33333333333333 %\n",
      "Chinese : 40.0 %\n",
      "Asian : 14.285714285714285 %\n",
      "Politic : 100.0 %\n",
      "German : 0.0 %\n",
      "Romanian : 0 %\n",
      "Christian : 100.0 %\n"
     ]
    }
   ],
   "source": [
    "for key, value in Acc_TN_categories.items():\n",
    "    print(key, ':', value, '%')"
   ]
  },
  {
   "cell_type": "markdown",
   "id": "d983ae89",
   "metadata": {
    "papermill": {
     "duration": 0.109721,
     "end_time": "2021-08-24T10:26:41.157380",
     "exception": false,
     "start_time": "2021-08-24T10:26:41.047659",
     "status": "completed"
    },
    "tags": []
   },
   "source": [
    "# Exploring result in FP dataset"
   ]
  },
  {
   "cell_type": "code",
   "execution_count": 44,
   "id": "1c162b44",
   "metadata": {
    "execution": {
     "iopub.execute_input": "2021-08-24T10:26:41.392304Z",
     "iopub.status.busy": "2021-08-24T10:26:41.391327Z",
     "iopub.status.idle": "2021-08-24T10:26:41.395830Z",
     "shell.execute_reply": "2021-08-24T10:26:41.395300Z",
     "shell.execute_reply.started": "2021-08-24T10:23:43.955297Z"
    },
    "papermill": {
     "duration": 0.128707,
     "end_time": "2021-08-24T10:26:41.395974",
     "exception": false,
     "start_time": "2021-08-24T10:26:41.267267",
     "status": "completed"
    },
    "tags": []
   },
   "outputs": [
    {
     "data": {
      "text/html": [
       "<div>\n",
       "<style scoped>\n",
       "    .dataframe tbody tr th:only-of-type {\n",
       "        vertical-align: middle;\n",
       "    }\n",
       "\n",
       "    .dataframe tbody tr th {\n",
       "        vertical-align: top;\n",
       "    }\n",
       "\n",
       "    .dataframe thead th {\n",
       "        text-align: right;\n",
       "    }\n",
       "</style>\n",
       "<table border=\"1\" class=\"dataframe\">\n",
       "  <thead>\n",
       "    <tr style=\"text-align: right;\">\n",
       "      <th></th>\n",
       "      <th>id</th>\n",
       "      <th>True Label</th>\n",
       "      <th>Label</th>\n",
       "      <th>Proba</th>\n",
       "      <th>Community</th>\n",
       "      <th>Multi/Uni</th>\n",
       "      <th>Text</th>\n",
       "    </tr>\n",
       "  </thead>\n",
       "  <tbody>\n",
       "    <tr>\n",
       "      <th>5</th>\n",
       "      <td>73506</td>\n",
       "      <td>1</td>\n",
       "      <td>0</td>\n",
       "      <td>0.001667</td>\n",
       "      <td>Musulman</td>\n",
       "      <td>multi</td>\n",
       "      <td>look your dad fucked goats.. i capped him...so...</td>\n",
       "    </tr>\n",
       "    <tr>\n",
       "      <th>8</th>\n",
       "      <td>69421</td>\n",
       "      <td>1</td>\n",
       "      <td>0</td>\n",
       "      <td>0.000881</td>\n",
       "      <td>Inciting Violence</td>\n",
       "      <td>multi</td>\n",
       "      <td>when they laugh about your 9cm in the change r...</td>\n",
       "    </tr>\n",
       "    <tr>\n",
       "      <th>9</th>\n",
       "      <td>50162</td>\n",
       "      <td>1</td>\n",
       "      <td>0</td>\n",
       "      <td>0.000016</td>\n",
       "      <td>Black</td>\n",
       "      <td>multi</td>\n",
       "      <td>roses are black, violets are black everything ...</td>\n",
       "    </tr>\n",
       "    <tr>\n",
       "      <th>10</th>\n",
       "      <td>43728</td>\n",
       "      <td>1</td>\n",
       "      <td>0</td>\n",
       "      <td>0.000090</td>\n",
       "      <td>Transgender</td>\n",
       "      <td>multi</td>\n",
       "      <td>bruce jenner's cat</td>\n",
       "    </tr>\n",
       "    <tr>\n",
       "      <th>12</th>\n",
       "      <td>47829</td>\n",
       "      <td>1</td>\n",
       "      <td>0</td>\n",
       "      <td>0.000610</td>\n",
       "      <td>Musulman</td>\n",
       "      <td>multi</td>\n",
       "      <td>when you found your wife is cheating on you ya...</td>\n",
       "    </tr>\n",
       "    <tr>\n",
       "      <th>...</th>\n",
       "      <td>...</td>\n",
       "      <td>...</td>\n",
       "      <td>...</td>\n",
       "      <td>...</td>\n",
       "      <td>...</td>\n",
       "      <td>...</td>\n",
       "      <td>...</td>\n",
       "    </tr>\n",
       "    <tr>\n",
       "      <th>988</th>\n",
       "      <td>10234</td>\n",
       "      <td>1</td>\n",
       "      <td>0</td>\n",
       "      <td>0.000234</td>\n",
       "      <td>Black</td>\n",
       "      <td>multi</td>\n",
       "      <td>when you've decided to start a life of crime</td>\n",
       "    </tr>\n",
       "    <tr>\n",
       "      <th>989</th>\n",
       "      <td>65948</td>\n",
       "      <td>1</td>\n",
       "      <td>0</td>\n",
       "      <td>0.016618</td>\n",
       "      <td>LGBT</td>\n",
       "      <td>multi</td>\n",
       "      <td>me watching the pride parade</td>\n",
       "    </tr>\n",
       "    <tr>\n",
       "      <th>990</th>\n",
       "      <td>86173</td>\n",
       "      <td>1</td>\n",
       "      <td>0</td>\n",
       "      <td>0.048430</td>\n",
       "      <td>Disable</td>\n",
       "      <td>multi</td>\n",
       "      <td>when i said i wanted a little pussy this is no...</td>\n",
       "    </tr>\n",
       "    <tr>\n",
       "      <th>991</th>\n",
       "      <td>50839</td>\n",
       "      <td>1</td>\n",
       "      <td>0</td>\n",
       "      <td>0.173014</td>\n",
       "      <td>Musulman</td>\n",
       "      <td>multi</td>\n",
       "      <td>\"you think i'm a terrorist but i identify as a...</td>\n",
       "    </tr>\n",
       "    <tr>\n",
       "      <th>993</th>\n",
       "      <td>36421</td>\n",
       "      <td>1</td>\n",
       "      <td>0</td>\n",
       "      <td>0.011914</td>\n",
       "      <td>White</td>\n",
       "      <td>multi</td>\n",
       "      <td>freakin white people... so annoying.</td>\n",
       "    </tr>\n",
       "  </tbody>\n",
       "</table>\n",
       "<p>288 rows × 7 columns</p>\n",
       "</div>"
      ],
      "text/plain": [
       "        id  True Label  Label     Proba          Community Multi/Uni  \\\n",
       "5    73506           1      0  0.001667           Musulman     multi   \n",
       "8    69421           1      0  0.000881  Inciting Violence     multi   \n",
       "9    50162           1      0  0.000016              Black     multi   \n",
       "10   43728           1      0  0.000090        Transgender     multi   \n",
       "12   47829           1      0  0.000610           Musulman     multi   \n",
       "..     ...         ...    ...       ...                ...       ...   \n",
       "988  10234           1      0  0.000234              Black     multi   \n",
       "989  65948           1      0  0.016618               LGBT     multi   \n",
       "990  86173           1      0  0.048430            Disable     multi   \n",
       "991  50839           1      0  0.173014           Musulman     multi   \n",
       "993  36421           1      0  0.011914              White     multi   \n",
       "\n",
       "                                                  Text  \n",
       "5    look your dad fucked goats.. i capped him...so...  \n",
       "8    when they laugh about your 9cm in the change r...  \n",
       "9    roses are black, violets are black everything ...  \n",
       "10                                  bruce jenner's cat  \n",
       "12   when you found your wife is cheating on you ya...  \n",
       "..                                                 ...  \n",
       "988       when you've decided to start a life of crime  \n",
       "989                       me watching the pride parade  \n",
       "990  when i said i wanted a little pussy this is no...  \n",
       "991  \"you think i'm a terrorist but i identify as a...  \n",
       "993               freakin white people... so annoying.  \n",
       "\n",
       "[288 rows x 7 columns]"
      ]
     },
     "execution_count": 44,
     "metadata": {},
     "output_type": "execute_result"
    }
   ],
   "source": [
    "FP"
   ]
  },
  {
   "cell_type": "code",
   "execution_count": 45,
   "id": "57a98ac4",
   "metadata": {
    "execution": {
     "iopub.execute_input": "2021-08-24T10:26:41.623469Z",
     "iopub.status.busy": "2021-08-24T10:26:41.622856Z",
     "iopub.status.idle": "2021-08-24T10:26:41.639787Z",
     "shell.execute_reply": "2021-08-24T10:26:41.639187Z",
     "shell.execute_reply.started": "2021-08-24T10:23:43.983848Z"
    },
    "papermill": {
     "duration": 0.133311,
     "end_time": "2021-08-24T10:26:41.639918",
     "exception": false,
     "start_time": "2021-08-24T10:26:41.506607",
     "status": "completed"
    },
    "tags": []
   },
   "outputs": [
    {
     "data": {
      "text/html": [
       "<div>\n",
       "<style scoped>\n",
       "    .dataframe tbody tr th:only-of-type {\n",
       "        vertical-align: middle;\n",
       "    }\n",
       "\n",
       "    .dataframe tbody tr th {\n",
       "        vertical-align: top;\n",
       "    }\n",
       "\n",
       "    .dataframe thead th {\n",
       "        text-align: right;\n",
       "    }\n",
       "</style>\n",
       "<table border=\"1\" class=\"dataframe\">\n",
       "  <thead>\n",
       "    <tr style=\"text-align: right;\">\n",
       "      <th></th>\n",
       "      <th>id</th>\n",
       "      <th>True Label</th>\n",
       "      <th>Label</th>\n",
       "      <th>Proba</th>\n",
       "      <th>Community</th>\n",
       "      <th>Multi/Uni</th>\n",
       "      <th>Text</th>\n",
       "    </tr>\n",
       "  </thead>\n",
       "  <tbody>\n",
       "    <tr>\n",
       "      <th>429</th>\n",
       "      <td>3765</td>\n",
       "      <td>1</td>\n",
       "      <td>0</td>\n",
       "      <td>5.190000e-18</td>\n",
       "      <td>Inciting Violence</td>\n",
       "      <td>uni</td>\n",
       "      <td>american kids all across american storefronts!...</td>\n",
       "    </tr>\n",
       "    <tr>\n",
       "      <th>164</th>\n",
       "      <td>24689</td>\n",
       "      <td>1</td>\n",
       "      <td>0</td>\n",
       "      <td>2.630000e-11</td>\n",
       "      <td>Black</td>\n",
       "      <td>multi</td>\n",
       "      <td>old barack obama</td>\n",
       "    </tr>\n",
       "    <tr>\n",
       "      <th>497</th>\n",
       "      <td>10475</td>\n",
       "      <td>1</td>\n",
       "      <td>0</td>\n",
       "      <td>1.920000e-10</td>\n",
       "      <td>Immigrant</td>\n",
       "      <td>multi</td>\n",
       "      <td>refugees welcome</td>\n",
       "    </tr>\n",
       "    <tr>\n",
       "      <th>714</th>\n",
       "      <td>18750</td>\n",
       "      <td>1</td>\n",
       "      <td>0</td>\n",
       "      <td>2.020000e-10</td>\n",
       "      <td>Disable</td>\n",
       "      <td>multi</td>\n",
       "      <td>turn for what</td>\n",
       "    </tr>\n",
       "    <tr>\n",
       "      <th>247</th>\n",
       "      <td>65734</td>\n",
       "      <td>1</td>\n",
       "      <td>0</td>\n",
       "      <td>1.540000e-09</td>\n",
       "      <td>Black</td>\n",
       "      <td>multi</td>\n",
       "      <td>aye, tone! why would dey delouse 'em if dey wa...</td>\n",
       "    </tr>\n",
       "    <tr>\n",
       "      <th>129</th>\n",
       "      <td>17285</td>\n",
       "      <td>1</td>\n",
       "      <td>0</td>\n",
       "      <td>2.600000e-08</td>\n",
       "      <td>Disable</td>\n",
       "      <td>multi</td>\n",
       "      <td>slow cooker</td>\n",
       "    </tr>\n",
       "    <tr>\n",
       "      <th>38</th>\n",
       "      <td>63491</td>\n",
       "      <td>1</td>\n",
       "      <td>0</td>\n",
       "      <td>5.630000e-08</td>\n",
       "      <td>Musulman</td>\n",
       "      <td>multi</td>\n",
       "      <td>when you've just realised your son has taken t...</td>\n",
       "    </tr>\n",
       "    <tr>\n",
       "      <th>593</th>\n",
       "      <td>89571</td>\n",
       "      <td>1</td>\n",
       "      <td>0</td>\n",
       "      <td>1.180000e-07</td>\n",
       "      <td>People of Color</td>\n",
       "      <td>multi</td>\n",
       "      <td>don't defile the lineage given to you by your ...</td>\n",
       "    </tr>\n",
       "    <tr>\n",
       "      <th>498</th>\n",
       "      <td>91736</td>\n",
       "      <td>1</td>\n",
       "      <td>0</td>\n",
       "      <td>1.340000e-07</td>\n",
       "      <td>Chinese</td>\n",
       "      <td>multi</td>\n",
       "      <td>mainlanders, they are eat dogs, they do</td>\n",
       "    </tr>\n",
       "    <tr>\n",
       "      <th>605</th>\n",
       "      <td>17869</td>\n",
       "      <td>1</td>\n",
       "      <td>0</td>\n",
       "      <td>1.770000e-07</td>\n",
       "      <td>Disable</td>\n",
       "      <td>multi</td>\n",
       "      <td>party tonight? i'm down</td>\n",
       "    </tr>\n",
       "    <tr>\n",
       "      <th>15</th>\n",
       "      <td>39867</td>\n",
       "      <td>1</td>\n",
       "      <td>0</td>\n",
       "      <td>2.080000e-07</td>\n",
       "      <td>Immigrant</td>\n",
       "      <td>multi</td>\n",
       "      <td>stop illegal immigrants they're taking the lan...</td>\n",
       "    </tr>\n",
       "    <tr>\n",
       "      <th>855</th>\n",
       "      <td>47180</td>\n",
       "      <td>1</td>\n",
       "      <td>0</td>\n",
       "      <td>2.830000e-07</td>\n",
       "      <td>Jewish</td>\n",
       "      <td>multi</td>\n",
       "      <td>and that's why i gas people</td>\n",
       "    </tr>\n",
       "    <tr>\n",
       "      <th>672</th>\n",
       "      <td>31057</td>\n",
       "      <td>1</td>\n",
       "      <td>0</td>\n",
       "      <td>5.240000e-07</td>\n",
       "      <td>Black</td>\n",
       "      <td>multi</td>\n",
       "      <td>the i'm not black but my kids will be face</td>\n",
       "    </tr>\n",
       "    <tr>\n",
       "      <th>70</th>\n",
       "      <td>89251</td>\n",
       "      <td>1</td>\n",
       "      <td>0</td>\n",
       "      <td>5.890000e-07</td>\n",
       "      <td>Transgender</td>\n",
       "      <td>uni</td>\n",
       "      <td>sorry i'm late. having tranny problems</td>\n",
       "    </tr>\n",
       "    <tr>\n",
       "      <th>456</th>\n",
       "      <td>80321</td>\n",
       "      <td>1</td>\n",
       "      <td>0</td>\n",
       "      <td>6.090000e-07</td>\n",
       "      <td>Women</td>\n",
       "      <td>multi</td>\n",
       "      <td>within these places they should be staying jun...</td>\n",
       "    </tr>\n",
       "    <tr>\n",
       "      <th>738</th>\n",
       "      <td>5846</td>\n",
       "      <td>1</td>\n",
       "      <td>0</td>\n",
       "      <td>6.820000e-07</td>\n",
       "      <td>People of Color</td>\n",
       "      <td>multi</td>\n",
       "      <td>our insurance</td>\n",
       "    </tr>\n",
       "    <tr>\n",
       "      <th>258</th>\n",
       "      <td>56328</td>\n",
       "      <td>1</td>\n",
       "      <td>0</td>\n",
       "      <td>1.210000e-06</td>\n",
       "      <td>Inciting Violence</td>\n",
       "      <td>multi</td>\n",
       "      <td>made rice krispies way before kellogg's</td>\n",
       "    </tr>\n",
       "    <tr>\n",
       "      <th>14</th>\n",
       "      <td>54920</td>\n",
       "      <td>1</td>\n",
       "      <td>0</td>\n",
       "      <td>1.390000e-06</td>\n",
       "      <td>Disable</td>\n",
       "      <td>multi</td>\n",
       "      <td>so i guess a handjob is out of the question</td>\n",
       "    </tr>\n",
       "    <tr>\n",
       "      <th>377</th>\n",
       "      <td>81075</td>\n",
       "      <td>1</td>\n",
       "      <td>0</td>\n",
       "      <td>1.530000e-06</td>\n",
       "      <td>Jewish</td>\n",
       "      <td>multi</td>\n",
       "      <td>they're not alllll rapists... right?</td>\n",
       "    </tr>\n",
       "    <tr>\n",
       "      <th>483</th>\n",
       "      <td>74508</td>\n",
       "      <td>1</td>\n",
       "      <td>0</td>\n",
       "      <td>1.590000e-06</td>\n",
       "      <td>Black</td>\n",
       "      <td>uni</td>\n",
       "      <td>i believe racism is just like black people it ...</td>\n",
       "    </tr>\n",
       "  </tbody>\n",
       "</table>\n",
       "</div>"
      ],
      "text/plain": [
       "        id  True Label  Label         Proba          Community Multi/Uni  \\\n",
       "429   3765           1      0  5.190000e-18  Inciting Violence       uni   \n",
       "164  24689           1      0  2.630000e-11              Black     multi   \n",
       "497  10475           1      0  1.920000e-10          Immigrant     multi   \n",
       "714  18750           1      0  2.020000e-10            Disable     multi   \n",
       "247  65734           1      0  1.540000e-09              Black     multi   \n",
       "129  17285           1      0  2.600000e-08            Disable     multi   \n",
       "38   63491           1      0  5.630000e-08           Musulman     multi   \n",
       "593  89571           1      0  1.180000e-07    People of Color     multi   \n",
       "498  91736           1      0  1.340000e-07            Chinese     multi   \n",
       "605  17869           1      0  1.770000e-07            Disable     multi   \n",
       "15   39867           1      0  2.080000e-07          Immigrant     multi   \n",
       "855  47180           1      0  2.830000e-07             Jewish     multi   \n",
       "672  31057           1      0  5.240000e-07              Black     multi   \n",
       "70   89251           1      0  5.890000e-07        Transgender       uni   \n",
       "456  80321           1      0  6.090000e-07              Women     multi   \n",
       "738   5846           1      0  6.820000e-07    People of Color     multi   \n",
       "258  56328           1      0  1.210000e-06  Inciting Violence     multi   \n",
       "14   54920           1      0  1.390000e-06            Disable     multi   \n",
       "377  81075           1      0  1.530000e-06             Jewish     multi   \n",
       "483  74508           1      0  1.590000e-06              Black       uni   \n",
       "\n",
       "                                                  Text  \n",
       "429  american kids all across american storefronts!...  \n",
       "164                                   old barack obama  \n",
       "497                                   refugees welcome  \n",
       "714                                      turn for what  \n",
       "247  aye, tone! why would dey delouse 'em if dey wa...  \n",
       "129                                        slow cooker  \n",
       "38   when you've just realised your son has taken t...  \n",
       "593  don't defile the lineage given to you by your ...  \n",
       "498            mainlanders, they are eat dogs, they do  \n",
       "605                            party tonight? i'm down  \n",
       "15   stop illegal immigrants they're taking the lan...  \n",
       "855                        and that's why i gas people  \n",
       "672         the i'm not black but my kids will be face  \n",
       "70              sorry i'm late. having tranny problems  \n",
       "456  within these places they should be staying jun...  \n",
       "738                                      our insurance  \n",
       "258            made rice krispies way before kellogg's  \n",
       "14         so i guess a handjob is out of the question  \n",
       "377               they're not alllll rapists... right?  \n",
       "483  i believe racism is just like black people it ...  "
      ]
     },
     "execution_count": 45,
     "metadata": {},
     "output_type": "execute_result"
    }
   ],
   "source": [
    "FP_sortedFrame = FP.sort_values(\"Proba\")\n",
    "FP_sortedFrame.head(20)"
   ]
  },
  {
   "cell_type": "code",
   "execution_count": 46,
   "id": "fc4823b5",
   "metadata": {
    "execution": {
     "iopub.execute_input": "2021-08-24T10:26:41.881536Z",
     "iopub.status.busy": "2021-08-24T10:26:41.880873Z",
     "iopub.status.idle": "2021-08-24T10:26:41.884749Z",
     "shell.execute_reply": "2021-08-24T10:26:41.884173Z",
     "shell.execute_reply.started": "2021-08-24T10:23:44.006914Z"
    },
    "papermill": {
     "duration": 0.134664,
     "end_time": "2021-08-24T10:26:41.884877",
     "exception": false,
     "start_time": "2021-08-24T10:26:41.750213",
     "status": "completed"
    },
    "tags": []
   },
   "outputs": [
    {
     "data": {
      "text/html": [
       "<div>\n",
       "<style scoped>\n",
       "    .dataframe tbody tr th:only-of-type {\n",
       "        vertical-align: middle;\n",
       "    }\n",
       "\n",
       "    .dataframe tbody tr th {\n",
       "        vertical-align: top;\n",
       "    }\n",
       "\n",
       "    .dataframe thead th {\n",
       "        text-align: right;\n",
       "    }\n",
       "</style>\n",
       "<table border=\"1\" class=\"dataframe\">\n",
       "  <thead>\n",
       "    <tr style=\"text-align: right;\">\n",
       "      <th></th>\n",
       "      <th>id</th>\n",
       "      <th>True Label</th>\n",
       "      <th>Label</th>\n",
       "      <th>Proba</th>\n",
       "      <th>Community</th>\n",
       "      <th>Multi/Uni</th>\n",
       "      <th>Text</th>\n",
       "    </tr>\n",
       "  </thead>\n",
       "  <tbody>\n",
       "    <tr>\n",
       "      <th>456</th>\n",
       "      <td>80321</td>\n",
       "      <td>1</td>\n",
       "      <td>0</td>\n",
       "      <td>6.090000e-07</td>\n",
       "      <td>Women</td>\n",
       "      <td>multi</td>\n",
       "      <td>within these places they should be staying jun...</td>\n",
       "    </tr>\n",
       "    <tr>\n",
       "      <th>597</th>\n",
       "      <td>21849</td>\n",
       "      <td>1</td>\n",
       "      <td>0</td>\n",
       "      <td>3.470000e-06</td>\n",
       "      <td>Women</td>\n",
       "      <td>multi</td>\n",
       "      <td>march 8th international women's day</td>\n",
       "    </tr>\n",
       "    <tr>\n",
       "      <th>171</th>\n",
       "      <td>80713</td>\n",
       "      <td>1</td>\n",
       "      <td>0</td>\n",
       "      <td>8.080000e-06</td>\n",
       "      <td>Women</td>\n",
       "      <td>multi</td>\n",
       "      <td>rare picture of child birth</td>\n",
       "    </tr>\n",
       "    <tr>\n",
       "      <th>13</th>\n",
       "      <td>35279</td>\n",
       "      <td>1</td>\n",
       "      <td>0</td>\n",
       "      <td>5.350000e-05</td>\n",
       "      <td>Women</td>\n",
       "      <td>multi</td>\n",
       "      <td>when you convert your dishwasher into a weed e...</td>\n",
       "    </tr>\n",
       "    <tr>\n",
       "      <th>799</th>\n",
       "      <td>96581</td>\n",
       "      <td>1</td>\n",
       "      <td>0</td>\n",
       "      <td>5.055180e-04</td>\n",
       "      <td>Women</td>\n",
       "      <td>multi</td>\n",
       "      <td>\"if a dishwasher wore pants, would it wear the...</td>\n",
       "    </tr>\n",
       "    <tr>\n",
       "      <th>206</th>\n",
       "      <td>64803</td>\n",
       "      <td>1</td>\n",
       "      <td>0</td>\n",
       "      <td>7.357490e-04</td>\n",
       "      <td>Women</td>\n",
       "      <td>multi</td>\n",
       "      <td>when she asked for equal rights so i gave her ...</td>\n",
       "    </tr>\n",
       "    <tr>\n",
       "      <th>155</th>\n",
       "      <td>6931</td>\n",
       "      <td>1</td>\n",
       "      <td>0</td>\n",
       "      <td>1.155491e-03</td>\n",
       "      <td>Women</td>\n",
       "      <td>multi</td>\n",
       "      <td>the newest hate group the dumb stupid klan</td>\n",
       "    </tr>\n",
       "    <tr>\n",
       "      <th>947</th>\n",
       "      <td>67350</td>\n",
       "      <td>1</td>\n",
       "      <td>0</td>\n",
       "      <td>1.173907e-03</td>\n",
       "      <td>Women</td>\n",
       "      <td>multi</td>\n",
       "      <td>turn your dishwasher into a snow remover</td>\n",
       "    </tr>\n",
       "    <tr>\n",
       "      <th>636</th>\n",
       "      <td>60193</td>\n",
       "      <td>1</td>\n",
       "      <td>0</td>\n",
       "      <td>1.957022e-03</td>\n",
       "      <td>Women</td>\n",
       "      <td>multi</td>\n",
       "      <td>would ya look at that this dryer comes with a ...</td>\n",
       "    </tr>\n",
       "    <tr>\n",
       "      <th>300</th>\n",
       "      <td>48956</td>\n",
       "      <td>1</td>\n",
       "      <td>0</td>\n",
       "      <td>4.765443e-03</td>\n",
       "      <td>Women</td>\n",
       "      <td>multi</td>\n",
       "      <td>he won because he is a boy competing in a fema...</td>\n",
       "    </tr>\n",
       "    <tr>\n",
       "      <th>246</th>\n",
       "      <td>47863</td>\n",
       "      <td>1</td>\n",
       "      <td>0</td>\n",
       "      <td>6.108449e-03</td>\n",
       "      <td>Women</td>\n",
       "      <td>multi</td>\n",
       "      <td>he won because he is a boy competing in a fema...</td>\n",
       "    </tr>\n",
       "    <tr>\n",
       "      <th>113</th>\n",
       "      <td>48132</td>\n",
       "      <td>1</td>\n",
       "      <td>0</td>\n",
       "      <td>6.466872e-03</td>\n",
       "      <td>Women</td>\n",
       "      <td>multi</td>\n",
       "      <td>black friday deal buy one get one free toaster</td>\n",
       "    </tr>\n",
       "    <tr>\n",
       "      <th>73</th>\n",
       "      <td>7291</td>\n",
       "      <td>1</td>\n",
       "      <td>0</td>\n",
       "      <td>1.005725e-02</td>\n",
       "      <td>Women</td>\n",
       "      <td>multi</td>\n",
       "      <td>it's a piece of cake if she's not awake</td>\n",
       "    </tr>\n",
       "    <tr>\n",
       "      <th>160</th>\n",
       "      <td>14583</td>\n",
       "      <td>1</td>\n",
       "      <td>0</td>\n",
       "      <td>1.062303e-02</td>\n",
       "      <td>Women</td>\n",
       "      <td>multi</td>\n",
       "      <td>man: i'd like to trade her in for newer one</td>\n",
       "    </tr>\n",
       "    <tr>\n",
       "      <th>914</th>\n",
       "      <td>61597</td>\n",
       "      <td>1</td>\n",
       "      <td>0</td>\n",
       "      <td>2.466366e-02</td>\n",
       "      <td>Women</td>\n",
       "      <td>multi</td>\n",
       "      <td>when you realize you're pregnant because you p...</td>\n",
       "    </tr>\n",
       "    <tr>\n",
       "      <th>39</th>\n",
       "      <td>98026</td>\n",
       "      <td>1</td>\n",
       "      <td>0</td>\n",
       "      <td>3.116475e-02</td>\n",
       "      <td>Women</td>\n",
       "      <td>multi</td>\n",
       "      <td>best thing about her blowjob?... you know shes...</td>\n",
       "    </tr>\n",
       "    <tr>\n",
       "      <th>975</th>\n",
       "      <td>49201</td>\n",
       "      <td>1</td>\n",
       "      <td>0</td>\n",
       "      <td>3.297436e-02</td>\n",
       "      <td>Women</td>\n",
       "      <td>multi</td>\n",
       "      <td>3.8 billion of them on earth. why isn't it cle...</td>\n",
       "    </tr>\n",
       "    <tr>\n",
       "      <th>114</th>\n",
       "      <td>81370</td>\n",
       "      <td>1</td>\n",
       "      <td>0</td>\n",
       "      <td>5.326708e-02</td>\n",
       "      <td>Women</td>\n",
       "      <td>multi</td>\n",
       "      <td>the fucking dishwasher is acting up!</td>\n",
       "    </tr>\n",
       "    <tr>\n",
       "      <th>313</th>\n",
       "      <td>73842</td>\n",
       "      <td>1</td>\n",
       "      <td>0</td>\n",
       "      <td>6.484312e-02</td>\n",
       "      <td>Women</td>\n",
       "      <td>multi</td>\n",
       "      <td>international boxing day</td>\n",
       "    </tr>\n",
       "    <tr>\n",
       "      <th>691</th>\n",
       "      <td>10462</td>\n",
       "      <td>1</td>\n",
       "      <td>0</td>\n",
       "      <td>1.143772e-01</td>\n",
       "      <td>Women</td>\n",
       "      <td>uni</td>\n",
       "      <td>back in my day there were only two genders mal...</td>\n",
       "    </tr>\n",
       "    <tr>\n",
       "      <th>251</th>\n",
       "      <td>5968</td>\n",
       "      <td>1</td>\n",
       "      <td>0</td>\n",
       "      <td>1.359175e-01</td>\n",
       "      <td>Women</td>\n",
       "      <td>multi</td>\n",
       "      <td>what would you do if i got pregnant</td>\n",
       "    </tr>\n",
       "    <tr>\n",
       "      <th>919</th>\n",
       "      <td>6427</td>\n",
       "      <td>1</td>\n",
       "      <td>0</td>\n",
       "      <td>1.391211e-01</td>\n",
       "      <td>Women</td>\n",
       "      <td>uni</td>\n",
       "      <td>little girls are the devil</td>\n",
       "    </tr>\n",
       "    <tr>\n",
       "      <th>883</th>\n",
       "      <td>52710</td>\n",
       "      <td>1</td>\n",
       "      <td>0</td>\n",
       "      <td>1.767753e-01</td>\n",
       "      <td>Women</td>\n",
       "      <td>multi</td>\n",
       "      <td>loading the dishwasher in the back solid move</td>\n",
       "    </tr>\n",
       "    <tr>\n",
       "      <th>717</th>\n",
       "      <td>71950</td>\n",
       "      <td>1</td>\n",
       "      <td>0</td>\n",
       "      <td>2.672294e-01</td>\n",
       "      <td>Women</td>\n",
       "      <td>multi</td>\n",
       "      <td>if they aren't meant to cook why do they have ...</td>\n",
       "    </tr>\n",
       "    <tr>\n",
       "      <th>482</th>\n",
       "      <td>97514</td>\n",
       "      <td>1</td>\n",
       "      <td>0</td>\n",
       "      <td>2.982751e-01</td>\n",
       "      <td>Women</td>\n",
       "      <td>multi</td>\n",
       "      <td>scientists have discovered that they have a lo...</td>\n",
       "    </tr>\n",
       "    <tr>\n",
       "      <th>766</th>\n",
       "      <td>7915</td>\n",
       "      <td>1</td>\n",
       "      <td>0</td>\n",
       "      <td>3.492091e-01</td>\n",
       "      <td>Women</td>\n",
       "      <td>multi</td>\n",
       "      <td>they're just like eggs better when beaten well</td>\n",
       "    </tr>\n",
       "    <tr>\n",
       "      <th>140</th>\n",
       "      <td>10476</td>\n",
       "      <td>1</td>\n",
       "      <td>0</td>\n",
       "      <td>4.061084e-01</td>\n",
       "      <td>Women</td>\n",
       "      <td>multi</td>\n",
       "      <td>how to fix a noisy dishwasher</td>\n",
       "    </tr>\n",
       "    <tr>\n",
       "      <th>829</th>\n",
       "      <td>97456</td>\n",
       "      <td>1</td>\n",
       "      <td>0</td>\n",
       "      <td>4.434752e-01</td>\n",
       "      <td>Women</td>\n",
       "      <td>multi</td>\n",
       "      <td>rare picture of a dishwasher at birth</td>\n",
       "    </tr>\n",
       "    <tr>\n",
       "      <th>361</th>\n",
       "      <td>42589</td>\n",
       "      <td>1</td>\n",
       "      <td>0</td>\n",
       "      <td>4.861064e-01</td>\n",
       "      <td>Women</td>\n",
       "      <td>multi</td>\n",
       "      <td>had to load these by hand today felt like a sy...</td>\n",
       "    </tr>\n",
       "  </tbody>\n",
       "</table>\n",
       "</div>"
      ],
      "text/plain": [
       "        id  True Label  Label         Proba Community Multi/Uni  \\\n",
       "456  80321           1      0  6.090000e-07     Women     multi   \n",
       "597  21849           1      0  3.470000e-06     Women     multi   \n",
       "171  80713           1      0  8.080000e-06     Women     multi   \n",
       "13   35279           1      0  5.350000e-05     Women     multi   \n",
       "799  96581           1      0  5.055180e-04     Women     multi   \n",
       "206  64803           1      0  7.357490e-04     Women     multi   \n",
       "155   6931           1      0  1.155491e-03     Women     multi   \n",
       "947  67350           1      0  1.173907e-03     Women     multi   \n",
       "636  60193           1      0  1.957022e-03     Women     multi   \n",
       "300  48956           1      0  4.765443e-03     Women     multi   \n",
       "246  47863           1      0  6.108449e-03     Women     multi   \n",
       "113  48132           1      0  6.466872e-03     Women     multi   \n",
       "73    7291           1      0  1.005725e-02     Women     multi   \n",
       "160  14583           1      0  1.062303e-02     Women     multi   \n",
       "914  61597           1      0  2.466366e-02     Women     multi   \n",
       "39   98026           1      0  3.116475e-02     Women     multi   \n",
       "975  49201           1      0  3.297436e-02     Women     multi   \n",
       "114  81370           1      0  5.326708e-02     Women     multi   \n",
       "313  73842           1      0  6.484312e-02     Women     multi   \n",
       "691  10462           1      0  1.143772e-01     Women       uni   \n",
       "251   5968           1      0  1.359175e-01     Women     multi   \n",
       "919   6427           1      0  1.391211e-01     Women       uni   \n",
       "883  52710           1      0  1.767753e-01     Women     multi   \n",
       "717  71950           1      0  2.672294e-01     Women     multi   \n",
       "482  97514           1      0  2.982751e-01     Women     multi   \n",
       "766   7915           1      0  3.492091e-01     Women     multi   \n",
       "140  10476           1      0  4.061084e-01     Women     multi   \n",
       "829  97456           1      0  4.434752e-01     Women     multi   \n",
       "361  42589           1      0  4.861064e-01     Women     multi   \n",
       "\n",
       "                                                  Text  \n",
       "456  within these places they should be staying jun...  \n",
       "597                march 8th international women's day  \n",
       "171                        rare picture of child birth  \n",
       "13   when you convert your dishwasher into a weed e...  \n",
       "799  \"if a dishwasher wore pants, would it wear the...  \n",
       "206  when she asked for equal rights so i gave her ...  \n",
       "155         the newest hate group the dumb stupid klan  \n",
       "947           turn your dishwasher into a snow remover  \n",
       "636  would ya look at that this dryer comes with a ...  \n",
       "300  he won because he is a boy competing in a fema...  \n",
       "246  he won because he is a boy competing in a fema...  \n",
       "113     black friday deal buy one get one free toaster  \n",
       "73             it's a piece of cake if she's not awake  \n",
       "160        man: i'd like to trade her in for newer one  \n",
       "914  when you realize you're pregnant because you p...  \n",
       "39   best thing about her blowjob?... you know shes...  \n",
       "975  3.8 billion of them on earth. why isn't it cle...  \n",
       "114               the fucking dishwasher is acting up!  \n",
       "313                           international boxing day  \n",
       "691  back in my day there were only two genders mal...  \n",
       "251                what would you do if i got pregnant  \n",
       "919                         little girls are the devil  \n",
       "883      loading the dishwasher in the back solid move  \n",
       "717  if they aren't meant to cook why do they have ...  \n",
       "482  scientists have discovered that they have a lo...  \n",
       "766     they're just like eggs better when beaten well  \n",
       "140                      how to fix a noisy dishwasher  \n",
       "829              rare picture of a dishwasher at birth  \n",
       "361  had to load these by hand today felt like a sy...  "
      ]
     },
     "execution_count": 46,
     "metadata": {},
     "output_type": "execute_result"
    }
   ],
   "source": [
    "MissCl = FP_sortedFrame[FP_sortedFrame['Community'] == 'Women']\n",
    "MissCl.sort_values(\"Proba\")\n",
    "MissCl"
   ]
  },
  {
   "cell_type": "code",
   "execution_count": 47,
   "id": "4d9e99f7",
   "metadata": {
    "execution": {
     "iopub.execute_input": "2021-08-24T10:26:42.111644Z",
     "iopub.status.busy": "2021-08-24T10:26:42.110998Z",
     "iopub.status.idle": "2021-08-24T10:26:42.118976Z",
     "shell.execute_reply": "2021-08-24T10:26:42.119465Z",
     "shell.execute_reply.started": "2021-08-24T10:23:44.032488Z"
    },
    "papermill": {
     "duration": 0.121896,
     "end_time": "2021-08-24T10:26:42.119671",
     "exception": false,
     "start_time": "2021-08-24T10:26:41.997775",
     "status": "completed"
    },
    "tags": []
   },
   "outputs": [
    {
     "name": "stdout",
     "output_type": "stream",
     "text": [
      "Number of multimodal samples in the dataset:  247\n",
      "Number of unimodal samples in the dataset:  41\n"
     ]
    }
   ],
   "source": [
    "multi_sample_in_FP = FP[FP['Multi/Uni'] == 'multi']\n",
    "uni_sample_in_FP = FP[FP['Multi/Uni'] == 'uni']\n",
    "\n",
    "numb_multi_sample_FP = len(multi_sample_in_FP)\n",
    "numb_uni_sample_FP = len(uni_sample_in_FP)\n",
    "\n",
    "print(\"Number of multimodal samples in the dataset: \", numb_multi_sample_FP)\n",
    "print(\"Number of unimodal samples in the dataset: \", numb_uni_sample_FP)"
   ]
  },
  {
   "cell_type": "code",
   "execution_count": 48,
   "id": "d25e35a4",
   "metadata": {
    "execution": {
     "iopub.execute_input": "2021-08-24T10:26:42.347403Z",
     "iopub.status.busy": "2021-08-24T10:26:42.346421Z",
     "iopub.status.idle": "2021-08-24T10:26:42.667216Z",
     "shell.execute_reply": "2021-08-24T10:26:42.667681Z",
     "shell.execute_reply.started": "2021-08-24T10:23:44.047796Z"
    },
    "papermill": {
     "duration": 0.436173,
     "end_time": "2021-08-24T10:26:42.667838",
     "exception": false,
     "start_time": "2021-08-24T10:26:42.231665",
     "status": "completed"
    },
    "tags": []
   },
   "outputs": [
    {
     "data": {
      "text/plain": [
       "Text(0, 0.5, 'number of sample')"
      ]
     },
     "execution_count": 48,
     "metadata": {},
     "output_type": "execute_result"
    },
    {
     "data": {
      "image/png": "[encoded data removed]",
      "text/plain": [
       "<Figure size 432x288 with 1 Axes>"
      ]
     },
     "metadata": {
      "needs_background": "light"
     },
     "output_type": "display_data"
    }
   ],
   "source": [
    "Disable_sample_FP = FP[FP['Community'] == 'Disable']\n",
    "Women_sample_FP = FP[FP['Community'] == 'Women']\n",
    "LGBT_sample_FP = FP[FP['Community'] == 'LGBT']\n",
    "Black_sample_FP = FP[FP['Community'] == 'Black']\n",
    "Musulman_sample_FP = FP[FP['Community'] == 'Musulman']\n",
    "FakeNews_sample_FP = FP[FP['Community'] == 'Fake News']\n",
    "NA_sample_FP = FP[FP['Community'] == 'Not Applicable']\n",
    "IncitingViolence_sample_FP = FP[FP['Community'] == 'Inciting Violence']\n",
    "Transgender_sample_FP = FP[FP['Community'] == 'Transgender']\n",
    "Ginger_sample_FP = FP[FP['Community'] == 'Ginger']\n",
    "Immigrant_sample_FP = FP[FP['Community'] == 'Immigrant']\n",
    "Jewish_sample_FP = FP[FP['Community'] == 'Jewish']\n",
    "PeopleofColor_sample_FP = FP[FP['Community'] == 'People of Color']\n",
    "White_sample_FP = FP[FP['Community'] == 'White']\n",
    "Indian_sample_FP = FP[FP['Community'] == 'Indian']\n",
    "Japanese_sample_FP = FP[FP['Community'] == 'Japanese']\n",
    "Chinese_sample_FP = FP[FP['Community'] == 'Chinese']\n",
    "Asian_sample_FP = FP[FP['Community'] == 'Asian']\n",
    "Politic_sample_FP = FP[FP['Community'] == 'Politic']\n",
    "German_sample_FP = FP[FP['Community'] == 'German']\n",
    "Romanian_sample_FP = FP[FP['Community'] == 'Romania']\n",
    "Christian_sample_FP = FP[FP['Community'] == 'Christian']\n",
    "\n",
    "FP_categories = {\n",
    "'Disable' : len(Disable_sample_FP),\n",
    "'Women' : len(Women_sample_FP),\n",
    "'LGBT' : len(LGBT_sample_FP),\n",
    "'Black' : len(Black_sample_FP),\n",
    "'Musulman' : len(Musulman_sample_FP),\n",
    "'FakeNews' : len(FakeNews_sample_FP),\n",
    "'NA' : len(NA_sample_FP),\n",
    "'Inciting Violence' : len(IncitingViolence_sample_FP),\n",
    "'Transgender' : len(Transgender_sample_FP),\n",
    "'Ginger' : len(Ginger_sample_FP),\n",
    "'Immigrant' : len(Immigrant_sample_FP),\n",
    "'Jewish' : len(Jewish_sample_FP),\n",
    "'People of Color' : len(PeopleofColor_sample_FP),\n",
    "'White' : len(White_sample_FP),\n",
    "'Indian' : len(Indian_sample_FP),\n",
    "'Japanese' : len(Japanese_sample_FP),\n",
    "'Chinese' : len(Chinese_sample_FP),\n",
    "'Asian' : len(Asian_sample_FP),\n",
    "'Politic' : len(Politic_sample_FP),\n",
    "'German' : len(German_sample_FP),\n",
    "'Romanian' : len(Romanian_sample_FP),\n",
    "'Christian' : len(Christian_sample_FP)\n",
    "}\n",
    "\n",
    "lists = sorted(FP_categories.items()) # sorted by key, return a list of tuples\n",
    "categories, numb_of_sample = zip(*lists) # unpack a list of pairs into two tuples\n",
    "\n",
    "plt.xticks(rotation='vertical')\n",
    "df = plt.bar(categories, numb_of_sample, color='b')\n",
    "plt.title('Number of sample by category')\n",
    "plt.xlabel('categories')\n",
    "plt.ylabel('number of sample')"
   ]
  },
  {
   "cell_type": "code",
   "execution_count": 49,
   "id": "81b222e5",
   "metadata": {
    "execution": {
     "iopub.execute_input": "2021-08-24T10:26:42.896719Z",
     "iopub.status.busy": "2021-08-24T10:26:42.895747Z",
     "iopub.status.idle": "2021-08-24T10:26:43.206447Z",
     "shell.execute_reply": "2021-08-24T10:26:43.206947Z",
     "shell.execute_reply.started": "2021-08-24T10:23:44.364823Z"
    },
    "papermill": {
     "duration": 0.426094,
     "end_time": "2021-08-24T10:26:43.207118",
     "exception": false,
     "start_time": "2021-08-24T10:26:42.781024",
     "status": "completed"
    },
    "tags": []
   },
   "outputs": [
    {
     "data": {
      "text/plain": [
       "Text(0, 0.5, 'number of sample')"
      ]
     },
     "execution_count": 49,
     "metadata": {},
     "output_type": "execute_result"
    },
    {
     "data": {
      "image/png": "[encoded data removed]",
      "text/plain": [
       "<Figure size 432x288 with 1 Axes>"
      ]
     },
     "metadata": {
      "needs_background": "light"
     },
     "output_type": "display_data"
    }
   ],
   "source": [
    "Acc_FP_Disable = len(Disable_sample_FP) / len(Disable_sample_h) * 100\n",
    "Acc_FP_Women = len(Women_sample_FP) / len(Women_sample_h) * 100\n",
    "Acc_FP_LGBT = len(LGBT_sample_FP) / len(LGBT_sample_h) * 100\n",
    "Acc_FP_Black = len(Black_sample_FP) / len(Black_sample_h) * 100\n",
    "Acc_FP_Musulman = len(Musulman_sample_FP) / len(Musulman_sample_h) * 100\n",
    "Acc_FP_FakeNews = len(FakeNews_sample_FP) / len(FakeNews_sample_h) * 100\n",
    "Acc_FP_NA = len(NA_sample_FP) / len(NA_sample_h) * 100\n",
    "Acc_FP_IncitingViolence = len(IncitingViolence_sample_FP) / len(IncitingViolence_sample_h) * 100\n",
    "Acc_FP_Transgender = len(Transgender_sample_FP) / len(Transgender_sample_h) * 100\n",
    "Acc_FP_Ginger = len(Ginger_sample_FP) / len(Ginger_sample_h) * 100\n",
    "Acc_FP_Immigrant = len(Immigrant_sample_FP) / len(Immigrant_sample_h) * 100\n",
    "Acc_FP_Jewish = len(Jewish_sample_FP) / len(Jewish_sample_h) * 100\n",
    "Acc_FP_PeopleofColor = len(PeopleofColor_sample_FP) / len(PeopleofColor_sample_h) * 100\n",
    "Acc_FP_White = len(White_sample_FP) / len(White_sample_h) * 100\n",
    "Acc_FP_Indian = len(Indian_sample_FP) / len(Indian_sample_h) * 100\n",
    "Acc_FP_Japanese = len(Japanese_sample_FP) / len(Japanese_sample_h) * 100\n",
    "Acc_FP_Chinese = len(Chinese_sample_FP) / len(Chinese_sample_h) * 100\n",
    "Acc_FP_Asian = len(Asian_sample_FP) / len(Asian_sample_h) * 100\n",
    "Acc_FP_Politic = len(Politic_sample_FP) / len(Politic_sample_h) * 100\n",
    "Acc_FP_German = len(German_sample_FP) / len(German_sample_h) * 100\n",
    "Acc_FP_Romanian = 0\n",
    "Acc_FP_Christian = len(Christian_sample_FP) / len(Christian_sample_h) * 100\n",
    "\n",
    "\n",
    "Acc_FP_categories = {\n",
    "'Disable' : Acc_FP_Disable,\n",
    "'Women' : Acc_FP_Women,\n",
    "'LGBT' : Acc_FP_LGBT,\n",
    "'Black' : Acc_FP_Black,\n",
    "'Musulman' : Acc_FP_Musulman,\n",
    "'FakeNews' : Acc_FP_FakeNews,\n",
    "'NA' : Acc_FP_NA,\n",
    "'Inciting Violence' : Acc_FP_IncitingViolence,\n",
    "'Transgender' : Acc_FP_Transgender,\n",
    "'Ginger' : Acc_FP_Ginger,\n",
    "'Immigrant' : Acc_FP_Immigrant,\n",
    "'Jewish' : Acc_FP_Jewish,\n",
    "'People of Color' : Acc_FP_PeopleofColor,\n",
    "'White' : Acc_FP_White,\n",
    "'Indian' : Acc_FP_Indian,\n",
    "'Japanese' : Acc_FP_Japanese,\n",
    "'Chinese' : Acc_FP_Chinese,\n",
    "'Asian' : Acc_FP_Asian,\n",
    "'Politic' : Acc_FP_Politic,\n",
    "'German' : Acc_FP_German,\n",
    "'Romanian' : Acc_FP_Romanian,\n",
    "'Christian' : Acc_FP_Christian\n",
    "}\n",
    "\n",
    "lists = sorted(Acc_FP_categories.items()) # sorted by key, return a list of tuples\n",
    "categories, numb_of_sample = zip(*lists) # unpack a list of pairs into two tuples\n",
    "\n",
    "plt.xticks(rotation='vertical')\n",
    "df = plt.bar(categories, numb_of_sample, color=(0.5,0.1,0.5,0.6))\n",
    "plt.title('Number of sample by category')\n",
    "plt.xlabel('categories')\n",
    "plt.ylabel('number of sample')"
   ]
  },
  {
   "cell_type": "code",
   "execution_count": 50,
   "id": "7d795979",
   "metadata": {
    "execution": {
     "iopub.execute_input": "2021-08-24T10:26:43.440337Z",
     "iopub.status.busy": "2021-08-24T10:26:43.439411Z",
     "iopub.status.idle": "2021-08-24T10:26:43.461197Z",
     "shell.execute_reply": "2021-08-24T10:26:43.460657Z",
     "shell.execute_reply.started": "2021-08-24T10:23:44.665704Z"
    },
    "papermill": {
     "duration": 0.139363,
     "end_time": "2021-08-24T10:26:43.461343",
     "exception": false,
     "start_time": "2021-08-24T10:26:43.321980",
     "status": "completed"
    },
    "tags": []
   },
   "outputs": [
    {
     "name": "stdout",
     "output_type": "stream",
     "text": [
      "Fail on Disable at 60.0 %\n",
      "Fail on Women at 67.44186046511628 %\n",
      "Fail on LGBT at 60.0 %\n",
      "Fail on Black at 60.71428571428571 %\n",
      "Fail on Musulman at 54.83870967741935 %\n",
      "Fail on FakeNews at 40.0 %\n",
      "Fail on NA at 66.66666666666666 %\n",
      "Fail on Inciting Violence at 76.92307692307693 %\n",
      "Fail on Transgender at 69.23076923076923 %\n",
      "Fail on Ginger at 0.0 %\n",
      "Fail on Immigrant at 66.66666666666666 %\n",
      "Fail on Jewish at 42.857142857142854 %\n",
      "Fail on People of Color at 57.89473684210527 %\n",
      "Fail on White at 45.45454545454545 %\n",
      "Fail on Indian at 50.0 %\n",
      "Fail on Japanese at 66.66666666666666 %\n",
      "Fail on Chinese at 60.0 %\n",
      "Fail on Asian at 85.71428571428571 %\n",
      "Fail on Politic at 0.0 %\n",
      "Fail on German at 100.0 %\n",
      "Fail on Romanian at 0 %\n",
      "Fail on Christian at 0.0 %\n"
     ]
    }
   ],
   "source": [
    "for key, value in Acc_FP_categories.items():\n",
    "    print(\"Fail on\", key, 'at', value, '%')"
   ]
  },
  {
   "cell_type": "markdown",
   "id": "e1b7ccae",
   "metadata": {
    "papermill": {
     "duration": 0.113439,
     "end_time": "2021-08-24T10:26:43.689515",
     "exception": false,
     "start_time": "2021-08-24T10:26:43.576076",
     "status": "completed"
    },
    "tags": []
   },
   "source": [
    "# Exploring result in TP dataset"
   ]
  },
  {
   "cell_type": "code",
   "execution_count": 51,
   "id": "8ffdf84b",
   "metadata": {
    "execution": {
     "iopub.execute_input": "2021-08-24T10:26:43.935710Z",
     "iopub.status.busy": "2021-08-24T10:26:43.934481Z",
     "iopub.status.idle": "2021-08-24T10:26:43.939982Z",
     "shell.execute_reply": "2021-08-24T10:26:43.939411Z",
     "shell.execute_reply.started": "2021-08-24T10:23:44.685754Z"
    },
    "papermill": {
     "duration": 0.136904,
     "end_time": "2021-08-24T10:26:43.940126",
     "exception": false,
     "start_time": "2021-08-24T10:26:43.803222",
     "status": "completed"
    },
    "tags": []
   },
   "outputs": [
    {
     "data": {
      "text/html": [
       "<div>\n",
       "<style scoped>\n",
       "    .dataframe tbody tr th:only-of-type {\n",
       "        vertical-align: middle;\n",
       "    }\n",
       "\n",
       "    .dataframe tbody tr th {\n",
       "        vertical-align: top;\n",
       "    }\n",
       "\n",
       "    .dataframe thead th {\n",
       "        text-align: right;\n",
       "    }\n",
       "</style>\n",
       "<table border=\"1\" class=\"dataframe\">\n",
       "  <thead>\n",
       "    <tr style=\"text-align: right;\">\n",
       "      <th></th>\n",
       "      <th>id</th>\n",
       "      <th>True Label</th>\n",
       "      <th>Label</th>\n",
       "      <th>Proba</th>\n",
       "      <th>Community</th>\n",
       "      <th>Multi/Uni</th>\n",
       "      <th>Text</th>\n",
       "    </tr>\n",
       "  </thead>\n",
       "  <tbody>\n",
       "    <tr>\n",
       "      <th>7</th>\n",
       "      <td>70691</td>\n",
       "      <td>0</td>\n",
       "      <td>0</td>\n",
       "      <td>0.000009</td>\n",
       "      <td>Not Applicable</td>\n",
       "      <td>Uni</td>\n",
       "      <td>overdose</td>\n",
       "    </tr>\n",
       "    <tr>\n",
       "      <th>46</th>\n",
       "      <td>52971</td>\n",
       "      <td>0</td>\n",
       "      <td>0</td>\n",
       "      <td>0.002404</td>\n",
       "      <td>LGBT</td>\n",
       "      <td>multi</td>\n",
       "      <td>that's a man baby!</td>\n",
       "    </tr>\n",
       "    <tr>\n",
       "      <th>51</th>\n",
       "      <td>24973</td>\n",
       "      <td>0</td>\n",
       "      <td>0</td>\n",
       "      <td>0.000780</td>\n",
       "      <td>Not Applicable</td>\n",
       "      <td>uni</td>\n",
       "      <td>in england they drive on the left in canada we...</td>\n",
       "    </tr>\n",
       "    <tr>\n",
       "      <th>58</th>\n",
       "      <td>18239</td>\n",
       "      <td>0</td>\n",
       "      <td>0</td>\n",
       "      <td>0.000378</td>\n",
       "      <td>Not Applicable</td>\n",
       "      <td>multi</td>\n",
       "      <td>orange is the new black</td>\n",
       "    </tr>\n",
       "    <tr>\n",
       "      <th>60</th>\n",
       "      <td>59167</td>\n",
       "      <td>0</td>\n",
       "      <td>0</td>\n",
       "      <td>0.000765</td>\n",
       "      <td>Not Applicable</td>\n",
       "      <td>multi</td>\n",
       "      <td>i'm not racist, but... racist memes are allowe...</td>\n",
       "    </tr>\n",
       "    <tr>\n",
       "      <th>...</th>\n",
       "      <td>...</td>\n",
       "      <td>...</td>\n",
       "      <td>...</td>\n",
       "      <td>...</td>\n",
       "      <td>...</td>\n",
       "      <td>...</td>\n",
       "      <td>...</td>\n",
       "    </tr>\n",
       "    <tr>\n",
       "      <th>987</th>\n",
       "      <td>13890</td>\n",
       "      <td>0</td>\n",
       "      <td>0</td>\n",
       "      <td>0.074726</td>\n",
       "      <td>Not Applicable</td>\n",
       "      <td>multi</td>\n",
       "      <td>when this said it would be dry this wasn't wha...</td>\n",
       "    </tr>\n",
       "    <tr>\n",
       "      <th>994</th>\n",
       "      <td>79405</td>\n",
       "      <td>0</td>\n",
       "      <td>0</td>\n",
       "      <td>0.049045</td>\n",
       "      <td>Musulman</td>\n",
       "      <td>multi</td>\n",
       "      <td>congress is now stronger than ever to fight te...</td>\n",
       "    </tr>\n",
       "    <tr>\n",
       "      <th>995</th>\n",
       "      <td>3869</td>\n",
       "      <td>0</td>\n",
       "      <td>0</td>\n",
       "      <td>0.000301</td>\n",
       "      <td>Not Applicable</td>\n",
       "      <td>multi</td>\n",
       "      <td>a mother's love for the child is a divine thing</td>\n",
       "    </tr>\n",
       "    <tr>\n",
       "      <th>996</th>\n",
       "      <td>23817</td>\n",
       "      <td>0</td>\n",
       "      <td>0</td>\n",
       "      <td>0.000613</td>\n",
       "      <td>Not Applicable</td>\n",
       "      <td>uni</td>\n",
       "      <td>sea monkeys</td>\n",
       "    </tr>\n",
       "    <tr>\n",
       "      <th>998</th>\n",
       "      <td>29384</td>\n",
       "      <td>0</td>\n",
       "      <td>0</td>\n",
       "      <td>0.020082</td>\n",
       "      <td>Not Applicable</td>\n",
       "      <td>multi</td>\n",
       "      <td>they're in a row</td>\n",
       "    </tr>\n",
       "  </tbody>\n",
       "</table>\n",
       "<p>326 rows × 7 columns</p>\n",
       "</div>"
      ],
      "text/plain": [
       "        id  True Label  Label     Proba       Community Multi/Uni  \\\n",
       "7    70691           0      0  0.000009  Not Applicable       Uni   \n",
       "46   52971           0      0  0.002404            LGBT     multi   \n",
       "51   24973           0      0  0.000780  Not Applicable       uni   \n",
       "58   18239           0      0  0.000378  Not Applicable     multi   \n",
       "60   59167           0      0  0.000765  Not Applicable     multi   \n",
       "..     ...         ...    ...       ...             ...       ...   \n",
       "987  13890           0      0  0.074726  Not Applicable     multi   \n",
       "994  79405           0      0  0.049045        Musulman     multi   \n",
       "995   3869           0      0  0.000301  Not Applicable     multi   \n",
       "996  23817           0      0  0.000613  Not Applicable       uni   \n",
       "998  29384           0      0  0.020082  Not Applicable     multi   \n",
       "\n",
       "                                                  Text  \n",
       "7                                             overdose  \n",
       "46                                  that's a man baby!  \n",
       "51   in england they drive on the left in canada we...  \n",
       "58                             orange is the new black  \n",
       "60   i'm not racist, but... racist memes are allowe...  \n",
       "..                                                 ...  \n",
       "987  when this said it would be dry this wasn't wha...  \n",
       "994  congress is now stronger than ever to fight te...  \n",
       "995    a mother's love for the child is a divine thing  \n",
       "996                                        sea monkeys  \n",
       "998                                   they're in a row  \n",
       "\n",
       "[326 rows x 7 columns]"
      ]
     },
     "execution_count": 51,
     "metadata": {},
     "output_type": "execute_result"
    }
   ],
   "source": [
    "TP"
   ]
  },
  {
   "cell_type": "code",
   "execution_count": 52,
   "id": "d9aa5e01",
   "metadata": {
    "execution": {
     "iopub.execute_input": "2021-08-24T10:26:44.179028Z",
     "iopub.status.busy": "2021-08-24T10:26:44.178365Z",
     "iopub.status.idle": "2021-08-24T10:26:44.181430Z",
     "shell.execute_reply": "2021-08-24T10:26:44.182080Z",
     "shell.execute_reply.started": "2021-08-24T10:23:44.706383Z"
    },
    "papermill": {
     "duration": 0.125327,
     "end_time": "2021-08-24T10:26:44.182296",
     "exception": false,
     "start_time": "2021-08-24T10:26:44.056969",
     "status": "completed"
    },
    "tags": []
   },
   "outputs": [
    {
     "name": "stdout",
     "output_type": "stream",
     "text": [
      "Number of multimodal samples in the dataset:  192\n",
      "Number of unimodal samples in the dataset:  133\n"
     ]
    }
   ],
   "source": [
    "multi_sample_in_TP = TP[TP['Multi/Uni'] == 'multi']\n",
    "uni_sample_in_TP = TP[TP['Multi/Uni'] == 'uni']\n",
    "\n",
    "numb_multi_sample_TP = len(multi_sample_in_TP)\n",
    "numb_uni_sample_TP = len(uni_sample_in_TP)\n",
    "\n",
    "print(\"Number of multimodal samples in the dataset: \", numb_multi_sample_TP)\n",
    "print(\"Number of unimodal samples in the dataset: \", numb_uni_sample_TP)"
   ]
  },
  {
   "cell_type": "code",
   "execution_count": 53,
   "id": "420f2e04",
   "metadata": {
    "execution": {
     "iopub.execute_input": "2021-08-24T10:26:44.420276Z",
     "iopub.status.busy": "2021-08-24T10:26:44.419559Z",
     "iopub.status.idle": "2021-08-24T10:26:44.735261Z",
     "shell.execute_reply": "2021-08-24T10:26:44.735739Z",
     "shell.execute_reply.started": "2021-08-24T10:23:44.719074Z"
    },
    "papermill": {
     "duration": 0.435517,
     "end_time": "2021-08-24T10:26:44.735927",
     "exception": false,
     "start_time": "2021-08-24T10:26:44.300410",
     "status": "completed"
    },
    "tags": []
   },
   "outputs": [
    {
     "data": {
      "text/plain": [
       "Text(0, 0.5, 'number of sample')"
      ]
     },
     "execution_count": 53,
     "metadata": {},
     "output_type": "execute_result"
    },
    {
     "data": {
      "image/png": "[encoded data removed]",
      "text/plain": [
       "<Figure size 432x288 with 1 Axes>"
      ]
     },
     "metadata": {
      "needs_background": "light"
     },
     "output_type": "display_data"
    }
   ],
   "source": [
    "Disable_sample_TP = TP[TP['Community'] == 'Disable']\n",
    "Women_sample_TP = TP[TP['Community'] == 'Women']\n",
    "LGBT_sample_TP = TP[TP['Community'] == 'LGBT']\n",
    "Black_sample_TP = TP[TP['Community'] == 'Black']\n",
    "Musulman_sample_TP = TP[TP['Community'] == 'Musulman']\n",
    "FakeNews_sample_TP = TP[TP['Community'] == 'Fake News']\n",
    "NA_sample_TP = TP[TP['Community'] == 'Not Applicable']\n",
    "IncitingViolence_sample_TP = TP[TP['Community'] == 'Inciting Violence']\n",
    "Transgender_sample_TP = TP[TP['Community'] == 'Transgender']\n",
    "Ginger_sample_TP = TP[TP['Community'] == 'Ginger']\n",
    "Immigrant_sample_TP = TP[TP['Community'] == 'Immigrant']\n",
    "Jewish_sample_TP = TP[TP['Community'] == 'Jewish']\n",
    "PeopleofColor_sample_TP = TP[TP['Community'] == 'People of Color']\n",
    "White_sample_TP = TP[TP['Community'] == 'White']\n",
    "Indian_sample_TP = TP[TP['Community'] == 'Indian']\n",
    "Japanese_sample_TP = TP[TP['Community'] == 'Japanese']\n",
    "Chinese_sample_TP = TP[TP['Community'] == 'Chinese']\n",
    "Asian_sample_TP = TP[TP['Community'] == 'Asian']\n",
    "Politic_sample_TP = TP[TP['Community'] == 'Politic']\n",
    "German_sample_TP = TP[TP['Community'] == 'German']\n",
    "Romanian_sample_TP = TP[TP['Community'] == 'Romania']\n",
    "Christian_sample_TP = TP[TP['Community'] == 'Christian']\n",
    "\n",
    "TP_categories = {\n",
    "'Disable' : len(Disable_sample_TP),\n",
    "'Women' : len(Women_sample_TP),\n",
    "'LGBT' : len(LGBT_sample_TP),\n",
    "'Black' : len(Black_sample_TP),\n",
    "'Musulman' : len(Musulman_sample_TP),\n",
    "'FakeNews' : len(FakeNews_sample_TP),\n",
    "'NA' : len(NA_sample_TP),\n",
    "'Inciting Violence' : len(IncitingViolence_sample_TP),\n",
    "'Transgender' : len(Transgender_sample_TP),\n",
    "'Ginger' : len(Ginger_sample_TP),\n",
    "'Immigrant' : len(Immigrant_sample_TP),\n",
    "'Jewish' : len(Jewish_sample_TP),\n",
    "'People of Color' : len(PeopleofColor_sample_TP),\n",
    "'White' : len(White_sample_TP),\n",
    "'Indian' : len(Indian_sample_TP),\n",
    "'Japanese' : len(Japanese_sample_TP),\n",
    "'Chinese' : len(Chinese_sample_TP),\n",
    "'Asian' : len(Asian_sample_TP),\n",
    "'Politic' : len(Politic_sample_TP),\n",
    "'German' : len(German_sample_TP),\n",
    "'Romanian' : len(Romanian_sample_TP),\n",
    "'Christian' : len(Christian_sample_TP)\n",
    "}\n",
    "\n",
    "lists = sorted(TP_categories.items()) # sorted by key, return a list of tuples\n",
    "categories, numb_of_sample = zip(*lists) # unpack a list of pairs into two tuples\n",
    "\n",
    "plt.xticks(rotation='vertical')\n",
    "df = plt.bar(categories, numb_of_sample, color='b')\n",
    "plt.title('Number of sample by category')\n",
    "plt.xlabel('categories')\n",
    "plt.ylabel('number of sample')"
   ]
  },
  {
   "cell_type": "code",
   "execution_count": 54,
   "id": "b6cf00f2",
   "metadata": {
    "execution": {
     "iopub.execute_input": "2021-08-24T10:26:44.979587Z",
     "iopub.status.busy": "2021-08-24T10:26:44.978956Z",
     "iopub.status.idle": "2021-08-24T10:26:44.981532Z",
     "shell.execute_reply": "2021-08-24T10:26:44.982106Z",
     "shell.execute_reply.started": "2021-08-24T10:23:45.021903Z"
    },
    "papermill": {
     "duration": 0.129682,
     "end_time": "2021-08-24T10:26:44.982274",
     "exception": false,
     "start_time": "2021-08-24T10:26:44.852592",
     "status": "completed"
    },
    "tags": []
   },
   "outputs": [
    {
     "data": {
      "text/html": [
       "<div>\n",
       "<style scoped>\n",
       "    .dataframe tbody tr th:only-of-type {\n",
       "        vertical-align: middle;\n",
       "    }\n",
       "\n",
       "    .dataframe tbody tr th {\n",
       "        vertical-align: top;\n",
       "    }\n",
       "\n",
       "    .dataframe thead th {\n",
       "        text-align: right;\n",
       "    }\n",
       "</style>\n",
       "<table border=\"1\" class=\"dataframe\">\n",
       "  <thead>\n",
       "    <tr style=\"text-align: right;\">\n",
       "      <th></th>\n",
       "      <th>id</th>\n",
       "      <th>True Label</th>\n",
       "      <th>Label</th>\n",
       "      <th>Proba</th>\n",
       "      <th>Community</th>\n",
       "      <th>Multi/Uni</th>\n",
       "      <th>Text</th>\n",
       "    </tr>\n",
       "  </thead>\n",
       "  <tbody>\n",
       "  </tbody>\n",
       "</table>\n",
       "</div>"
      ],
      "text/plain": [
       "Empty DataFrame\n",
       "Columns: [id, True Label, Label, Proba, Community, Multi/Uni, Text]\n",
       "Index: []"
      ]
     },
     "execution_count": 54,
     "metadata": {},
     "output_type": "execute_result"
    }
   ],
   "source": [
    "Japanese_sample_TP"
   ]
  },
  {
   "cell_type": "code",
   "execution_count": 55,
   "id": "ce0f3aec",
   "metadata": {
    "execution": {
     "iopub.execute_input": "2021-08-24T10:26:45.219705Z",
     "iopub.status.busy": "2021-08-24T10:26:45.219084Z",
     "iopub.status.idle": "2021-08-24T10:26:45.523619Z",
     "shell.execute_reply": "2021-08-24T10:26:45.524193Z",
     "shell.execute_reply.started": "2021-08-24T10:23:45.035372Z"
    },
    "papermill": {
     "duration": 0.424746,
     "end_time": "2021-08-24T10:26:45.524371",
     "exception": false,
     "start_time": "2021-08-24T10:26:45.099625",
     "status": "completed"
    },
    "tags": []
   },
   "outputs": [
    {
     "data": {
      "text/plain": [
       "Text(0, 0.5, 'number of sample')"
      ]
     },
     "execution_count": 55,
     "metadata": {},
     "output_type": "execute_result"
    },
    {
     "data": {
      "image/png": "[encoded data removed]",
      "text/plain": [
       "<Figure size 432x288 with 1 Axes>"
      ]
     },
     "metadata": {
      "needs_background": "light"
     },
     "output_type": "display_data"
    }
   ],
   "source": [
    "Acc_TP_Disable = len(Disable_sample_TP) / len(Disable_sample_nh) * 100\n",
    "Acc_TP_Women = len(Women_sample_TP) / len(Women_sample_nh) * 100\n",
    "Acc_TP_LGBT = len(LGBT_sample_TP) / len(LGBT_sample_nh) * 100\n",
    "Acc_TP_Black = len(Black_sample_TP) / len(Black_sample_nh) * 100\n",
    "Acc_TP_Musulman = len(Musulman_sample_TP) / len(Musulman_sample_nh) * 100\n",
    "Acc_TP_FakeNews = len(FakeNews_sample_TP) / len(FakeNews_sample_nh) * 100\n",
    "Acc_TP_NA = len(NA_sample_TP) / len(NA_sample_nh) * 100\n",
    "Acc_TP_IncitingViolence = len(IncitingViolence_sample_TP) / len(IncitingViolence_sample_nh) * 100\n",
    "Acc_TP_Transgender = len(Transgender_sample_TP) / len(Transgender_sample_nh) * 100\n",
    "Acc_TP_Ginger = 0\n",
    "Acc_TP_Immigrant = len(Immigrant_sample_TP) / len(Immigrant_sample_nh) * 100\n",
    "Acc_TP_Jewish = len(Jewish_sample_TP) / len(Jewish_sample_h) * 100\n",
    "Acc_TP_PeopleofColor = len(PeopleofColor_sample_TP) / len(PeopleofColor_sample_nh) * 100\n",
    "Acc_TP_White = len(White_sample_TP) / len(White_sample_nh) * 100\n",
    "Acc_TP_Indian = 0\n",
    "Acc_TP_Japanese = 0\n",
    "Acc_TP_Chinese = len(Chinese_sample_TP) / len(Chinese_sample_nh) * 100\n",
    "Acc_TP_Asian = len(Asian_sample_TP) / len(Asian_sample_nh) * 100\n",
    "Acc_TP_Politic = len(Politic_sample_TP) / len(Politic_sample_nh) * 100\n",
    "Acc_TP_German = len(German_sample_TP) / len(German_sample_nh) * 100\n",
    "Acc_TP_Romanian = 0\n",
    "Acc_TP_Christian = 0\n",
    "\n",
    "\n",
    "Acc_TP_categories = {\n",
    "'Disable' : Acc_TP_Disable,\n",
    "'Women' : Acc_TP_Women,\n",
    "'LGBT' : Acc_TP_LGBT,\n",
    "'Black' : Acc_TP_Black,\n",
    "'Musulman' : Acc_TP_Musulman,\n",
    "'FakeNews' : Acc_TP_FakeNews,\n",
    "'NA' : Acc_TP_NA,\n",
    "'Inciting Violence' : Acc_TP_IncitingViolence,\n",
    "'Transgender' : Acc_TP_Transgender,\n",
    "'Ginger' : Acc_TP_Ginger,\n",
    "'Immigrant' : Acc_TP_Immigrant,\n",
    "'Jewish' : Acc_TP_Jewish,\n",
    "'People of Color' : Acc_TP_PeopleofColor,\n",
    "'White' : Acc_TP_White,\n",
    "'Indian' : Acc_TP_Indian,\n",
    "'Japanese' : Acc_TP_Japanese,\n",
    "'Chinese' : Acc_TP_Chinese,\n",
    "'Asian' : Acc_TP_Asian,\n",
    "'Politic' : Acc_TP_Politic,\n",
    "'German' : Acc_TP_German,\n",
    "'Romanian' : Acc_TP_Romanian,\n",
    "'Christian' : Acc_TP_Christian\n",
    "}\n",
    "\n",
    "lists = sorted(Acc_TP_categories.items()) # sorted by key, return a list of tuples\n",
    "categories, numb_of_sample = zip(*lists) # unpack a list of pairs into two tuples\n",
    "\n",
    "plt.xticks(rotation='vertical')\n",
    "df = plt.bar(categories, numb_of_sample, color=(0.5,0.1,0.5,0.6))\n",
    "plt.title('Number of sample by category')\n",
    "plt.xlabel('categories')\n",
    "plt.ylabel('number of sample')"
   ]
  },
  {
   "cell_type": "code",
   "execution_count": 56,
   "id": "7c5cc97a",
   "metadata": {
    "execution": {
     "iopub.execute_input": "2021-08-24T10:26:45.766525Z",
     "iopub.status.busy": "2021-08-24T10:26:45.765933Z",
     "iopub.status.idle": "2021-08-24T10:26:45.780787Z",
     "shell.execute_reply": "2021-08-24T10:26:45.781250Z",
     "shell.execute_reply.started": "2021-08-24T10:23:45.323700Z"
    },
    "papermill": {
     "duration": 0.137977,
     "end_time": "2021-08-24T10:26:45.781473",
     "exception": false,
     "start_time": "2021-08-24T10:26:45.643496",
     "status": "completed"
    },
    "tags": []
   },
   "outputs": [
    {
     "name": "stdout",
     "output_type": "stream",
     "text": [
      "Disable : 57.14285714285714 %\n",
      "Women : 70.58823529411765 %\n",
      "LGBT : 66.66666666666666 %\n",
      "Black : 46.15384615384615 %\n",
      "Musulman : 50.0 %\n",
      "FakeNews : 0.0 %\n",
      "NA : 66.2303664921466 %\n",
      "Inciting Violence : 0.0 %\n",
      "Transgender : 100.0 %\n",
      "Ginger : 0 %\n",
      "Immigrant : 100.0 %\n",
      "Jewish : 14.285714285714285 %\n",
      "People of Color : 50.0 %\n",
      "White : 75.0 %\n",
      "Indian : 0 %\n",
      "Japanese : 0 %\n",
      "Chinese : 100.0 %\n",
      "Asian : 75.0 %\n",
      "Politic : 64.28571428571429 %\n",
      "German : 50.0 %\n",
      "Romanian : 0 %\n",
      "Christian : 0 %\n"
     ]
    }
   ],
   "source": [
    "for key, value in Acc_TP_categories.items():\n",
    "    print(key, ':', value, '%')"
   ]
  },
  {
   "cell_type": "markdown",
   "id": "dbd79b2f",
   "metadata": {
    "papermill": {
     "duration": 0.120231,
     "end_time": "2021-08-24T10:26:46.021098",
     "exception": false,
     "start_time": "2021-08-24T10:26:45.900867",
     "status": "completed"
    },
    "tags": []
   },
   "source": [
    "# Women F1 Score"
   ]
  },
  {
   "cell_type": "code",
   "execution_count": 57,
   "id": "fc853c8a",
   "metadata": {
    "execution": {
     "iopub.execute_input": "2021-08-24T10:26:46.266721Z",
     "iopub.status.busy": "2021-08-24T10:26:46.265794Z",
     "iopub.status.idle": "2021-08-24T10:26:46.268676Z",
     "shell.execute_reply": "2021-08-24T10:26:46.268053Z",
     "shell.execute_reply.started": "2021-08-24T10:23:45.340351Z"
    },
    "papermill": {
     "duration": 0.129018,
     "end_time": "2021-08-24T10:26:46.268825",
     "exception": false,
     "start_time": "2021-08-24T10:26:46.139807",
     "status": "completed"
    },
    "tags": []
   },
   "outputs": [],
   "source": [
    "lenght_women_TN = len(TN[TN[\"Community\"] == \"Women\"])\n",
    "lenght_women_FN = len(FN[FN[\"Community\"] == \"Women\"])\n",
    "lenght_women_FP = len(FP[FP[\"Community\"] == \"Women\"])"
   ]
  },
  {
   "cell_type": "code",
   "execution_count": 58,
   "id": "f8011b54",
   "metadata": {
    "execution": {
     "iopub.execute_input": "2021-08-24T10:26:46.519492Z",
     "iopub.status.busy": "2021-08-24T10:26:46.518836Z",
     "iopub.status.idle": "2021-08-24T10:26:46.521323Z",
     "shell.execute_reply": "2021-08-24T10:26:46.521836Z",
     "shell.execute_reply.started": "2021-08-24T10:23:45.349978Z"
    },
    "papermill": {
     "duration": 0.127523,
     "end_time": "2021-08-24T10:26:46.522003",
     "exception": false,
     "start_time": "2021-08-24T10:26:46.394480",
     "status": "completed"
    },
    "tags": []
   },
   "outputs": [
    {
     "name": "stdout",
     "output_type": "stream",
     "text": [
      "The precision score is: 0.7368421052631579\n"
     ]
    }
   ],
   "source": [
    "# precision is the ratio of correctly predicted hateful memes to all pedicted hateful (so 129 and the wrong classified 52)\n",
    "#precision = TN / (TN + FN)\n",
    "\n",
    "precision_women = lenght_women_TN / (lenght_women_TN + lenght_women_FN)\n",
    "print( \"The precision score is:\", precision_women)"
   ]
  },
  {
   "cell_type": "code",
   "execution_count": 59,
   "id": "d1e15f6f",
   "metadata": {
    "execution": {
     "iopub.execute_input": "2021-08-24T10:26:46.764327Z",
     "iopub.status.busy": "2021-08-24T10:26:46.763766Z",
     "iopub.status.idle": "2021-08-24T10:26:46.768295Z",
     "shell.execute_reply": "2021-08-24T10:26:46.769284Z",
     "shell.execute_reply.started": "2021-08-24T10:23:45.368706Z"
    },
    "papermill": {
     "duration": 0.127785,
     "end_time": "2021-08-24T10:26:46.769614",
     "exception": false,
     "start_time": "2021-08-24T10:26:46.641829",
     "status": "completed"
    },
    "tags": []
   },
   "outputs": [
    {
     "name": "stdout",
     "output_type": "stream",
     "text": [
      "The recall score is: 0.32558139534883723\n"
     ]
    }
   ],
   "source": [
    "# recall is the ratio of correctly predicted hateful to all actual hateful (so 129 over the entire hateful meme in the dataset)\n",
    "#recall = TN / (TN + FP)\n",
    "\n",
    "recall_women = lenght_women_TN / (lenght_women_TN + lenght_women_FP)\n",
    "print(\"The recall score is:\", recall_women)"
   ]
  },
  {
   "cell_type": "code",
   "execution_count": 60,
   "id": "695b2d92",
   "metadata": {
    "execution": {
     "iopub.execute_input": "2021-08-24T10:26:47.017150Z",
     "iopub.status.busy": "2021-08-24T10:26:47.016464Z",
     "iopub.status.idle": "2021-08-24T10:26:47.021330Z",
     "shell.execute_reply": "2021-08-24T10:26:47.021904Z",
     "shell.execute_reply.started": "2021-08-24T10:23:45.379320Z"
    },
    "papermill": {
     "duration": 0.129338,
     "end_time": "2021-08-24T10:26:47.022077",
     "exception": false,
     "start_time": "2021-08-24T10:26:46.892739",
     "status": "completed"
    },
    "tags": []
   },
   "outputs": [
    {
     "name": "stdout",
     "output_type": "stream",
     "text": [
      "The Women F1 score is: 0.45161290322580644\n"
     ]
    }
   ],
   "source": [
    "#F1 score\n",
    "#The problem of the accuracy is that this metric doesn't represent well the performance of the model on both classes \n",
    "\n",
    "F1Score_women = (2 * precision_women * recall_women) / (precision_women + recall_women)\n",
    "print(\"The Women F1 score is:\", F1Score_women)"
   ]
  },
  {
   "cell_type": "markdown",
   "id": "85861c16",
   "metadata": {
    "papermill": {
     "duration": 0.120231,
     "end_time": "2021-08-24T10:26:47.262742",
     "exception": false,
     "start_time": "2021-08-24T10:26:47.142511",
     "status": "completed"
    },
    "tags": []
   },
   "source": [
    "# Disable F1 Score"
   ]
  },
  {
   "cell_type": "code",
   "execution_count": 61,
   "id": "3e4e1f3b",
   "metadata": {
    "execution": {
     "iopub.execute_input": "2021-08-24T10:26:47.509056Z",
     "iopub.status.busy": "2021-08-24T10:26:47.508216Z",
     "iopub.status.idle": "2021-08-24T10:26:47.511120Z",
     "shell.execute_reply": "2021-08-24T10:26:47.510479Z",
     "shell.execute_reply.started": "2021-08-24T10:23:45.391769Z"
    },
    "papermill": {
     "duration": 0.129676,
     "end_time": "2021-08-24T10:26:47.511253",
     "exception": false,
     "start_time": "2021-08-24T10:26:47.381577",
     "status": "completed"
    },
    "tags": []
   },
   "outputs": [],
   "source": [
    "lenght_Disable_TN = len(TN[TN[\"Community\"] == \"Disable\"])\n",
    "lenght_Disable_FN = len(FN[FN[\"Community\"] == \"Disable\"])\n",
    "lenght_Disable_FP = len(FP[FP[\"Community\"] == \"Disable\"])"
   ]
  },
  {
   "cell_type": "code",
   "execution_count": 62,
   "id": "1080fc4e",
   "metadata": {
    "execution": {
     "iopub.execute_input": "2021-08-24T10:26:47.755464Z",
     "iopub.status.busy": "2021-08-24T10:26:47.754791Z",
     "iopub.status.idle": "2021-08-24T10:26:47.758981Z",
     "shell.execute_reply": "2021-08-24T10:26:47.758015Z",
     "shell.execute_reply.started": "2021-08-24T10:23:45.408164Z"
    },
    "papermill": {
     "duration": 0.128599,
     "end_time": "2021-08-24T10:26:47.759243",
     "exception": false,
     "start_time": "2021-08-24T10:26:47.630644",
     "status": "completed"
    },
    "tags": []
   },
   "outputs": [
    {
     "name": "stdout",
     "output_type": "stream",
     "text": [
      "The precision score is: 0.88\n"
     ]
    }
   ],
   "source": [
    "# precision is the ratio of correctly predicted hateful memes to all pedicted hateful (so 129 and the wrong classified 52)\n",
    "#precision = TN / (TN + FN)\n",
    "\n",
    "precision_disable = lenght_Disable_TN / (lenght_Disable_TN + lenght_Disable_FN)\n",
    "print( \"The precision score is:\", precision_disable)"
   ]
  },
  {
   "cell_type": "code",
   "execution_count": 63,
   "id": "cf4f5e16",
   "metadata": {
    "execution": {
     "iopub.execute_input": "2021-08-24T10:26:48.004964Z",
     "iopub.status.busy": "2021-08-24T10:26:48.004093Z",
     "iopub.status.idle": "2021-08-24T10:26:48.008133Z",
     "shell.execute_reply": "2021-08-24T10:26:48.008833Z",
     "shell.execute_reply.started": "2021-08-24T10:23:45.419686Z"
    },
    "papermill": {
     "duration": 0.129268,
     "end_time": "2021-08-24T10:26:48.009034",
     "exception": false,
     "start_time": "2021-08-24T10:26:47.879766",
     "status": "completed"
    },
    "tags": []
   },
   "outputs": [
    {
     "name": "stdout",
     "output_type": "stream",
     "text": [
      "The recall score is: 0.4\n"
     ]
    }
   ],
   "source": [
    "# recall is the ratio of correctly predicted hateful to all actual hateful (so 129 over the entire hateful meme in the dataset)\n",
    "#recall = TN / (TN + FP)\n",
    "\n",
    "recall_disable = lenght_Disable_TN / (lenght_Disable_TN + lenght_Disable_FP)\n",
    "print(\"The recall score is:\", recall_disable)"
   ]
  },
  {
   "cell_type": "code",
   "execution_count": 64,
   "id": "99fc5db1",
   "metadata": {
    "execution": {
     "iopub.execute_input": "2021-08-24T10:26:48.253763Z",
     "iopub.status.busy": "2021-08-24T10:26:48.253112Z",
     "iopub.status.idle": "2021-08-24T10:26:48.257719Z",
     "shell.execute_reply": "2021-08-24T10:26:48.256995Z",
     "shell.execute_reply.started": "2021-08-24T10:23:45.431428Z"
    },
    "papermill": {
     "duration": 0.127565,
     "end_time": "2021-08-24T10:26:48.257893",
     "exception": false,
     "start_time": "2021-08-24T10:26:48.130328",
     "status": "completed"
    },
    "tags": []
   },
   "outputs": [
    {
     "name": "stdout",
     "output_type": "stream",
     "text": [
      "The Disable F1 score is: 0.55\n"
     ]
    }
   ],
   "source": [
    "#F1 score\n",
    "#The problem of the accuracy is that this metric doesn't represent well the performance of the model on both classes \n",
    "\n",
    "F1Score_disable = (2 * precision_disable * recall_disable) / (precision_disable + recall_disable)\n",
    "print(\"The Disable F1 score is:\", F1Score_disable)"
   ]
  },
  {
   "cell_type": "markdown",
   "id": "58ff0410",
   "metadata": {
    "papermill": {
     "duration": 0.122385,
     "end_time": "2021-08-24T10:26:48.503973",
     "exception": false,
     "start_time": "2021-08-24T10:26:48.381588",
     "status": "completed"
    },
    "tags": []
   },
   "source": [
    "# LGBT F1 Score"
   ]
  },
  {
   "cell_type": "code",
   "execution_count": 65,
   "id": "37dcf119",
   "metadata": {
    "execution": {
     "iopub.execute_input": "2021-08-24T10:26:48.753702Z",
     "iopub.status.busy": "2021-08-24T10:26:48.752988Z",
     "iopub.status.idle": "2021-08-24T10:26:48.755464Z",
     "shell.execute_reply": "2021-08-24T10:26:48.756009Z",
     "shell.execute_reply.started": "2021-08-24T10:23:45.442897Z"
    },
    "papermill": {
     "duration": 0.131394,
     "end_time": "2021-08-24T10:26:48.756166",
     "exception": false,
     "start_time": "2021-08-24T10:26:48.624772",
     "status": "completed"
    },
    "tags": []
   },
   "outputs": [],
   "source": [
    "lenght_LGBT_TN = len(TN[TN[\"Community\"] == \"LGBT\"])\n",
    "lenght_LGBT_FN = len(FN[FN[\"Community\"] == \"LGBT\"])\n",
    "lenght_LGBT_FP = len(FP[FP[\"Community\"] == \"LGBT\"])"
   ]
  },
  {
   "cell_type": "code",
   "execution_count": 66,
   "id": "c5e7fcbd",
   "metadata": {
    "execution": {
     "iopub.execute_input": "2021-08-24T10:26:49.001471Z",
     "iopub.status.busy": "2021-08-24T10:26:49.000837Z",
     "iopub.status.idle": "2021-08-24T10:26:49.006501Z",
     "shell.execute_reply": "2021-08-24T10:26:49.007164Z",
     "shell.execute_reply.started": "2021-08-24T10:23:45.458893Z"
    },
    "papermill": {
     "duration": 0.130233,
     "end_time": "2021-08-24T10:26:49.007378",
     "exception": false,
     "start_time": "2021-08-24T10:26:48.877145",
     "status": "completed"
    },
    "tags": []
   },
   "outputs": [
    {
     "name": "stdout",
     "output_type": "stream",
     "text": [
      "The precision score is: 0.6666666666666666\n"
     ]
    }
   ],
   "source": [
    "# precision is the ratio of correctly predicted hateful memes to all pedicted hateful (so 129 and the wrong classified 52)\n",
    "#precision = TN / (TN + FN)\n",
    "\n",
    "precision_LGBT = lenght_LGBT_TN / (lenght_LGBT_TN + lenght_LGBT_FN)\n",
    "print( \"The precision score is:\", precision_LGBT)"
   ]
  },
  {
   "cell_type": "code",
   "execution_count": 67,
   "id": "998371da",
   "metadata": {
    "execution": {
     "iopub.execute_input": "2021-08-24T10:26:49.254150Z",
     "iopub.status.busy": "2021-08-24T10:26:49.253208Z",
     "iopub.status.idle": "2021-08-24T10:26:49.258802Z",
     "shell.execute_reply": "2021-08-24T10:26:49.259457Z",
     "shell.execute_reply.started": "2021-08-24T10:23:45.482911Z"
    },
    "papermill": {
     "duration": 0.129955,
     "end_time": "2021-08-24T10:26:49.259693",
     "exception": false,
     "start_time": "2021-08-24T10:26:49.129738",
     "status": "completed"
    },
    "tags": []
   },
   "outputs": [
    {
     "name": "stdout",
     "output_type": "stream",
     "text": [
      "The recall score is: 0.4\n"
     ]
    }
   ],
   "source": [
    "# recall is the ratio of correctly predicted hateful to all actual hateful (so 129 over the entire hateful meme in the dataset)\n",
    "#recall = TN / (TN + FP)\n",
    "\n",
    "recall_LGBT = lenght_LGBT_TN / (lenght_LGBT_TN + lenght_LGBT_FP)\n",
    "print(\"The recall score is:\", recall_LGBT)"
   ]
  },
  {
   "cell_type": "code",
   "execution_count": 68,
   "id": "6e659a6f",
   "metadata": {
    "execution": {
     "iopub.execute_input": "2021-08-24T10:26:49.506710Z",
     "iopub.status.busy": "2021-08-24T10:26:49.506062Z",
     "iopub.status.idle": "2021-08-24T10:26:49.508618Z",
     "shell.execute_reply": "2021-08-24T10:26:49.509075Z",
     "shell.execute_reply.started": "2021-08-24T10:23:45.498134Z"
    },
    "papermill": {
     "duration": 0.126028,
     "end_time": "2021-08-24T10:26:49.509254",
     "exception": false,
     "start_time": "2021-08-24T10:26:49.383226",
     "status": "completed"
    },
    "tags": []
   },
   "outputs": [
    {
     "name": "stdout",
     "output_type": "stream",
     "text": [
      "The LGBT F1 score is: 0.5\n"
     ]
    }
   ],
   "source": [
    "#F1 score\n",
    "#The problem of the accuracy is that this metric doesn't represent well the performance of the model on both classes \n",
    "\n",
    "F1Score_LGBT = (2 * precision_LGBT * recall_LGBT) / (precision_LGBT + recall_LGBT)\n",
    "print(\"The LGBT F1 score is:\", F1Score_LGBT)"
   ]
  },
  {
   "cell_type": "markdown",
   "id": "732ad772",
   "metadata": {
    "papermill": {
     "duration": 0.121797,
     "end_time": "2021-08-24T10:26:49.751503",
     "exception": false,
     "start_time": "2021-08-24T10:26:49.629706",
     "status": "completed"
    },
    "tags": []
   },
   "source": [
    "# Black F1 Score"
   ]
  },
  {
   "cell_type": "code",
   "execution_count": 69,
   "id": "01f39811",
   "metadata": {
    "execution": {
     "iopub.execute_input": "2021-08-24T10:26:49.998719Z",
     "iopub.status.busy": "2021-08-24T10:26:49.998066Z",
     "iopub.status.idle": "2021-08-24T10:26:50.004239Z",
     "shell.execute_reply": "2021-08-24T10:26:50.004696Z",
     "shell.execute_reply.started": "2021-08-24T10:23:45.516613Z"
    },
    "papermill": {
     "duration": 0.132357,
     "end_time": "2021-08-24T10:26:50.004865",
     "exception": false,
     "start_time": "2021-08-24T10:26:49.872508",
     "status": "completed"
    },
    "tags": []
   },
   "outputs": [],
   "source": [
    "lenght_Black_TN = len(TN[TN[\"Community\"] == \"Black\"])\n",
    "lenght_Black_FN = len(FN[FN[\"Community\"] == \"Black\"])\n",
    "lenght_Black_FP = len(FP[FP[\"Community\"] == \"Black\"])"
   ]
  },
  {
   "cell_type": "code",
   "execution_count": 70,
   "id": "30bdf725",
   "metadata": {
    "execution": {
     "iopub.execute_input": "2021-08-24T10:26:50.252376Z",
     "iopub.status.busy": "2021-08-24T10:26:50.251754Z",
     "iopub.status.idle": "2021-08-24T10:26:50.256707Z",
     "shell.execute_reply": "2021-08-24T10:26:50.257386Z",
     "shell.execute_reply.started": "2021-08-24T10:23:45.531024Z"
    },
    "papermill": {
     "duration": 0.129851,
     "end_time": "2021-08-24T10:26:50.257617",
     "exception": false,
     "start_time": "2021-08-24T10:26:50.127766",
     "status": "completed"
    },
    "tags": []
   },
   "outputs": [
    {
     "name": "stdout",
     "output_type": "stream",
     "text": [
      "The precision score is: 0.8627450980392157\n"
     ]
    }
   ],
   "source": [
    "# precision is the ratio of correctly predicted hateful memes to all pedicted hateful (so 129 and the wrong classified 52)\n",
    "#precision = TN / (TN + FN)\n",
    "\n",
    "precision_Black = lenght_Black_TN / (lenght_Black_TN + lenght_Black_FN)\n",
    "print( \"The precision score is:\", precision_Black)"
   ]
  },
  {
   "cell_type": "code",
   "execution_count": 71,
   "id": "c0164ab0",
   "metadata": {
    "execution": {
     "iopub.execute_input": "2021-08-24T10:26:50.528131Z",
     "iopub.status.busy": "2021-08-24T10:26:50.527421Z",
     "iopub.status.idle": "2021-08-24T10:26:50.533451Z",
     "shell.execute_reply": "2021-08-24T10:26:50.532935Z",
     "shell.execute_reply.started": "2021-08-24T10:23:45.548803Z"
    },
    "papermill": {
     "duration": 0.130644,
     "end_time": "2021-08-24T10:26:50.533611",
     "exception": false,
     "start_time": "2021-08-24T10:26:50.402967",
     "status": "completed"
    },
    "tags": []
   },
   "outputs": [
    {
     "name": "stdout",
     "output_type": "stream",
     "text": [
      "The recall score is: 0.39285714285714285\n"
     ]
    }
   ],
   "source": [
    "# recall is the ratio of correctly predicted hateful to all actual hateful (so 129 over the entire hateful meme in the dataset)\n",
    "#recall = TN / (TN + FP)\n",
    "\n",
    "recall_Black = lenght_Black_TN / (lenght_Black_TN + lenght_Black_FP)\n",
    "print(\"The recall score is:\", recall_Black)"
   ]
  },
  {
   "cell_type": "code",
   "execution_count": 72,
   "id": "735e84b8",
   "metadata": {
    "execution": {
     "iopub.execute_input": "2021-08-24T10:26:50.784328Z",
     "iopub.status.busy": "2021-08-24T10:26:50.783735Z",
     "iopub.status.idle": "2021-08-24T10:26:50.788649Z",
     "shell.execute_reply": "2021-08-24T10:26:50.788073Z",
     "shell.execute_reply.started": "2021-08-24T10:23:45.561167Z"
    },
    "papermill": {
     "duration": 0.132212,
     "end_time": "2021-08-24T10:26:50.788827",
     "exception": false,
     "start_time": "2021-08-24T10:26:50.656615",
     "status": "completed"
    },
    "tags": []
   },
   "outputs": [
    {
     "name": "stdout",
     "output_type": "stream",
     "text": [
      "The Black F1 score is: 0.5398773006134969\n"
     ]
    }
   ],
   "source": [
    "#F1 score\n",
    "#The problem of the accuracy is that this metric doesn't represent well the performance of the model on both classes \n",
    "\n",
    "F1Score_Black = (2 * precision_Black * recall_Black) / (precision_Black + recall_Black)\n",
    "print(\"The Black F1 score is:\", F1Score_Black)"
   ]
  },
  {
   "cell_type": "markdown",
   "id": "e715861a",
   "metadata": {
    "papermill": {
     "duration": 0.123398,
     "end_time": "2021-08-24T10:26:51.035292",
     "exception": false,
     "start_time": "2021-08-24T10:26:50.911894",
     "status": "completed"
    },
    "tags": []
   },
   "source": [
    "# Musulman F1 Score"
   ]
  },
  {
   "cell_type": "code",
   "execution_count": 73,
   "id": "61fc4ba3",
   "metadata": {
    "execution": {
     "iopub.execute_input": "2021-08-24T10:26:51.289943Z",
     "iopub.status.busy": "2021-08-24T10:26:51.289296Z",
     "iopub.status.idle": "2021-08-24T10:26:51.291131Z",
     "shell.execute_reply": "2021-08-24T10:26:51.291660Z",
     "shell.execute_reply.started": "2021-08-24T10:23:45.576412Z"
    },
    "papermill": {
     "duration": 0.13241,
     "end_time": "2021-08-24T10:26:51.291841",
     "exception": false,
     "start_time": "2021-08-24T10:26:51.159431",
     "status": "completed"
    },
    "tags": []
   },
   "outputs": [],
   "source": [
    "lenght_Musulman_TN = len(TN[TN[\"Community\"] == \"Musulman\"])\n",
    "lenght_Musulman_FN = len(FN[FN[\"Community\"] == \"Musulman\"])\n",
    "lenght_Musulman_FP = len(FP[FP[\"Community\"] == \"Musulman\"])"
   ]
  },
  {
   "cell_type": "code",
   "execution_count": 74,
   "id": "eddc031b",
   "metadata": {
    "execution": {
     "iopub.execute_input": "2021-08-24T10:26:51.539629Z",
     "iopub.status.busy": "2021-08-24T10:26:51.538935Z",
     "iopub.status.idle": "2021-08-24T10:26:51.545183Z",
     "shell.execute_reply": "2021-08-24T10:26:51.544709Z",
     "shell.execute_reply.started": "2021-08-24T10:23:45.592241Z"
    },
    "papermill": {
     "duration": 0.130567,
     "end_time": "2021-08-24T10:26:51.545337",
     "exception": false,
     "start_time": "2021-08-24T10:26:51.414770",
     "status": "completed"
    },
    "tags": []
   },
   "outputs": [
    {
     "name": "stdout",
     "output_type": "stream",
     "text": [
      "The precision score is: 0.7636363636363637\n"
     ]
    }
   ],
   "source": [
    "# precision is the ratio of correctly predicted hateful memes to all pedicted hateful (so 129 and the wrong classified 52)\n",
    "#precision = TN / (TN + FN)\n",
    "\n",
    "precision_Musulman = lenght_Musulman_TN / (lenght_Musulman_TN + lenght_Musulman_FN)\n",
    "print( \"The precision score is:\", precision_Musulman)"
   ]
  },
  {
   "cell_type": "code",
   "execution_count": 75,
   "id": "88edf835",
   "metadata": {
    "execution": {
     "iopub.execute_input": "2021-08-24T10:26:51.795278Z",
     "iopub.status.busy": "2021-08-24T10:26:51.794680Z",
     "iopub.status.idle": "2021-08-24T10:26:51.799359Z",
     "shell.execute_reply": "2021-08-24T10:26:51.798702Z",
     "shell.execute_reply.started": "2021-08-24T10:23:45.608781Z"
    },
    "papermill": {
     "duration": 0.130197,
     "end_time": "2021-08-24T10:26:51.799530",
     "exception": false,
     "start_time": "2021-08-24T10:26:51.669333",
     "status": "completed"
    },
    "tags": []
   },
   "outputs": [
    {
     "name": "stdout",
     "output_type": "stream",
     "text": [
      "The recall score is: 0.45161290322580644\n"
     ]
    }
   ],
   "source": [
    "# recall is the ratio of correctly predicted hateful to all actual hateful (so 129 over the entire hateful meme in the dataset)\n",
    "#recall = TN / (TN + FP)\n",
    "\n",
    "recall_Musulman = lenght_Musulman_TN / (lenght_Musulman_TN + lenght_Musulman_FP)\n",
    "print(\"The recall score is:\", recall_Musulman)"
   ]
  },
  {
   "cell_type": "code",
   "execution_count": 76,
   "id": "7335b402",
   "metadata": {
    "execution": {
     "iopub.execute_input": "2021-08-24T10:26:52.050154Z",
     "iopub.status.busy": "2021-08-24T10:26:52.049377Z",
     "iopub.status.idle": "2021-08-24T10:26:52.053834Z",
     "shell.execute_reply": "2021-08-24T10:26:52.053061Z",
     "shell.execute_reply.started": "2021-08-24T10:23:45.623417Z"
    },
    "papermill": {
     "duration": 0.132393,
     "end_time": "2021-08-24T10:26:52.054018",
     "exception": false,
     "start_time": "2021-08-24T10:26:51.921625",
     "status": "completed"
    },
    "tags": []
   },
   "outputs": [
    {
     "name": "stdout",
     "output_type": "stream",
     "text": [
      "The Musulman F1 score is: 0.5675675675675675\n"
     ]
    }
   ],
   "source": [
    "#F1 score\n",
    "#The problem of the accuracy is that this metric doesn't represent well the performance of the model on both classes \n",
    "\n",
    "F1Score_Musulman = (2 * precision_Musulman * recall_Musulman) / (precision_Musulman + recall_Musulman)\n",
    "print(\"The Musulman F1 score is:\", F1Score_Musulman)"
   ]
  },
  {
   "cell_type": "markdown",
   "id": "05594056",
   "metadata": {
    "papermill": {
     "duration": 0.124627,
     "end_time": "2021-08-24T10:26:52.304754",
     "exception": false,
     "start_time": "2021-08-24T10:26:52.180127",
     "status": "completed"
    },
    "tags": []
   },
   "source": [
    "# Transgender F1 Score"
   ]
  },
  {
   "cell_type": "code",
   "execution_count": 77,
   "id": "8709c4f6",
   "metadata": {
    "execution": {
     "iopub.execute_input": "2021-08-24T10:26:52.557921Z",
     "iopub.status.busy": "2021-08-24T10:26:52.557152Z",
     "iopub.status.idle": "2021-08-24T10:26:52.560027Z",
     "shell.execute_reply": "2021-08-24T10:26:52.559506Z",
     "shell.execute_reply.started": "2021-08-24T10:23:45.636320Z"
    },
    "papermill": {
     "duration": 0.132728,
     "end_time": "2021-08-24T10:26:52.560163",
     "exception": false,
     "start_time": "2021-08-24T10:26:52.427435",
     "status": "completed"
    },
    "tags": []
   },
   "outputs": [],
   "source": [
    "lenght_Transgender_TN = len(TN[TN[\"Community\"] == \"Transgender\"])\n",
    "lenght_Transgender_FN = len(FN[FN[\"Community\"] == \"Transgender\"])\n",
    "lenght_Transgender_FP = len(FP[FP[\"Community\"] == \"Transgender\"])"
   ]
  },
  {
   "cell_type": "code",
   "execution_count": 78,
   "id": "061763f3",
   "metadata": {
    "execution": {
     "iopub.execute_input": "2021-08-24T10:26:52.811047Z",
     "iopub.status.busy": "2021-08-24T10:26:52.810324Z",
     "iopub.status.idle": "2021-08-24T10:26:52.813852Z",
     "shell.execute_reply": "2021-08-24T10:26:52.813367Z",
     "shell.execute_reply.started": "2021-08-24T10:23:45.647819Z"
    },
    "papermill": {
     "duration": 0.131073,
     "end_time": "2021-08-24T10:26:52.813985",
     "exception": false,
     "start_time": "2021-08-24T10:26:52.682912",
     "status": "completed"
    },
    "tags": []
   },
   "outputs": [
    {
     "name": "stdout",
     "output_type": "stream",
     "text": [
      "The precision score is: 1.0\n"
     ]
    }
   ],
   "source": [
    "# precision is the ratio of correctly predicted hateful memes to all pedicted hateful (so 129 and the wrong classified 52)\n",
    "#precision = TN / (TN + FN)\n",
    "\n",
    "precision_Transgender = lenght_Transgender_TN / (lenght_Transgender_TN + lenght_Transgender_FN)\n",
    "print( \"The precision score is:\", precision_Transgender)"
   ]
  },
  {
   "cell_type": "code",
   "execution_count": 79,
   "id": "15b5da8f",
   "metadata": {
    "execution": {
     "iopub.execute_input": "2021-08-24T10:26:53.066832Z",
     "iopub.status.busy": "2021-08-24T10:26:53.066066Z",
     "iopub.status.idle": "2021-08-24T10:26:53.069811Z",
     "shell.execute_reply": "2021-08-24T10:26:53.069194Z",
     "shell.execute_reply.started": "2021-08-24T10:23:45.659695Z"
    },
    "papermill": {
     "duration": 0.13264,
     "end_time": "2021-08-24T10:26:53.069940",
     "exception": false,
     "start_time": "2021-08-24T10:26:52.937300",
     "status": "completed"
    },
    "tags": []
   },
   "outputs": [
    {
     "name": "stdout",
     "output_type": "stream",
     "text": [
      "The recall score is: 0.3076923076923077\n"
     ]
    }
   ],
   "source": [
    "# recall is the ratio of correctly predicted hateful to all actual hateful (so 129 over the entire hateful meme in the dataset)\n",
    "#recall = TN / (TN + FP)\n",
    "\n",
    "recall_Transgender = lenght_Transgender_TN / (lenght_Transgender_TN + lenght_Transgender_FP)\n",
    "print(\"The recall score is:\", recall_Transgender)"
   ]
  },
  {
   "cell_type": "code",
   "execution_count": 80,
   "id": "e7bea3e6",
   "metadata": {
    "execution": {
     "iopub.execute_input": "2021-08-24T10:26:53.324778Z",
     "iopub.status.busy": "2021-08-24T10:26:53.324133Z",
     "iopub.status.idle": "2021-08-24T10:26:53.328188Z",
     "shell.execute_reply": "2021-08-24T10:26:53.327602Z",
     "shell.execute_reply.started": "2021-08-24T10:23:45.672689Z"
    },
    "papermill": {
     "duration": 0.133706,
     "end_time": "2021-08-24T10:26:53.328319",
     "exception": false,
     "start_time": "2021-08-24T10:26:53.194613",
     "status": "completed"
    },
    "tags": []
   },
   "outputs": [
    {
     "name": "stdout",
     "output_type": "stream",
     "text": [
      "The Transgender F1 score is: 0.47058823529411764\n"
     ]
    }
   ],
   "source": [
    "#F1 score\n",
    "#The problem of the accuracy is that this metric doesn't represent well the performance of the model on both classes \n",
    "\n",
    "F1Score_Transgender = (2 * precision_Transgender * recall_Transgender) / (precision_Transgender + recall_Transgender)\n",
    "print(\"The Transgender F1 score is:\", F1Score_Transgender)"
   ]
  },
  {
   "cell_type": "markdown",
   "id": "1835b2d8",
   "metadata": {
    "papermill": {
     "duration": 0.123731,
     "end_time": "2021-08-24T10:26:53.576857",
     "exception": false,
     "start_time": "2021-08-24T10:26:53.453126",
     "status": "completed"
    },
    "tags": []
   },
   "source": [
    "# Jewish F1 Score"
   ]
  },
  {
   "cell_type": "code",
   "execution_count": 81,
   "id": "8934e254",
   "metadata": {
    "execution": {
     "iopub.execute_input": "2021-08-24T10:26:53.836140Z",
     "iopub.status.busy": "2021-08-24T10:26:53.835544Z",
     "iopub.status.idle": "2021-08-24T10:26:53.842062Z",
     "shell.execute_reply": "2021-08-24T10:26:53.842569Z",
     "shell.execute_reply.started": "2021-08-24T10:23:45.682858Z"
    },
    "papermill": {
     "duration": 0.136534,
     "end_time": "2021-08-24T10:26:53.842775",
     "exception": false,
     "start_time": "2021-08-24T10:26:53.706241",
     "status": "completed"
    },
    "tags": []
   },
   "outputs": [],
   "source": [
    "lenght_Jewish_TN = len(TN[TN[\"Community\"] == \"Jewish\"])\n",
    "lenght_Jewish_FN = len(FN[FN[\"Community\"] == \"Jewish\"])\n",
    "lenght_Jewish_FP = len(FP[FP[\"Community\"] == \"Jewish\"])"
   ]
  },
  {
   "cell_type": "code",
   "execution_count": 82,
   "id": "b497d8ad",
   "metadata": {
    "execution": {
     "iopub.execute_input": "2021-08-24T10:26:54.094775Z",
     "iopub.status.busy": "2021-08-24T10:26:54.094159Z",
     "iopub.status.idle": "2021-08-24T10:26:54.099999Z",
     "shell.execute_reply": "2021-08-24T10:26:54.099475Z",
     "shell.execute_reply.started": "2021-08-24T10:23:45.700023Z"
    },
    "papermill": {
     "duration": 0.133494,
     "end_time": "2021-08-24T10:26:54.100396",
     "exception": false,
     "start_time": "2021-08-24T10:26:53.966902",
     "status": "completed"
    },
    "tags": []
   },
   "outputs": [
    {
     "name": "stdout",
     "output_type": "stream",
     "text": [
      "The precision score is: 0.9230769230769231\n"
     ]
    }
   ],
   "source": [
    "# precision is the ratio of correctly predicted hateful memes to all pedicted hateful (so 129 and the wrong classified 52)\n",
    "#precision = TN / (TN + FN)\n",
    "\n",
    "precision_Jewish = lenght_Jewish_TN / (lenght_Jewish_TN + lenght_Jewish_FN)\n",
    "print( \"The precision score is:\", precision_Jewish)"
   ]
  },
  {
   "cell_type": "code",
   "execution_count": 83,
   "id": "f6905697",
   "metadata": {
    "execution": {
     "iopub.execute_input": "2021-08-24T10:26:54.358296Z",
     "iopub.status.busy": "2021-08-24T10:26:54.357647Z",
     "iopub.status.idle": "2021-08-24T10:26:54.360200Z",
     "shell.execute_reply": "2021-08-24T10:26:54.360702Z",
     "shell.execute_reply.started": "2021-08-24T10:23:45.714850Z"
    },
    "papermill": {
     "duration": 0.133748,
     "end_time": "2021-08-24T10:26:54.360865",
     "exception": false,
     "start_time": "2021-08-24T10:26:54.227117",
     "status": "completed"
    },
    "tags": []
   },
   "outputs": [
    {
     "name": "stdout",
     "output_type": "stream",
     "text": [
      "The recall score is: 0.5714285714285714\n"
     ]
    }
   ],
   "source": [
    "# recall is the ratio of correctly predicted hateful to all actual hateful (so 129 over the entire hateful meme in the dataset)\n",
    "#recall = TN / (TN + FP)\n",
    "\n",
    "recall_Jewish = lenght_Jewish_TN / (lenght_Jewish_TN + lenght_Jewish_FP)\n",
    "print(\"The recall score is:\", recall_Jewish)"
   ]
  },
  {
   "cell_type": "code",
   "execution_count": 84,
   "id": "8294b22a",
   "metadata": {
    "execution": {
     "iopub.execute_input": "2021-08-24T10:26:54.615821Z",
     "iopub.status.busy": "2021-08-24T10:26:54.615225Z",
     "iopub.status.idle": "2021-08-24T10:26:54.620895Z",
     "shell.execute_reply": "2021-08-24T10:26:54.620281Z",
     "shell.execute_reply.started": "2021-08-24T10:23:45.726662Z"
    },
    "papermill": {
     "duration": 0.134162,
     "end_time": "2021-08-24T10:26:54.621039",
     "exception": false,
     "start_time": "2021-08-24T10:26:54.486877",
     "status": "completed"
    },
    "tags": []
   },
   "outputs": [
    {
     "name": "stdout",
     "output_type": "stream",
     "text": [
      "The Jewish F1 score is: 0.7058823529411765\n"
     ]
    }
   ],
   "source": [
    "#F1 score\n",
    "#The problem of the accuracy is that this metric doesn't represent well the performance of the model on both classes \n",
    "\n",
    "F1Score_Jewish = (2 * precision_Jewish * recall_Jewish) / (precision_Jewish + recall_Jewish)\n",
    "print(\"The Jewish F1 score is:\", F1Score_Jewish)"
   ]
  },
  {
   "cell_type": "markdown",
   "id": "13bf9f23",
   "metadata": {
    "papermill": {
     "duration": 0.127616,
     "end_time": "2021-08-24T10:26:54.876118",
     "exception": false,
     "start_time": "2021-08-24T10:26:54.748502",
     "status": "completed"
    },
    "tags": []
   },
   "source": [
    "# People of Color F1 Score"
   ]
  },
  {
   "cell_type": "code",
   "execution_count": 85,
   "id": "f6e0d240",
   "metadata": {
    "execution": {
     "iopub.execute_input": "2021-08-24T10:26:55.135987Z",
     "iopub.status.busy": "2021-08-24T10:26:55.134590Z",
     "iopub.status.idle": "2021-08-24T10:26:55.142844Z",
     "shell.execute_reply": "2021-08-24T10:26:55.142281Z",
     "shell.execute_reply.started": "2021-08-24T10:23:45.738450Z"
    },
    "papermill": {
     "duration": 0.138901,
     "end_time": "2021-08-24T10:26:55.142972",
     "exception": false,
     "start_time": "2021-08-24T10:26:55.004071",
     "status": "completed"
    },
    "tags": []
   },
   "outputs": [],
   "source": [
    "lenght_PeopleofColor_TN = len(TN[TN[\"Community\"] == \"People of Color\"])\n",
    "lenght_PeopleofColor_FN = len(FN[FN[\"Community\"] == \"People of Color\"])\n",
    "lenght_PeopleofColor_FP = len(FP[FP[\"Community\"] == \"People of Color\"])"
   ]
  },
  {
   "cell_type": "code",
   "execution_count": 86,
   "id": "fb3a15e2",
   "metadata": {
    "execution": {
     "iopub.execute_input": "2021-08-24T10:26:55.397787Z",
     "iopub.status.busy": "2021-08-24T10:26:55.396936Z",
     "iopub.status.idle": "2021-08-24T10:26:55.401198Z",
     "shell.execute_reply": "2021-08-24T10:26:55.400668Z",
     "shell.execute_reply.started": "2021-08-24T10:23:45.752020Z"
    },
    "papermill": {
     "duration": 0.134162,
     "end_time": "2021-08-24T10:26:55.401349",
     "exception": false,
     "start_time": "2021-08-24T10:26:55.267187",
     "status": "completed"
    },
    "tags": []
   },
   "outputs": [
    {
     "name": "stdout",
     "output_type": "stream",
     "text": [
      "The precision score is: 0.8888888888888888\n"
     ]
    }
   ],
   "source": [
    "# precision is the ratio of correctly predicted hateful memes to all pedicted hateful (so 129 and the wrong classified 52)\n",
    "#precision = TN / (TN + FN)\n",
    "\n",
    "precision_PeopleofColor = lenght_PeopleofColor_TN / (lenght_PeopleofColor_TN + lenght_PeopleofColor_FN)\n",
    "print( \"The precision score is:\", precision_PeopleofColor)"
   ]
  },
  {
   "cell_type": "code",
   "execution_count": 87,
   "id": "a32ce8f6",
   "metadata": {
    "execution": {
     "iopub.execute_input": "2021-08-24T10:26:55.657937Z",
     "iopub.status.busy": "2021-08-24T10:26:55.656947Z",
     "iopub.status.idle": "2021-08-24T10:26:55.663456Z",
     "shell.execute_reply": "2021-08-24T10:26:55.662877Z",
     "shell.execute_reply.started": "2021-08-24T10:23:45.768561Z"
    },
    "papermill": {
     "duration": 0.135796,
     "end_time": "2021-08-24T10:26:55.663612",
     "exception": false,
     "start_time": "2021-08-24T10:26:55.527816",
     "status": "completed"
    },
    "tags": []
   },
   "outputs": [
    {
     "name": "stdout",
     "output_type": "stream",
     "text": [
      "The recall score is: 0.42105263157894735\n"
     ]
    }
   ],
   "source": [
    "# recall is the ratio of correctly predicted hateful to all actual hateful (so 129 over the entire hateful meme in the dataset)\n",
    "#recall = TN / (TN + FP)\n",
    "\n",
    "recall_PeopleofColor = lenght_PeopleofColor_TN / (lenght_PeopleofColor_TN + lenght_PeopleofColor_FP)\n",
    "print(\"The recall score is:\", recall_PeopleofColor)"
   ]
  },
  {
   "cell_type": "code",
   "execution_count": 88,
   "id": "83b0bf71",
   "metadata": {
    "execution": {
     "iopub.execute_input": "2021-08-24T10:26:55.920600Z",
     "iopub.status.busy": "2021-08-24T10:26:55.919944Z",
     "iopub.status.idle": "2021-08-24T10:26:55.925752Z",
     "shell.execute_reply": "2021-08-24T10:26:55.925218Z",
     "shell.execute_reply.started": "2021-08-24T10:23:45.780333Z"
    },
    "papermill": {
     "duration": 0.134642,
     "end_time": "2021-08-24T10:26:55.925886",
     "exception": false,
     "start_time": "2021-08-24T10:26:55.791244",
     "status": "completed"
    },
    "tags": []
   },
   "outputs": [
    {
     "name": "stdout",
     "output_type": "stream",
     "text": [
      "The People of color F1 score is: 0.5714285714285714\n"
     ]
    }
   ],
   "source": [
    "#F1 score\n",
    "#The problem of the accuracy is that this metric doesn't represent well the performance of the model on both classes \n",
    "\n",
    "F1Score_PeopleofColor = (2 * precision_PeopleofColor * recall_PeopleofColor) / (precision_PeopleofColor + recall_PeopleofColor)\n",
    "print(\"The People of color F1 score is:\", F1Score_PeopleofColor)"
   ]
  },
  {
   "cell_type": "markdown",
   "id": "354ab999",
   "metadata": {
    "papermill": {
     "duration": 0.127783,
     "end_time": "2021-08-24T10:26:56.182760",
     "exception": false,
     "start_time": "2021-08-24T10:26:56.054977",
     "status": "completed"
    },
    "tags": []
   },
   "source": [
    "# Graph of F1 Score by categories"
   ]
  },
  {
   "cell_type": "code",
   "execution_count": 89,
   "id": "3b6da5bb",
   "metadata": {
    "execution": {
     "iopub.execute_input": "2021-08-24T10:26:56.446479Z",
     "iopub.status.busy": "2021-08-24T10:26:56.445523Z",
     "iopub.status.idle": "2021-08-24T10:26:56.447938Z",
     "shell.execute_reply": "2021-08-24T10:26:56.448385Z",
     "shell.execute_reply.started": "2021-08-24T10:23:45.795057Z"
    },
    "papermill": {
     "duration": 0.135557,
     "end_time": "2021-08-24T10:26:56.448547",
     "exception": false,
     "start_time": "2021-08-24T10:26:56.312990",
     "status": "completed"
    },
    "tags": []
   },
   "outputs": [],
   "source": [
    "F1Score_women_graph = F1Score_women * 100\n",
    "F1Score_disable_graph = F1Score_disable * 100\n",
    "F1Score_LGBT_graph = F1Score_LGBT * 100\n",
    "F1Score_Black_graph = F1Score_Black * 100\n",
    "F1Score_Musulman_graph = F1Score_Musulman * 100\n",
    "F1Score_Transgender_graph = F1Score_Transgender * 100\n",
    "F1Score_Jewish_graph = F1Score_Jewish * 100\n",
    "F1Score_PeopleofColor_graph = F1Score_PeopleofColor * 100"
   ]
  },
  {
   "cell_type": "code",
   "execution_count": 90,
   "id": "c5c9939b",
   "metadata": {
    "execution": {
     "iopub.execute_input": "2021-08-24T10:26:56.746510Z",
     "iopub.status.busy": "2021-08-24T10:26:56.745607Z",
     "iopub.status.idle": "2021-08-24T10:26:56.911993Z",
     "shell.execute_reply": "2021-08-24T10:26:56.911398Z",
     "shell.execute_reply.started": "2021-08-24T10:23:45.807120Z"
    },
    "papermill": {
     "duration": 0.336587,
     "end_time": "2021-08-24T10:26:56.912136",
     "exception": false,
     "start_time": "2021-08-24T10:26:56.575549",
     "status": "completed"
    },
    "tags": []
   },
   "outputs": [
    {
     "data": {
      "text/plain": [
       "Text(0, 0.5, 'F1 Score')"
      ]
     },
     "execution_count": 90,
     "metadata": {},
     "output_type": "execute_result"
    },
    {
     "data": {
      "image/png": "[encoded data removed]",
      "text/plain": [
       "<Figure size 432x288 with 1 Axes>"
      ]
     },
     "metadata": {
      "needs_background": "light"
     },
     "output_type": "display_data"
    }
   ],
   "source": [
    "Multi_Graph_categories = {\n",
    "'Disable' : F1Score_disable_graph,\n",
    "'Women' : F1Score_women_graph,\n",
    "'LGBT' : F1Score_LGBT_graph,\n",
    "'Black' : F1Score_Black_graph,\n",
    "'Musulman' : F1Score_Musulman_graph,\n",
    "'Transgender' : F1Score_Transgender_graph,\n",
    "'Jewish' : F1Score_Jewish_graph,\n",
    "'People of Color' : F1Score_PeopleofColor_graph\n",
    "}\n",
    "\n",
    "lists = sorted(Multi_Graph_categories.items()) # sorted by key, return a list of tuples\n",
    "communities, numb_of_samples = zip(*lists) # unpack a list of pairs into two tuples\n",
    "\n",
    "plt.xticks(rotation='vertical')\n",
    "df = plt.bar(communities, numb_of_samples, color='r')\n",
    "plt.title('F1 Score by community')\n",
    "plt.xlabel('Communities')\n",
    "plt.ylabel('F1 Score')"
   ]
  },
  {
   "cell_type": "code",
   "execution_count": 91,
   "id": "44cda204",
   "metadata": {
    "execution": {
     "iopub.execute_input": "2021-08-24T10:26:57.175254Z",
     "iopub.status.busy": "2021-08-24T10:26:57.174661Z",
     "iopub.status.idle": "2021-08-24T10:26:57.177358Z",
     "shell.execute_reply": "2021-08-24T10:26:57.177998Z",
     "shell.execute_reply.started": "2021-08-24T10:23:46.002703Z"
    },
    "papermill": {
     "duration": 0.137248,
     "end_time": "2021-08-24T10:26:57.178165",
     "exception": false,
     "start_time": "2021-08-24T10:26:57.040917",
     "status": "completed"
    },
    "tags": []
   },
   "outputs": [
    {
     "data": {
      "text/plain": [
       "{'Disable': 55.00000000000001,\n",
       " 'Women': 45.16129032258064,\n",
       " 'LGBT': 50.0,\n",
       " 'Black': 53.987730061349694,\n",
       " 'Musulman': 56.75675675675676,\n",
       " 'Transgender': 47.05882352941176,\n",
       " 'Jewish': 70.58823529411765,\n",
       " 'People of Color': 57.14285714285714}"
      ]
     },
     "execution_count": 91,
     "metadata": {},
     "output_type": "execute_result"
    }
   ],
   "source": [
    "Multi_Graph_categories"
   ]
  },
  {
   "cell_type": "markdown",
   "id": "0d46947c",
   "metadata": {
    "papermill": {
     "duration": 0.12757,
     "end_time": "2021-08-24T10:26:57.434803",
     "exception": false,
     "start_time": "2021-08-24T10:26:57.307233",
     "status": "completed"
    },
    "tags": []
   },
   "source": [
    "# Graph F1 Score Uni / Multi / All"
   ]
  },
  {
   "cell_type": "code",
   "execution_count": 92,
   "id": "cf7df466",
   "metadata": {
    "execution": {
     "iopub.execute_input": "2021-08-24T10:26:57.695218Z",
     "iopub.status.busy": "2021-08-24T10:26:57.694609Z",
     "iopub.status.idle": "2021-08-24T10:26:57.703511Z",
     "shell.execute_reply": "2021-08-24T10:26:57.704058Z",
     "shell.execute_reply.started": "2021-08-24T10:23:46.010546Z"
    },
    "papermill": {
     "duration": 0.141014,
     "end_time": "2021-08-24T10:26:57.704224",
     "exception": false,
     "start_time": "2021-08-24T10:26:57.563210",
     "status": "completed"
    },
    "tags": []
   },
   "outputs": [],
   "source": [
    "uniFrame_TN = TN[TN['Multi/Uni'] == 'uni']\n",
    "uniFrame_FN = FN[FN['Multi/Uni'] == 'uni']\n",
    "uniFrame_FP = FP[FP['Multi/Uni'] == 'uni']\n",
    "\n",
    "MultiFrame_TN = TN[TN['Multi/Uni'] == 'multi']\n",
    "MultiFrame_FN = FN[FN['Multi/Uni'] == 'multi']\n",
    "MultiFrame_FP = FP[FP['Multi/Uni'] == 'multi']"
   ]
  },
  {
   "cell_type": "markdown",
   "id": "5bdf6434",
   "metadata": {
    "papermill": {
     "duration": 0.131748,
     "end_time": "2021-08-24T10:26:57.965007",
     "exception": false,
     "start_time": "2021-08-24T10:26:57.833259",
     "status": "completed"
    },
    "tags": []
   },
   "source": [
    "Uni"
   ]
  },
  {
   "cell_type": "code",
   "execution_count": 93,
   "id": "c5404023",
   "metadata": {
    "execution": {
     "iopub.execute_input": "2021-08-24T10:26:58.226190Z",
     "iopub.status.busy": "2021-08-24T10:26:58.225481Z",
     "iopub.status.idle": "2021-08-24T10:26:58.231325Z",
     "shell.execute_reply": "2021-08-24T10:26:58.230735Z",
     "shell.execute_reply.started": "2021-08-24T10:23:46.029990Z"
    },
    "papermill": {
     "duration": 0.13784,
     "end_time": "2021-08-24T10:26:58.231457",
     "exception": false,
     "start_time": "2021-08-24T10:26:58.093617",
     "status": "completed"
    },
    "tags": []
   },
   "outputs": [
    {
     "name": "stdout",
     "output_type": "stream",
     "text": [
      "The uni precision score is: 0.2871287128712871\n"
     ]
    }
   ],
   "source": [
    "# precision is the ratio of correctly predicted hateful memes to all pedicted hateful (so 129 and the wrong classified 52)\n",
    "#precision = TN / (TN + FN)\n",
    "\n",
    "precision_uni = len(uniFrame_TN) / (len(uniFrame_TN) + len(uniFrame_FN))\n",
    "print( \"The uni precision score is:\", precision_uni)"
   ]
  },
  {
   "cell_type": "code",
   "execution_count": 94,
   "id": "fc3d965b",
   "metadata": {
    "execution": {
     "iopub.execute_input": "2021-08-24T10:26:58.496173Z",
     "iopub.status.busy": "2021-08-24T10:26:58.495439Z",
     "iopub.status.idle": "2021-08-24T10:26:58.499543Z",
     "shell.execute_reply": "2021-08-24T10:26:58.498975Z",
     "shell.execute_reply.started": "2021-08-24T10:23:46.039149Z"
    },
    "papermill": {
     "duration": 0.138036,
     "end_time": "2021-08-24T10:26:58.499699",
     "exception": false,
     "start_time": "2021-08-24T10:26:58.361663",
     "status": "completed"
    },
    "tags": []
   },
   "outputs": [
    {
     "name": "stdout",
     "output_type": "stream",
     "text": [
      "The uni recall score is: 0.4142857142857143\n"
     ]
    }
   ],
   "source": [
    "# recall is the ratio of correctly predicted hateful to all actual hateful (so 129 over the entire hateful meme in the dataset)\n",
    "#recall = TN / (TN + FP)\n",
    "\n",
    "recall_uni = len(uniFrame_TN) / (len(uniFrame_TN) + len(uniFrame_FP))\n",
    "print(\"The uni recall score is:\", recall_uni)"
   ]
  },
  {
   "cell_type": "code",
   "execution_count": 95,
   "id": "86b3ce76",
   "metadata": {
    "execution": {
     "iopub.execute_input": "2021-08-24T10:26:58.767739Z",
     "iopub.status.busy": "2021-08-24T10:26:58.767082Z",
     "iopub.status.idle": "2021-08-24T10:26:58.771044Z",
     "shell.execute_reply": "2021-08-24T10:26:58.770492Z",
     "shell.execute_reply.started": "2021-08-24T10:23:46.055121Z"
    },
    "papermill": {
     "duration": 0.139572,
     "end_time": "2021-08-24T10:26:58.771177",
     "exception": false,
     "start_time": "2021-08-24T10:26:58.631605",
     "status": "completed"
    },
    "tags": []
   },
   "outputs": [
    {
     "name": "stdout",
     "output_type": "stream",
     "text": [
      "The Uni F1 score is: 0.3391812865497076\n"
     ]
    }
   ],
   "source": [
    "#F1 score\n",
    "#The problem of the accuracy is that this metric doesn't represent well the performance of the model on both classes \n",
    "\n",
    "F1Score_uni = (2 * precision_uni * recall_uni) / (precision_uni + recall_uni)\n",
    "print(\"The Uni F1 score is:\", F1Score_uni)"
   ]
  },
  {
   "cell_type": "markdown",
   "id": "26b99990",
   "metadata": {
    "papermill": {
     "duration": 0.130515,
     "end_time": "2021-08-24T10:26:59.032243",
     "exception": false,
     "start_time": "2021-08-24T10:26:58.901728",
     "status": "completed"
    },
    "tags": []
   },
   "source": [
    "Multi"
   ]
  },
  {
   "cell_type": "code",
   "execution_count": 96,
   "id": "27c296ca",
   "metadata": {
    "execution": {
     "iopub.execute_input": "2021-08-24T10:26:59.300493Z",
     "iopub.status.busy": "2021-08-24T10:26:59.299817Z",
     "iopub.status.idle": "2021-08-24T10:26:59.304003Z",
     "shell.execute_reply": "2021-08-24T10:26:59.303331Z",
     "shell.execute_reply.started": "2021-08-24T10:23:46.067901Z"
    },
    "papermill": {
     "duration": 0.139448,
     "end_time": "2021-08-24T10:26:59.304146",
     "exception": false,
     "start_time": "2021-08-24T10:26:59.164698",
     "status": "completed"
    },
    "tags": []
   },
   "outputs": [
    {
     "name": "stdout",
     "output_type": "stream",
     "text": [
      "The uni precision score is: 0.6385964912280702\n"
     ]
    }
   ],
   "source": [
    "# precision is the ratio of correctly predicted hateful memes to all pedicted hateful (so 129 and the wrong classified 52)\n",
    "#precision = TN / (TN + FN)\n",
    "\n",
    "precision_Multi = len(MultiFrame_TN) / (len(MultiFrame_TN) + len(MultiFrame_FN))\n",
    "print( \"The uni precision score is:\", precision_Multi)"
   ]
  },
  {
   "cell_type": "code",
   "execution_count": 97,
   "id": "4bd1b502",
   "metadata": {
    "execution": {
     "iopub.execute_input": "2021-08-24T10:26:59.570644Z",
     "iopub.status.busy": "2021-08-24T10:26:59.569995Z",
     "iopub.status.idle": "2021-08-24T10:26:59.574423Z",
     "shell.execute_reply": "2021-08-24T10:26:59.573843Z",
     "shell.execute_reply.started": "2021-08-24T10:23:46.081339Z"
    },
    "papermill": {
     "duration": 0.138555,
     "end_time": "2021-08-24T10:26:59.574582",
     "exception": false,
     "start_time": "2021-08-24T10:26:59.436027",
     "status": "completed"
    },
    "tags": []
   },
   "outputs": [
    {
     "name": "stdout",
     "output_type": "stream",
     "text": [
      "The uni recall score is: 0.42424242424242425\n"
     ]
    }
   ],
   "source": [
    "# recall is the ratio of correctly predicted hateful to all actual hateful (so 129 over the entire hateful meme in the dataset)\n",
    "#recall = TN / (TN + FP)\n",
    "\n",
    "recall_Multi = len(MultiFrame_TN) / (len(MultiFrame_TN) + len(MultiFrame_FP))\n",
    "print(\"The uni recall score is:\", recall_Multi)"
   ]
  },
  {
   "cell_type": "code",
   "execution_count": 98,
   "id": "168ea22a",
   "metadata": {
    "execution": {
     "iopub.execute_input": "2021-08-24T10:26:59.842256Z",
     "iopub.status.busy": "2021-08-24T10:26:59.841604Z",
     "iopub.status.idle": "2021-08-24T10:26:59.845674Z",
     "shell.execute_reply": "2021-08-24T10:26:59.844839Z",
     "shell.execute_reply.started": "2021-08-24T10:23:46.095917Z"
    },
    "papermill": {
     "duration": 0.140541,
     "end_time": "2021-08-24T10:26:59.845986",
     "exception": false,
     "start_time": "2021-08-24T10:26:59.705445",
     "status": "completed"
    },
    "tags": []
   },
   "outputs": [
    {
     "name": "stdout",
     "output_type": "stream",
     "text": [
      "The Uni F1 score is: 0.5098039215686274\n"
     ]
    }
   ],
   "source": [
    "#F1 score\n",
    "#The problem of the accuracy is that this metric doesn't represent well the performance of the model on both classes \n",
    "\n",
    "F1Score_Multi = (2 * precision_Multi * recall_Multi) / (precision_Multi + recall_Multi)\n",
    "print(\"The Uni F1 score is:\", F1Score_Multi)"
   ]
  },
  {
   "cell_type": "code",
   "execution_count": 99,
   "id": "1bd2c5e5",
   "metadata": {
    "execution": {
     "iopub.execute_input": "2021-08-24T10:27:00.114535Z",
     "iopub.status.busy": "2021-08-24T10:27:00.113625Z",
     "iopub.status.idle": "2021-08-24T10:27:00.116934Z",
     "shell.execute_reply": "2021-08-24T10:27:00.116291Z",
     "shell.execute_reply.started": "2021-08-24T10:23:46.117078Z"
    },
    "papermill": {
     "duration": 0.13895,
     "end_time": "2021-08-24T10:27:00.117077",
     "exception": false,
     "start_time": "2021-08-24T10:26:59.978127",
     "status": "completed"
    },
    "tags": []
   },
   "outputs": [],
   "source": [
    "F1Score_uni = F1Score_uni * 100\n",
    "F1Score_multi = F1Score_Multi * 100\n",
    "F1Score_all = F1Score * 100"
   ]
  },
  {
   "cell_type": "code",
   "execution_count": 100,
   "id": "0382062f",
   "metadata": {
    "execution": {
     "iopub.execute_input": "2021-08-24T10:27:00.422684Z",
     "iopub.status.busy": "2021-08-24T10:27:00.421804Z",
     "iopub.status.idle": "2021-08-24T10:27:00.526168Z",
     "shell.execute_reply": "2021-08-24T10:27:00.526666Z",
     "shell.execute_reply.started": "2021-08-24T10:23:46.131614Z"
    },
    "papermill": {
     "duration": 0.279326,
     "end_time": "2021-08-24T10:27:00.526835",
     "exception": false,
     "start_time": "2021-08-24T10:27:00.247509",
     "status": "completed"
    },
    "tags": []
   },
   "outputs": [
    {
     "data": {
      "text/plain": [
       "Text(0, 0.5, 'F1 Score')"
      ]
     },
     "execution_count": 100,
     "metadata": {},
     "output_type": "execute_result"
    },
    {
     "data": {
      "image/png": "[encoded data removed]",
      "text/plain": [
       "<Figure size 432x288 with 1 Axes>"
      ]
     },
     "metadata": {
      "needs_background": "light"
     },
     "output_type": "display_data"
    }
   ],
   "source": [
    "Multi_F1_score = {\n",
    "    'F1 Uni - MultiM' : F1Score_uni,\n",
    "    'F1 Multi - MultiM' : F1Score_multi,\n",
    "    'F1 All - MultiM' : F1Score_all\n",
    "}\n",
    "\n",
    "lists = sorted(Multi_F1_score.items()) # sorted by key, return a list of tuples\n",
    "communities, numb_of_samples = zip(*lists) # unpack a list of pairs into two tuples\n",
    "\n",
    "plt.xticks(rotation='vertical')\n",
    "df = plt.bar(communities, numb_of_samples, color='r')\n",
    "plt.title('F1 Score by Modality')\n",
    "plt.xlabel('Modalities')\n",
    "plt.ylabel('F1 Score')"
   ]
  },
  {
   "cell_type": "code",
   "execution_count": 101,
   "id": "4798839c",
   "metadata": {
    "execution": {
     "iopub.execute_input": "2021-08-24T10:27:00.841945Z",
     "iopub.status.busy": "2021-08-24T10:27:00.841217Z",
     "iopub.status.idle": "2021-08-24T10:27:00.843660Z",
     "shell.execute_reply": "2021-08-24T10:27:00.844202Z",
     "shell.execute_reply.started": "2021-08-24T10:23:46.278109Z"
    },
    "papermill": {
     "duration": 0.142431,
     "end_time": "2021-08-24T10:27:00.844355",
     "exception": false,
     "start_time": "2021-08-24T10:27:00.701924",
     "status": "completed"
    },
    "tags": []
   },
   "outputs": [
    {
     "data": {
      "text/plain": [
       "{'F1 Uni - MultiM': 33.91812865497076,\n",
       " 'F1 Multi - MultiM': 50.98039215686274,\n",
       " 'F1 All - MultiM': 47.68361581920904}"
      ]
     },
     "execution_count": 101,
     "metadata": {},
     "output_type": "execute_result"
    }
   ],
   "source": [
    "Multi_F1_score"
   ]
  }
 ],
 "metadata": {
  "kernelspec": {
   "display_name": "Python 3",
   "language": "python",
   "name": "python3"
  },
  "language_info": {
   "codemirror_mode": {
    "name": "ipython",
    "version": 3
   },
   "file_extension": ".py",
   "mimetype": "text/x-python",
   "name": "python",
   "nbconvert_exporter": "python",
   "pygments_lexer": "ipython3",
   "version": "3.7.10"
  },
  "papermill": {
   "default_parameters": {},
   "duration": 44.080301,
   "end_time": "2021-08-24T10:27:02.333937",
   "environment_variables": {},
   "exception": null,
   "input_path": "__notebook__.ipynb",
   "output_path": "__notebook__.ipynb",
   "parameters": {},
   "start_time": "2021-08-24T10:26:18.253636",
   "version": "2.3.3"
  }
 },
 "nbformat": 4,
 "nbformat_minor": 5
}
