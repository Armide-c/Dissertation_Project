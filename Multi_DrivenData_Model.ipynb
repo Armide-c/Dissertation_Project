{
  "nbformat": 4,
  "nbformat_minor": 0,
  "metadata": {
    "kernelspec": {
      "language": "python",
      "display_name": "Python 3",
      "name": "python3"
    },
    "language_info": {
      "name": "python",
      "version": "3.7.10",
      "mimetype": "text/x-python",
      "codemirror_mode": {
        "name": "ipython",
        "version": 3
      },
      "pygments_lexer": "ipython3",
      "nbconvert_exporter": "python",
      "file_extension": ".py"
    },
    "colab": {
      "name": "Copy of sucess-multi-simple-model.ipynb",
      "provenance": [],
      "collapsed_sections": [
        "YqdVZ55jhgT6"
      ]
    }
  },
  "cells": [
    {
      "cell_type": "markdown",
      "metadata": {
        "id": "BF_CbNVDhgTi"
      },
      "source": [
        "# DrivenData Multimodal Simple Model"
      ]
    },
    {
      "cell_type": "markdown",
      "metadata": {
        "id": "hUkXzMBBhgTm"
      },
      "source": [
        "https://www.drivendata.co/blog/hateful-memes-benchmark/"
      ]
    },
    {
      "cell_type": "markdown",
      "metadata": {
        "id": "_JdQiC9thgTm"
      },
      "source": [
        "DrivenData special path pandas_path:"
      ]
    },
    {
      "cell_type": "markdown",
      "metadata": {
        "id": "KmC0N009hgTn"
      },
      "source": [
        "# Dependancies and librairies used"
      ]
    },
    {
      "cell_type": "code",
      "metadata": {
        "execution": {
          "iopub.status.busy": "2021-07-09T12:09:13.725001Z",
          "iopub.execute_input": "2021-07-09T12:09:13.725306Z",
          "iopub.status.idle": "2021-07-09T12:09:21.552462Z",
          "shell.execute_reply.started": "2021-07-09T12:09:13.725241Z",
          "shell.execute_reply": "2021-07-09T12:09:21.551436Z"
        },
        "trusted": true,
        "id": "haVpv8uUhgTn",
        "outputId": "0d084841-e8ed-4144-a712-e84f611bc14e"
      },
      "source": [
        "pip install pandas-path"
      ],
      "execution_count": null,
      "outputs": [
        {
          "output_type": "stream",
          "text": [
            "Collecting pandas-path\n",
            "  Downloading pandas_path-0.3.0-py3-none-any.whl (8.4 kB)\n",
            "Requirement already satisfied: pandas>=0.23 in /opt/conda/lib/python3.7/site-packages (from pandas-path) (1.1.5)\n",
            "Requirement already satisfied: importlib-metadata in /opt/conda/lib/python3.7/site-packages (from pandas-path) (3.4.0)\n",
            "Requirement already satisfied: python-dateutil>=2.7.3 in /opt/conda/lib/python3.7/site-packages (from pandas>=0.23->pandas-path) (2.8.1)\n",
            "Requirement already satisfied: pytz>=2017.2 in /opt/conda/lib/python3.7/site-packages (from pandas>=0.23->pandas-path) (2021.1)\n",
            "Requirement already satisfied: numpy>=1.15.4 in /opt/conda/lib/python3.7/site-packages (from pandas>=0.23->pandas-path) (1.19.5)\n",
            "Requirement already satisfied: six>=1.5 in /opt/conda/lib/python3.7/site-packages (from python-dateutil>=2.7.3->pandas>=0.23->pandas-path) (1.15.0)\n",
            "Requirement already satisfied: zipp>=0.5 in /opt/conda/lib/python3.7/site-packages (from importlib-metadata->pandas-path) (3.4.1)\n",
            "Requirement already satisfied: typing-extensions>=3.6.4 in /opt/conda/lib/python3.7/site-packages (from importlib-metadata->pandas-path) (3.7.4.3)\n",
            "Installing collected packages: pandas-path\n",
            "Successfully installed pandas-path-0.3.0\n",
            "Note: you may need to restart the kernel to use updated packages.\n"
          ],
          "name": "stdout"
        }
      ]
    },
    {
      "cell_type": "code",
      "metadata": {
        "_uuid": "8f2839f25d086af736a60e9eeb907d3b93b6e0e5",
        "_cell_guid": "b1076dfc-b9ad-4769-8c92-a6c4dae69d19",
        "execution": {
          "iopub.status.busy": "2021-07-09T12:09:21.554300Z",
          "iopub.execute_input": "2021-07-09T12:09:21.554664Z",
          "iopub.status.idle": "2021-07-09T12:09:21.573436Z",
          "shell.execute_reply.started": "2021-07-09T12:09:21.554608Z",
          "shell.execute_reply": "2021-07-09T12:09:21.572566Z"
        },
        "trusted": true,
        "id": "LKvhXHrdhgTp"
      },
      "source": [
        "%matplotlib inline\n",
        "import sys\n",
        "import os\n",
        "import json\n",
        "import logging\n",
        "from pathlib import Path\n",
        "import random\n",
        "import tarfile\n",
        "import tempfile\n",
        "import warnings\n",
        "import pandas_path  # Path style access for pandas\n",
        "import matplotlib.pyplot as plt\n",
        "import numpy as np\n",
        "import pandas as pd\n",
        "from tqdm import tqdm"
      ],
      "execution_count": null,
      "outputs": []
    },
    {
      "cell_type": "code",
      "metadata": {
        "execution": {
          "iopub.status.busy": "2021-07-09T12:09:45.954720Z",
          "iopub.execute_input": "2021-07-09T12:09:45.955046Z",
          "iopub.status.idle": "2021-07-09T12:09:45.959848Z",
          "shell.execute_reply.started": "2021-07-09T12:09:45.955016Z",
          "shell.execute_reply": "2021-07-09T12:09:45.958772Z"
        },
        "trusted": true,
        "id": "43y5OKOjhgTq"
      },
      "source": [
        "from pandas_path import path"
      ],
      "execution_count": null,
      "outputs": []
    },
    {
      "cell_type": "code",
      "metadata": {
        "execution": {
          "iopub.status.busy": "2021-07-09T12:09:48.654533Z",
          "iopub.execute_input": "2021-07-09T12:09:48.654866Z",
          "iopub.status.idle": "2021-07-09T12:09:49.944837Z",
          "shell.execute_reply.started": "2021-07-09T12:09:48.654836Z",
          "shell.execute_reply": "2021-07-09T12:09:49.944005Z"
        },
        "trusted": true,
        "id": "avRBLszvhgTq"
      },
      "source": [
        "import torch                    \n",
        "import torchvision\n",
        "import fasttext\n",
        "from pathlib import Path\n",
        "sys.path.append(str(Path.cwd().parent))"
      ],
      "execution_count": null,
      "outputs": []
    },
    {
      "cell_type": "code",
      "metadata": {
        "execution": {
          "iopub.status.busy": "2021-07-09T12:09:58.387119Z",
          "iopub.execute_input": "2021-07-09T12:09:58.387545Z",
          "iopub.status.idle": "2021-07-09T12:09:59.761361Z",
          "shell.execute_reply.started": "2021-07-09T12:09:58.387512Z",
          "shell.execute_reply": "2021-07-09T12:09:59.760402Z"
        },
        "trusted": true,
        "id": "4z_9bgyrhgTr"
      },
      "source": [
        "import pytorch_lightning as pl"
      ],
      "execution_count": null,
      "outputs": []
    },
    {
      "cell_type": "code",
      "metadata": {
        "execution": {
          "iopub.status.busy": "2021-07-09T12:10:26.282521Z",
          "iopub.execute_input": "2021-07-09T12:10:26.282866Z",
          "iopub.status.idle": "2021-07-09T12:11:30.635676Z",
          "shell.execute_reply.started": "2021-07-09T12:10:26.282830Z",
          "shell.execute_reply": "2021-07-09T12:11:30.634206Z"
        },
        "trusted": true,
        "id": "XuU2aO-phgTr",
        "outputId": "016df05c-c4c6-4024-f216-9bd064d92193"
      },
      "source": [
        "conda install pytorch torchvision -c pytorch"
      ],
      "execution_count": null,
      "outputs": [
        {
          "output_type": "stream",
          "text": [
            "Collecting package metadata (current_repodata.json): done\n",
            "Solving environment: done\n",
            "\n",
            "## Package Plan ##\n",
            "\n",
            "  environment location: /opt/conda\n",
            "\n",
            "  added / updated specs:\n",
            "    - pytorch\n",
            "    - torchvision\n",
            "\n",
            "\n",
            "The following packages will be downloaded:\n",
            "\n",
            "    package                    |            build\n",
            "    ---------------------------|-----------------\n",
            "    ca-certificates-2021.5.30  |       ha878542_0         136 KB  conda-forge\n",
            "    certifi-2021.5.30          |   py37h89c1867_0         141 KB  conda-forge\n",
            "    conda-4.10.3               |   py37h89c1867_0         3.1 MB  conda-forge\n",
            "    ------------------------------------------------------------\n",
            "                                           Total:         3.3 MB\n",
            "\n",
            "The following packages will be UPDATED:\n",
            "\n",
            "  ca-certificates                      2020.12.5-ha878542_0 --> 2021.5.30-ha878542_0\n",
            "  certifi                          2020.12.5-py37h89c1867_1 --> 2021.5.30-py37h89c1867_0\n",
            "  conda                               4.10.1-py37h89c1867_0 --> 4.10.3-py37h89c1867_0\n",
            "\n",
            "\n",
            "\n",
            "Downloading and Extracting Packages\n",
            "conda-4.10.3         | 3.1 MB    | ##################################### | 100% \n",
            "ca-certificates-2021 | 136 KB    | ##################################### | 100% \n",
            "certifi-2021.5.30    | 141 KB    | ##################################### | 100% \n",
            "Preparing transaction: done\n",
            "Verifying transaction: done\n",
            "Executing transaction: done\n",
            "\n",
            "Note: you may need to restart the kernel to use updated packages.\n"
          ],
          "name": "stdout"
        }
      ]
    },
    {
      "cell_type": "code",
      "metadata": {
        "execution": {
          "iopub.status.busy": "2021-07-09T12:11:39.632317Z",
          "iopub.execute_input": "2021-07-09T12:11:39.632669Z",
          "iopub.status.idle": "2021-07-09T12:13:40.047367Z",
          "shell.execute_reply.started": "2021-07-09T12:11:39.632632Z",
          "shell.execute_reply": "2021-07-09T12:13:40.046312Z"
        },
        "trusted": true,
        "id": "JBHiPDpwhgTs",
        "outputId": "276d8ed6-3e88-408a-82f3-99766a9c8a02"
      },
      "source": [
        "conda install pytorch-lightning -c conda-forge"
      ],
      "execution_count": null,
      "outputs": [
        {
          "output_type": "stream",
          "text": [
            "Collecting package metadata (current_repodata.json): done\n",
            "Solving environment: done\n",
            "\n",
            "## Package Plan ##\n",
            "\n",
            "  environment location: /opt/conda\n",
            "\n",
            "  added / updated specs:\n",
            "    - pytorch-lightning\n",
            "\n",
            "\n",
            "The following packages will be downloaded:\n",
            "\n",
            "    package                    |            build\n",
            "    ---------------------------|-----------------\n",
            "    absl-py-0.13.0             |     pyhd8ed1ab_0          97 KB  conda-forge\n",
            "    fsspec-2021.6.1            |     pyhd8ed1ab_0          79 KB  conda-forge\n",
            "    future-0.18.2              |   py37h89c1867_3         714 KB  conda-forge\n",
            "    google-auth-oauthlib-0.4.1 |             py_2          18 KB  conda-forge\n",
            "    pydeprecate-0.3.0          |     pyhd8ed1ab_0          13 KB  conda-forge\n",
            "    pytorch-lightning-1.3.8    |     pyhd8ed1ab_0         265 KB  conda-forge\n",
            "    tensorboard-2.4.1          |     pyhd8ed1ab_0         8.8 MB  conda-forge\n",
            "    tensorboard-plugin-wit-1.8.0|     pyh44b312d_0         670 KB  conda-forge\n",
            "    torchmetrics-0.4.1         |     pyhd8ed1ab_0          92 KB  conda-forge\n",
            "    werkzeug-2.0.1             |     pyhd8ed1ab_0         219 KB  conda-forge\n",
            "    ------------------------------------------------------------\n",
            "                                           Total:        11.0 MB\n",
            "\n",
            "The following NEW packages will be INSTALLED:\n",
            "\n",
            "  absl-py            conda-forge/noarch::absl-py-0.13.0-pyhd8ed1ab_0\n",
            "  future             conda-forge/linux-64::future-0.18.2-py37h89c1867_3\n",
            "  pydeprecate        conda-forge/noarch::pydeprecate-0.3.0-pyhd8ed1ab_0\n",
            "  pytorch-lightning  conda-forge/noarch::pytorch-lightning-1.3.8-pyhd8ed1ab_0\n",
            "  tensorboard        conda-forge/noarch::tensorboard-2.4.1-pyhd8ed1ab_0\n",
            "  tensorboard-plugi~ conda-forge/noarch::tensorboard-plugin-wit-1.8.0-pyh44b312d_0\n",
            "  torchmetrics       conda-forge/noarch::torchmetrics-0.4.1-pyhd8ed1ab_0\n",
            "  werkzeug           conda-forge/noarch::werkzeug-2.0.1-pyhd8ed1ab_0\n",
            "\n",
            "The following packages will be UPDATED:\n",
            "\n",
            "  fsspec                                 0.8.7-pyhd8ed1ab_0 --> 2021.6.1-pyhd8ed1ab_0\n",
            "\n",
            "The following packages will be DOWNGRADED:\n",
            "\n",
            "  google-auth-oauth~                     0.4.3-pyhd8ed1ab_0 --> 0.4.1-py_2\n",
            "\n",
            "\n",
            "\n",
            "Downloading and Extracting Packages\n",
            "pydeprecate-0.3.0    | 13 KB     | ##################################### | 100% \n",
            "torchmetrics-0.4.1   | 92 KB     | ##################################### | 100% \n",
            "tensorboard-2.4.1    | 8.8 MB    | ##################################### | 100% \n",
            "tensorboard-plugin-w | 670 KB    | ##################################### | 100% \n",
            "absl-py-0.13.0       | 97 KB     | ##################################### | 100% \n",
            "google-auth-oauthlib | 18 KB     | ##################################### | 100% \n",
            "pytorch-lightning-1. | 265 KB    | ##################################### | 100% \n",
            "future-0.18.2        | 714 KB    | ##################################### | 100% \n",
            "werkzeug-2.0.1       | 219 KB    | ##################################### | 100% \n",
            "fsspec-2021.6.1      | 79 KB     | ##################################### | 100% \n",
            "Preparing transaction: done\n",
            "Verifying transaction: done\n",
            "Executing transaction: done\n",
            "\n",
            "Note: you may need to restart the kernel to use updated packages.\n"
          ],
          "name": "stdout"
        }
      ]
    },
    {
      "cell_type": "code",
      "metadata": {
        "execution": {
          "iopub.status.busy": "2021-07-09T12:14:14.108455Z",
          "iopub.execute_input": "2021-07-09T12:14:14.108983Z",
          "iopub.status.idle": "2021-07-09T12:39:28.869605Z",
          "shell.execute_reply.started": "2021-07-09T12:14:14.108930Z",
          "shell.execute_reply": "2021-07-09T12:39:28.868711Z"
        },
        "trusted": true,
        "id": "WCFgbBcbhgTt",
        "outputId": "fc8a2087-09bd-4d36-991f-b0e83453d689"
      },
      "source": [
        "conda install pytorch torchvision cudatoolkit=10.1 -c pytorch-nightly -c defaults -c conda-forge"
      ],
      "execution_count": null,
      "outputs": [
        {
          "output_type": "stream",
          "text": [
            "Collecting package metadata (current_repodata.json): done\n",
            "Solving environment: failed with initial frozen solve. Retrying with flexible solve.\n",
            "Solving environment: failed with repodata from current_repodata.json, will retry with next repodata source.\n",
            "Collecting package metadata (repodata.json): done\n",
            "Solving environment: done\n",
            "\n",
            "## Package Plan ##\n",
            "\n",
            "  environment location: /opt/conda\n",
            "\n",
            "  added / updated specs:\n",
            "    - cudatoolkit=10.1\n",
            "    - pytorch\n",
            "    - torchvision\n",
            "\n",
            "\n",
            "The following packages will be downloaded:\n",
            "\n",
            "    package                    |            build\n",
            "    ---------------------------|-----------------\n",
            "    ca-certificates-2021.7.5   |       h06a4308_1         113 KB\n",
            "    certifi-2021.5.30          |   py37h06a4308_0         139 KB\n",
            "    conda-4.10.3               |   py37h06a4308_0         2.9 MB\n",
            "    cudatoolkit-10.1.243       |       h6bb024c_0       347.4 MB\n",
            "    cudf-0.16.0                |cuda_10.1_py37_g2b8298f566_0        84.7 MB  rapidsai\n",
            "    cudnn-7.6.5                |       cuda10.1_0       179.9 MB\n",
            "    cuml-0.16.0                |cuda10.1_py37_gbbe737348_0        61.6 MB  rapidsai\n",
            "    cupy-8.3.0                 |   py37hcaf9a05_0        22.5 MB\n",
            "    libcudf-0.16.0             |cuda10.1_g2b8298f566_0       156.3 MB  rapidsai\n",
            "    libcuml-0.16.0             |cuda10.1_gbbe737348_0        40.8 MB  rapidsai\n",
            "    libcumlprims-0.16.0        |cuda10.1_g1c28023_0         864 KB  nvidia\n",
            "    libfaiss-1.6.3             |  he68dc02_3_cuda        90.0 MB  conda-forge\n",
            "    librmm-0.16.0              |cuda10.1_g1bcc7b1_0          49 KB  rapidsai\n",
            "    nccl-2.8.3.1               |       hcaf9a05_0        24.2 MB\n",
            "    openssl-1.1.1k             |       h27cfd23_0         2.5 MB\n",
            "    pytorch-1.7.0              |py3.7_cuda10.1.243_cudnn7.6.3_0       552.6 MB  pytorch\n",
            "    rmm-0.16.0                 |cuda_10.1_py37_g1bcc7b1_0         4.5 MB  rapidsai\n",
            "    torchvision-0.2.1          |           py37_0          75 KB\n",
            "    ucx-1.8.1+g6b29558         |       cuda10.1_0         7.3 MB  rapidsai\n",
            "    ------------------------------------------------------------\n",
            "                                           Total:        1.54 GB\n",
            "\n",
            "The following packages will be UPDATED:\n",
            "\n",
            "  ca-certificates    conda-forge::ca-certificates-2021.5.3~ --> pkgs/main::ca-certificates-2021.7.5-h06a4308_1\n",
            "  cupy                  rapidsai::cupy-8.0.0-py37h0ce7dbb_0 --> pkgs/main::cupy-8.3.0-py37hcaf9a05_0\n",
            "  nccl                    nvidia::nccl-2.7.8.1-h4962215_100 --> pkgs/main::nccl-2.8.3.1-hcaf9a05_0\n",
            "\n",
            "The following packages will be SUPERSEDED by a higher-priority channel:\n",
            "\n",
            "  certifi            conda-forge::certifi-2021.5.30-py37h8~ --> pkgs/main::certifi-2021.5.30-py37h06a4308_0\n",
            "  conda              conda-forge::conda-4.10.3-py37h89c186~ --> pkgs/main::conda-4.10.3-py37h06a4308_0\n",
            "  cudatoolkit        nvidia::cudatoolkit-11.0.221-h6bb024c~ --> pkgs/main::cudatoolkit-10.1.243-h6bb024c_0\n",
            "  cudnn                      nvidia::cudnn-8.0.0-cuda11.0_0 --> pkgs/main::cudnn-7.6.5-cuda10.1_0\n",
            "  openssl            conda-forge::openssl-1.1.1k-h7f98852_0 --> pkgs/main::openssl-1.1.1k-h27cfd23_0\n",
            "  torchvision         pytorch::torchvision-0.8.1-py37_cu110 --> pkgs/main::torchvision-0.2.1-py37_0\n",
            "\n",
            "The following packages will be DOWNGRADED:\n",
            "\n",
            "  cudf                  0.16.0-cuda_11.0_py37_g2b8298f566_0 --> 0.16.0-cuda_10.1_py37_g2b8298f566_0\n",
            "  cuml                    0.16.0-cuda11.0_py37_gbbe737348_0 --> 0.16.0-cuda10.1_py37_gbbe737348_0\n",
            "  libcudf                     0.16.0-cuda11.0_g2b8298f566_0 --> 0.16.0-cuda10.1_g2b8298f566_0\n",
            "  libcuml                      0.16.0-cuda11.0_gbbe737348_0 --> 0.16.0-cuda10.1_gbbe737348_0\n",
            "  libcumlprims                   0.16.0-cuda11.0_g1c28023_0 --> 0.16.0-cuda10.1_g1c28023_0\n",
            "  libfaiss                            1.6.3-h328c4c8_3_cuda --> 1.6.3-he68dc02_3_cuda\n",
            "  librmm                         0.16.0-cuda11.0_g1bcc7b1_0 --> 0.16.0-cuda10.1_g1bcc7b1_0\n",
            "  pytorch             1.7.0-py3.7_cuda11.0.221_cudnn8.0.3_0 --> 1.7.0-py3.7_cuda10.1.243_cudnn7.6.3_0\n",
            "  rmm                      0.16.0-cuda_11.0_py37_g1bcc7b1_0 --> 0.16.0-cuda_10.1_py37_g1bcc7b1_0\n",
            "  ucx                             1.8.1+g6b29558-cuda11.0_0 --> 1.8.1+g6b29558-cuda10.1_0\n",
            "\n",
            "\n",
            "\n",
            "Downloading and Extracting Packages\n",
            "openssl-1.1.1k       | 2.5 MB    | ##################################### | 100% \n",
            "rmm-0.16.0           | 4.5 MB    | ##################################### | 100% \n",
            "nccl-2.8.3.1         | 24.2 MB   | ##################################### | 100% \n",
            "cuml-0.16.0          | 61.6 MB   | ##################################### | 100% \n",
            "libcumlprims-0.16.0  | 864 KB    | ##################################### | 100% \n",
            "ucx-1.8.1+g6b29558   | 7.3 MB    | ##################################### | 100% \n",
            "librmm-0.16.0        | 49 KB     | ##################################### | 100% \n",
            "cudatoolkit-10.1.243 | 347.4 MB  | ##################################### | 100% \n",
            "libcuml-0.16.0       | 40.8 MB   | ##################################### | 100% \n",
            "cudf-0.16.0          | 84.7 MB   | ##################################### | 100% \n",
            "certifi-2021.5.30    | 139 KB    | ##################################### | 100% \n",
            "torchvision-0.2.1    | 75 KB     | ##################################### | 100% \n",
            "pytorch-1.7.0        | 552.6 MB  | ##################################### | 100% \n",
            "libfaiss-1.6.3       | 90.0 MB   | ##################################### | 100% \n",
            "ca-certificates-2021 | 113 KB    | ##################################### | 100% \n",
            "cudnn-7.6.5          | 179.9 MB  | ##################################### | 100% \n",
            "conda-4.10.3         | 2.9 MB    | ##################################### | 100% \n",
            "libcudf-0.16.0       | 156.3 MB  | ##################################### | 100% \n",
            "cupy-8.3.0           | 22.5 MB   | ##################################### | 100% \n",
            "Preparing transaction: done\n",
            "Verifying transaction: done\n",
            "Executing transaction: done\n",
            "\n",
            "Note: you may need to restart the kernel to use updated packages.\n"
          ],
          "name": "stdout"
        }
      ]
    },
    {
      "cell_type": "code",
      "metadata": {
        "execution": {
          "iopub.status.busy": "2021-07-09T12:39:28.872614Z",
          "iopub.execute_input": "2021-07-09T12:39:28.872893Z",
          "iopub.status.idle": "2021-07-09T12:41:20.457146Z",
          "shell.execute_reply.started": "2021-07-09T12:39:28.872863Z",
          "shell.execute_reply": "2021-07-09T12:41:20.456178Z"
        },
        "trusted": true,
        "id": "dt1TC8WjhgTt",
        "outputId": "212396a1-01ab-4e1b-b002-d4b761c2c786"
      },
      "source": [
        "conda install -c anaconda cudatoolkit"
      ],
      "execution_count": null,
      "outputs": [
        {
          "output_type": "stream",
          "text": [
            "Collecting package metadata (current_repodata.json): done\n",
            "Solving environment: done\n",
            "\n",
            "## Package Plan ##\n",
            "\n",
            "  environment location: /opt/conda\n",
            "\n",
            "  added / updated specs:\n",
            "    - cudatoolkit\n",
            "\n",
            "\n",
            "The following packages will be downloaded:\n",
            "\n",
            "    package                    |            build\n",
            "    ---------------------------|-----------------\n",
            "    ca-certificates-2020.10.14 |                0         128 KB  anaconda\n",
            "    certifi-2020.6.20          |           py37_0         159 KB  anaconda\n",
            "    cudatoolkit-10.1.243       |       h6bb024c_0       513.2 MB  anaconda\n",
            "    ------------------------------------------------------------\n",
            "                                           Total:       513.5 MB\n",
            "\n",
            "The following packages will be SUPERSEDED by a higher-priority channel:\n",
            "\n",
            "  ca-certificates    pkgs/main::ca-certificates-2021.7.5-h~ --> anaconda::ca-certificates-2020.10.14-0\n",
            "  certifi            pkgs/main::certifi-2021.5.30-py37h06a~ --> anaconda::certifi-2020.6.20-py37_0\n",
            "  conda              pkgs/main::conda-4.10.3-py37h06a4308_0 --> conda-forge::conda-4.10.3-py37h89c1867_0\n",
            "  cudatoolkit                                     pkgs/main --> anaconda\n",
            "  openssl              pkgs/main::openssl-1.1.1k-h27cfd23_0 --> conda-forge::openssl-1.1.1k-h7f98852_0\n",
            "\n",
            "\n",
            "\n",
            "Downloading and Extracting Packages\n",
            "cudatoolkit-10.1.243 | 513.2 MB  | ##################################### | 100% \n",
            "certifi-2020.6.20    | 159 KB    | ##################################### | 100% \n",
            "ca-certificates-2020 | 128 KB    | ##################################### | 100% \n",
            "Preparing transaction: done\n",
            "Verifying transaction: done\n",
            "Executing transaction: done\n",
            "\n",
            "Note: you may need to restart the kernel to use updated packages.\n"
          ],
          "name": "stdout"
        }
      ]
    },
    {
      "cell_type": "code",
      "metadata": {
        "execution": {
          "iopub.status.busy": "2021-07-09T12:41:20.459355Z",
          "iopub.execute_input": "2021-07-09T12:41:20.459753Z",
          "iopub.status.idle": "2021-07-09T12:41:31.330942Z",
          "shell.execute_reply.started": "2021-07-09T12:41:20.459707Z",
          "shell.execute_reply": "2021-07-09T12:41:31.329869Z"
        },
        "trusted": true,
        "id": "zAF9iR64hgTu",
        "outputId": "78af0c46-0775-43ad-b90a-d985e3039bf6"
      },
      "source": [
        "pip install pytorch_lightning==0.9.0"
      ],
      "execution_count": null,
      "outputs": [
        {
          "output_type": "stream",
          "text": [
            "Collecting pytorch_lightning==0.9.0\n",
            "  Downloading pytorch_lightning-0.9.0-py3-none-any.whl (408 kB)\n",
            "\u001b[K     |████████████████████████████████| 408 kB 834 kB/s eta 0:00:01\n",
            "\u001b[?25hRequirement already satisfied: tqdm>=4.41.0 in /opt/conda/lib/python3.7/site-packages (from pytorch_lightning==0.9.0) (4.59.0)\n",
            "Requirement already satisfied: packaging in /opt/conda/lib/python3.7/site-packages (from pytorch_lightning==0.9.0) (20.9)\n",
            "Collecting tensorboard==2.2.0\n",
            "  Downloading tensorboard-2.2.0-py3-none-any.whl (2.8 MB)\n",
            "\u001b[K     |████████████████████████████████| 2.8 MB 3.6 MB/s eta 0:00:01\n",
            "\u001b[?25hRequirement already satisfied: PyYAML>=5.1 in /opt/conda/lib/python3.7/site-packages (from pytorch_lightning==0.9.0) (5.3.1)\n",
            "Requirement already satisfied: future>=0.17.1 in /opt/conda/lib/python3.7/site-packages (from pytorch_lightning==0.9.0) (0.18.2)\n",
            "Requirement already satisfied: torch>=1.3 in /opt/conda/lib/python3.7/site-packages (from pytorch_lightning==0.9.0) (1.7.0)\n",
            "Requirement already satisfied: numpy>=1.16.4 in /opt/conda/lib/python3.7/site-packages (from pytorch_lightning==0.9.0) (1.19.5)\n",
            "Requirement already satisfied: markdown>=2.6.8 in /opt/conda/lib/python3.7/site-packages (from tensorboard==2.2.0->pytorch_lightning==0.9.0) (3.3.4)\n",
            "Requirement already satisfied: google-auth-oauthlib<0.5,>=0.4.1 in /opt/conda/lib/python3.7/site-packages (from tensorboard==2.2.0->pytorch_lightning==0.9.0) (0.4.1)\n",
            "Requirement already satisfied: protobuf>=3.6.0 in /opt/conda/lib/python3.7/site-packages (from tensorboard==2.2.0->pytorch_lightning==0.9.0) (3.15.8)\n",
            "Requirement already satisfied: six>=1.10.0 in /opt/conda/lib/python3.7/site-packages (from tensorboard==2.2.0->pytorch_lightning==0.9.0) (1.15.0)\n",
            "Requirement already satisfied: grpcio>=1.24.3 in /opt/conda/lib/python3.7/site-packages (from tensorboard==2.2.0->pytorch_lightning==0.9.0) (1.32.0)\n",
            "Requirement already satisfied: absl-py>=0.4 in /opt/conda/lib/python3.7/site-packages (from tensorboard==2.2.0->pytorch_lightning==0.9.0) (0.13.0)\n",
            "Requirement already satisfied: wheel>=0.26 in /opt/conda/lib/python3.7/site-packages (from tensorboard==2.2.0->pytorch_lightning==0.9.0) (0.36.2)\n",
            "Requirement already satisfied: tensorboard-plugin-wit>=1.6.0 in /opt/conda/lib/python3.7/site-packages (from tensorboard==2.2.0->pytorch_lightning==0.9.0) (1.8.0)\n",
            "Requirement already satisfied: google-auth<2,>=1.6.3 in /opt/conda/lib/python3.7/site-packages (from tensorboard==2.2.0->pytorch_lightning==0.9.0) (1.26.1)\n",
            "Requirement already satisfied: requests<3,>=2.21.0 in /opt/conda/lib/python3.7/site-packages (from tensorboard==2.2.0->pytorch_lightning==0.9.0) (2.25.1)\n",
            "Requirement already satisfied: setuptools>=41.0.0 in /opt/conda/lib/python3.7/site-packages (from tensorboard==2.2.0->pytorch_lightning==0.9.0) (49.6.0.post20210108)\n",
            "Requirement already satisfied: werkzeug>=0.11.15 in /opt/conda/lib/python3.7/site-packages (from tensorboard==2.2.0->pytorch_lightning==0.9.0) (2.0.1)\n",
            "Requirement already satisfied: pyasn1-modules>=0.2.1 in /opt/conda/lib/python3.7/site-packages (from google-auth<2,>=1.6.3->tensorboard==2.2.0->pytorch_lightning==0.9.0) (0.2.7)\n",
            "Requirement already satisfied: cachetools<5.0,>=2.0.0 in /opt/conda/lib/python3.7/site-packages (from google-auth<2,>=1.6.3->tensorboard==2.2.0->pytorch_lightning==0.9.0) (4.2.1)\n",
            "Requirement already satisfied: rsa<5,>=3.1.4 in /opt/conda/lib/python3.7/site-packages (from google-auth<2,>=1.6.3->tensorboard==2.2.0->pytorch_lightning==0.9.0) (4.7.2)\n",
            "Requirement already satisfied: requests-oauthlib>=0.7.0 in /opt/conda/lib/python3.7/site-packages (from google-auth-oauthlib<0.5,>=0.4.1->tensorboard==2.2.0->pytorch_lightning==0.9.0) (1.3.0)\n",
            "Requirement already satisfied: importlib-metadata in /opt/conda/lib/python3.7/site-packages (from markdown>=2.6.8->tensorboard==2.2.0->pytorch_lightning==0.9.0) (3.4.0)\n",
            "Requirement already satisfied: pyasn1<0.5.0,>=0.4.6 in /opt/conda/lib/python3.7/site-packages (from pyasn1-modules>=0.2.1->google-auth<2,>=1.6.3->tensorboard==2.2.0->pytorch_lightning==0.9.0) (0.4.8)\n",
            "Requirement already satisfied: chardet<5,>=3.0.2 in /opt/conda/lib/python3.7/site-packages (from requests<3,>=2.21.0->tensorboard==2.2.0->pytorch_lightning==0.9.0) (4.0.0)\n",
            "Requirement already satisfied: urllib3<1.27,>=1.21.1 in /opt/conda/lib/python3.7/site-packages (from requests<3,>=2.21.0->tensorboard==2.2.0->pytorch_lightning==0.9.0) (1.26.4)\n",
            "Requirement already satisfied: certifi>=2017.4.17 in /opt/conda/lib/python3.7/site-packages (from requests<3,>=2.21.0->tensorboard==2.2.0->pytorch_lightning==0.9.0) (2020.6.20)\n",
            "Requirement already satisfied: idna<3,>=2.5 in /opt/conda/lib/python3.7/site-packages (from requests<3,>=2.21.0->tensorboard==2.2.0->pytorch_lightning==0.9.0) (2.10)\n",
            "Requirement already satisfied: oauthlib>=3.0.0 in /opt/conda/lib/python3.7/site-packages (from requests-oauthlib>=0.7.0->google-auth-oauthlib<0.5,>=0.4.1->tensorboard==2.2.0->pytorch_lightning==0.9.0) (3.0.1)\n",
            "Requirement already satisfied: typing_extensions in /opt/conda/lib/python3.7/site-packages (from torch>=1.3->pytorch_lightning==0.9.0) (3.7.4.3)\n",
            "Requirement already satisfied: dataclasses in /opt/conda/lib/python3.7/site-packages (from torch>=1.3->pytorch_lightning==0.9.0) (0.6)\n",
            "Requirement already satisfied: zipp>=0.5 in /opt/conda/lib/python3.7/site-packages (from importlib-metadata->markdown>=2.6.8->tensorboard==2.2.0->pytorch_lightning==0.9.0) (3.4.1)\n",
            "Requirement already satisfied: pyparsing>=2.0.2 in /opt/conda/lib/python3.7/site-packages (from packaging->pytorch_lightning==0.9.0) (2.4.7)\n",
            "Installing collected packages: tensorboard, pytorch-lightning\n",
            "  Attempting uninstall: tensorboard\n",
            "    Found existing installation: tensorboard 2.4.1\n",
            "    Uninstalling tensorboard-2.4.1:\n",
            "      Successfully uninstalled tensorboard-2.4.1\n",
            "  Attempting uninstall: pytorch-lightning\n",
            "    Found existing installation: pytorch-lightning 1.3.8\n",
            "    Uninstalling pytorch-lightning-1.3.8:\n",
            "      Successfully uninstalled pytorch-lightning-1.3.8\n",
            "\u001b[31mERROR: pip's dependency resolver does not currently take into account all the packages that are installed. This behaviour is the source of the following dependency conflicts.\n",
            "tensorflow 2.4.1 requires tensorboard~=2.4, but you have tensorboard 2.2.0 which is incompatible.\n",
            "tensorflow-cloud 0.1.13 requires tensorboard>=2.3.0, but you have tensorboard 2.2.0 which is incompatible.\u001b[0m\n",
            "Successfully installed pytorch-lightning-1.2.8 tensorboard-2.2.0\n",
            "Note: you may need to restart the kernel to use updated packages.\n"
          ],
          "name": "stdout"
        }
      ]
    },
    {
      "cell_type": "markdown",
      "metadata": {
        "id": "aE-Lu0cahgTu"
      },
      "source": [
        "# Setting up the dataset distribution"
      ]
    },
    {
      "cell_type": "code",
      "metadata": {
        "execution": {
          "iopub.status.busy": "2021-07-09T12:41:57.812343Z",
          "iopub.execute_input": "2021-07-09T12:41:57.812683Z",
          "iopub.status.idle": "2021-07-09T12:41:57.817249Z",
          "shell.execute_reply.started": "2021-07-09T12:41:57.812646Z",
          "shell.execute_reply": "2021-07-09T12:41:57.816162Z"
        },
        "trusted": true,
        "id": "Mj0tdciDhgTv"
      },
      "source": [
        "data_dir =  Path.cwd().parent/\"input/hmdatasetnp/data/\""
      ],
      "execution_count": null,
      "outputs": []
    },
    {
      "cell_type": "code",
      "metadata": {
        "execution": {
          "iopub.status.busy": "2021-07-09T12:51:25.291297Z",
          "iopub.execute_input": "2021-07-09T12:51:25.291647Z",
          "iopub.status.idle": "2021-07-09T12:51:25.296574Z",
          "shell.execute_reply.started": "2021-07-09T12:51:25.291614Z",
          "shell.execute_reply": "2021-07-09T12:51:25.295715Z"
        },
        "trusted": true,
        "id": "nXjKIHUHhgTv"
      },
      "source": [
        "img_tar_path = data_dir/\"img\"\n",
        "train_path = data_dir / \"train.jsonl\"\n",
        "dev_path = data_dir / \"dev_seen.jsonl\"\n",
        "test_path = data_dir / \"test_seen.jsonl\"\n",
        "testLabel_path = Path.cwd().parent/\"input/labelshmctestset/test_seen_label.jsonl\""
      ],
      "execution_count": null,
      "outputs": []
    },
    {
      "cell_type": "code",
      "metadata": {
        "execution": {
          "iopub.status.busy": "2021-07-09T12:42:03.090884Z",
          "iopub.execute_input": "2021-07-09T12:42:03.091239Z",
          "iopub.status.idle": "2021-07-09T12:42:04.043224Z",
          "shell.execute_reply.started": "2021-07-09T12:42:03.091205Z",
          "shell.execute_reply": "2021-07-09T12:42:04.042338Z"
        },
        "collapsed": true,
        "jupyter": {
          "outputs_hidden": true
        },
        "trusted": true,
        "id": "Y1lpuK9fhgTw",
        "outputId": "324ece2f-71ea-4094-877c-dceedc9343ad"
      },
      "source": [
        "files = os.listdir(img_tar_path)\n",
        "print(files)"
      ],
      "execution_count": null,
      "outputs": [
        {
          "output_type": "stream",
          "text": [
            "['67419.png', '52691.png', '37825.png', '02578.png', '06781.png', '18054.png', '49075.png', '73516.png', '14260.png', '84059.png', '91753.png', '68472.png', '04915.png', '91654.png', '47982.png', '71083.png', '86052.png', '73045.png', '30478.png', '47938.png', '95476.png', '89465.png', '20634.png', '53260.png', '50738.png', '89754.png', '36095.png', '85410.png', '28759.png', '51094.png', '49613.png', '70942.png', '35708.png', '52140.png', '23018.png', '12867.png', '72461.png', '13570.png', '42851.png', '27410.png', '75023.png', '86059.png', '37891.png', '29475.png', '70231.png', '84903.png', '46075.png', '12684.png', '53962.png', '78054.png', '93016.png', '68254.png', '71380.png', '71954.png', '94078.png', '24751.png', '46271.png', '12956.png', '45182.png', '26910.png', '06852.png', '68137.png', '87936.png', '47208.png', '78296.png', '38195.png', '78542.png', '07968.png', '45687.png', '65892.png', '08725.png', '68549.png', '52603.png', '86725.png', '87406.png', '63547.png', '95863.png', '70189.png', '05649.png', '29714.png', '13907.png', '23907.png', '03495.png', '41983.png', '80172.png', '91856.png', '01569.png', '39421.png', '34796.png', '75631.png', '48039.png', '92541.png', '97528.png', '26537.png', '98603.png', '84097.png', '01735.png', '98035.png', '53924.png', '90367.png', '96284.png', '48310.png', '13964.png', '72084.png', '90654.png', '40618.png', '24798.png', '68374.png', '81930.png', '46015.png', '01829.png', '54028.png', '27563.png', '52879.png', '92837.png', '29635.png', '25037.png', '34592.png', '69850.png', '90413.png', '03289.png', '57109.png', '23140.png', '13679.png', '09821.png', '89072.png', '49271.png', '05316.png', '81320.png', '14750.png', '48269.png', '87945.png', '59127.png', '87923.png', '24907.png', '34028.png', '78650.png', '13908.png', '45732.png', '59601.png', '06714.png', '29876.png', '30841.png', '74801.png', '60214.png', '84017.png', '21804.png', '72054.png', '07659.png', '54708.png', '39625.png', '19372.png', '69823.png', '05264.png', '98064.png', '60718.png', '63042.png', '95087.png', '71826.png', '98307.png', '16458.png', '25460.png', '26418.png', '61298.png', '37548.png', '48021.png', '32410.png', '38061.png', '27180.png', '48570.png', '80769.png', '32750.png', '82195.png', '75926.png', '28574.png', '01794.png', '43052.png', '97638.png', '61205.png', '65019.png', '35970.png', '59230.png', '07354.png', '40852.png', '15069.png', '46238.png', '51304.png', '49856.png', '75139.png', '56792.png', '50861.png', '12356.png', '81293.png', '70512.png', '93481.png', '64329.png', '05421.png', '59376.png', '14037.png', '86039.png', '01742.png', '70153.png', '58607.png', '15278.png', '10493.png', '49635.png', '80453.png', '12876.png', '21548.png', '46971.png', '39675.png', '82713.png', '59827.png', '25179.png', '10759.png', '38907.png', '09267.png', '95487.png', '53469.png', '15872.png', '63520.png', '16053.png', '21450.png', '81523.png', '85196.png', '06832.png', '09187.png', '73489.png', '06579.png', '89275.png', '21609.png', '05874.png', '42168.png', '01594.png', '23407.png', '28561.png', '01793.png', '12490.png', '38546.png', '31742.png', '46231.png', '05261.png', '50427.png', '20386.png', '42568.png', '78146.png', '25017.png', '34685.png', '57064.png', '34905.png', '75081.png', '64312.png', '21640.png', '21903.png', '12468.png', '15389.png', '90512.png', '40321.png', '32690.png', '96087.png', '02594.png', '78190.png', '34208.png', '41627.png', '23516.png', '32849.png', '91253.png', '35186.png', '79152.png', '94508.png', '20851.png', '94138.png', '17209.png', '61834.png', '23759.png', '31482.png', '34581.png', '02185.png', '96342.png', '93584.png', '65217.png', '07168.png', '10972.png', '93517.png', '36185.png', '72130.png', '25436.png', '89320.png', '49081.png', '10829.png', '60173.png', '04187.png', '24301.png', '19406.png', '29645.png', '75193.png', '83591.png', '98016.png', '43758.png', '38246.png', '98752.png', '40125.png', '58467.png', '64197.png', '45608.png', '03479.png', '27485.png', '52104.png', '80532.png', '23105.png', '13690.png', '67029.png', '64592.png', '25401.png', '75894.png', '43259.png', '29617.png', '14236.png', '13482.png', '41650.png', '65482.png', '86357.png', '89745.png', '31976.png', '83150.png', '87054.png', '45176.png', '32751.png', '26375.png', '87549.png', '17450.png', '51243.png', '98401.png', '67051.png', '06793.png', '32478.png', '81279.png', '51073.png', '87065.png', '43162.png', '71483.png', '25713.png', '12034.png', '18420.png', '08671.png', '04732.png', '36842.png', '39562.png', '07649.png', '90128.png', '46198.png', '52978.png', '03164.png', '56208.png', '27056.png', '65274.png', '08462.png', '96380.png', '35674.png', '61082.png', '75428.png', '64078.png', '64291.png', '90345.png', '25468.png', '90614.png', '86175.png', '75420.png', '01689.png', '46508.png', '16895.png', '27391.png', '59682.png', '60598.png', '93145.png', '74609.png', '27958.png', '30819.png', '42189.png', '08251.png', '06825.png', '95174.png', '41875.png', '13078.png', '40829.png', '67025.png', '04281.png', '51602.png', '18094.png', '09273.png', '12348.png', '47056.png', '64513.png', '34295.png', '84076.png', '47581.png', '71892.png', '43897.png', '09482.png', '17340.png', '19257.png', '31690.png', '07693.png', '80361.png', '42763.png', '65803.png', '78462.png', '15798.png', '78205.png', '81603.png', '98351.png', '32640.png', '60478.png', '57649.png', '10547.png', '98350.png', '19458.png', '94031.png', '36592.png', '04827.png', '80327.png', '10492.png', '93754.png', '86904.png', '17089.png', '75349.png', '21986.png', '76842.png', '48635.png', '89032.png', '41853.png', '19526.png', '45037.png', '32647.png', '18356.png', '49805.png', '15938.png', '59340.png', '35096.png', '17842.png', '73140.png', '32570.png', '96517.png', '23096.png', '89307.png', '83670.png', '01598.png', '26478.png', '20831.png', '01329.png', '75981.png', '59840.png', '30452.png', '13976.png', '56281.png', '57608.png', '14589.png', '61872.png', '12748.png', '29851.png', '54138.png', '72685.png', '08275.png', '56418.png', '78294.png', '85392.png', '80395.png', '10483.png', '92680.png', '03547.png', '69470.png', '96704.png', '60254.png', '52431.png', '31547.png', '89342.png', '30615.png', '86103.png', '75648.png', '26835.png', '97824.png', '68521.png', '31024.png', '71236.png', '96753.png', '40918.png', '72561.png', '94687.png', '96810.png', '19543.png', '23106.png', '74502.png', '28391.png', '94251.png', '94051.png', '21380.png', '06791.png', '86179.png', '09587.png', '16248.png', '93487.png', '01379.png', '36589.png', '19420.png', '27960.png', '92453.png', '45167.png', '57260.png', '29387.png', '26394.png', '50374.png', '94571.png', '27305.png', '53871.png', '30954.png', '06418.png', '60398.png', '63741.png', '82679.png', '93124.png', '23657.png', '51809.png', '30175.png', '13748.png', '92038.png', '23705.png', '59301.png', '40569.png', '52803.png', '48905.png', '09215.png', '97246.png', '50937.png', '28163.png', '16492.png', '82507.png', '74310.png', '85976.png', '14579.png', '35472.png', '94087.png', '76358.png', '48539.png', '93046.png', '20578.png', '49785.png', '81370.png', '75016.png', '37198.png', '92658.png', '04569.png', '17493.png', '56401.png', '70641.png', '84729.png', '87260.png', '93528.png', '27384.png', '40728.png', '17564.png', '59307.png', '54097.png', '02537.png', '71823.png', '14650.png', '71035.png', '62457.png', '31645.png', '48052.png', '04873.png', '10784.png', '06798.png', '69418.png', '28637.png', '46375.png', '05694.png', '73984.png', '07319.png', '29178.png', '94365.png', '31760.png', '30697.png', '42706.png', '27568.png', '46021.png', '78465.png', '84965.png', '18362.png', '13960.png', '68259.png', '91847.png', '68592.png', '98416.png', '63579.png', '05231.png', '76819.png', '01278.png', '41835.png', '26705.png', '80921.png', '84790.png', '68025.png', '34261.png', '76120.png', '36972.png', '29746.png', '60483.png', '46732.png', '49650.png', '62594.png', '10345.png', '26453.png', '08514.png', '05129.png', '45912.png', '27580.png', '58407.png', '05617.png', '70162.png', '16745.png', '26385.png', '97543.png', '90127.png', '93874.png', '19536.png', '73508.png', '52986.png', '29015.png', '63287.png', '75362.png', '69820.png', '51672.png', '07284.png', '28360.png', '12983.png', '05276.png', '68731.png', '89063.png', '26481.png', '13085.png', '37809.png', '91048.png', '16920.png', '89507.png', '67084.png', '73056.png', '31642.png', '34267.png', '16405.png', '80324.png', '64321.png', '47826.png', '51679.png', '43098.png', '80165.png', '85379.png', '37680.png', '64978.png', '71482.png', '97108.png', '57802.png', '40927.png', '27106.png', '38576.png', '08617.png', '58029.png', '24517.png', '47620.png', '04319.png', '75618.png', '68917.png', '16923.png', '56184.png', '59863.png', '62150.png', '59408.png', '91402.png', '75360.png', '30142.png', '92546.png', '34682.png', '02831.png', '56310.png', '38704.png', '73842.png', '70132.png', '86309.png', '17483.png', '17086.png', '86259.png', '52864.png', '27169.png', '73520.png', '28406.png', '58703.png', '52168.png', '58327.png', '49208.png', '09547.png', '34157.png', '71805.png', '92845.png', '83016.png', '65827.png', '57836.png', '34089.png', '37945.png', '38402.png', '95724.png', '91405.png', '48271.png', '19507.png', '87149.png', '29684.png', '42698.png', '49567.png', '07931.png', '14892.png', '23749.png', '03845.png', '97012.png', '87043.png', '50312.png', '37105.png', '76945.png', '97125.png', '46902.png', '79845.png', '92346.png', '52631.png', '13548.png', '28176.png', '39765.png', '07198.png', '27436.png', '37058.png', '17634.png', '84316.png', '91270.png', '04918.png', '19503.png', '06153.png', '50187.png', '09786.png', '03179.png', '39610.png', '51482.png', '51023.png', '82760.png', '58437.png', '94152.png', '27043.png', '17392.png', '10896.png', '07984.png', '31470.png', '50867.png', '26078.png', '53901.png', '09756.png', '92457.png', '83675.png', '76540.png', '18325.png', '85473.png', '79031.png', '18674.png', '57302.png', '51493.png', '72514.png', '05728.png', '91078.png', '87290.png', '18730.png', '32617.png', '58361.png', '43087.png', '18067.png', '71462.png', '84016.png', '90285.png', '12376.png', '25473.png', '21468.png', '69425.png', '84276.png', '64097.png', '91840.png', '46897.png', '81645.png', '43190.png', '90125.png', '95341.png', '98437.png', '65149.png', '71963.png', '80924.png', '98463.png', '12547.png', '56837.png', '87934.png', '51092.png', '23469.png', '63941.png', '86217.png', '29073.png', '10926.png', '29406.png', '14907.png', '59278.png', '20749.png', '43716.png', '85067.png', '39867.png', '59384.png', '65183.png', '27053.png', '72059.png', '26894.png', '59613.png', '59143.png', '26198.png', '06392.png', '81926.png', '21654.png', '21589.png', '64301.png', '65289.png', '18739.png', '46532.png', '13806.png', '97051.png', '19032.png', '57921.png', '41890.png', '76498.png', '86329.png', '78125.png', '39281.png', '24765.png', '16502.png', '69503.png', '45216.png', '94267.png', '19736.png', '34297.png', '67415.png', '45810.png', '04651.png', '40876.png', '80126.png', '68923.png', '57426.png', '25314.png', '05296.png', '27351.png', '17356.png', '43680.png', '49152.png', '98653.png', '23071.png', '92517.png', '34715.png', '27948.png', '75084.png', '31268.png', '84502.png', '28146.png', '46527.png', '90275.png', '56307.png', '36201.png', '19457.png', '17849.png', '02918.png', '81947.png', '36540.png', '86145.png', '37185.png', '23745.png', '69870.png', '27438.png', '38529.png', '95672.png', '49087.png', '53806.png', '72305.png', '38569.png', '08674.png', '93162.png', '09174.png', '76803.png', '76942.png', '12493.png', '97685.png', '41265.png', '26159.png', '31897.png', '20163.png', '79803.png', '69512.png', '06359.png', '17624.png', '41537.png', '60357.png', '37810.png', '82964.png', '46810.png', '97853.png', '32701.png', '92853.png', '89527.png', '80932.png', '18504.png', '37641.png', '48751.png', '13697.png', '10865.png', '07213.png', '18462.png', '01763.png', '19840.png', '25807.png', '02816.png', '34091.png', '08925.png', '74531.png', '80534.png', '12957.png', '83649.png', '01974.png', '53967.png', '96708.png', '57236.png', '98523.png', '30579.png', '70652.png', '53426.png', '72961.png', '69524.png', '56940.png', '76830.png', '46387.png', '59142.png', '65789.png', '23967.png', '65037.png', '02935.png', '14965.png', '95680.png', '36895.png', '18963.png', '14765.png', '58213.png', '38215.png', '42065.png', '17935.png', '15076.png', '27506.png', '85267.png', '31809.png', '97023.png', '31082.png', '58142.png', '78953.png', '49157.png', '65240.png', '68417.png', '30241.png', '63150.png', '71420.png', '20795.png', '48516.png', '38509.png', '29354.png', '01459.png', '02879.png', '50278.png', '46017.png', '71396.png', '08173.png', '45691.png', '49782.png', '87625.png', '50176.png', '05962.png', '65140.png', '75204.png', '70928.png', '41209.png', '57203.png', '87235.png', '54761.png', '16280.png', '37508.png', '70158.png', '52078.png', '84091.png', '41508.png', '35264.png', '51627.png', '83106.png', '81450.png', '62439.png', '49215.png', '43127.png', '58329.png', '26543.png', '53679.png', '23485.png', '31068.png', '13592.png', '62917.png', '24357.png', '78394.png', '19026.png', '35764.png', '95267.png', '21853.png', '26315.png', '81673.png', '39504.png', '72016.png', '79504.png', '89146.png', '30291.png', '06198.png', '49083.png', '47926.png', '10653.png', '18450.png', '30185.png', '89512.png', '98567.png', '65930.png', '48612.png', '51437.png', '75402.png', '80269.png', '68295.png', '25367.png', '65148.png', '86947.png', '18632.png', '64385.png', '98701.png', '21596.png', '47950.png', '53194.png', '26153.png', '08367.png', '36480.png', '13458.png', '17548.png', '04619.png', '63152.png', '48236.png', '56081.png', '07248.png', '52931.png', '38095.png', '10639.png', '12873.png', '24791.png', '05479.png', '73104.png', '71480.png', '09374.png', '35086.png', '82719.png', '57631.png', '29130.png', '12608.png', '53027.png', '47123.png', '56482.png', '86401.png', '12059.png', '08569.png', '96083.png', '67439.png', '87031.png', '42659.png', '82537.png', '95376.png', '23658.png', '45317.png', '19587.png', '43295.png', '36570.png', '76259.png', '48317.png', '05134.png', '42361.png', '56827.png', '85190.png', '24306.png', '06739.png', '65129.png', '18509.png', '75421.png', '90286.png', '73426.png', '79084.png', '14679.png', '52863.png', '54936.png', '32956.png', '57198.png', '21643.png', '21637.png', '37250.png', '28015.png', '76843.png', '72489.png', '37429.png', '41370.png', '83504.png', '58609.png', '64781.png', '93647.png', '71653.png', '96301.png', '30258.png', '61058.png', '79125.png', '18794.png', '16934.png', '60134.png', '38069.png', '74598.png', '03985.png', '71825.png', '39028.png', '07918.png', '67018.png', '64701.png', '81069.png', '07351.png', '35870.png', '51846.png', '81972.png', '07561.png', '31706.png', '13492.png', '72094.png', '85930.png', '59061.png', '41385.png', '09386.png', '25639.png', '59206.png', '54697.png', '85429.png', '16850.png', '84317.png', '98643.png', '64805.png', '17254.png', '35210.png', '18052.png', '25714.png', '72413.png', '96071.png', '35684.png', '80653.png', '97361.png', '67538.png', '84759.png', '42635.png', '23401.png', '12604.png', '97025.png', '76521.png', '97508.png', '42801.png', '48573.png', '41658.png', '27963.png', '09852.png', '96408.png', '03251.png', '34216.png', '49205.png', '16873.png', '61823.png', '21930.png', '05614.png', '50193.png', '94281.png', '31609.png', '19362.png', '41379.png', '07458.png', '86271.png', '85209.png', '24975.png', '63502.png', '68529.png', '56980.png', '65809.png', '72318.png', '69405.png', '61904.png', '19352.png', '07254.png', '47809.png', '75823.png', '32516.png', '48170.png', '15603.png', '79452.png', '83709.png', '64913.png', '81734.png', '70294.png', '35972.png', '65043.png', '02417.png', '25463.png', '40563.png', '39805.png', '54068.png', '71263.png', '08261.png', '07826.png', '26930.png', '39672.png', '76892.png', '90251.png', '91457.png', '35704.png', '56123.png', '15097.png', '41082.png', '80473.png', '67842.png', '35498.png', '92534.png', '93506.png', '14306.png', '97105.png', '28317.png', '17653.png', '54819.png', '92317.png', '25780.png', '76491.png', '70941.png', '86031.png', '05238.png', '47569.png', '87364.png', '85327.png', '02486.png', '70198.png', '60348.png', '51089.png', '84327.png', '41539.png', '57183.png', '80915.png', '06491.png', '45062.png', '42137.png', '76214.png', '82419.png', '49213.png', '42510.png', '16240.png', '09851.png', '41623.png', '08349.png', '25748.png', '71830.png', '01268.png', '07592.png', '73162.png', '03871.png', '60714.png', '86914.png', '02814.png', '71253.png', '29364.png', '78469.png', '24098.png', '50789.png', '21078.png', '10583.png', '34528.png', '06589.png', '80426.png', '63704.png', '87416.png', '65430.png', '83609.png', '57193.png', '28491.png', '75408.png', '14083.png', '47025.png', '68752.png', '32789.png', '97210.png', '51407.png', '32615.png', '82179.png', '24309.png', '54129.png', '30871.png', '59604.png', '67281.png', '56241.png', '93658.png', '60742.png', '08372.png', '29380.png', '31805.png', '50398.png', '20681.png', '84297.png', '36142.png', '52071.png', '31048.png', '80275.png', '92081.png', '14675.png', '38465.png', '84750.png', '32985.png', '48162.png', '08345.png', '51376.png', '34785.png', '40913.png', '57982.png', '50674.png', '26318.png', '63859.png', '58917.png', '82541.png', '12504.png', '43617.png', '07645.png', '20579.png', '13675.png', '58760.png', '10634.png', '84013.png', '63025.png', '24398.png', '87532.png', '40629.png', '91708.png', '46518.png', '28450.png', '89236.png', '38094.png', '06471.png', '24109.png', '75142.png', '15479.png', '64027.png', '27489.png', '34186.png', '37980.png', '87946.png', '32709.png', '98543.png', '17034.png', '94106.png', '25416.png', '83946.png', '34162.png', '61258.png', '19845.png', '23940.png', '75410.png', '54968.png', '51973.png', '92437.png', '09531.png', '97615.png', '52738.png', '01836.png', '08613.png', '23504.png', '68975.png', '67438.png', '76419.png', '65732.png', '98362.png', '02381.png', '63410.png', '43609.png', '78156.png', '62537.png', '64281.png', '75984.png', '59410.png', '17430.png', '08643.png', '98541.png', '30864.png', '68937.png', '21504.png', '84609.png', '01247.png', '60538.png', '37950.png', '61502.png', '87956.png', '02367.png', '23570.png', '03587.png', '49758.png', '59761.png', '56247.png', '41538.png', '46175.png', '08924.png', '78164.png', '61304.png', '81249.png', '97413.png', '36027.png', '57980.png', '10482.png', '03145.png', '87263.png', '62314.png', '09657.png', '62580.png', '93127.png', '58649.png', '67091.png', '24861.png', '98547.png', '43892.png', '48257.png', '51628.png', '79485.png', '72508.png', '39261.png', '54608.png', '79463.png', '41562.png', '02518.png', '05619.png', '70534.png', '80935.png', '47350.png', '19230.png', '42567.png', '36907.png', '91428.png', '54201.png', '18394.png', '06278.png', '58743.png', '57621.png', '02891.png', '35726.png', '47829.png', '24783.png', '34901.png', '98702.png', '27365.png', '52796.png', '40916.png', '17835.png', '89640.png', '15937.png', '86431.png', '13825.png', '96514.png', '28604.png', '54397.png', '31295.png', '25791.png', '83145.png', '71586.png', '01285.png', '71624.png', '95386.png', '30487.png', '86041.png', '56429.png', '38917.png', '73068.png', '91806.png', '80526.png', '02854.png', '51472.png', '26841.png', '80241.png', '21547.png', '08259.png', '03172.png', '02149.png', '24918.png', '13528.png', '50328.png', '57189.png', '85679.png', '50741.png', '05947.png', '34570.png', '13058.png', '45630.png', '35017.png', '73254.png', '72093.png', '90572.png', '53927.png', '65728.png', '91562.png', '32806.png', '63784.png', '64137.png', '03917.png', '75260.png', '65829.png', '09364.png', '13902.png', '03187.png', '23581.png', '75601.png', '79045.png', '90618.png', '78659.png', '24569.png', '13795.png', '31426.png', '90163.png', '75829.png', '86021.png', '14360.png', '42958.png', '29401.png', '49385.png', '30527.png', '37592.png', '06594.png', '34982.png', '64890.png', '94602.png', '35041.png', '70324.png', '38702.png', '36459.png', '12649.png', '43701.png', '89137.png', '42970.png', '91842.png', '21746.png', '34506.png', '36821.png', '68745.png', '91042.png', '14028.png', '15906.png', '90648.png', '56834.png', '68730.png', '40693.png', '47053.png', '25719.png', '89035.png', '90283.png', '95173.png', '09486.png', '17928.png', '50962.png', '36804.png', '07261.png', '05832.png', '61835.png', '67543.png', '08632.png', '89153.png', '92183.png', '97814.png', '92154.png', '02478.png', '58204.png', '96317.png', '34571.png', '03742.png', '52971.png', '38762.png', '18407.png', '54621.png', '13270.png', '56948.png', '14329.png', '21346.png', '36048.png', '46813.png', '23074.png', '70394.png', '24538.png', '28059.png', '49076.png', '92180.png', '90256.png', '17802.png', '73180.png', '78069.png', '60758.png', '86325.png', '50137.png', '12890.png', '57208.png', '49786.png', '21836.png', '54209.png', '68321.png', '61953.png', '75092.png', '28401.png', '65413.png', '62854.png', '27041.png', '64172.png', '28930.png', '67904.png', '74813.png', '42615.png', '51237.png', '95281.png', '52613.png', '50762.png', '50617.png', '65832.png', '56328.png', '25816.png', '08176.png', '83720.png', '31624.png', '30157.png', '17894.png', '02653.png', '87120.png', '96451.png', '85104.png', '76435.png', '38714.png', '90451.png', '23864.png', '57423.png', '32605.png', '64935.png', '43560.png', '21059.png', '68094.png', '50372.png', '85219.png', '41597.png', '41678.png', '20381.png', '52361.png', '21038.png', '97520.png', '46528.png', '29706.png', '76091.png', '96713.png', '73465.png', '43197.png', '91483.png', '51630.png', '62904.png', '95067.png', '91236.png', '49031.png', '63845.png', '83941.png', '16592.png', '45371.png', '50293.png', '38701.png', '14397.png', '84307.png', '56023.png', '06958.png', '04986.png', '52710.png', '06948.png', '60917.png', '51978.png', '49201.png', '54912.png', '52607.png', '34876.png', '31729.png', '78345.png', '87436.png', '97208.png', '62084.png', '73596.png', '38524.png', '42685.png', '98517.png', '02894.png', '09561.png', '91365.png', '40319.png', '79625.png', '36190.png', '40137.png', '72941.png', '34518.png', '14263.png', '38274.png', '34825.png', '36581.png', '26837.png', '34786.png', '34795.png', '48926.png', '85317.png', '45017.png', '49106.png', '51862.png', '48136.png', '59628.png', '61753.png', '92836.png', '09357.png', '40539.png', '24806.png', '84265.png', '28957.png', '06458.png', '39425.png', '16784.png', '28436.png', '68512.png', '78259.png', '01823.png', '61250.png', '04739.png', '42975.png', '03281.png', '76854.png', '04298.png', '73501.png', '07839.png', '78492.png', '05768.png', '42650.png', '92140.png', '18459.png', '04639.png', '56240.png', '45132.png', '37426.png', '28967.png', '47918.png', '09768.png', '89076.png', '64709.png', '51926.png', '04267.png', '82697.png', '38920.png', '98274.png', '83476.png', '38495.png', '24850.png', '08369.png', '41309.png', '42931.png', '37054.png', '34970.png', '92456.png', '25361.png', '39527.png', '68759.png', '31472.png', '39472.png', '87013.png', '80916.png', '35271.png', '97250.png', '21067.png', '14897.png', '27685.png', '52890.png', '35276.png', '72401.png', '38410.png', '13906.png', '59731.png', '82914.png', '90834.png', '24630.png', '21653.png', '81092.png', '63289.png', '29148.png', '65734.png', '96081.png', '23015.png', '08126.png', '14275.png', '23854.png', '14386.png', '24860.png', '35084.png', '74862.png', '61532.png', '60573.png', '35016.png', '71485.png', '09687.png', '61093.png', '63490.png', '10528.png', '51839.png', '80392.png', '38652.png', '95742.png', '06914.png', '89314.png', '61780.png', '30764.png', '92817.png', '52069.png', '46720.png', '47531.png', '52739.png', '34281.png', '49602.png', '71348.png', '03924.png', '18704.png', '79036.png', '40857.png', '92148.png', '27605.png', '96103.png', '36590.png', '89523.png', '91385.png', '70268.png', '10465.png', '70384.png', '35916.png', '41068.png', '81329.png', '83059.png', '12570.png', '81395.png', '49670.png', '89047.png', '21063.png', '65978.png', '74861.png', '73605.png', '47652.png', '18937.png', '85062.png', '16759.png', '23187.png', '89526.png', '01325.png', '96873.png', '25061.png', '32549.png', '62083.png', '84269.png', '58301.png', '87324.png', '92653.png', '12958.png', '18207.png', '36089.png', '42163.png', '37542.png', '26981.png', '67531.png', '73069.png', '02983.png', '86543.png', '56273.png', '36498.png', '34520.png', '60315.png', '27083.png', '34567.png', '84203.png', '91037.png', '43826.png', '97053.png', '07164.png', '86741.png', '25904.png', '94586.png', '92015.png', '38594.png', '51479.png', '46730.png', '12378.png', '98762.png', '57840.png', '27934.png', '05297.png', '26534.png', '52036.png', '72486.png', '80162.png', '61503.png', '16587.png', '08957.png', '89160.png', '54368.png', '96307.png', '91286.png', '13285.png', '20491.png', '87096.png', '24593.png', '56830.png', '13248.png', '28546.png', '97345.png', '37509.png', '87304.png', '90148.png', '34057.png', '03267.png', '86025.png', '30518.png', '93247.png', '40587.png', '26739.png', '17324.png', '79068.png', '38271.png', '79018.png', '13890.png', '59163.png', '36429.png', '61482.png', '29046.png', '27965.png', '63140.png', '08679.png', '07413.png', '52680.png', '86479.png', '38641.png', '10834.png', '37681.png', '43569.png', '43651.png', '85902.png', '73416.png', '26018.png', '28691.png', '43021.png', '31852.png', '18075.png', '52870.png', '90214.png', '34857.png', '15768.png', '03128.png', '53691.png', '75128.png', '16093.png', '92608.png', '14697.png', '15037.png', '57348.png', '20957.png', '46053.png', '83294.png', '58012.png', '26903.png', '53462.png', '94578.png', '07832.png', '26149.png', '65189.png', '86249.png', '34081.png', '32698.png', '95876.png', '28053.png', '52904.png', '89152.png', '68457.png', '82609.png', '01547.png', '39580.png', '02439.png', '27369.png', '87219.png', '47516.png', '42830.png', '56473.png', '67250.png', '75046.png', '90531.png', '98032.png', '54863.png', '79142.png', '86430.png', '47609.png', '46279.png', '70281.png', '46850.png', '32076.png', '85670.png', '63952.png', '48250.png', '60592.png', '51489.png', '96507.png', '97162.png', '54692.png', '12450.png', '65372.png', '30216.png', '91536.png', '72956.png', '89325.png', '18290.png', '98734.png', '59072.png', '19256.png', '74302.png', '30281.png', '94512.png', '24519.png', '36812.png', '24160.png', '09138.png', '45219.png', '63425.png', '52681.png', '06158.png', '27803.png', '91432.png', '59832.png', '32491.png', '93172.png', '16035.png', '81436.png', '93725.png', '37405.png', '64189.png', '07628.png', '73568.png', '85139.png', '15478.png', '91680.png', '83740.png', '35840.png', '63418.png', '81497.png', '20736.png', '62134.png', '02846.png', '19472.png', '49307.png', '61280.png', '31094.png', '25198.png', '06845.png', '79138.png', '23715.png', '24713.png', '21846.png', '42687.png', '35678.png', '92843.png', '39706.png', '03189.png', '86139.png', '46529.png', '49813.png', '10647.png', '46213.png', '20815.png', '36248.png', '06951.png', '49752.png', '50467.png', '59328.png', '61342.png', '10985.png', '98276.png', '04982.png', '63587.png', '07391.png', '64190.png', '18935.png', '29675.png', '70645.png', '31850.png', '41672.png', '02794.png', '76924.png', '58069.png', '18453.png', '69732.png', '69342.png', '07825.png', '07436.png', '67924.png', '46301.png', '53810.png', '98654.png', '86293.png', '31685.png', '47390.png', '07293.png', '01472.png', '71450.png', '20679.png', '65349.png', '08243.png', '41930.png', '28190.png', '04567.png', '72641.png', '96204.png', '26138.png', '92046.png', '02194.png', '54286.png', '79435.png', '15638.png', '54260.png', '41638.png', '16082.png', '23748.png', '16954.png', '61948.png', '52410.png', '26073.png', '58690.png', '35740.png', '38962.png', '08163.png', '12834.png', '31875.png', '04971.png', '86201.png', '40756.png', '37560.png', '24781.png', '31290.png', '75163.png', '17203.png', '46358.png', '47859.png', '45217.png', '80259.png', '16052.png', '73154.png', '86237.png', '84057.png', '26914.png', '93761.png', '56193.png', '82740.png', '05612.png', '05172.png', '36908.png', '41697.png', '58479.png', '36571.png', '71562.png', '20951.png', '47215.png', '40198.png', '34678.png', '15648.png', '70356.png', '26390.png', '83296.png', '46852.png', '85406.png', '76104.png', '72981.png', '52617.png', '14873.png', '41382.png', '14052.png', '07356.png', '45806.png', '52918.png', '83492.png', '24157.png', '51694.png', '96710.png', '24730.png', '84123.png', '58341.png', '18406.png', '61932.png', '01456.png', '87563.png', '46035.png', '58260.png', '86714.png', '01452.png', '04253.png', '94210.png', '57029.png', '61592.png', '18654.png', '30519.png', '92768.png', '49023.png', '18742.png', '51409.png', '75918.png', '82156.png', '48306.png', '83520.png', '05438.png', '87365.png', '43065.png', '52304.png', '52714.png', '95817.png', '95302.png', '68431.png', '50461.png', '17864.png', '17938.png', '04632.png', '91724.png', '23416.png', '03984.png', '36578.png', '63758.png', '34915.png', '19302.png', '51037.png', '46829.png', '80974.png', '81273.png', '84052.png', '26905.png', '56179.png', '12534.png', '92501.png', '05279.png', '85394.png', '17036.png', '57861.png', '42056.png', '61802.png', '02947.png', '08541.png', '84563.png', '80365.png', '15432.png', '21658.png', '27450.png', '12093.png', '80912.png', '76825.png', '04536.png', '30745.png', '57468.png', '41768.png', '19304.png', '40561.png', '25986.png', '42063.png', '74096.png', '23801.png', '27943.png', '19387.png', '37504.png', '70284.png', '41986.png', '89504.png', '48625.png', '12960.png', '18475.png', '30261.png', '46785.png', '90843.png', '24039.png', '07269.png', '03165.png', '20943.png', '83076.png', '72406.png', '15439.png', '01834.png', '62589.png', '06439.png', '70936.png', '70849.png', '27468.png', '67214.png', '40958.png', '53692.png', '36204.png', '35814.png', '30896.png', '10743.png', '02169.png', '15920.png', '37918.png', '73482.png', '58417.png', '53147.png', '21387.png', '19780.png', '24698.png', '81647.png', '96058.png', '67034.png', '31568.png', '13086.png', '91750.png', '94176.png', '47582.png', '53714.png', '07623.png', '71358.png', '14582.png', '86502.png', '48023.png', '48731.png', '24360.png', '12560.png', '08591.png', '06348.png', '42308.png', '59812.png', '81359.png', '96054.png', '15093.png', '70923.png', '83947.png', '31985.png', '68249.png', '40158.png', '93167.png', '63295.png', '94230.png', '46827.png', '93462.png', '29104.png', '69807.png', '68720.png', '76293.png', '92058.png', '68913.png', '10475.png', '25318.png', '69351.png', '29581.png', '80276.png', '49510.png', '53084.png', '12054.png', '42501.png', '97068.png', '46980.png', '94062.png', '10938.png', '90183.png', '03789.png', '38514.png', '06349.png', '07612.png', '63129.png', '97261.png', '30865.png', '95108.png', '47286.png', '46952.png', '42715.png', '25837.png', '61483.png', '86195.png', '64813.png', '21597.png', '56409.png', '32608.png', '27034.png', '06731.png', '92816.png', '37408.png', '90723.png', '28576.png', '02536.png', '08395.png', '84125.png', '42073.png', '51346.png', '78945.png', '63921.png', '51804.png', '52469.png', '51607.png', '84021.png', '71285.png', '14379.png', '23648.png', '96425.png', '48632.png', '42936.png', '04957.png', '62815.png', '68154.png', '47506.png', '56107.png', '17045.png', '02593.png', '54130.png', '92573.png', '14289.png', '16275.png', '03728.png', '67201.png', '35601.png', '61450.png', '16904.png', '83096.png', '67394.png', '59862.png', '25107.png', '28315.png', '46812.png', '03291.png', '69250.png', '48302.png', '95027.png', '84379.png', '39820.png', '12934.png', '84910.png', '48103.png', '69078.png', '02571.png', '08571.png', '45836.png', '70845.png', '27430.png', '24689.png', '93260.png', '71625.png', '72018.png', '42875.png', '25861.png', '94528.png', '64590.png', '79325.png', '92467.png', '93547.png', '64723.png', '72851.png', '28397.png', '70426.png', '18946.png', '94153.png', '72415.png', '71869.png', '52037.png', '13720.png', '20375.png', '02576.png', '43529.png', '02156.png', '57386.png', '96407.png', '03761.png', '89105.png', '80214.png', '76489.png', '30192.png', '58210.png', '98571.png', '30652.png', '29750.png', '73598.png', '02567.png', '15079.png', '18532.png', '35178.png', '27548.png', '28641.png', '87954.png', '57893.png', '84032.png', '15893.png', '79085.png', '37251.png', '97481.png', '86135.png', '05643.png', '17236.png', '02841.png', '97586.png', '67539.png', '51903.png', '31649.png', '50492.png', '93526.png', '95078.png', '51389.png', '10789.png', '14829.png', '04695.png', '24317.png', '74286.png', '65098.png', '71265.png', '19427.png', '41237.png', '93084.png', '46701.png', '04785.png', '56807.png', '60729.png', '94710.png', '37254.png', '57914.png', '41896.png', '13069.png', '72409.png', '85316.png', '91372.png', '53407.png', '64901.png', '01578.png', '91063.png', '87504.png', '38756.png', '17934.png', '15230.png', '16382.png', '20819.png', '21096.png', '19375.png', '31487.png', '91740.png', '58374.png', '19634.png', '20498.png', '52860.png', '95130.png', '09462.png', '38460.png', '04712.png', '59317.png', '76239.png', '50184.png', '81956.png', '59401.png', '62458.png', '54690.png', '13650.png', '28019.png', '17962.png', '96174.png', '78240.png', '37962.png', '76093.png', '35942.png', '45316.png', '50768.png', '70549.png', '92718.png', '37180.png', '87392.png', '97804.png', '23046.png', '86405.png', '50371.png', '75269.png', '97521.png', '16439.png', '67108.png', '06213.png', '94231.png', '17029.png', '38754.png', '62590.png', '75461.png', '58372.png', '23467.png', '52097.png', '32915.png', '50489.png', '15236.png', '40759.png', '78314.png', '25896.png', '47386.png', '10867.png', '26093.png', '32106.png', '60937.png', '01284.png', '67124.png', '30714.png', '54217.png', '87924.png', '83924.png', '20958.png', '20159.png', '80429.png', '96345.png', '97436.png', '57421.png', '48091.png', '32091.png', '20617.png', '61234.png', '75089.png', '81546.png', '38210.png', '63491.png', '26794.png', '96153.png', '13076.png', '45960.png', '21065.png', '05439.png', '32974.png', '48251.png', '29056.png', '17829.png', '95201.png', '93042.png', '69041.png', '05283.png', '43520.png', '04623.png', '37128.png', '67048.png', '37256.png', '41086.png', '06514.png', '97406.png', '79285.png', '07642.png', '09126.png', '09185.png', '96183.png', '64125.png', '28459.png', '83965.png', '03896.png', '05943.png', '52489.png', '83925.png', '72310.png', '47265.png', '07249.png', '84152.png', '78104.png', '86540.png', '06412.png', '63805.png', '42816.png', '18307.png', '72398.png', '12736.png', '10358.png', '13287.png', '71983.png', '03148.png', '70325.png', '97102.png', '89471.png', '01568.png', '10285.png', '04258.png', '51360.png', '67852.png', '61537.png', '95438.png', '07312.png', '05931.png', '46357.png', '24853.png', '16845.png', '69235.png', '95317.png', '90362.png', '52938.png', '71693.png', '10794.png', '07689.png', '59743.png', '10548.png', '54893.png', '09731.png', '74608.png', '40527.png', '61940.png', '72940.png', '36129.png', '17439.png', '49178.png', '47368.png', '14896.png', '30941.png', '01694.png', '12843.png', '61935.png', '10348.png', '43697.png', '84736.png', '59718.png', '87146.png', '82016.png', '20796.png', '69548.png', '85790.png', '04132.png', '86043.png', '58304.png', '59463.png', '09285.png', '35102.png', '36051.png', '83290.png', '07596.png', '15796.png', '14239.png', '84061.png', '60487.png', '74083.png', '81953.png', '25914.png', '91765.png', '79432.png', '57430.png', '72380.png', '82540.png', '71302.png', '34751.png', '82749.png', '53609.png', '01389.png', '49521.png', '15824.png', '96023.png', '85710.png', '82763.png', '40193.png', '39710.png', '86394.png', '04597.png', '46027.png', '49315.png', '63719.png', '45682.png', '23897.png', '38401.png', '89607.png', '34219.png', '57369.png', '07851.png', '89406.png', '31728.png', '42759.png', '16098.png', '16320.png', '39054.png', '06293.png', '56843.png', '26348.png', '51736.png', '28614.png', '85721.png', '16085.png', '14632.png', '29376.png', '35687.png', '10956.png', '30687.png', '92835.png', '29013.png', '04316.png', '41823.png', '05762.png', '68213.png', '71986.png', '96821.png', '30721.png', '35068.png', '26715.png', '06759.png', '78612.png', '82674.png', '73205.png', '79428.png', '76134.png', '59186.png', '06328.png', '40239.png', '85941.png', '71439.png', '32794.png', '78096.png', '78631.png', '68304.png', '73659.png', '20685.png', '48315.png', '84629.png', '89573.png', '41796.png', '25849.png', '62740.png', '67352.png', '96431.png', '86952.png', '34217.png', '84271.png', '10425.png', '63174.png', '64207.png', '09715.png', '47905.png', '82590.png', '20567.png', '93852.png', '59237.png', '17369.png', '21530.png', '41972.png', '43610.png', '98374.png', '70592.png', '78924.png', '45837.png', '56872.png', '21674.png', '94236.png', '25716.png', '95427.png', '41067.png', '16935.png', '58136.png', '97402.png', '69140.png', '65213.png', '89407.png', '13798.png', '02716.png', '70614.png', '36752.png', '94721.png', '67342.png', '41962.png', '29310.png', '17852.png', '90756.png', '40572.png', '01953.png', '73546.png', '20497.png', '26507.png', '17420.png', '56428.png', '08917.png', '58297.png', '23578.png', '91638.png', '81457.png', '80253.png', '17345.png', '73964.png', '03624.png', '59167.png', '13469.png', '48106.png', '49168.png', '37860.png', '16780.png', '24067.png', '23810.png', '69824.png', '86254.png', '71045.png', '31560.png', '89647.png', '24316.png', '12804.png', '80593.png', '42381.png', '61458.png', '72481.png', '56417.png', '17805.png', '29043.png', '07956.png', '90243.png', '67518.png', '27058.png', '18465.png', '40712.png', '39658.png', '24870.png', '37965.png', '13792.png', '92147.png', '15632.png', '25386.png', '78064.png', '47051.png', '62934.png', '40361.png', '81374.png', '45093.png', '50126.png', '61702.png', '50327.png', '68019.png', '94786.png', '72946.png', '32765.png', '09326.png', '71094.png', '09368.png', '02761.png', '16354.png', '82453.png', '94580.png', '34051.png', '19308.png', '59026.png', '09184.png', '23068.png', '84302.png', '19823.png', '17289.png', '01425.png', '37690.png', '68309.png', '39158.png', '70835.png', '06425.png', '71459.png', '35902.png', '48923.png', '27861.png', '90173.png', '60857.png', '79185.png', '31085.png', '56749.png', '59473.png', '03865.png', '02973.png', '48725.png', '79280.png', '36421.png', '40351.png', '13567.png', '32160.png', '83175.png', '73125.png', '59684.png', '19326.png', '75624.png', '20196.png', '47029.png', '06415.png', '92016.png', '85947.png', '17582.png', '63275.png', '65123.png', '93468.png', '13765.png', '49603.png', '53278.png', '50413.png', '87246.png', '06723.png', '94753.png', '98361.png', '02795.png', '09321.png', '36724.png', '89542.png', '63715.png', '20459.png', '17023.png', '61379.png', '73286.png', '67241.png', '10256.png', '39274.png', '60371.png', '40731.png', '49830.png', '75039.png', '34975.png', '59837.png', '50931.png', '63041.png', '21345.png', '13692.png', '23054.png', '21075.png', '48012.png', '51768.png', '09632.png', '89740.png', '16952.png', '76143.png', '10538.png', '20146.png', '81724.png', '36974.png', '30692.png', '34179.png', '13426.png', '25684.png', '96270.png', '32841.png', '64720.png', '81276.png', '50236.png', '70234.png', '56291.png', '34961.png', '01327.png', '13876.png', '27405.png', '53491.png', '25381.png', '94876.png', '63582.png', '83765.png', '12506.png', '69813.png', '19874.png', '81206.png', '48920.png', '70598.png', '84592.png', '62891.png', '78563.png', '27496.png', '91803.png', '86207.png', '27150.png', '04925.png', '90587.png', '09376.png', '39012.png', '47598.png', '37451.png', '13695.png', '09675.png', '23150.png', '21479.png', '01546.png', '32907.png', '40217.png', '58079.png', '18246.png', '58906.png', '97301.png', '51379.png', '10893.png', '05294.png', '01936.png', '68349.png', '69534.png', '62971.png', '97510.png', '38409.png', '16830.png', '41802.png', '25174.png', '81746.png', '42078.png', '15409.png', '35967.png', '71930.png', '73986.png', '49260.png', '27139.png', '75642.png', '97568.png', '52641.png', '28674.png', '03926.png', '70532.png', '87340.png', '82510.png', '38764.png', '75810.png', '86930.png', '32856.png', '38045.png', '29158.png', '32089.png', '91824.png', '18043.png', '49165.png', '74968.png', '97316.png', '68371.png', '18594.png', '87420.png', '74312.png', '14235.png', '69518.png', '19825.png', '95278.png', '69751.png', '10532.png', '08361.png', '18675.png', '93051.png', '72459.png', '28541.png', '41290.png', '71352.png', '21534.png', '07528.png', '78652.png', '15327.png', '65491.png', '94352.png', '60257.png', '32714.png', '47801.png', '78964.png', '74915.png', '37024.png', '57821.png', '64280.png', '04583.png', '61924.png', '18647.png', '83905.png', '98314.png', '40385.png', '73054.png', '89140.png', '21694.png', '15734.png', '62814.png', '47521.png', '95723.png', '95763.png', '74530.png', '59468.png', '29470.png', '54301.png', '86490.png', '54973.png', '09563.png', '42185.png', '93216.png', '27318.png', '57438.png', '91374.png', '60721.png', '42530.png', '49621.png', '92641.png', '38259.png', '01436.png', '86194.png', '73485.png', '27309.png', '25193.png', '46193.png', '52103.png', '96250.png', '19346.png', '64810.png', '04239.png', '87206.png', '94253.png', '90365.png', '76809.png', '04769.png', '64902.png', '73609.png', '40159.png', '62305.png', '34625.png', '76012.png', '10765.png', '69713.png', '07516.png', '69074.png', '10962.png', '67843.png', '10756.png', '05864.png', '08652.png', '94615.png', '73601.png', '63890.png', '26185.png', '43025.png', '06175.png', '76421.png', '94012.png', '61495.png', '92435.png', '10489.png', '70498.png', '29735.png', '96124.png', '10254.png', '26370.png', '29873.png', '69758.png', '87521.png', '02867.png', '48925.png', '06728.png', '75928.png', '94170.png', '37289.png', '13978.png', '01487.png', '56973.png', '08765.png', '89613.png', '46093.png', '39452.png', '52670.png', '82436.png', '16072.png', '34568.png', '58679.png', '21347.png', '24365.png', '40791.png', '07523.png', '03527.png', '94086.png', '71368.png', '79861.png', '94356.png', '81047.png', '81934.png', '23681.png', '97562.png', '20915.png', '97564.png', '12637.png', '48307.png', '86253.png', '56219.png', '59621.png', '08162.png', '07912.png', '28476.png', '97128.png', '85042.png', '79302.png', '43527.png', '75041.png', '09312.png', '93068.png', '56480.png', '50731.png', '83401.png', '68350.png', '29476.png', '38427.png', '41720.png', '87059.png', '28739.png', '24971.png', '43920.png', '67835.png', '70825.png', '20978.png', '04823.png', '98716.png', '43652.png', '51934.png', '28039.png', '32468.png', '31042.png', '84652.png', '57148.png', '98714.png', '67491.png', '72450.png', '48520.png', '69012.png', '89042.png', '30894.png', '25940.png', '09324.png', '47359.png', '56790.png', '19085.png', '53476.png', '39420.png', '71305.png', '18235.png', '98346.png', '73518.png', '48079.png', '83764.png', '79062.png', '48356.png', '68973.png', '19357.png', '35287.png', '27913.png', '29468.png', '58164.png', '63510.png', '24376.png', '04719.png', '52376.png', '31907.png', '15407.png', '85329.png', '34768.png', '94015.png', '83461.png', '61274.png', '47981.png', '92314.png', '06952.png', '65409.png', '20873.png', '70981.png', '42618.png', '67198.png', '28147.png', '26549.png', '35806.png', '27635.png', '86142.png', '94720.png', '42960.png', '42317.png', '92450.png', '19065.png', '04853.png', '71563.png', '96840.png', '69127.png', '74236.png', '14789.png', '61893.png', '94085.png', '78365.png', '54719.png', '71849.png', '70613.png', '05468.png', '59063.png', '95801.png', '93106.png', '38154.png', '32579.png', '25948.png', '18452.png', '75406.png', '81254.png', '25370.png', '46237.png', '46201.png', '21083.png', '10236.png', '13067.png', '21497.png', '28306.png', '39284.png', '02987.png', '37895.png', '52406.png', '71630.png', '75603.png', '60345.png', '07134.png', '25497.png', '36789.png', '80197.png', '70385.png', '63957.png', '72904.png', '04861.png', '80314.png', '14976.png', '42876.png', '85261.png', '60513.png', '30168.png', '68491.png', '16058.png', '97026.png', '58023.png', '89437.png', '24890.png', '82693.png', '79312.png', '12785.png', '72810.png', '94628.png', '72951.png', '19532.png', '90586.png', '94651.png', '76015.png', '04398.png', '41057.png', '53241.png', '58612.png', '56947.png', '52716.png', '89612.png', '96034.png', '62573.png', '57482.png', '23615.png', '52847.png', '58046.png', '65937.png', '20673.png', '21509.png', '37201.png', '91052.png', '87352.png', '89360.png', '82940.png', '82960.png', '93541.png', '68409.png', '38019.png', '95274.png', '97184.png', '20968.png', '35170.png', '35628.png', '81642.png', '12763.png', '20317.png', '28395.png', '71863.png', '43192.png', '75912.png', '04857.png', '85923.png', '84971.png', '21973.png', '02876.png', '02569.png', '46538.png', '74920.png', '58134.png', '30624.png', '71649.png', '59360.png', '18940.png', '98425.png', '78913.png', '98154.png', '52687.png', '25917.png', '38297.png', '53769.png', '68342.png', '90742.png', '07685.png', '56290.png', '28735.png', '96057.png', '35217.png', '46291.png', '32649.png', '61827.png', '37052.png', '45610.png', '59627.png', '39187.png', '26374.png', '45180.png', '97514.png', '23859.png', '16084.png', '63029.png', '50129.png', '05482.png', '05917.png', '48125.png', '46302.png', '08294.png', '64571.png', '24189.png', '13249.png', '36254.png', '05162.png', '12576.png', '34897.png', '36805.png', '76402.png', '31792.png', '12597.png', '43812.png', '50473.png', '28369.png', '72689.png', '63954.png', '73549.png', '65380.png', '76923.png', '15298.png', '65107.png', '98764.png', '79134.png', '64853.png', '54726.png', '75086.png', '34097.png', '50416.png', '58197.png', '30695.png', '93502.png', '62174.png', '92168.png', '19567.png', '59871.png', '17054.png', '36197.png', '81605.png', '93524.png', '48523.png', '98071.png', '45609.png', '09283.png', '49687.png', '13209.png', '89432.png', '09572.png', '18965.png', '17298.png', '02657.png', '83074.png', '26319.png', '32891.png', '71950.png', '80152.png', '71534.png', '34872.png', '20715.png', '16298.png', '35618.png', '46578.png', '68452.png', '47016.png', '89765.png', '27408.png', '57286.png', '20971.png', '13875.png', '78395.png', '63718.png', '10274.png', '05127.png', '38516.png', '67402.png', '56249.png', '41387.png', '80546.png', '86910.png', '98537.png', '75431.png', '24875.png', '60239.png', '30526.png', '29187.png', '68915.png', '24397.png', '02957.png', '40573.png', '37915.png', '69203.png', '87061.png', '04296.png', '21367.png', '31786.png', '56149.png', '60971.png', '38046.png', '13962.png', '93245.png', '37854.png', '12704.png', '39785.png', '64708.png', '75613.png', '15694.png', '58016.png', '98754.png', '20984.png', '69085.png', '34791.png', '71294.png', '04615.png', '58730.png', '46507.png', '47593.png', '32564.png', '19234.png', '58349.png', '63581.png', '46215.png', '56810.png', '50271.png', '82673.png', '19205.png', '41967.png', '05189.png', '34165.png', '32896.png', '31479.png', '12536.png', '39624.png', '95401.png', '81904.png', '40716.png', '91462.png', '59341.png', '16540.png', '98526.png', '63509.png', '25138.png', '59123.png', '18642.png', '26943.png', '29150.png', '87501.png', '59043.png', '65824.png', '08912.png', '80615.png', '71925.png', '17508.png', '84719.png', '80239.png', '32591.png', '56930.png', '40286.png', '89025.png', '80134.png', '21698.png', '76532.png', '98625.png', '09128.png', '51924.png', '67913.png', '98156.png', '29614.png', '16804.png', '02193.png', '75132.png', '62713.png', '81902.png', '82316.png', '10576.png', '13540.png', '26890.png', '52614.png', '61892.png', '93750.png', '96531.png', '79305.png', '73962.png', '49723.png', '92584.png', '09812.png', '34870.png', '62405.png', '43798.png', '47931.png', '27613.png', '56187.png', '78931.png', '21963.png', '67492.png', '75840.png', '58706.png', '70612.png', '61538.png', '36401.png', '34875.png', '62143.png', '41308.png', '07634.png', '43958.png', '06945.png', '57349.png', '59402.png', '38109.png', '95813.png', '27608.png', '83256.png', '64982.png', '28690.png', '58176.png', '71360.png', '54187.png', '93284.png', '98134.png', '67309.png', '39817.png', '03764.png', '19380.png', '36021.png', '15489.png', '16973.png', '91245.png', '36025.png', '35604.png', '04735.png', '67581.png', '17643.png', '01854.png', '63104.png', '85094.png', '65914.png', '05369.png', '43820.png', '51263.png', '78206.png', '71032.png', '15839.png', '38475.png', '91083.png', '62739.png', '40721.png', '03675.png', '70893.png', '24019.png', '70319.png', '98627.png', '08964.png', '86024.png', '62851.png', '13724.png', '21086.png', '17382.png', '27461.png', '45320.png', '65209.png', '34082.png', '70543.png', '10752.png', '89067.png', '47589.png', '26031.png', '92085.png', '17850.png', '62710.png', '69570.png', '81294.png', '98367.png', '79014.png', '04256.png', '72345.png', '14068.png', '20931.png', '43579.png', '59617.png', '98365.png', '70415.png', '07451.png', '76158.png', '76258.png', '04278.png', '41869.png', '38041.png', '24130.png', '73592.png', '23751.png', '54062.png', '94378.png', '80942.png', '31209.png', '43759.png', '58091.png', '58036.png', '73250.png', '85740.png', '78134.png', '52783.png', '54196.png', '86530.png', '68190.png', '80734.png', '50483.png', '56912.png', '09513.png', '15083.png', '78509.png', '07328.png', '56821.png', '96137.png', '19253.png', '79806.png', '24580.png', '06248.png', '40376.png', '31765.png', '68930.png', '74053.png', '67354.png', '54962.png', '96471.png', '52407.png', '43078.png', '75340.png', '97325.png', '56490.png', '51208.png', '54316.png', '92613.png', '45671.png', '29438.png', '68231.png', '32586.png', '53917.png', '34065.png', '01236.png', '02634.png', '92783.png', '79162.png', '09132.png', '48196.png', '39051.png', '54137.png', '04138.png', '91340.png', '74390.png', '87526.png', '50942.png', '53640.png', '48096.png', '63910.png', '83615.png', '56302.png', '02183.png', '97816.png', '30971.png', '31705.png', '67312.png', '94178.png', '71463.png', '10436.png', '90315.png', '59701.png', '20541.png', '34628.png', '16849.png', '37420.png', '97045.png', '79451.png', '45739.png', '31647.png', '49261.png', '72369.png', '61549.png', '82403.png', '58694.png', '20538.png', '80153.png', '20814.png', '04579.png', '12935.png', '07438.png', '59048.png', '54836.png', '03485.png', '74132.png', '14267.png', '58471.png', '84270.png', '57249.png', '63092.png', '80672.png', '32798.png', '28076.png', '80613.png', '67209.png', '08653.png', '56938.png', '36508.png', '90468.png', '62974.png', '49061.png', '92368.png', '74520.png', '25096.png', '84192.png', '46172.png', '74021.png', '93624.png', '34068.png', '39264.png', '38071.png', '29063.png', '94351.png', '36174.png', '95780.png', '94107.png', '91348.png', '20769.png', '35412.png', '06489.png', '25768.png', '79608.png', '54930.png', '53782.png', '61378.png', '34782.png', '61894.png', '85093.png', '67431.png', '68017.png', '56038.png', '38196.png', '71584.png', '51308.png', '38461.png', '73680.png', '52401.png', '74652.png', '94083.png', '92067.png', '54710.png', '85362.png', '79132.png', '60823.png', '62384.png', '59024.png', '02647.png', '52761.png', '41325.png', '46310.png', '19074.png', '47096.png', '71095.png', '26795.png', '14378.png', '75649.png', '65819.png', '63795.png', '50149.png', '27854.png', '67823.png', '46793.png', '49127.png', '43278.png', '76321.png', '64153.png', '96857.png', '94065.png', '35091.png', '02497.png', '59678.png', '15892.png', '38942.png', '78906.png', '82369.png', '74206.png', '62408.png', '20871.png', '76458.png', '05126.png', '91284.png', '34056.png', '26371.png', '32875.png', '15932.png', '85307.png', '75286.png', '87125.png', '40329.png', '43690.png', '40327.png', '75418.png', '83470.png', '98246.png', '07241.png', '47692.png', '81259.png', '41320.png', '78239.png', '23845.png', '04917.png', '63095.png', '59403.png', '52804.png', '17294.png', '80943.png', '49120.png', '68327.png', '65071.png', '14527.png', '16357.png', '50794.png', '89230.png', '19705.png', '38416.png', '16579.png', '01235.png', '69530.png', '25068.png', '43928.png', '60235.png', '07521.png', '75416.png', '69875.png', '32796.png', '90326.png', '08295.png', '70932.png', '82163.png', '51930.png', '53048.png', '45927.png', '59467.png', '65231.png', '35746.png', '97651.png', '81423.png', '24815.png', '81624.png', '14082.png', '52479.png', '10459.png', '13802.png', '15267.png', '56180.png', '72605.png', '02718.png', '80195.png', '54016.png', '65190.png', '45802.png', '89541.png', '51309.png', '30742.png', '01423.png', '37865.png', '49028.png', '13026.png', '23817.png', '03519.png', '32568.png', '78693.png', '45023.png', '83257.png', '20653.png', '26891.png', '96745.png', '85421.png', '54931.png', '03876.png', '43276.png', '25481.png', '23510.png', '79054.png', '10264.png', '10827.png', '74152.png', '91627.png', '25168.png', '35802.png', '21385.png', '97423.png', '49716.png', '76381.png', '71938.png', '89412.png', '28497.png', '01274.png', '05719.png', '45231.png', '10259.png', '29703.png', '07214.png', '80196.png', '37821.png', '36710.png', '40917.png', '93614.png', '83692.png', '04958.png', '91526.png', '14879.png', '47063.png', '89673.png', '07412.png', '57284.png', '28791.png', '46097.png', '10786.png', '24083.png', '34180.png', '35964.png', '39524.png', '89061.png', '14870.png', '36198.png', '54290.png', '58369.png', '85417.png', '04185.png', '43657.png', '48203.png', '02917.png', '25493.png', '62805.png', '36748.png', '91870.png', '52397.png', '16857.png', '82473.png', '68934.png', '47358.png', '48205.png', '06973.png', '82169.png', '56280.png', '70352.png', '70539.png', '74098.png', '39852.png', '03841.png', '90836.png', '42538.png', '35497.png', '04973.png', '45603.png', '73206.png', '63987.png', '82457.png', '62850.png', '53182.png', '04683.png', '64821.png', '79128.png', '28945.png', '37049.png', '97183.png', '12309.png', '83794.png', '29513.png', '26034.png', '04813.png', '18597.png', '91862.png', '03472.png', '62315.png', '12807.png', '53280.png', '02793.png', '76103.png', '50739.png', '13647.png', '61590.png', '65473.png', '80265.png', '25438.png', '19563.png', '19547.png', '04293.png', '32405.png', '54790.png', '20178.png', '29506.png', '53176.png', '91586.png', '16537.png', '12607.png', '58491.png', '25687.png', '43861.png', '36541.png', '75841.png', '03629.png', '62097.png', '02975.png', '90274.png', '51864.png', '84752.png', '47250.png', '63195.png', '08516.png', '01476.png', '28571.png', '34920.png', '29384.png', '37260.png', '56701.png', '34695.png', '16927.png', '36158.png', '54289.png', '17539.png', '19627.png', '67183.png', '84576.png', '54236.png', '74265.png', '35216.png', '87391.png', '48703.png', '97263.png', '57890.png', '31924.png', '28074.png', '30495.png', '50462.png', '64789.png', '46095.png', '03976.png', '34258.png', '21753.png', '90162.png', '98072.png', '40932.png', '62085.png', '42038.png', '41738.png', '62504.png', '35490.png', '20395.png', '04127.png', '43971.png', '34852.png', '46735.png', '15269.png', '90817.png', '69305.png', '61927.png', '80971.png', '73980.png', '65401.png', '13450.png', '43698.png', '61459.png', '45031.png', '70841.png', '10463.png', '53046.png', '42786.png', '50386.png', '50246.png', '70459.png', '84392.png', '91345.png', '04967.png', '23905.png', '71309.png', '84532.png', '35146.png', '12806.png', '47913.png', '19540.png', '75382.png', '63082.png', '87426.png', '05349.png', '53167.png', '54976.png', '06519.png', '71453.png', '30849.png', '35079.png', '61208.png', '70213.png', '37482.png', '97365.png', '18524.png', '08795.png', '97321.png', '90682.png', '98125.png', '64523.png', '63250.png', '83456.png', '96230.png', '31549.png', '97415.png', '16473.png', '67190.png', '07382.png', '95417.png', '42589.png', '48361.png', '35470.png', '50471.png', '93086.png', '96781.png', '62105.png', '75240.png', '36927.png', '48973.png', '03861.png', '14283.png', '84657.png', '73846.png', '15280.png', '75160.png', '37692.png', '65102.png', '60527.png', '17528.png', '31485.png', '34680.png', '53012.png', '06839.png', '69084.png', '65741.png', '41062.png', '79230.png', '48917.png', '24368.png', '74192.png', '85129.png', '34978.png', '45819.png', '60451.png', '62941.png', '17348.png', '95048.png', '93128.png', '34910.png', '81792.png', '82076.png', '97832.png', '15064.png', '67849.png', '34675.png', '26357.png', '48705.png', '08743.png', '07294.png', '10458.png', '53124.png', '45829.png', '53089.png', '06794.png', '81625.png', '71063.png', '13457.png', '73198.png', '74059.png', '42751.png', '79218.png', '31975.png', '52301.png', '76351.png', '52340.png', '19824.png', '08657.png', '51680.png', '57618.png', '01894.png', '42896.png', '27148.png', '74658.png', '38164.png', '71506.png', '87592.png', '29574.png', '09154.png', '37190.png', '69427.png', '27534.png', '72491.png', '76840.png', '29176.png', '08419.png', '20684.png', '72536.png', '52609.png', '26497.png', '56708.png', '03759.png', '61752.png', '23706.png', '39652.png', '04726.png', '86209.png', '96213.png', '03196.png', '95718.png', '68120.png', '20195.png', '95068.png', '57169.png', '78302.png', '57986.png', '49012.png', '76951.png', '54629.png', '25640.png', '52839.png', '45869.png', '87432.png', '28134.png', '89425.png', '93268.png', '16348.png', '63210.png', '34095.png', '25013.png', '89435.png', '34619.png', '07125.png', '27185.png', '51403.png', '60249.png', '21740.png', '92143.png', '52798.png', '64015.png', '31672.png', '74908.png', '71530.png', '46081.png', '89306.png', '84362.png', '32490.png', '21659.png', '43186.png', '12837.png', '70529.png', '95283.png', '19320.png', '71596.png', '76035.png', '05389.png', '50841.png', '85413.png', '76208.png', '72390.png', '68517.png', '85630.png', '13894.png', '86512.png', '27860.png', '47015.png', '02153.png', '94802.png', '67935.png', '06387.png', '17630.png', '58321.png', '67498.png', '02158.png', '14793.png', '14657.png', '89165.png', '48673.png', '19358.png', '82941.png', '40813.png', '48063.png', '71824.png', '24389.png', '59031.png', '10396.png', '94132.png', '20341.png', '31278.png', '56871.png', '15238.png', '30569.png', '04687.png', '91034.png', '09765.png', '73819.png', '31709.png', '71325.png', '94156.png', '09385.png', '16783.png', '71560.png', '15728.png', '13095.png', '72819.png', '93208.png', '01738.png', '30456.png', '50817.png', '61479.png', '53908.png', '71645.png', '41258.png', '21583.png', '97063.png', '29507.png', '48670.png', '89403.png', '52809.png', '72610.png', '76850.png', '83517.png', '70624.png', '30259.png', '47263.png', '65092.png', '49387.png', '08641.png', '15420.png', '42579.png', '65097.png', '10564.png', '96315.png', '20396.png', '96027.png', '04716.png', '05192.png', '39185.png', '82563.png', '78243.png', '56910.png', '80217.png', '01835.png', '14865.png', '35064.png', '16532.png', '40269.png', '37802.png', '32746.png', '45938.png', '78405.png', '42689.png', '69312.png', '93125.png', '64359.png', '07562.png', '13874.png', '52439.png', '56210.png', '41936.png', '26940.png', '59714.png', '03524.png', '52031.png', '82943.png', '05273.png', '75026.png', '93146.png', '16820.png', '49652.png', '10536.png', '92513.png', '37021.png', '48295.png', '98034.png', '57938.png', '81692.png', '62351.png', '20891.png', '39564.png', '16459.png', '83509.png', '35861.png', '93105.png', '03642.png', '17285.png', '84510.png', '53768.png', '65108.png', '56812.png', '85612.png', '78139.png', '94360.png', '15324.png', '12407.png', '31540.png', '31708.png', '17386.png', '94180.png', '69752.png', '97501.png', '95214.png', '49583.png', '72634.png', '12894.png', '15243.png', '12039.png', '14906.png', '45213.png', '28504.png', '57124.png', '69308.png', '49682.png', '03285.png', '56082.png', '47098.png', '56921.png', '07849.png', '37491.png', '25693.png', '56987.png', '16420.png', '82094.png', '42170.png', '28563.png', '27385.png', '41376.png', '31405.png', '83295.png', '01548.png', '36597.png', '01529.png', '08732.png', '06547.png', '19602.png', '58130.png', '56974.png', '28751.png', '37642.png', '47839.png', '35719.png', '54318.png', '24958.png', '90842.png', '26184.png', '42571.png', '78152.png', '04869.png', '24658.png', '68903.png', '86104.png', '70864.png', '93702.png', '59170.png', '81532.png', '71298.png', '20738.png', '56907.png', '76483.png', '41925.png', '63974.png', '13745.png', '19036.png', '89701.png', '28097.png', '53249.png', '63472.png', '05813.png', '39201.png', '47103.png', '41207.png', '48357.png', '46503.png', '35487.png', '43792.png', '58793.png', '93615.png', '73059.png', '35419.png', '65392.png', '72584.png', '09624.png', '97860.png', '62158.png', '18490.png', '34798.png', '17208.png', '73690.png', '38902.png', '48507.png', '90761.png', '35480.png', '17358.png', '58716.png', '92614.png', '41298.png', '43082.png', '78192.png', '96370.png', '36725.png', '87621.png', '65708.png', '81296.png', '29473.png', '65739.png', '81540.png', '65782.png', '72451.png', '09413.png', '54683.png', '50823.png', '92064.png', '84291.png', '56841.png', '81067.png', '45701.png', '70495.png', '30561.png', '90138.png', '08423.png', '46872.png', '74965.png', '39456.png', '83415.png', '95208.png', '17453.png', '62415.png', '50239.png', '78623.png', '63172.png', '96415.png', '90574.png', '42093.png', '50472.png', '70496.png', '01749.png', '81094.png', '67041.png', '40653.png', '78214.png', '86172.png', '79348.png', '67024.png', '31695.png', '62381.png', '74351.png', '78014.png', '62745.png', '20473.png', '21453.png', '81579.png', '27905.png', '25614.png', '37649.png', '75921.png', '18023.png', '42903.png', '50261.png', '16385.png', '81304.png', '35894.png', '08459.png', '34952.png', '19275.png', '54701.png', '46918.png', '06874.png', '54817.png', '49731.png', '35219.png', '65740.png', '20143.png', '32791.png', '01469.png', '82947.png', '94175.png', '06712.png', '05763.png', '08426.png', '94361.png', '50146.png', '56392.png', '83964.png', '05142.png', '86753.png', '74235.png', '81409.png', '17326.png', '05379.png', '90612.png', '84721.png', '98013.png', '58340.png', '90583.png', '52487.png', '91764.png', '83579.png', '47985.png', '05327.png', '10782.png', '23761.png', '19258.png', '78094.png', '36120.png', '79321.png', '24581.png', '42861.png', '97628.png', '21309.png', '27603.png', '04892.png', '46815.png', '52198.png', '04163.png', '62510.png', '47251.png', '57281.png', '94016.png', '97058.png', '28605.png', '25376.png', '18234.png', '62175.png', '92708.png', '51397.png', '53140.png', '51670.png', '39427.png', '94278.png', '26057.png', '64287.png', '78293.png', '87639.png', '28936.png', '10234.png', '35692.png', '31270.png', '74912.png', '59028.png', '76021.png', '41602.png', '41803.png', '09648.png', '30126.png', '28175.png', '34196.png', '86920.png', '41589.png', '73248.png', '17290.png', '59623.png', '75138.png', '76283.png', '43612.png', '78591.png', '32067.png', '93168.png', '21036.png', '19247.png', '98163.png', '02471.png', '36920.png', '65179.png', '78946.png', '63207.png', '63185.png', '46085.png', '61952.png', '39748.png', '71089.png', '47136.png', '98271.png', '35801.png', '61094.png', '42895.png', '35620.png', '94287.png', '63894.png', '03612.png', '16470.png', '26095.png', '10539.png', '80927.png', '52903.png', '78093.png', '67138.png', '75063.png', '03429.png', '26493.png', '64905.png', '91468.png', '40592.png', '51086.png', '94610.png', '04268.png', '17905.png', '47203.png', '25781.png', '67132.png', '32706.png', '23961.png', '85964.png', '97502.png', '09623.png', '90538.png', '98345.png', '04175.png', '73620.png', '17459.png', '59178.png', '27805.png', '94380.png', '54038.png', '28405.png', '13465.png', '60897.png', '94638.png', '84370.png', '79385.png', '26754.png', '91403.png', '04156.png', '21035.png', '12750.png', '48276.png', '65301.png', '41389.png', '81245.png', '57042.png', '30847.png', '84537.png', '14695.png', '74895.png', '34250.png', '10734.png', '95387.png', '12793.png', '79406.png', '23806.png', '34821.png', '51802.png', '25974.png', '82675.png', '30927.png', '72146.png', '17305.png', '08627.png', '08416.png', '60841.png', '80537.png', '70912.png', '24390.png', '08654.png', '36097.png', '54721.png', '54789.png', '24851.png', '42653.png', '03659.png', '09384.png', '72198.png', '70594.png', '61950.png', '53289.png', '61358.png', '47568.png', '85793.png', '79160.png', '15392.png', '53720.png', '85167.png', '46907.png', '02934.png', '97852.png', '01734.png', '27068.png', '02768.png', '07456.png', '07652.png', '24716.png', '47896.png', '69750.png', '27648.png', '23698.png', '74589.png', '72506.png', '86143.png', '08934.png', '96485.png', '08132.png', '52179.png', '20318.png', '89043.png', '73619.png', '83619.png', '06147.png', '72396.png', '85420.png', '91754.png', '29587.png', '80341.png', '70341.png', '39156.png', '67348.png', '08439.png', '08534.png', '49176.png', '87160.png', '37208.png', '58426.png', '82197.png', '39127.png', '48605.png', '47856.png', '23645.png', '73916.png', '12460.png', '23175.png', '96513.png', '18029.png', '62409.png', '37546.png', '92870.png', '81043.png', '19438.png', '05938.png', '64318.png', '20513.png', '63281.png', '83014.png', '85146.png', '93867.png', '15609.png', '92483.png', '52786.png', '15936.png', '97403.png', '01527.png', '80243.png', '62985.png', '09352.png', '83617.png', '01526.png', '70329.png', '36418.png', '64175.png', '01264.png', '17932.png', '69253.png', '90278.png', '12546.png', '34170.png', '29083.png', '67058.png', '19653.png', '40821.png', '53172.png', '34587.png', '94563.png', '58916.png', '76538.png', '58306.png', '43817.png', '94108.png', '09268.png', '26839.png', '30567.png', '47196.png', '90627.png', '68739.png', '57049.png', '52318.png', '17205.png', '26187.png', '25341.png', '37096.png', '46312.png', '10629.png', '62578.png', '57134.png', '24308.png', '95380.png', '16423.png', '17398.png', '35729.png', '81095.png', '64087.png', '23754.png', '40987.png', '51940.png', '69027.png', '32168.png', '05218.png', '75021.png', '45109.png', '85071.png', '31857.png', '91674.png', '47290.png', '59064.png', '08245.png', '72638.png', '81349.png', '10258.png', '95608.png', '78956.png', '27845.png', '15043.png', '26947.png', '19870.png', '26741.png', '69873.png', '95640.png', '53814.png', '17609.png', '42603.png', '26987.png', '52801.png', '81205.png', '49810.png', '37129.png', '23164.png', '53064.png', '69237.png', '86035.png', '93405.png', '13640.png', '39475.png', '49150.png', '47562.png', '84531.png', '93581.png', '31204.png', '27961.png', '09237.png', '90382.png', '50748.png', '57089.png', '46123.png', '07486.png', '45136.png', '74250.png', '79843.png', '95413.png', '52748.png', '95812.png', '27416.png', '79465.png', '19740.png', '74268.png', '48016.png', '19730.png', '52974.png', '31652.png', '13045.png', '09875.png', '14583.png', '85471.png', '92478.png', '78036.png', '37264.png', '38165.png', '63798.png', '13542.png', '71069.png', '21560.png', '76524.png', '36189.png', '16903.png', '16758.png', '82503.png', '75943.png', '67328.png', '01348.png', '09514.png', '30256.png', '28319.png', '89326.png', '80627.png', '43857.png', '51647.png', '32941.png', '58061.png', '40723.png', '58421.png', '65281.png', '53102.png', '37298.png', '15690.png', '08659.png', '82761.png', '86529.png', '86594.png', '87692.png', '68270.png', '23941.png', '40875.png', '89764.png', '61259.png', '64198.png', '13856.png', '64721.png', '75629.png', '98203.png', '89732.png', '98531.png', '39612.png', '05398.png', '14276.png', '89136.png', '10269.png', '28951.png', '09713.png', '86504.png', '57389.png', '60852.png', '29813.png', '05712.png', '57602.png', '24650.png', '60374.png', '64532.png', '48195.png', '02789.png', '87196.png', '54176.png', '29385.png', '30486.png', '20956.png', '80652.png', '86923.png', '69845.png', '24653.png', '03162.png', '59260.png', '40216.png', '05461.png', '15283.png', '41257.png', '07915.png', '40326.png', '81976.png', '19206.png', '14362.png', '60435.png', '76341.png', '14086.png', '19084.png', '30682.png', '96253.png', '67398.png', '05672.png', '68145.png', '37160.png', '15029.png', '18750.png', '23910.png', '28970.png', '82139.png', '10397.png', '30859.png', '59316.png', '57261.png', '64780.png', '63012.png', '83490.png', '32587.png', '58463.png', '28617.png', '69521.png', '87190.png', '71084.png', '72965.png', '59641.png', '46738.png', '47369.png', '97831.png', '57496.png', '93165.png', '95831.png', '73841.png', '23498.png', '29051.png', '04321.png', '09682.png', '75136.png', '85967.png', '07916.png', '39417.png', '20857.png', '02958.png', '48529.png', '70964.png', '42613.png', '10673.png', '92315.png', '37284.png', '58976.png', '81943.png', '34721.png', '81059.png', '37806.png', '47628.png', '61270.png', '95714.png', '60541.png', '40512.png', '67541.png', '28403.png', '93784.png', '81604.png', '59478.png', '14625.png', '26049.png', '45209.png', '79042.png', '16948.png', '76492.png', '83972.png', '47209.png', '02587.png', '37609.png', '45326.png', '60289.png', '64089.png', '56931.png', '85243.png', '03279.png', '26419.png', '26107.png', '86170.png', '13289.png', '09643.png', '46983.png', '58904.png', '36047.png', '83754.png', '78513.png', '41863.png', '90352.png', '03798.png', '86457.png', '80947.png', '75432.png', '43128.png', '79568.png', '17308.png', '27630.png', '17649.png', '75380.png', '40518.png', '08376.png', '70125.png', '45139.png', '16047.png', '94872.png', '45301.png', '36104.png', '84150.png', '07926.png', '47863.png', '90186.png', '63078.png', '72150.png', '07236.png', '95712.png', '86705.png', '42987.png', '61570.png', '51396.png', '65743.png', '89154.png', '49537.png', '58490.png', '49105.png', '92547.png', '57826.png', '27849.png', '49156.png', '62197.png', '07419.png', '63074.png', '59240.png', '89540.png', '72604.png', '91430.png', '91584.png', '95103.png', '71364.png', '83064.png', '82039.png', '28431.png', '53682.png', '28051.png', '21706.png', '75609.png', '08624.png', '45978.png', '13706.png', '32795.png', '76495.png', '93215.png', '69327.png', '51306.png', '14026.png', '80736.png', '21354.png', '79243.png', '80597.png', '06157.png', '52837.png', '70264.png', '76254.png', '72814.png', '98613.png', '14796.png', '95482.png', '78520.png', '09824.png', '72945.png', '81602.png', '76592.png', '34927.png', '49278.png', '29041.png', '37601.png', '92365.png', '48956.png', '01295.png', '54018.png', '29348.png', '78614.png', '40372.png', '39058.png', '91827.png', '19702.png', '08695.png', '67943.png', '26708.png', '01746.png', '60982.png', '95247.png', '17462.png', '41058.png', '16435.png', '12389.png', '19836.png', '84639.png', '34209.png', '58473.png', '75146.png', '28046.png', '38927.png', '65704.png', '02315.png', '24810.png', '05437.png', '28437.png', '92874.png', '28564.png', '26983.png', '83726.png', '21763.png', '20568.png', '36072.png', '74281.png', '79425.png', '93705.png', '62501.png', '54709.png', '91872.png', '35789.png', '41852.png', '30594.png', '41280.png', '04928.png', '39280.png', '31074.png', '68127.png', '82396.png', '80576.png', '15473.png', '90576.png', '78409.png', '30148.png', '52874.png', '03962.png', '49762.png', '07398.png', '72541.png', '40516.png', '30186.png', '57849.png', '03256.png', '04135.png', '53261.png', '03857.png', '87341.png', '81064.png', '96578.png', '97185.png', '28973.png', '69528.png', '69178.png', '29137.png', '23197.png', '96308.png', '06427.png', '32540.png', '05219.png', '93410.png', '34582.png', '02538.png', '67582.png', '73514.png', '02459.png', '18564.png', '29608.png', '90564.png', '31764.png', '27816.png', '16254.png', '80629.png', '09382.png', '41328.png', '68253.png', '50873.png', '18953.png', '86521.png', '91243.png', '91208.png', '20651.png', '09831.png', '21936.png', '74612.png', '45128.png', '24756.png', '36749.png', '71920.png', '94723.png', '51462.png', '93827.png', '40567.png', '95821.png', '18607.png', '76931.png', '81764.png', '34207.png', '75941.png', '18379.png', '42379.png', '04519.png', '41607.png', '25197.png', '52914.png', '21978.png', '37615.png', '07429.png', '91805.png', '32470.png', '35478.png', '43810.png', '51369.png', '27810.png', '34072.png', '30267.png', '12973.png', '53148.png', '34215.png', '57401.png', '35716.png', '74209.png', '58674.png', '41568.png', '13049.png', '63812.png', '30196.png', '79652.png', '87053.png', '05123.png', '30765.png', '81439.png', '89567.png', '63920.png', '32451.png', '25067.png', '56893.png', '61408.png', '94678.png', '62398.png', '71548.png', '91487.png', '10853.png', '98506.png', '67809.png', '65439.png', '54720.png', '25971.png', '98514.png', '76824.png', '03571.png', '70126.png', '12396.png', '70843.png', '05942.png', '07318.png', '63908.png', '83570.png', '68450.png', '28516.png', '10965.png', '67859.png', '20379.png', '73259.png', '01925.png', '92785.png', '41269.png', '93271.png', '98574.png', '14067.png', '13402.png', '30549.png', '87130.png', '78925.png', '38624.png', '02413.png', '18497.png', '69402.png', '54920.png', '52164.png', '46130.png', '64279.png', '51836.png', '75392.png', '36814.png', '12603.png', '82631.png', '52091.png', '75908.png', '01674.png', '40718.png', '21943.png', '76045.png', '03574.png', '73496.png', '36741.png', '51693.png', '72854.png', '80713.png', '79682.png', '05627.png', '78936.png', '07651.png', '32691.png', '75462.png', '52483.png', '14087.png', '24986.png', '03246.png', '37912.png', '06154.png', '92358.png', '08537.png', '43615.png', '96185.png', '49638.png', '28731.png', '35910.png', '71832.png', '57346.png', '02853.png', '26984.png', '07431.png', '17523.png', '97523.png', '65178.png', '04926.png', '29843.png', '40259.png', '81705.png', '89216.png', '83571.png', '75468.png', '76138.png', '31025.png', '85026.png', '69018.png', '85306.png', '38169.png', '32761.png', '45207.png', '39067.png', '84516.png', '76415.png', '65237.png', '17458.png', '67298.png', '12358.png', '10948.png', '76549.png', '23014.png', '97542.png', '97348.png', '67149.png', '17385.png', '27654.png', '57812.png', '50921.png', '67528.png', '87413.png', '69150.png', '07618.png', '78023.png', '82459.png', '52193.png', '42503.png', '84670.png', '46537.png', '05736.png', '35417.png', '67532.png', '90146.png', '28461.png', '76814.png', '64958.png', '24108.png', '06897.png', '94523.png', '31408.png', '90541.png', '59462.png', '16054.png', '27895.png', '13475.png', '56942.png', '92605.png', '16843.png', '71086.png', '82461.png', '79205.png', '30497.png', '04162.png', '35701.png', '38150.png', '60834.png', '08962.png', '52096.png', '26538.png', '96502.png', '60534.png', '03591.png', '43791.png', '76539.png', '46870.png', '49713.png', '08215.png', '93416.png', '23065.png', '86231.png', '46217.png', '24891.png', '71028.png', '82603.png', '16278.png', '61749.png', '26950.png', '63175.png', '92810.png', '09347.png', '02316.png', '24576.png', '42598.png', '21486.png', '73652.png', '01465.png', '58732.png', '67302.png', '30417.png', '74361.png', '30762.png', '90483.png', '13842.png', '80256.png', '01468.png', '24837.png', '37628.png', '43816.png', '80436.png', '46183.png', '53961.png', '90165.png', '17306.png', '45831.png', '49750.png', '15209.png', '05792.png', '51278.png', '05471.png', '86251.png', '47862.png', '50614.png', '85690.png', '89345.png', '89263.png', '34985.png', '95086.png', '57412.png', '60238.png', '69428.png', '50894.png', '13945.png', '03874.png', '95102.png', '59187.png', '72594.png', '07865.png', '58901.png', '48513.png', '32945.png', '72519.png', '18203.png', '92104.png', '10423.png', '40536.png', '13870.png', '09315.png', '87430.png', '28543.png', '86125.png', '81365.png', '34871.png', '09716.png', '98241.png', '05912.png', '50918.png', '04658.png', '68743.png', '14652.png', '46152.png', '30127.png', '07895.png', '72490.png', '48069.png', '60792.png', '08937.png', '54179.png', '31095.png', '90681.png', '40182.png', '93041.png', '94836.png', '56489.png', '10278.png', '57209.png', '92568.png', '79605.png', '54370.png', '34670.png', '95687.png', '89603.png', '16548.png', '85743.png', '95306.png', '69375.png', '18273.png', '57394.png', '59047.png', '60389.png', '14729.png', '03765.png', '28049.png', '76920.png', '97826.png', '49832.png', '10462.png', '78026.png', '23875.png', '48579.png', '65981.png', '39827.png', '07582.png', '72645.png', '39478.png', '15328.png', '80941.png', '49703.png', '93471.png', '02461.png', '60439.png', '04876.png', '36840.png', '46109.png', '81549.png', '56738.png', '75036.png', '23109.png', '28407.png', '01926.png', '84395.png', '20539.png', '92187.png', '12630.png', '20918.png', '17469.png', '29857.png', '57418.png', '21748.png', '36501.png', '26750.png', '08267.png', '83201.png', '46715.png', '37496.png', '23476.png', '38097.png', '12495.png', '40897.png', '45036.png', '50248.png', '10649.png', '64758.png', '59076.png', '06179.png', '49861.png', '71429.png', '69403.png', '94861.png', '39725.png', '38290.png', '08597.png', '83170.png', '61973.png', '43895.png', '45798.png', '37619.png', '30427.png', '92075.png', '67912.png', '60798.png', '23841.png', '95726.png', '28756.png', '91260.png', '81975.png', '42736.png', '47590.png', '17405.png', '39172.png', '64912.png', '80156.png', '14953.png', '43695.png', '28470.png', '74930.png', '21859.png', '94037.png', '01395.png', '06593.png', '76542.png', '59436.png', '10384.png', '76583.png', '26405.png', '89241.png', '15438.png', '27503.png', '97842.png', '42860.png', '68079.png', '98120.png', '72356.png', '98706.png', '28017.png', '06273.png', '90185.png', '25984.png', '89621.png', '09176.png', '19783.png', '80154.png', '09518.png', '54261.png', '29764.png', '16234.png', '28971.png', '83942.png', '57469.png', '71206.png', '68507.png', '08234.png', '89375.png', '60532.png', '38609.png', '57086.png', '61497.png', '40621.png', '18546.png', '43805.png', '84120.png', '43910.png', '75183.png', '23408.png', '57012.png', '25369.png', '25709.png', '71529.png', '64310.png', '49705.png', '75239.png', '42087.png', '79531.png', '75910.png', '32416.png', '76953.png', '98670.png', '27901.png', '08673.png', '38147.png', '51927.png', '93741.png', '45706.png', '06543.png', '47698.png', '65139.png', '08943.png', '71682.png', '47289.png', '04152.png', '58014.png', '43780.png', '31720.png', '08593.png', '49270.png', '64293.png', '72658.png', '20413.png', '38549.png', '70193.png', '81257.png', '48739.png', '06375.png', '64510.png', '86927.png', '62031.png', '71593.png', '37450.png', '31429.png', '89675.png', '38752.png', '04362.png', '06893.png', '95402.png', '09738.png', '43216.png', '90276.png', '07314.png', '79316.png', '69702.png', '04768.png', '65207.png', '72431.png', '07415.png', '26803.png', '50163.png', '92370.png', '98310.png', '14270.png', '58621.png', '59321.png', '27308.png', '71260.png', '61840.png', '17948.png', '64520.png', '10749.png', '21948.png', '53062.png', '82637.png', '19635.png', '79581.png', '78459.png', '56438.png', '63479.png', '70935.png', '39762.png', '42380.png', '17354.png', '53108.png', '68201.png', '70142.png', '57132.png', '29483.png', '32965.png', '96180.png', '20348.png', '74509.png', '45198.png', '41782.png', '01842.png', '61928.png', '93568.png', '07265.png', '36179.png', '54837.png', '34298.png', '54983.png', '71492.png', '51387.png', '82945.png', '05329.png', '26170.png', '15907.png', '31892.png', '13958.png', '80765.png', '57326.png', '98105.png', '49318.png', '94518.png', '83527.png', '48710.png', '43679.png', '98057.png', '60539.png', '49867.png', '12839.png', '30428.png', '79286.png', '68951.png', '87543.png', '26735.png', '23576.png', '62107.png', '30675.png', '24570.png', '64059.png', '09641.png', '69487.png', '19502.png', '43658.png', '61278.png', '89206.png', '02165.png', '70254.png', '17425.png', '32150.png', '56387.png', '01439.png', '30481.png', '41032.png', '61032.png', '03271.png', '10793.png', '18367.png', '82794.png', '53817.png', '26340.png', '60574.png', '03751.png', '98235.png', '26189.png', '93685.png', '13652.png', '62981.png', '61492.png', '48916.png', '39871.png', '02389.png', '05781.png', '25841.png', '63412.png', '83497.png', '27069.png', '36098.png', '87236.png', '89571.png', '18702.png', '29357.png', '87016.png', '95264.png', '46208.png', '10453.png', '86417.png', '19384.png', '67915.png', '87024.png', '62017.png', '52319.png', '96305.png', '63905.png', '96510.png', '73615.png', '20654.png', '37648.png', '49372.png', '21647.png', '62584.png', '23419.png', '71320.png', '67194.png', '63075.png', '42160.png', '65980.png', '87169.png', '38765.png', '96423.png', '62948.png', '10385.png', '59732.png', '72964.png', '75923.png', '62435.png', '70182.png', '32981.png', '45730.png', '64390.png', '05748.png', '40651.png', '48970.png', '27054.png', '87620.png', '69708.png', '60234.png', '31208.png', '96421.png', '54376.png', '87203.png', '38076.png', '57913.png', '82097.png', '82743.png', '36128.png', '50643.png', '39857.png', '76810.png', '36845.png', '34652.png', '14367.png', '67082.png', '15927.png', '21957.png', '75430.png', '12690.png', '18250.png', '60147.png', '46352.png', '59062.png', '39860.png', '78502.png', '76305.png', '05872.png', '23415.png', '64157.png', '10839.png', '68159.png', '97320.png', '04153.png', '70541.png', '72469.png', '48120.png', '46150.png', '74031.png', '94815.png', '12657.png', '69052.png', '76320.png', '80397.png', '69415.png', '93786.png', '15649.png', '36184.png', '43058.png', '59870.png', '80379.png', '37620.png', '98573.png', '42091.png', '58190.png', '39741.png', '50784.png', '97524.png', '73561.png', '89521.png', '89634.png', '10387.png', '87693.png', '74536.png', '51964.png', '56207.png', '72984.png', '26087.png', '19345.png', '03254.png', '50486.png', '51763.png', '17280.png', '23058.png', '19264.png', '06597.png', '83719.png', '49128.png', '54391.png', '60571.png', '17869.png', '89475.png', '56791.png', '29035.png', '29547.png', '20836.png', '75321.png', '73981.png', '04796.png', '02971.png', '61085.png', '25149.png', '76894.png', '41728.png', '16029.png', '51968.png', '04762.png', '09426.png', '79823.png', '26137.png', '18795.png', '80631.png', '92864.png', '67593.png', '50934.png', '07594.png', '50124.png', '06831.png', '43952.png', '82704.png', '89726.png', '78493.png', '47183.png', '58642.png', '51249.png', '19382.png', '78035.png', '78610.png', '10542.png', '95062.png', '65243.png', '50361.png', '05769.png', '89723.png', '81203.png', '43092.png', '07653.png', '73128.png', '78923.png', '18603.png', '98426.png', '34762.png', '94718.png', '43095.png', '16584.png', '61480.png', '73965.png', '43859.png', '34092.png', '37498.png', '61054.png', '12509.png', '14097.png', '39061.png', '48015.png', '04621.png', '09251.png', '70582.png', '02815.png', '70285.png', '93718.png', '01562.png', '51697.png', '48173.png', '60123.png', '93861.png', '14685.png', '75216.png', '43207.png', '17058.png', '21593.png', '70562.png', '02945.png', '35971.png', '47320.png', '92167.png', '36897.png', '06541.png', '57094.png', '68751.png', '47385.png', '92146.png', '84103.png', '72418.png', '68540.png', '98357.png', '42153.png', '02143.png', '97642.png', '87905.png', '80567.png', '83421.png', '73164.png', '67598.png', '47189.png', '29075.png', '40735.png', '90643.png', '14762.png', '16840.png', '69842.png', '95024.png', '70428.png', '10395.png', '46817.png', '65940.png', '61597.png', '83704.png', '60183.png', '17534.png', '95014.png', '75290.png', '20437.png', '37146.png', '20314.png', '87539.png', '36170.png', '08415.png', '76249.png', '39607.png', '69125.png', '51726.png', '45780.png', '06125.png', '59634.png', '18074.png', '85970.png', '19837.png', '16837.png', '51469.png', '63501.png', '56491.png', '39816.png', '25109.png', '09432.png', '39751.png', '42039.png', '71543.png', '96182.png', '29054.png', '37095.png', '72430.png', '20791.png', '20598.png', '62135.png', '56712.png', '71680.png', '24501.png', '71856.png', '71524.png', '03248.png', '27510.png', '89615.png', '73082.png', '94318.png', '37890.png', '42869.png', '45396.png', '74298.png', '80926.png', '79405.png', '17529.png', '83916.png', '64870.png', '25710.png', '26531.png', '91836.png', '07392.png', '17263.png', '07258.png', '38056.png', '40837.png', '02385.png', '91427.png', '79615.png', '01765.png', '52496.png', '38574.png', '08476.png', '64925.png', '19647.png', '96123.png', '92670.png', '50237.png', '80634.png', '05749.png', '32081.png', '29678.png', '69480.png', '56287.png', '53968.png', '96541.png', '27059.png', '93152.png', '28045.png', '32867.png', '01845.png', '50691.png', '24738.png', '45817.png', '37145.png', '10976.png', '06987.png', '32459.png', '41806.png', '45289.png', '85714.png', '35249.png', '84523.png', '25641.png', '70628.png', '17892.png', '06875.png', '26784.png', '63201.png', '49836.png', '81940.png', '97103.png', '27518.png', '48927.png', '48517.png', '56189.png', '65201.png', '59370.png', '71843.png', '63182.png', '19643.png', '57698.png', '38741.png', '35784.png', '90632.png', '64820.png', '06319.png', '92375.png', '50389.png', '34275.png', '83921.png', '19726.png', '03971.png', '08691.png', '78564.png', '20861.png', '58974.png', '01567.png', '09467.png', '09317.png', '54083.png', '28935.png', '80714.png', '48309.png', '18650.png', '42173.png', '57831.png', '84179.png', '94013.png', '70643.png', '61742.png', '17682.png', '83246.png', '57632.png', '29067.png', '83701.png', '38629.png', '48617.png', '29351.png', '57034.png', '65432.png', '72145.png', '74863.png', '76034.png', '23957.png', '05362.png', '87695.png', '82916.png', '79140.png', '28964.png', '05978.png', '09238.png', '01658.png', '12907.png', '87634.png', '34021.png', '82104.png', '14523.png', '35174.png', '37845.png', '83402.png', '49136.png', '57243.png', '63827.png', '43925.png', '85271.png', '74386.png', '91853.png', '35640.png', '90126.png', '28043.png', '34698.png', '70183.png', '46359.png', '38125.png', '62541.png', '05986.png', '20371.png', '56413.png', '97845.png', '85371.png', '70698.png', '74126.png', '50714.png', '90673.png', '80513.png', '10372.png', '10675.png', '90637.png', '37502.png', '53976.png', '64150.png', '43591.png', '14078.png', '20148.png', '64128.png', '47605.png', '48192.png', '79816.png', '34106.png', '45281.png', '28157.png', '82946.png', '94783.png', '80123.png', '19240.png', '40896.png', '58601.png', '64391.png', '87049.png', '84172.png', '72591.png', '53204.png', '02139.png', '75698.png', '37824.png', '45987.png', '19268.png', '83091.png', '86354.png', '73049.png', '82143.png', '97610.png', '15948.png', '73816.png', '06432.png', '28659.png', '69307.png', '86372.png', '02483.png', '83152.png', '86075.png', '74396.png', '73152.png', '79610.png', '02568.png', '53419.png', '43570.png', '14859.png', '27915.png', '93076.png', '86013.png', '39064.png', '78251.png', '35182.png', '56089.png', '79853.png', '04125.png', '52790.png', '54601.png', '51943.png', '63105.png', '81509.png', '65843.png', '87904.png', '78914.png', '78450.png', '58394.png', '28396.png', '85192.png', '24586.png', '43519.png', '78124.png', '60281.png', '97035.png', '38724.png', '79834.png', '12578.png', '16478.png', '31256.png', '49170.png', '86907.png', '92405.png', '28613.png', '63458.png', '31280.png', '91367.png', '07934.png', '16395.png', '84295.png', '46178.png', '79516.png', '10357.png', '17268.png', '10732.png', '12768.png', '83510.png', '30591.png', '63529.png', '71509.png', '35401.png', '82593.png', '94026.png', '15942.png', '67059.png', '27163.png', '40297.png', '39148.png', '31059.png', '72048.png', '09723.png', '90625.png', '14389.png', '84970.png', '60549.png', '53021.png', '71430.png', '40681.png', '10652.png', '09175.png', '57932.png', '41268.png', '70315.png', '02351.png', '14726.png', '01736.png', '31782.png', '43069.png', '38654.png', '46920.png', '67951.png', '54012.png', '92407.png', '08134.png', '36109.png', '28954.png', '53948.png', '01893.png', '89430.png', '25643.png', '67284.png', '04397.png', '52896.png', '31794.png', '95164.png', '62485.png', '54219.png', '40597.png', '57409.png', '74906.png', '69134.png', '96172.png', '02763.png', '02358.png', '09642.png', '15078.png', '06927.png', '52316.png', '82903.png', '30792.png', '05138.png', '64051.png', '06127.png', '24876.png', '06479.png', '37084.png', '73105.png', '03854.png', '87106.png', '03562.png', '01359.png', '59642.png', '80945.png', '19075.png', '10582.png', '98604.png', '87039.png', '10362.png', '91756.png', '97426.png', '64297.png', '53196.png', '01768.png', '97601.png', '60217.png', '62378.png', '25097.png', '46978.png', '90247.png', '80316.png', '47239.png', '43795.png', '68379.png', '37091.png', '34016.png', '02519.png', '06352.png', '32189.png', '54816.png', '05462.png', '06291.png', '67521.png', '58246.png', '26439.png', '74385.png', '23087.png', '81630.png', '43517.png', '39547.png', '35768.png', '47612.png', '72980.png', '43279.png', '65342.png', '45189.png', '79352.png', '63097.png', '71568.png', '76405.png', '41027.png', '40865.png', '53096.png', '45283.png', '10952.png', '56739.png', '20643.png', '51480.png', '98412.png', '50684.png', '04978.png', '18563.png', '12430.png', '74261.png', '94237.png', '73204.png', '94850.png', '65024.png', '02863.png', '02697.png', '04782.png', '34620.png', '40862.png', '29071.png', '70634.png', '13520.png', '16892.png', '35709.png', '86391.png', '37814.png', '56432.png', '06287.png', '31468.png', '23765.png', '61859.png', '67384.png', '59148.png', '32704.png', '05436.png', '75294.png', '05926.png', '13506.png', '93671.png', '48123.png', '41023.png', '61548.png', '39078.png', '94581.png', '68713.png', '47518.png', '06918.png', '41250.png', '26579.png', '89473.png', '57823.png', '80251.png', '63417.png', '36240.png', '70368.png', '23690.png', '14856.png', '17652.png', '46218.png', '51972.png', '10936.png', '72301.png', '18274.png', '43906.png', '52106.png', '13208.png', '28495.png', '38490.png', '10836.png', '20869.png', '69410.png', '09436.png', '28976.png', '59327.png', '50348.png', '69357.png', '90657.png', '68530.png', '84907.png', '92068.png', '08563.png', '04637.png', '30862.png', '46892.png', '79168.png', '02849.png', '83024.png', '75614.png', '06374.png', '23597.png', '94350.png', '75231.png', '52910.png', '85274.png', '43956.png', '07425.png', '30986.png', '81536.png', '20745.png', '46832.png', '90524.png', '85097.png', '01269.png', '79461.png', '89741.png', '75832.png', '28364.png', '07159.png', '78642.png', '21730.png', '04791.png', '08716.png', '29816.png', '37862.png', '56721.png', '61425.png', '02485.png', '17536.png', '47960.png', '18679.png', '93756.png', '19047.png', '78321.png', '86701.png', '59672.png', '86235.png', '85492.png', '31957.png', '06195.png', '63804.png', '78592.png', '35917.png', '85023.png', '05987.png', '41873.png', '30826.png', '91482.png', '83127.png', '19560.png', '74025.png', '75482.png', '24380.png', '98601.png', '08495.png', '50871.png', '53017.png', '85346.png', '01653.png', '63745.png', '07245.png', '15374.png', '70362.png', '10325.png', '24769.png', '08961.png', '39056.png', '48316.png', '15809.png', '23456.png', '71230.png', '97143.png', '46853.png', '98720.png', '40315.png', '34510.png', '75068.png', '30247.png', '96231.png', '86045.png', '60175.png', '42609.png', '03875.png', '21364.png', '32481.png', '32980.png', '30476.png', '38127.png', '59261.png', '47903.png', '24163.png', '13674.png', '30948.png', '97314.png', '09615.png', '49675.png', '09478.png', '94021.png', '96720.png', '29863.png', '97201.png', '61873.png', '79081.png', '12349.png', '14096.png', '50816.png', '03468.png', '49863.png', '35691.png', '68721.png', '15320.png', '81305.png', '64918.png', '80965.png', '78420.png', '20751.png', '56928.png', '15394.png', '02631.png', '71965.png', '82310.png', '78219.png', '64537.png', '26391.png', '62047.png', '92607.png', '21405.png', '48509.png', '54971.png', '68597.png', '74825.png', '86912.png', '94372.png', '28905.png', '80591.png', '41860.png', '89104.png', '73160.png', '05187.png', '74013.png', '04263.png', '87604.png', '71048.png', '64257.png', '46925.png', '01762.png', '60938.png', '87052.png', '47026.png', '32017.png', '52894.png', '91845.png', '38245.png', '40726.png', '86032.png', '19367.png', '61905.png', '59342.png', '47308.png', '43521.png', '29036.png', '78401.png', '71365.png', '69013.png', '06357.png', '08427.png', '25467.png', '48270.png', '18350.png', '31684.png', '07426.png', '24859.png', '72096.png', '69815.png', '75182.png', '64327.png', '89106.png', '35781.png', '17524.png', '80759.png', '94532.png', '34806.png', '23876.png', '14769.png', '40586.png', '39256.png', '79386.png', '80321.png', '76095.png', '53420.png', '76213.png', '76431.png', '98624.png', '01827.png', '84329.png', '91065.png', '08153.png', '29503.png', '37261.png', '39106.png', '09537.png', '38261.png', '42986.png', '42156.png', '75308.png', '83549.png', '06194.png', '21569.png', '72194.png', '21938.png', '38976.png', '98243.png', '90267.png', '65203.png', '17495.png', '05483.png', '20149.png', '32560.png', '76853.png', '65908.png', '17538.png', '50679.png', '02481.png', '32401.png', '38527.png', '47259.png', '02914.png', '93174.png', '81394.png', '95072.png', '61732.png', '59107.png', '79384.png', '47901.png', '62804.png', '93548.png', '41263.png', '10895.png', '24319.png', '81260.png', '27864.png', '39182.png', '75496.png', '75241.png', '85361.png', '06738.png', '87520.png', '58317.png', '40291.png', '34815.png', '13486.png', '14580.png', '73562.png', '20369.png', '15738.png', '61908.png', '81946.png', '51497.png', '27953.png', '79680.png', '85293.png', '52341.png', '06827.png', '08179.png', '67195.png', '78092.png', '16253.png', '50638.png', '72968.png', '53467.png', '31058.png', '90582.png', '16539.png', '01943.png', '19630.png', '52018.png', '67180.png', '90132.png', '54617.png', '64071.png', '47162.png', '96752.png', '86173.png', '13269.png', '61285.png', '36524.png', '98217.png', '30597.png', '42953.png', '75209.png', '49807.png', '36598.png', '17248.png', '26085.png', '37984.png', '27395.png', '26759.png', '75028.png', '70654.png', '90351.png', '54190.png', '70953.png', '20435.png', '94325.png', '94871.png', '19306.png', '56248.png', '49615.png', '82014.png', '36985.png', '98735.png', '37296.png', '82476.png', '47865.png', '48639.png', '39416.png', '62490.png', '12754.png', '53764.png', '62149.png', '23971.png', '15379.png', '73498.png', '65124.png', '92683.png', '14802.png', '81529.png', '40627.png', '27304.png', '20154.png', '34291.png', '87034.png', '62705.png', '31602.png', '19508.png', '74362.png', '64370.png', '65238.png', '19768.png', '54820.png', '47309.png', '56243.png', '84627.png', '19763.png', '84351.png', '01275.png', '68971.png', '86203.png', '64127.png', '30642.png', '45069.png', '86450.png', '63720.png', '54317.png', '02674.png', '23174.png', '47912.png', '47529.png', '90768.png', '97805.png', '68294.png', '69017.png', '16297.png', '42058.png', '16452.png', '37924.png', '32480.png', '63280.png', '69542.png', '57941.png', '76298.png', '98504.png', '61204.png', '71038.png', '70396.png', '97245.png', '69174.png', '02164.png', '74901.png', '14968.png', '56327.png', '57943.png', '74832.png', '18506.png', '30548.png', '90814.png', '70429.png', '49173.png', '36910.png', '69304.png', '85291.png', '50876.png', '05476.png', '76038.png', '64072.png', '50912.png', '67385.png', '68391.png', '96150.png', '83547.png', '15493.png', '17546.png', '90827.png', '42315.png', '76145.png', '48329.png', '60812.png', '54703.png', '93246.png', '98245.png', '08137.png', '29478.png', '72504.png', '10469.png', '61038.png', '20691.png', '45293.png', '13624.png', '83651.png', '92341.png', '92735.png', '18430.png', '75816.png', '02436.png', '38496.png', '61589.png', '68329.png', '30296.png', '54672.png', '30264.png', '26489.png', '63159.png', '28716.png', '42638.png', '59012.png', '84673.png', '79043.png', '83271.png', '01497.png', '04758.png', '75920.png', '81054.png', '49608.png', '96042.png', '18764.png', '76932.png', '02943.png', '59860.png', '75940.png', '98176.png', '09284.png', '31284.png', '29416.png', '24651.png', '87519.png', '07124.png', '47596.png', '83427.png', '47680.png', '43961.png', '45082.png', '34862.png', '14986.png', '07658.png', '31640.png', '72816.png', '41657.png', '68719.png', '23154.png', '72901.png', '95803.png', '94601.png', '29643.png', '50241.png', '73159.png', '25413.png', '26457.png', '59864.png', '15720.png', '38547.png', '94205.png', '50743.png', '36850.png', '72609.png', '75320.png', '24106.png', '79053.png', '43905.png', '34765.png', '75481.png', '58604.png', '54738.png', '65130.png', '40265.png', '16482.png', '02984.png', '06783.png', '37904.png', '16049.png', '39076.png', '48160.png', '73956.png', '56972.png', '31987.png', '38914.png', '15928.png', '24973.png', '65073.png', '41503.png', '61257.png', '75492.png', '28610.png', '72948.png', '24836.png', '36945.png', '86597.png', '45126.png', '92308.png', '16490.png', '71602.png', '73146.png', '16543.png', '19684.png', '34206.png', '71692.png', '41206.png', '80279.png', '21950.png', '63951.png', '52708.png', '36792.png', '02951.png', '98542.png', '46138.png', '16803.png', '01875.png', '72046.png', '70465.png', '74038.png', '58672.png', '25731.png', '34925.png', '59817.png', '81690.png', '90713.png', '63542.png', '69584.png', '95637.png', '21048.png', '60741.png', '42015.png', '03526.png', '30648.png', '37182.png', '37902.png', '38706.png', '42305.png', '62340.png', '08147.png', '98756.png', '53820.png', '08129.png', '82756.png', '73192.png', '67594.png', '56018.png', '63057.png', '12067.png', '21089.png', '91563.png', '79613.png', '79641.png', '43976.png', '64825.png', '96802.png', '45270.png', '93081.png', '85173.png', '16785.png', '86730.png', '23075.png', '86137.png', '03276.png', '08291.png', '58640.png', '09834.png', '79810.png', '58476.png', '82379.png', '40752.png', '25943.png', '17093.png', '80957.png', '97132.png', '31604.png', '46910.png', '68429.png', '32054.png', '93605.png', '61345.png', '14238.png', '60783.png', '46753.png', '36049.png', '91072.png', '90481.png', '82057.png', '57164.png', '14530.png', '48296.png', '29460.png', '58971.png', '31250.png', '69128.png', '35107.png', '68715.png', '72195.png', '72419.png', '20316.png', '97643.png', '68742.png', '31076.png', '27103.png', '72801.png', '74583.png', '80742.png', '50839.png', '06715.png', '14890.png', '45072.png', '47539.png', '15308.png', '57298.png', '45702.png', '59836.png', '39241.png', '54927.png', '54263.png', '89267.png', '79012.png', '63871.png', '79846.png', '87941.png', '45120.png', '84106.png', '39102.png', '23470.png', '14950.png', '64025.png', '14658.png', '49580.png', '81026.png', '12675.png', '48216.png', '27154.png', '65187.png', '13970.png', '57319.png', '27519.png', '35160.png', '73681.png', '89417.png', '58276.png', '94782.png', '07591.png', '37941.png', '35189.png', '54632.png', '36452.png', '08469.png', '36870.png', '60895.png', '54812.png', '27634.png', '84236.png', '59231.png', '27401.png', '38120.png', '82406.png', '27543.png', '51467.png', '60379.png', '50346.png', '57046.png', '76019.png', '48370.png', '43269.png', '90263.png', '74365.png', '93186.png', '95604.png', '68230.png', '31287.png', '83920.png', '79830.png', '87241.png', '19370.png', '16283.png', '71092.png', '53418.png', '08374.png', '13972.png', '19423.png', '54698.png', '97258.png', '87140.png', '63251.png', '74839.png', '92743.png', '09423.png', '12096.png', '81256.png', '48652.png', '50368.png', '57918.png', '06795.png', '47830.png', '16734.png', '13476.png', '93401.png', '14038.png', '92603.png', '71249.png', '68941.png', '68927.png', '24107.png', '45196.png', '14507.png', '50619.png', '94738.png', '50167.png', '95034.png', '36954.png', '40832.png', '96215.png', '68902.png', '60829.png', '69130.png', '91320.png', '32147.png', '70293.png', '70456.png', '64038.png', '35671.png', '91802.png', '80249.png', '09263.png', '93642.png', '21598.png', '01956.png', '85912.png', '67254.png', '84653.png', '40268.png', '17320.png', '15306.png', '26813.png', '16487.png', '72354.png', '27659.png', '93875.png', '71392.png', '58423.png', '53270.png', '16289.png', '93287.png', '81963.png', '73581.png', '58203.png', '07192.png', '79165.png', '71403.png', '85916.png', '39164.png', '46182.png', '69514.png', '38961.png', '80764.png', '61297.png', '93712.png', '46921.png', '02437.png', '93261.png', '02146.png', '18752.png', '76139.png', '92705.png', '82501.png', '70146.png', '26084.png', '59140.png', '23168.png', '31592.png', '31569.png', '58247.png', '27856.png', '09148.png', '63580.png', '67504.png', '43506.png', '17096.png', '06231.png', '05863.png', '52816.png', '74953.png', '97506.png', '12647.png', '01576.png', '19682.png', '63517.png', '53427.png', '60759.png', '39560.png', '34807.png', '83125.png', '29517.png', '62178.png', '59130.png', '38129.png', '10398.png', '51368.png', '28764.png', '50649.png', '90178.png', '47825.png', '45179.png', '42608.png', '29731.png', '03298.png', '92571.png', '23056.png', '73241.png', '84102.png', '97386.png', '02475.png', '48213.png', '98461.png', '75439.png', '18296.png', '50286.png', '94305.png', '65807.png', '29716.png', '62784.png', '45601.png', '72903.png', '06752.png', '41857.png', '58364.png', '68193.png', '54982.png', '73506.png', '58160.png', '24573.png', '58124.png', '49032.png', '43271.png', '60784.png', '71354.png', '24038.png', '68172.png', '81379.png', '35679.png', '30145.png', '80216.png', '85476.png', '65297.png', '79584.png', '45893.png', '30785.png', '40826.png', '95647.png', '04582.png', '64705.png', '74103.png', '59784.png', '70196.png', '73219.png', '97621.png', '42658.png', '73851.png', '68034.png', '96127.png', '93820.png', '42036.png', '05791.png', '54310.png', '91268.png', '79603.png', '72510.png', '28534.png', '80231.png', '67054.png', '76140.png', '69015.png', '43950.png', '01364.png', '97230.png', '71905.png', '60421.png', '74091.png', '42806.png', '50961.png', '96382.png', '30571.png', '39578.png', '04819.png', '78163.png', '76598.png', '14327.png', '16059.png', '39170.png', '14297.png', '71539.png', '56803.png', '81950.png', '89476.png', '12769.png', '97463.png', '31526.png', '37042.png', '15260.png', '19523.png', '76984.png', '34178.png', '08146.png', '08649.png', '39784.png', '32051.png', '59120.png', '58093.png', '56389.png', '25137.png', '17845.png', '05174.png', '85960.png', '54039.png', '30918.png', '58462.png', '37569.png', '95403.png', '84360.png', '02451.png', '81263.png', '32198.png', '40578.png', '18236.png', '74318.png', '08621.png', '41063.png', '10562.png', '89126.png', '95021.png', '87136.png', '68043.png', '32658.png', '45791.png', '92084.png', '36415.png', '08726.png', '74238.png', '18792.png', '28974.png', '28063.png', '13769.png', '36924.png', '26437.png', '79426.png', '94725.png', '04257.png', '26571.png', '62108.png', '09823.png', '94560.png', '18673.png', '48762.png', '12548.png', '16870.png', '16798.png', '82793.png', '42175.png', '97635.png', '83206.png', '14783.png', '81403.png', '81496.png', '27946.png', '79103.png', '98270.png', '08914.png', '34780.png', '63451.png', '65948.png', '73910.png', '49531.png', '52190.png', '29850.png', '50764.png', '86970.png', '10697.png', '36892.png', '68204.png', '54019.png', '86713.png', '29708.png', '54693.png', '80724.png', '19408.png', '09843.png', '37629.png', '17963.png', '05689.png', '62394.png', '57180.png', '89302.png', '36947.png', '05429.png', '58613.png', '47629.png', '10268.png', '63052.png', '57968.png', '21863.png', '73129.png', '82647.png', '02561.png', '25718.png', '52386.png', '91540.png', '59806.png', '30547.png', '73814.png', '25983.png', '46857.png', '32069.png', '74631.png', '25901.png', '83756.png', '01467.png', '05968.png', '10567.png', '53740.png', '25839.png', '76023.png', '57490.png', '16042.png', '75102.png', '67205.png', '95237.png', '32049.png', '30815.png', '17234.png', '50186.png', '06325.png', '75123.png', '94625.png', '74205.png', '14598.png', '48391.png', '32697.png', '26490.png', '70269.png', '89170.png', '62754.png', '64017.png', '70492.png', '37829.png', '86423.png', '71250.png', '96015.png', '59268.png', '85761.png', '62840.png', '96328.png', '04863.png', '80654.png', '70649.png', '28590.png', '50793.png', '42509.png', '72891.png', '96735.png', '57614.png', '08451.png', '29481.png', '87239.png', '26590.png', '43201.png', '38469.png', '31406.png', '13947.png', '93764.png', '37948.png', '07853.png', '52746.png', '74963.png', '79562.png', '74215.png', '50273.png', '07389.png', '98561.png', '32876.png', '02145.png', '81035.png', '48790.png', '29408.png', '97160.png', '08175.png', '38720.png', '15387.png', '60794.png', '81752.png', '98023.png', '06531.png', '07834.png', '69025.png', '12394.png', '69804.png', '30546.png', '26014.png', '04851.png', '76952.png', '68407.png', '38051.png', '16598.png', '35689.png', '13857.png', '02374.png', '12640.png', '20374.png', '85290.png', '38742.png', '21739.png', '31694.png', '74910.png', '05846.png', '36152.png', '01743.png', '53268.png', '62597.png', '01642.png', '78402.png', '59708.png', '61847.png', '62483.png', '97815.png', '39726.png', '13459.png', '37901.png', '04891.png', '15023.png', '50627.png', '91738.png', '96037.png', '05734.png', '71269.png', '98315.png', '04326.png', '43728.png', '53628.png', '86934.png', '51948.png', '31294.png', '65087.png', '49126.png', '02614.png', '37815.png', '03174.png', '85092.png', '89436.png', '89617.png', '57681.png', '13420.png', '30761.png', '96143.png', '89245.png', '64037.png', '76584.png', '48706.png', '45827.png', '01967.png', '57120.png', '42351.png', '26347.png', '24356.png', '67980.png', '87126.png', '13895.png', '83607.png', '04798.png', '03275.png', '57619.png', '13207.png', '72014.png', '85409.png', '84921.png', '45016.png', '91075.png', '91547.png', '40815.png', '76581.png', '56713.png', '90568.png', '65147.png', '03968.png', '42019.png', '96435.png', '38170.png', '42856.png', '56048.png', '40395.png', '82359.png', '62358.png', '30276.png', '60732.png', '85943.png', '54287.png', '20674.png', '92136.png', '48936.png', '61349.png', '97582.png', '90847.png', '80521.png', '79032.png', '21648.png', '49685.png', '16245.png', '18239.png', '42178.png', '16075.png', '65307.png', '21305.png', '40589.png', '30462.png', '95362.png', '74062.png', '65871.png', '91453.png', '90257.png', '57641.png', '92854.png', '93610.png', '80954.png', '57908.png', '26915.png', '05782.png', '74358.png', '86453.png', '16409.png', '20198.png', '82346.png', '91436.png', '32548.png', '70395.png', '58412.png', '98026.png', '26314.png', '13968.png', '10967.png', '53694.png', '95203.png', '71845.png', '75682.png', '94068.png', '19034.png', '41305.png', '92734.png', '74203.png', '97384.png', '84169.png', '10723.png', '47625.png', '60837.png', '59362.png', '80524.png', '95846.png', '41072.png', '63087.png', '76910.png', '14869.png', '94163.png', '61730.png', '36175.png', '03568.png', '64309.png', '50678.png', '08637.png', '62018.png', '57896.png', '98067.png', '04729.png', '21047.png', '53160.png', '86925.png', '25483.png', '34659.png', '49536.png', '14573.png', '34658.png', '62781.png', '37204.png', '17390.png', '81679.png', '59128.png', '70143.png', '35607.png', '68370.png', '50162.png', '82730.png', '05973.png', '86302.png', '63985.png', '05213.png', '64285.png', '76548.png', '92567.png', '94216.png', '51390.png', '01492.png', '29430.png', '75014.png', '68520.png', '69234.png', '06513.png', '73258.png', '75134.png', '30961.png', '65817.png', '93728.png', '82190.png', '42507.png', '43725.png', '34598.png', '38790.png', '20893.png', '08761.png', '74150.png', '63492.png', '14920.png', '72893.png', '18204.png', '91375.png', '20837.png', '39528.png', '73218.png', '49038.png', '85369.png', '32140.png', '81295.png', '43782.png', '34109.png', '07369.png', '73806.png', '48932.png', '27986.png', '63524.png', '60985.png', '83657.png', '47528.png', '96325.png', '09638.png', '95843.png', '08269.png', '68950.png', '53980.png', '65714.png', '60197.png', '17052.png', '18045.png', '51687.png', '71635.png', '52349.png', '78960.png', '61825.png', '67810.png', '75280.png', '38625.png', '05239.png', '79624.png', '56497.png', '26709.png', '70984.png', '23741.png', '93045.png', '06483.png', '84237.png', '62915.png', '94605.png', '64283.png', '85426.png', '90826.png', '67410.png', '62970.png', '53184.png', '94823.png', '62571.png', '62531.png', '04387.png', '75639.png', '06871.png', '29786.png', '52163.png', '27639.png', '93478.png', '39842.png', '19238.png', '31905.png', '96734.png', '68194.png', '27096.png', '68510.png', '85324.png', '04538.png', '79815.png', '08319.png', '59238.png', '54728.png', '03957.png', '89532.png', '45708.png', '06123.png', '18507.png', '74615.png', '40792.png', '13042.png', '50683.png', '42086.png', '48679.png', '21867.png', '19834.png', '12035.png', '52019.png', '02548.png', '57926.png', '90718.png', '30982.png', '18306.png', '96238.png', '41035.png', '12936.png', '02581.png', '38579.png', '20615.png', '50879.png', '63709.png', '70194.png', '69780.png', '46953.png', '74513.png', '71658.png', '97836.png', '19470.png', '36718.png', '24095.png', '09528.png', '72136.png', '36928.png', '72061.png', '56231.png', '41652.png', '14079.png', '25683.png', '32957.png', '09578.png', '72850.png', '29710.png', '21456.png', '74029.png', '39851.png', '85439.png', '87453.png', '87309.png', '59738.png', '47180.png', '23508.png', '97256.png', '87429.png', '60785.png', '68027.png', '64907.png', '90463.png', '30581.png', '27498.png', '23795.png', '16749.png', '91748.png', '35642.png', '38647.png', '56983.png', '87251.png', '30465.png', '36210.png', '41679.png', '16874.png', '78304.png', '51473.png', '09718.png', '68439.png', '39541.png', '38794.png', '85216.png', '59460.png', '27360.png', '02769.png', '71245.png', '14958.png', '71289.png', '62354.png', '06197.png', '62043.png', '67031.png', '17698.png', '94158.png', '93512.png', '09863.png', '67234.png', '47935.png', '75106.png', '71452.png', '92108.png', '65371.png', '28173.png', '87261.png', '20145.png', '43178.png', '01892.png', '17598.png', '32174.png', '13587.png', '09867.png', '96104.png', '65204.png', '92051.png', '17590.png', '95421.png', '15746.png', '92417.png', '86017.png', '49658.png', '29140.png', '69054.png', '76914.png', '16947.png', '28165.png', '52486.png', '94762.png', '20165.png', '91648.png', '47280.png', '97512.png', '71846.png', '89517.png', '95683.png', '05798.png', '04763.png', '46380.png', '45931.png', '86452.png', '17832.png', '39861.png', '51476.png', '36029.png', '09841.png', '16894.png', '10689.png', '97146.png', '74019.png', '82154.png', '37465.png', '48059.png', '34509.png', '87461.png', '54978.png', '50927.png', '29304.png', '87619.png', '96874.png', '81063.png', '96241.png', '07219.png', '19846.png', '23059.png', '23158.png', '75498.png', '31409.png', '78236.png', '74230.png', '71834.png', '30829.png', '64273.png', '85901.png', '17562.png', '98326.png', '80649.png', '19537.png', '68705.png', '86420.png', '25316.png', '63290.png', '76821.png', '92750.png', '72358.png', '75608.png', '87253.png', '35247.png', '10852.png', '92386.png', '04629.png', '48396.png', '57103.png', '98340.png', '97153.png', '06239.png', '91308.png', '57128.png', '16407.png', '20173.png', '27380.png', '49806.png', '25847.png', '39470.png', '75203.png', '35912.png', '61207.png', '05387.png', '76083.png', '97283.png', '67841.png', '67043.png', '78429.png', '14375.png', '36187.png', '57814.png', '75469.png', '75230.png', '14876.png', '98473.png', '72864.png', '13750.png', '35279.png', '54092.png', '28195.png', '05198.png', '26378.png', '15806.png', '25913.png', '49360.png', '68245.png', '02619.png', '95613.png', '02974.png', '60578.png', '86051.png', '91647.png', '92806.png', '27014.png', '42187.png', '05214.png', '45820.png', '32695.png', '30872.png', '42871.png', '31598.png', '64278.png', '05489.png', '02431.png', '87654.png', '84305.png', '37580.png', '27835.png', '08164.png', '29740.png', '05376.png', '03149.png', '79658.png', '28196.png', '38157.png', '42675.png', '78031.png', '52084.png', '05164.png', '16032.png', '52640.png', '43907.png', '28670.png', '05384.png', '39018.png', '74259.png', '10589.png', '43702.png', '23564.png', '21946.png', '92413.png', '39120.png', '71395.png', '50984.png', '65904.png', '81760.png', '62513.png', '05269.png', '46895.png', '75493.png', '74650.png', '98457.png', '86572.png', '43170.png', '97015.png', '85496.png', '47159.png', '63572.png', '51730.png', '47128.png', '71836.png', '93826.png', '89350.png', '10843.png', '40965.png', '70528.png', '48379.png', '89102.png', '67984.png', '10386.png', '74359.png', '52871.png', '92561.png', '21904.png', '48651.png', '08531.png', '27153.png', '05824.png', '60185.png', '93085.png', '70169.png', '72456.png', '87596.png', '98316.png', '36081.png', '72364.png', '40529.png', '63792.png', '69472.png', '43650.png', '53849.png', '97204.png', '84521.png', '68579.png', '53942.png', '38954.png', '98364.png', '20867.png', '91573.png', '60913.png', '70381.png', '76921.png', '18562.png', '92160.png', '85621.png', '64325.png', '96725.png', '38054.png', '59203.png', '02857.png', '71583.png', '31097.png', '87315.png', '21439.png', '81265.png', '19604.png', '95872.png', '60128.png', '12507.png', '56108.png', '98642.png', '64891.png', '42591.png', '39704.png', '13407.png', '16048.png', '93071.png', '40675.png', '79358.png', '28061.png', '23541.png', '54831.png', '83207.png', '56134.png', '31948.png', '49865.png', '83760.png', '78215.png', '10574.png', '02584.png', '91625.png', '60789.png', '76092.png', '92601.png', '95184.png', '68325.png', '98621.png', '46315.png', '08125.png', '89750.png', '93620.png', '26831.png', '65093.png', '92078.png', '04975.png', '03218.png', '19650.png', '40293.png', '24069.png', '54793.png', '73251.png', '72309.png', '23954.png', '67318.png', '36014.png', '68531.png', '45318.png', '62581.png', '06749.png', '71943.png', '49831.png', '62057.png', '57146.png', '20593.png', '42103.png', '01579.png', '19342.png', '25170.png', '84951.png', '02416.png', '05642.png', '97624.png', '24061.png', '10946.png', '21507.png', '71486.png', '78904.png', '75291.png', '31267.png', '05941.png', '01796.png', '25784.png', '62498.png', '61289.png', '03418.png', '07286.png', '96587.png', '57043.png', '06295.png', '25368.png', '35289.png', '10486.png', '03794.png', '28154.png', '72035.png', '27134.png', '25178.png', '56309.png', '76094.png', '79328.png', '45367.png', '96235.png', '82450.png', '46127.png', '48235.png', '21890.png', '70432.png', '50397.png', '34805.png', '93251.png', '48263.png', '08524.png', '90573.png', '31752.png', '40856.png', '70829.png', '35168.png', '51498.png', '12968.png', '83914.png', '06859.png', '15637.png', '40679.png', '58027.png', '10289.png', '19062.png', '03185.png', '38217.png', '68527.png', '75298.png', '52948.png', '59716.png', '04265.png', '06148.png', '42105.png', '73256.png', '23514.png', '29841.png', '70564.png', '72698.png', '93147.png', '81075.png', '79623.png', '38156.png', '35482.png', '02384.png', '69273.png', '75396.png', '25739.png', '07325.png', '20846.png', '31450.png', '97683.png', '47819.png', '67159.png', '21064.png', '13764.png', '65319.png', '20356.png', '31587.png', '04912.png', '49238.png', '13280.png', '10579.png', '79182.png', '49285.png', '67021.png', '84176.png', '47561.png', '80193.png', '49671.png', '20974.png', '34107.png', '49850.png', '38105.png', '89561.png', '90321.png', '89657.png', '94731.png', '86129.png', '75210.png', '59217.png', '18726.png', '48320.png', '85012.png', '40758.png', '91683.png', '75381.png', '82547.png', '72910.png', '83745.png', '19875.png', '35402.png', '75246.png', '18724.png', '70691.png', '40375.png', '97021.png', '13572.png', '82134.png', '18275.png', '46837.png', '96208.png', '95684.png', '90875.png', '49870.png', '97421.png', '29760.png', '14782.png', '27418.png', '70948.png', '10857.png', '93057.png', '10943.png', '16723.png', '67580.png', '37051.png', '52634.png', '68543.png', '18432.png', '89356.png', '37018.png', '21604.png', '01924.png', '69024.png', '80297.png', '04217.png', '12678.png', '37402.png', '96120.png', '85269.png', '92645.png', '52394.png', '37640.png', '40632.png', '31902.png', '49873.png', '64029.png', '06481.png', '61870.png', '59073.png', '92643.png', '45201.png', '32650.png', '60182.png', '74069.png', '94506.png', '13495.png', '16827.png', '54782.png', '63814.png', '04759.png', '09124.png', '70519.png', '85601.png', '81239.png', '05936.png', '67283.png', '13749.png', '65034.png', '63710.png', '36970.png', '85704.png', '46078.png', '15270.png', '01368.png', '56312.png', '02317.png', '53607.png', '34527.png', '84720.png', '82045.png', '70865.png', '17504.png', '78034.png', '63702.png', '79856.png', '89324.png', '52476.png', '16370.png', '48062.png', '47510.png', '30958.png', '71398.png', '17843.png', '01682.png', '16832.png', '03581.png', '31509.png', '97154.png', '89362.png', '15062.png', '16720.png', '65012.png', '16573.png', '91275.png', '51029.png', '79413.png', '56421.png', '17438.png', '75820.png', '63415.png', '01698.png', '62751.png', '13046.png', '94172.png', '07234.png', '95031.png', '40596.png', '72163.png', '85204.png', '53897.png', '42983.png', '89173.png', '12453.png', '82539.png', '78965.png', '01276.png', '19820.png', '34576.png', '71532.png', '34602.png', '70164.png', '01962.png', '09216.png', '30914.png', '91276.png', '16039.png', '10584.png', '42897.png', '36079.png', '26495.png', '04879.png', '49267.png', '86437.png', '73604.png', '84793.png', '98075.png', '46792.png', '78495.png', '59487.png', '72193.png', '48175.png', '25384.png', '62417.png', '80614.png', '25749.png', '79250.png', '08546.png', '67350.png', '80157.png', '60924.png', '86751.png', '50938.png', '02946.png', '74602.png', '71839.png', '94517.png', '41283.png', '80625.png', '04165.png', '94387.png', '56908.png', '65017.png', '42183.png', '54682.png', '86215.png', '46509.png', '82591.png', '82043.png', '46582.png', '15480.png', '47031.png', '82367.png', '05148.png', '01243.png', '48291.png', '94017.png', '31748.png', '15490.png', '42739.png', '58129.png', '54781.png', '49607.png', '34972.png', '93648.png', '80347.png', '02564.png', '38179.png', '41689.png', '36470.png', '56213.png', '19203.png', '53678.png', '13809.png', '76328.png', '14908.png', '25690.png', '06582.png', '92654.png', '25310.png', '79351.png', '63850.png', '41527.png', '49701.png', '75693.png', '49802.png', '80539.png', '29756.png', '08172.png', '15804.png', '20693.png', '96872.png', '67193.png', '13579.png', '95467.png', '27038.png', '76219.png', '90378.png', '35074.png', '89610.png', '79234.png', '35198.png', '87513.png', '94162.png', '50968.png', '59304.png', '57912.png', '58196.png', '84620.png', '31570.png', '82150.png', '21769.png', '02364.png', '59814.png', '67219.png', '62374.png', '49728.png', '57382.png', '79124.png', '48792.png', '19324.png', '50689.png', '42681.png', '56120.png', '16593.png', '83650.png', '28704.png', '07698.png', '13596.png', '96432.png', '92481.png', '28356.png', '47305.png', '07694.png', '32716.png', '45871.png', '31527.png', '75098.png', '86257.png', '37056.png', '59874.png', '50289.png', '50198.png', '67324.png', '21605.png', '67953.png', '89371.png', '64753.png', '51032.png', '13620.png', '67948.png', '53094.png', '56143.png', '56130.png', '38621.png', '86514.png', '56917.png', '74368.png', '10748.png', '15674.png', '40237.png', '10246.png', '04372.png', '04859.png', '87215.png', '59470.png', '20739.png', '84036.png', '41756.png', '20879.png', '83216.png', '13924.png', '04325.png', '42673.png', '62931.png', '96470.png', '28439.png', '08564.png', '27145.png', '79368.png', '16704.png', '72654.png', '94130.png', '52819.png', '48760.png', '07913.png', '20781.png', '21349.png', '75934.png', '08645.png', '73021.png', '81964.png', '68901.png', '45370.png', '21394.png', '73526.png', '12367.png', '92710.png', '26013.png', '51496.png', '12709.png', '81527.png', '10625.png', '63915.png', '19860.png', '41832.png', '92086.png', '49630.png', '81207.png', '76815.png', '72160.png', '02683.png', '32604.png', '98427.png', '30576.png', '07983.png', '31925.png', '46251.png', '14682.png', '03685.png', '29163.png', '46087.png', '23094.png', '14852.png', '79258.png', '12086.png', '68042.png', '16529.png', '18526.png', '87296.png', '31758.png', '92814.png', '75198.png', '89367.png', '52964.png', '74913.png', '10596.png', '14072.png', '07539.png', '91234.png', '84153.png', '52970.png', '43691.png', '21584.png', '84072.png', '38456.png', '41296.png', '91056.png', '80695.png', '62094.png', '85461.png', '23694.png', '79423.png', '76098.png', '32507.png', '51248.png', '17230.png', '06931.png', '54069.png', '59346.png', '38162.png', '15983.png', '70842.png', '71528.png', '10963.png', '87523.png', '83056.png', '38145.png', '59248.png', '16097.png', '82460.png', '65794.png', '69812.png', '46173.png', '56138.png', '60973.png', '82159.png', '46580.png', '03258.png', '09825.png', '64752.png', '18257.png', '56071.png', '09457.png', '81932.png', '64730.png', '70561.png', '07465.png', '19426.png', '43721.png', '38190.png', '63917.png', '06135.png', '85472.png', '10572.png', '42705.png', '07315.png', '36092.png', '42307.png', '89026.png', '91574.png', '87451.png', '75680.png', '92185.png', '75096.png', '41603.png', '08241.png', '84913.png', '69175.png', '73456.png', '75839.png', '40871.png', '85147.png', '56342.png', '87691.png', '26410.png', '41908.png', '52698.png', '27591.png', '74061.png', '73406.png', '37610.png', '53471.png', '46783.png', '34015.png', '71436.png', '96820.png', '54168.png', '78539.png', '19607.png', '46759.png', '06281.png', '45108.png', '01726.png', '54321.png', '90235.png', '30915.png', '14893.png', '36178.png', '64951.png', '61089.png', '18427.png', '53482.png', '67243.png', '24395.png', '28493.png', '09781.png', '07836.png', '96371.png', '36751.png', '26843.png', '61527.png', '96073.png', '76534.png', '67983.png', '85716.png', '85730.png', '86413.png', '91064.png', '67801.png', '98215.png', '03678.png', '97623.png', '45621.png', '54093.png', '90187.png', '92430.png', '82193.png', '95810.png', '85709.png', '09286.png', '30156.png', '71058.png', '56024.png', '17853.png', '79512.png', '09375.png', '67548.png', '09516.png', '34096.png', '06584.png', '72531.png', '63028.png', '49605.png', '57340.png', '91024.png', '31420.png', '96280.png', '57084.png', '14569.png', '35890.png', '39854.png', '51049.png', '28639.png', '39428.png', '78624.png', '09152.png', '01937.png', '42853.png', '54823.png', '93164.png', '93602.png', '75018.png', '65248.png', '52916.png', '52049.png', '62093.png', '84692.png', '90465.png', '87902.png', '74580.png', '32947.png', '50863.png', '12643.png', '51734.png', '67435.png', '07259.png', '38602.png', '13649.png', '95038.png', '93082.png', '49063.png', '01637.png', '26459.png', '61983.png', '69081.png', '10659.png', '04295.png', '74350.png', '48971.png', '07194.png', '70623.png', '34218.png', '71903.png', '45103.png', '51608.png', '40953.png', '03691.png', '83046.png', '25783.png', '80254.png', '21849.png', '54276.png', '34519.png', '04529.png', '73026.png', '50964.png', '39247.png', '31467.png', '82705.png', '68921.png', '31769.png', '45389.png', '12703.png', '32489.png', '41769.png', '39758.png', '97238.png', '19678.png', '60927.png', '40576.png', '39175.png', '53812.png', '86054.png', '07469.png', '21435.png', '42059.png', '36450.png', '28567.png', '30684.png', '71428.png', '64138.png', '58096.png', '06329.png', '53187.png', '08794.png', '58309.png', '74308.png', '03947.png', '03528.png', '65730.png', '72684.png', '21348.png', '18529.png', '65378.png', '43586.png', '95321.png', '56340.png', '31629.png', '81706.png', '52947.png', '84325.png', '42387.png', '61820.png', '47831.png', '35081.png', '85729.png', '16842.png', '40218.png', '30492.png', '24165.png', '51270.png', '54780.png', '17908.png', '42601.png', '08452.png', '15642.png', '86425.png', '16520.png', '46970.png', '06847.png', '51076.png', '08219.png', '48930.png', '46928.png', '42850.png', '27609.png', '86451.png', '79864.png', '72640.png', '87326.png', '62598.png', '13068.png', '28507.png', '75082.png', '64839.png', '98015.png', '42810.png', '56091.png', '58914.png', '57638.png', '39041.png', '67490.png', '14823.png', '43085.png', '19027.png', '49351.png', '30412.png', '67485.png', '27843.png', '98321.png', '53706.png', '95036.png', '97604.png', '42368.png', '47532.png', '07396.png', '92876.png', '85172.png', '16208.png', '42083.png', '58109.png', '73612.png', '46890.png', '89761.png', '96570.png', '78042.png', '26179.png', '34075.png', '36408.png', '16259.png', '37416.png', '98564.png', '26530.png', '86795.png', '04157.png', '92385.png', '92013.png', '63712.png', '98047.png', '27048.png', '53712.png', '24607.png', '14728.png', '59824.png', '25907.png', '10328.png', '08719.png', '64910.png', '56183.png', '56019.png', '20543.png', '20835.png', '03745.png', '59041.png', '21908.png', '32964.png', '60425.png', '38946.png', '46710.png', '28451.png', '82509.png', '59781.png', '35947.png', '51890.png', '38590.png', '43256.png', '34950.png', '98501.png', '12638.png', '04976.png', '07852.png', '74158.png', '76183.png', '21704.png', '67140.png', '28597.png', '42376.png', '32854.png', '90342.png', '56470.png', '72306.png', '71042.png', '12074.png', '67802.png', '95874.png', '01634.png', '12980.png', '39645.png', '35780.png', '57162.png', '91530.png', '81309.png', '82469.png', '65403.png', '87925.png', '59420.png', '57962.png', '46137.png', '08539.png', '68957.png', '46938.png', '13609.png', '06937.png', '38201.png', '56423.png', '82549.png', '61097.png', '73092.png', '06534.png', '78930.png', '94018.png', '23047.png', '13590.png', '98513.png', '15072.png', '43017.png', '32785.png', '80174.png', '78306.png', '26417.png', '14056.png', '64350.png', '60972.png', '30245.png', '12967.png', '67125.png', '05761.png', '20948.png', '06237.png', '30957.png', '82574.png', '76148.png', '23790.png', '04183.png', '89632.png', '53180.png', '25164.png', '47592.png', '06275.png', '47618.png', '65347.png', '46807.png', '64803.png', '05827.png', '39815.png', '90786.png', '54319.png', '79104.png', '91273.png', '12063.png', '07239.png', '26091.png', '26174.png', '89107.png', '36478.png', '51870.png', '69450.png', '64032.png', '52068.png', '01972.png', '49316.png', '18469.png', '65389.png', '58063.png', '95426.png', '67584.png', '38159.png', '82413.png', '24351.png', '54389.png', '53068.png', '14268.png', '65927.png', '27480.png', '54082.png', '90864.png', '62843.png', '51349.png', '53219.png', '25681.png', '48630.png', '19637.png', '24579.png', '92364.png', '36915.png', '70834.png', '72168.png', '52678.png', '30182.png', '29607.png', '42867.png', '96524.png', '75962.png', '90513.png', '43265.png', '73802.png', '09814.png', '07965.png', '06431.png', '96452.png', '47601.png', '60143.png', '03756.png', '96730.png', '39576.png', '72619.png', '17265.png', '53486.png', '93650.png', '52379.png', '49826.png', '79614.png', '84517.png', '81675.png', '48153.png', '02456.png', '90145.png', '61890.png', '41372.png', '93158.png', '93015.png', '31824.png', '95806.png', '51284.png', '25461.png', '93740.png', '35460.png', '95861.png', '58769.png', '30598.png', '31920.png', '39250.png', '57028.png', '82657.png', '87409.png', '97305.png', '30529.png', '25908.png', '53642.png', '90143.png', '71503.png', '56741.png', '86307.png', '39542.png', '85796.png', '50341.png', '23061.png', '79105.png', '68947.png', '76429.png', '51209.png', '21869.png', '85136.png', '31096.png', '91570.png', '14732.png', '70531.png', '98143.png', '53082.png', '58419.png', '36852.png', '10932.png', '59471.png', '69073.png', '38761.png', '28763.png', '51293.png', '76295.png', '52806.png', '17623.png', '01896.png', '92436.png', '19386.png', '71098.png', '60384.png', '90158.png', '84069.png', '48976.png', '84527.png', '43581.png', '28350.png', '01397.png', '79865.png', '91240.png', '35627.png', '02457.png', '49237.png', '80792.png', '41795.png', '61382.png', '30248.png', '70826.png', '40839.png', '50284.png', '69087.png', '18034.png', '87953.png', '29847.png', '91768.png', '54098.png', '40256.png', '98602.png', '43819.png', '34079.png', '03482.png', '49618.png', '67820.png', '26980.png', '61037.png', '95783.png', '39408.png', '28160.png', '28601.png', '49052.png', '60142.png', '72608.png', '14690.png', '40127.png', '83602.png', '63187.png', '43675.png', '61580.png', '38697.png', '32415.png', '17028.png', '30621.png', '01723.png', '05879.png', '86750.png', '83205.png', '59364.png', '84107.png', '73608.png', '17532.png', '56870.png', '05826.png', '34596.png', '83264.png', '91045.png', '67014.png', '64215.png', '63124.png', '18267.png', '51624.png', '76408.png', '65387.png', '69423.png', '02543.png', '59801.png', '92851.png', '82716.png', '16045.png', '45269.png', '10785.png', '97823.png', '30726.png', '10537.png', '70821.png', '09418.png', '65103.png', '40796.png', '31205.png', '38251.png', '87094.png', '96405.png', '69743.png', '63452.png', '63198.png', '50487.png', '92741.png', '56419.png', '10238.png', '37140.png', '06539.png', '12953.png', '08471.png', '02613.png', '17062.png', '92157.png', '70148.png', '03124.png', '64193.png', '08742.png', '15763.png', '02751.png', '17834.png', '71046.png', '41907.png', '04783.png', '60893.png', '72649.png', '70435.png', '29173.png', '58310.png', '74810.png', '27614.png', '03197.png', '10832.png', '36872.png', '29637.png', '74630.png', '46802.png', '60839.png', '52619.png', '37951.png', '45286.png', '89421.png', '35869.png', '36781.png', '81056.png', '41856.png', '98124.png', '31894.png', '17350.png', '04923.png', '02735.png', '06829.png', '87209.png', '98726.png', '20945.png', '45307.png', '54981.png', '02691.png', '18945.png', '23091.png', '25397.png', '96801.png', '93428.png', '58239.png', '10438.png', '41203.png', '97453.png', '82596.png', '04765.png', '79850.png', '93857.png', '15820.png', '89250.png', '96312.png', '25189.png', '70851.png', '52743.png', '49180.png', '12549.png', '45197.png', '16389.png', '67420.png', '50624.png', '84973.png', '05918.png', '45368.png', '79340.png', '41523.png', '93618.png', '38679.png', '57463.png', '04361.png', '68257.png', '74356.png', '58170.png', '80967.png', '35298.png', '48921.png', '29316.png', '51928.png', '05847.png', '84709.png', '21386.png', '78962.png', '85096.png', '68179.png', '34018.png', '25968.png', '78915.png', '01392.png', '87165.png', '73689.png', '03715.png', '10479.png', '08196.png', '64130.png', '82701.png', '84162.png', '06934.png', '28790.png', '49726.png', '56430.png', '47012.png', '07924.png', '50438.png', '27501.png', '13428.png', '46051.png', '53972.png', '81027.png', '97438.png', '13574.png', '21749.png', '12350.png', '24631.png', '39168.png', '59671.png', '06482.png', '09265.png', '30618.png', '61347.png', '57693.png', '83560.png', '05789.png', '69057.png', '91026.png', '67148.png', '74183.png', '97456.png', '48260.png', '78534.png', '95263.png', '84762.png', '92418.png', '61395.png', '43125.png', '41078.png', '07692.png', '63594.png', '62375.png', '12765.png', '35087.png', '36981.png', '18397.png', '73480.png', '93142.png', '39657.png', '42803.png', '62391.png', '12568.png', '54102.png', '78619.png', '32149.png', '24967.png', '92578.png', '80925.png', '61937.png', '56714.png', '39482.png', '74315.png', '86071.png', '02168.png', '18960.png', '96701.png', '20174.png', '62514.png', '52936.png', '41087.png', '36982.png', '60213.png', '62413.png', '41923.png', '51962.png', '25478.png', '38956.png', '92831.png', '48769.png', '26305.png', '86123.png', '41502.png', '56294.png', '34189.png', '60193.png', '38712.png', '29308.png', '64081.png', '68390.png', '13849.png', '94025.png', '25489.png', '67481.png', '20859.png', '97315.png', '74380.png', '37285.png', '62703.png', '61407.png', '73849.png', '76432.png', '57431.png', '26397.png', '62789.png', '09162.png', '87903.png', '94732.png', '97142.png', '04273.png', '67825.png', '19752.png', '12489.png', '52369.png', '29548.png', '38072.png', '39870.png', '09785.png', '74016.png', '36214.png', '18294.png', '43258.png', '54670.png', '14836.png', '06985.png', '92056.png', '23789.png', '93187.png', '61980.png', '53206.png', '89034.png', '03847.png', '34609.png', '12694.png', '93184.png', '52473.png', '38601.png', '75821.png', '58209.png', '40165.png', '15743.png', '94150.png', '01756.png', '48629.png', '25380.png', '78560.png', '35062.png', '89450.png', '10283.png', '26379.png', '94507.png', '58312.png', '95260.png', '60739.png', '93572.png', '92408.png', '81243.png', '08145.png', '25760.png', '46239.png', '95830.png', '15847.png', '79315.png', '01649.png', '36810.png', '58026.png', '93087.png', '09217.png', '95176.png', '97531.png', '46879.png', '10527.png', '96784.png', '72834.png', '45172.png', '67894.png', '84901.png', '28394.png', '70423.png', '87156.png', '25340.png', '13096.png', '09257.png', '20975.png', '02654.png', '31896.png', '15723.png', '05346.png', '27918.png', '81970.png', '78052.png', '31605.png', '52706.png', '30928.png', '76032.png', '38209.png', '31678.png', '45672.png', '20619.png', '05793.png', '56789.png', '69421.png', '45913.png', '65478.png', '46153.png', '43608.png', '13702.png', '04638.png', '28479.png', '29138.png', '24560.png', '83140.png', '41928.png', '49306.png', '26573.png', '29463.png', '73028.png', '29835.png', '78016.png', '32768.png', '42309.png', '51024.png', '75931.png', '59423.png', '40982.png', '13297.png', '08954.png', '40397.png', '45698.png', '14365.png', '95162.png', '16340.png', '43026.png', '36075.png', '75602.png', '52034.png', '53821.png', '32674.png', '25830.png', '86301.png', '79150.png', '78325.png', '12589.png', '42597.png', '61972.png', '64250.png', '39405.png', '27016.png', '41706.png', '17025.png', '50734.png', '30489.png', '45612.png', '27908.png', '38047.png', '39265.png', '17596.png', '23746.png', '34067.png', '93687.png', '35097.png', '03567.png', '37819.png', '69258.png', '19430.png', '87914.png', '67143.png', '16735.png', '65917.png', '67831.png', '62718.png', '75031.png', '19248.png', '38965.png', '78062.png', '24567.png', '82137.png', '60317.png', '90175.png', '02783.png', '52649.png', '37184.png', '30629.png', '04718.png', '17950.png', '12650.png', '43109.png', '01564.png', '04932.png', '51629.png', '78169.png', '29437.png', '71906.png', '94813.png', '45163.png', '91675.png', '09156.png', '76354.png', '43185.png', '86159.png', '25130.png', '90728.png', '46831.png', '30154.png', '93586.png', '74039.png', '19243.png', '16430.png', '48697.png', '78095.png', '21436.png', '14590.png', '65273.png', '57129.png', '89743.png', '68307.png', '84730.png', '29671.png', '89543.png', '61047.png', '13576.png', '76950.png', '34687.png', '98721.png', '67130.png', '37621.png', '94370.png', '27891.png', '95348.png', '86593.png', '92357.png', '84927.png', '35860.png', '43089.png', '72164.png', '32046.png', '91027.png', '05972.png', '12784.png', '90417.png', '72830.png', '50263.png', '39401.png', '58936.png', '16925.png', '83901.png', '02956.png', '20718.png', '74326.png', '54023.png', '56274.png', '84619.png', '39526.png', '69520.png', '47192.png', '94617.png', '25706.png', '54731.png', '80536.png', '13276.png', '31849.png', '38057.png', '80976.png', '61028.png', '87510.png', '02435.png', '15368.png', '13478.png', '19582.png', '34526.png', '91036.png', '72618.png', '78639.png', '19072.png', '02764.png', '46510.png', '05183.png', '72563.png', '81093.png', '95081.png', '34502.png', '87610.png', '76510.png', '31057.png', '75048.png', '35786.png', '46830.png', '80317.png', '34816.png', '79146.png', '42865.png', '89534.png', '82963.png', '40819.png', '45976.png', '52079.png', '76152.png', '83045.png', '32670.png', '35647.png', '87063.png', '59214.png', '10682.png', '12845.png', '93102.png', '53904.png', '45291.png', '14296.png', '90653.png', '31960.png', '47210.png', '81079.png', '96381.png', '87234.png', '45723.png', '19672.png', '31657.png', '30251.png', '59602.png', '94081.png', '23619.png', '52610.png', '61048.png', '87095.png', '53872.png', '06245.png', '35794.png', '54206.png', '45891.png', '72064.png', '48536.png', '41739.png', '87649.png', '69035.png', '58460.png', '61723.png', '94780.png', '60589.png', '19670.png', '57923.png', '39465.png', '34726.png', '39601.png', '37469.png', '01498.png', '32809.png', '09523.png', '23198.png', '37059.png', '25103.png', '25079.png', '35104.png', '24396.png', '14372.png', '50317.png', '42631.png', '50783.png', '81390.png', '61759.png', '70346.png', '29485.png', '10692.png', '32546.png', '72091.png', '87615.png', '65341.png', '84273.png', '08941.png', '42813.png', '61748.png', '13672.png', '27398.png', '30586.png', '62147.png', '27681.png', '31876.png', '98516.png', '80914.png', '08297.png', '20936.png', '08517.png', '24980.png', '07352.png', '72408.png', '85126.png', '60597.png', '87023.png', '17238.png', '32476.png', '82356.png', '60158.png', '53296.png', '21403.png', '23879.png', '13607.png', '07524.png', '46318.png', '70123.png', '89264.png', '16809.png', '21037.png', '67103.png', '64735.png', '07193.png', '53214.png', '10983.png', '03928.png', '93024.png', '62849.png', '67325.png', '17642.png', '57869.png', '72680.png', '31092.png', '21650.png', '97041.png', '26738.png', '91476.png', '04568.png', '80169.png', '23968.png', '61489.png', '54689.png', '43627.png', '63285.png', '71689.png', '02138.png', '45206.png', '89071.png', '20854.png', '71502.png', '56098.png', '83215.png', '96581.png', '93578.png', '31687.png', '82301.png', '75234.png', '12945.png', '40967.png', '96082.png', '30854.png', '05916.png', '37864.png', '04938.png', '45792.png', '79586.png', '76398.png', '07935.png', '43206.png', '23478.png', '52130.png', '71023.png', '27514.png', '39821.png', '93072.png', '61725.png', '38491.png', '32409.png', '72340.png', '51789.png', '98256.png', '42836.png', '47095.png', '34728.png', '82079.png', '96354.png', '18943.png', '35608.png', '71634.png', '56819.png', '31508.png', '61938.png', '67413.png', '72936.png', '25931.png', '94501.png', '53291.png', '57312.png', '14278.png', '41690.png', '58497.png', '06537.png', '29576.png', '82437.png', '36780.png', '83927.png', '62859.png', '08375.png', '84321.png', '16302.png', '43596.png', '74058.png', '69523.png', '60892.png', '17530.png', '08697.png', '97062.png', '62357.png', '36281.png', '52187.png', '72361.png', '94256.png', '35924.png', '21567.png', '09316.png', '32657.png', '85746.png', '46739.png', '85061.png', '76423.png', '90638.png', '60215.png', '09618.png', '13859.png', '97180.png', '54170.png', '35948.png', '86954.png', '17296.png', '40136.png', '73091.png', '17860.png', '32596.png', '90856.png', '87412.png', '40378.png', '34981.png', '84703.png', '03178.png', '73945.png', '92867.png', '68503.png', '39826.png', '49527.png', '23450.png', '19573.png', '95064.png', '81250.png', '51738.png', '46973.png', '97013.png', '83624.png', '57280.png', '02157.png', '85749.png', '35167.png', '95720.png', '18059.png', '83025.png', '29174.png', '93425.png', '09248.png', '20913.png', '67208.png', '05498.png', '05618.png', '61423.png', '27956.png', '63017.png', '43218.png', '29084.png', '56981.png', '24197.png', '74190.png', '39145.png', '69710.png', '54602.png', '10947.png', '35670.png', '74923.png', '10287.png', '38419.png', '14620.png', '03186.png', '30246.png', '84732.png', '15340.png', '05928.png', '64320.png', '71259.png', '42068.png', '53879.png', '65804.png', '28067.png', '03718.png', '01865.png', '01324.png', '87645.png', '19586.png', '23807.png', '69753.png', '63548.png', '37458.png', '21693.png', '63217.png', '23685.png', '91704.png', '16509.png', '14567.png', '94870.png', '14092.png', '69158.png', '07481.png', '14602.png', '42398.png', '17956.png', '10693.png', '74508.png', '58367.png', '15302.png', '06453.png', '14785.png', '16380.png', '30921.png', '93254.png', '03927.png', '37425.png', '34190.png', '04126.png', '76180.png', '90752.png', '13259.png', '01874.png', '87320.png', '26945.png', '59264.png', '92170.png', '97625.png', '52867.png', '10935.png', '52490.png', '43856.png', '45382.png', '50834.png', '71968.png', '18790.png', '92671.png', '19542.png', '43157.png', '02365.png', '34971.png', '65891.png', '29417.png', '57481.png', '53827.png', '92631.png', '10875.png', '02687.png', '81576.png', '43180.png', '78532.png', '47326.png', '91786.png', '24931.png', '49680.png', '89574.png', '34708.png', '90845.png', '63507.png', '59873.png', '54613.png', '36957.png', '59021.png', '69582.png', '56374.png', '57142.png', '54730.png', '47125.png', '20438.png', '97546.png', '90617.png', '43275.png', '90136.png', '67938.png', '39540.png', '67158.png', '87530.png', '56178.png', '01954.png', '35408.png', '78902.png', '09461.png', '35896.png', '64208.png', '51283.png', '21607.png', '09348.png', '80612.png', '24603.png', '91356.png', '05983.png', '59876.png', '08793.png', '27604.png', '03618.png', '35048.png', '91602.png', '76528.png', '79832.png', '28463.png', '52416.png', '63714.png', '86250.png', '61578.png', '20184.png', '95814.png', '27914.png', '04675.png', '83124.png', '07285.png', '01475.png', '81460.png', '40231.png', '51892.png', '65712.png', '45379.png', '76285.png', '73820.png', '23159.png', '21053.png', '03146.png', '69123.png', '24178.png', '58739.png', '07268.png', '09213.png', '14520.png', '10973.png', '54830.png', '93520.png', '29630.png', '59763.png', '89372.png', '36472.png', '76519.png', '17589.png', '12094.png', '82736.png', '45297.png', '01293.png', '07463.png', '17082.png', '74892.png', '19385.png', '63270.png', '18640.png', '36294.png', '01975.png', '95478.png', '59046.png', '51869.png', '34127.png', '43175.png', '89536.png', '93521.png', '46573.png', '06947.png', '83052.png', '14975.png', '01483.png', '41637.png', '52768.png', '15049.png', '58602.png', '35724.png', '75403.png', '92581.png', '17645.png', '83907.png', '37459.png', '98406.png', '93810.png', '13865.png', '15427.png', '61385.png', '28197.png', '69324.png', '26381.png', '07291.png', '54896.png', '38726.png', '03864.png', '49801.png', '26407.png', '17659.png', '89642.png', '45029.png', '49280.png', '63142.png', '23519.png', '34960.png', '32071.png', '41276.png', '80237.png', '02641.png', '13602.png', '57846.png', '94185.png', '63924.png', '71389.png', '21683.png', '96402.png', '95764.png', '24135.png', '75130.png', '23045.png', '65801.png', '96417.png', '75192.png', '76108.png', '10627.png', '76142.png', '26438.png', '07816.png', '26140.png', '43015.png', '35614.png', '74352.png', '42690.png', '53876.png', '91486.png', '46283.png', '85764.png', '30942.png', '68045.png', '18942.png', '46082.png', '89014.png', '85237.png', '53647.png', '53624.png', '41692.png', '36542.png', '13782.png', '69032.png', '27490.png', '23815.png', '58127.png', '75104.png', '85927.png', '85310.png', '35907.png', '30249.png', '96078.png', '76938.png', '98103.png', '76851.png', '86491.png', '59124.png', '62913.png', '41680.png', '58764.png', '71902.png', '10642.png', '96785.png', '31497.png', '56719.png', '23501.png', '97583.png', '32960.png', '13726.png', '78634.png', '96302.png', '86974.png', '61438.png', '05249.png', '17235.png', '97213.png', '10329.png', '12089.png', '97465.png', '06524.png', '12065.png', '17904.png', '20194.png', '08357.png', '27981.png', '63902.png', '65703.png', '75960.png', '23076.png', '39285.png', '01245.png', '30289.png', '20759.png', '89762.png', '34152.png', '16372.png', '78039.png', '42693.png', '06345.png', '90725.png', '43852.png', '26358.png', '69043.png', '91358.png', '65127.png', '01589.png', '91637.png', '62791.png', '31590.png', '75892.png', '38674.png', '19487.png', '06892.png', '74562.png', '34902.png', '82451.png', '91423.png', '73810.png', '57063.png', '02719.png', '19742.png', '20183.png', '94620.png', '79805.png', '52960.png', '19753.png', '90734.png', '76132.png', '74105.png', '25180.png', '89156.png', '65802.png', '83219.png', '01256.png', '70452.png', '72958.png', '68192.png', '98657.png', '85034.png', '18759.png', '13470.png', '49185.png', '68459.png', '67319.png', '49581.png', '48051.png', '82604.png', '02371.png', '32164.png', '62907.png', '34078.png', '64357.png', '80972.png', '41368.png', '61792.png', '65814.png', '63981.png', '91283.png', '03217.png', '87230.png', '39287.png', '07615.png', '61092.png', '06842.png', '79638.png', '41270.png', '30174.png', '52983.png', '04317.png', '01643.png', '75801.png', '03981.png', '08769.png', '17352.png', '37295.png', '80319.png', '28657.png', '51806.png', '31496.png', '31465.png', '48965.png', '15749.png', '81036.png', '37942.png', '86509.png', '89756.png', '48031.png', '68541.png', '89602.png', '54679.png', '82714.png', '96583.png', '74563.png', '06725.png', '07632.png', '58194.png', '37859.png', '59276.png', '04728.png', '05819.png', '76459.png', '34710.png', '51367.png', '96145.png', '65094.png', '45862.png', '96152.png', '10524.png', '36417.png', '94067.png', '03987.png', '83029.png', '02476.png', '92381.png', '86351.png', '04682.png', '01672.png', '30978.png', '30816.png', '53649.png', '53914.png', '84015.png', '65283.png', '96573.png', '54713.png', '84596.png', '16824.png', '78643.png', '41958.png', '57248.png', '68943.png', '61074.png', '68394.png', '58637.png', '03214.png', '50732.png', '56104.png', '68324.png', '34586.png', '72095.png', '94576.png', '21043.png', '69137.png', '18926.png', '89123.png', '83567.png', '46270.png', '10478.png', '41092.png', '37214.png', '28435.png', '36481.png', '45832.png', '39085.png', '52074.png', '27836.png', '72509.png', '19504.png', '30257.png', '75108.png', '68594.png', '85614.png', '50428.png', '21780.png', '78921.png', '63749.png', '71280.png', '09241.png', '98137.png', '87351.png', '70136.png', '96013.png', '95163.png', '24601.png', '15964.png', '79681.png', '62081.png', '18693.png', '85239.png', '90534.png', '70296.png', '68401.png', '23849.png', '93486.png', '51863.png', '89162.png', '27063.png', '69370.png', '76890.png', '70682.png', '27491.png', '50746.png', '82973.png', '74521.png', '96472.png', '03421.png', '96475.png', '58371.png', '69014.png', '50498.png', '57160.png', '97236.png', '87913.png', '27950.png', '57268.png', '92041.png', '92637.png', '14862.png', '81942.png', '68749.png', '68954.png', '09634.png', '47608.png', '73982.png', '75806.png', '19530.png', '74218.png', '52089.png', '08741.png', '64093.png', '70925.png', '83954.png', '78231.png', '60329.png', '25071.png', '07215.png', '78452.png', '01758.png', '41578.png', '49601.png', '91058.png', '54231.png', '80463.png', '78315.png', '26781.png', '16375.png', '78613.png', '05784.png', '12594.png', '42580.png', '47032.png', '89317.png', '29785.png', '01258.png', '59762.png', '05741.png', '86749.png', '74805.png', '14837.png', '02649.png', '89251.png', '71628.png', '09256.png', '51783.png', '18364.png', '05372.png', '76342.png', '65320.png', '87064.png', '92473.png', '63578.png', '67109.png', '01524.png', '84219.png', '05914.png', '93286.png', '90861.png', '30286.png', '43815.png', '89073.png', '10746.png', '09527.png', '09247.png', '26785.png', '12580.png', '49153.png', '61798.png', '41362.png', '37928.png', '87403.png', '78091.png', '18542.png', '21809.png', '73168.png', '36195.png', '42951.png', '03125.png', '41573.png', '91537.png', '86471.png', '45203.png', '74619.png', '61420.png', '49582.png', '59380.png', '83957.png', '67129.png', '74802.png', '70658.png', '65298.png', '84209.png', '24018.png', '65312.png', '45018.png', '20485.png', '16438.png', '04386.png', '56472.png', '06243.png', '97821.png', '58924.png', '80735.png', '12836.png', '74621.png', '50723.png', '89503.png', '42605.png', '71052.png', '67142.png', '50148.png', '12673.png', '90386.png', '42179.png', '86320.png', '26985.png', '21073.png', '28695.png', '32781.png', '27105.png', '85936.png', '89351.png', '86917.png', '24537.png', '72058.png', '93542.png', '76582.png', '34521.png', '94873.png', '03942.png', '07218.png', '98731.png', '32857.png', '98170.png', '12068.png', '65041.png', '82037.png', '65407.png', '96508.png', '03795.png', '30162.png', '07126.png', '48756.png', '15208.png', '06315.png', '96804.png', '94860.png', '25604.png', '62184.png', '82630.png', '94681.png', '91527.png', '17359.png', '52437.png', '10792.png', '20876.png', '32485.png', '18593.png', '37259.png', '36875.png', '48327.png', '46501.png', '69412.png', '48326.png', '39217.png', '40316.png', '62731.png', '57630.png', '36708.png', '92514.png', '94071.png', '71942.png', '84536.png', '75438.png', '71340.png', '70235.png', '46520.png', '51807.png', '85072.png', '08276.png', '90318.png', '02845.png', '19623.png', '14673.png', '48512.png', '57864.png', '03692.png', '30628.png', '85213.png', '37092.png', '71659.png', '74198.png', '70413.png', '74253.png', '72915.png', '37419.png', '80425.png', '17594.png', '51746.png', '23901.png', '57984.png', '03594.png', '94217.png', '72914.png', '64957.png', '67092.png', '93854.png', '51920.png', '12483.png', '42167.png', '86072.png', '01349.png', '92738.png', '90726.png', '58264.png', '19364.png', '68423.png', '57462.png', '14672.png', '70326.png', '68519.png', '84135.png', '30851.png', '41037.png', '46721.png', '72360.png', '90846.png', '02467.png', '63192.png', '60278.png', '97810.png', '94803.png', '04591.png', '16359.png', '48376.png', '58631.png', '69728.png', '58947.png', '36497.png', '36019.png', '98305.png', '97401.png', '62319.png', '46295.png', '93426.png', '14603.png', '17809.png', '93148.png', '62035.png', '79314.png', '34059.png', '05869.png', '36102.png', '42961.png', '80512.png', '43198.png', '50813.png', '20671.png', '17965.png', '36207.png', '50869.png', '49673.png', '50491.png', '38029.png', '37658.png', '58726.png', '76243.png', '21056.png', '79524.png', '69251.png', '50981.png', '75310.png', '25408.png', '94302.png', '43051.png', '48735.png', '84593.png', '02937.png', '47920.png', '81097.png', '26731.png', '95213.png', '03241.png', '38910.png', '59034.png', '85132.png', '89461.png', '82635.png', '46179.png', '38417.png', '53481.png', '29467.png', '25610.png', '19873.png', '83095.png', '27341.png', '48352.png', '72019.png', '29465.png', '54972.png', '02967.png', '32576.png', '21850.png', '46293.png', '37921.png', '67259.png', '32897.png', '83514.png', '54891.png', '16538.png', '69205.png', '50379.png', '97503.png', '15902.png', '98723.png', '38952.png', '74391.png', '81467.png', '86193.png', '78903.png', '36028.png', '25806.png', '04786.png', '03681.png', '17603.png', '13657.png', '46390.png', '07496.png', '48132.png', '92074.png', '05726.png', '98724.png', '78132.png', '04269.png', '48715.png', '06823.png', '03849.png', '01382.png', '32904.png', '65429.png', '26197.png', '61308.png', '28069.png', '26409.png', '45267.png', '28517.png', '04371.png', '31928.png', '47205.png', '26973.png', '07135.png', '62719.png', '53210.png', '86127.png', '05841.png', '27806.png', '30165.png', '37186.png', '21835.png', '07893.png', '63051.png', '71620.png', '16398.png', '36980.png', '06378.png', '64539.png', '19452.png', '35796.png', '83061.png', '09468.png', '15630.png', '83960.png', '13568.png', '87425.png', '12036.png', '42967.png', '35602.png', '05374.png', '19758.png', '53618.png', '85642.png', '30582.png', '61485.png', '17830.png', '85920.png', '01358.png', '35218.png', '56304.png', '85107.png', '82950.png', '40761.png', '76359.png', '12930.png', '46712.png', '03615.png', '54270.png', '05463.png', '95428.png', '87345.png', '87329.png', '49725.png', '60314.png', '51894.png', '05743.png', '48623.png', '85314.png', '57093.png', '31495.png', '48567.png', '79854.png', '24051.png', '82360.png', '27980.png', '28916.png', '96240.png', '17953.png', '38612.png', '92610.png', '05241.png', '30796.png', '78351.png', '95186.png', '13986.png', '51706.png', '76450.png', '25893.png', '37916.png', '71432.png', '64531.png', '76913.png', '10263.png', '53492.png', '06873.png', '92014.png', '98632.png', '35429.png', '38912.png', '95326.png', '58740.png', '04287.png', '36194.png', '70243.png', '30782.png', '41605.png', '41358.png', '36729.png', '29814.png', '26183.png', '97486.png', '03869.png', '46013.png', '13460.png', '51708.png', '84372.png', '56128.png', '15740.png', '34129.png', '27801.png', '52108.png', '32906.png', '60931.png', '62831.png', '54367.png', '80173.png', '14259.png', '15926.png', '79825.png', '69348.png', '23785.png', '92617.png', '37269.png', '93185.png', '81720.png', '04328.png', '05716.png', '09617.png', '12045.png', '79612.png', '74625.png', '85073.png', '87541.png', '24865.png', '39074.png', '82531.png', '30128.png', '15349.png', '92847.png', '90748.png', '31285.png', '41208.png', '36458.png', '91736.png', '28374.png', '75304.png', '57240.png', '17246.png', '05976.png', '82054.png', '70214.png', '46790.png', '79024.png', '80247.png', '21408.png', '40312.png', '84916.png', '34591.png', '25063.png', '74951.png', '19284.png', '96327.png', '03257.png', '60827.png', '91274.png', '37265.png', '06824.png', '67512.png', '41903.png', '80356.png', '16480.png', '30821.png', '15726.png', '96184.png', '54801.png', '53941.png', '31627.png', '58071.png', '52940.png', '92354.png', '40153.png', '50482.png', '90427.png', '49327.png', '73924.png', '90516.png', '78594.png', '10389.png', '19402.png', '61743.png', '62947.png', '06218.png', '86023.png', '90471.png', '20941.png', '43152.png', '51269.png', '40167.png', '57324.png', '28765.png', '23760.png', '57264.png', '74896.png', '72580.png', '62471.png', '29508.png', '05431.png', '23178.png', '86273.png', '18254.png', '20187.png', '08254.png', '50824.png', '62790.png', '17094.png', '26547.png', '65308.png', '62038.png', '92640.png', '23908.png', '29761.png', '61897.png', '84756.png', '76348.png', '48957.png', '24835.png', '82765.png', '20657.png', '87594.png', '16807.png', '16374.png', '71082.png', '31927.png', '29345.png', '14073.png', '52780.png', '14059.png', '15203.png', '83259.png', '18547.png', '45208.png', '72805.png', '42169.png', '69731.png', '27195.png', '09465.png', '52183.png', '13852.png', '30824.png', '92780.png', '31029.png', '47391.png', '89624.png', '09387.png', '86205.png', '24905.png', '87564.png', '25093.png', '78406.png', '18409.png', '32514.png', '04689.png', '95371.png', '72386.png', '98736.png', '46823.png', '02356.png', '42389.png', '34671.png', '31586.png', '82165.png', '05984.png', '03296.png', '63589.png', '51348.png', '93280.png', '93126.png', '67892.png', '78541.png', '91730.png', '94357.png', '36521.png', '49328.png', '34965.png', '25874.png', '46058.png', '97241.png', '26043.png', '34629.png', '54210.png', '07824.png', '12648.png', '31072.png', '36058.png', '15290.png', '78015.png', '76490.png', '52139.png', '15803.png', '64019.png', '20613.png', '08693.png', '07452.png', '45930.png', '57643.png', '54917.png', '64219.png', '15647.png', '43571.png', '70914.png', '96824.png', '59482.png', '16702.png', '73926.png', '42783.png', '72598.png', '61380.png', '60724.png', '39640.png', '79824.png', '26307.png', '84092.png', '31625.png', '06435.png', '48105.png', '95071.png', '94675.png', '36107.png', '34618.png', '56709.png', '08612.png', '89056.png', '16437.png', '82731.png', '24687.png', '02514.png', '03268.png', '69380.png', '56873.png', '75319.png', '51046.png', '54639.png', '09827.png', '76253.png', '18732.png', '68753.png', '80451.png', '73421.png', '62509.png', '75846.png', '79256.png', '29164.png', '67520.png', '12374.png', '08523.png', '47836.png', '53067.png', '64593.png', '62019.png', '02965.png', '17253.png', '24857.png', '14872.png', '14570.png', '08346.png', '62301.png', '56124.png', '34076.png', '47591.png', '61754.png', '98145.png', '20786.png', '78021.png', '98341.png', '31847.png', '16207.png', '98530.png', '71308.png', '52719.png', '37294.png', '62307.png', '73914.png', '57013.png', '07385.png', '40257.png', '46205.png', '08567.png', '28164.png', '56378.png', '72839.png', '35680.png', '70934.png', '10476.png', '96258.png', '72045.png', '71390.png', '10725.png', '71840.png', '31702.png', '81962.png', '08317.png', '05948.png', '83976.png', '62418.png', '48279.png', '98157.png', '94608.png', '28579.png', '74956.png', '89423.png', '58326.png', '45923.png', '51849.png', '51682.png', '43217.png', '91082.png', '04379.png', '51460.png', '20134.png', '25498.png', '07345.png', '79346.png', '45263.png', '42691.png', '90753.png', '30756.png', '67015.png', '91763.png', '34756.png', '96450.png', '42319.png', '93841.png', '59726.png', '91863.png', '42391.png', '23459.png', '62308.png', '25634.png', '27456.png', '49017.png', '84926.png', '07238.png', '92846.png', '96340.png', '39107.png', '15067.png', '60427.png', '70653.png', '93758.png', '41830.png', '14830.png', '13098.png', '93275.png', '70318.png', '89142.png', '10835.png', '87390.png', '10837.png', '36420.png', '65328.png', '50142.png', '96845.png', '58019.png', '39862.png', '60821.png', '51683.png', '75186.png', '39206.png', '98751.png', '16089.png', '58217.png', '23851.png', '69042.png', '56723.png', '01627.png', '13074.png', '74890.png', '36271.png', '26598.png', '45968.png', '73825.png', '68039.png', '96420.png', '23048.png', '98421.png', '23794.png', '65078.png', '80179.png', '47693.png', '94650.png', '82651.png', '04897.png', '81759.png', '43096.png', '27156.png', '65234.png', '50682.png', '31427.png', '78260.png', '27310.png', '28793.png', '85741.png', '93027.png', '20591.png', '90461.png', '02349.png', '94358.png', '62198.png', '90236.png', '47615.png', '47530.png', '62758.png', '78263.png', '83429.png', '54691.png', '56891.png', '35261.png', '60981.png', '84361.png', '15846.png', '54108.png', '76980.png', '58370.png', '41506.png', '61793.png', '53274.png', '32015.png', '04563.png', '28096.png', '69720.png', '61453.png', '59287.png', '80246.png', '49067.png', '81096.png', '54610.png', '92158.png', '86314.png', '49021.png', '30124.png', '34508.png', '87401.png', '57410.png', '76250.png', '32971.png', '39214.png', '46197.png', '98637.png', '04356.png', '65931.png', '60132.png', '36054.png']\n"
          ],
          "name": "stdout"
        }
      ]
    },
    {
      "cell_type": "code",
      "metadata": {
        "execution": {
          "iopub.status.busy": "2021-07-09T12:51:37.280317Z",
          "iopub.execute_input": "2021-07-09T12:51:37.280640Z",
          "iopub.status.idle": "2021-07-09T12:51:37.305741Z",
          "shell.execute_reply.started": "2021-07-09T12:51:37.280611Z",
          "shell.execute_reply": "2021-07-09T12:51:37.304948Z"
        },
        "trusted": true,
        "id": "Yuw8w6bRhgTx",
        "outputId": "3273c7bd-2092-49ad-d45e-0828f21c9f31"
      },
      "source": [
        "valid = pd.read_json(test_path, lines=True)\n",
        "valid.head()"
      ],
      "execution_count": null,
      "outputs": [
        {
          "output_type": "execute_result",
          "data": {
            "text/plain": [
              "      id            img                                         text\n",
              "0  16395  img/16395.png                     handjobs sold seperately\n",
              "1  37405  img/37405.png         introducing fidget spinner for women\n",
              "2  94180  img/94180.png  happy pride month let's go beat up lesbians\n",
              "3  54321  img/54321.png       laughs in [majority of u.s crime rate]\n",
              "4  97015  img/97015.png       finds out those 72 virgins.. are goats"
            ],
            "text/html": [
              "<div>\n",
              "<style scoped>\n",
              "    .dataframe tbody tr th:only-of-type {\n",
              "        vertical-align: middle;\n",
              "    }\n",
              "\n",
              "    .dataframe tbody tr th {\n",
              "        vertical-align: top;\n",
              "    }\n",
              "\n",
              "    .dataframe thead th {\n",
              "        text-align: right;\n",
              "    }\n",
              "</style>\n",
              "<table border=\"1\" class=\"dataframe\">\n",
              "  <thead>\n",
              "    <tr style=\"text-align: right;\">\n",
              "      <th></th>\n",
              "      <th>id</th>\n",
              "      <th>img</th>\n",
              "      <th>text</th>\n",
              "    </tr>\n",
              "  </thead>\n",
              "  <tbody>\n",
              "    <tr>\n",
              "      <th>0</th>\n",
              "      <td>16395</td>\n",
              "      <td>img/16395.png</td>\n",
              "      <td>handjobs sold seperately</td>\n",
              "    </tr>\n",
              "    <tr>\n",
              "      <th>1</th>\n",
              "      <td>37405</td>\n",
              "      <td>img/37405.png</td>\n",
              "      <td>introducing fidget spinner for women</td>\n",
              "    </tr>\n",
              "    <tr>\n",
              "      <th>2</th>\n",
              "      <td>94180</td>\n",
              "      <td>img/94180.png</td>\n",
              "      <td>happy pride month let's go beat up lesbians</td>\n",
              "    </tr>\n",
              "    <tr>\n",
              "      <th>3</th>\n",
              "      <td>54321</td>\n",
              "      <td>img/54321.png</td>\n",
              "      <td>laughs in [majority of u.s crime rate]</td>\n",
              "    </tr>\n",
              "    <tr>\n",
              "      <th>4</th>\n",
              "      <td>97015</td>\n",
              "      <td>img/97015.png</td>\n",
              "      <td>finds out those 72 virgins.. are goats</td>\n",
              "    </tr>\n",
              "  </tbody>\n",
              "</table>\n",
              "</div>"
            ]
          },
          "metadata": {
            "tags": []
          },
          "execution_count": 20
        }
      ]
    },
    {
      "cell_type": "code",
      "metadata": {
        "execution": {
          "iopub.status.busy": "2021-07-09T12:51:45.561777Z",
          "iopub.execute_input": "2021-07-09T12:51:45.562100Z",
          "iopub.status.idle": "2021-07-09T12:51:45.594532Z",
          "shell.execute_reply.started": "2021-07-09T12:51:45.562070Z",
          "shell.execute_reply": "2021-07-09T12:51:45.593546Z"
        },
        "trusted": true,
        "id": "IJCD6JZ9hgTx",
        "outputId": "14f16189-d582-47d9-fc81-196915c6f921"
      },
      "source": [
        "valid = pd.read_json(testLabel_path, lines=True)\n",
        "valid.head()"
      ],
      "execution_count": null,
      "outputs": [
        {
          "output_type": "execute_result",
          "data": {
            "text/plain": [
              "      id            img  label                                         text\n",
              "0  16395  img/16395.png      1                     handjobs sold seperately\n",
              "1  37405  img/37405.png      1         introducing fidget spinner for women\n",
              "2  94180  img/94180.png      1  happy pride month let's go beat up lesbians\n",
              "3  54321  img/54321.png      1       laughs in [majority of u.s crime rate]\n",
              "4  97015  img/97015.png      1       finds out those 72 virgins.. are goats"
            ],
            "text/html": [
              "<div>\n",
              "<style scoped>\n",
              "    .dataframe tbody tr th:only-of-type {\n",
              "        vertical-align: middle;\n",
              "    }\n",
              "\n",
              "    .dataframe tbody tr th {\n",
              "        vertical-align: top;\n",
              "    }\n",
              "\n",
              "    .dataframe thead th {\n",
              "        text-align: right;\n",
              "    }\n",
              "</style>\n",
              "<table border=\"1\" class=\"dataframe\">\n",
              "  <thead>\n",
              "    <tr style=\"text-align: right;\">\n",
              "      <th></th>\n",
              "      <th>id</th>\n",
              "      <th>img</th>\n",
              "      <th>label</th>\n",
              "      <th>text</th>\n",
              "    </tr>\n",
              "  </thead>\n",
              "  <tbody>\n",
              "    <tr>\n",
              "      <th>0</th>\n",
              "      <td>16395</td>\n",
              "      <td>img/16395.png</td>\n",
              "      <td>1</td>\n",
              "      <td>handjobs sold seperately</td>\n",
              "    </tr>\n",
              "    <tr>\n",
              "      <th>1</th>\n",
              "      <td>37405</td>\n",
              "      <td>img/37405.png</td>\n",
              "      <td>1</td>\n",
              "      <td>introducing fidget spinner for women</td>\n",
              "    </tr>\n",
              "    <tr>\n",
              "      <th>2</th>\n",
              "      <td>94180</td>\n",
              "      <td>img/94180.png</td>\n",
              "      <td>1</td>\n",
              "      <td>happy pride month let's go beat up lesbians</td>\n",
              "    </tr>\n",
              "    <tr>\n",
              "      <th>3</th>\n",
              "      <td>54321</td>\n",
              "      <td>img/54321.png</td>\n",
              "      <td>1</td>\n",
              "      <td>laughs in [majority of u.s crime rate]</td>\n",
              "    </tr>\n",
              "    <tr>\n",
              "      <th>4</th>\n",
              "      <td>97015</td>\n",
              "      <td>img/97015.png</td>\n",
              "      <td>1</td>\n",
              "      <td>finds out those 72 virgins.. are goats</td>\n",
              "    </tr>\n",
              "  </tbody>\n",
              "</table>\n",
              "</div>"
            ]
          },
          "metadata": {
            "tags": []
          },
          "execution_count": 21
        }
      ]
    },
    {
      "cell_type": "markdown",
      "metadata": {
        "id": "j1C14vuKhgTy"
      },
      "source": [
        " Let's extract the images :"
      ]
    },
    {
      "cell_type": "code",
      "metadata": {
        "execution": {
          "iopub.status.busy": "2021-07-09T12:52:03.846331Z",
          "iopub.execute_input": "2021-07-09T12:52:03.846734Z",
          "iopub.status.idle": "2021-07-09T12:52:03.851981Z",
          "shell.execute_reply.started": "2021-07-09T12:52:03.846697Z",
          "shell.execute_reply": "2021-07-09T12:52:03.850842Z"
        },
        "trusted": true,
        "id": "e7Yj06H8hgTy"
      },
      "source": [
        "if not (data_dir / \"img\").exists():\n",
        "    with tarfile.open(img_tar_path) as tf:\n",
        "        tf.extractall(data_dir)"
      ],
      "execution_count": null,
      "outputs": []
    },
    {
      "cell_type": "markdown",
      "metadata": {
        "id": "InmixFIChgTz"
      },
      "source": [
        "Visualise the train json file :"
      ]
    },
    {
      "cell_type": "code",
      "metadata": {
        "execution": {
          "iopub.status.busy": "2021-07-09T12:52:06.888781Z",
          "iopub.execute_input": "2021-07-09T12:52:06.889244Z",
          "iopub.status.idle": "2021-07-09T12:52:07.002116Z",
          "shell.execute_reply.started": "2021-07-09T12:52:06.889199Z",
          "shell.execute_reply": "2021-07-09T12:52:07.001366Z"
        },
        "trusted": true,
        "id": "S1nuUI7ZhgTz",
        "outputId": "13500a1b-4980-4abf-c517-e6c80251b7c3"
      },
      "source": [
        "train_samples_frame = pd.read_json(train_path, lines=True)\n",
        "train_samples_frame.head()"
      ],
      "execution_count": null,
      "outputs": [
        {
          "output_type": "execute_result",
          "data": {
            "text/plain": [
              "      id            img  label  \\\n",
              "0  42953  img/42953.png      0   \n",
              "1  23058  img/23058.png      0   \n",
              "2  13894  img/13894.png      0   \n",
              "3  37408  img/37408.png      0   \n",
              "4  82403  img/82403.png      0   \n",
              "\n",
              "                                                text  \n",
              "0   its their character not their color that matters  \n",
              "1  don't be afraid to love again everyone is not ...  \n",
              "2                           putting bows on your pet  \n",
              "3  i love everything and everybody! except for sq...  \n",
              "4  everybody loves chocolate chip cookies, even h...  "
            ],
            "text/html": [
              "<div>\n",
              "<style scoped>\n",
              "    .dataframe tbody tr th:only-of-type {\n",
              "        vertical-align: middle;\n",
              "    }\n",
              "\n",
              "    .dataframe tbody tr th {\n",
              "        vertical-align: top;\n",
              "    }\n",
              "\n",
              "    .dataframe thead th {\n",
              "        text-align: right;\n",
              "    }\n",
              "</style>\n",
              "<table border=\"1\" class=\"dataframe\">\n",
              "  <thead>\n",
              "    <tr style=\"text-align: right;\">\n",
              "      <th></th>\n",
              "      <th>id</th>\n",
              "      <th>img</th>\n",
              "      <th>label</th>\n",
              "      <th>text</th>\n",
              "    </tr>\n",
              "  </thead>\n",
              "  <tbody>\n",
              "    <tr>\n",
              "      <th>0</th>\n",
              "      <td>42953</td>\n",
              "      <td>img/42953.png</td>\n",
              "      <td>0</td>\n",
              "      <td>its their character not their color that matters</td>\n",
              "    </tr>\n",
              "    <tr>\n",
              "      <th>1</th>\n",
              "      <td>23058</td>\n",
              "      <td>img/23058.png</td>\n",
              "      <td>0</td>\n",
              "      <td>don't be afraid to love again everyone is not ...</td>\n",
              "    </tr>\n",
              "    <tr>\n",
              "      <th>2</th>\n",
              "      <td>13894</td>\n",
              "      <td>img/13894.png</td>\n",
              "      <td>0</td>\n",
              "      <td>putting bows on your pet</td>\n",
              "    </tr>\n",
              "    <tr>\n",
              "      <th>3</th>\n",
              "      <td>37408</td>\n",
              "      <td>img/37408.png</td>\n",
              "      <td>0</td>\n",
              "      <td>i love everything and everybody! except for sq...</td>\n",
              "    </tr>\n",
              "    <tr>\n",
              "      <th>4</th>\n",
              "      <td>82403</td>\n",
              "      <td>img/82403.png</td>\n",
              "      <td>0</td>\n",
              "      <td>everybody loves chocolate chip cookies, even h...</td>\n",
              "    </tr>\n",
              "  </tbody>\n",
              "</table>\n",
              "</div>"
            ]
          },
          "metadata": {
            "tags": []
          },
          "execution_count": 25
        }
      ]
    },
    {
      "cell_type": "markdown",
      "metadata": {
        "id": "TA4NGEgphgTz"
      },
      "source": [
        "The classes are not balanced:"
      ]
    },
    {
      "cell_type": "code",
      "metadata": {
        "execution": {
          "iopub.status.busy": "2021-07-09T12:52:11.358046Z",
          "iopub.execute_input": "2021-07-09T12:52:11.358391Z",
          "iopub.status.idle": "2021-07-09T12:52:11.370218Z",
          "shell.execute_reply.started": "2021-07-09T12:52:11.358359Z",
          "shell.execute_reply": "2021-07-09T12:52:11.369167Z"
        },
        "trusted": true,
        "id": "-adU3LxjhgT0",
        "outputId": "f39b0d42-2330-4589-ccc5-2cf00f5bf9be"
      },
      "source": [
        "train_samples_frame.label.value_counts()"
      ],
      "execution_count": null,
      "outputs": [
        {
          "output_type": "execute_result",
          "data": {
            "text/plain": [
              "0    5481\n",
              "1    3019\n",
              "Name: label, dtype: int64"
            ]
          },
          "metadata": {
            "tags": []
          },
          "execution_count": 26
        }
      ]
    },
    {
      "cell_type": "markdown",
      "metadata": {
        "id": "E4Caq2SThgT1"
      },
      "source": [
        "Number of words in Meme text : "
      ]
    },
    {
      "cell_type": "code",
      "metadata": {
        "execution": {
          "iopub.status.busy": "2021-07-09T12:52:13.952916Z",
          "iopub.execute_input": "2021-07-09T12:52:13.953408Z",
          "iopub.status.idle": "2021-07-09T12:52:13.977659Z",
          "shell.execute_reply.started": "2021-07-09T12:52:13.953371Z",
          "shell.execute_reply": "2021-07-09T12:52:13.976556Z"
        },
        "trusted": true,
        "id": "x7_gldC1hgT1",
        "outputId": "c438f218-cdb5-427a-ba82-29a4a2d3ea5f"
      },
      "source": [
        "train_samples_frame.text.map(\n",
        "    lambda text: len(text.split(\" \"))\n",
        ").describe()"
      ],
      "execution_count": null,
      "outputs": [
        {
          "output_type": "execute_result",
          "data": {
            "text/plain": [
              "count    8500.000000\n",
              "mean       11.748706\n",
              "std         6.877880\n",
              "min         1.000000\n",
              "25%         7.000000\n",
              "50%        10.000000\n",
              "75%        15.000000\n",
              "max        70.000000\n",
              "Name: text, dtype: float64"
            ]
          },
          "metadata": {
            "tags": []
          },
          "execution_count": 27
        }
      ]
    },
    {
      "cell_type": "markdown",
      "metadata": {
        "id": "JlROGwvahgT1"
      },
      "source": [
        "# Explore data"
      ]
    },
    {
      "cell_type": "code",
      "metadata": {
        "execution": {
          "iopub.status.busy": "2021-07-09T12:52:16.434865Z",
          "iopub.execute_input": "2021-07-09T12:52:16.435233Z",
          "iopub.status.idle": "2021-07-09T12:52:16.438756Z",
          "shell.execute_reply.started": "2021-07-09T12:52:16.435199Z",
          "shell.execute_reply": "2021-07-09T12:52:16.437848Z"
        },
        "trusted": true,
        "id": "fy0qZUiIhgT2"
      },
      "source": [
        "from PIL import Image"
      ],
      "execution_count": null,
      "outputs": []
    },
    {
      "cell_type": "markdown",
      "metadata": {
        "id": "MBHYzGALhgT3"
      },
      "source": [
        "Resize and visualise Memes images with Pillow and TorchVision :"
      ]
    },
    {
      "cell_type": "code",
      "metadata": {
        "execution": {
          "iopub.status.busy": "2021-07-09T12:52:18.476121Z",
          "iopub.execute_input": "2021-07-09T12:52:18.476499Z",
          "iopub.status.idle": "2021-07-09T12:52:18.662223Z",
          "shell.execute_reply.started": "2021-07-09T12:52:18.476466Z",
          "shell.execute_reply": "2021-07-09T12:52:18.661314Z"
        },
        "trusted": true,
        "id": "ix7rLUPvhgT3",
        "outputId": "f8e3619f-d82e-49e8-8550-194a7c84c4d1"
      },
      "source": [
        "images = [\n",
        "    Image.open(\n",
        "        data_dir / train_samples_frame.loc[i, \"img\"]\n",
        "    ).convert(\"RGB\")\n",
        "    for i in range(5)\n",
        "]\n",
        "\n",
        "for image in images:\n",
        "    print(image.size)"
      ],
      "execution_count": null,
      "outputs": [
        {
          "output_type": "stream",
          "text": [
            "(265, 400)\n",
            "(800, 533)\n",
            "(558, 800)\n",
            "(693, 800)\n",
            "(550, 416)\n"
          ],
          "name": "stdout"
        }
      ]
    },
    {
      "cell_type": "code",
      "metadata": {
        "execution": {
          "iopub.status.busy": "2021-07-09T12:52:21.685193Z",
          "iopub.execute_input": "2021-07-09T12:52:21.685537Z",
          "iopub.status.idle": "2021-07-09T12:52:22.016958Z",
          "shell.execute_reply.started": "2021-07-09T12:52:21.685506Z",
          "shell.execute_reply": "2021-07-09T12:52:22.016015Z"
        },
        "trusted": true,
        "id": "MnoozSnahgT4",
        "outputId": "e7f9cde7-3f16-49a7-ad3b-69c6c92b94db"
      },
      "source": [
        "# define a callable image_transform with Compose\n",
        "image_transform = torchvision.transforms.Compose(\n",
        "    [\n",
        "        torchvision.transforms.Resize(size=(224, 224)),\n",
        "        torchvision.transforms.ToTensor()\n",
        "    ]\n",
        ")\n",
        "\n",
        "# convert the images and prepare for visualization.\n",
        "tensor_img = torch.stack(\n",
        "    [image_transform(image) for image in images]\n",
        ")\n",
        "grid = torchvision.utils.make_grid(tensor_img)\n",
        "\n",
        "# plot\n",
        "plt.rcParams[\"figure.figsize\"] = (20, 5)\n",
        "plt.axis('off')\n",
        "_ = plt.imshow(grid.permute(1, 2, 0))"
      ],
      "execution_count": null,
      "outputs": [
        {
          "output_type": "display_data",
          "data": {
            "text/plain": [
              "<Figure size 1440x360 with 1 Axes>"
            ],
            "image/png": "[encoded data removed]"
          },
          "metadata": {
            "tags": [],
            "needs_background": "light"
          }
        }
      ]
    },
    {
      "cell_type": "markdown",
      "metadata": {
        "id": "YqdVZ55jhgT6"
      },
      "source": [
        "# BUILDING A MULTIMODAL MODEL"
      ]
    },
    {
      "cell_type": "markdown",
      "metadata": {
        "id": "D5rzc1tYhgT8"
      },
      "source": [
        "> # Preprocessing the Multimodal Dataset"
      ]
    },
    {
      "cell_type": "code",
      "metadata": {
        "execution": {
          "iopub.status.busy": "2021-07-09T12:52:26.336461Z",
          "iopub.execute_input": "2021-07-09T12:52:26.336785Z",
          "iopub.status.idle": "2021-07-09T12:52:26.352058Z",
          "shell.execute_reply.started": "2021-07-09T12:52:26.336755Z",
          "shell.execute_reply": "2021-07-09T12:52:26.350990Z"
        },
        "trusted": true,
        "id": "1WR1lTDYhgT-"
      },
      "source": [
        "class HatefulMemesDataset(torch.utils.data.Dataset):\n",
        "    \"\"\"Uses jsonl data to preprocess and serve \n",
        "    dictionary of multimodal tensors for model input.\n",
        "    \"\"\"\n",
        "\n",
        "    def __init__(\n",
        "        self,\n",
        "        data_path,\n",
        "        img_dir,\n",
        "        image_transform,\n",
        "        text_transform,\n",
        "        balance=False,\n",
        "        dev_limit=None,\n",
        "        random_state=0,\n",
        "    ):\n",
        "\n",
        "        self.samples_frame = pd.read_json(\n",
        "            data_path, lines=True\n",
        "        )\n",
        "        self.dev_limit = dev_limit\n",
        "        if balance:\n",
        "            neg = self.samples_frame[\n",
        "                self.samples_frame.label.eq(0)\n",
        "            ]\n",
        "            pos = self.samples_frame[\n",
        "                self.samples_frame.label.eq(1)\n",
        "            ]\n",
        "            self.samples_frame = pd.concat(\n",
        "                [\n",
        "                    neg.sample(\n",
        "                        pos.shape[0], \n",
        "                        random_state=random_state\n",
        "                    ), \n",
        "                    pos\n",
        "                ]\n",
        "            )\n",
        "        if self.dev_limit:\n",
        "            if self.samples_frame.shape[0] > self.dev_limit:\n",
        "                self.samples_frame = self.samples_frame.sample(\n",
        "                    dev_limit, random_state=random_state\n",
        "                )\n",
        "        self.samples_frame = self.samples_frame.reset_index(\n",
        "            drop=True\n",
        "        )\n",
        "        self.samples_frame.img = self.samples_frame.apply(\n",
        "            lambda row: (img_dir / row.img), axis=1\n",
        "        )\n",
        "\n",
        "        if not self.samples_frame.img.path.exists().all():\n",
        "            raise FileNotFoundError\n",
        "        if not self.samples_frame.img.path.is_file().all():\n",
        "            raise TypeError\n",
        "            \n",
        "        self.image_transform = image_transform\n",
        "        self.text_transform = text_transform\n",
        "\n",
        "    def __len__(self):\n",
        "        \"\"\"This method is called when you do len(instance) \n",
        "        for an instance of this class.\n",
        "        \"\"\"\n",
        "        return len(self.samples_frame)\n",
        "\n",
        "    def __getitem__(self, idx):\n",
        "        \"\"\"This method is called when you do instance[key] \n",
        "        for an instance of this class.\n",
        "        \"\"\"\n",
        "        if torch.is_tensor(idx):\n",
        "            idx = idx.tolist()\n",
        "\n",
        "        img_id = self.samples_frame.loc[idx, \"id\"]\n",
        "\n",
        "        image = Image.open(\n",
        "            self.samples_frame.loc[idx, \"img\"]\n",
        "        ).convert(\"RGB\")\n",
        "        image = self.image_transform(image)\n",
        "\n",
        "        text = torch.Tensor(\n",
        "            self.text_transform.get_sentence_vector(\n",
        "                self.samples_frame.loc[idx, \"text\"]\n",
        "            )\n",
        "        ).squeeze()\n",
        "\n",
        "        if \"label\" in self.samples_frame.columns:\n",
        "            label = torch.Tensor(\n",
        "                [self.samples_frame.loc[idx, \"label\"]]\n",
        "            ).long().squeeze()\n",
        "            sample = {\n",
        "                \"id\": img_id, \n",
        "                \"image\": image, \n",
        "                \"text\": text, \n",
        "                \"label\": label\n",
        "            }\n",
        "        else:\n",
        "            sample = {\n",
        "                \"id\": img_id, \n",
        "                \"image\": image, \n",
        "                \"text\": text\n",
        "            }\n",
        "\n",
        "        return sample"
      ],
      "execution_count": null,
      "outputs": []
    },
    {
      "cell_type": "markdown",
      "metadata": {
        "id": "cdXOcXPPhgT_"
      },
      "source": [
        "# CREATING A MULTIMODAL MODEL"
      ]
    },
    {
      "cell_type": "code",
      "metadata": {
        "execution": {
          "iopub.status.busy": "2021-07-09T12:52:31.920822Z",
          "iopub.execute_input": "2021-07-09T12:52:31.921183Z",
          "iopub.status.idle": "2021-07-09T12:52:31.930183Z",
          "shell.execute_reply.started": "2021-07-09T12:52:31.921127Z",
          "shell.execute_reply": "2021-07-09T12:52:31.929262Z"
        },
        "trusted": true,
        "id": "IuD2vX4DhgUA"
      },
      "source": [
        "class LanguageAndVisionConcat(torch.nn.Module):\n",
        "    def __init__(\n",
        "        self,\n",
        "        num_classes,\n",
        "        loss_fn,\n",
        "        language_module,\n",
        "        vision_module,\n",
        "        language_feature_dim,\n",
        "        vision_feature_dim,\n",
        "        fusion_output_size,\n",
        "        dropout_p,\n",
        "        \n",
        "    ):\n",
        "        super(LanguageAndVisionConcat, self).__init__()\n",
        "        self.language_module = language_module\n",
        "        self.vision_module = vision_module\n",
        "        self.fusion = torch.nn.Linear(\n",
        "            in_features=(language_feature_dim + vision_feature_dim), \n",
        "            out_features=fusion_output_size\n",
        "        )\n",
        "        self.fc = torch.nn.Linear(\n",
        "            in_features=fusion_output_size, \n",
        "            out_features=num_classes\n",
        "        )\n",
        "        self.loss_fn = loss_fn\n",
        "        self.dropout = torch.nn.Dropout(dropout_p)\n",
        "        \n",
        "    def forward(self, text, image, label=None):\n",
        "        text_features = torch.nn.functional.relu(\n",
        "            self.language_module(text)\n",
        "        )\n",
        "        image_features = torch.nn.functional.relu(\n",
        "            self.vision_module(image)\n",
        "        )\n",
        "        combined = torch.cat(\n",
        "            [text_features, image_features], dim=1\n",
        "        )\n",
        "        fused = self.dropout(\n",
        "            torch.nn.functional.relu(\n",
        "            self.fusion(combined)\n",
        "            )\n",
        "        )\n",
        "        logits = self.fc(fused)\n",
        "        pred = torch.nn.functional.softmax(logits)\n",
        "        loss = (\n",
        "            self.loss_fn(pred, label) \n",
        "            if label is not None else label\n",
        "        )\n",
        "        return (pred, loss)"
      ],
      "execution_count": null,
      "outputs": []
    },
    {
      "cell_type": "markdown",
      "metadata": {
        "id": "JGw6AgHmhgUA"
      },
      "source": [
        "TRAINING THE MULTIMODAL MODEL"
      ]
    },
    {
      "cell_type": "code",
      "metadata": {
        "execution": {
          "iopub.status.busy": "2021-07-09T12:52:35.335807Z",
          "iopub.execute_input": "2021-07-09T12:52:35.336192Z",
          "iopub.status.idle": "2021-07-09T12:52:35.341192Z",
          "shell.execute_reply.started": "2021-07-09T12:52:35.336131Z",
          "shell.execute_reply": "2021-07-09T12:52:35.340106Z"
        },
        "trusted": true,
        "id": "u1XkxE7DhgUA",
        "outputId": "9511262a-4b38-443e-a526-a52b6ac470a5"
      },
      "source": [
        "import torch\n",
        "print(torch.__version__)"
      ],
      "execution_count": null,
      "outputs": [
        {
          "output_type": "stream",
          "text": [
            "1.7.0\n"
          ],
          "name": "stdout"
        }
      ]
    },
    {
      "cell_type": "code",
      "metadata": {
        "execution": {
          "iopub.status.busy": "2021-07-09T12:52:38.229600Z",
          "iopub.execute_input": "2021-07-09T12:52:38.229934Z",
          "iopub.status.idle": "2021-07-09T12:52:38.266171Z",
          "shell.execute_reply.started": "2021-07-09T12:52:38.229903Z",
          "shell.execute_reply": "2021-07-09T12:52:38.265146Z"
        },
        "trusted": true,
        "id": "XZKcuJszhgUC"
      },
      "source": [
        "# for the purposes of this post, we'll filter\n",
        "# much of the lovely logging info from our LightningModule\n",
        "warnings.filterwarnings(\"ignore\")\n",
        "logging.getLogger().setLevel(logging.WARNING)\n",
        "\n",
        "\n",
        "class HatefulMemesModel(pl.LightningModule):\n",
        "    def __init__(self, hparams):\n",
        "        for data_key in [\"train_path\", \"dev_path\", \"img_dir\",]:\n",
        "            # ok, there's one for-loop but it doesn't count\n",
        "            if data_key not in hparams.keys():\n",
        "                raise KeyError(\n",
        "                    f\"{data_key} is a required hparam in this model\"\n",
        "                )\n",
        "        \n",
        "        super(HatefulMemesModel, self).__init__()\n",
        "        self.hparams = hparams\n",
        "        \n",
        "        # assign some hparams that get used in multiple places\n",
        "        self.embedding_dim = self.hparams.get(\"embedding_dim\", 300)\n",
        "        self.language_feature_dim = self.hparams.get(\n",
        "            \"language_feature_dim\", 300\n",
        "        )\n",
        "        self.vision_feature_dim = self.hparams.get(\n",
        "            # balance language and vision features by default\n",
        "            \"vision_feature_dim\", self.language_feature_dim\n",
        "        )\n",
        "        self.output_path = Path(\n",
        "            self.hparams.get(\"output_path\", \"model-outputs\")\n",
        "        )\n",
        "        self.output_path.mkdir(exist_ok=True)\n",
        "        \n",
        "        # instantiate transforms, datasets\n",
        "        self.text_transform = self._build_text_transform()\n",
        "        self.image_transform = self._build_image_transform()\n",
        "        self.train_dataset = self._build_dataset(\"train_path\")\n",
        "        self.dev_dataset = self._build_dataset(\"dev_path\")\n",
        "        \n",
        "        # set up model and training\n",
        "        self.model = self._build_model()\n",
        "        self.trainer_params = self._get_trainer_params()\n",
        "    \n",
        "    ## Required LightningModule Methods (when validating) ##\n",
        "    \n",
        "    def forward(self, text, image, label=None):\n",
        "        return self.model(text, image, label)\n",
        "\n",
        "    def training_step(self, batch, batch_nb):\n",
        "        preds, loss = self.forward(\n",
        "            text=batch[\"text\"], \n",
        "            image=batch[\"image\"], \n",
        "            label=batch[\"label\"]\n",
        "        )\n",
        "        \n",
        "        return {\"loss\": loss}\n",
        "\n",
        "    def validation_step(self, batch, batch_nb):\n",
        "        preds, loss = self.eval().forward(\n",
        "            text=batch[\"text\"], \n",
        "            image=batch[\"image\"], \n",
        "            label=batch[\"label\"]\n",
        "        )\n",
        "        \n",
        "        return {\"batch_val_loss\": loss}\n",
        "\n",
        "    def validation_epoch_end(self, outputs):\n",
        "        avg_loss = torch.stack(\n",
        "            tuple(\n",
        "                output[\"batch_val_loss\"] \n",
        "                for output in outputs\n",
        "            )\n",
        "        ).mean()\n",
        "        \n",
        "        return {\n",
        "            \"val_loss\": avg_loss,\n",
        "            \"progress_bar\":{\"avg_val_loss\": avg_loss}\n",
        "        }\n",
        "\n",
        "    def configure_optimizers(self):\n",
        "        optimizers = [\n",
        "            torch.optim.AdamW(\n",
        "                self.model.parameters(), \n",
        "                lr=self.hparams.get(\"lr\", 0.001)\n",
        "            )\n",
        "        ]\n",
        "        return optimizers\n",
        "    \n",
        "    def train_dataloader(self):\n",
        "        return torch.utils.data.DataLoader(\n",
        "            self.train_dataset, \n",
        "            shuffle=True, \n",
        "            batch_size=self.hparams.get(\"batch_size\", 4), \n",
        "            num_workers=self.hparams.get(\"num_workers\", 16)\n",
        "        )\n",
        "\n",
        "    def val_dataloader(self):\n",
        "        return torch.utils.data.DataLoader(\n",
        "            self.dev_dataset, \n",
        "            shuffle=False, \n",
        "            batch_size=self.hparams.get(\"batch_size\", 4), \n",
        "            num_workers=self.hparams.get(\"num_workers\", 16)\n",
        "        )\n",
        "    \n",
        "    ## Convenience Methods ##\n",
        "    \n",
        "    def fit(self):\n",
        "        self._set_seed(self.hparams.get(\"random_state\", 42))\n",
        "        self.trainer = pl.Trainer(**self.trainer_params)\n",
        "        self.trainer.fit(self)\n",
        "        \n",
        "    def _set_seed(self, seed):\n",
        "        random.seed(seed)\n",
        "        np.random.seed(seed)\n",
        "        torch.manual_seed(seed)\n",
        "        if torch.cuda.is_available():\n",
        "            torch.cuda.manual_seed_all(seed)\n",
        "\n",
        "    def _build_text_transform(self):\n",
        "        with tempfile.NamedTemporaryFile() as ft_training_data:\n",
        "            ft_path = Path(ft_training_data.name)\n",
        "            with ft_path.open(\"w\") as ft:\n",
        "                training_data = [\n",
        "                    json.loads(line)[\"text\"] + \"/n\" \n",
        "                    for line in open(\n",
        "                        self.hparams.get(\"train_path\")\n",
        "                    ).read().splitlines()\n",
        "                ]\n",
        "                for line in training_data:\n",
        "                    ft.write(line + \"\\n\")\n",
        "                language_transform = fasttext.train_unsupervised(\n",
        "                    str(ft_path),\n",
        "                    model=self.hparams.get(\"fasttext_model\", \"cbow\"),\n",
        "                    dim=self.embedding_dim\n",
        "                    \n",
        "                    \n",
        "                )\n",
        "        return language_transform\n",
        "    \n",
        "    def _build_image_transform(self):\n",
        "        image_dim = self.hparams.get(\"image_dim\", 224)\n",
        "        image_transform = torchvision.transforms.Compose(\n",
        "            [\n",
        "                torchvision.transforms.Resize(\n",
        "                    size=(image_dim, image_dim)\n",
        "                ),        \n",
        "                torchvision.transforms.ToTensor(),\n",
        "                torchvision.transforms.Normalize(\n",
        "                    mean=(0.485, 0.456, 0.406), \n",
        "                    std=(0.229, 0.224, 0.225)\n",
        "                ),\n",
        "            ]\n",
        "        )\n",
        "        return image_transform\n",
        "\n",
        "    def _build_dataset(self, dataset_key):\n",
        "        return HatefulMemesDataset(\n",
        "            data_path=self.hparams.get(dataset_key, dataset_key),\n",
        "            img_dir=self.hparams.get(\"img_dir\"),\n",
        "            image_transform=self.image_transform,\n",
        "            text_transform=self.text_transform,\n",
        "            # limit training samples only\n",
        "            dev_limit=(\n",
        "                self.hparams.get(\"dev_limit\", None) \n",
        "                if \"train\" in str(dataset_key) else None\n",
        "            ),\n",
        "            balance=True if \"train\" in str(dataset_key) else False,\n",
        "        )\n",
        "    \n",
        "    def _build_model(self):\n",
        "        # we're going to pass the outputs of our text\n",
        "        # transform through an additional trainable layer\n",
        "        # rather than fine-tuning the transform\n",
        "        language_module = torch.nn.Linear(\n",
        "                in_features=self.embedding_dim,\n",
        "                out_features=self.language_feature_dim\n",
        "        )\n",
        "        \n",
        "        # easiest way to get features rather than\n",
        "        # classification is to overwrite last layer\n",
        "        # with an identity transformation, we'll reduce\n",
        "        # dimension using a Linear layer, resnet is 2048 out\n",
        "        vision_module = torchvision.models.resnet152(\n",
        "            pretrained=True\n",
        "        )\n",
        "        vision_module.fc = torch.nn.Linear(\n",
        "                in_features=2048,\n",
        "                out_features=self.vision_feature_dim\n",
        "        )\n",
        "\n",
        "        return LanguageAndVisionConcat(\n",
        "            num_classes=self.hparams.get(\"num_classes\", 2),\n",
        "            loss_fn=torch.nn.CrossEntropyLoss(),\n",
        "            language_module=language_module,\n",
        "            vision_module=vision_module,\n",
        "            language_feature_dim=self.language_feature_dim,\n",
        "            vision_feature_dim=self.vision_feature_dim,\n",
        "            fusion_output_size=self.hparams.get(\n",
        "                \"fusion_output_size\", 512\n",
        "            ),\n",
        "            dropout_p=self.hparams.get(\"dropout_p\", 0.1),\n",
        "        )\n",
        "    \n",
        "    def _get_trainer_params(self):\n",
        "        checkpoint_callback = pl.callbacks.ModelCheckpoint(\n",
        "            dirpath=self.output_path,\n",
        "            monitor=self.hparams.get(\n",
        "                \"checkpoint_monitor\", \"avg_val_loss\"\n",
        "            ),\n",
        "            mode=self.hparams.get(\n",
        "                \"checkpoint_monitor_mode\", \"min\"\n",
        "            ),\n",
        "            verbose=self.hparams.get(\"verbose\", True)\n",
        "        )\n",
        "\n",
        "        early_stop_callback = pl.callbacks.EarlyStopping(\n",
        "            monitor=self.hparams.get(\n",
        "                \"early_stop_monitor\", \"avg_val_loss\"\n",
        "            ),\n",
        "            min_delta=self.hparams.get(\n",
        "                \"early_stop_min_delta\", 0.001\n",
        "            ),\n",
        "            patience=self.hparams.get(\n",
        "                \"early_stop_patience\", 3\n",
        "            ),\n",
        "            verbose=self.hparams.get(\"verbose\", True),\n",
        "        )\n",
        "\n",
        "        trainer_params = {\n",
        "            \"checkpoint_callback\": checkpoint_callback,\n",
        "            \"default_root_dir\": self.output_path,\n",
        "            \"accumulate_grad_batches\": self.hparams.get(\n",
        "                \"accumulate_grad_batches\", 1\n",
        "            ),\n",
        "            \"gpus\": self.hparams.get(\"n_gpu\", 1),\n",
        "            \"max_epochs\": self.hparams.get(\"max_epochs\", 100),\n",
        "            \"gradient_clip_val\": self.hparams.get(\n",
        "                \"gradient_clip_value\", 1\n",
        "            ),\n",
        "        }\n",
        "        return trainer_params\n",
        "            \n",
        "    @torch.no_grad()\n",
        "    def make_submission_frame(self, test_path):\n",
        "        test_dataset = self._build_dataset(test_path)\n",
        "        submission_frame = pd.DataFrame(\n",
        "            index=test_dataset.samples_frame.id,\n",
        "            columns=[\"proba\", \"label\"]\n",
        "        )\n",
        "        test_dataloader = torch.utils.data.DataLoader(\n",
        "            test_dataset, \n",
        "            shuffle=False, \n",
        "            batch_size=self.hparams.get(\"batch_size\", 4), \n",
        "            num_workers=self.hparams.get(\"num_workers\", 16))\n",
        "        for batch in tqdm(test_dataloader, total=len(test_dataloader)):\n",
        "            preds, _ = self.model.eval().to(\"cpu\")(\n",
        "                batch[\"text\"], batch[\"image\"]\n",
        "            )\n",
        "            submission_frame.loc[batch[\"id\"], \"proba\"] = preds[:, 1]\n",
        "            submission_frame.loc[batch[\"id\"], \"label\"] = preds.argmax(dim=1)\n",
        "        submission_frame.proba = submission_frame.proba.astype(float)\n",
        "        submission_frame.label = submission_frame.label.astype(int)\n",
        "        return submission_frame"
      ],
      "execution_count": null,
      "outputs": []
    },
    {
      "cell_type": "code",
      "metadata": {
        "execution": {
          "iopub.status.busy": "2021-07-09T12:52:49.153002Z",
          "iopub.execute_input": "2021-07-09T12:52:49.153367Z",
          "iopub.status.idle": "2021-07-09T12:52:49.159007Z",
          "shell.execute_reply.started": "2021-07-09T12:52:49.153333Z",
          "shell.execute_reply": "2021-07-09T12:52:49.158086Z"
        },
        "trusted": true,
        "id": "azcyZJYMhgUD",
        "outputId": "60e6789b-7963-4c84-b142-084dc397e65e"
      },
      "source": [
        "print(\"[DataDir]: \", data_dir)\n",
        "print(\"[TrainDir]: \", train_path)\n",
        "print(\"[DevDir]: \", dev_path)"
      ],
      "execution_count": null,
      "outputs": [
        {
          "output_type": "stream",
          "text": [
            "[DataDir]:  /kaggle/input/hmdatasetnp/data\n",
            "[TrainDir]:  /kaggle/input/hmdatasetnp/data/train.jsonl\n",
            "[DevDir]:  /kaggle/input/hmdatasetnp/data/dev_seen.jsonl\n"
          ],
          "name": "stdout"
        }
      ]
    },
    {
      "cell_type": "markdown",
      "metadata": {
        "id": "72v-Byf5hgUE"
      },
      "source": [
        "# FIT THE MODEL"
      ]
    },
    {
      "cell_type": "code",
      "metadata": {
        "execution": {
          "iopub.status.busy": "2021-07-09T12:52:55.382307Z",
          "iopub.execute_input": "2021-07-09T12:52:55.382635Z",
          "iopub.status.idle": "2021-07-09T12:53:32.513352Z",
          "shell.execute_reply.started": "2021-07-09T12:52:55.382604Z",
          "shell.execute_reply": "2021-07-09T12:53:32.512486Z"
        },
        "trusted": true,
        "colab": {
          "referenced_widgets": [
            "bd86356114bb41ddb5b06444fb7a59d9"
          ]
        },
        "id": "Gpp9zYl3hgUF",
        "outputId": "f6ce81fe-f3cc-4b5f-a772-a9dbaf5f2eea"
      },
      "source": [
        "#past code\n",
        "\n",
        "hparams = {\n",
        "    \n",
        "    # Required hparams\n",
        "    \"train_path\": train_path,\n",
        "    \"dev_path\": dev_path,\n",
        "    \"img_dir\": data_dir,\n",
        "    \n",
        "    # Optional hparams\n",
        "    \"embedding_dim\": 150,\n",
        "    \"language_feature_dim\": 300,\n",
        "    \"vision_feature_dim\": 300,\n",
        "    \"fusion_output_size\": 256,\n",
        "    \"output_path\": \"model-outputs\",\n",
        "    \"dev_limit\": None,\n",
        "    \"lr\": 0.00005,\n",
        "    \"max_epochs\": 10,\n",
        "    \"n_gpu\": 1,\n",
        "    \"batch_size\": 4,\n",
        "    # allows us to \"simulate\" having larger batches \n",
        "    \"accumulate_grad_batches\": 16,\n",
        "    \"early_stop_patience\": 3,\n",
        "}\n",
        "\n",
        "hateful_memes_model = HatefulMemesModel(hparams=hparams)"
      ],
      "execution_count": null,
      "outputs": [
        {
          "output_type": "stream",
          "text": [
            "Downloading: \"https://download.pytorch.org/models/resnet152-b121ed2d.pth\" to /root/.cache/torch/hub/checkpoints/resnet152-b121ed2d.pth\n"
          ],
          "name": "stderr"
        },
        {
          "output_type": "display_data",
          "data": {
            "text/plain": [
              "  0%|          | 0.00/230M [00:00<?, ?B/s]"
            ],
            "application/vnd.jupyter.widget-view+json": {
              "version_major": 2,
              "version_minor": 0,
              "model_id": "bd86356114bb41ddb5b06444fb7a59d9"
            }
          },
          "metadata": {
            "tags": []
          }
        }
      ]
    },
    {
      "cell_type": "code",
      "metadata": {
        "execution": {
          "iopub.status.busy": "2021-07-09T12:53:38.094699Z",
          "iopub.execute_input": "2021-07-09T12:53:38.095088Z",
          "iopub.status.idle": "2021-07-09T13:45:33.854370Z",
          "shell.execute_reply.started": "2021-07-09T12:53:38.095053Z",
          "shell.execute_reply": "2021-07-09T13:45:33.853375Z"
        },
        "trusted": true,
        "colab": {
          "referenced_widgets": [
            "",
            "3b54631cab554dc89f21977a986fa51d"
          ]
        },
        "id": "pKMpvASnhgUF",
        "outputId": "425ec83d-de43-44d2-fafd-05c3f941a735"
      },
      "source": [
        "hateful_memes_model.fit()"
      ],
      "execution_count": null,
      "outputs": [
        {
          "output_type": "display_data",
          "data": {
            "text/plain": [
              "Validation sanity check: 0it [00:00, ?it/s]"
            ],
            "application/vnd.jupyter.widget-view+json": {
              "version_major": 2,
              "version_minor": 0,
              "model_id": ""
            }
          },
          "metadata": {
            "tags": []
          }
        },
        {
          "output_type": "display_data",
          "data": {
            "text/plain": [
              "Training: 0it [00:00, ?it/s]"
            ],
            "application/vnd.jupyter.widget-view+json": {
              "version_major": 2,
              "version_minor": 0,
              "model_id": "3b54631cab554dc89f21977a986fa51d"
            }
          },
          "metadata": {
            "tags": []
          }
        },
        {
          "output_type": "display_data",
          "data": {
            "text/plain": [
              "Validating: 0it [00:00, ?it/s]"
            ],
            "application/vnd.jupyter.widget-view+json": {
              "version_major": 2,
              "version_minor": 0,
              "model_id": ""
            }
          },
          "metadata": {
            "tags": []
          }
        },
        {
          "output_type": "display_data",
          "data": {
            "text/plain": [
              "Validating: 0it [00:00, ?it/s]"
            ],
            "application/vnd.jupyter.widget-view+json": {
              "version_major": 2,
              "version_minor": 0,
              "model_id": ""
            }
          },
          "metadata": {
            "tags": []
          }
        },
        {
          "output_type": "display_data",
          "data": {
            "text/plain": [
              "Validating: 0it [00:00, ?it/s]"
            ],
            "application/vnd.jupyter.widget-view+json": {
              "version_major": 2,
              "version_minor": 0,
              "model_id": ""
            }
          },
          "metadata": {
            "tags": []
          }
        },
        {
          "output_type": "display_data",
          "data": {
            "text/plain": [
              "Validating: 0it [00:00, ?it/s]"
            ],
            "application/vnd.jupyter.widget-view+json": {
              "version_major": 2,
              "version_minor": 0,
              "model_id": ""
            }
          },
          "metadata": {
            "tags": []
          }
        },
        {
          "output_type": "display_data",
          "data": {
            "text/plain": [
              "Validating: 0it [00:00, ?it/s]"
            ],
            "application/vnd.jupyter.widget-view+json": {
              "version_major": 2,
              "version_minor": 0,
              "model_id": ""
            }
          },
          "metadata": {
            "tags": []
          }
        },
        {
          "output_type": "display_data",
          "data": {
            "text/plain": [
              "Validating: 0it [00:00, ?it/s]"
            ],
            "application/vnd.jupyter.widget-view+json": {
              "version_major": 2,
              "version_minor": 0,
              "model_id": ""
            }
          },
          "metadata": {
            "tags": []
          }
        },
        {
          "output_type": "display_data",
          "data": {
            "text/plain": [
              "Validating: 0it [00:00, ?it/s]"
            ],
            "application/vnd.jupyter.widget-view+json": {
              "version_major": 2,
              "version_minor": 0,
              "model_id": ""
            }
          },
          "metadata": {
            "tags": []
          }
        },
        {
          "output_type": "display_data",
          "data": {
            "text/plain": [
              "Validating: 0it [00:00, ?it/s]"
            ],
            "application/vnd.jupyter.widget-view+json": {
              "version_major": 2,
              "version_minor": 0,
              "model_id": ""
            }
          },
          "metadata": {
            "tags": []
          }
        },
        {
          "output_type": "display_data",
          "data": {
            "text/plain": [
              "Validating: 0it [00:00, ?it/s]"
            ],
            "application/vnd.jupyter.widget-view+json": {
              "version_major": 2,
              "version_minor": 0,
              "model_id": ""
            }
          },
          "metadata": {
            "tags": []
          }
        },
        {
          "output_type": "display_data",
          "data": {
            "text/plain": [
              "Validating: 0it [00:00, ?it/s]"
            ],
            "application/vnd.jupyter.widget-view+json": {
              "version_major": 2,
              "version_minor": 0,
              "model_id": ""
            }
          },
          "metadata": {
            "tags": []
          }
        }
      ]
    },
    {
      "cell_type": "code",
      "metadata": {
        "execution": {
          "iopub.status.busy": "2021-07-09T13:45:39.360663Z",
          "iopub.execute_input": "2021-07-09T13:45:39.361039Z",
          "iopub.status.idle": "2021-07-09T13:50:21.428900Z",
          "shell.execute_reply.started": "2021-07-09T13:45:39.360996Z",
          "shell.execute_reply": "2021-07-09T13:50:21.428045Z"
        },
        "trusted": true,
        "id": "IArD-vjQhgUF",
        "outputId": "62d83cc1-1675-4b86-b9f8-da9785b2d034"
      },
      "source": [
        "submission = hateful_memes_model.make_submission_frame(test_path)\n",
        "submission.head()"
      ],
      "execution_count": null,
      "outputs": [
        {
          "output_type": "stream",
          "text": [
            "100%|██████████| 250/250 [04:38<00:00,  1.11s/it]\n"
          ],
          "name": "stderr"
        },
        {
          "output_type": "execute_result",
          "data": {
            "text/plain": [
              "          proba  label\n",
              "id                    \n",
              "16395  0.949035      1\n",
              "37405  0.790196      1\n",
              "94180  0.689591      1\n",
              "54321  0.698236      1\n",
              "97015  0.993769      1"
            ],
            "text/html": [
              "<div>\n",
              "<style scoped>\n",
              "    .dataframe tbody tr th:only-of-type {\n",
              "        vertical-align: middle;\n",
              "    }\n",
              "\n",
              "    .dataframe tbody tr th {\n",
              "        vertical-align: top;\n",
              "    }\n",
              "\n",
              "    .dataframe thead th {\n",
              "        text-align: right;\n",
              "    }\n",
              "</style>\n",
              "<table border=\"1\" class=\"dataframe\">\n",
              "  <thead>\n",
              "    <tr style=\"text-align: right;\">\n",
              "      <th></th>\n",
              "      <th>proba</th>\n",
              "      <th>label</th>\n",
              "    </tr>\n",
              "    <tr>\n",
              "      <th>id</th>\n",
              "      <th></th>\n",
              "      <th></th>\n",
              "    </tr>\n",
              "  </thead>\n",
              "  <tbody>\n",
              "    <tr>\n",
              "      <th>16395</th>\n",
              "      <td>0.949035</td>\n",
              "      <td>1</td>\n",
              "    </tr>\n",
              "    <tr>\n",
              "      <th>37405</th>\n",
              "      <td>0.790196</td>\n",
              "      <td>1</td>\n",
              "    </tr>\n",
              "    <tr>\n",
              "      <th>94180</th>\n",
              "      <td>0.689591</td>\n",
              "      <td>1</td>\n",
              "    </tr>\n",
              "    <tr>\n",
              "      <th>54321</th>\n",
              "      <td>0.698236</td>\n",
              "      <td>1</td>\n",
              "    </tr>\n",
              "    <tr>\n",
              "      <th>97015</th>\n",
              "      <td>0.993769</td>\n",
              "      <td>1</td>\n",
              "    </tr>\n",
              "  </tbody>\n",
              "</table>\n",
              "</div>"
            ]
          },
          "metadata": {
            "tags": []
          },
          "execution_count": 38
        }
      ]
    },
    {
      "cell_type": "code",
      "metadata": {
        "execution": {
          "iopub.status.busy": "2021-07-09T13:51:45.846780Z",
          "iopub.execute_input": "2021-07-09T13:51:45.847122Z",
          "iopub.status.idle": "2021-07-09T13:51:45.861787Z",
          "shell.execute_reply.started": "2021-07-09T13:51:45.847083Z",
          "shell.execute_reply": "2021-07-09T13:51:45.861002Z"
        },
        "trusted": true,
        "id": "YmL-LHUHhgUG"
      },
      "source": [
        "#getting the Submision CVS\n",
        "submission.to_csv((\"model-outputs/submission.csv\"), index=True)"
      ],
      "execution_count": null,
      "outputs": []
    },
    {
      "cell_type": "code",
      "metadata": {
        "execution": {
          "iopub.status.busy": "2021-07-09T14:03:06.665230Z",
          "iopub.execute_input": "2021-07-09T14:03:06.665635Z",
          "iopub.status.idle": "2021-07-09T14:03:06.675890Z",
          "shell.execute_reply.started": "2021-07-09T14:03:06.665599Z",
          "shell.execute_reply": "2021-07-09T14:03:06.675053Z"
        },
        "trusted": true,
        "id": "wClxDZFGhgUG",
        "outputId": "e65a678d-9cf7-4781-dad4-c3de890af948"
      },
      "source": [
        "#storing submition labels:\n",
        "submission_labels = submission.label\n",
        "submission_labels"
      ],
      "execution_count": null,
      "outputs": [
        {
          "output_type": "execute_result",
          "data": {
            "text/plain": [
              "id\n",
              "16395    1\n",
              "37405    1\n",
              "94180    1\n",
              "54321    1\n",
              "97015    1\n",
              "        ..\n",
              "3869     0\n",
              "23817    0\n",
              "56280    1\n",
              "29384    0\n",
              "34127    1\n",
              "Name: label, Length: 1000, dtype: int64"
            ]
          },
          "metadata": {
            "tags": []
          },
          "execution_count": 51
        }
      ]
    },
    {
      "cell_type": "code",
      "metadata": {
        "execution": {
          "iopub.status.busy": "2021-07-09T14:18:11.732543Z",
          "iopub.execute_input": "2021-07-09T14:18:11.732894Z",
          "iopub.status.idle": "2021-07-09T14:18:11.742883Z",
          "shell.execute_reply.started": "2021-07-09T14:18:11.732859Z",
          "shell.execute_reply": "2021-07-09T14:18:11.741644Z"
        },
        "trusted": true,
        "id": "8cDOzSdRhgUH",
        "outputId": "80c8d579-7858-4c1a-eee3-d649e0b813e5"
      },
      "source": [
        "#storing prob\n",
        "submission_prob = submission.proba\n",
        "submission_prob"
      ],
      "execution_count": null,
      "outputs": [
        {
          "output_type": "execute_result",
          "data": {
            "text/plain": [
              "id\n",
              "16395    0.949035\n",
              "37405    0.790196\n",
              "94180    0.689591\n",
              "54321    0.698236\n",
              "97015    0.993769\n",
              "           ...   \n",
              "3869     0.000301\n",
              "23817    0.000613\n",
              "56280    0.995270\n",
              "29384    0.020082\n",
              "34127    0.510685\n",
              "Name: proba, Length: 1000, dtype: float64"
            ]
          },
          "metadata": {
            "tags": []
          },
          "execution_count": 63
        }
      ]
    },
    {
      "cell_type": "code",
      "metadata": {
        "execution": {
          "iopub.status.busy": "2021-07-09T14:03:11.591301Z",
          "iopub.execute_input": "2021-07-09T14:03:11.591631Z",
          "iopub.status.idle": "2021-07-09T14:03:11.601566Z",
          "shell.execute_reply.started": "2021-07-09T14:03:11.591601Z",
          "shell.execute_reply": "2021-07-09T14:03:11.600513Z"
        },
        "trusted": true,
        "id": "n7Gn-MLmhgUH",
        "outputId": "59adda0d-e5a6-4080-993c-e9b711dcc167"
      },
      "source": [
        "#cheking we have the test set labels\n",
        "valid.head()"
      ],
      "execution_count": null,
      "outputs": [
        {
          "output_type": "execute_result",
          "data": {
            "text/plain": [
              "      id            img  label                                         text\n",
              "0  16395  img/16395.png      1                     handjobs sold seperately\n",
              "1  37405  img/37405.png      1         introducing fidget spinner for women\n",
              "2  94180  img/94180.png      1  happy pride month let's go beat up lesbians\n",
              "3  54321  img/54321.png      1       laughs in [majority of u.s crime rate]\n",
              "4  97015  img/97015.png      1       finds out those 72 virgins.. are goats"
            ],
            "text/html": [
              "<div>\n",
              "<style scoped>\n",
              "    .dataframe tbody tr th:only-of-type {\n",
              "        vertical-align: middle;\n",
              "    }\n",
              "\n",
              "    .dataframe tbody tr th {\n",
              "        vertical-align: top;\n",
              "    }\n",
              "\n",
              "    .dataframe thead th {\n",
              "        text-align: right;\n",
              "    }\n",
              "</style>\n",
              "<table border=\"1\" class=\"dataframe\">\n",
              "  <thead>\n",
              "    <tr style=\"text-align: right;\">\n",
              "      <th></th>\n",
              "      <th>id</th>\n",
              "      <th>img</th>\n",
              "      <th>label</th>\n",
              "      <th>text</th>\n",
              "    </tr>\n",
              "  </thead>\n",
              "  <tbody>\n",
              "    <tr>\n",
              "      <th>0</th>\n",
              "      <td>16395</td>\n",
              "      <td>img/16395.png</td>\n",
              "      <td>1</td>\n",
              "      <td>handjobs sold seperately</td>\n",
              "    </tr>\n",
              "    <tr>\n",
              "      <th>1</th>\n",
              "      <td>37405</td>\n",
              "      <td>img/37405.png</td>\n",
              "      <td>1</td>\n",
              "      <td>introducing fidget spinner for women</td>\n",
              "    </tr>\n",
              "    <tr>\n",
              "      <th>2</th>\n",
              "      <td>94180</td>\n",
              "      <td>img/94180.png</td>\n",
              "      <td>1</td>\n",
              "      <td>happy pride month let's go beat up lesbians</td>\n",
              "    </tr>\n",
              "    <tr>\n",
              "      <th>3</th>\n",
              "      <td>54321</td>\n",
              "      <td>img/54321.png</td>\n",
              "      <td>1</td>\n",
              "      <td>laughs in [majority of u.s crime rate]</td>\n",
              "    </tr>\n",
              "    <tr>\n",
              "      <th>4</th>\n",
              "      <td>97015</td>\n",
              "      <td>img/97015.png</td>\n",
              "      <td>1</td>\n",
              "      <td>finds out those 72 virgins.. are goats</td>\n",
              "    </tr>\n",
              "  </tbody>\n",
              "</table>\n",
              "</div>"
            ]
          },
          "metadata": {
            "tags": []
          },
          "execution_count": 52
        }
      ]
    },
    {
      "cell_type": "code",
      "metadata": {
        "execution": {
          "iopub.status.busy": "2021-07-09T14:03:17.077800Z",
          "iopub.execute_input": "2021-07-09T14:03:17.078151Z",
          "iopub.status.idle": "2021-07-09T14:03:17.084567Z",
          "shell.execute_reply.started": "2021-07-09T14:03:17.078095Z",
          "shell.execute_reply": "2021-07-09T14:03:17.083715Z"
        },
        "trusted": true,
        "id": "x8cUjGmUhgUI",
        "outputId": "b2931ee2-4ff4-440e-b6e6-84cc0c5955ca"
      },
      "source": [
        "#storing the test set label\n",
        "test_label = valid.label\n",
        "test_label"
      ],
      "execution_count": null,
      "outputs": [
        {
          "output_type": "execute_result",
          "data": {
            "text/plain": [
              "0      1\n",
              "1      1\n",
              "2      1\n",
              "3      1\n",
              "4      1\n",
              "      ..\n",
              "995    0\n",
              "996    0\n",
              "997    0\n",
              "998    0\n",
              "999    0\n",
              "Name: label, Length: 1000, dtype: int64"
            ]
          },
          "metadata": {
            "tags": []
          },
          "execution_count": 53
        }
      ]
    },
    {
      "cell_type": "code",
      "metadata": {
        "execution": {
          "iopub.status.busy": "2021-07-09T14:06:07.480635Z",
          "iopub.execute_input": "2021-07-09T14:06:07.480978Z",
          "iopub.status.idle": "2021-07-09T14:06:07.541189Z",
          "shell.execute_reply.started": "2021-07-09T14:06:07.480944Z",
          "shell.execute_reply": "2021-07-09T14:06:07.540349Z"
        },
        "trusted": true,
        "id": "LYIYDEeehgUI"
      },
      "source": [
        "from sklearn.metrics import accuracy_score, precision_recall_fscore_support\n",
        "from sklearn.metrics import roc_auc_score, balanced_accuracy_score\n",
        "from sklearn.metrics import confusion_matrix\n",
        "import seaborn as sns\n",
        "from sklearn import metrics"
      ],
      "execution_count": null,
      "outputs": []
    },
    {
      "cell_type": "markdown",
      "metadata": {
        "id": "m4RP3vxNip_M"
      },
      "source": [
        "Checking AUC Roc metric"
      ]
    },
    {
      "cell_type": "code",
      "metadata": {
        "execution": {
          "iopub.status.busy": "2021-07-09T14:04:42.144789Z",
          "iopub.execute_input": "2021-07-09T14:04:42.145198Z",
          "iopub.status.idle": "2021-07-09T14:04:42.154708Z",
          "shell.execute_reply.started": "2021-07-09T14:04:42.145158Z",
          "shell.execute_reply": "2021-07-09T14:04:42.153434Z"
        },
        "trusted": true,
        "id": "Xy-aBqlohgUI",
        "outputId": "b2f2552f-fdd7-4f2b-b1e7-5551e53690f0"
      },
      "source": [
        "#cheking accuracy \n",
        "print(\"AUC: \", roc_auc_score(test_label, submission_labels))"
      ],
      "execution_count": null,
      "outputs": [
        {
          "output_type": "stream",
          "text": [
            "AUC:  0.535734293717487\n"
          ],
          "name": "stdout"
        }
      ]
    },
    {
      "cell_type": "markdown",
      "metadata": {
        "id": "rrURKOYMhgUJ"
      },
      "source": [
        "\n",
        "\n",
        "```\n",
        "# This is formatted as code\n",
        "```\n",
        "\n",
        "Our AUC Roc accuracy is 53%"
      ]
    },
    {
      "cell_type": "markdown",
      "metadata": {
        "id": "jjZkrtC4iwAD"
      },
      "source": [
        "Inspecting results: Confusion Matrix"
      ]
    },
    {
      "cell_type": "code",
      "metadata": {
        "execution": {
          "iopub.status.busy": "2021-07-09T14:06:09.570706Z",
          "iopub.execute_input": "2021-07-09T14:06:09.571038Z",
          "iopub.status.idle": "2021-07-09T14:06:09.582196Z",
          "shell.execute_reply.started": "2021-07-09T14:06:09.571007Z",
          "shell.execute_reply": "2021-07-09T14:06:09.581048Z"
        },
        "trusted": true,
        "id": "_ruADCNxhgUJ",
        "outputId": "74d19c58-a1f7-4570-eb9f-8273ca5133c5"
      },
      "source": [
        "confusion_matrix(test_label, submission_labels)"
      ],
      "execution_count": null,
      "outputs": [
        {
          "output_type": "execute_result",
          "data": {
            "text/plain": [
              "array([[331, 179],\n",
              "       [283, 207]])"
            ]
          },
          "metadata": {
            "tags": []
          },
          "execution_count": 59
        }
      ]
    },
    {
      "cell_type": "code",
      "metadata": {
        "execution": {
          "iopub.status.busy": "2021-07-09T14:06:35.148318Z",
          "iopub.execute_input": "2021-07-09T14:06:35.148664Z",
          "iopub.status.idle": "2021-07-09T14:06:35.417954Z",
          "shell.execute_reply.started": "2021-07-09T14:06:35.148627Z",
          "shell.execute_reply": "2021-07-09T14:06:35.417182Z"
        },
        "trusted": true,
        "id": "cFYFj1N7hgUJ",
        "outputId": "a992ec5d-9469-42d5-b8e0-e798531ef659"
      },
      "source": [
        "cf_matrix = confusion_matrix(test_label, submission_labels)\n",
        "\n",
        "plt.title('Confusion matrix showing correctly and uncorrectly predicted label')\n",
        "sns.heatmap(cf_matrix, annot=True, fmt='d')\n",
        "plt.xlabel('Predicted label')\n",
        "plt.ylabel('Actual sentiment')"
      ],
      "execution_count": null,
      "outputs": [
        {
          "output_type": "execute_result",
          "data": {
            "text/plain": [
              "Text(159.0, 0.5, 'Actual sentiment')"
            ]
          },
          "metadata": {
            "tags": []
          },
          "execution_count": 60
        },
        {
          "output_type": "display_data",
          "data": {
            "text/plain": [
              "<Figure size 1440x360 with 2 Axes>"
            ],
            "image/png": "[encoded data removed]"
          },
          "metadata": {
            "tags": [],
            "needs_background": "light"
          }
        }
      ]
    },
    {
      "cell_type": "markdown",
      "metadata": {
        "id": "qS4GCZqjhgUK"
      },
      "source": [
        "# Going futher in analysis"
      ]
    },
    {
      "cell_type": "markdown",
      "metadata": {
        "id": "DdP0fPVPhgUK"
      },
      "source": [
        "Want to check what image has the image has the highest none true/flase - neg/pos"
      ]
    },
    {
      "cell_type": "code",
      "metadata": {
        "execution": {
          "iopub.status.busy": "2021-07-09T14:35:33.290654Z",
          "iopub.execute_input": "2021-07-09T14:35:33.290989Z",
          "iopub.status.idle": "2021-07-09T14:35:33.305620Z",
          "shell.execute_reply.started": "2021-07-09T14:35:33.290957Z",
          "shell.execute_reply": "2021-07-09T14:35:33.304726Z"
        },
        "trusted": true,
        "id": "2RB-cNkChgUK"
      },
      "source": [
        "#getting CVS\n",
        "sub_path = \"./model-outputs/submission.csv\"\n",
        "submission_cvs = pd.read_csv(sub_path)\n",
        "\n",
        "#or import the cvs from your computer, put in dataset and work directly on it"
      ],
      "execution_count": null,
      "outputs": []
    },
    {
      "cell_type": "code",
      "metadata": {
        "execution": {
          "iopub.status.busy": "2021-07-09T14:37:57.068657Z",
          "iopub.execute_input": "2021-07-09T14:37:57.069007Z",
          "iopub.status.idle": "2021-07-09T14:37:57.082011Z",
          "shell.execute_reply.started": "2021-07-09T14:37:57.068975Z",
          "shell.execute_reply": "2021-07-09T14:37:57.080857Z"
        },
        "trusted": true,
        "id": "kSVmeExbhgUK"
      },
      "source": [
        "# Predicted Labels\n",
        "predicted_labels = {submission_cvs['id'][i]:submission_cvs['label'][i] for i in range(500)}"
      ],
      "execution_count": null,
      "outputs": []
    },
    {
      "cell_type": "code",
      "metadata": {
        "execution": {
          "iopub.status.busy": "2021-07-09T15:05:14.658262Z",
          "iopub.execute_input": "2021-07-09T15:05:14.658589Z",
          "iopub.status.idle": "2021-07-09T15:05:14.682622Z",
          "shell.execute_reply.started": "2021-07-09T15:05:14.658560Z",
          "shell.execute_reply": "2021-07-09T15:05:14.681631Z"
        },
        "collapsed": true,
        "jupyter": {
          "outputs_hidden": true
        },
        "trusted": true,
        "id": "YNI0mhKehgUK",
        "outputId": "ed38c900-9e7c-4c35-dbf0-d69f05e59d0e"
      },
      "source": [
        "predicted_labels"
      ],
      "execution_count": null,
      "outputs": [
        {
          "output_type": "execute_result",
          "data": {
            "text/plain": [
              "{16395: 1,\n",
              " 37405: 1,\n",
              " 94180: 1,\n",
              " 54321: 1,\n",
              " 97015: 1,\n",
              " 73506: 0,\n",
              " 5429: 1,\n",
              " 70691: 0,\n",
              " 69421: 0,\n",
              " 50162: 0,\n",
              " 43728: 0,\n",
              " 75081: 1,\n",
              " 47829: 0,\n",
              " 35279: 0,\n",
              " 54920: 0,\n",
              " 39867: 0,\n",
              " 96082: 1,\n",
              " 38045: 0,\n",
              " 62134: 1,\n",
              " 81970: 1,\n",
              " 1865: 1,\n",
              " 86139: 1,\n",
              " 38765: 1,\n",
              " 15306: 1,\n",
              " 17209: 0,\n",
              " 96185: 1,\n",
              " 93875: 0,\n",
              " 57286: 1,\n",
              " 8261: 0,\n",
              " 60823: 0,\n",
              " 83720: 0,\n",
              " 89432: 0,\n",
              " 89607: 0,\n",
              " 14267: 1,\n",
              " 82749: 1,\n",
              " 70643: 0,\n",
              " 12785: 0,\n",
              " 86394: 0,\n",
              " 63491: 0,\n",
              " 98026: 0,\n",
              " 89263: 0,\n",
              " 42975: 1,\n",
              " 74016: 0,\n",
              " 26347: 1,\n",
              " 89105: 1,\n",
              " 57932: 0,\n",
              " 52971: 0,\n",
              " 4615: 0,\n",
              " 1936: 1,\n",
              " 17546: 1,\n",
              " 56908: 0,\n",
              " 24973: 0,\n",
              " 4958: 1,\n",
              " 60345: 0,\n",
              " 2356: 0,\n",
              " 91806: 0,\n",
              " 5462: 0,\n",
              " 1627: 1,\n",
              " 18239: 0,\n",
              " 49372: 1,\n",
              " 59167: 0,\n",
              " 59287: 0,\n",
              " 64279: 1,\n",
              " 38701: 1,\n",
              " 12643: 0,\n",
              " 46532: 0,\n",
              " 7516: 0,\n",
              " 93251: 1,\n",
              " 31760: 0,\n",
              " 19230: 1,\n",
              " 89251: 0,\n",
              " 2789: 0,\n",
              " 3976: 1,\n",
              " 7291: 0,\n",
              " 58374: 0,\n",
              " 78092: 0,\n",
              " 28396: 1,\n",
              " 87039: 1,\n",
              " 94216: 0,\n",
              " 81523: 1,\n",
              " 15473: 1,\n",
              " 48059: 1,\n",
              " 38054: 0,\n",
              " 35870: 0,\n",
              " 7392: 0,\n",
              " 72019: 0,\n",
              " 95723: 0,\n",
              " 1284: 0,\n",
              " 27980: 0,\n",
              " 65917: 0,\n",
              " 10548: 0,\n",
              " 26091: 0,\n",
              " 98637: 0,\n",
              " 98653: 1,\n",
              " 9638: 0,\n",
              " 16592: 0,\n",
              " 47693: 0,\n",
              " 51263: 0,\n",
              " 67149: 1,\n",
              " 63547: 1,\n",
              " 49267: 1,\n",
              " 24351: 0,\n",
              " 23419: 0,\n",
              " 30762: 0,\n",
              " 52096: 1,\n",
              " 64735: 0,\n",
              " 10652: 1,\n",
              " 92456: 0,\n",
              " 42635: 1,\n",
              " 47931: 1,\n",
              " 70143: 1,\n",
              " 51863: 1,\n",
              " 2584: 1,\n",
              " 48132: 0,\n",
              " 81370: 0,\n",
              " 74029: 0,\n",
              " 50643: 0,\n",
              " 59423: 1,\n",
              " 63502: 1,\n",
              " 89360: 0,\n",
              " 5219: 0,\n",
              " 61342: 1,\n",
              " 16234: 0,\n",
              " 34215: 0,\n",
              " 10963: 0,\n",
              " 94380: 0,\n",
              " 30954: 0,\n",
              " 5162: 1,\n",
              " 36184: 0,\n",
              " 17285: 0,\n",
              " 20815: 0,\n",
              " 35198: 0,\n",
              " 32451: 1,\n",
              " 58079: 1,\n",
              " 37092: 0,\n",
              " 76542: 0,\n",
              " 17096: 1,\n",
              " 69753: 0,\n",
              " 7652: 0,\n",
              " 39182: 0,\n",
              " 10476: 0,\n",
              " 17596: 0,\n",
              " 25893: 0,\n",
              " 57836: 1,\n",
              " 32907: 0,\n",
              " 18453: 0,\n",
              " 26537: 0,\n",
              " 7689: 0,\n",
              " 69423: 0,\n",
              " 45269: 1,\n",
              " 29710: 0,\n",
              " 10865: 1,\n",
              " 56291: 1,\n",
              " 60175: 1,\n",
              " 90538: 1,\n",
              " 6931: 0,\n",
              " 69403: 1,\n",
              " 21530: 1,\n",
              " 3146: 1,\n",
              " 4879: 1,\n",
              " 14583: 0,\n",
              " 31894: 1,\n",
              " 90734: 0,\n",
              " 67841: 0,\n",
              " 24689: 0,\n",
              " 39564: 0,\n",
              " 15763: 0,\n",
              " 76091: 0,\n",
              " 23047: 1,\n",
              " 35186: 0,\n",
              " 21386: 0,\n",
              " 80713: 0,\n",
              " 50483: 0,\n",
              " 41250: 0,\n",
              " 45326: 0,\n",
              " 9241: 1,\n",
              " 8524: 0,\n",
              " 31468: 0,\n",
              " 57431: 0,\n",
              " 6135: 0,\n",
              " 70456: 1,\n",
              " 53214: 0,\n",
              " 48523: 0,\n",
              " 45093: 0,\n",
              " 98374: 1,\n",
              " 89026: 0,\n",
              " 94152: 1,\n",
              " 63719: 0,\n",
              " 80392: 0,\n",
              " 98035: 0,\n",
              " 26573: 0,\n",
              " 15379: 0,\n",
              " 10564: 1,\n",
              " 80463: 1,\n",
              " 35687: 1,\n",
              " 28579: 1,\n",
              " 71453: 0,\n",
              " 13285: 0,\n",
              " 1634: 0,\n",
              " 85630: 1,\n",
              " 16302: 1,\n",
              " 73846: 0,\n",
              " 27496: 1,\n",
              " 75806: 0,\n",
              " 30154: 0,\n",
              " 68594: 1,\n",
              " 64803: 0,\n",
              " 65071: 1,\n",
              " 7193: 1,\n",
              " 60812: 0,\n",
              " 23619: 0,\n",
              " 45610: 1,\n",
              " 91260: 1,\n",
              " 87526: 0,\n",
              " 54621: 0,\n",
              " 45792: 0,\n",
              " 26891: 0,\n",
              " 95371: 1,\n",
              " 3968: 0,\n",
              " 40578: 0,\n",
              " 97853: 0,\n",
              " 26549: 0,\n",
              " 13907: 1,\n",
              " 51482: 0,\n",
              " 82591: 0,\n",
              " 36458: 1,\n",
              " 75810: 1,\n",
              " 72364: 0,\n",
              " 58069: 0,\n",
              " 80724: 0,\n",
              " 15438: 1,\n",
              " 86025: 1,\n",
              " 96502: 0,\n",
              " 93462: 1,\n",
              " 90814: 1,\n",
              " 17845: 0,\n",
              " 17809: 0,\n",
              " 29467: 1,\n",
              " 35689: 1,\n",
              " 49531: 1,\n",
              " 35249: 0,\n",
              " 85746: 1,\n",
              " 13874: 1,\n",
              " 7396: 0,\n",
              " 57312: 0,\n",
              " 26914: 0,\n",
              " 47863: 0,\n",
              " 65734: 0,\n",
              " 84169: 1,\n",
              " 62790: 1,\n",
              " 76103: 1,\n",
              " 5968: 0,\n",
              " 87391: 0,\n",
              " 72851: 0,\n",
              " 42189: 0,\n",
              " 4265: 1,\n",
              " 31267: 0,\n",
              " 93145: 1,\n",
              " 56328: 0,\n",
              " 9357: 1,\n",
              " 35107: 1,\n",
              " 4716: 1,\n",
              " 3164: 1,\n",
              " 86425: 0,\n",
              " 79316: 0,\n",
              " 98170: 1,\n",
              " 42615: 1,\n",
              " 25749: 0,\n",
              " 18406: 0,\n",
              " 36128: 1,\n",
              " 25908: 1,\n",
              " 53467: 1,\n",
              " 29406: 0,\n",
              " 29547: 1,\n",
              " 5218: 0,\n",
              " 10938: 1,\n",
              " 17508: 0,\n",
              " 23751: 1,\n",
              " 42739: 1,\n",
              " 45827: 1,\n",
              " 79861: 0,\n",
              " 46197: 0,\n",
              " 7694: 1,\n",
              " 43697: 0,\n",
              " 13407: 1,\n",
              " 74236: 1,\n",
              " 3987: 0,\n",
              " 72093: 1,\n",
              " 81527: 0,\n",
              " 52139: 1,\n",
              " 80914: 0,\n",
              " 9687: 0,\n",
              " 87913: 1,\n",
              " 87013: 0,\n",
              " 6593: 0,\n",
              " 21863: 1,\n",
              " 6329: 0,\n",
              " 39527: 1,\n",
              " 85471: 0,\n",
              " 2751: 1,\n",
              " 48956: 0,\n",
              " 39247: 0,\n",
              " 32605: 0,\n",
              " 75136: 0,\n",
              " 83091: 0,\n",
              " 52847: 0,\n",
              " 25463: 0,\n",
              " 4239: 1,\n",
              " 17852: 0,\n",
              " 85420: 0,\n",
              " 34067: 0,\n",
              " 41692: 0,\n",
              " 93481: 0,\n",
              " 73842: 0,\n",
              " 95302: 0,\n",
              " 70148: 0,\n",
              " 47265: 1,\n",
              " 20854: 0,\n",
              " 74531: 0,\n",
              " 20413: 1,\n",
              " 48123: 1,\n",
              " 92158: 0,\n",
              " 9675: 0,\n",
              " 8541: 1,\n",
              " 95306: 1,\n",
              " 47680: 1,\n",
              " 32564: 1,\n",
              " 19384: 0,\n",
              " 17904: 1,\n",
              " 9513: 0,\n",
              " 30815: 0,\n",
              " 5879: 0,\n",
              " 75039: 0,\n",
              " 52140: 1,\n",
              " 64038: 0,\n",
              " 87352: 0,\n",
              " 6243: 0,\n",
              " 90143: 1,\n",
              " 37289: 1,\n",
              " 54093: 1,\n",
              " 62719: 0,\n",
              " 84670: 0,\n",
              " 98721: 0,\n",
              " 42705: 0,\n",
              " 26781: 0,\n",
              " 5792: 0,\n",
              " 35146: 0,\n",
              " 4583: 1,\n",
              " 30864: 0,\n",
              " 98340: 1,\n",
              " 65148: 0,\n",
              " 38754: 1,\n",
              " 79134: 1,\n",
              " 59028: 0,\n",
              " 76854: 0,\n",
              " 82950: 0,\n",
              " 80473: 0,\n",
              " 91637: 1,\n",
              " 7612: 1,\n",
              " 8653: 1,\n",
              " 79452: 0,\n",
              " 42589: 0,\n",
              " 92837: 0,\n",
              " 63795: 0,\n",
              " 14602: 0,\n",
              " 39241: 0,\n",
              " 82675: 0,\n",
              " 84321: 0,\n",
              " 42986: 0,\n",
              " 3267: 1,\n",
              " 24815: 0,\n",
              " 47903: 1,\n",
              " 78936: 1,\n",
              " 40572: 1,\n",
              " 41896: 0,\n",
              " 27410: 1,\n",
              " 8294: 1,\n",
              " 81075: 0,\n",
              " 73049: 1,\n",
              " 14765: 1,\n",
              " 92683: 1,\n",
              " 47692: 1,\n",
              " 40731: 0,\n",
              " 28716: 0,\n",
              " 57869: 0,\n",
              " 83046: 1,\n",
              " 67951: 1,\n",
              " 75923: 0,\n",
              " 4127: 0,\n",
              " 61058: 0,\n",
              " 26738: 1,\n",
              " 60289: 0,\n",
              " 87160: 1,\n",
              " 26910: 1,\n",
              " 16598: 1,\n",
              " 57890: 0,\n",
              " 53426: 0,\n",
              " 40856: 1,\n",
              " 43269: 1,\n",
              " 70381: 0,\n",
              " 91063: 1,\n",
              " 4135: 0,\n",
              " 16870: 1,\n",
              " 54830: 0,\n",
              " 57389: 1,\n",
              " 18674: 0,\n",
              " 34291: 0,\n",
              " 5461: 1,\n",
              " 2846: 1,\n",
              " 92836: 0,\n",
              " 32410: 1,\n",
              " 81690: 0,\n",
              " 46815: 0,\n",
              " 54820: 0,\n",
              " 85042: 1,\n",
              " 75821: 1,\n",
              " 68394: 0,\n",
              " 64907: 0,\n",
              " 30849: 0,\n",
              " 98473: 0,\n",
              " 59671: 1,\n",
              " 47831: 1,\n",
              " 79031: 0,\n",
              " 74813: 0,\n",
              " 75280: 1,\n",
              " 84057: 1,\n",
              " 57908: 1,\n",
              " 34602: 0,\n",
              " 81035: 1,\n",
              " 3765: 0,\n",
              " 86179: 0,\n",
              " 59107: 0,\n",
              " 51628: 1,\n",
              " 71063: 1,\n",
              " 36805: 0,\n",
              " 79825: 0,\n",
              " 4563: 0,\n",
              " 1459: 0,\n",
              " 38401: 0,\n",
              " 69324: 0,\n",
              " 90845: 1,\n",
              " 72419: 1,\n",
              " 64297: 0,\n",
              " 43506: 1,\n",
              " 93874: 0,\n",
              " 84316: 1,\n",
              " 5734: 0,\n",
              " 82760: 0,\n",
              " 64730: 0,\n",
              " 97125: 0,\n",
              " 39206: 1,\n",
              " 67593: 1,\n",
              " 1325: 0,\n",
              " 89136: 1,\n",
              " 3924: 0,\n",
              " 52037: 0,\n",
              " 80321: 0,\n",
              " 50962: 0,\n",
              " 1359: 0,\n",
              " 27506: 1,\n",
              " 70543: 0,\n",
              " 48315: 0,\n",
              " 10649: 1,\n",
              " 62509: 0,\n",
              " 64571: 0,\n",
              " 36521: 0,\n",
              " 40268: 1,\n",
              " 40723: 0,\n",
              " 87924: 1,\n",
              " 12589: 1,\n",
              " 6524: 0,\n",
              " 52719: 1,\n",
              " 45139: 0,\n",
              " 53814: 0,\n",
              " 32960: 0,\n",
              " 85310: 0,\n",
              " 90657: 1,\n",
              " 78321: 0,\n",
              " 28495: 0,\n",
              " 5791: 0,\n",
              " 16452: 0,\n",
              " 7521: 0,\n",
              " 97514: 0,\n",
              " 74508: 0,\n",
              " 74259: 0,\n",
              " 39725: 0,\n",
              " 3624: 1,\n",
              " 40218: 0,\n",
              " 51928: 0,\n",
              " 27548: 0,\n",
              " 57649: 0,\n",
              " 89512: 0,\n",
              " 87692: 0,\n",
              " 84325: 0,\n",
              " 42083: 0,\n",
              " 26531: 1,\n",
              " 87390: 1,\n",
              " 10475: 0,\n",
              " 91736: 0,\n",
              " 48379: 0}"
            ]
          },
          "metadata": {
            "tags": []
          },
          "execution_count": 95
        }
      ]
    },
    {
      "cell_type": "code",
      "metadata": {
        "execution": {
          "iopub.status.busy": "2021-07-09T14:37:58.354112Z",
          "iopub.execute_input": "2021-07-09T14:37:58.354470Z",
          "iopub.status.idle": "2021-07-09T14:37:58.366380Z",
          "shell.execute_reply.started": "2021-07-09T14:37:58.354439Z",
          "shell.execute_reply": "2021-07-09T14:37:58.365420Z"
        },
        "trusted": true,
        "id": "H1Q-hFilhgUL"
      },
      "source": [
        "# Predicted Probabilities\n",
        "predicted_prob = {submission_cvs['id'][i]:submission_cvs['proba'][i] for i in range(500)}"
      ],
      "execution_count": null,
      "outputs": []
    },
    {
      "cell_type": "code",
      "metadata": {
        "execution": {
          "iopub.status.busy": "2021-07-09T15:05:57.940955Z",
          "iopub.execute_input": "2021-07-09T15:05:57.941322Z",
          "iopub.status.idle": "2021-07-09T15:05:57.967177Z",
          "shell.execute_reply.started": "2021-07-09T15:05:57.941290Z",
          "shell.execute_reply": "2021-07-09T15:05:57.966222Z"
        },
        "collapsed": true,
        "jupyter": {
          "outputs_hidden": true
        },
        "trusted": true,
        "id": "7T1jaDbUhgUL",
        "outputId": "5f528fd1-b4f8-4e44-f395-df042ed7aeee"
      },
      "source": [
        "predicted_prob"
      ],
      "execution_count": null,
      "outputs": [
        {
          "output_type": "execute_result",
          "data": {
            "text/plain": [
              "{16395: 0.9490346312522888,\n",
              " 37405: 0.7901961803436279,\n",
              " 94180: 0.6895907521247864,\n",
              " 54321: 0.6982360482215881,\n",
              " 97015: 0.9937686920166016,\n",
              " 73506: 0.00166664260905236,\n",
              " 5429: 0.9981666803359984,\n",
              " 70691: 9.045030310517177e-06,\n",
              " 69421: 0.0008811845909804106,\n",
              " 50162: 1.6199674064409922e-05,\n",
              " 43728: 8.995315147330984e-05,\n",
              " 75081: 0.9994518160820008,\n",
              " 47829: 0.0006095108692534268,\n",
              " 35279: 5.354859604267404e-05,\n",
              " 54920: 1.3922782500230824e-06,\n",
              " 39867: 2.0827484092933449e-07,\n",
              " 96082: 0.9712646603584291,\n",
              " 38045: 0.04044266417622566,\n",
              " 62134: 0.8880288004875183,\n",
              " 81970: 0.8202387690544128,\n",
              " 1865: 0.9735652208328248,\n",
              " 86139: 0.9999992847442628,\n",
              " 38765: 0.9999639987945556,\n",
              " 15306: 0.9998990297317504,\n",
              " 17209: 0.0004459060437511652,\n",
              " 96185: 0.9266456365585328,\n",
              " 93875: 0.0014939934480935335,\n",
              " 57286: 0.9999935626983644,\n",
              " 8261: 0.30653974413871765,\n",
              " 60823: 0.0024000441189855337,\n",
              " 83720: 0.0008221798343583941,\n",
              " 89432: 0.031011130660772324,\n",
              " 89607: 0.0007118344656191766,\n",
              " 14267: 0.9304253458976746,\n",
              " 82749: 0.7828205823898315,\n",
              " 70643: 0.0011193936225026846,\n",
              " 12785: 7.181019464042039e-05,\n",
              " 86394: 0.000268344912910834,\n",
              " 63491: 5.6260368808125356e-08,\n",
              " 98026: 0.03116474486887455,\n",
              " 89263: 8.380415238207206e-06,\n",
              " 42975: 0.9980471134185792,\n",
              " 74016: 2.67782888840884e-06,\n",
              " 26347: 0.9998145699501038,\n",
              " 89105: 0.5128074884414673,\n",
              " 57932: 0.0006721513927914202,\n",
              " 52971: 0.0024039288982748985,\n",
              " 4615: 7.93855797383003e-05,\n",
              " 1936: 0.9868471026420592,\n",
              " 17546: 0.974556803703308,\n",
              " 56908: 0.002268164651468396,\n",
              " 24973: 0.0007802136242389679,\n",
              " 4958: 0.8626157641410828,\n",
              " 60345: 1.9150118077959637e-06,\n",
              " 2356: 0.0012565706856548786,\n",
              " 91806: 2.5709396140882745e-05,\n",
              " 5462: 8.476592483930291e-05,\n",
              " 1627: 0.9861197471618652,\n",
              " 18239: 0.0003781786363106221,\n",
              " 49372: 0.8733546137809753,\n",
              " 59167: 0.0007649912149645388,\n",
              " 59287: 0.0014310170663520696,\n",
              " 64279: 0.9901458621025084,\n",
              " 38701: 0.9416880607604979,\n",
              " 12643: 0.14117439091205594,\n",
              " 46532: 0.045349501073360436,\n",
              " 7516: 0.00013098857016302645,\n",
              " 93251: 0.9998713731765748,\n",
              " 31760: 0.0001533625036245212,\n",
              " 19230: 0.9997090697288512,\n",
              " 89251: 5.891831165172334e-07,\n",
              " 2789: 0.07537492364645004,\n",
              " 3976: 0.8928657770156859,\n",
              " 7291: 0.010057253763079643,\n",
              " 58374: 0.009759247303009031,\n",
              " 78092: 0.02852970361709595,\n",
              " 28396: 0.9982607960700988,\n",
              " 87039: 0.962213397026062,\n",
              " 94216: 9.125237556872891e-05,\n",
              " 81523: 0.9970982074737548,\n",
              " 15473: 0.9238343238830566,\n",
              " 48059: 0.6646442413330078,\n",
              " 38054: 0.0015898009296506645,\n",
              " 35870: 0.00048588242498226464,\n",
              " 7392: 0.02340751513838768,\n",
              " 72019: 0.2678593397140503,\n",
              " 95723: 0.011963279917836191,\n",
              " 1284: 0.08668608963489532,\n",
              " 27980: 0.0013506616232916713,\n",
              " 65917: 2.603872781037353e-05,\n",
              " 10548: 0.0036215959116816525,\n",
              " 26091: 4.695892494055442e-05,\n",
              " 98637: 1.1021630598406771e-05,\n",
              " 98653: 0.9088370800018309,\n",
              " 9638: 0.1300252228975296,\n",
              " 16592: 0.00018196101882494983,\n",
              " 47693: 0.0008558822446502745,\n",
              " 51263: 0.002829962177202105,\n",
              " 67149: 0.817651093006134,\n",
              " 63547: 0.9998244643211364,\n",
              " 49267: 0.8537783622741699,\n",
              " 24351: 0.0011149282800033689,\n",
              " 23419: 0.004032033961266279,\n",
              " 30762: 0.0009564693318679928,\n",
              " 52096: 0.9698199629783629,\n",
              " 64735: 0.0005795479519292713,\n",
              " 10652: 0.9020291566848756,\n",
              " 92456: 5.6660333029867616e-06,\n",
              " 42635: 0.5054687261581421,\n",
              " 47931: 0.9997654557228088,\n",
              " 70143: 0.9489946961402892,\n",
              " 51863: 0.9981368780136108,\n",
              " 2584: 0.9989610910415648,\n",
              " 48132: 0.006466871593147515,\n",
              " 81370: 0.053267084062099464,\n",
              " 74029: 0.0016247481107711792,\n",
              " 50643: 0.013981166295707226,\n",
              " 59423: 0.8874627947807312,\n",
              " 63502: 0.904412806034088,\n",
              " 89360: 0.000851918593980372,\n",
              " 5219: 0.0005166762275621295,\n",
              " 61342: 0.9999922513961792,\n",
              " 16234: 0.0008901758119463922,\n",
              " 34215: 0.3016493320465088,\n",
              " 10963: 0.0002850074670277536,\n",
              " 94380: 0.4554173648357392,\n",
              " 30954: 0.019435051828622815,\n",
              " 5162: 0.9979648590087892,\n",
              " 36184: 0.0004435197915881872,\n",
              " 17285: 2.6041426792744457e-08,\n",
              " 20815: 0.13442066311836245,\n",
              " 35198: 0.3820169270038605,\n",
              " 32451: 0.9577158093452454,\n",
              " 58079: 0.9528675079345704,\n",
              " 37092: 0.0012810504995286465,\n",
              " 76542: 0.008793435990810394,\n",
              " 17096: 0.7837473154067993,\n",
              " 69753: 2.152197794202948e-06,\n",
              " 7652: 0.25252851843833923,\n",
              " 39182: 0.0015909472713246944,\n",
              " 10476: 0.4061083793640137,\n",
              " 17596: 0.001492929644882679,\n",
              " 25893: 1.291726789531822e-06,\n",
              " 57836: 0.9904825687408448,\n",
              " 32907: 0.005490266252309085,\n",
              " 18453: 0.05024007707834244,\n",
              " 26537: 0.29294681549072266,\n",
              " 7689: 0.001742194057442248,\n",
              " 69423: 0.0005840111407451332,\n",
              " 45269: 0.844211995601654,\n",
              " 29710: 0.051219049841165536,\n",
              " 10865: 0.9924231171607972,\n",
              " 56291: 0.5611588954925537,\n",
              " 60175: 0.9917007088661194,\n",
              " 90538: 0.9746332764625548,\n",
              " 6931: 0.001155491336248815,\n",
              " 69403: 0.6378522515296936,\n",
              " 21530: 0.5247670412063599,\n",
              " 3146: 0.8410241007804871,\n",
              " 4879: 0.6446419954299927,\n",
              " 14583: 0.010623027570545672,\n",
              " 31894: 0.7799736261367798,\n",
              " 90734: 0.0004815877473447472,\n",
              " 67841: 0.0001606713776709512,\n",
              " 24689: 2.62915262477792e-11,\n",
              " 39564: 0.04708782583475113,\n",
              " 15763: 0.10457023978233336,\n",
              " 76091: 0.013790018856525421,\n",
              " 23047: 0.7219641804695129,\n",
              " 35186: 0.007724188733845948,\n",
              " 21386: 0.004693959373980761,\n",
              " 80713: 8.084872206381988e-06,\n",
              " 50483: 0.00011673987319227307,\n",
              " 41250: 0.002071266295388341,\n",
              " 45326: 0.0066282274201512345,\n",
              " 9241: 0.8992912173271179,\n",
              " 8524: 0.0052707334980368606,\n",
              " 31468: 4.727668851955968e-07,\n",
              " 57431: 4.964551862940425e-06,\n",
              " 6135: 0.3870314061641693,\n",
              " 70456: 0.9972420930862428,\n",
              " 53214: 0.003102947724983096,\n",
              " 48523: 0.0472441129386425,\n",
              " 45093: 0.043510336428880685,\n",
              " 98374: 0.9999821186065674,\n",
              " 89026: 0.0013954550959169865,\n",
              " 94152: 0.9937507510185242,\n",
              " 63719: 0.0023962578270584345,\n",
              " 80392: 0.08193246275186539,\n",
              " 98035: 0.005782285705208778,\n",
              " 26573: 0.049994293600320816,\n",
              " 15379: 0.001096454681828618,\n",
              " 10564: 0.9967930912971495,\n",
              " 80463: 0.8425056338310242,\n",
              " 35687: 0.6936378479003906,\n",
              " 28579: 0.9608564972877502,\n",
              " 71453: 0.4089967906475067,\n",
              " 13285: 0.0004727669875137508,\n",
              " 1634: 0.2274381220340729,\n",
              " 85630: 0.9073388576507568,\n",
              " 16302: 0.9598909616470336,\n",
              " 73846: 0.00881821196526289,\n",
              " 27496: 0.9984403252601624,\n",
              " 75806: 0.15888476371765134,\n",
              " 30154: 0.0003364760777913034,\n",
              " 68594: 0.9186516404151917,\n",
              " 64803: 0.0007357491995207965,\n",
              " 65071: 0.9999976158142091,\n",
              " 7193: 0.9318338632583618,\n",
              " 60812: 0.44359728693962097,\n",
              " 23619: 0.0251342598348856,\n",
              " 45610: 0.930217444896698,\n",
              " 91260: 0.9978013634681702,\n",
              " 87526: 0.35805657505989075,\n",
              " 54621: 0.007577793207019566,\n",
              " 45792: 0.003454897552728653,\n",
              " 26891: 6.20448736299295e-06,\n",
              " 95371: 0.9901760220527648,\n",
              " 3968: 0.0020326373632997274,\n",
              " 40578: 0.22299273312091827,\n",
              " 97853: 0.0003092064871452749,\n",
              " 26549: 0.4345157742500305,\n",
              " 13907: 0.9097117185592652,\n",
              " 51482: 0.00015472323866561058,\n",
              " 82591: 0.010880974121391771,\n",
              " 36458: 0.9950401186943054,\n",
              " 75810: 0.99980229139328,\n",
              " 72364: 0.0003650031867437065,\n",
              " 58069: 0.02034272812306881,\n",
              " 80724: 0.02633841149508953,\n",
              " 15438: 0.9966345429420472,\n",
              " 86025: 0.9999945163726808,\n",
              " 96502: 0.00010399553138995544,\n",
              " 93462: 0.9669983386993408,\n",
              " 90814: 0.5393347144126892,\n",
              " 17845: 0.0009346316801384091,\n",
              " 17809: 0.0080699622631073,\n",
              " 29467: 0.995060384273529,\n",
              " 35689: 0.9968619346618652,\n",
              " 49531: 0.9990130662918092,\n",
              " 35249: 0.407978892326355,\n",
              " 85746: 0.8700892329216003,\n",
              " 13874: 0.9886852502822876,\n",
              " 7396: 0.062352113425731666,\n",
              " 57312: 0.0695323646068573,\n",
              " 26914: 0.0004042194050271064,\n",
              " 47863: 0.0061084493063390255,\n",
              " 65734: 1.535428229004765e-09,\n",
              " 84169: 0.8632634282112122,\n",
              " 62790: 0.9900276064872742,\n",
              " 76103: 0.91557776927948,\n",
              " 5968: 0.13591745495796204,\n",
              " 87391: 5.242228553470341e-07,\n",
              " 72851: 0.0005144279566593468,\n",
              " 42189: 0.006781114265322685,\n",
              " 4265: 0.9984928369522096,\n",
              " 31267: 0.040648546069860465,\n",
              " 93145: 0.8882815837860107,\n",
              " 56328: 1.2137880958107417e-06,\n",
              " 9357: 0.9999994039535522,\n",
              " 35107: 0.7121545672416687,\n",
              " 4716: 0.5812400579452515,\n",
              " 3164: 0.993707537651062,\n",
              " 86425: 0.033255185931921005,\n",
              " 79316: 0.0010755355469882488,\n",
              " 98170: 0.9993695616722108,\n",
              " 42615: 0.9821710586547852,\n",
              " 25749: 0.4212704300880432,\n",
              " 18406: 0.008258759044110775,\n",
              " 36128: 0.6349823474884033,\n",
              " 25908: 0.9997519850730896,\n",
              " 53467: 0.6217449903488159,\n",
              " 29406: 0.04041961207985878,\n",
              " 29547: 0.9915291070938109,\n",
              " 5218: 3.1513991416431963e-05,\n",
              " 10938: 0.9973750114440918,\n",
              " 17508: 2.085683490804513e-06,\n",
              " 23751: 0.9780981540679932,\n",
              " 42739: 0.996168315410614,\n",
              " 45827: 0.7167485952377319,\n",
              " 79861: 0.003443255787715316,\n",
              " 46197: 0.0007700201822444798,\n",
              " 7694: 0.6876136660575867,\n",
              " 43697: 0.06849637627601624,\n",
              " 13407: 0.9721531271934508,\n",
              " 74236: 0.9999009370803832,\n",
              " 3987: 0.04613715782761574,\n",
              " 72093: 0.5889795422554016,\n",
              " 81527: 0.22769556939601895,\n",
              " 52139: 0.99811053276062,\n",
              " 80914: 0.0009647801634855568,\n",
              " 9687: 0.2273441851139069,\n",
              " 87913: 0.9999623298645021,\n",
              " 87013: 0.007628646213561296,\n",
              " 6593: 3.4123830118915066e-05,\n",
              " 21863: 0.9997742772102356,\n",
              " 6329: 0.04548169672489166,\n",
              " 39527: 0.9058395624160768,\n",
              " 85471: 0.3347689509391785,\n",
              " 2751: 0.6300719380378723,\n",
              " 48956: 0.004765442572534084,\n",
              " 39247: 0.010774724185466766,\n",
              " 32605: 1.6888139725779183e-05,\n",
              " 75136: 0.3473047912120819,\n",
              " 83091: 8.822765434901571e-12,\n",
              " 52847: 0.0073555544950068,\n",
              " 25463: 0.00020721182227134705,\n",
              " 4239: 0.9943488240242004,\n",
              " 17852: 0.0015619411133229733,\n",
              " 85420: 1.6702064442597475e-07,\n",
              " 34067: 0.1395515501499176,\n",
              " 41692: 0.07940740883350372,\n",
              " 93481: 0.0015804885188117625,\n",
              " 73842: 0.06484311819076538,\n",
              " 95302: 0.000519866996910423,\n",
              " 70148: 0.4162082076072693,\n",
              " 47265: 0.9840306043624878,\n",
              " 20854: 0.0003918344445992261,\n",
              " 74531: 0.023847591131925583,\n",
              " 20413: 0.9995399713516236,\n",
              " 48123: 0.604563295841217,\n",
              " 92158: 0.00016349181532859802,\n",
              " 9675: 5.225509994488675e-06,\n",
              " 8541: 0.5621286630630493,\n",
              " 95306: 0.9859079718589784,\n",
              " 47680: 0.9999983310699464,\n",
              " 32564: 0.9999047517776488,\n",
              " 19384: 4.151934263063595e-05,\n",
              " 17904: 0.997716188430786,\n",
              " 9513: 0.2187677025794983,\n",
              " 30815: 0.0018987030489370227,\n",
              " 5879: 4.396917574922554e-06,\n",
              " 75039: 0.00016383168986067176,\n",
              " 52140: 0.755748450756073,\n",
              " 64038: 8.236491458486762e-14,\n",
              " 87352: 0.0004884490626864135,\n",
              " 6243: 0.04019035026431084,\n",
              " 90143: 0.9874672293663024,\n",
              " 37289: 0.972001016139984,\n",
              " 54093: 0.9617667198181152,\n",
              " 62719: 7.893017937021796e-06,\n",
              " 84670: 0.0008025878923945129,\n",
              " 98721: 0.03943059965968132,\n",
              " 42705: 2.349255737499334e-06,\n",
              " 26781: 0.09795694053173064,\n",
              " 5792: 0.003025003243237734,\n",
              " 35146: 1.9601166059146635e-05,\n",
              " 4583: 0.9906994700431824,\n",
              " 30864: 0.001648655510507524,\n",
              " 98340: 0.9984487295150756,\n",
              " 65148: 0.0005036417860537766,\n",
              " 38754: 0.9994396567344666,\n",
              " 79134: 0.9857658147811891,\n",
              " 59028: 0.13160599768161774,\n",
              " 76854: 0.0008737242897041143,\n",
              " 82950: 0.4790239334106445,\n",
              " 80473: 0.002328431466594339,\n",
              " 91637: 0.6130678653717041,\n",
              " 7612: 0.9408754110336304,\n",
              " 8653: 0.8945984244346619,\n",
              " 79452: 0.3119081556797028,\n",
              " 42589: 0.4861063659191132,\n",
              " 92837: 0.0026992515195161104,\n",
              " 63795: 0.0020896189380437136,\n",
              " 14602: 0.00011298802564851941,\n",
              " 39241: 0.2512320280075073,\n",
              " 82675: 0.021104533225297928,\n",
              " 84321: 0.0016782743623480199,\n",
              " 42986: 6.962740008020774e-05,\n",
              " 3267: 0.9995927214622498,\n",
              " 24815: 0.4401323795318604,\n",
              " 47903: 0.9999666213989258,\n",
              " 78936: 0.6085822582244873,\n",
              " 40572: 0.9430167078971864,\n",
              " 41896: 0.005424753297120333,\n",
              " 27410: 0.546940803527832,\n",
              " 8294: 0.8231624960899353,\n",
              " 81075: 1.534715352136118e-06,\n",
              " 73049: 0.9999980926513672,\n",
              " 14765: 0.9996652603149414,\n",
              " 92683: 0.9999940395355223,\n",
              " 47692: 0.996261179447174,\n",
              " 40731: 0.028434133157134056,\n",
              " 28716: 5.5259361033677115e-06,\n",
              " 57869: 0.17184926569461825,\n",
              " 83046: 0.949474573135376,\n",
              " 67951: 0.9943061470985411,\n",
              " 75923: 0.21008168160915372,\n",
              " 4127: 0.0014232307439669967,\n",
              " 61058: 2.665776719368296e-06,\n",
              " 26738: 0.9999927282333374,\n",
              " 60289: 2.219993984908797e-05,\n",
              " 87160: 0.8198772072792053,\n",
              " 26910: 0.9999001026153564,\n",
              " 16598: 0.9202635288238524,\n",
              " 57890: 0.006216606590896846,\n",
              " 53426: 0.3353583514690399,\n",
              " 40856: 0.9862304329872132,\n",
              " 43269: 0.9990493655204772,\n",
              " 70381: 0.05488361418247223,\n",
              " 91063: 0.7605686783790588,\n",
              " 4135: 0.010516544803977013,\n",
              " 16870: 0.9937018156051636,\n",
              " 54830: 0.0005162395536899567,\n",
              " 57389: 0.9913718700408936,\n",
              " 18674: 6.804506028856849e-06,\n",
              " 34291: 0.0011125073069706561,\n",
              " 5461: 0.9998144507408142,\n",
              " 2846: 0.9713807106018066,\n",
              " 92836: 6.54533359920606e-05,\n",
              " 32410: 0.6651890277862549,\n",
              " 81690: 0.22200116515159607,\n",
              " 46815: 0.0011876588687300682,\n",
              " 54820: 0.0003028778301086277,\n",
              " 85042: 0.9130551218986512,\n",
              " 75821: 0.7611532807350159,\n",
              " 68394: 0.04297957569360733,\n",
              " 64907: 0.0006943652988411486,\n",
              " 30849: 0.0008484743884764613,\n",
              " 98473: 0.2959998250007629,\n",
              " 59671: 0.5908822417259216,\n",
              " 47831: 0.9992175102233888,\n",
              " 79031: 0.0011865620035678148,\n",
              " 74813: 0.22950299084186554,\n",
              " 75280: 0.9996328353881836,\n",
              " 84057: 0.780655026435852,\n",
              " 57908: 0.9945533275604248,\n",
              " 34602: 0.035403236746788025,\n",
              " 81035: 0.9992790818214417,\n",
              " 3765: 5.185730090534777e-18,\n",
              " 86179: 0.21859636902809146,\n",
              " 59107: 0.22515183687210086,\n",
              " 51628: 0.7521113157272339,\n",
              " 71063: 0.9896830320358276,\n",
              " 36805: 0.00012282663374207914,\n",
              " 79825: 7.713567356404383e-06,\n",
              " 4563: 6.463946920121089e-05,\n",
              " 1459: 3.489017399260774e-05,\n",
              " 38401: 0.0035333721898496147,\n",
              " 69324: 0.0077408142387866965,\n",
              " 90845: 0.999951720237732,\n",
              " 72419: 0.983236849308014,\n",
              " 64297: 0.003324563382193446,\n",
              " 43506: 0.7090493440628052,\n",
              " 93874: 8.900734428607393e-06,\n",
              " 84316: 0.675757110118866,\n",
              " 5734: 0.4049752950668335,\n",
              " 82760: 0.0028338308911770587,\n",
              " 64730: 0.030025221407413483,\n",
              " 97125: 6.072594624129123e-05,\n",
              " 39206: 0.9822437167167664,\n",
              " 67593: 0.9625702500343324,\n",
              " 1325: 0.24517478048801425,\n",
              " 89136: 0.9591568112373352,\n",
              " 3924: 0.19901952147483826,\n",
              " 52037: 0.00026357558090239763,\n",
              " 80321: 6.090742772357771e-07,\n",
              " 50962: 0.0010153371840715408,\n",
              " 1359: 0.000104947313957382,\n",
              " 27506: 0.9814977645874025,\n",
              " 70543: 3.363256837474182e-05,\n",
              " 48315: 0.06372829526662828,\n",
              " 10649: 0.9957818984985352,\n",
              " 62509: 0.0015399474650621414,\n",
              " 64571: 9.062921162694693e-05,\n",
              " 36521: 0.01252818014472723,\n",
              " 40268: 0.9994474053382874,\n",
              " 40723: 4.176092716079438e-06,\n",
              " 87924: 0.8882522583007812,\n",
              " 12589: 0.9998983144760132,\n",
              " 6524: 3.6464276490733034e-05,\n",
              " 52719: 0.8146457672119141,\n",
              " 45139: 0.017252745106816292,\n",
              " 53814: 0.0005718206521123648,\n",
              " 32960: 0.004966809879988432,\n",
              " 85310: 0.025784673169255257,\n",
              " 90657: 0.9972198009490968,\n",
              " 78321: 0.0002638428413774818,\n",
              " 28495: 0.4600468575954437,\n",
              " 5791: 0.003338794456794858,\n",
              " 16452: 4.733786681754282e-06,\n",
              " 7521: 1.661928035900928e-05,\n",
              " 97514: 0.2982751429080963,\n",
              " 74508: 1.5928499124129303e-06,\n",
              " 74259: 0.0003950239042751491,\n",
              " 39725: 0.0030162569601088762,\n",
              " 3624: 0.9995973706245422,\n",
              " 40218: 7.790178642608224e-06,\n",
              " 51928: 0.0486486442387104,\n",
              " 27548: 0.32996299862861633,\n",
              " 57649: 0.3738230764865875,\n",
              " 89512: 0.017983641475439068,\n",
              " 87692: 1.9752994830923853e-06,\n",
              " 84325: 0.008496064692735672,\n",
              " 42083: 0.004786725621670485,\n",
              " 26531: 0.778522789478302,\n",
              " 87390: 0.9709445238113404,\n",
              " 10475: 1.92394475351243e-10,\n",
              " 91736: 1.3362989648157964e-07,\n",
              " 48379: 0.00011614859977271409}"
            ]
          },
          "metadata": {
            "tags": []
          },
          "execution_count": 98
        }
      ]
    },
    {
      "cell_type": "code",
      "metadata": {
        "execution": {
          "iopub.status.busy": "2021-07-09T14:39:41.818251Z",
          "iopub.execute_input": "2021-07-09T14:39:41.818634Z",
          "iopub.status.idle": "2021-07-09T14:39:41.831804Z",
          "shell.execute_reply.started": "2021-07-09T14:39:41.818600Z",
          "shell.execute_reply": "2021-07-09T14:39:41.830689Z"
        },
        "trusted": true,
        "id": "tcIEVjZ3hgUL"
      },
      "source": [
        "#Actual labels\n",
        "actual_labels = {valid['id'][i]:valid['label'][i] for i in range(500)}"
      ],
      "execution_count": null,
      "outputs": []
    },
    {
      "cell_type": "code",
      "metadata": {
        "execution": {
          "iopub.status.busy": "2021-07-09T15:05:31.920667Z",
          "iopub.execute_input": "2021-07-09T15:05:31.921026Z",
          "iopub.status.idle": "2021-07-09T15:05:31.945045Z",
          "shell.execute_reply.started": "2021-07-09T15:05:31.920993Z",
          "shell.execute_reply": "2021-07-09T15:05:31.944067Z"
        },
        "jupyter": {
          "outputs_hidden": true
        },
        "trusted": true,
        "id": "He5m9Lh1hgUL",
        "outputId": "79094f7d-fb6b-42b1-92c4-56cf2e45aaff"
      },
      "source": [
        "actual_labels"
      ],
      "execution_count": null,
      "outputs": [
        {
          "output_type": "execute_result",
          "data": {
            "text/plain": [
              "{16395: 1,\n",
              " 37405: 1,\n",
              " 94180: 1,\n",
              " 54321: 1,\n",
              " 97015: 1,\n",
              " 73506: 1,\n",
              " 5429: 1,\n",
              " 70691: 0,\n",
              " 69421: 1,\n",
              " 50162: 1,\n",
              " 43728: 1,\n",
              " 75081: 1,\n",
              " 47829: 1,\n",
              " 35279: 1,\n",
              " 54920: 1,\n",
              " 39867: 1,\n",
              " 96082: 1,\n",
              " 38045: 1,\n",
              " 62134: 1,\n",
              " 81970: 1,\n",
              " 1865: 1,\n",
              " 86139: 1,\n",
              " 38765: 1,\n",
              " 15306: 1,\n",
              " 17209: 1,\n",
              " 96185: 1,\n",
              " 93875: 1,\n",
              " 57286: 1,\n",
              " 8261: 1,\n",
              " 60823: 1,\n",
              " 83720: 1,\n",
              " 89432: 1,\n",
              " 89607: 1,\n",
              " 14267: 1,\n",
              " 82749: 1,\n",
              " 70643: 1,\n",
              " 12785: 1,\n",
              " 86394: 1,\n",
              " 63491: 1,\n",
              " 98026: 1,\n",
              " 89263: 0,\n",
              " 42975: 1,\n",
              " 74016: 1,\n",
              " 26347: 1,\n",
              " 89105: 1,\n",
              " 57932: 1,\n",
              " 52971: 0,\n",
              " 4615: 1,\n",
              " 1936: 1,\n",
              " 17546: 1,\n",
              " 56908: 1,\n",
              " 24973: 0,\n",
              " 4958: 1,\n",
              " 60345: 1,\n",
              " 2356: 0,\n",
              " 91806: 1,\n",
              " 5462: 1,\n",
              " 1627: 1,\n",
              " 18239: 0,\n",
              " 49372: 1,\n",
              " 59167: 0,\n",
              " 59287: 1,\n",
              " 64279: 1,\n",
              " 38701: 1,\n",
              " 12643: 1,\n",
              " 46532: 1,\n",
              " 7516: 1,\n",
              " 93251: 1,\n",
              " 31760: 0,\n",
              " 19230: 0,\n",
              " 89251: 1,\n",
              " 2789: 1,\n",
              " 3976: 1,\n",
              " 7291: 1,\n",
              " 58374: 0,\n",
              " 78092: 1,\n",
              " 28396: 1,\n",
              " 87039: 1,\n",
              " 94216: 1,\n",
              " 81523: 1,\n",
              " 15473: 1,\n",
              " 48059: 1,\n",
              " 38054: 1,\n",
              " 35870: 1,\n",
              " 7392: 1,\n",
              " 72019: 1,\n",
              " 95723: 1,\n",
              " 1284: 1,\n",
              " 27980: 1,\n",
              " 65917: 1,\n",
              " 10548: 1,\n",
              " 26091: 1,\n",
              " 98637: 1,\n",
              " 98653: 1,\n",
              " 9638: 1,\n",
              " 16592: 1,\n",
              " 47693: 1,\n",
              " 51263: 1,\n",
              " 67149: 1,\n",
              " 63547: 1,\n",
              " 49267: 0,\n",
              " 24351: 1,\n",
              " 23419: 1,\n",
              " 30762: 1,\n",
              " 52096: 0,\n",
              " 64735: 1,\n",
              " 10652: 0,\n",
              " 92456: 1,\n",
              " 42635: 0,\n",
              " 47931: 0,\n",
              " 70143: 1,\n",
              " 51863: 1,\n",
              " 2584: 1,\n",
              " 48132: 1,\n",
              " 81370: 1,\n",
              " 74029: 0,\n",
              " 50643: 0,\n",
              " 59423: 1,\n",
              " 63502: 0,\n",
              " 89360: 1,\n",
              " 5219: 1,\n",
              " 61342: 0,\n",
              " 16234: 0,\n",
              " 34215: 0,\n",
              " 10963: 1,\n",
              " 94380: 1,\n",
              " 30954: 0,\n",
              " 5162: 1,\n",
              " 36184: 0,\n",
              " 17285: 1,\n",
              " 20815: 0,\n",
              " 35198: 1,\n",
              " 32451: 1,\n",
              " 58079: 0,\n",
              " 37092: 0,\n",
              " 76542: 0,\n",
              " 17096: 1,\n",
              " 69753: 0,\n",
              " 7652: 0,\n",
              " 39182: 0,\n",
              " 10476: 1,\n",
              " 17596: 0,\n",
              " 25893: 0,\n",
              " 57836: 0,\n",
              " 32907: 0,\n",
              " 18453: 1,\n",
              " 26537: 0,\n",
              " 7689: 0,\n",
              " 69423: 0,\n",
              " 45269: 1,\n",
              " 29710: 0,\n",
              " 10865: 0,\n",
              " 56291: 0,\n",
              " 60175: 1,\n",
              " 90538: 0,\n",
              " 6931: 0,\n",
              " 69403: 0,\n",
              " 21530: 1,\n",
              " 3146: 0,\n",
              " 4879: 0,\n",
              " 14583: 1,\n",
              " 31894: 0,\n",
              " 90734: 0,\n",
              " 67841: 0,\n",
              " 24689: 1,\n",
              " 39564: 1,\n",
              " 15763: 0,\n",
              " 76091: 0,\n",
              " 23047: 0,\n",
              " 35186: 0,\n",
              " 21386: 0,\n",
              " 80713: 1,\n",
              " 50483: 0,\n",
              " 41250: 0,\n",
              " 45326: 0,\n",
              " 9241: 0,\n",
              " 8524: 1,\n",
              " 31468: 0,\n",
              " 57431: 0,\n",
              " 6135: 0,\n",
              " 70456: 0,\n",
              " 53214: 0,\n",
              " 48523: 0,\n",
              " 45093: 0,\n",
              " 98374: 1,\n",
              " 89026: 0,\n",
              " 94152: 0,\n",
              " 63719: 0,\n",
              " 80392: 0,\n",
              " 98035: 0,\n",
              " 26573: 0,\n",
              " 15379: 0,\n",
              " 10564: 1,\n",
              " 80463: 0,\n",
              " 35687: 0,\n",
              " 28579: 0,\n",
              " 71453: 0,\n",
              " 13285: 0,\n",
              " 1634: 0,\n",
              " 85630: 1,\n",
              " 16302: 0,\n",
              " 73846: 0,\n",
              " 27496: 1,\n",
              " 75806: 0,\n",
              " 30154: 1,\n",
              " 68594: 1,\n",
              " 64803: 1,\n",
              " 65071: 0,\n",
              " 7193: 1,\n",
              " 60812: 0,\n",
              " 23619: 0,\n",
              " 45610: 0,\n",
              " 91260: 0,\n",
              " 87526: 0,\n",
              " 54621: 0,\n",
              " 45792: 0,\n",
              " 26891: 1,\n",
              " 95371: 0,\n",
              " 3968: 0,\n",
              " 40578: 0,\n",
              " 97853: 0,\n",
              " 26549: 0,\n",
              " 13907: 0,\n",
              " 51482: 1,\n",
              " 82591: 1,\n",
              " 36458: 0,\n",
              " 75810: 1,\n",
              " 72364: 0,\n",
              " 58069: 0,\n",
              " 80724: 1,\n",
              " 15438: 0,\n",
              " 86025: 0,\n",
              " 96502: 0,\n",
              " 93462: 1,\n",
              " 90814: 1,\n",
              " 17845: 0,\n",
              " 17809: 1,\n",
              " 29467: 0,\n",
              " 35689: 0,\n",
              " 49531: 0,\n",
              " 35249: 1,\n",
              " 85746: 0,\n",
              " 13874: 0,\n",
              " 7396: 1,\n",
              " 57312: 0,\n",
              " 26914: 1,\n",
              " 47863: 0,\n",
              " 65734: 1,\n",
              " 84169: 0,\n",
              " 62790: 0,\n",
              " 76103: 0,\n",
              " 5968: 1,\n",
              " 87391: 0,\n",
              " 72851: 0,\n",
              " 42189: 0,\n",
              " 4265: 1,\n",
              " 31267: 0,\n",
              " 93145: 1,\n",
              " 56328: 1,\n",
              " 9357: 1,\n",
              " 35107: 0,\n",
              " 4716: 0,\n",
              " 3164: 1,\n",
              " 86425: 0,\n",
              " 79316: 1,\n",
              " 98170: 1,\n",
              " 42615: 0,\n",
              " 25749: 0,\n",
              " 18406: 0,\n",
              " 36128: 0,\n",
              " 25908: 0,\n",
              " 53467: 0,\n",
              " 29406: 1,\n",
              " 29547: 1,\n",
              " 5218: 0,\n",
              " 10938: 0,\n",
              " 17508: 1,\n",
              " 23751: 1,\n",
              " 42739: 1,\n",
              " 45827: 0,\n",
              " 79861: 0,\n",
              " 46197: 0,\n",
              " 7694: 1,\n",
              " 43697: 1,\n",
              " 13407: 1,\n",
              " 74236: 0,\n",
              " 3987: 0,\n",
              " 72093: 0,\n",
              " 81527: 0,\n",
              " 52139: 0,\n",
              " 80914: 0,\n",
              " 9687: 0,\n",
              " 87913: 1,\n",
              " 87013: 1,\n",
              " 6593: 0,\n",
              " 21863: 0,\n",
              " 6329: 0,\n",
              " 39527: 0,\n",
              " 85471: 0,\n",
              " 2751: 0,\n",
              " 48956: 1,\n",
              " 39247: 0,\n",
              " 32605: 1,\n",
              " 75136: 0,\n",
              " 83091: 0,\n",
              " 52847: 0,\n",
              " 25463: 0,\n",
              " 4239: 0,\n",
              " 17852: 1,\n",
              " 85420: 0,\n",
              " 34067: 0,\n",
              " 41692: 1,\n",
              " 93481: 0,\n",
              " 73842: 1,\n",
              " 95302: 0,\n",
              " 70148: 1,\n",
              " 47265: 1,\n",
              " 20854: 0,\n",
              " 74531: 0,\n",
              " 20413: 1,\n",
              " 48123: 1,\n",
              " 92158: 0,\n",
              " 9675: 1,\n",
              " 8541: 1,\n",
              " 95306: 1,\n",
              " 47680: 1,\n",
              " 32564: 0,\n",
              " 19384: 0,\n",
              " 17904: 1,\n",
              " 9513: 0,\n",
              " 30815: 0,\n",
              " 5879: 0,\n",
              " 75039: 1,\n",
              " 52140: 1,\n",
              " 64038: 0,\n",
              " 87352: 0,\n",
              " 6243: 1,\n",
              " 90143: 0,\n",
              " 37289: 1,\n",
              " 54093: 0,\n",
              " 62719: 0,\n",
              " 84670: 1,\n",
              " 98721: 0,\n",
              " 42705: 0,\n",
              " 26781: 0,\n",
              " 5792: 0,\n",
              " 35146: 1,\n",
              " 4583: 1,\n",
              " 30864: 0,\n",
              " 98340: 0,\n",
              " 65148: 1,\n",
              " 38754: 1,\n",
              " 79134: 0,\n",
              " 59028: 0,\n",
              " 76854: 0,\n",
              " 82950: 0,\n",
              " 80473: 1,\n",
              " 91637: 0,\n",
              " 7612: 1,\n",
              " 8653: 0,\n",
              " 79452: 0,\n",
              " 42589: 1,\n",
              " 92837: 1,\n",
              " 63795: 0,\n",
              " 14602: 1,\n",
              " 39241: 0,\n",
              " 82675: 0,\n",
              " 84321: 1,\n",
              " 42986: 0,\n",
              " 3267: 0,\n",
              " 24815: 0,\n",
              " 47903: 1,\n",
              " 78936: 1,\n",
              " 40572: 0,\n",
              " 41896: 0,\n",
              " 27410: 0,\n",
              " 8294: 1,\n",
              " 81075: 1,\n",
              " 73049: 1,\n",
              " 14765: 0,\n",
              " 92683: 1,\n",
              " 47692: 0,\n",
              " 40731: 0,\n",
              " 28716: 1,\n",
              " 57869: 0,\n",
              " 83046: 0,\n",
              " 67951: 0,\n",
              " 75923: 1,\n",
              " 4127: 1,\n",
              " 61058: 0,\n",
              " 26738: 1,\n",
              " 60289: 1,\n",
              " 87160: 0,\n",
              " 26910: 1,\n",
              " 16598: 1,\n",
              " 57890: 1,\n",
              " 53426: 1,\n",
              " 40856: 1,\n",
              " 43269: 1,\n",
              " 70381: 1,\n",
              " 91063: 0,\n",
              " 4135: 0,\n",
              " 16870: 0,\n",
              " 54830: 0,\n",
              " 57389: 1,\n",
              " 18674: 0,\n",
              " 34291: 1,\n",
              " 5461: 1,\n",
              " 2846: 0,\n",
              " 92836: 0,\n",
              " 32410: 0,\n",
              " 81690: 1,\n",
              " 46815: 0,\n",
              " 54820: 1,\n",
              " 85042: 1,\n",
              " 75821: 1,\n",
              " 68394: 0,\n",
              " 64907: 0,\n",
              " 30849: 1,\n",
              " 98473: 0,\n",
              " 59671: 1,\n",
              " 47831: 0,\n",
              " 79031: 1,\n",
              " 74813: 1,\n",
              " 75280: 1,\n",
              " 84057: 1,\n",
              " 57908: 0,\n",
              " 34602: 1,\n",
              " 81035: 1,\n",
              " 3765: 1,\n",
              " 86179: 0,\n",
              " 59107: 0,\n",
              " 51628: 0,\n",
              " 71063: 1,\n",
              " 36805: 1,\n",
              " 79825: 0,\n",
              " 4563: 0,\n",
              " 1459: 0,\n",
              " 38401: 0,\n",
              " 69324: 0,\n",
              " 90845: 1,\n",
              " 72419: 1,\n",
              " 64297: 1,\n",
              " 43506: 1,\n",
              " 93874: 0,\n",
              " 84316: 1,\n",
              " 5734: 0,\n",
              " 82760: 0,\n",
              " 64730: 1,\n",
              " 97125: 1,\n",
              " 39206: 0,\n",
              " 67593: 1,\n",
              " 1325: 0,\n",
              " 89136: 0,\n",
              " 3924: 1,\n",
              " 52037: 0,\n",
              " 80321: 1,\n",
              " 50962: 0,\n",
              " 1359: 0,\n",
              " 27506: 0,\n",
              " 70543: 1,\n",
              " 48315: 1,\n",
              " 10649: 1,\n",
              " 62509: 1,\n",
              " 64571: 0,\n",
              " 36521: 1,\n",
              " 40268: 0,\n",
              " 40723: 0,\n",
              " 87924: 1,\n",
              " 12589: 0,\n",
              " 6524: 0,\n",
              " 52719: 1,\n",
              " 45139: 1,\n",
              " 53814: 0,\n",
              " 32960: 0,\n",
              " 85310: 1,\n",
              " 90657: 1,\n",
              " 78321: 1,\n",
              " 28495: 1,\n",
              " 5791: 1,\n",
              " 16452: 0,\n",
              " 7521: 1,\n",
              " 97514: 1,\n",
              " 74508: 1,\n",
              " 74259: 1,\n",
              " 39725: 1,\n",
              " 3624: 0,\n",
              " 40218: 0,\n",
              " 51928: 1,\n",
              " 27548: 1,\n",
              " 57649: 0,\n",
              " 89512: 0,\n",
              " 87692: 0,\n",
              " 84325: 0,\n",
              " 42083: 1,\n",
              " 26531: 1,\n",
              " 87390: 1,\n",
              " 10475: 1,\n",
              " 91736: 1,\n",
              " 48379: 0}"
            ]
          },
          "metadata": {
            "tags": []
          },
          "execution_count": 96
        }
      ]
    }
  ]
}