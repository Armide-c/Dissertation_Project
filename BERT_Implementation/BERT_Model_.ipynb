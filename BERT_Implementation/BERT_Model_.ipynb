{
  "metadata": {
    "kernelspec": {
      "language": "python",
      "display_name": "Python 3",
      "name": "python3"
    },
    "language_info": {
      "name": "python",
      "version": "3.7.10",
      "mimetype": "text/x-python",
      "codemirror_mode": {
        "name": "ipython",
        "version": 3
      },
      "pygments_lexer": "ipython3",
      "nbconvert_exporter": "python",
      "file_extension": ".py"
    },
    "colab": {
      "name": "Copy of re-shaped-bert-attemp-4.ipynb",
      "provenance": []
    }
  },
  "nbformat_minor": 0,
  "nbformat": 4,
  "cells": [
    {
      "cell_type": "markdown",
      "source": [
        "Install depencies and Lib"
      ],
      "metadata": {
        "id": "M49u_Ro8nrrh"
      }
    },
    {
      "cell_type": "code",
      "source": [
        "! pip install pytorch_pretrained_bert pytorch-nlp -q"
      ],
      "metadata": {
        "execution": {
          "iopub.status.busy": "2021-07-18T14:07:01.283421Z",
          "iopub.execute_input": "2021-07-18T14:07:01.284017Z",
          "iopub.status.idle": "2021-07-18T14:07:12.287942Z",
          "shell.execute_reply.started": "2021-07-18T14:07:01.283892Z",
          "shell.execute_reply": "2021-07-18T14:07:12.286688Z"
        },
        "trusted": true,
        "id": "wdQiL7sanrrl",
        "outputId": "2ae0949c-37a0-416a-f929-da7460569203"
      },
      "execution_count": null,
      "outputs": [
        {
          "name": "stdout",
          "text": "\u001b[33mWARNING: Running pip as root will break packages and permissions. You should install packages reliably by using venv: https://pip.pypa.io/warnings/venv\u001b[0m\n",
          "output_type": "stream"
        }
      ]
    },
    {
      "cell_type": "code",
      "source": [
        "!pip install transformers"
      ],
      "metadata": {
        "execution": {
          "iopub.status.busy": "2021-07-18T14:07:12.290942Z",
          "iopub.execute_input": "2021-07-18T14:07:12.291419Z",
          "iopub.status.idle": "2021-07-18T14:07:20.449080Z",
          "shell.execute_reply.started": "2021-07-18T14:07:12.291369Z",
          "shell.execute_reply": "2021-07-18T14:07:20.447860Z"
        },
        "trusted": true,
        "id": "UT7auIVOnrrm",
        "outputId": "a42569de-ff7f-4bcc-f4c9-5737dc2e0952"
      },
      "execution_count": null,
      "outputs": [
        {
          "name": "stdout",
          "text": "Requirement already satisfied: transformers in /opt/conda/lib/python3.7/site-packages (4.6.1)\nRequirement already satisfied: importlib-metadata in /opt/conda/lib/python3.7/site-packages (from transformers) (3.4.0)\nRequirement already satisfied: huggingface-hub==0.0.8 in /opt/conda/lib/python3.7/site-packages (from transformers) (0.0.8)\nRequirement already satisfied: tokenizers<0.11,>=0.10.1 in /opt/conda/lib/python3.7/site-packages (from transformers) (0.10.3)\nRequirement already satisfied: tqdm>=4.27 in /opt/conda/lib/python3.7/site-packages (from transformers) (4.61.1)\nRequirement already satisfied: numpy>=1.17 in /opt/conda/lib/python3.7/site-packages (from transformers) (1.19.5)\nRequirement already satisfied: filelock in /opt/conda/lib/python3.7/site-packages (from transformers) (3.0.12)\nRequirement already satisfied: requests in /opt/conda/lib/python3.7/site-packages (from transformers) (2.25.1)\nRequirement already satisfied: sacremoses in /opt/conda/lib/python3.7/site-packages (from transformers) (0.0.45)\nRequirement already satisfied: packaging in /opt/conda/lib/python3.7/site-packages (from transformers) (20.9)\nRequirement already satisfied: regex!=2019.12.17 in /opt/conda/lib/python3.7/site-packages (from transformers) (2021.4.4)\nRequirement already satisfied: zipp>=0.5 in /opt/conda/lib/python3.7/site-packages (from importlib-metadata->transformers) (3.4.1)\nRequirement already satisfied: typing-extensions>=3.6.4 in /opt/conda/lib/python3.7/site-packages (from importlib-metadata->transformers) (3.7.4.3)\nRequirement already satisfied: pyparsing>=2.0.2 in /opt/conda/lib/python3.7/site-packages (from packaging->transformers) (2.4.7)\nRequirement already satisfied: urllib3<1.27,>=1.21.1 in /opt/conda/lib/python3.7/site-packages (from requests->transformers) (1.26.5)\nRequirement already satisfied: idna<3,>=2.5 in /opt/conda/lib/python3.7/site-packages (from requests->transformers) (2.10)\nRequirement already satisfied: chardet<5,>=3.0.2 in /opt/conda/lib/python3.7/site-packages (from requests->transformers) (4.0.0)\nRequirement already satisfied: certifi>=2017.4.17 in /opt/conda/lib/python3.7/site-packages (from requests->transformers) (2021.5.30)\nRequirement already satisfied: click in /opt/conda/lib/python3.7/site-packages (from sacremoses->transformers) (7.1.2)\nRequirement already satisfied: six in /opt/conda/lib/python3.7/site-packages (from sacremoses->transformers) (1.15.0)\nRequirement already satisfied: joblib in /opt/conda/lib/python3.7/site-packages (from sacremoses->transformers) (1.0.1)\n\u001b[33mWARNING: Running pip as root will break packages and permissions. You should install packages reliably by using venv: https://pip.pypa.io/warnings/venv\u001b[0m\n",
          "output_type": "stream"
        }
      ]
    },
    {
      "cell_type": "code",
      "source": [
        "%matplotlib inline\n",
        "import matplotlib.pyplot as plt\n",
        "import numpy as np\n",
        "import pandas as pd\n",
        "from tqdm import tqdm\n",
        "import sys\n",
        "import os\n",
        "import json\n",
        "import logging\n",
        "from pathlib import Path\n",
        "import random\n",
        "import tarfile\n",
        "import tempfile\n",
        "import warnings\n",
        "import re\n",
        "\n",
        "#For BERT:\n",
        "\n",
        "import torch.nn as nn\n",
        "from pytorch_pretrained_bert import BertTokenizer, BertForSequenceClassification, BertAdam\n",
        "import torch\n",
        "from torch.utils.data import TensorDataset, RandomSampler, SequentialSampler, DataLoader\n",
        "from torch.nn import BCEWithLogitsLoss, Sigmoid\n",
        "import torchvision.models as Model\n",
        "\n",
        "# Huggingface transformers\n",
        "import transformers\n",
        "from transformers import BertModel,BertTokenizer,AdamW, get_linear_schedule_with_warmup\n",
        "\n",
        "import torch\n",
        "from torch import nn ,cuda\n",
        "from torch.utils.data import DataLoader,Dataset,RandomSampler, SequentialSampler\n",
        "\n",
        "import pytorch_lightning as pl\n",
        "from pytorch_lightning.callbacks import ModelCheckpoint\n",
        "\n",
        "from sklearn.model_selection import train_test_split\n",
        "from sklearn.metrics import accuracy_score, precision_recall_fscore_support\n",
        "from sklearn.metrics import roc_auc_score, balanced_accuracy_score\n",
        "\n",
        "from tqdm.notebook import tqdm, trange\n",
        "\n",
        "from keras.preprocessing.sequence import pad_sequences\n",
        "from tensorflow.keras.callbacks import ModelCheckpoint\n",
        "\n",
        "from sklearn.model_selection import train_test_split\n",
        "\n",
        "from tensorflow.keras.layers import Dense, Input\n",
        "import tensorflow_hub as hub\n",
        "import tensorflow as tf\n",
        "from tensorflow.keras.models import Model\n",
        "from tensorflow.keras.optimizers import Adam\n",
        "\n",
        "device = torch.device(\"cuda\" if torch.cuda.is_available() else \"cpu\")\n",
        "device"
      ],
      "metadata": {
        "_uuid": "8f2839f25d086af736a60e9eeb907d3b93b6e0e5",
        "_cell_guid": "b1076dfc-b9ad-4769-8c92-a6c4dae69d19",
        "execution": {
          "iopub.status.busy": "2021-07-18T14:07:20.451729Z",
          "iopub.execute_input": "2021-07-18T14:07:20.452193Z",
          "iopub.status.idle": "2021-07-18T14:07:30.957129Z",
          "shell.execute_reply.started": "2021-07-18T14:07:20.452143Z",
          "shell.execute_reply": "2021-07-18T14:07:30.955842Z"
        },
        "trusted": true,
        "id": "Gtdiv1iinrro",
        "outputId": "89e0c4e1-ee04-44d7-d1fa-51b7fa50c7b6"
      },
      "execution_count": null,
      "outputs": [
        {
          "execution_count": 3,
          "output_type": "execute_result",
          "data": {
            "text/plain": "device(type='cuda')"
          },
          "metadata": {}
        }
      ]
    },
    {
      "cell_type": "code",
      "source": [
        "data_dir =  Path.cwd().parent/\"input/hmdatasetnp/data/\"\n",
        "data_test_dir = Path.cwd().parent/\"input/labelshmctestset/\"\n",
        "\n",
        "img_tar_path = data_dir/\"img\"\n",
        "train_path = data_dir / \"train.jsonl\"\n",
        "dev_path = data_dir / \"dev_seen.jsonl\"\n",
        "test_path = data_test_dir / \"test_seen_label.jsonl\""
      ],
      "metadata": {
        "execution": {
          "iopub.status.busy": "2021-07-18T14:07:30.959289Z",
          "iopub.execute_input": "2021-07-18T14:07:30.959801Z",
          "iopub.status.idle": "2021-07-18T14:07:30.970138Z",
          "shell.execute_reply.started": "2021-07-18T14:07:30.959753Z",
          "shell.execute_reply": "2021-07-18T14:07:30.968954Z"
        },
        "trusted": true,
        "id": "t0JYn4E9nrrr"
      },
      "execution_count": null,
      "outputs": []
    },
    {
      "cell_type": "code",
      "source": [
        "train_set = pd.read_json(train_path, lines=True)\n",
        "dev_set = pd.read_json(dev_path, lines=True)\n",
        "test_set = pd.read_json(test_path, lines=True)"
      ],
      "metadata": {
        "execution": {
          "iopub.status.busy": "2021-07-18T14:07:30.972093Z",
          "iopub.execute_input": "2021-07-18T14:07:30.972818Z",
          "iopub.status.idle": "2021-07-18T14:07:31.150006Z",
          "shell.execute_reply.started": "2021-07-18T14:07:30.972760Z",
          "shell.execute_reply": "2021-07-18T14:07:31.148821Z"
        },
        "trusted": true,
        "id": "9iqdGKpVnrrs"
      },
      "execution_count": null,
      "outputs": []
    },
    {
      "cell_type": "code",
      "source": [
        "train_sentences = train_set[\"text\"]\n",
        "test_sentences = dev_set[\"text\"]"
      ],
      "metadata": {
        "execution": {
          "iopub.status.busy": "2021-07-18T14:07:31.152779Z",
          "iopub.execute_input": "2021-07-18T14:07:31.153138Z",
          "iopub.status.idle": "2021-07-18T14:07:31.162500Z",
          "shell.execute_reply.started": "2021-07-18T14:07:31.153086Z",
          "shell.execute_reply": "2021-07-18T14:07:31.161350Z"
        },
        "trusted": true,
        "id": "fzT7Er2Onrrt"
      },
      "execution_count": null,
      "outputs": []
    },
    {
      "cell_type": "code",
      "source": [
        "train_sentences = [\"[CLS] \"+ i + \" [SEP]\"for i in train_sentences]\n",
        "test_sentences = [\"[CLS] \"+ i + \" [SEP]\"for i in test_sentences]\n",
        "train_sentences[0], test_sentences[0]"
      ],
      "metadata": {
        "execution": {
          "iopub.status.busy": "2021-07-18T14:07:31.166980Z",
          "iopub.execute_input": "2021-07-18T14:07:31.167523Z",
          "iopub.status.idle": "2021-07-18T14:07:31.185719Z",
          "shell.execute_reply.started": "2021-07-18T14:07:31.167468Z",
          "shell.execute_reply": "2021-07-18T14:07:31.184439Z"
        },
        "trusted": true,
        "id": "3Qsj4YTxnrru",
        "outputId": "c72a5ebd-a8c1-43bd-8984-04e11d38c8c2"
      },
      "execution_count": null,
      "outputs": [
        {
          "execution_count": 7,
          "output_type": "execute_result",
          "data": {
            "text/plain": "('[CLS] its their character not their color that matters [SEP]',\n '[CLS] white people is this a shooting range [SEP]')"
          },
          "metadata": {}
        }
      ]
    },
    {
      "cell_type": "markdown",
      "source": [
        "# Download BERT"
      ],
      "metadata": {
        "id": "xW21PZ_rnrrv"
      }
    },
    {
      "cell_type": "code",
      "source": [
        "tokenizer = BertTokenizer.from_pretrained('bert-base-uncased', do_lower_case = True)"
      ],
      "metadata": {
        "execution": {
          "iopub.status.busy": "2021-07-18T14:07:31.190078Z",
          "iopub.execute_input": "2021-07-18T14:07:31.190418Z",
          "iopub.status.idle": "2021-07-18T14:07:35.323086Z",
          "shell.execute_reply.started": "2021-07-18T14:07:31.190386Z",
          "shell.execute_reply": "2021-07-18T14:07:35.321759Z"
        },
        "trusted": true,
        "colab": {
          "referenced_widgets": [
            "a9e2d0e1a00b449abccbb1068af5ae1d",
            "fb83919c06844c0da2ca2fc60e14d8cc",
            "9064edea533647bcbf1304f678815c92"
          ]
        },
        "id": "OVjcsjWonrrw",
        "outputId": "d33550a0-9584-4ca3-8b53-d8bcae5b57d4"
      },
      "execution_count": null,
      "outputs": [
        {
          "output_type": "display_data",
          "data": {
            "text/plain": "Downloading:   0%|          | 0.00/232k [00:00<?, ?B/s]",
            "application/vnd.jupyter.widget-view+json": {
              "version_major": 2,
              "version_minor": 0,
              "model_id": "a9e2d0e1a00b449abccbb1068af5ae1d"
            }
          },
          "metadata": {}
        },
        {
          "output_type": "display_data",
          "data": {
            "text/plain": "Downloading:   0%|          | 0.00/28.0 [00:00<?, ?B/s]",
            "application/vnd.jupyter.widget-view+json": {
              "version_major": 2,
              "version_minor": 0,
              "model_id": "fb83919c06844c0da2ca2fc60e14d8cc"
            }
          },
          "metadata": {}
        },
        {
          "output_type": "display_data",
          "data": {
            "text/plain": "Downloading:   0%|          | 0.00/466k [00:00<?, ?B/s]",
            "application/vnd.jupyter.widget-view+json": {
              "version_major": 2,
              "version_minor": 0,
              "model_id": "9064edea533647bcbf1304f678815c92"
            }
          },
          "metadata": {}
        }
      ]
    },
    {
      "cell_type": "code",
      "source": [
        "train_tokenizer_texts = list(map(lambda t: tokenizer.tokenize(t)[:510], tqdm(train_sentences)))\n",
        "\n",
        "test_tokenizer_texts = list(map(lambda t: tokenizer.tokenize(t)[:510], tqdm(test_sentences)))\n",
        "\n",
        "np.array(train_tokenizer_texts[0]), np.array(test_tokenizer_texts[0])"
      ],
      "metadata": {
        "execution": {
          "iopub.status.busy": "2021-07-18T14:07:35.325042Z",
          "iopub.execute_input": "2021-07-18T14:07:35.325555Z",
          "iopub.status.idle": "2021-07-18T14:07:39.952166Z",
          "shell.execute_reply.started": "2021-07-18T14:07:35.325507Z",
          "shell.execute_reply": "2021-07-18T14:07:39.950876Z"
        },
        "trusted": true,
        "colab": {
          "referenced_widgets": [
            "dddabac74f0b4135ac1a855c1e588ba2",
            "97bd42677a1b4dd5be407fee7def10bb"
          ]
        },
        "id": "i4El39Nbnrrx",
        "outputId": "e553f6f7-5ae5-4038-8844-96af3ff946d9"
      },
      "execution_count": null,
      "outputs": [
        {
          "output_type": "display_data",
          "data": {
            "text/plain": "  0%|          | 0/8500 [00:00<?, ?it/s]",
            "application/vnd.jupyter.widget-view+json": {
              "version_major": 2,
              "version_minor": 0,
              "model_id": "dddabac74f0b4135ac1a855c1e588ba2"
            }
          },
          "metadata": {}
        },
        {
          "output_type": "display_data",
          "data": {
            "text/plain": "  0%|          | 0/500 [00:00<?, ?it/s]",
            "application/vnd.jupyter.widget-view+json": {
              "version_major": 2,
              "version_minor": 0,
              "model_id": "97bd42677a1b4dd5be407fee7def10bb"
            }
          },
          "metadata": {}
        },
        {
          "execution_count": 9,
          "output_type": "execute_result",
          "data": {
            "text/plain": "(array(['[CLS]', 'its', 'their', 'character', 'not', 'their', 'color',\n        'that', 'matters', '[SEP]'], dtype='<U9'),\n array(['[CLS]', 'white', 'people', 'is', 'this', 'a', 'shooting', 'range',\n        '[SEP]'], dtype='<U8'))"
          },
          "metadata": {}
        }
      ]
    },
    {
      "cell_type": "code",
      "source": [
        "def encode_text(text, tokenizer, max_len=512):\n",
        "    token = []\n",
        "    mask = []\n",
        "    segment = []\n",
        "    \n",
        "    for word in text:\n",
        "        word = tokenizer.tokenize(word)\n",
        "        word = word[:max_len-2]\n",
        "        input_sequence = [\"[CLS]\"] + word + [\"[SEP]\"]\n",
        "        pad_len = max_len - len(input_sequence)\n",
        "        tokens = tokenizer.convert_tokens_to_ids(input_sequence)\n",
        "        tokens += [0] * pad_len\n",
        "        pad_masks = [1] * len(input_sequence) + [0] * pad_len\n",
        "        segment_ids = [0] * max_len\n",
        "        token.append(tokens)\n",
        "        mask.append(pad_masks)\n",
        "        segment.append(segment_ids)\n",
        "    \n",
        "    encoded_text = np.array(token), np.array(mask), np.array(segment)\n",
        "    return encoded_text"
      ],
      "metadata": {
        "execution": {
          "iopub.status.busy": "2021-07-18T15:51:40.760249Z",
          "iopub.execute_input": "2021-07-18T15:51:40.760675Z",
          "iopub.status.idle": "2021-07-18T15:51:40.772323Z",
          "shell.execute_reply.started": "2021-07-18T15:51:40.760628Z",
          "shell.execute_reply": "2021-07-18T15:51:40.771117Z"
        },
        "trusted": true,
        "id": "AU1BTbConrry"
      },
      "execution_count": null,
      "outputs": []
    },
    {
      "cell_type": "code",
      "source": [
        "def bert_model(bert_layer, max_len=512):\n",
        "    input_word_ids = Input(shape=(max_len,), dtype=tf.int32, name=\"input_word_ids\")\n",
        "    input_mask = Input(shape=(max_len,), dtype=tf.int32, name=\"input_mask\")\n",
        "    segment_ids = Input(shape=(max_len,), dtype=tf.int32, name=\"segment_ids\")\n",
        "\n",
        "    _, sequence_output = bert_layer([input_word_ids, input_mask, segment_ids])\n",
        "    clf_output = sequence_output[:, 0, :]\n",
        "    out = Dense(1, activation='sigmoid')(clf_output)\n",
        "    \n",
        "    model = Model(inputs=[input_word_ids, input_mask, segment_ids], outputs=out)\n",
        "    model.compile(Adam(lr=1e-5), loss='binary_crossentropy', metrics=['accuracy', 'AUC'])\n",
        "    \n",
        "    return model"
      ],
      "metadata": {
        "execution": {
          "iopub.status.busy": "2021-07-18T15:52:09.480422Z",
          "iopub.execute_input": "2021-07-18T15:52:09.480852Z",
          "iopub.status.idle": "2021-07-18T15:52:09.488975Z",
          "shell.execute_reply.started": "2021-07-18T15:52:09.480821Z",
          "shell.execute_reply": "2021-07-18T15:52:09.487802Z"
        },
        "trusted": true,
        "id": "UnpHLaqdnrry"
      },
      "execution_count": null,
      "outputs": []
    },
    {
      "cell_type": "code",
      "source": [
        "# Downloading tokenization script created by the Google\n",
        "!wget --quiet https://raw.githubusercontent.com/tensorflow/models/master/official/nlp/bert/tokenization.py"
      ],
      "metadata": {
        "execution": {
          "iopub.status.busy": "2021-07-18T14:07:40.262267Z",
          "iopub.execute_input": "2021-07-18T14:07:40.265448Z",
          "iopub.status.idle": "2021-07-18T14:07:41.461965Z",
          "shell.execute_reply.started": "2021-07-18T14:07:40.265398Z",
          "shell.execute_reply": "2021-07-18T14:07:41.460514Z"
        },
        "trusted": true,
        "id": "AmK-EEoWnrr0"
      },
      "execution_count": null,
      "outputs": []
    },
    {
      "cell_type": "code",
      "source": [
        "module_url = \"https://tfhub.dev/tensorflow/bert_en_uncased_L-24_H-1024_A-16/1\"\n",
        "bert_layer = hub.KerasLayer(module_url, trainable=True)"
      ],
      "metadata": {
        "execution": {
          "iopub.status.busy": "2021-07-18T14:07:41.466329Z",
          "iopub.execute_input": "2021-07-18T14:07:41.466780Z",
          "iopub.status.idle": "2021-07-18T14:08:34.148929Z",
          "shell.execute_reply.started": "2021-07-18T14:07:41.466741Z",
          "shell.execute_reply": "2021-07-18T14:08:34.147760Z"
        },
        "trusted": true,
        "id": "IEJv-sH-nrr0"
      },
      "execution_count": null,
      "outputs": []
    },
    {
      "cell_type": "code",
      "source": [
        "X_train = train_set.text\n",
        "X_validation = dev_set.text\n",
        "X_test = test_set.text\n",
        "\n",
        "y_train = train_set.label\n",
        "y_validation = dev_set.label\n",
        "y_test = test_set.label"
      ],
      "metadata": {
        "execution": {
          "iopub.status.busy": "2021-07-18T14:08:34.150659Z",
          "iopub.execute_input": "2021-07-18T14:08:34.151101Z",
          "iopub.status.idle": "2021-07-18T14:08:34.159145Z",
          "shell.execute_reply.started": "2021-07-18T14:08:34.151055Z",
          "shell.execute_reply": "2021-07-18T14:08:34.157213Z"
        },
        "trusted": true,
        "id": "Mftvb5zQnrr1"
      },
      "execution_count": null,
      "outputs": []
    },
    {
      "cell_type": "code",
      "source": [
        "vocab_file = bert_layer.resolved_object.vocab_file.asset_path.numpy()\n",
        "do_lower_case = bert_layer.resolved_object.do_lower_case.numpy()\n",
        "tokenizer = BertTokenizer.from_pretrained('bert-base-uncased', do_lower_case = True)"
      ],
      "metadata": {
        "execution": {
          "iopub.status.busy": "2021-07-18T15:52:36.427471Z",
          "iopub.execute_input": "2021-07-18T15:52:36.427950Z",
          "iopub.status.idle": "2021-07-18T15:52:38.730358Z",
          "shell.execute_reply.started": "2021-07-18T15:52:36.427916Z",
          "shell.execute_reply": "2021-07-18T15:52:38.729279Z"
        },
        "trusted": true,
        "id": "tzwjS7DSnrr2"
      },
      "execution_count": null,
      "outputs": []
    },
    {
      "cell_type": "code",
      "source": [
        "train_input = encode_text(X_train.values, tokenizer, max_len=160)\n",
        "test_input = encode_text(X_test.values, tokenizer, max_len=160)\n",
        "validation_input = encode_text(X_validation.values, tokenizer, max_len=160)\n",
        "\n",
        "train_labels = y_train.values\n",
        "validation_labels = y_validation.values"
      ],
      "metadata": {
        "execution": {
          "iopub.status.busy": "2021-07-18T15:52:41.473734Z",
          "iopub.execute_input": "2021-07-18T15:52:41.474185Z",
          "iopub.status.idle": "2021-07-18T15:52:47.690701Z",
          "shell.execute_reply.started": "2021-07-18T15:52:41.474155Z",
          "shell.execute_reply": "2021-07-18T15:52:47.689375Z"
        },
        "trusted": true,
        "id": "7VhDjXELnrr3"
      },
      "execution_count": null,
      "outputs": []
    },
    {
      "cell_type": "code",
      "source": [
        "print(len(X_train), len(X_test), len(y_train), len(y_test))"
      ],
      "metadata": {
        "execution": {
          "iopub.status.busy": "2021-07-18T14:08:42.119350Z",
          "iopub.execute_input": "2021-07-18T14:08:42.119836Z",
          "iopub.status.idle": "2021-07-18T14:08:42.129688Z",
          "shell.execute_reply.started": "2021-07-18T14:08:42.119785Z",
          "shell.execute_reply": "2021-07-18T14:08:42.128104Z"
        },
        "trusted": true,
        "id": "ucJ9hhDrnrr3",
        "outputId": "67ce88da-0172-405c-faea-11920ea3054f"
      },
      "execution_count": null,
      "outputs": [
        {
          "name": "stdout",
          "text": "8500 1000 8500 1000\n",
          "output_type": "stream"
        }
      ]
    },
    {
      "cell_type": "code",
      "source": [
        "model = bert_model(bert_layer, max_len=160)\n",
        "model.summary()"
      ],
      "metadata": {
        "execution": {
          "iopub.status.busy": "2021-07-18T15:52:59.450286Z",
          "iopub.execute_input": "2021-07-18T15:52:59.450666Z",
          "iopub.status.idle": "2021-07-18T15:52:59.914420Z",
          "shell.execute_reply.started": "2021-07-18T15:52:59.450634Z",
          "shell.execute_reply": "2021-07-18T15:52:59.912289Z"
        },
        "trusted": true,
        "id": "BtSdbSU_nrr4",
        "outputId": "fc40281d-2a68-4a1c-ea91-73510e851246"
      },
      "execution_count": null,
      "outputs": [
        {
          "name": "stdout",
          "text": "Model: \"model_1\"\n__________________________________________________________________________________________________\nLayer (type)                    Output Shape         Param #     Connected to                     \n==================================================================================================\ninput_word_ids (InputLayer)     [(None, 160)]        0                                            \n__________________________________________________________________________________________________\ninput_mask (InputLayer)         [(None, 160)]        0                                            \n__________________________________________________________________________________________________\nsegment_ids (InputLayer)        [(None, 160)]        0                                            \n__________________________________________________________________________________________________\nkeras_layer (KerasLayer)        [(None, 1024), (None 335141889   input_word_ids[0][0]             \n                                                                 input_mask[0][0]                 \n                                                                 segment_ids[0][0]                \n__________________________________________________________________________________________________\ntf.__operators__.getitem_1 (Sli (None, 1024)         0           keras_layer[1][1]                \n__________________________________________________________________________________________________\ndense_1 (Dense)                 (None, 1)            1025        tf.__operators__.getitem_1[0][0] \n==================================================================================================\nTotal params: 335,142,914\nTrainable params: 335,142,913\nNon-trainable params: 1\n__________________________________________________________________________________________________\n",
          "output_type": "stream"
        }
      ]
    },
    {
      "cell_type": "code",
      "source": [
        "checkpoint = ModelCheckpoint('model.h5', monitor='val_loss', save_best_only=True)"
      ],
      "metadata": {
        "execution": {
          "iopub.status.busy": "2021-07-18T14:08:43.707219Z",
          "iopub.execute_input": "2021-07-18T14:08:43.707793Z",
          "iopub.status.idle": "2021-07-18T14:08:43.717621Z",
          "shell.execute_reply.started": "2021-07-18T14:08:43.707748Z",
          "shell.execute_reply": "2021-07-18T14:08:43.716434Z"
        },
        "trusted": true,
        "id": "Kv6BPThlnrr5"
      },
      "execution_count": null,
      "outputs": []
    },
    {
      "cell_type": "code",
      "source": [
        "train_history = model.fit(\n",
        "    train_input, train_labels,\n",
        "    validation_data= (validation_input, y_validation),\n",
        "    epochs=9,\n",
        "    callbacks=[checkpoint],\n",
        "    batch_size=16\n",
        ")"
      ],
      "metadata": {
        "execution": {
          "iopub.status.busy": "2021-07-18T14:10:35.118089Z",
          "iopub.execute_input": "2021-07-18T14:10:35.118487Z",
          "iopub.status.idle": "2021-07-18T15:27:06.370041Z",
          "shell.execute_reply.started": "2021-07-18T14:10:35.118452Z",
          "shell.execute_reply": "2021-07-18T15:27:06.368429Z"
        },
        "trusted": true,
        "id": "_-5eHdj_nrr6",
        "outputId": "6cf52172-5243-41b0-963a-6eede048d904"
      },
      "execution_count": null,
      "outputs": [
        {
          "name": "stdout",
          "text": "Epoch 1/9\n532/532 [==============================] - 545s 939ms/step - loss: 0.5855 - accuracy: 0.7040 - auc: 0.6997 - val_loss: 0.8743 - val_accuracy: 0.5480 - val_auc: 0.6233\nEpoch 2/9\n532/532 [==============================] - 495s 931ms/step - loss: 0.4454 - accuracy: 0.7946 - auc: 0.8564 - val_loss: 0.8286 - val_accuracy: 0.5520 - val_auc: 0.6247\nEpoch 3/9\n532/532 [==============================] - 496s 932ms/step - loss: 0.2973 - accuracy: 0.8576 - auc: 0.9399 - val_loss: 0.9101 - val_accuracy: 0.5580 - val_auc: 0.6232\nEpoch 4/9\n532/532 [==============================] - 496s 933ms/step - loss: 0.2849 - accuracy: 0.8537 - auc: 0.9423 - val_loss: 1.2069 - val_accuracy: 0.5540 - val_auc: 0.5937\nEpoch 5/9\n532/532 [==============================] - 497s 934ms/step - loss: 0.2060 - accuracy: 0.8843 - auc: 0.9673 - val_loss: 1.4209 - val_accuracy: 0.5460 - val_auc: 0.5828\nEpoch 6/9\n532/532 [==============================] - 497s 935ms/step - loss: 0.1776 - accuracy: 0.8992 - auc: 0.9734 - val_loss: 1.7251 - val_accuracy: 0.5520 - val_auc: 0.5670\nEpoch 7/9\n532/532 [==============================] - 498s 936ms/step - loss: 0.1634 - accuracy: 0.8970 - auc: 0.9762 - val_loss: 1.8632 - val_accuracy: 0.5400 - val_auc: 0.5591\nEpoch 8/9\n532/532 [==============================] - 498s 935ms/step - loss: 0.1629 - accuracy: 0.8960 - auc: 0.9746 - val_loss: 2.1509 - val_accuracy: 0.5500 - val_auc: 0.5655\nEpoch 9/9\n532/532 [==============================] - 497s 935ms/step - loss: 0.1561 - accuracy: 0.8953 - auc: 0.9766 - val_loss: 1.9062 - val_accuracy: 0.5580 - val_auc: 0.5669\n",
          "output_type": "stream"
        }
      ]
    },
    {
      "cell_type": "code",
      "source": [
        "model.load_weights('model.h5')\n",
        "test_pred = model.predict(test_input)"
      ],
      "metadata": {
        "execution": {
          "iopub.status.busy": "2021-07-18T15:27:06.375614Z",
          "iopub.execute_input": "2021-07-18T15:27:06.377221Z",
          "iopub.status.idle": "2021-07-18T15:27:33.424783Z",
          "shell.execute_reply.started": "2021-07-18T15:27:06.377161Z",
          "shell.execute_reply": "2021-07-18T15:27:33.423705Z"
        },
        "trusted": true,
        "id": "DjkXjUBrnrr7"
      },
      "execution_count": null,
      "outputs": []
    },
    {
      "cell_type": "code",
      "source": [
        "y_actual = list(y_test)\n",
        "y_prob = list(test_pred.reshape(len(test_pred), ))"
      ],
      "metadata": {
        "execution": {
          "iopub.status.busy": "2021-07-18T15:27:33.427351Z",
          "iopub.execute_input": "2021-07-18T15:27:33.427856Z",
          "iopub.status.idle": "2021-07-18T15:27:33.433975Z",
          "shell.execute_reply.started": "2021-07-18T15:27:33.427814Z",
          "shell.execute_reply": "2021-07-18T15:27:33.432635Z"
        },
        "trusted": true,
        "id": "0l1UXZQdnrr7"
      },
      "execution_count": null,
      "outputs": []
    },
    {
      "cell_type": "code",
      "source": [
        "print(\"AUC: \", roc_auc_score(y_actual, y_prob))"
      ],
      "metadata": {
        "execution": {
          "iopub.status.busy": "2021-07-18T15:27:33.436112Z",
          "iopub.execute_input": "2021-07-18T15:27:33.437010Z",
          "iopub.status.idle": "2021-07-18T15:27:33.461087Z",
          "shell.execute_reply.started": "2021-07-18T15:27:33.436963Z",
          "shell.execute_reply": "2021-07-18T15:27:33.459539Z"
        },
        "trusted": true,
        "id": "0qKdBbRHnrr8",
        "outputId": "b34f4e7c-ee89-4ecf-affc-6110822a8201"
      },
      "execution_count": null,
      "outputs": [
        {
          "name": "stdout",
          "text": "AUC:  0.6767967186874749\n",
          "output_type": "stream"
        }
      ]
    },
    {
      "cell_type": "code",
      "source": [
        "from sklearn.metrics import confusion_matrix\n",
        "import seaborn as sns\n",
        "from sklearn import metrics"
      ],
      "metadata": {
        "execution": {
          "iopub.status.busy": "2021-07-18T15:27:33.462950Z",
          "iopub.execute_input": "2021-07-18T15:27:33.463414Z",
          "iopub.status.idle": "2021-07-18T15:27:33.650200Z",
          "shell.execute_reply.started": "2021-07-18T15:27:33.463368Z",
          "shell.execute_reply": "2021-07-18T15:27:33.649157Z"
        },
        "trusted": true,
        "id": "AiX6PifXnrr8"
      },
      "execution_count": null,
      "outputs": []
    },
    {
      "cell_type": "code",
      "source": [
        "y_prob"
      ],
      "metadata": {
        "execution": {
          "iopub.status.busy": "2021-07-18T15:27:33.651721Z",
          "iopub.execute_input": "2021-07-18T15:27:33.652124Z",
          "iopub.status.idle": "2021-07-18T15:27:33.684073Z",
          "shell.execute_reply.started": "2021-07-18T15:27:33.652082Z",
          "shell.execute_reply": "2021-07-18T15:27:33.682698Z"
        },
        "collapsed": true,
        "jupyter": {
          "outputs_hidden": true
        },
        "trusted": true,
        "id": "7cCE4KBAnrr8",
        "outputId": "3231a66a-0710-42aa-a600-368d972e67cb"
      },
      "execution_count": null,
      "outputs": [
        {
          "execution_count": 29,
          "output_type": "execute_result",
          "data": {
            "text/plain": "[0.42941728,\n 0.4895934,\n 0.8979189,\n 0.27145475,\n 0.38527048,\n 0.19766152,\n 0.58042824,\n 0.045990806,\n 0.12896708,\n 0.42254275,\n 0.38459748,\n 0.3306266,\n 0.5866305,\n 0.42120135,\n 0.23067053,\n 0.07786925,\n 0.33483163,\n 0.56466866,\n 0.3138698,\n 0.0689469,\n 0.7070077,\n 0.21832386,\n 0.17786296,\n 0.26228407,\n 0.69184554,\n 0.84892285,\n 0.034103774,\n 0.27518666,\n 0.039625365,\n 0.23291922,\n 0.5932615,\n 0.22826941,\n 0.18087305,\n 0.88941175,\n 0.74082625,\n 0.25516552,\n 0.16985679,\n 0.16092695,\n 0.14074181,\n 0.24788079,\n 0.07166354,\n 0.012305433,\n 0.8238341,\n 0.44085062,\n 0.45316195,\n 0.4807403,\n 0.31693658,\n 0.6665702,\n 0.3396454,\n 0.07047408,\n 0.10238207,\n 0.15597712,\n 0.15824154,\n 0.2910474,\n 0.06069559,\n 0.1581455,\n 0.44402936,\n 0.23838353,\n 0.3733214,\n 0.43219805,\n 0.032050394,\n 0.30336958,\n 0.93585247,\n 0.17184192,\n 0.2531731,\n 0.0964024,\n 0.5966383,\n 0.29402217,\n 0.1653302,\n 0.25962386,\n 0.8752779,\n 0.1512582,\n 0.88883716,\n 0.07187299,\n 0.07647341,\n 0.3943163,\n 0.2512339,\n 0.3153618,\n 0.33075905,\n 0.27272475,\n 0.034650613,\n 0.44447044,\n 0.19734895,\n 0.2550856,\n 0.67687523,\n 0.27666077,\n 0.20524703,\n 0.4678023,\n 0.28345975,\n 0.7084317,\n 0.40094575,\n 0.5783001,\n 0.13380818,\n 0.35327035,\n 0.14369272,\n 0.91098684,\n 0.14270797,\n 0.5729698,\n 0.16970661,\n 0.1153668,\n 0.38131544,\n 0.38234934,\n 0.25530127,\n 0.51088184,\n 0.20597805,\n 0.13089916,\n 0.35343137,\n 0.34195787,\n 0.05186143,\n 0.35007927,\n 0.17978774,\n 0.7840598,\n 0.15428273,\n 0.59700996,\n 0.5446983,\n 0.3277792,\n 0.079226375,\n 0.15341316,\n 0.14236173,\n 0.17319795,\n 0.60243183,\n 0.0866803,\n 0.07074325,\n 0.19778953,\n 0.11119981,\n 0.2167446,\n 0.34384444,\n 0.8986563,\n 0.044791073,\n 0.4577719,\n 0.35184512,\n 0.33624688,\n 0.3725555,\n 0.4265745,\n 0.7784007,\n 0.2570481,\n 0.1569458,\n 0.5397894,\n 0.23730977,\n 0.08349016,\n 0.412949,\n 0.054305095,\n 0.19132759,\n 0.67157596,\n 0.33624688,\n 0.28367135,\n 0.03218097,\n 0.32518885,\n 0.10612806,\n 0.2570481,\n 0.15292339,\n 0.13089916,\n 0.24941917,\n 0.046955634,\n 0.57399386,\n 0.45589012,\n 0.37276977,\n 0.92781115,\n 0.29905957,\n 0.40887398,\n 0.32518885,\n 0.15365545,\n 0.12785012,\n 0.052254397,\n 0.35184512,\n 0.35343137,\n 0.091588825,\n 0.15428273,\n 0.12795731,\n 0.012060777,\n 0.2238979,\n 0.15012532,\n 0.16538617,\n 0.12206037,\n 0.2538266,\n 0.5358981,\n 0.4902229,\n 0.45634952,\n 0.59700996,\n 0.07103382,\n 0.3944678,\n 0.35258263,\n 0.11735339,\n 0.27674368,\n 0.48034254,\n 0.5893622,\n 0.041269496,\n 0.7840598,\n 0.4902229,\n 0.4577719,\n 0.087448016,\n 0.17978774,\n 0.40336356,\n 0.412949,\n 0.34536126,\n 0.055576373,\n 0.2867371,\n 0.14999041,\n 0.45844018,\n 0.06321759,\n 0.2386345,\n 0.18897751,\n 0.18839766,\n 0.17333408,\n 0.18897751,\n 0.06203288,\n 0.3725555,\n 0.03479433,\n 0.079226375,\n 0.01550626,\n 0.3456876,\n 0.07789283,\n 0.049363516,\n 0.1569458,\n 0.273485,\n 0.5446983,\n 0.1974209,\n 0.14305337,\n 0.27674368,\n 0.36274338,\n 0.58997315,\n 0.31215185,\n 0.288427,\n 0.2867371,\n 0.38508993,\n 0.16780543,\n 0.5358981,\n 0.17330131,\n 0.4005999,\n 0.31215185,\n 0.6192455,\n 0.05587554,\n 0.15341316,\n 0.19092879,\n 0.12785012,\n 0.3526586,\n 0.46747166,\n 0.023265341,\n 0.27869347,\n 0.41914803,\n 0.38105214,\n 0.19014397,\n 0.23730977,\n 0.091588825,\n 0.64370996,\n 0.45519483,\n 0.41485268,\n 0.5944492,\n 0.038066454,\n 0.2167446,\n 0.30793625,\n 0.2872722,\n 0.29485467,\n 0.21493101,\n 0.23560032,\n 0.30793625,\n 0.13434467,\n 0.29869482,\n 0.3526586,\n 0.9803638,\n 0.4010778,\n 0.26092142,\n 0.3456876,\n 0.19092879,\n 0.095048785,\n 0.27145118,\n 0.25530127,\n 0.21546458,\n 0.049363516,\n 0.40628543,\n 0.31159067,\n 0.38105214,\n 0.58997315,\n 0.19132759,\n 0.095048785,\n 0.12875748,\n 0.21283671,\n 0.64370996,\n 0.37276977,\n 0.43157429,\n 0.40336356,\n 0.119238585,\n 0.35258263,\n 0.2386345,\n 0.5397894,\n 0.1795092,\n 0.45589012,\n 0.26761127,\n 0.25040448,\n 0.2498209,\n 0.45519483,\n 0.15012532,\n 0.48034254,\n 0.24941917,\n 0.25385982,\n 0.18520889,\n 0.24747124,\n 0.1862826,\n 0.34195787,\n 0.59646183,\n 0.41485268,\n 0.16553892,\n 0.67157596,\n 0.21518631,\n 0.13192023,\n 0.050222732,\n 0.2872722,\n 0.04454284,\n 0.16553892,\n 0.08909421,\n 0.13711521,\n 0.9803638,\n 0.27145118,\n 0.12875748,\n 0.21283671,\n 0.45634952,\n 0.28300053,\n 0.38508993,\n 0.16552357,\n 0.65055275,\n 0.578147,\n 0.1525982,\n 0.5591483,\n 0.22931182,\n 0.3959853,\n 0.14406116,\n 0.21135259,\n 0.46010658,\n 0.07850739,\n 0.25188124,\n 0.45879802,\n 0.026273582,\n 0.3595905,\n 0.47620845,\n 0.08166584,\n 0.33879977,\n 0.3826099,\n 0.849058,\n 0.43562248,\n 0.31577012,\n 0.16666691,\n 0.55114925,\n 0.3493881,\n 0.08435003,\n 0.090693615,\n 0.1275459,\n 0.69227076,\n 0.87466466,\n 0.12938643,\n 0.20609494,\n 0.22651152,\n 0.79511464,\n 0.16384481,\n 0.031880755,\n 0.15233546,\n 0.18274349,\n 0.19643752,\n 0.106487826,\n 0.47769287,\n 0.023011174,\n 0.15754005,\n 0.67427963,\n 0.1943538,\n 0.22783162,\n 0.3283647,\n 0.101471476,\n 0.074530974,\n 0.14692736,\n 0.5153502,\n 0.010428367,\n 0.050144684,\n 0.20609494,\n 0.17945987,\n 0.23358606,\n 0.3221641,\n 0.3456876,\n 0.7059479,\n 0.29463518,\n 0.15146293,\n 0.068143114,\n 0.33975986,\n 0.010558914,\n 0.31317374,\n 0.27428606,\n 0.3595905,\n 0.17436981,\n 0.47510263,\n 0.4835139,\n 0.41889063,\n 0.07115259,\n 0.66634786,\n 0.10042523,\n 0.069495834,\n 0.1487676,\n 0.83109033,\n 0.15759714,\n 0.32732916,\n 0.32001787,\n 0.16094916,\n 0.09863455,\n 0.54035276,\n 0.5050659,\n 0.023884898,\n 0.26656651,\n 0.3110518,\n 0.102503836,\n 0.23139946,\n 0.28701285,\n 0.046933703,\n 0.063423835,\n 0.14415617,\n 0.7503156,\n 0.30672738,\n 0.41587958,\n 0.23139946,\n 0.55469084,\n 0.12598239,\n 0.40527335,\n 0.41504464,\n 0.7469635,\n 0.17880513,\n 0.47953048,\n 0.3301063,\n 0.32798186,\n 0.32732916,\n 0.7189612,\n 0.108027115,\n 0.20243597,\n 0.46103793,\n 0.31653184,\n 0.020321334,\n 0.044400547,\n 0.18457939,\n 0.45879802,\n 0.56529856,\n 0.1764814,\n 0.024491727,\n 0.364702,\n 0.13658854,\n 0.13225448,\n 0.6309116,\n 0.1909236,\n 0.8947311,\n 0.28858095,\n 0.7019965,\n 0.102854095,\n 0.22303264,\n 0.14406116,\n 0.18481487,\n 0.50472975,\n 0.6912908,\n 0.25071996,\n 0.0960335,\n 0.09143308,\n 0.2728525,\n 0.053898156,\n 0.3806822,\n 0.07341304,\n 0.31698245,\n 0.6279212,\n 0.10369767,\n 0.21457028,\n 0.19623421,\n 0.40259865,\n 0.054623958,\n 0.2967774,\n 0.37771004,\n 0.30731934,\n 0.21405062,\n 0.2805476,\n 0.2643392,\n 0.27428606,\n 0.12167285,\n 0.24445471,\n 0.19942887,\n 0.37516278,\n 0.015733063,\n 0.16121551,\n 0.07632611,\n 0.47290295,\n 0.090487085,\n 0.27207863,\n 0.2668729,\n 0.7665196,\n 0.429539,\n 0.066746555,\n 0.43848917,\n 0.06627836,\n 0.06325616,\n 0.31317374,\n 0.19478926,\n 0.054736942,\n 0.10369767,\n 0.294095,\n 0.31577012,\n 0.29892254,\n 0.4429066,\n 0.115869,\n 0.5771439,\n 0.13161327,\n 0.028616028,\n 0.13115634,\n 0.17222264,\n 0.3208883,\n 0.148687,\n 0.60517275,\n 0.518322,\n 0.31269643,\n 0.2900632,\n 0.048097882,\n 0.31230232,\n 0.06369162,\n 0.19075438,\n 0.05344313,\n 0.6141637,\n 0.4111928,\n 0.4480987,\n 0.1625991,\n 0.7994793,\n 0.2805629,\n 0.58679414,\n 0.38455814,\n 0.115518324,\n 0.2891265,\n 0.7279932,\n 0.10101672,\n 0.17504855,\n 0.55469084,\n 0.4233291,\n 0.3043708,\n 0.35412148,\n 0.2239802,\n 0.3893447,\n 0.6348199,\n 0.2501256,\n 0.86183745,\n 0.32568777,\n 0.42014447,\n 0.18368292,\n 0.19225402,\n 0.52929264,\n 0.66665006,\n 0.24471264,\n 0.84107435,\n 0.1097133,\n 0.03222188,\n 0.6942488,\n 0.18228091,\n 0.58047426,\n 0.57133156,\n 0.26317838,\n 0.14121757,\n 0.5684509,\n 0.095316894,\n 0.5865477,\n 0.041280597,\n 0.13690878,\n 0.43775693,\n 0.7172459,\n 0.1851315,\n 0.70507777,\n 0.43775693,\n 0.1955701,\n 0.41693395,\n 0.24173357,\n 0.18547359,\n 0.52274394,\n 0.14081484,\n 0.39190188,\n 0.525761,\n 0.23857625,\n 0.07504142,\n 0.009600262,\n 0.05344313,\n 0.2643392,\n 0.09958919,\n 0.033357736,\n 0.042506196,\n 0.17222264,\n 0.20935187,\n 0.7437147,\n 0.4770126,\n 0.41587958,\n 0.016180107,\n 0.3754418,\n 0.16986215,\n 0.12561746,\n 0.08212609,\n 0.17726451,\n 0.17131598,\n 0.08254513,\n 0.6384238,\n 0.29469362,\n 0.40934938,\n 0.4038616,\n 0.39493117,\n 0.06627836,\n 0.16633517,\n 0.048097882,\n 0.6032411,\n 0.16130283,\n 0.06935069,\n 0.05795425,\n 0.3361579,\n 0.08826158,\n 0.3456876,\n 0.52002436,\n 0.3307235,\n 0.40766868,\n 0.047600236,\n 0.4248897,\n 0.07384328,\n 0.69227076,\n 0.37643632,\n 0.8438273,\n 0.4472912,\n 0.19847544,\n 0.26185384,\n 0.2041472,\n 0.5240177,\n 0.22842494,\n 0.119841665,\n 0.07561576,\n 0.1625991,\n 0.34667704,\n 0.111590244,\n 0.11518188,\n 0.21615395,\n 0.07840905,\n 0.5507197,\n 0.016076883,\n 0.41131103,\n 0.22568738,\n 0.41853005,\n 0.06369162,\n 0.32752773,\n 0.54035276,\n 0.09002752,\n 0.1561054,\n 0.3051783,\n 0.08800957,\n 0.15707625,\n 0.10638777,\n 0.0839149,\n 0.062501706,\n 0.46202913,\n 0.38455814,\n 0.47769853,\n 0.25048327,\n 0.21367459,\n 0.06560584,\n 0.5050659,\n 0.37516278,\n 0.02689656,\n 0.24279843,\n 0.062157508,\n 0.43992862,\n 0.044400547,\n 0.19601403,\n 0.12296391,\n 0.6074751,\n 0.038214564,\n 0.6133092,\n 0.06712408,\n 0.52274394,\n 0.09903719,\n 0.6150694,\n 0.849058,\n 0.6714112,\n 0.37179863,\n 0.43889958,\n 0.34807584,\n 0.66665006,\n 0.088796504,\n 0.3099538,\n 0.34502286,\n 0.38512605,\n 0.13660729,\n 0.4410353,\n 0.13691786,\n 0.20392293,\n 0.48949003,\n 0.35744548,\n 0.6743174,\n 0.20148328,\n 0.7604704,\n 0.2956322,\n 0.559217,\n 0.39396715,\n 0.3361579,\n 0.17131598,\n 0.542628,\n 0.7189612,\n 0.86183745,\n 0.4429066,\n 0.16138494,\n 0.49968228,\n 0.019067772,\n 0.16489545,\n 0.08367459,\n 0.23857625,\n 0.29106796,\n 0.072849914,\n 0.10587282,\n 0.09738346,\n 0.052927922,\n 0.011484139,\n 0.04531489,\n 0.39396715,\n 0.19478926,\n 0.18514647,\n 0.24784224,\n 0.68726605,\n 0.6894755,\n 0.12274593,\n 0.21464297,\n 0.3221641,\n 0.15688904,\n 0.08800957,\n 0.10948138,\n 0.039014257,\n 0.045616936,\n 0.28591233,\n 0.05680668,\n 0.364702,\n 0.25162685,\n 0.11473627,\n 0.23305283,\n 0.30731934,\n 0.22586602,\n 0.81264716,\n 0.14053753,\n 0.51769716,\n 0.10598225,\n 0.35575354,\n 0.04449397,\n 0.21210596,\n 0.35767984,\n 0.106082395,\n 0.7059479,\n 0.06771905,\n 0.5011577,\n 0.0088348985,\n 0.084867075,\n 0.55469084,\n 0.9492815,\n 0.11398119,\n 0.525761,\n 0.18274349,\n 0.016867537,\n 0.20708157,\n 0.1203343,\n 0.045564912,\n 0.98378885,\n 0.21842328,\n 0.31331462,\n 0.4770126,\n 0.089035146,\n 0.092828125,\n 0.28459364,\n 0.15137981,\n 0.16180046,\n 0.106164746,\n 0.046121817,\n 0.07677552,\n 0.104213014,\n 0.15125893,\n 0.5064043,\n 0.7469635,\n 0.28494555,\n 0.14485225,\n 0.054623958,\n 0.7726094,\n 0.46851408,\n 0.021468828,\n 0.044020537,\n 0.31223854,\n 0.24830477,\n 0.062501706,\n 0.14623758,\n 0.1301822,\n 0.19847544,\n 0.3842382,\n 0.22751783,\n 0.66769737,\n 0.46851408,\n 0.37303326,\n 0.39075974,\n 0.68726605,\n 0.074530974,\n 0.41564006,\n 0.52329415,\n 0.3399509,\n 0.8554186,\n 0.43613562,\n 0.93500304,\n 0.13392551,\n 0.7803619,\n 0.24647126,\n 0.31132644,\n 0.28858095,\n 0.057965882,\n 0.5507197,\n 0.9352238,\n 0.05361608,\n 0.33005378,\n 0.8463072,\n 0.04776167,\n 0.30672738,\n 0.21771732,\n 0.38181698,\n 0.1706685,\n 0.85405374,\n 0.6279212,\n 0.15146293,\n 0.46010658,\n 0.5828329,\n 0.14485225,\n 0.013534167,\n 0.11846069,\n 0.34512767,\n 0.112743646,\n 0.22783162,\n 0.4835139,\n 0.34347165,\n 0.24139385,\n 0.21004924,\n 0.1744641,\n 0.5268437,\n 0.35412148,\n 0.41853005,\n 0.19104174,\n 0.30052438,\n 0.48684764,\n 0.34252217,\n 0.21771732,\n 0.22092882,\n 0.52648365,\n 0.10024621,\n 0.1842553,\n 0.2867371,\n 0.60662144,\n 0.47302595,\n 0.14939198,\n 0.09829457,\n 0.5290307,\n 0.13660729,\n 0.5187246,\n 0.08377632,\n 0.10762581,\n 0.026545314,\n 0.3917371,\n 0.12497196,\n 0.3291131,\n 0.3493881,\n 0.25268626,\n 0.25268626,\n 0.3051783,\n 0.34502286,\n 0.6741044,\n 0.29919863,\n 0.59577453,\n 0.60662144,\n 0.04273839,\n 0.24935792,\n 0.04285246,\n 0.075908504,\n 0.04383386,\n 0.0959938,\n 0.025767706,\n 0.8438273,\n 0.49728647,\n 0.13690878,\n 0.10184054,\n 0.14227559,\n 0.7414192,\n 0.23617575,\n 0.7503156,\n 0.4235098,\n 0.100101516,\n 0.659924,\n 0.5187246,\n 0.5909951,\n 0.40348694,\n 0.10199137,\n 0.08520019,\n 0.41693395,\n 0.05328237,\n 0.4472912,\n 0.16986215,\n 0.19555794,\n 0.5867743,\n 0.64372003,\n 0.04006808,\n 0.010737194,\n 0.36809132,\n 0.296541,\n 0.14692736,\n 0.08254513,\n 0.8340029,\n 0.16464981,\n 0.22423658,\n 0.050176613,\n 0.31468648,\n 0.9154321,\n 0.31269643,\n 0.054404777,\n 0.31125635,\n 0.22842494,\n 0.66634786,\n 0.7926732,\n 0.3455371,\n 0.14944956,\n 0.36948228,\n 0.25071284,\n 0.06894681,\n 0.15602727,\n 0.19812404,\n 0.62764984,\n 0.47463843,\n 0.16769253,\n 0.39493117,\n 0.16289377,\n 0.12119467,\n 0.2239357,\n 0.6869889,\n 0.4571597,\n 0.14109759,\n 0.22931182,\n 0.109482035,\n 0.3131344,\n 0.4038616,\n 0.32961765,\n 0.07384328,\n 0.39626253,\n 0.10509103,\n 0.2967774,\n 0.3169201,\n 0.33202446,\n 0.062373195,\n 0.8489017,\n 0.007666244,\n 0.29106796,\n 0.7210269,\n 0.1855936,\n 0.30336958,\n 0.25726393,\n 0.3400809,\n 0.7019965,\n 0.6074751,\n 0.44806,\n 0.07878045,\n 0.9154321,\n 0.08377632,\n 0.9011917,\n 0.8417407,\n 0.8463072,\n 0.4531752,\n 0.052879587,\n 0.05680668,\n 0.07632611,\n 0.22831091,\n 0.7313507,\n 0.44976723,\n 0.08207443,\n 0.079388544,\n 0.22071469,\n 0.32798186,\n 0.7926732,\n 0.8262993,\n 0.30052438,\n 0.3826099,\n 0.29463518,\n 0.087987095,\n 0.46463218,\n 0.29655662,\n 0.047223557,\n 0.04178273,\n 0.24139385,\n 0.36809132,\n 0.6743174,\n 0.07397491,\n 0.038629785,\n 0.43402725,\n 0.1074393,\n 0.20797196,\n 0.25162685,\n 0.116697855,\n 0.044020537,\n 0.026273582,\n 0.063423835,\n 0.33721557,\n 0.47185266,\n 0.63745654,\n 0.021779476,\n 0.073661044,\n 0.37303308,\n 0.20010573,\n 0.15246636,\n 0.068527065]"
          },
          "metadata": {}
        }
      ]
    },
    {
      "cell_type": "code",
      "source": [
        "pred_set = []\n",
        "\n",
        "for i in test_pred:\n",
        "    if i < 0.5:\n",
        "        i = 0\n",
        "        pred_set.append(i)\n",
        "    else:\n",
        "        i = 1\n",
        "        pred_set.append(i)"
      ],
      "metadata": {
        "execution": {
          "iopub.status.busy": "2021-07-18T15:27:33.685737Z",
          "iopub.execute_input": "2021-07-18T15:27:33.686181Z",
          "iopub.status.idle": "2021-07-18T15:27:33.696688Z",
          "shell.execute_reply.started": "2021-07-18T15:27:33.686140Z",
          "shell.execute_reply": "2021-07-18T15:27:33.695644Z"
        },
        "trusted": true,
        "id": "pIQ4ipGbnrr9"
      },
      "execution_count": null,
      "outputs": []
    },
    {
      "cell_type": "code",
      "source": [
        "pred_set"
      ],
      "metadata": {
        "execution": {
          "iopub.status.busy": "2021-07-18T15:27:33.701529Z",
          "iopub.execute_input": "2021-07-18T15:27:33.701922Z",
          "iopub.status.idle": "2021-07-18T15:27:33.731095Z",
          "shell.execute_reply.started": "2021-07-18T15:27:33.701890Z",
          "shell.execute_reply": "2021-07-18T15:27:33.729825Z"
        },
        "collapsed": true,
        "jupyter": {
          "outputs_hidden": true
        },
        "trusted": true,
        "id": "yOzfDhQ7nrr-",
        "outputId": "830d3a56-a393-4b65-bf4f-30287ee85f49"
      },
      "execution_count": null,
      "outputs": [
        {
          "execution_count": 31,
          "output_type": "execute_result",
          "data": {
            "text/plain": "[0,\n 0,\n 1,\n 0,\n 0,\n 0,\n 1,\n 0,\n 0,\n 0,\n 0,\n 0,\n 1,\n 0,\n 0,\n 0,\n 0,\n 1,\n 0,\n 0,\n 1,\n 0,\n 0,\n 0,\n 1,\n 1,\n 0,\n 0,\n 0,\n 0,\n 1,\n 0,\n 0,\n 1,\n 1,\n 0,\n 0,\n 0,\n 0,\n 0,\n 0,\n 0,\n 1,\n 0,\n 0,\n 0,\n 0,\n 1,\n 0,\n 0,\n 0,\n 0,\n 0,\n 0,\n 0,\n 0,\n 0,\n 0,\n 0,\n 0,\n 0,\n 0,\n 1,\n 0,\n 0,\n 0,\n 1,\n 0,\n 0,\n 0,\n 1,\n 0,\n 1,\n 0,\n 0,\n 0,\n 0,\n 0,\n 0,\n 0,\n 0,\n 0,\n 0,\n 0,\n 1,\n 0,\n 0,\n 0,\n 0,\n 1,\n 0,\n 1,\n 0,\n 0,\n 0,\n 1,\n 0,\n 1,\n 0,\n 0,\n 0,\n 0,\n 0,\n 1,\n 0,\n 0,\n 0,\n 0,\n 0,\n 0,\n 0,\n 1,\n 0,\n 1,\n 1,\n 0,\n 0,\n 0,\n 0,\n 0,\n 1,\n 0,\n 0,\n 0,\n 0,\n 0,\n 0,\n 1,\n 0,\n 0,\n 0,\n 0,\n 0,\n 0,\n 1,\n 0,\n 0,\n 1,\n 0,\n 0,\n 0,\n 0,\n 0,\n 1,\n 0,\n 0,\n 0,\n 0,\n 0,\n 0,\n 0,\n 0,\n 0,\n 0,\n 1,\n 0,\n 0,\n 1,\n 0,\n 0,\n 0,\n 0,\n 0,\n 0,\n 0,\n 0,\n 0,\n 0,\n 0,\n 0,\n 0,\n 0,\n 0,\n 0,\n 0,\n 1,\n 0,\n 0,\n 1,\n 0,\n 0,\n 0,\n 0,\n 0,\n 0,\n 1,\n 0,\n 1,\n 0,\n 0,\n 0,\n 0,\n 0,\n 0,\n 0,\n 0,\n 0,\n 0,\n 0,\n 0,\n 0,\n 0,\n 0,\n 0,\n 0,\n 0,\n 0,\n 0,\n 0,\n 0,\n 0,\n 0,\n 0,\n 0,\n 0,\n 1,\n 0,\n 0,\n 0,\n 0,\n 1,\n 0,\n 0,\n 0,\n 0,\n 0,\n 1,\n 0,\n 0,\n 0,\n 1,\n 0,\n 0,\n 0,\n 0,\n 0,\n 0,\n 0,\n 0,\n 0,\n 0,\n 0,\n 0,\n 0,\n 1,\n 0,\n 0,\n 1,\n 0,\n 0,\n 0,\n 0,\n 0,\n 0,\n 0,\n 0,\n 0,\n 0,\n 0,\n 1,\n 0,\n 0,\n 0,\n 0,\n 0,\n 0,\n 0,\n 0,\n 0,\n 0,\n 0,\n 0,\n 1,\n 0,\n 0,\n 0,\n 0,\n 1,\n 0,\n 0,\n 0,\n 0,\n 0,\n 0,\n 1,\n 0,\n 0,\n 0,\n 0,\n 0,\n 0,\n 0,\n 0,\n 0,\n 0,\n 0,\n 0,\n 0,\n 0,\n 1,\n 0,\n 0,\n 1,\n 0,\n 0,\n 0,\n 0,\n 0,\n 0,\n 0,\n 0,\n 1,\n 0,\n 0,\n 0,\n 0,\n 0,\n 0,\n 0,\n 1,\n 1,\n 0,\n 1,\n 0,\n 0,\n 0,\n 0,\n 0,\n 0,\n 0,\n 0,\n 0,\n 0,\n 0,\n 0,\n 0,\n 0,\n 1,\n 0,\n 0,\n 0,\n 1,\n 0,\n 0,\n 0,\n 0,\n 1,\n 1,\n 0,\n 0,\n 0,\n 1,\n 0,\n 0,\n 0,\n 0,\n 0,\n 0,\n 0,\n 0,\n 0,\n 1,\n 0,\n 0,\n 0,\n 0,\n 0,\n 0,\n 1,\n 0,\n 0,\n 0,\n 0,\n 0,\n 0,\n 0,\n 1,\n 0,\n 0,\n 0,\n 0,\n 0,\n 0,\n 0,\n 0,\n 0,\n 0,\n 0,\n 0,\n 0,\n 1,\n 0,\n 0,\n 0,\n 1,\n 0,\n 0,\n 0,\n 0,\n 0,\n 1,\n 1,\n 0,\n 0,\n 0,\n 0,\n 0,\n 0,\n 0,\n 0,\n 0,\n 1,\n 0,\n 0,\n 0,\n 1,\n 0,\n 0,\n 0,\n 1,\n 0,\n 0,\n 0,\n 0,\n 0,\n 1,\n 0,\n 0,\n 0,\n 0,\n 0,\n 0,\n 0,\n 0,\n 1,\n 0,\n 0,\n 0,\n 0,\n 0,\n 1,\n 0,\n 1,\n 0,\n 1,\n 0,\n 0,\n 0,\n 0,\n 1,\n 1,\n 0,\n 0,\n 0,\n 0,\n 0,\n 0,\n 0,\n 0,\n 1,\n 0,\n 0,\n 0,\n 0,\n 0,\n 0,\n 0,\n 0,\n 0,\n 0,\n 0,\n 0,\n 0,\n 0,\n 0,\n 0,\n 0,\n 0,\n 0,\n 0,\n 0,\n 0,\n 0,\n 1,\n 0,\n 0,\n 0,\n 0,\n 0,\n 0,\n 0,\n 0,\n 0,\n 0,\n 0,\n 0,\n 0,\n 0,\n 1,\n 0,\n 0,\n 0,\n 0,\n 0,\n 0,\n 1,\n 1,\n 0,\n 0,\n 0,\n 0,\n 0,\n 0,\n 0,\n 1,\n 0,\n 0,\n 0,\n 1,\n 0,\n 1,\n 0,\n 0,\n 0,\n 1,\n 0,\n 0,\n 1,\n 0,\n 0,\n 0,\n 0,\n 0,\n 1,\n 0,\n 1,\n 0,\n 0,\n 0,\n 0,\n 1,\n 1,\n 0,\n 1,\n 0,\n 0,\n 1,\n 0,\n 1,\n 1,\n 0,\n 0,\n 1,\n 0,\n 1,\n 0,\n 0,\n 0,\n 1,\n 0,\n 1,\n 0,\n 0,\n 0,\n 0,\n 0,\n 1,\n 0,\n 0,\n 1,\n 0,\n 0,\n 0,\n 0,\n 0,\n 0,\n 0,\n 0,\n 0,\n 0,\n 1,\n 0,\n 0,\n 0,\n 0,\n 0,\n 0,\n 0,\n 0,\n 0,\n 0,\n 1,\n 0,\n 0,\n 0,\n 0,\n 0,\n 0,\n 0,\n 1,\n 0,\n 0,\n 0,\n 0,\n 0,\n 0,\n 1,\n 0,\n 0,\n 0,\n 0,\n 0,\n 1,\n 0,\n 1,\n 0,\n 0,\n 0,\n 0,\n 1,\n 0,\n 0,\n 0,\n 0,\n 0,\n 0,\n 0,\n 0,\n 0,\n 1,\n 0,\n 0,\n 0,\n 0,\n 0,\n 0,\n 1,\n 0,\n 0,\n 0,\n 0,\n 0,\n 0,\n 0,\n 0,\n 0,\n 0,\n 0,\n 0,\n 0,\n 0,\n 1,\n 0,\n 0,\n 0,\n 0,\n 0,\n 0,\n 0,\n 0,\n 1,\n 0,\n 1,\n 0,\n 1,\n 0,\n 1,\n 1,\n 1,\n 0,\n 0,\n 0,\n 1,\n 0,\n 0,\n 0,\n 0,\n 0,\n 0,\n 0,\n 0,\n 0,\n 0,\n 1,\n 0,\n 1,\n 0,\n 1,\n 0,\n 0,\n 0,\n 1,\n 1,\n 1,\n 0,\n 0,\n 0,\n 0,\n 0,\n 0,\n 0,\n 0,\n 0,\n 0,\n 0,\n 0,\n 0,\n 0,\n 0,\n 0,\n 0,\n 0,\n 1,\n 1,\n 0,\n 0,\n 0,\n 0,\n 0,\n 0,\n 0,\n 0,\n 0,\n 0,\n 0,\n 0,\n 0,\n 0,\n 0,\n 0,\n 1,\n 0,\n 1,\n 0,\n 0,\n 0,\n 0,\n 0,\n 0,\n 1,\n 0,\n 1,\n 0,\n 0,\n 1,\n 1,\n 0,\n 1,\n 0,\n 0,\n 0,\n 0,\n 0,\n 1,\n 0,\n 0,\n 0,\n 0,\n 0,\n 0,\n 0,\n 0,\n 0,\n 0,\n 0,\n 0,\n 0,\n 1,\n 1,\n 0,\n 0,\n 0,\n 1,\n 0,\n 0,\n 0,\n 0,\n 0,\n 0,\n 0,\n 0,\n 0,\n 0,\n 0,\n 1,\n 0,\n 0,\n 0,\n 1,\n 0,\n 0,\n 1,\n 0,\n 1,\n 0,\n 1,\n 0,\n 1,\n 0,\n 0,\n 0,\n 0,\n 1,\n 1,\n 0,\n 0,\n 1,\n 0,\n 0,\n 0,\n 0,\n 0,\n 1,\n 1,\n 0,\n 0,\n 1,\n 0,\n 0,\n 0,\n 0,\n 0,\n 0,\n 0,\n 0,\n 0,\n 0,\n 0,\n 1,\n 0,\n 0,\n 0,\n 0,\n 0,\n 0,\n 0,\n 0,\n 1,\n 0,\n 0,\n 0,\n 1,\n 0,\n 0,\n 0,\n 1,\n 0,\n 1,\n 0,\n 0,\n 0,\n 0,\n 0,\n 0,\n 0,\n 0,\n 0,\n 0,\n 0,\n 1,\n 0,\n 1,\n 1,\n 0,\n 0,\n 0,\n 0,\n 0,\n 0,\n 0,\n 1,\n 0,\n 0,\n 0,\n 0,\n 1,\n 0,\n 1,\n 0,\n 0,\n 1,\n 1,\n 1,\n 0,\n 0,\n 0,\n 0,\n 0,\n 0,\n 0,\n 0,\n 1,\n 1,\n 0,\n 0,\n 0,\n 0,\n 0,\n 0,\n 1,\n 0,\n 0,\n 0,\n 0,\n 1,\n 0,\n 0,\n 0,\n 0,\n 1,\n 1,\n 0,\n 0,\n 0,\n 0,\n 0,\n 0,\n 0,\n 1,\n 0,\n 0,\n 0,\n 0,\n 0,\n 0,\n 1,\n 0,\n 0,\n 0,\n 0,\n 0,\n 0,\n 0,\n 0,\n 0,\n 0,\n 0,\n 0,\n 0,\n 0,\n 1,\n 0,\n 0,\n 1,\n 0,\n 0,\n 0,\n 0,\n 1,\n 1,\n 0,\n 0,\n 1,\n 0,\n 1,\n 1,\n 1,\n 0,\n 0,\n 0,\n 0,\n 0,\n 1,\n 0,\n 0,\n 0,\n 0,\n 0,\n 1,\n 1,\n 0,\n 0,\n 0,\n 0,\n 0,\n 0,\n 0,\n 0,\n 0,\n 0,\n 1,\n 0,\n 0,\n 0,\n 0,\n 0,\n 0,\n 0,\n 0,\n 0,\n 0,\n 0,\n 0,\n 1,\n 0,\n 0,\n 0,\n 0,\n 0,\n 0]"
          },
          "metadata": {}
        }
      ]
    },
    {
      "cell_type": "code",
      "source": [
        "csv_file = pd.DataFrame(y_prob,pred_set)\n",
        "csv_file.to_csv((\"/kaggle/working/BERT_model_result.csv\"), index=True)"
      ],
      "metadata": {
        "execution": {
          "iopub.status.busy": "2021-07-18T15:27:33.732893Z",
          "iopub.execute_input": "2021-07-18T15:27:33.733341Z",
          "iopub.status.idle": "2021-07-18T15:27:33.762928Z",
          "shell.execute_reply.started": "2021-07-18T15:27:33.733300Z",
          "shell.execute_reply": "2021-07-18T15:27:33.761483Z"
        },
        "trusted": true,
        "id": "8TyU6Ay3nrr-"
      },
      "execution_count": null,
      "outputs": []
    },
    {
      "cell_type": "code",
      "source": [
        "confusion_matrix(y_actual, pred_set)"
      ],
      "metadata": {
        "execution": {
          "iopub.status.busy": "2021-07-18T15:27:33.764811Z",
          "iopub.execute_input": "2021-07-18T15:27:33.765575Z",
          "iopub.status.idle": "2021-07-18T15:27:33.781204Z",
          "shell.execute_reply.started": "2021-07-18T15:27:33.765519Z",
          "shell.execute_reply": "2021-07-18T15:27:33.779388Z"
        },
        "trusted": true,
        "id": "5Nvoh7m6nrr-",
        "outputId": "7fa63532-ebbb-481f-b425-1a2b0d6bb323"
      },
      "execution_count": null,
      "outputs": [
        {
          "execution_count": 33,
          "output_type": "execute_result",
          "data": {
            "text/plain": "array([[457,  53],\n       [362, 128]])"
          },
          "metadata": {}
        }
      ]
    },
    {
      "cell_type": "code",
      "source": [
        "cf_matrix = confusion_matrix(y_actual, pred_set)\n",
        "\n",
        "plt.title('Confusion matrix showing correctly and uncorrectly predicted label')\n",
        "sns.heatmap(cf_matrix, annot=True, fmt='d')\n",
        "plt.xlabel('Predicted label')\n",
        "plt.ylabel('Actual sentiment')"
      ],
      "metadata": {
        "execution": {
          "iopub.status.busy": "2021-07-18T15:27:33.783324Z",
          "iopub.execute_input": "2021-07-18T15:27:33.783882Z",
          "iopub.status.idle": "2021-07-18T15:27:34.126575Z",
          "shell.execute_reply.started": "2021-07-18T15:27:33.783836Z",
          "shell.execute_reply": "2021-07-18T15:27:34.125491Z"
        },
        "trusted": true,
        "id": "hg_nl3ILnrr_",
        "outputId": "0900aeab-2ad6-4c66-a582-ce039349e268"
      },
      "execution_count": null,
      "outputs": [
        {
          "execution_count": 34,
          "output_type": "execute_result",
          "data": {
            "text/plain": "Text(33.0, 0.5, 'Actual sentiment')"
          },
          "metadata": {}
        },
        {
          "output_type": "display_data",
          "data": {
            "text/plain": "<Figure size 432x288 with 2 Axes>",
            "image/png": "[encoded data removed]"
          },
          "metadata": {
            "needs_background": "light"
          }
        }
      ]
    }
  ]
}