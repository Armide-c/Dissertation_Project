{
 "cells": [
  {
   "cell_type": "code",
   "execution_count": 1,
   "id": "3375019b",
   "metadata": {
    "_cell_guid": "b1076dfc-b9ad-4769-8c92-a6c4dae69d19",
    "_uuid": "8f2839f25d086af736a60e9eeb907d3b93b6e0e5",
    "execution": {
     "iopub.execute_input": "2021-08-25T14:07:11.486249Z",
     "iopub.status.busy": "2021-08-25T14:07:11.481839Z",
     "iopub.status.idle": "2021-08-25T14:07:11.499343Z",
     "shell.execute_reply": "2021-08-25T14:07:11.498627Z",
     "shell.execute_reply.started": "2021-08-25T12:46:39.135286Z"
    },
    "papermill": {
     "duration": 0.110209,
     "end_time": "2021-08-25T14:07:11.499505",
     "exception": false,
     "start_time": "2021-08-25T14:07:11.389296",
     "status": "completed"
    },
    "tags": []
   },
   "outputs": [],
   "source": [
    "%matplotlib inline\n",
    "import sys\n",
    "import os\n",
    "import csv\n",
    "import json\n",
    "import logging\n",
    "from pathlib import Path\n",
    "import random\n",
    "import tarfile\n",
    "import tempfile\n",
    "import warnings\n",
    "import matplotlib.pyplot as plt\n",
    "import numpy as np\n",
    "import pandas as pd\n",
    "from tqdm import tqdm\n",
    "import plotly.graph_objects as go\n",
    "sys.path.append(str(Path.cwd().parent))"
   ]
  },
  {
   "cell_type": "code",
   "execution_count": 2,
   "id": "d584bb07",
   "metadata": {
    "execution": {
     "iopub.execute_input": "2021-08-25T14:07:11.670843Z",
     "iopub.status.busy": "2021-08-25T14:07:11.670269Z",
     "iopub.status.idle": "2021-08-25T14:07:11.673624Z",
     "shell.execute_reply": "2021-08-25T14:07:11.673196Z",
     "shell.execute_reply.started": "2021-08-25T12:46:39.168605Z"
    },
    "papermill": {
     "duration": 0.090448,
     "end_time": "2021-08-25T14:07:11.673790",
     "exception": false,
     "start_time": "2021-08-25T14:07:11.583342",
     "status": "completed"
    },
    "tags": []
   },
   "outputs": [],
   "source": [
    "dataset = Path.cwd().parent/\"input/bert-tags-results/BERT_model_results_tags.csv\""
   ]
  },
  {
   "cell_type": "code",
   "execution_count": 3,
   "id": "6a36f482",
   "metadata": {
    "execution": {
     "iopub.execute_input": "2021-08-25T14:07:11.843492Z",
     "iopub.status.busy": "2021-08-25T14:07:11.842807Z",
     "iopub.status.idle": "2021-08-25T14:07:11.949539Z",
     "shell.execute_reply": "2021-08-25T14:07:11.948990Z",
     "shell.execute_reply.started": "2021-08-25T12:46:39.176414Z"
    },
    "papermill": {
     "duration": 0.193476,
     "end_time": "2021-08-25T14:07:11.949679",
     "exception": false,
     "start_time": "2021-08-25T14:07:11.756203",
     "status": "completed"
    },
    "tags": []
   },
   "outputs": [],
   "source": [
    "BERT_dataset = pd.read_csv(dataset)"
   ]
  },
  {
   "cell_type": "code",
   "execution_count": 4,
   "id": "4dcd424c",
   "metadata": {
    "execution": {
     "iopub.execute_input": "2021-08-25T14:07:12.129642Z",
     "iopub.status.busy": "2021-08-25T14:07:12.128769Z",
     "iopub.status.idle": "2021-08-25T14:07:12.148216Z",
     "shell.execute_reply": "2021-08-25T14:07:12.148660Z",
     "shell.execute_reply.started": "2021-08-25T12:46:39.303252Z"
    },
    "papermill": {
     "duration": 0.115722,
     "end_time": "2021-08-25T14:07:12.148818",
     "exception": false,
     "start_time": "2021-08-25T14:07:12.033096",
     "status": "completed"
    },
    "tags": []
   },
   "outputs": [
    {
     "data": {
      "text/html": [
       "<div>\n",
       "<style scoped>\n",
       "    .dataframe tbody tr th:only-of-type {\n",
       "        vertical-align: middle;\n",
       "    }\n",
       "\n",
       "    .dataframe tbody tr th {\n",
       "        vertical-align: top;\n",
       "    }\n",
       "\n",
       "    .dataframe thead th {\n",
       "        text-align: right;\n",
       "    }\n",
       "</style>\n",
       "<table border=\"1\" class=\"dataframe\">\n",
       "  <thead>\n",
       "    <tr style=\"text-align: right;\">\n",
       "      <th></th>\n",
       "      <th>id</th>\n",
       "      <th>True Label</th>\n",
       "      <th>Label</th>\n",
       "      <th>Proba</th>\n",
       "      <th>Community</th>\n",
       "      <th>Multi/Uni</th>\n",
       "      <th>Text</th>\n",
       "    </tr>\n",
       "  </thead>\n",
       "  <tbody>\n",
       "    <tr>\n",
       "      <th>0</th>\n",
       "      <td>16395</td>\n",
       "      <td>1</td>\n",
       "      <td>0</td>\n",
       "      <td>0.429417</td>\n",
       "      <td>Disable</td>\n",
       "      <td>multi</td>\n",
       "      <td>handjobs sold seperately</td>\n",
       "    </tr>\n",
       "    <tr>\n",
       "      <th>1</th>\n",
       "      <td>37405</td>\n",
       "      <td>1</td>\n",
       "      <td>0</td>\n",
       "      <td>0.489593</td>\n",
       "      <td>Women</td>\n",
       "      <td>multi</td>\n",
       "      <td>introducing fidget spinner for women</td>\n",
       "    </tr>\n",
       "    <tr>\n",
       "      <th>2</th>\n",
       "      <td>94180</td>\n",
       "      <td>1</td>\n",
       "      <td>1</td>\n",
       "      <td>0.897919</td>\n",
       "      <td>LGBT</td>\n",
       "      <td>uni</td>\n",
       "      <td>happy pride month let's go beat up lesbians</td>\n",
       "    </tr>\n",
       "    <tr>\n",
       "      <th>3</th>\n",
       "      <td>54321</td>\n",
       "      <td>1</td>\n",
       "      <td>0</td>\n",
       "      <td>0.271455</td>\n",
       "      <td>Black</td>\n",
       "      <td>multi</td>\n",
       "      <td>laughs in [majority of u.s crime rate]</td>\n",
       "    </tr>\n",
       "    <tr>\n",
       "      <th>4</th>\n",
       "      <td>97015</td>\n",
       "      <td>1</td>\n",
       "      <td>0</td>\n",
       "      <td>0.385270</td>\n",
       "      <td>Musulman</td>\n",
       "      <td>multi</td>\n",
       "      <td>finds out those 72 virgins.. are goats</td>\n",
       "    </tr>\n",
       "    <tr>\n",
       "      <th>...</th>\n",
       "      <td>...</td>\n",
       "      <td>...</td>\n",
       "      <td>...</td>\n",
       "      <td>...</td>\n",
       "      <td>...</td>\n",
       "      <td>...</td>\n",
       "      <td>...</td>\n",
       "    </tr>\n",
       "    <tr>\n",
       "      <th>995</th>\n",
       "      <td>3869</td>\n",
       "      <td>0</td>\n",
       "      <td>0</td>\n",
       "      <td>0.073661</td>\n",
       "      <td>Not Applicable</td>\n",
       "      <td>multi</td>\n",
       "      <td>a mother's love for the child is a divine thing</td>\n",
       "    </tr>\n",
       "    <tr>\n",
       "      <th>996</th>\n",
       "      <td>23817</td>\n",
       "      <td>0</td>\n",
       "      <td>0</td>\n",
       "      <td>0.373033</td>\n",
       "      <td>Not Applicable</td>\n",
       "      <td>uni</td>\n",
       "      <td>sea monkeys</td>\n",
       "    </tr>\n",
       "    <tr>\n",
       "      <th>997</th>\n",
       "      <td>56280</td>\n",
       "      <td>0</td>\n",
       "      <td>0</td>\n",
       "      <td>0.200106</td>\n",
       "      <td>Not Applicable</td>\n",
       "      <td>multi</td>\n",
       "      <td>little miss muffet sat on her tuffet</td>\n",
       "    </tr>\n",
       "    <tr>\n",
       "      <th>998</th>\n",
       "      <td>29384</td>\n",
       "      <td>0</td>\n",
       "      <td>0</td>\n",
       "      <td>0.152466</td>\n",
       "      <td>Not Applicable</td>\n",
       "      <td>multi</td>\n",
       "      <td>they're in a row</td>\n",
       "    </tr>\n",
       "    <tr>\n",
       "      <th>999</th>\n",
       "      <td>34127</td>\n",
       "      <td>0</td>\n",
       "      <td>0</td>\n",
       "      <td>0.068527</td>\n",
       "      <td>Musulman</td>\n",
       "      <td>multi</td>\n",
       "      <td>that feeling when you win a fifa game after be...</td>\n",
       "    </tr>\n",
       "  </tbody>\n",
       "</table>\n",
       "<p>1000 rows × 7 columns</p>\n",
       "</div>"
      ],
      "text/plain": [
       "        id  True Label  Label     Proba       Community Multi/Uni  \\\n",
       "0    16395           1      0  0.429417         Disable     multi   \n",
       "1    37405           1      0  0.489593           Women     multi   \n",
       "2    94180           1      1  0.897919            LGBT       uni   \n",
       "3    54321           1      0  0.271455           Black     multi   \n",
       "4    97015           1      0  0.385270        Musulman     multi   \n",
       "..     ...         ...    ...       ...             ...       ...   \n",
       "995   3869           0      0  0.073661  Not Applicable     multi   \n",
       "996  23817           0      0  0.373033  Not Applicable       uni   \n",
       "997  56280           0      0  0.200106  Not Applicable     multi   \n",
       "998  29384           0      0  0.152466  Not Applicable     multi   \n",
       "999  34127           0      0  0.068527        Musulman     multi   \n",
       "\n",
       "                                                  Text  \n",
       "0                             handjobs sold seperately  \n",
       "1                 introducing fidget spinner for women  \n",
       "2          happy pride month let's go beat up lesbians  \n",
       "3               laughs in [majority of u.s crime rate]  \n",
       "4               finds out those 72 virgins.. are goats  \n",
       "..                                                 ...  \n",
       "995    a mother's love for the child is a divine thing  \n",
       "996                                        sea monkeys  \n",
       "997               little miss muffet sat on her tuffet  \n",
       "998                                   they're in a row  \n",
       "999  that feeling when you win a fifa game after be...  \n",
       "\n",
       "[1000 rows x 7 columns]"
      ]
     },
     "execution_count": 4,
     "metadata": {},
     "output_type": "execute_result"
    }
   ],
   "source": [
    "BERT_dataset"
   ]
  },
  {
   "cell_type": "markdown",
   "id": "fe6eeead",
   "metadata": {
    "papermill": {
     "duration": 0.082677,
     "end_time": "2021-08-25T14:07:12.315418",
     "exception": false,
     "start_time": "2021-08-25T14:07:12.232741",
     "status": "completed"
    },
    "tags": []
   },
   "source": [
    "# Looking at the number of sample:"
   ]
  },
  {
   "cell_type": "markdown",
   "id": "fb8480a8",
   "metadata": {
    "papermill": {
     "duration": 0.093845,
     "end_time": "2021-08-25T14:07:12.494581",
     "exception": false,
     "start_time": "2021-08-25T14:07:12.400736",
     "status": "completed"
    },
    "tags": []
   },
   "source": [
    "Hateful (1) or Note Hateful (0)"
   ]
  },
  {
   "cell_type": "code",
   "execution_count": 5,
   "id": "3296fffb",
   "metadata": {
    "execution": {
     "iopub.execute_input": "2021-08-25T14:07:12.666953Z",
     "iopub.status.busy": "2021-08-25T14:07:12.666297Z",
     "iopub.status.idle": "2021-08-25T14:07:12.682878Z",
     "shell.execute_reply": "2021-08-25T14:07:12.683351Z",
     "shell.execute_reply.started": "2021-08-25T12:46:39.343894Z"
    },
    "papermill": {
     "duration": 0.106089,
     "end_time": "2021-08-25T14:07:12.683536",
     "exception": false,
     "start_time": "2021-08-25T14:07:12.577447",
     "status": "completed"
    },
    "tags": []
   },
   "outputs": [],
   "source": [
    "not_hateful_labels = BERT_dataset[BERT_dataset['True Label'] == 0]\n",
    "hateful_labels = BERT_dataset[BERT_dataset['True Label'] == 1]"
   ]
  },
  {
   "cell_type": "code",
   "execution_count": 6,
   "id": "26aaad70",
   "metadata": {
    "execution": {
     "iopub.execute_input": "2021-08-25T14:07:12.884506Z",
     "iopub.status.busy": "2021-08-25T14:07:12.883517Z",
     "iopub.status.idle": "2021-08-25T14:07:12.889516Z",
     "shell.execute_reply": "2021-08-25T14:07:12.890420Z",
     "shell.execute_reply.started": "2021-08-25T12:46:39.374454Z"
    },
    "papermill": {
     "duration": 0.122717,
     "end_time": "2021-08-25T14:07:12.890650",
     "exception": false,
     "start_time": "2021-08-25T14:07:12.767933",
     "status": "completed"
    },
    "tags": []
   },
   "outputs": [
    {
     "name": "stdout",
     "output_type": "stream",
     "text": [
      "Number of none hateful samples in the dataset:  501\n",
      "Number of hateful samples in the dataset:  499\n"
     ]
    }
   ],
   "source": [
    "numb_not_hateful_labels = len(not_hateful_labels)\n",
    "numb_hateful_labels = len(hateful_labels)\n",
    "\n",
    "print(\"Number of none hateful samples in the dataset: \", numb_not_hateful_labels)\n",
    "print(\"Number of hateful samples in the dataset: \",numb_hateful_labels)"
   ]
  },
  {
   "cell_type": "markdown",
   "id": "f270217f",
   "metadata": {
    "papermill": {
     "duration": 0.084812,
     "end_time": "2021-08-25T14:07:13.060856",
     "exception": false,
     "start_time": "2021-08-25T14:07:12.976044",
     "status": "completed"
    },
    "tags": []
   },
   "source": [
    "Uni or Multi"
   ]
  },
  {
   "cell_type": "code",
   "execution_count": 7,
   "id": "8542572e",
   "metadata": {
    "execution": {
     "iopub.execute_input": "2021-08-25T14:07:13.240230Z",
     "iopub.status.busy": "2021-08-25T14:07:13.239583Z",
     "iopub.status.idle": "2021-08-25T14:07:13.246368Z",
     "shell.execute_reply": "2021-08-25T14:07:13.245831Z",
     "shell.execute_reply.started": "2021-08-25T12:46:39.384605Z"
    },
    "papermill": {
     "duration": 0.101911,
     "end_time": "2021-08-25T14:07:13.246511",
     "exception": false,
     "start_time": "2021-08-25T14:07:13.144600",
     "status": "completed"
    },
    "tags": []
   },
   "outputs": [],
   "source": [
    "multi_sample = BERT_dataset[BERT_dataset['Multi/Uni'] == 'multi']\n",
    "uni_sample = BERT_dataset[BERT_dataset['Multi/Uni'] == 'uni']"
   ]
  },
  {
   "cell_type": "code",
   "execution_count": 8,
   "id": "9b63b4bf",
   "metadata": {
    "execution": {
     "iopub.execute_input": "2021-08-25T14:07:13.420120Z",
     "iopub.status.busy": "2021-08-25T14:07:13.419529Z",
     "iopub.status.idle": "2021-08-25T14:07:13.425058Z",
     "shell.execute_reply": "2021-08-25T14:07:13.425541Z",
     "shell.execute_reply.started": "2021-08-25T12:46:39.401012Z"
    },
    "papermill": {
     "duration": 0.093236,
     "end_time": "2021-08-25T14:07:13.425724",
     "exception": false,
     "start_time": "2021-08-25T14:07:13.332488",
     "status": "completed"
    },
    "tags": []
   },
   "outputs": [
    {
     "name": "stdout",
     "output_type": "stream",
     "text": [
      "Number of multimodal samples in the dataset:  724\n",
      "Number of unimodal samples in the dataset:  275\n"
     ]
    }
   ],
   "source": [
    "numb_multi_sample = len(multi_sample)\n",
    "numb_uni_sample = len(uni_sample)\n",
    "\n",
    "print(\"Number of multimodal samples in the dataset: \", numb_multi_sample)\n",
    "print(\"Number of unimodal samples in the dataset: \", numb_uni_sample)"
   ]
  },
  {
   "cell_type": "markdown",
   "id": "146b29b5",
   "metadata": {
    "papermill": {
     "duration": 0.082937,
     "end_time": "2021-08-25T14:07:13.594246",
     "exception": false,
     "start_time": "2021-08-25T14:07:13.511309",
     "status": "completed"
    },
    "tags": []
   },
   "source": [
    "How many Hateful and not Hateful samples than are also multimodal sample?"
   ]
  },
  {
   "cell_type": "code",
   "execution_count": 9,
   "id": "ab7e3186",
   "metadata": {
    "execution": {
     "iopub.execute_input": "2021-08-25T14:07:13.764858Z",
     "iopub.status.busy": "2021-08-25T14:07:13.763850Z",
     "iopub.status.idle": "2021-08-25T14:07:13.773129Z",
     "shell.execute_reply": "2021-08-25T14:07:13.772523Z",
     "shell.execute_reply.started": "2021-08-25T12:46:39.413465Z"
    },
    "papermill": {
     "duration": 0.095271,
     "end_time": "2021-08-25T14:07:13.773265",
     "exception": false,
     "start_time": "2021-08-25T14:07:13.677994",
     "status": "completed"
    },
    "tags": []
   },
   "outputs": [
    {
     "data": {
      "text/plain": [
       "{'Multi and 0': 295, 'Multi and 1': 429}"
      ]
     },
     "execution_count": 9,
     "metadata": {},
     "output_type": "execute_result"
    }
   ],
   "source": [
    "Multi_and_0 = len(multi_sample[multi_sample['True Label'] == 0])\n",
    "Multi_and_1= len(multi_sample[multi_sample['True Label'] == 1])\n",
    "\n",
    "multi_labels = {\n",
    "'Multi and 0' : Multi_and_0,\n",
    "'Multi and 1': Multi_and_1}\n",
    "\n",
    "multi_labels"
   ]
  },
  {
   "cell_type": "markdown",
   "id": "467c4b50",
   "metadata": {
    "papermill": {
     "duration": 0.084973,
     "end_time": "2021-08-25T14:07:13.944421",
     "exception": false,
     "start_time": "2021-08-25T14:07:13.859448",
     "status": "completed"
    },
    "tags": []
   },
   "source": [
    "How many Hateful and not Hateful samples than are also unimodal sample?\n"
   ]
  },
  {
   "cell_type": "code",
   "execution_count": 10,
   "id": "303806dc",
   "metadata": {
    "execution": {
     "iopub.execute_input": "2021-08-25T14:07:14.122147Z",
     "iopub.status.busy": "2021-08-25T14:07:14.121510Z",
     "iopub.status.idle": "2021-08-25T14:07:14.124066Z",
     "shell.execute_reply": "2021-08-25T14:07:14.124481Z",
     "shell.execute_reply.started": "2021-08-25T12:46:39.433141Z"
    },
    "papermill": {
     "duration": 0.095405,
     "end_time": "2021-08-25T14:07:14.124646",
     "exception": false,
     "start_time": "2021-08-25T14:07:14.029241",
     "status": "completed"
    },
    "tags": []
   },
   "outputs": [
    {
     "data": {
      "text/plain": [
       "{'Uni and 0': 205, 'Uni and 1': 70}"
      ]
     },
     "execution_count": 10,
     "metadata": {},
     "output_type": "execute_result"
    }
   ],
   "source": [
    "Uni_and_0 = len(uni_sample[uni_sample['True Label'] == 0])\n",
    "Uni_and_1= len(uni_sample[uni_sample['True Label'] == 1])\n",
    "\n",
    "uni_labels = {\n",
    "'Uni and 0' : Uni_and_0,\n",
    "'Uni and 1': Uni_and_1}\n",
    "\n",
    "uni_labels"
   ]
  },
  {
   "cell_type": "code",
   "execution_count": 11,
   "id": "d4162617",
   "metadata": {
    "execution": {
     "iopub.execute_input": "2021-08-25T14:07:14.296175Z",
     "iopub.status.busy": "2021-08-25T14:07:14.295575Z",
     "iopub.status.idle": "2021-08-25T14:07:14.471805Z",
     "shell.execute_reply": "2021-08-25T14:07:14.471340Z",
     "shell.execute_reply.started": "2021-08-25T12:46:39.452818Z"
    },
    "papermill": {
     "duration": 0.262825,
     "end_time": "2021-08-25T14:07:14.471940",
     "exception": false,
     "start_time": "2021-08-25T14:07:14.209115",
     "status": "completed"
    },
    "tags": []
   },
   "outputs": [
    {
     "data": {
      "image/png": "[encoded data removed]",
      "text/plain": [
       "<Figure size 432x288 with 1 Axes>"
      ]
     },
     "metadata": {
      "needs_background": "light"
     },
     "output_type": "display_data"
    }
   ],
   "source": [
    "N = 2\n",
    "ind = np.arange(N) \n",
    "width = 0.25\n",
    "  \n",
    "xvals = [Uni_and_0, Uni_and_1]\n",
    "bar1 = plt.bar(ind, xvals, width, color = 'tab:blue')\n",
    "  \n",
    "yvals = [Multi_and_0, Multi_and_1]\n",
    "bar2 = plt.bar(ind+width, yvals, width, color=(0.5,0.1,0.5,0.6))\n",
    "  \n",
    "  \n",
    "plt.ylabel('Number of sample')\n",
    "plt.title(\"Number of hateful and not hateful sample that are unimodal or multimodal\")\n",
    "  \n",
    "plt.xticks(ind+width,['Not Hateful', 'Hateful'])\n",
    "plt.legend( (bar1, bar2), ('Unimodal', 'Multimodal') )\n",
    "plt.show()"
   ]
  },
  {
   "cell_type": "markdown",
   "id": "446ccc2d",
   "metadata": {
    "papermill": {
     "duration": 0.084286,
     "end_time": "2021-08-25T14:07:14.650783",
     "exception": false,
     "start_time": "2021-08-25T14:07:14.566497",
     "status": "completed"
    },
    "tags": []
   },
   "source": [
    "# For each category "
   ]
  },
  {
   "cell_type": "markdown",
   "id": "4febc03a",
   "metadata": {
    "papermill": {
     "duration": 0.083923,
     "end_time": "2021-08-25T14:07:14.819703",
     "exception": false,
     "start_time": "2021-08-25T14:07:14.735780",
     "status": "completed"
    },
    "tags": []
   },
   "source": [
    "* Disable\n",
    "* Women\n",
    "* LGBT\n",
    "* Black\n",
    "* Musulman\n",
    "* Fake News\n",
    "* N/A\n",
    "* Inciting Violence\n",
    "* Transgender\n",
    "* Ginger\n",
    "* Immigrant\n",
    "* Jewish\n",
    "* People of Color\n",
    "* White\n",
    "* Indian\n",
    "* Japanese\n",
    "* Chinese \n",
    "* Asian\n",
    "* Politic\n",
    "* German\n",
    "* Romania\n",
    "* Christian"
   ]
  },
  {
   "cell_type": "code",
   "execution_count": 12,
   "id": "1e220b00",
   "metadata": {
    "execution": {
     "iopub.execute_input": "2021-08-25T14:07:15.013618Z",
     "iopub.status.busy": "2021-08-25T14:07:15.012597Z",
     "iopub.status.idle": "2021-08-25T14:07:15.015294Z",
     "shell.execute_reply": "2021-08-25T14:07:15.015698Z",
     "shell.execute_reply.started": "2021-08-25T12:46:39.673578Z"
    },
    "papermill": {
     "duration": 0.110909,
     "end_time": "2021-08-25T14:07:15.015865",
     "exception": false,
     "start_time": "2021-08-25T14:07:14.904956",
     "status": "completed"
    },
    "tags": []
   },
   "outputs": [],
   "source": [
    "Disable_sample = BERT_dataset[BERT_dataset['Community'] == 'Disable']\n",
    "Women_sample = BERT_dataset[BERT_dataset['Community'] == 'Women']\n",
    "LGBT_sample = BERT_dataset[BERT_dataset['Community'] == 'LGBT']\n",
    "Black_sample = BERT_dataset[BERT_dataset['Community'] == 'Black']\n",
    "Musulman_sample = BERT_dataset[BERT_dataset['Community'] == 'Musulman']\n",
    "FakeNews_sample = BERT_dataset[BERT_dataset['Community'] == 'Fake News']\n",
    "NA_sample = BERT_dataset[BERT_dataset['Community'] == 'Not Applicable']\n",
    "IncitingViolence_sample = BERT_dataset[BERT_dataset['Community'] == 'Inciting Violence']\n",
    "Transgender_sample = BERT_dataset[BERT_dataset['Community'] == 'Transgender']\n",
    "Ginger_sample = BERT_dataset[BERT_dataset['Community'] == 'Ginger']\n",
    "Immigrant_sample = BERT_dataset[BERT_dataset['Community'] == 'Immigrant']\n",
    "Jewish_sample = BERT_dataset[BERT_dataset['Community'] == 'Jewish']\n",
    "PeopleofColor_sample = BERT_dataset[BERT_dataset['Community'] == 'People of Color']\n",
    "White_sample = BERT_dataset[BERT_dataset['Community'] == 'White']\n",
    "Indian_sample = BERT_dataset[BERT_dataset['Community'] == 'Indian']\n",
    "Japanese_sample = BERT_dataset[BERT_dataset['Community'] == 'Japanese']\n",
    "Chinese_sample = BERT_dataset[BERT_dataset['Community'] == 'Chinese']\n",
    "Asian_sample = BERT_dataset[BERT_dataset['Community'] == 'Asian']\n",
    "Politic_sample = BERT_dataset[BERT_dataset['Community'] == 'Politic']\n",
    "German_sample = BERT_dataset[BERT_dataset['Community'] == 'German']\n",
    "Romanian_sample = BERT_dataset[BERT_dataset['Community'] == 'Romania']\n",
    "Christian_sample = BERT_dataset[BERT_dataset['Community'] == 'Christian']"
   ]
  },
  {
   "cell_type": "code",
   "execution_count": 13,
   "id": "6a3faa2a",
   "metadata": {
    "execution": {
     "iopub.execute_input": "2021-08-25T14:07:15.244761Z",
     "iopub.status.busy": "2021-08-25T14:07:15.244107Z",
     "iopub.status.idle": "2021-08-25T14:07:15.245923Z",
     "shell.execute_reply": "2021-08-25T14:07:15.246408Z",
     "shell.execute_reply.started": "2021-08-25T12:46:39.707799Z"
    },
    "papermill": {
     "duration": 0.14378,
     "end_time": "2021-08-25T14:07:15.246577",
     "exception": false,
     "start_time": "2021-08-25T14:07:15.102797",
     "status": "completed"
    },
    "tags": []
   },
   "outputs": [],
   "source": [
    "numb_Disable_sample = len(Disable_sample)\n",
    "numb_Women_sample = len(Women_sample)\n",
    "numb_LGBT_sample = len(LGBT_sample)\n",
    "numb_Black_sample = len(Black_sample)\n",
    "numb_Musulman_sample = len(Musulman_sample)\n",
    "numb_FakeNews_sample = len(FakeNews_sample)\n",
    "numb_NA_sample = len(NA_sample)\n",
    "numb_IncitingViolence_sample = len(IncitingViolence_sample)\n",
    "numb_Transgender_sample = len(Transgender_sample)\n",
    "numb_German_sample = len(Ginger_sample)\n",
    "numb_Immigrant_sample = len(Immigrant_sample)\n",
    "numb_Jewish_sample = len(Jewish_sample)\n",
    "numb_PeopleofColor_sample = len(PeopleofColor_sample)\n",
    "numb_White_sample = len(White_sample)\n",
    "numb_Indian_sample = len(Indian_sample)\n",
    "numb_Japanese_sample = len(Japanese_sample)\n",
    "numb_Chinese_sample = len(Chinese_sample)\n",
    "numb_Asian_sample = len(Asian_sample)\n",
    "numb_Politic_sample = len(Politic_sample)\n",
    "numb_German_sample = len(German_sample)\n",
    "numb_Romanian_sample = len(Romanian_sample)\n",
    "numb_Christian_sample = len(Christian_sample)"
   ]
  },
  {
   "cell_type": "code",
   "execution_count": 14,
   "id": "316df6b7",
   "metadata": {
    "execution": {
     "iopub.execute_input": "2021-08-25T14:07:15.420993Z",
     "iopub.status.busy": "2021-08-25T14:07:15.420396Z",
     "iopub.status.idle": "2021-08-25T14:07:15.700247Z",
     "shell.execute_reply": "2021-08-25T14:07:15.699758Z",
     "shell.execute_reply.started": "2021-08-25T12:46:39.728979Z"
    },
    "papermill": {
     "duration": 0.367445,
     "end_time": "2021-08-25T14:07:15.700390",
     "exception": false,
     "start_time": "2021-08-25T14:07:15.332945",
     "status": "completed"
    },
    "tags": []
   },
   "outputs": [
    {
     "data": {
      "text/plain": [
       "Text(0, 0.5, 'number of sample')"
      ]
     },
     "execution_count": 14,
     "metadata": {},
     "output_type": "execute_result"
    },
    {
     "data": {
      "image/png": "[encoded data removed]",
      "text/plain": [
       "<Figure size 432x288 with 1 Axes>"
      ]
     },
     "metadata": {
      "needs_background": "light"
     },
     "output_type": "display_data"
    }
   ],
   "source": [
    "categories = {\n",
    "'Disable' : len(Disable_sample),\n",
    "'Women' : len(Women_sample),\n",
    "'LGBT' : len(LGBT_sample),\n",
    "'Black' : len(Black_sample),\n",
    "'Musulman' : len(Musulman_sample),\n",
    "'FakeNews' : len(FakeNews_sample),\n",
    "'NA' : len(NA_sample),\n",
    "'Inciting Violence' : len(IncitingViolence_sample),\n",
    "'Transgender' : len(Transgender_sample),\n",
    "'Ginger' : len(Ginger_sample),\n",
    "'Immigrant' : len(Immigrant_sample),\n",
    "'Jewish' : len(Jewish_sample),\n",
    "'People of Color' : len(PeopleofColor_sample),\n",
    "'White' : len(White_sample),\n",
    "'Indian' : len(Indian_sample),\n",
    "'Japanese' : len(Japanese_sample),\n",
    "'Chinese' : len(Chinese_sample),\n",
    "'Asian' : len(Asian_sample),\n",
    "'Politic' : len(Politic_sample),\n",
    "'German' : len(German_sample),\n",
    "'Romanian' : len(Romanian_sample),\n",
    "'Christian' : len(Christian_sample)\n",
    "}\n",
    "\n",
    "lists = sorted(categories.items()) # sorted by key, return a list of tuples\n",
    "categories, numb_of_sample = zip(*lists) # unpack a list of pairs into two tuples\n",
    "\n",
    "plt.xticks(rotation='vertical')\n",
    "df = plt.bar(categories, numb_of_sample, color=(0.5,0.1,0.5,0.6))\n",
    "plt.title('Number of sample by category')\n",
    "plt.xlabel('categories')\n",
    "plt.ylabel('number of sample')"
   ]
  },
  {
   "cell_type": "code",
   "execution_count": 15,
   "id": "c9b51af1",
   "metadata": {
    "execution": {
     "iopub.execute_input": "2021-08-25T14:07:15.881343Z",
     "iopub.status.busy": "2021-08-25T14:07:15.880428Z",
     "iopub.status.idle": "2021-08-25T14:07:15.883079Z",
     "shell.execute_reply": "2021-08-25T14:07:15.883588Z",
     "shell.execute_reply.started": "2021-08-25T12:46:40.103731Z"
    },
    "papermill": {
     "duration": 0.097797,
     "end_time": "2021-08-25T14:07:15.883759",
     "exception": false,
     "start_time": "2021-08-25T14:07:15.785962",
     "status": "completed"
    },
    "tags": []
   },
   "outputs": [
    {
     "data": {
      "text/plain": [
       "{'Disable': 62,\n",
       " 'Women': 60,\n",
       " 'LGBT': 32,\n",
       " 'Black': 125,\n",
       " 'Musulman': 119,\n",
       " 'FakeNews': 6,\n",
       " 'NA': 391,\n",
       " 'Inciting Violence': 14,\n",
       " 'Transgender': 15,\n",
       " 'Ginger': 1,\n",
       " 'Immigrant': 13,\n",
       " 'Jewish': 75,\n",
       " 'People of Color': 21,\n",
       " 'White': 15,\n",
       " 'Indian': 2,\n",
       " 'Japanese': 3,\n",
       " 'Chinese': 6,\n",
       " 'Asian': 11,\n",
       " 'Politic': 19,\n",
       " 'German': 3,\n",
       " 'Romanian': 3,\n",
       " 'Christian': 1}"
      ]
     },
     "execution_count": 15,
     "metadata": {},
     "output_type": "execute_result"
    }
   ],
   "source": [
    "categories_dic = {\n",
    "'Disable' : len(Disable_sample),\n",
    "'Women' : len(Women_sample),\n",
    "'LGBT' : len(LGBT_sample),\n",
    "'Black' : len(Black_sample),\n",
    "'Musulman' : len(Musulman_sample),\n",
    "'FakeNews' : len(FakeNews_sample),\n",
    "'NA' : len(NA_sample),\n",
    "'Inciting Violence' : len(IncitingViolence_sample),\n",
    "'Transgender' : len(Transgender_sample),\n",
    "'Ginger' : len(Ginger_sample),\n",
    "'Immigrant' : len(Immigrant_sample),\n",
    "'Jewish' : len(Jewish_sample),\n",
    "'People of Color' : len(PeopleofColor_sample),\n",
    "'White' : len(White_sample),\n",
    "'Indian' : len(Indian_sample),\n",
    "'Japanese' : len(Japanese_sample),\n",
    "'Chinese' : len(Chinese_sample),\n",
    "'Asian' : len(Asian_sample),\n",
    "'Politic' : len(Politic_sample),\n",
    "'German' : len(German_sample),\n",
    "'Romanian' : len(Romanian_sample),\n",
    "'Christian' : len(Christian_sample)\n",
    "}\n",
    "categories_dic"
   ]
  },
  {
   "cell_type": "code",
   "execution_count": 16,
   "id": "91a0d78a",
   "metadata": {
    "execution": {
     "iopub.execute_input": "2021-08-25T14:07:16.064024Z",
     "iopub.status.busy": "2021-08-25T14:07:16.063167Z",
     "iopub.status.idle": "2021-08-25T14:07:16.066973Z",
     "shell.execute_reply": "2021-08-25T14:07:16.066520Z",
     "shell.execute_reply.started": "2021-08-25T12:46:40.117553Z"
    },
    "papermill": {
     "duration": 0.096866,
     "end_time": "2021-08-25T14:07:16.067150",
     "exception": false,
     "start_time": "2021-08-25T14:07:15.970284",
     "status": "completed"
    },
    "tags": []
   },
   "outputs": [],
   "source": [
    "OtherThanNA_sample = BERT_dataset[BERT_dataset['Community'] != 'Not Applicable']"
   ]
  },
  {
   "cell_type": "markdown",
   "id": "356b6921",
   "metadata": {
    "papermill": {
     "duration": 0.086238,
     "end_time": "2021-08-25T14:07:16.240028",
     "exception": false,
     "start_time": "2021-08-25T14:07:16.153790",
     "status": "completed"
    },
    "tags": []
   },
   "source": []
  },
  {
   "cell_type": "code",
   "execution_count": 17,
   "id": "962a3b99",
   "metadata": {
    "execution": {
     "iopub.execute_input": "2021-08-25T14:07:16.444408Z",
     "iopub.status.busy": "2021-08-25T14:07:16.434602Z",
     "iopub.status.idle": "2021-08-25T14:07:16.547301Z",
     "shell.execute_reply": "2021-08-25T14:07:16.546679Z",
     "shell.execute_reply.started": "2021-08-25T12:46:40.131817Z"
    },
    "papermill": {
     "duration": 0.221265,
     "end_time": "2021-08-25T14:07:16.547439",
     "exception": false,
     "start_time": "2021-08-25T14:07:16.326174",
     "status": "completed"
    },
    "tags": []
   },
   "outputs": [
    {
     "data": {
      "text/plain": [
       "Text(0, 0.5, 'number of sample')"
      ]
     },
     "execution_count": 17,
     "metadata": {},
     "output_type": "execute_result"
    },
    {
     "data": {
      "image/png": "[encoded data removed]",
      "text/plain": [
       "<Figure size 432x288 with 1 Axes>"
      ]
     },
     "metadata": {
      "needs_background": "light"
     },
     "output_type": "display_data"
    }
   ],
   "source": [
    "bi_cat = {\n",
    "    'NA' : len(NA_sample),\n",
    "    'Other than NA' : len(OtherThanNA_sample)\n",
    "}\n",
    "\n",
    "lists = sorted(bi_cat.items()) # sorted by key, return a list of tuples\n",
    "categories, numb_of_sample = zip(*lists) # unpack a list of pairs into two tuples\n",
    "\n",
    "plt.xticks(rotation='vertical')\n",
    "plt.bar(categories, numb_of_sample, color=\"tab:blue\")\n",
    "plt.title('Number of sample by category')\n",
    "plt.xlabel('categories')\n",
    "plt.ylabel('number of sample')"
   ]
  },
  {
   "cell_type": "code",
   "execution_count": 18,
   "id": "8c202cdd",
   "metadata": {
    "execution": {
     "iopub.execute_input": "2021-08-25T14:07:16.727702Z",
     "iopub.status.busy": "2021-08-25T14:07:16.726736Z",
     "iopub.status.idle": "2021-08-25T14:07:16.730794Z",
     "shell.execute_reply": "2021-08-25T14:07:16.730348Z",
     "shell.execute_reply.started": "2021-08-25T12:46:40.295139Z"
    },
    "papermill": {
     "duration": 0.096097,
     "end_time": "2021-08-25T14:07:16.730926",
     "exception": false,
     "start_time": "2021-08-25T14:07:16.634829",
     "status": "completed"
    },
    "tags": []
   },
   "outputs": [
    {
     "data": {
      "text/plain": [
       "{'NA': 391, 'Other than NA': 609}"
      ]
     },
     "execution_count": 18,
     "metadata": {},
     "output_type": "execute_result"
    }
   ],
   "source": [
    "bi_cat"
   ]
  },
  {
   "cell_type": "markdown",
   "id": "62cd557a",
   "metadata": {
    "papermill": {
     "duration": 0.088196,
     "end_time": "2021-08-25T14:07:16.908071",
     "exception": false,
     "start_time": "2021-08-25T14:07:16.819875",
     "status": "completed"
    },
    "tags": []
   },
   "source": [
    "Hateful by community "
   ]
  },
  {
   "cell_type": "code",
   "execution_count": 19,
   "id": "c50e7a08",
   "metadata": {
    "execution": {
     "iopub.execute_input": "2021-08-25T14:07:17.113691Z",
     "iopub.status.busy": "2021-08-25T14:07:17.112967Z",
     "iopub.status.idle": "2021-08-25T14:07:17.115641Z",
     "shell.execute_reply": "2021-08-25T14:07:17.115065Z",
     "shell.execute_reply.started": "2021-08-25T12:46:40.306867Z"
    },
    "papermill": {
     "duration": 0.119054,
     "end_time": "2021-08-25T14:07:17.115775",
     "exception": false,
     "start_time": "2021-08-25T14:07:16.996721",
     "status": "completed"
    },
    "tags": []
   },
   "outputs": [],
   "source": [
    "Disable_sample_h = hateful_labels[hateful_labels['Community'] == 'Disable']\n",
    "Women_sample_h = hateful_labels[hateful_labels['Community'] == 'Women']\n",
    "LGBT_sample_h = hateful_labels[hateful_labels['Community'] == 'LGBT']\n",
    "Black_sample_h = hateful_labels[hateful_labels['Community'] == 'Black']\n",
    "Musulman_sample_h = hateful_labels[hateful_labels['Community'] == 'Musulman']\n",
    "FakeNews_sample_h = hateful_labels[hateful_labels['Community'] == 'Fake News']\n",
    "NA_sample_h = hateful_labels[hateful_labels['Community'] == 'Not Applicable']\n",
    "IncitingViolence_sample_h = hateful_labels[hateful_labels['Community'] == 'Inciting Violence']\n",
    "Transgender_sample_h = hateful_labels[hateful_labels['Community'] == 'Transgender']\n",
    "Ginger_sample_h = hateful_labels[hateful_labels['Community'] == 'Ginger']\n",
    "Immigrant_sample_h = hateful_labels[hateful_labels['Community'] == 'Immigrant']\n",
    "Jewish_sample_h = hateful_labels[hateful_labels['Community'] == 'Jewish']\n",
    "PeopleofColor_sample_h = hateful_labels[hateful_labels['Community'] == 'People of Color']\n",
    "White_sample_h = hateful_labels[hateful_labels['Community'] == 'White']\n",
    "Indian_sample_h = hateful_labels[hateful_labels['Community'] == 'Indian']\n",
    "Japanese_sample_h = hateful_labels[hateful_labels['Community'] == 'Japanese']\n",
    "Chinese_sample_h = hateful_labels[hateful_labels['Community'] == 'Chinese']\n",
    "Asian_sample_h = hateful_labels[hateful_labels['Community'] == 'Asian']\n",
    "Politic_sample_h = hateful_labels[hateful_labels['Community'] == 'Politic']\n",
    "German_sample_h = hateful_labels[hateful_labels['Community'] == 'German']\n",
    "Romanian_sample_h = hateful_labels[hateful_labels['Community'] == 'Romania']\n",
    "Christian_sample_h = hateful_labels[hateful_labels['Community'] == 'Christian']"
   ]
  },
  {
   "cell_type": "code",
   "execution_count": 20,
   "id": "82fbc318",
   "metadata": {
    "execution": {
     "iopub.execute_input": "2021-08-25T14:07:17.316220Z",
     "iopub.status.busy": "2021-08-25T14:07:17.314076Z",
     "iopub.status.idle": "2021-08-25T14:07:17.569090Z",
     "shell.execute_reply": "2021-08-25T14:07:17.568451Z",
     "shell.execute_reply.started": "2021-08-25T12:46:40.341244Z"
    },
    "papermill": {
     "duration": 0.365473,
     "end_time": "2021-08-25T14:07:17.569237",
     "exception": false,
     "start_time": "2021-08-25T14:07:17.203764",
     "status": "completed"
    },
    "tags": []
   },
   "outputs": [
    {
     "data": {
      "text/plain": [
       "Text(0, 0.5, 'number of sample')"
      ]
     },
     "execution_count": 20,
     "metadata": {},
     "output_type": "execute_result"
    },
    {
     "data": {
      "image/png": "[encoded data removed]",
      "text/plain": [
       "<Figure size 432x288 with 1 Axes>"
      ]
     },
     "metadata": {
      "needs_background": "light"
     },
     "output_type": "display_data"
    }
   ],
   "source": [
    "H_categories = {\n",
    "'Disable' : len(Disable_sample_h),\n",
    "'Women' : len(Women_sample_h),\n",
    "'LGBT' : len(LGBT_sample_h),\n",
    "'Black' : len(Black_sample_h),\n",
    "'Musulman' : len(Musulman_sample_h),\n",
    "'FakeNews' : len(FakeNews_sample_h),\n",
    "'NA' : len(NA_sample_h),\n",
    "'Inciting Violence' : len(IncitingViolence_sample_h),\n",
    "'Transgender' : len(Transgender_sample_h),\n",
    "'Ginger' : len(Ginger_sample_h),\n",
    "'Immigrant' : len(Immigrant_sample_h),\n",
    "'Jewish' : len(Jewish_sample_h),\n",
    "'People of Color' : len(PeopleofColor_sample_h),\n",
    "'White' : len(White_sample_h),\n",
    "'Indian' : len(Indian_sample_h),\n",
    "'Japanese' : len(Japanese_sample_h),\n",
    "'Chinese' : len(Chinese_sample_h),\n",
    "'Asian' : len(Asian_sample_h),\n",
    "'Politic' : len(Politic_sample_h),\n",
    "'German' : len(German_sample_h),\n",
    "'Romanian' : len(Romanian_sample_h),\n",
    "'Christian' : len(Christian_sample_h)\n",
    "}\n",
    "\n",
    "lists = sorted(H_categories.items()) # sorted by key, return a list of tuples\n",
    "categories, numb_of_sample = zip(*lists) # unpack a list of pairs into two tuples\n",
    "\n",
    "plt.xticks(rotation='vertical')\n",
    "df = plt.bar(categories, numb_of_sample, color=(0.5,0.1,0.5,0.6))\n",
    "plt.title('Number of sample by category')\n",
    "plt.xlabel('categories')\n",
    "plt.ylabel('number of sample')"
   ]
  },
  {
   "cell_type": "markdown",
   "id": "54583466",
   "metadata": {
    "papermill": {
     "duration": 0.089386,
     "end_time": "2021-08-25T14:07:17.747766",
     "exception": false,
     "start_time": "2021-08-25T14:07:17.658380",
     "status": "completed"
    },
    "tags": []
   },
   "source": [
    "Not Hateful by community "
   ]
  },
  {
   "cell_type": "code",
   "execution_count": 21,
   "id": "cdf8389e",
   "metadata": {
    "execution": {
     "iopub.execute_input": "2021-08-25T14:07:17.950187Z",
     "iopub.status.busy": "2021-08-25T14:07:17.949527Z",
     "iopub.status.idle": "2021-08-25T14:07:17.951913Z",
     "shell.execute_reply": "2021-08-25T14:07:17.951356Z",
     "shell.execute_reply.started": "2021-08-25T12:46:40.679942Z"
    },
    "papermill": {
     "duration": 0.113717,
     "end_time": "2021-08-25T14:07:17.952061",
     "exception": false,
     "start_time": "2021-08-25T14:07:17.838344",
     "status": "completed"
    },
    "tags": []
   },
   "outputs": [],
   "source": [
    "Disable_sample_nh = not_hateful_labels[not_hateful_labels['Community'] == 'Disable']\n",
    "Women_sample_nh = not_hateful_labels[not_hateful_labels['Community'] == 'Women']\n",
    "LGBT_sample_nh = not_hateful_labels[not_hateful_labels['Community'] == 'LGBT']\n",
    "Black_sample_nh = not_hateful_labels[not_hateful_labels['Community'] == 'Black']\n",
    "Musulman_sample_nh = not_hateful_labels[not_hateful_labels['Community'] == 'Musulman']\n",
    "FakeNews_sample_nh = not_hateful_labels[not_hateful_labels['Community'] == 'Fake News']\n",
    "NA_sample_nh = not_hateful_labels[not_hateful_labels['Community'] == 'Not Applicable']\n",
    "IncitingViolence_sample_nh = not_hateful_labels[not_hateful_labels['Community'] == 'Inciting Violence']\n",
    "Transgender_sample_nh = not_hateful_labels[not_hateful_labels['Community'] == 'Transgender']\n",
    "Ginger_sample_nh = not_hateful_labels[not_hateful_labels['Community'] == 'Ginger']\n",
    "Immigrant_sample_nh = not_hateful_labels[not_hateful_labels['Community'] == 'Immigrant']\n",
    "Jewish_sample_nh = not_hateful_labels[not_hateful_labels['Community'] == 'Jewish']\n",
    "PeopleofColor_sample_nh = not_hateful_labels[not_hateful_labels['Community'] == 'People of Color']\n",
    "White_sample_nh = not_hateful_labels[not_hateful_labels['Community'] == 'White']\n",
    "Indian_sample_nh = not_hateful_labels[not_hateful_labels['Community'] == 'Indian']\n",
    "Japanese_sample_nh = not_hateful_labels[not_hateful_labels['Community'] == 'Japanese']\n",
    "Chinese_sample_nh = not_hateful_labels[not_hateful_labels['Community'] == 'Chinese']\n",
    "Asian_sample_nh = not_hateful_labels[not_hateful_labels['Community'] == 'Asian']\n",
    "Politic_sample_nh = not_hateful_labels[not_hateful_labels['Community'] == 'Politic']\n",
    "German_sample_nh = not_hateful_labels[not_hateful_labels['Community'] == 'German']\n",
    "Romanian_sample_nh = not_hateful_labels[not_hateful_labels['Community'] == 'Romania']\n",
    "Christian_sample_nh = not_hateful_labels[not_hateful_labels['Community'] == 'Christian']"
   ]
  },
  {
   "cell_type": "code",
   "execution_count": 22,
   "id": "c3027755",
   "metadata": {
    "execution": {
     "iopub.execute_input": "2021-08-25T14:07:18.157715Z",
     "iopub.status.busy": "2021-08-25T14:07:18.157085Z",
     "iopub.status.idle": "2021-08-25T14:07:18.417534Z",
     "shell.execute_reply": "2021-08-25T14:07:18.417927Z",
     "shell.execute_reply.started": "2021-08-25T12:46:40.714561Z"
    },
    "papermill": {
     "duration": 0.374908,
     "end_time": "2021-08-25T14:07:18.418110",
     "exception": false,
     "start_time": "2021-08-25T14:07:18.043202",
     "status": "completed"
    },
    "tags": []
   },
   "outputs": [
    {
     "data": {
      "text/plain": [
       "Text(0, 0.5, 'number of sample')"
      ]
     },
     "execution_count": 22,
     "metadata": {},
     "output_type": "execute_result"
    },
    {
     "data": {
      "image/png": "[encoded data removed]",
      "text/plain": [
       "<Figure size 432x288 with 1 Axes>"
      ]
     },
     "metadata": {
      "needs_background": "light"
     },
     "output_type": "display_data"
    }
   ],
   "source": [
    "NH_categories = {\n",
    "'Disable' : len(Disable_sample_nh),\n",
    "'Women' : len(Women_sample_nh),\n",
    "'LGBT' : len(LGBT_sample_nh),\n",
    "'Black' : len(Black_sample_nh),\n",
    "'Musulman' : len(Musulman_sample_nh),\n",
    "'FakeNews' : len(FakeNews_sample_nh),\n",
    "'NA' : len(NA_sample_nh),\n",
    "'Inciting Violence' : len(IncitingViolence_sample_nh),\n",
    "'Transgender' : len(Transgender_sample_nh),\n",
    "'Ginger' : len(Ginger_sample_nh),\n",
    "'Immigrant' : len(Immigrant_sample_nh),\n",
    "'Jewish' : len(Jewish_sample_nh),\n",
    "'People of Color' : len(PeopleofColor_sample_nh),\n",
    "'White' : len(White_sample_nh),\n",
    "'Indian' : len(Indian_sample_nh),\n",
    "'Japanese' : len(Japanese_sample_nh),\n",
    "'Chinese' : len(Chinese_sample_nh),\n",
    "'Asian' : len(Asian_sample_nh),\n",
    "'Politic' : len(Politic_sample_nh),\n",
    "'German' : len(German_sample_nh),\n",
    "'Romanian' : len(Romanian_sample_nh),\n",
    "'Christian' : len(Christian_sample_nh)\n",
    "}\n",
    "\n",
    "lists = sorted(NH_categories.items()) # sorted by key, return a list of tuples\n",
    "categories, numb_of_sample = zip(*lists) # unpack a list of pairs into two tuples\n",
    "\n",
    "plt.xticks(rotation='vertical')\n",
    "df = plt.bar(categories, numb_of_sample, color='b')\n",
    "plt.title('Number of sample by category')\n",
    "plt.xlabel('categories')\n",
    "plt.ylabel('number of sample')"
   ]
  },
  {
   "cell_type": "markdown",
   "id": "e893470c",
   "metadata": {
    "papermill": {
     "duration": 0.089245,
     "end_time": "2021-08-25T14:07:18.596914",
     "exception": false,
     "start_time": "2021-08-25T14:07:18.507669",
     "status": "completed"
    },
    "tags": []
   },
   "source": [
    "We can see that NA is the type that is mostly not hateful - proving that hate tend to target a specific community at the opposite of not hateful."
   ]
  },
  {
   "cell_type": "code",
   "execution_count": 23,
   "id": "42ea22c9",
   "metadata": {
    "execution": {
     "iopub.execute_input": "2021-08-25T14:07:18.782182Z",
     "iopub.status.busy": "2021-08-25T14:07:18.781321Z",
     "iopub.status.idle": "2021-08-25T14:07:18.785838Z",
     "shell.execute_reply": "2021-08-25T14:07:18.785276Z",
     "shell.execute_reply.started": "2021-08-25T12:46:41.102075Z"
    },
    "papermill": {
     "duration": 0.099536,
     "end_time": "2021-08-25T14:07:18.785972",
     "exception": false,
     "start_time": "2021-08-25T14:07:18.686436",
     "status": "completed"
    },
    "tags": []
   },
   "outputs": [
    {
     "data": {
      "text/plain": [
       "{'Disable': 55,\n",
       " 'Women': 43,\n",
       " 'LGBT': 20,\n",
       " 'Black': 112,\n",
       " 'Musulman': 93,\n",
       " 'FakeNews': 5,\n",
       " 'NA': 9,\n",
       " 'Inciting Violence': 13,\n",
       " 'Transgender': 13,\n",
       " 'Ginger': 1,\n",
       " 'Immigrant': 12,\n",
       " 'Jewish': 63,\n",
       " 'People of Color': 19,\n",
       " 'White': 11,\n",
       " 'Indian': 2,\n",
       " 'Japanese': 3,\n",
       " 'Chinese': 5,\n",
       " 'Asian': 7,\n",
       " 'Politic': 5,\n",
       " 'German': 1,\n",
       " 'Romanian': 3,\n",
       " 'Christian': 1}"
      ]
     },
     "execution_count": 23,
     "metadata": {},
     "output_type": "execute_result"
    }
   ],
   "source": [
    "H_categories"
   ]
  },
  {
   "cell_type": "markdown",
   "id": "ea558c80",
   "metadata": {
    "papermill": {
     "duration": 0.090368,
     "end_time": "2021-08-25T14:07:18.967254",
     "exception": false,
     "start_time": "2021-08-25T14:07:18.876886",
     "status": "completed"
    },
    "tags": []
   },
   "source": [
    "Graph for each communities, the percentage of, in a column not hateful, in another, hateful"
   ]
  },
  {
   "cell_type": "code",
   "execution_count": 24,
   "id": "98bb8a3a",
   "metadata": {
    "execution": {
     "iopub.execute_input": "2021-08-25T14:07:19.163961Z",
     "iopub.status.busy": "2021-08-25T14:07:19.163134Z",
     "iopub.status.idle": "2021-08-25T14:07:19.167242Z",
     "shell.execute_reply": "2021-08-25T14:07:19.167637Z",
     "shell.execute_reply.started": "2021-08-25T12:46:41.110236Z"
    },
    "papermill": {
     "duration": 0.110081,
     "end_time": "2021-08-25T14:07:19.167800",
     "exception": false,
     "start_time": "2021-08-25T14:07:19.057719",
     "status": "completed"
    },
    "tags": []
   },
   "outputs": [
    {
     "data": {
      "text/plain": [
       "{'Disable': 11.29032258064516,\n",
       " 'Women': 28.333333333333332,\n",
       " 'LGBT': 37.5,\n",
       " 'Black': 10.4,\n",
       " 'Musulman': 21.84873949579832,\n",
       " 'FakeNews': 16.666666666666664,\n",
       " 'NA': 97.69820971867009,\n",
       " 'Inciting Violence': 7.142857142857142,\n",
       " 'Transgender': 13.333333333333334,\n",
       " 'Ginger': 0.0,\n",
       " 'Immigrant': 7.6923076923076925,\n",
       " 'Jewish': 16.0,\n",
       " 'People of Color': 9.523809523809524,\n",
       " 'White': 26.666666666666668,\n",
       " 'Indian': 0.0,\n",
       " 'Japanese': 0.0,\n",
       " 'Chinese': 16.666666666666664,\n",
       " 'Asian': 36.36363636363637,\n",
       " 'Politic': 73.68421052631578,\n",
       " 'German': 66.66666666666666,\n",
       " 'Romanian': 0.0,\n",
       " 'Christian': 0.0}"
      ]
     },
     "execution_count": 24,
     "metadata": {},
     "output_type": "execute_result"
    }
   ],
   "source": [
    "NH_P_categories = {\n",
    "'Disable' : len(Disable_sample_nh) / len(Disable_sample) * 100,\n",
    "'Women' : len(Women_sample_nh) / len(Women_sample) * 100,\n",
    "'LGBT' : len(LGBT_sample_nh) / len(LGBT_sample) * 100,\n",
    "'Black' : len(Black_sample_nh) / len(Black_sample) * 100,\n",
    "'Musulman' : len(Musulman_sample_nh) / len(Musulman_sample) * 100,\n",
    "'FakeNews' : len(FakeNews_sample_nh) / len(FakeNews_sample) * 100,\n",
    "'NA' : len(NA_sample_nh) / len(NA_sample) * 100,\n",
    "'Inciting Violence' : len(IncitingViolence_sample_nh) / len(IncitingViolence_sample) * 100,\n",
    "'Transgender' : len(Transgender_sample_nh) / len(Transgender_sample) * 100,\n",
    "'Ginger' : len(Ginger_sample_nh) / len(Ginger_sample) * 100,\n",
    "'Immigrant' : len(Immigrant_sample_nh) / len(Immigrant_sample) * 100,\n",
    "'Jewish' : len(Jewish_sample_nh) / len(Jewish_sample) * 100,\n",
    "'People of Color' : len(PeopleofColor_sample_nh) / len(PeopleofColor_sample) * 100,\n",
    "'White' : len(White_sample_nh) / len(White_sample) * 100,\n",
    "'Indian' : len(Indian_sample_nh) / len(Indian_sample) * 100,\n",
    "'Japanese' : len(Japanese_sample_nh) / len(Japanese_sample) * 100,\n",
    "'Chinese' : len(Chinese_sample_nh) / len(Chinese_sample) * 100,\n",
    "'Asian' : len(Asian_sample_nh) / len(Asian_sample) * 100,\n",
    "'Politic' : len(Politic_sample_nh) / len(Politic_sample) * 100,\n",
    "'German' : len(German_sample_nh) / len(German_sample) * 100,\n",
    "'Romanian' : len(Romanian_sample_nh) / len(Romanian_sample) * 100,\n",
    "'Christian' : len(Christian_sample_nh) / len(Christian_sample) * 100\n",
    "}\n",
    "\n",
    "NH_P_categories"
   ]
  },
  {
   "cell_type": "code",
   "execution_count": 25,
   "id": "97b5b7a6",
   "metadata": {
    "execution": {
     "iopub.execute_input": "2021-08-25T14:07:19.362195Z",
     "iopub.status.busy": "2021-08-25T14:07:19.361569Z",
     "iopub.status.idle": "2021-08-25T14:07:19.366675Z",
     "shell.execute_reply": "2021-08-25T14:07:19.366194Z",
     "shell.execute_reply.started": "2021-08-25T12:46:41.131998Z"
    },
    "papermill": {
     "duration": 0.108027,
     "end_time": "2021-08-25T14:07:19.366822",
     "exception": false,
     "start_time": "2021-08-25T14:07:19.258795",
     "status": "completed"
    },
    "tags": []
   },
   "outputs": [
    {
     "data": {
      "text/plain": [
       "{'Disable': 88.70967741935483,\n",
       " 'Women': 71.66666666666667,\n",
       " 'LGBT': 62.5,\n",
       " 'Black': 89.60000000000001,\n",
       " 'Musulman': 78.15126050420169,\n",
       " 'FakeNews': 83.33333333333334,\n",
       " 'NA': 2.3017902813299234,\n",
       " 'Inciting Violence': 92.85714285714286,\n",
       " 'Transgender': 86.66666666666667,\n",
       " 'Ginger': 100.0,\n",
       " 'Immigrant': 92.3076923076923,\n",
       " 'Jewish': 84.0,\n",
       " 'People of Color': 90.47619047619048,\n",
       " 'White': 73.33333333333333,\n",
       " 'Indian': 100.0,\n",
       " 'Japanese': 100.0,\n",
       " 'Chinese': 83.33333333333334,\n",
       " 'Asian': 63.63636363636363,\n",
       " 'Politic': 26.31578947368421,\n",
       " 'German': 33.33333333333333,\n",
       " 'Romanian': 100.0,\n",
       " 'Christian': 100.0}"
      ]
     },
     "execution_count": 25,
     "metadata": {},
     "output_type": "execute_result"
    }
   ],
   "source": [
    "H_P_categories = {\n",
    "'Disable' : len(Disable_sample_h) / len(Disable_sample) * 100,\n",
    "'Women' : len(Women_sample_h) / len(Women_sample) * 100,\n",
    "'LGBT' : len(LGBT_sample_h) / len(LGBT_sample) * 100,\n",
    "'Black' : len(Black_sample_h) / len(Black_sample) * 100,\n",
    "'Musulman' : len(Musulman_sample_h) / len(Musulman_sample) * 100,\n",
    "'FakeNews' : len(FakeNews_sample_h) / len(FakeNews_sample) * 100,\n",
    "'NA' : len(NA_sample_h) / len(NA_sample) * 100,\n",
    "'Inciting Violence' : len(IncitingViolence_sample_h) / len(IncitingViolence_sample) * 100,\n",
    "'Transgender' : len(Transgender_sample_h) / len(Transgender_sample) * 100,\n",
    "'Ginger' : len(Ginger_sample_h) / len(Ginger_sample) * 100,\n",
    "'Immigrant' : len(Immigrant_sample_h) / len(Immigrant_sample) * 100,\n",
    "'Jewish' : len(Jewish_sample_h) / len(Jewish_sample) * 100,\n",
    "'People of Color' : len(PeopleofColor_sample_h) / len(PeopleofColor_sample) * 100,\n",
    "'White' : len(White_sample_h) / len(White_sample) * 100,\n",
    "'Indian' : len(Indian_sample_h) / len(Indian_sample) * 100,\n",
    "'Japanese' : len(Japanese_sample_h) / len(Japanese_sample) * 100,\n",
    "'Chinese' : len(Chinese_sample_h) / len(Chinese_sample) * 100,\n",
    "'Asian' : len(Asian_sample_h) / len(Asian_sample) * 100,\n",
    "'Politic' : len(Politic_sample_h) / len(Politic_sample) * 100,\n",
    "'German' : len(German_sample_h) / len(German_sample) * 100,\n",
    "'Romanian' : len(Romanian_sample_h) / len(Romanian_sample) * 100,\n",
    "'Christian' : len(Christian_sample_h) / len(Christian_sample) * 100\n",
    "}\n",
    "\n",
    "H_P_categories"
   ]
  },
  {
   "cell_type": "code",
   "execution_count": 26,
   "id": "f5e5e2b5",
   "metadata": {
    "execution": {
     "iopub.execute_input": "2021-08-25T14:07:19.560108Z",
     "iopub.status.busy": "2021-08-25T14:07:19.559399Z",
     "iopub.status.idle": "2021-08-25T14:07:19.561872Z",
     "shell.execute_reply": "2021-08-25T14:07:19.562349Z",
     "shell.execute_reply.started": "2021-08-25T12:46:41.159125Z"
    },
    "papermill": {
     "duration": 0.102345,
     "end_time": "2021-08-25T14:07:19.562522",
     "exception": false,
     "start_time": "2021-08-25T14:07:19.460177",
     "status": "completed"
    },
    "tags": []
   },
   "outputs": [
    {
     "data": {
      "text/plain": [
       "(['Romanian', 0, 100],\n",
       " ['Transgender', 13.3, 86.7],\n",
       " ['White', 26.7, 73.3],\n",
       " ['Women', 28.3, 71.6])"
      ]
     },
     "execution_count": 26,
     "metadata": {},
     "output_type": "execute_result"
    }
   ],
   "source": [
    "['Asian', 36.4, 63.6], ['Black', 10.4, 89.6], ['Chinese', 16.7, 83.3], ['Christian', 0, 100], ['Disabled', 11.3, 88.7], ['FakeNews', 16.7, 83.3],\n",
    "['German', 7, 33.3], ['Ginger', 0, 100], ['Inciting Violence', 7.2, 92.8], ['Indian', 0, 100], ['Immigrant', 7.7, 92.3], ['Japanese', 0, 100], \n",
    "['Jewish', 16, 84], ['LGBT', 37.5, 62.5], ['Muslim', 21.8, 78.2], ['NA', 97.7, 2.3], ['People of Color', 9.5, 90.5], ['Politic', 73.7, 26], \n",
    "['Romanian', 0, 100], ['Transgender', 13.3, 86.7],  ['White', 26.7, 73.3],  ['Women', 28.3, 71.6]\n"
   ]
  },
  {
   "cell_type": "code",
   "execution_count": 27,
   "id": "40f8fea3",
   "metadata": {
    "execution": {
     "iopub.execute_input": "2021-08-25T14:07:19.747228Z",
     "iopub.status.busy": "2021-08-25T14:07:19.746635Z",
     "iopub.status.idle": "2021-08-25T14:07:20.106544Z",
     "shell.execute_reply": "2021-08-25T14:07:20.106076Z",
     "shell.execute_reply.started": "2021-08-25T12:46:41.181724Z"
    },
    "papermill": {
     "duration": 0.453393,
     "end_time": "2021-08-25T14:07:20.106689",
     "exception": false,
     "start_time": "2021-08-25T14:07:19.653296",
     "status": "completed"
    },
    "tags": []
   },
   "outputs": [
    {
     "data": {
      "image/png": "[encoded data removed]",
      "text/plain": [
       "<Figure size 1440x432 with 1 Axes>"
      ]
     },
     "metadata": {
      "needs_background": "light"
     },
     "output_type": "display_data"
    }
   ],
   "source": [
    "data_cat_HNH=[\n",
    "    ['Asian', 36.4, 63.6], ['Black', 10.4, 89.6], ['Chinese', 16.7, 83.3], ['Christian', 0, 100], ['Disabled', 11.3, 88.7], ['FakeNews', 16.7, 83.3],\n",
    "['German', 7, 33.3], ['Ginger', 0, 100], ['Inciting Violence', 7.2, 92.8], ['Indian', 0, 100], ['Immigrant', 7.7, 92.3], ['Japanese', 0, 100], \n",
    "['Jewish', 16, 84], ['LGBT', 37.5, 62.5], ['Muslim', 21.8, 78.2], ['NA', 97.7, 2.3], ['People of Color', 9.5, 90.5], ['Politic', 73.7, 26], \n",
    "['Romanian', 0, 100], ['Transgender', 13.3, 86.7],  ['White', 26.7, 73.3],  ['Women', 28.3, 71.6]\n",
    "     ]\n",
    "\n",
    "df_cat=pd.DataFrame(data_cat_HNH,columns=[\"Communities\", \"Not Hateful Memes\", \"Hateful Memes\"])\n",
    "df_cat.plot(x=\"Communities\", y=[\"Not Hateful Memes\", \"Hateful Memes\"], kind=\"bar\",figsize=(20,6))\n",
    "plt.title(\"Percentage of Not Hateful Memes and Hateful Memes for each community in the Test Set\")\n",
    "plt.ylabel(\"Percentage\")\n",
    "plt.show()"
   ]
  },
  {
   "cell_type": "markdown",
   "id": "fa398d77",
   "metadata": {
    "papermill": {
     "duration": 0.091678,
     "end_time": "2021-08-25T14:07:20.291445",
     "exception": false,
     "start_time": "2021-08-25T14:07:20.199767",
     "status": "completed"
    },
    "tags": []
   },
   "source": [
    "by Uni "
   ]
  },
  {
   "cell_type": "code",
   "execution_count": 28,
   "id": "37b4c880",
   "metadata": {
    "execution": {
     "iopub.execute_input": "2021-08-25T14:07:20.498506Z",
     "iopub.status.busy": "2021-08-25T14:07:20.497871Z",
     "iopub.status.idle": "2021-08-25T14:07:20.500693Z",
     "shell.execute_reply": "2021-08-25T14:07:20.500265Z",
     "shell.execute_reply.started": "2021-08-25T12:46:41.638200Z"
    },
    "papermill": {
     "duration": 0.117721,
     "end_time": "2021-08-25T14:07:20.500824",
     "exception": false,
     "start_time": "2021-08-25T14:07:20.383103",
     "status": "completed"
    },
    "tags": []
   },
   "outputs": [],
   "source": [
    "Disable_sample_uni = Disable_sample[Disable_sample['Multi/Uni'] == 'uni']\n",
    "Women_sample_uni = Women_sample[Women_sample['Multi/Uni'] == 'uni']\n",
    "LGBT_sample_uni = LGBT_sample[LGBT_sample['Multi/Uni'] == 'uni']\n",
    "Black_sample_uni = Black_sample[Black_sample['Multi/Uni'] == 'uni']\n",
    "Musulman_sample_uni = Musulman_sample[Musulman_sample['Multi/Uni'] == 'uni']\n",
    "FakeNews_sample_uni = FakeNews_sample[FakeNews_sample['Multi/Uni'] == 'uni']\n",
    "NA_sample_uni = NA_sample[NA_sample['Multi/Uni'] == 'uni']\n",
    "IncitingViolence_sample_uni = IncitingViolence_sample[IncitingViolence_sample['Multi/Uni'] == 'uni']\n",
    "Transgender_sample_uni = Transgender_sample[Transgender_sample['Multi/Uni'] == 'uni']\n",
    "Ginger_sample_uni = Ginger_sample[Ginger_sample['Multi/Uni'] == 'uni']\n",
    "Immigrant_sample_uni = Immigrant_sample[Immigrant_sample['Multi/Uni'] == 'uni']\n",
    "Jewish_sample_uni = Jewish_sample[Jewish_sample['Multi/Uni'] == 'uni']\n",
    "PeopleofColor_sample_uni = PeopleofColor_sample[PeopleofColor_sample['Multi/Uni'] == 'uni']\n",
    "White_sample_uni = White_sample[White_sample['Multi/Uni'] == 'uni']\n",
    "Indian_sample_uni = Indian_sample[Indian_sample['Multi/Uni'] == 'uni']\n",
    "Japanese_sample_uni = Japanese_sample[Japanese_sample['Multi/Uni'] == 'uni']\n",
    "Chinese_sample_uni = Chinese_sample[Chinese_sample['Multi/Uni'] == 'uni']\n",
    "Asian_sample_uni = Asian_sample[Asian_sample['Multi/Uni'] == 'uni']\n",
    "Politic_sample_uni = Politic_sample[Politic_sample['Multi/Uni'] == 'uni']\n",
    "German_sample_uni = German_sample[German_sample['Multi/Uni'] == 'uni']\n",
    "Romanian_sample_uni = Romanian_sample[Romanian_sample['Multi/Uni'] == 'uni']\n",
    "Christian_sample_uni = Christian_sample[Christian_sample['Multi/Uni'] == 'uni']"
   ]
  },
  {
   "cell_type": "code",
   "execution_count": 29,
   "id": "a3888607",
   "metadata": {
    "execution": {
     "iopub.execute_input": "2021-08-25T14:07:20.708165Z",
     "iopub.status.busy": "2021-08-25T14:07:20.707294Z",
     "iopub.status.idle": "2021-08-25T14:07:20.959990Z",
     "shell.execute_reply": "2021-08-25T14:07:20.959453Z",
     "shell.execute_reply.started": "2021-08-25T12:46:41.679070Z"
    },
    "papermill": {
     "duration": 0.367435,
     "end_time": "2021-08-25T14:07:20.960152",
     "exception": false,
     "start_time": "2021-08-25T14:07:20.592717",
     "status": "completed"
    },
    "tags": []
   },
   "outputs": [
    {
     "data": {
      "text/plain": [
       "Text(0, 0.5, 'number of sample')"
      ]
     },
     "execution_count": 29,
     "metadata": {},
     "output_type": "execute_result"
    },
    {
     "data": {
      "image/png": "[encoded data removed]",
      "text/plain": [
       "<Figure size 432x288 with 1 Axes>"
      ]
     },
     "metadata": {
      "needs_background": "light"
     },
     "output_type": "display_data"
    }
   ],
   "source": [
    "\n",
    "Uni_categories = {\n",
    "'Disable' :len(Disable_sample_uni) / len(Disable_sample) * 100,\n",
    "'Women' : len(Women_sample_uni) / len(Women_sample) * 100,\n",
    "'LGBT' : len(LGBT_sample_uni) / len(LGBT_sample) * 100,\n",
    "'Black' : len(Black_sample_uni) / len(Black_sample) * 100,\n",
    "'Musulman' : len(Musulman_sample_uni) / len(Musulman_sample) * 100,\n",
    "'FakeNews' : len(FakeNews_sample_uni) / len(FakeNews_sample) * 100,\n",
    "'NA' : len(NA_sample_uni) / len(NA_sample) * 100,\n",
    "'Inciting Violence' : len(IncitingViolence_sample_uni) / len(IncitingViolence_sample) * 100,\n",
    "'Transgender' : len(Transgender_sample_uni) / len(Transgender_sample) * 100,\n",
    "'Ginger' : len(Ginger_sample_uni) / len(Ginger_sample) * 100,\n",
    "'Immigrant' : len(Immigrant_sample_uni) / len(Immigrant_sample) * 100,\n",
    "'Jewish' : len(Jewish_sample_uni) / len(Jewish_sample) * 100,\n",
    "'People of Color' : len(PeopleofColor_sample_uni) / len(PeopleofColor_sample) * 100,\n",
    "'White' : len(White_sample_uni) / len(White_sample) * 100,\n",
    "'Indian' : len(Indian_sample_uni) / len(Indian_sample) * 100,\n",
    "'Japanese' : len(Japanese_sample_uni) / len(Japanese_sample) * 100,\n",
    "'Chinese' : len(Chinese_sample_uni) / len(Chinese_sample) * 100,\n",
    "'Asian' : len(Asian_sample_uni) / len(Asian_sample) * 100,\n",
    "'Politic' : len(Politic_sample_uni) / len(Politic_sample) * 100,\n",
    "'German' : len(German_sample_uni) / len(German_sample) * 100,\n",
    "'Romanian' : len(Romanian_sample_uni) / len(Romanian_sample) * 100,\n",
    "'Christian' : len(Christian_sample_uni) / len(Christian_sample) * 100\n",
    "}\n",
    "\n",
    "lists = sorted(Uni_categories.items()) # sorted by key, return a list of tuples\n",
    "categories, numb_of_sample = zip(*lists) # unpack a list of pairs into two tuples\n",
    "\n",
    "plt.xticks(rotation='vertical')\n",
    "df = plt.bar(categories, numb_of_sample, color=(0.5,0.1,0.5,0.6))\n",
    "plt.title('Number of sample by category')\n",
    "plt.xlabel('categories')\n",
    "plt.ylabel('number of sample')"
   ]
  },
  {
   "cell_type": "code",
   "execution_count": 30,
   "id": "06f9c1c0",
   "metadata": {
    "execution": {
     "iopub.execute_input": "2021-08-25T14:07:21.157388Z",
     "iopub.status.busy": "2021-08-25T14:07:21.156747Z",
     "iopub.status.idle": "2021-08-25T14:07:21.159368Z",
     "shell.execute_reply": "2021-08-25T14:07:21.159806Z",
     "shell.execute_reply.started": "2021-08-25T12:46:42.060451Z"
    },
    "papermill": {
     "duration": 0.104287,
     "end_time": "2021-08-25T14:07:21.159967",
     "exception": false,
     "start_time": "2021-08-25T14:07:21.055680",
     "status": "completed"
    },
    "tags": []
   },
   "outputs": [
    {
     "data": {
      "text/plain": [
       "{'Disable': 9.67741935483871,\n",
       " 'Women': 11.666666666666666,\n",
       " 'LGBT': 31.25,\n",
       " 'Black': 12.0,\n",
       " 'Musulman': 16.80672268907563,\n",
       " 'FakeNews': 50.0,\n",
       " 'NA': 44.50127877237852,\n",
       " 'Inciting Violence': 35.714285714285715,\n",
       " 'Transgender': 26.666666666666668,\n",
       " 'Ginger': 0.0,\n",
       " 'Immigrant': 30.76923076923077,\n",
       " 'Jewish': 9.333333333333334,\n",
       " 'People of Color': 28.57142857142857,\n",
       " 'White': 6.666666666666667,\n",
       " 'Indian': 0.0,\n",
       " 'Japanese': 33.33333333333333,\n",
       " 'Chinese': 0.0,\n",
       " 'Asian': 18.181818181818183,\n",
       " 'Politic': 52.63157894736842,\n",
       " 'German': 0.0,\n",
       " 'Romanian': 0.0,\n",
       " 'Christian': 0.0}"
      ]
     },
     "execution_count": 30,
     "metadata": {},
     "output_type": "execute_result"
    }
   ],
   "source": [
    "Uni_categories"
   ]
  },
  {
   "cell_type": "markdown",
   "id": "896ee532",
   "metadata": {
    "papermill": {
     "duration": 0.093334,
     "end_time": "2021-08-25T14:07:21.347104",
     "exception": false,
     "start_time": "2021-08-25T14:07:21.253770",
     "status": "completed"
    },
    "tags": []
   },
   "source": [
    "Multi"
   ]
  },
  {
   "cell_type": "code",
   "execution_count": 31,
   "id": "29a46318",
   "metadata": {
    "execution": {
     "iopub.execute_input": "2021-08-25T14:07:21.536659Z",
     "iopub.status.busy": "2021-08-25T14:07:21.536046Z",
     "iopub.status.idle": "2021-08-25T14:07:21.555822Z",
     "shell.execute_reply": "2021-08-25T14:07:21.556275Z",
     "shell.execute_reply.started": "2021-08-25T12:46:42.069963Z"
    },
    "papermill": {
     "duration": 0.116115,
     "end_time": "2021-08-25T14:07:21.556452",
     "exception": false,
     "start_time": "2021-08-25T14:07:21.440337",
     "status": "completed"
    },
    "tags": []
   },
   "outputs": [],
   "source": [
    "Disable_sample_multi = Disable_sample[Disable_sample['Multi/Uni'] == 'multi']\n",
    "Women_sample_multi = Women_sample[Women_sample['Multi/Uni'] == 'multi']\n",
    "LGBT_sample_multi = LGBT_sample[LGBT_sample['Multi/Uni'] == 'multi']\n",
    "Black_sample_multi = Black_sample[Black_sample['Multi/Uni'] == 'multi']\n",
    "Musulman_sample_multi = Musulman_sample[Musulman_sample['Multi/Uni'] == 'multi']\n",
    "FakeNews_sample_multi = FakeNews_sample[FakeNews_sample['Multi/Uni'] == 'multi']\n",
    "NA_sample_multi = NA_sample[NA_sample['Multi/Uni'] == 'multi']\n",
    "IncitingViolence_sample_multi = IncitingViolence_sample[IncitingViolence_sample['Multi/Uni'] == 'multi']\n",
    "Transgender_sample_multi = Transgender_sample[Transgender_sample['Multi/Uni'] == 'multi']\n",
    "Ginger_sample_multi = Ginger_sample[Ginger_sample['Multi/Uni'] == 'multi']\n",
    "Immigrant_sample_multi = Immigrant_sample[Immigrant_sample['Multi/Uni'] == 'multi']\n",
    "Jewish_sample_multi = Jewish_sample[Jewish_sample['Multi/Uni'] == 'multi']\n",
    "PeopleofColor_sample_multi = PeopleofColor_sample[PeopleofColor_sample['Multi/Uni'] == 'multi']\n",
    "White_sample_multi = White_sample[White_sample['Multi/Uni'] == 'multi']\n",
    "Indian_sample_multi = Indian_sample[Indian_sample['Multi/Uni'] == 'multi']\n",
    "Japanese_sample_multi = Japanese_sample[Japanese_sample['Multi/Uni'] == 'multi']\n",
    "Chinese_sample_multi = Chinese_sample[Chinese_sample['Multi/Uni'] == 'multi']\n",
    "Asian_sample_multi = Asian_sample[Asian_sample['Multi/Uni'] == 'multi']\n",
    "Politic_sample_multi = Politic_sample[Politic_sample['Multi/Uni'] == 'multi']\n",
    "German_sample_multi = German_sample[German_sample['Multi/Uni'] == 'multi']\n",
    "Romanian_sample_multi = Romanian_sample[Romanian_sample['Multi/Uni'] == 'multi']\n",
    "Christian_sample_multi = Christian_sample[Christian_sample['Multi/Uni'] == 'multi']"
   ]
  },
  {
   "cell_type": "code",
   "execution_count": 32,
   "id": "d3d1a6d1",
   "metadata": {
    "execution": {
     "iopub.execute_input": "2021-08-25T14:07:21.747209Z",
     "iopub.status.busy": "2021-08-25T14:07:21.746592Z",
     "iopub.status.idle": "2021-08-25T14:07:22.053832Z",
     "shell.execute_reply": "2021-08-25T14:07:22.054547Z",
     "shell.execute_reply.started": "2021-08-25T12:46:42.105647Z"
    },
    "papermill": {
     "duration": 0.404556,
     "end_time": "2021-08-25T14:07:22.054775",
     "exception": false,
     "start_time": "2021-08-25T14:07:21.650219",
     "status": "completed"
    },
    "tags": []
   },
   "outputs": [
    {
     "data": {
      "text/plain": [
       "Text(0, 0.5, 'number of sample')"
      ]
     },
     "execution_count": 32,
     "metadata": {},
     "output_type": "execute_result"
    },
    {
     "data": {
      "image/png": "[encoded data removed]",
      "text/plain": [
       "<Figure size 432x288 with 1 Axes>"
      ]
     },
     "metadata": {
      "needs_background": "light"
     },
     "output_type": "display_data"
    }
   ],
   "source": [
    "Multi_categories = {\n",
    "'Disable' :len(Disable_sample_multi) / len(Disable_sample) * 100,\n",
    "'Women' : len(Women_sample_multi) / len(Women_sample) * 100,\n",
    "'LGBT' : len(LGBT_sample_multi) / len(LGBT_sample) * 100,\n",
    "'Black' : len(Black_sample_multi) / len(Black_sample) * 100,\n",
    "'Musulman' : len(Musulman_sample_multi) / len(Musulman_sample) * 100,\n",
    "'FakeNews' : len(FakeNews_sample_multi) / len(FakeNews_sample) * 100,\n",
    "'NA' : len(NA_sample_multi) / len(NA_sample) * 100,\n",
    "'Inciting Violence' : len(IncitingViolence_sample_multi) / len(IncitingViolence_sample) * 100,\n",
    "'Transgender' : len(Transgender_sample_multi) / len(Transgender_sample) * 100,\n",
    "'Ginger' : len(Ginger_sample_multi) / len(Ginger_sample) * 100,\n",
    "'Immigrant' : len(Immigrant_sample_multi) / len(Immigrant_sample) * 100,\n",
    "'Jewish' : len(Jewish_sample_multi) / len(Jewish_sample) * 100,\n",
    "'People of Color' : len(PeopleofColor_sample_multi) / len(PeopleofColor_sample) * 100,\n",
    "'White' : len(White_sample_multi) / len(White_sample) * 100,\n",
    "'Indian' : len(Indian_sample_multi) / len(Indian_sample) * 100,\n",
    "'Japanese' : len(Japanese_sample_multi) / len(Japanese_sample) * 100,\n",
    "'Chinese' : len(Chinese_sample_multi) / len(Chinese_sample) * 100,\n",
    "'Asian' : len(Asian_sample_multi) / len(Asian_sample) * 100,\n",
    "'Politic' : len(Politic_sample_multi) / len(Politic_sample) * 100,\n",
    "'German' : len(German_sample_multi) / len(German_sample) * 100,\n",
    "'Romanian' : len(Romanian_sample_multi) / len(Romanian_sample) * 100,\n",
    "'Christian' : len(Christian_sample_multi) / len(Christian_sample) * 100\n",
    "}\n",
    "\n",
    "lists = sorted(Multi_categories.items()) # sorted by key, return a list of tuples\n",
    "categories, numb_of_sample = zip(*lists) # unpack a list of pairs into two tuples\n",
    "\n",
    "plt.xticks(rotation='vertical')\n",
    "df = plt.bar(categories, numb_of_sample, color=(0.5,0.1,0.5,0.6))\n",
    "plt.title('Number of sample by category')\n",
    "plt.xlabel('categories')\n",
    "plt.ylabel('number of sample')"
   ]
  },
  {
   "cell_type": "code",
   "execution_count": 33,
   "id": "142a91b0",
   "metadata": {
    "execution": {
     "iopub.execute_input": "2021-08-25T14:07:22.270743Z",
     "iopub.status.busy": "2021-08-25T14:07:22.269904Z",
     "iopub.status.idle": "2021-08-25T14:07:22.273917Z",
     "shell.execute_reply": "2021-08-25T14:07:22.273488Z",
     "shell.execute_reply.started": "2021-08-25T13:12:14.777500Z"
    },
    "papermill": {
     "duration": 0.107327,
     "end_time": "2021-08-25T14:07:22.274079",
     "exception": false,
     "start_time": "2021-08-25T14:07:22.166752",
     "status": "completed"
    },
    "tags": []
   },
   "outputs": [
    {
     "data": {
      "text/plain": [
       "{'Disable': 90.32258064516128,\n",
       " 'Women': 88.33333333333333,\n",
       " 'LGBT': 68.75,\n",
       " 'Black': 88.0,\n",
       " 'Musulman': 83.19327731092437,\n",
       " 'FakeNews': 50.0,\n",
       " 'NA': 55.24296675191815,\n",
       " 'Inciting Violence': 64.28571428571429,\n",
       " 'Transgender': 73.33333333333333,\n",
       " 'Ginger': 100.0,\n",
       " 'Immigrant': 69.23076923076923,\n",
       " 'Jewish': 90.66666666666666,\n",
       " 'People of Color': 71.42857142857143,\n",
       " 'White': 93.33333333333333,\n",
       " 'Indian': 100.0,\n",
       " 'Japanese': 66.66666666666666,\n",
       " 'Chinese': 100.0,\n",
       " 'Asian': 81.81818181818183,\n",
       " 'Politic': 47.368421052631575,\n",
       " 'German': 100.0,\n",
       " 'Romanian': 100.0,\n",
       " 'Christian': 100.0}"
      ]
     },
     "execution_count": 33,
     "metadata": {},
     "output_type": "execute_result"
    }
   ],
   "source": [
    "Multi_categories"
   ]
  },
  {
   "cell_type": "markdown",
   "id": "f9c89f0d",
   "metadata": {
    "papermill": {
     "duration": 0.105102,
     "end_time": "2021-08-25T14:07:22.474860",
     "exception": false,
     "start_time": "2021-08-25T14:07:22.369758",
     "status": "completed"
    },
    "tags": []
   },
   "source": [
    "Graph for each communities, the percentage of, in a column uni, in another, multi "
   ]
  },
  {
   "cell_type": "code",
   "execution_count": 34,
   "id": "5c71e8fd",
   "metadata": {
    "execution": {
     "iopub.execute_input": "2021-08-25T14:07:22.698912Z",
     "iopub.status.busy": "2021-08-25T14:07:22.697960Z",
     "iopub.status.idle": "2021-08-25T14:07:23.025742Z",
     "shell.execute_reply": "2021-08-25T14:07:23.025272Z",
     "shell.execute_reply.started": "2021-08-25T13:12:55.569273Z"
    },
    "papermill": {
     "duration": 0.451742,
     "end_time": "2021-08-25T14:07:23.025873",
     "exception": false,
     "start_time": "2021-08-25T14:07:22.574131",
     "status": "completed"
    },
    "tags": []
   },
   "outputs": [
    {
     "data": {
      "image/png": "[encoded data removed]",
      "text/plain": [
       "<Figure size 1440x432 with 1 Axes>"
      ]
     },
     "metadata": {
      "needs_background": "light"
     },
     "output_type": "display_data"
    }
   ],
   "source": [
    "data_cat_UniMultil=[\n",
    "    ['Asian', 18, 82], ['Black', 12, 88], ['Chinese', 0.0, 100], ['Christian', 0.0, 100], ['Disabled', 10, 90], ['FakeNews', 50, 50],\n",
    "['German', 0.0, 100], ['Ginger', 0.0, 100], ['Inciting Violence', 36, 64], ['Indian', 0.0, 100], ['Immigrant', 31, 69], ['Japanese', 33, 67], \n",
    "['Jewish', 9, 91], ['LGBT', 31, 69], ['Muslim', 17, 83], ['NA', 45, 55], ['People of Color', 29, 71], ['Politic', 53, 47], \n",
    "['Romanian', 0.0, 100], ['Transgender', 27, 73],  ['White', 7, 93],  ['Women', 12, 88]\n",
    "     ]\n",
    "\n",
    "df_cat=pd.DataFrame(data_cat_UniMultil,columns=[\"Communities\", \"Unimodal Memes\", \"Multimodal Memes\"])\n",
    "df_cat.plot(x=\"Communities\", y=[\"Unimodal Memes\", \"Multimodal Memes\"], kind=\"bar\",figsize=(20,6))\n",
    "plt.title(\"Percentage of Unimodal Memes and Multimodal Memes for each community \")\n",
    "plt.ylabel(\"Percentage\")\n",
    "plt.show()"
   ]
  },
  {
   "cell_type": "markdown",
   "id": "0dc60f8e",
   "metadata": {
    "papermill": {
     "duration": 0.096901,
     "end_time": "2021-08-25T14:07:23.220734",
     "exception": false,
     "start_time": "2021-08-25T14:07:23.123833",
     "status": "completed"
    },
    "tags": []
   },
   "source": [
    "Seems like the one with the most uni are FakeNew, NA and Politic"
   ]
  },
  {
   "cell_type": "markdown",
   "id": "a30f5a98",
   "metadata": {
    "papermill": {
     "duration": 0.095525,
     "end_time": "2021-08-25T14:07:23.412146",
     "exception": false,
     "start_time": "2021-08-25T14:07:23.316621",
     "status": "completed"
    },
    "tags": []
   },
   "source": [
    "# Prediction"
   ]
  },
  {
   "cell_type": "code",
   "execution_count": 35,
   "id": "60395973",
   "metadata": {
    "execution": {
     "iopub.execute_input": "2021-08-25T14:07:23.618843Z",
     "iopub.status.busy": "2021-08-25T14:07:23.617961Z",
     "iopub.status.idle": "2021-08-25T14:07:23.622239Z",
     "shell.execute_reply": "2021-08-25T14:07:23.621784Z",
     "shell.execute_reply.started": "2021-08-25T12:46:42.885072Z"
    },
    "papermill": {
     "duration": 0.114685,
     "end_time": "2021-08-25T14:07:23.622374",
     "exception": false,
     "start_time": "2021-08-25T14:07:23.507689",
     "status": "completed"
    },
    "tags": []
   },
   "outputs": [
    {
     "data": {
      "text/html": [
       "<div>\n",
       "<style scoped>\n",
       "    .dataframe tbody tr th:only-of-type {\n",
       "        vertical-align: middle;\n",
       "    }\n",
       "\n",
       "    .dataframe tbody tr th {\n",
       "        vertical-align: top;\n",
       "    }\n",
       "\n",
       "    .dataframe thead th {\n",
       "        text-align: right;\n",
       "    }\n",
       "</style>\n",
       "<table border=\"1\" class=\"dataframe\">\n",
       "  <thead>\n",
       "    <tr style=\"text-align: right;\">\n",
       "      <th></th>\n",
       "      <th>id</th>\n",
       "      <th>True Label</th>\n",
       "      <th>Label</th>\n",
       "      <th>Proba</th>\n",
       "      <th>Community</th>\n",
       "      <th>Multi/Uni</th>\n",
       "      <th>Text</th>\n",
       "    </tr>\n",
       "  </thead>\n",
       "  <tbody>\n",
       "    <tr>\n",
       "      <th>0</th>\n",
       "      <td>16395</td>\n",
       "      <td>1</td>\n",
       "      <td>0</td>\n",
       "      <td>0.429417</td>\n",
       "      <td>Disable</td>\n",
       "      <td>multi</td>\n",
       "      <td>handjobs sold seperately</td>\n",
       "    </tr>\n",
       "    <tr>\n",
       "      <th>1</th>\n",
       "      <td>37405</td>\n",
       "      <td>1</td>\n",
       "      <td>0</td>\n",
       "      <td>0.489593</td>\n",
       "      <td>Women</td>\n",
       "      <td>multi</td>\n",
       "      <td>introducing fidget spinner for women</td>\n",
       "    </tr>\n",
       "    <tr>\n",
       "      <th>2</th>\n",
       "      <td>94180</td>\n",
       "      <td>1</td>\n",
       "      <td>1</td>\n",
       "      <td>0.897919</td>\n",
       "      <td>LGBT</td>\n",
       "      <td>uni</td>\n",
       "      <td>happy pride month let's go beat up lesbians</td>\n",
       "    </tr>\n",
       "    <tr>\n",
       "      <th>3</th>\n",
       "      <td>54321</td>\n",
       "      <td>1</td>\n",
       "      <td>0</td>\n",
       "      <td>0.271455</td>\n",
       "      <td>Black</td>\n",
       "      <td>multi</td>\n",
       "      <td>laughs in [majority of u.s crime rate]</td>\n",
       "    </tr>\n",
       "    <tr>\n",
       "      <th>4</th>\n",
       "      <td>97015</td>\n",
       "      <td>1</td>\n",
       "      <td>0</td>\n",
       "      <td>0.385270</td>\n",
       "      <td>Musulman</td>\n",
       "      <td>multi</td>\n",
       "      <td>finds out those 72 virgins.. are goats</td>\n",
       "    </tr>\n",
       "    <tr>\n",
       "      <th>...</th>\n",
       "      <td>...</td>\n",
       "      <td>...</td>\n",
       "      <td>...</td>\n",
       "      <td>...</td>\n",
       "      <td>...</td>\n",
       "      <td>...</td>\n",
       "      <td>...</td>\n",
       "    </tr>\n",
       "    <tr>\n",
       "      <th>995</th>\n",
       "      <td>3869</td>\n",
       "      <td>0</td>\n",
       "      <td>0</td>\n",
       "      <td>0.073661</td>\n",
       "      <td>Not Applicable</td>\n",
       "      <td>multi</td>\n",
       "      <td>a mother's love for the child is a divine thing</td>\n",
       "    </tr>\n",
       "    <tr>\n",
       "      <th>996</th>\n",
       "      <td>23817</td>\n",
       "      <td>0</td>\n",
       "      <td>0</td>\n",
       "      <td>0.373033</td>\n",
       "      <td>Not Applicable</td>\n",
       "      <td>uni</td>\n",
       "      <td>sea monkeys</td>\n",
       "    </tr>\n",
       "    <tr>\n",
       "      <th>997</th>\n",
       "      <td>56280</td>\n",
       "      <td>0</td>\n",
       "      <td>0</td>\n",
       "      <td>0.200106</td>\n",
       "      <td>Not Applicable</td>\n",
       "      <td>multi</td>\n",
       "      <td>little miss muffet sat on her tuffet</td>\n",
       "    </tr>\n",
       "    <tr>\n",
       "      <th>998</th>\n",
       "      <td>29384</td>\n",
       "      <td>0</td>\n",
       "      <td>0</td>\n",
       "      <td>0.152466</td>\n",
       "      <td>Not Applicable</td>\n",
       "      <td>multi</td>\n",
       "      <td>they're in a row</td>\n",
       "    </tr>\n",
       "    <tr>\n",
       "      <th>999</th>\n",
       "      <td>34127</td>\n",
       "      <td>0</td>\n",
       "      <td>0</td>\n",
       "      <td>0.068527</td>\n",
       "      <td>Musulman</td>\n",
       "      <td>multi</td>\n",
       "      <td>that feeling when you win a fifa game after be...</td>\n",
       "    </tr>\n",
       "  </tbody>\n",
       "</table>\n",
       "<p>1000 rows × 7 columns</p>\n",
       "</div>"
      ],
      "text/plain": [
       "        id  True Label  Label     Proba       Community Multi/Uni  \\\n",
       "0    16395           1      0  0.429417         Disable     multi   \n",
       "1    37405           1      0  0.489593           Women     multi   \n",
       "2    94180           1      1  0.897919            LGBT       uni   \n",
       "3    54321           1      0  0.271455           Black     multi   \n",
       "4    97015           1      0  0.385270        Musulman     multi   \n",
       "..     ...         ...    ...       ...             ...       ...   \n",
       "995   3869           0      0  0.073661  Not Applicable     multi   \n",
       "996  23817           0      0  0.373033  Not Applicable       uni   \n",
       "997  56280           0      0  0.200106  Not Applicable     multi   \n",
       "998  29384           0      0  0.152466  Not Applicable     multi   \n",
       "999  34127           0      0  0.068527        Musulman     multi   \n",
       "\n",
       "                                                  Text  \n",
       "0                             handjobs sold seperately  \n",
       "1                 introducing fidget spinner for women  \n",
       "2          happy pride month let's go beat up lesbians  \n",
       "3               laughs in [majority of u.s crime rate]  \n",
       "4               finds out those 72 virgins.. are goats  \n",
       "..                                                 ...  \n",
       "995    a mother's love for the child is a divine thing  \n",
       "996                                        sea monkeys  \n",
       "997               little miss muffet sat on her tuffet  \n",
       "998                                   they're in a row  \n",
       "999  that feeling when you win a fifa game after be...  \n",
       "\n",
       "[1000 rows x 7 columns]"
      ]
     },
     "execution_count": 35,
     "metadata": {},
     "output_type": "execute_result"
    }
   ],
   "source": [
    "BERT_dataset"
   ]
  },
  {
   "cell_type": "code",
   "execution_count": 36,
   "id": "d1528cd3",
   "metadata": {
    "execution": {
     "iopub.execute_input": "2021-08-25T14:07:23.820399Z",
     "iopub.status.busy": "2021-08-25T14:07:23.819773Z",
     "iopub.status.idle": "2021-08-25T14:07:24.971446Z",
     "shell.execute_reply": "2021-08-25T14:07:24.971897Z",
     "shell.execute_reply.started": "2021-08-25T12:46:42.908398Z"
    },
    "papermill": {
     "duration": 1.252755,
     "end_time": "2021-08-25T14:07:24.972095",
     "exception": false,
     "start_time": "2021-08-25T14:07:23.719340",
     "status": "completed"
    },
    "tags": []
   },
   "outputs": [],
   "source": [
    "from sklearn.metrics import confusion_matrix\n",
    "import seaborn as sns\n",
    "from sklearn import metrics\n",
    "from sklearn.metrics import roc_auc_score"
   ]
  },
  {
   "cell_type": "code",
   "execution_count": 37,
   "id": "8737fb39",
   "metadata": {
    "execution": {
     "iopub.execute_input": "2021-08-25T14:07:25.172783Z",
     "iopub.status.busy": "2021-08-25T14:07:25.172178Z",
     "iopub.status.idle": "2021-08-25T14:07:25.173965Z",
     "shell.execute_reply": "2021-08-25T14:07:25.174471Z",
     "shell.execute_reply.started": "2021-08-25T12:46:44.386718Z"
    },
    "papermill": {
     "duration": 0.104831,
     "end_time": "2021-08-25T14:07:25.174646",
     "exception": false,
     "start_time": "2021-08-25T14:07:25.069815",
     "status": "completed"
    },
    "tags": []
   },
   "outputs": [],
   "source": [
    "y_actual = list(BERT_dataset['True Label'])\n",
    "pred_set = list(BERT_dataset['Label'])"
   ]
  },
  {
   "cell_type": "code",
   "execution_count": 38,
   "id": "75df4295",
   "metadata": {
    "execution": {
     "iopub.execute_input": "2021-08-25T14:07:25.371842Z",
     "iopub.status.busy": "2021-08-25T14:07:25.371246Z",
     "iopub.status.idle": "2021-08-25T14:07:25.377649Z",
     "shell.execute_reply": "2021-08-25T14:07:25.378287Z",
     "shell.execute_reply.started": "2021-08-25T12:46:44.393768Z"
    },
    "papermill": {
     "duration": 0.106763,
     "end_time": "2021-08-25T14:07:25.378515",
     "exception": false,
     "start_time": "2021-08-25T14:07:25.271752",
     "status": "completed"
    },
    "tags": []
   },
   "outputs": [
    {
     "name": "stdout",
     "output_type": "stream",
     "text": [
      "AUC:  0.5773623094492377\n"
     ]
    }
   ],
   "source": [
    "print(\"AUC: \", roc_auc_score(y_actual, pred_set))"
   ]
  },
  {
   "cell_type": "code",
   "execution_count": 39,
   "id": "8863e380",
   "metadata": {
    "execution": {
     "iopub.execute_input": "2021-08-25T14:07:25.610873Z",
     "iopub.status.busy": "2021-08-25T14:07:25.610320Z",
     "iopub.status.idle": "2021-08-25T14:07:25.875214Z",
     "shell.execute_reply": "2021-08-25T14:07:25.874728Z",
     "shell.execute_reply.started": "2021-08-25T12:46:44.412422Z"
    },
    "papermill": {
     "duration": 0.36435,
     "end_time": "2021-08-25T14:07:25.875366",
     "exception": false,
     "start_time": "2021-08-25T14:07:25.511016",
     "status": "completed"
    },
    "tags": []
   },
   "outputs": [
    {
     "data": {
      "text/plain": [
       "Text(33.0, 0.5, 'Actual labels')"
      ]
     },
     "execution_count": 39,
     "metadata": {},
     "output_type": "execute_result"
    },
    {
     "data": {
      "image/png": "[encoded data removed]",
      "text/plain": [
       "<Figure size 432x288 with 2 Axes>"
      ]
     },
     "metadata": {
      "needs_background": "light"
     },
     "output_type": "display_data"
    }
   ],
   "source": [
    "cf_matrix = confusion_matrix(y_actual, pred_set)\n",
    "\n",
    "plt.title('BERT \\n Confusion matrix displaying correctly and uncorrectly predicted labels')\n",
    "sns.heatmap(cf_matrix, annot=True, fmt='d')\n",
    "plt.xlabel('Predicted labels')\n",
    "plt.ylabel('Actual labels')"
   ]
  },
  {
   "cell_type": "code",
   "execution_count": 40,
   "id": "af78baef",
   "metadata": {
    "execution": {
     "iopub.execute_input": "2021-08-25T14:07:26.079288Z",
     "iopub.status.busy": "2021-08-25T14:07:26.078535Z",
     "iopub.status.idle": "2021-08-25T14:07:26.081391Z",
     "shell.execute_reply": "2021-08-25T14:07:26.080791Z",
     "shell.execute_reply.started": "2021-08-25T12:46:44.679177Z"
    },
    "papermill": {
     "duration": 0.108331,
     "end_time": "2021-08-25T14:07:26.081537",
     "exception": false,
     "start_time": "2021-08-25T14:07:25.973206",
     "status": "completed"
    },
    "tags": []
   },
   "outputs": [],
   "source": [
    "not_hateful_labels = BERT_dataset[BERT_dataset['True Label'] == 0]\n",
    "hateful_labels = BERT_dataset[BERT_dataset['True Label'] == 1]"
   ]
  },
  {
   "cell_type": "code",
   "execution_count": 41,
   "id": "94cb9b12",
   "metadata": {
    "execution": {
     "iopub.execute_input": "2021-08-25T14:07:26.290148Z",
     "iopub.status.busy": "2021-08-25T14:07:26.289220Z",
     "iopub.status.idle": "2021-08-25T14:07:26.292129Z",
     "shell.execute_reply": "2021-08-25T14:07:26.291667Z",
     "shell.execute_reply.started": "2021-08-25T12:46:44.687153Z"
    },
    "papermill": {
     "duration": 0.110747,
     "end_time": "2021-08-25T14:07:26.292286",
     "exception": false,
     "start_time": "2021-08-25T14:07:26.181539",
     "status": "completed"
    },
    "tags": []
   },
   "outputs": [],
   "source": [
    "TP = not_hateful_labels[not_hateful_labels['Label'] == 0]\n",
    "TN = hateful_labels[hateful_labels['Label'] == 1]\n",
    "FP = hateful_labels[hateful_labels['Label'] == 0]\n",
    "FN = not_hateful_labels[not_hateful_labels['Label'] == 1]"
   ]
  },
  {
   "cell_type": "code",
   "execution_count": 42,
   "id": "194ccd8e",
   "metadata": {
    "execution": {
     "iopub.execute_input": "2021-08-25T14:07:26.494976Z",
     "iopub.status.busy": "2021-08-25T14:07:26.494253Z",
     "iopub.status.idle": "2021-08-25T14:07:26.498703Z",
     "shell.execute_reply": "2021-08-25T14:07:26.499458Z",
     "shell.execute_reply.started": "2021-08-25T12:46:44.705971Z"
    },
    "papermill": {
     "duration": 0.107561,
     "end_time": "2021-08-25T14:07:26.499702",
     "exception": false,
     "start_time": "2021-08-25T14:07:26.392141",
     "status": "completed"
    },
    "tags": []
   },
   "outputs": [
    {
     "name": "stdout",
     "output_type": "stream",
     "text": [
      "Number of not hateful correctly classify:  449\n",
      "Number of not hateful wrongly classify as hateful:  52\n",
      "Number of hateful correctly classify as hateful:  129\n",
      "Number of hateful wrongly classify as not hateful:  370\n"
     ]
    }
   ],
   "source": [
    "print(\"Number of not hateful correctly classify: \", len(TP))\n",
    "print(\"Number of not hateful wrongly classify as hateful: \", len(FN))\n",
    "print(\"Number of hateful correctly classify as hateful: \", len(TN))\n",
    "print(\"Number of hateful wrongly classify as not hateful: \", len(FP))"
   ]
  },
  {
   "cell_type": "code",
   "execution_count": 43,
   "id": "b69ce5b6",
   "metadata": {
    "execution": {
     "iopub.execute_input": "2021-08-25T14:07:26.707818Z",
     "iopub.status.busy": "2021-08-25T14:07:26.706903Z",
     "iopub.status.idle": "2021-08-25T14:07:26.711252Z",
     "shell.execute_reply": "2021-08-25T14:07:26.710652Z",
     "shell.execute_reply.started": "2021-08-25T12:46:44.726516Z"
    },
    "papermill": {
     "duration": 0.110879,
     "end_time": "2021-08-25T14:07:26.711388",
     "exception": false,
     "start_time": "2021-08-25T14:07:26.600509",
     "status": "completed"
    },
    "tags": []
   },
   "outputs": [
    {
     "data": {
      "text/plain": [
       "0.578"
      ]
     },
     "execution_count": 43,
     "metadata": {},
     "output_type": "execute_result"
    }
   ],
   "source": [
    "#Accuracy\n",
    "\n",
    "Accuracy_ = (len(TP) + len(TN)) / (len(TP) + len(FP) + len(TN) + len(FN))\n",
    "Accuracy_"
   ]
  },
  {
   "cell_type": "code",
   "execution_count": 44,
   "id": "f3000e4c",
   "metadata": {
    "execution": {
     "iopub.execute_input": "2021-08-25T14:07:26.913316Z",
     "iopub.status.busy": "2021-08-25T14:07:26.912538Z",
     "iopub.status.idle": "2021-08-25T14:07:26.916634Z",
     "shell.execute_reply": "2021-08-25T14:07:26.916194Z",
     "shell.execute_reply.started": "2021-08-25T12:46:44.747414Z"
    },
    "papermill": {
     "duration": 0.106318,
     "end_time": "2021-08-25T14:07:26.916767",
     "exception": false,
     "start_time": "2021-08-25T14:07:26.810449",
     "status": "completed"
    },
    "tags": []
   },
   "outputs": [
    {
     "name": "stdout",
     "output_type": "stream",
     "text": [
      "The precision score is: 0.712707182320442\n"
     ]
    }
   ],
   "source": [
    "# precision is the ratio of correctly predicted hateful memes to all pedicted hateful (so 129 and the wrong classified 52)\n",
    "#precision = TN / (TN + FN)\n",
    "\n",
    "precision = len(TN) / (len(TN) + len(FN))\n",
    "print( \"The precision score is:\", precision)"
   ]
  },
  {
   "cell_type": "code",
   "execution_count": 45,
   "id": "4db3a49c",
   "metadata": {
    "execution": {
     "iopub.execute_input": "2021-08-25T14:07:27.121244Z",
     "iopub.status.busy": "2021-08-25T14:07:27.120599Z",
     "iopub.status.idle": "2021-08-25T14:07:27.123874Z",
     "shell.execute_reply": "2021-08-25T14:07:27.124321Z",
     "shell.execute_reply.started": "2021-08-25T12:46:44.759722Z"
    },
    "papermill": {
     "duration": 0.108797,
     "end_time": "2021-08-25T14:07:27.124489",
     "exception": false,
     "start_time": "2021-08-25T14:07:27.015692",
     "status": "completed"
    },
    "tags": []
   },
   "outputs": [
    {
     "name": "stdout",
     "output_type": "stream",
     "text": [
      "The recall score is: 0.25851703406813625\n"
     ]
    }
   ],
   "source": [
    "# recall is the ratio of correctly predicted hateful to all actual hateful (so 129 over the entire hateful meme in the dataset)\n",
    "#recall = TN / (TN + FP)\n",
    "\n",
    "recall = len(TN) / (len(TN) + len(FP))\n",
    "print(\"The recall score is:\", recall)"
   ]
  },
  {
   "cell_type": "code",
   "execution_count": 46,
   "id": "d5299ada",
   "metadata": {
    "execution": {
     "iopub.execute_input": "2021-08-25T14:07:27.325244Z",
     "iopub.status.busy": "2021-08-25T14:07:27.324682Z",
     "iopub.status.idle": "2021-08-25T14:07:27.328845Z",
     "shell.execute_reply": "2021-08-25T14:07:27.329323Z",
     "shell.execute_reply.started": "2021-08-25T12:46:44.773150Z"
    },
    "papermill": {
     "duration": 0.106548,
     "end_time": "2021-08-25T14:07:27.329491",
     "exception": false,
     "start_time": "2021-08-25T14:07:27.222943",
     "status": "completed"
    },
    "tags": []
   },
   "outputs": [
    {
     "name": "stdout",
     "output_type": "stream",
     "text": [
      "The F1 score is: 0.37941176470588234\n"
     ]
    }
   ],
   "source": [
    "#F1 score\n",
    "#The problem of the accuracy is that this metric doesn't represent well the performance of the model on both classes \n",
    "\n",
    "F1Score = (2 * precision * recall) / (precision + recall)\n",
    "print(\"The F1 score is:\", F1Score)"
   ]
  },
  {
   "cell_type": "code",
   "execution_count": 47,
   "id": "adbdeea2",
   "metadata": {
    "execution": {
     "iopub.execute_input": "2021-08-25T14:07:27.534110Z",
     "iopub.status.busy": "2021-08-25T14:07:27.533395Z",
     "iopub.status.idle": "2021-08-25T14:07:27.537448Z",
     "shell.execute_reply": "2021-08-25T14:07:27.536849Z",
     "shell.execute_reply.started": "2021-08-25T12:46:44.788627Z"
    },
    "papermill": {
     "duration": 0.108793,
     "end_time": "2021-08-25T14:07:27.537580",
     "exception": false,
     "start_time": "2021-08-25T14:07:27.428787",
     "status": "completed"
    },
    "tags": []
   },
   "outputs": [
    {
     "name": "stdout",
     "output_type": "stream",
     "text": [
      "Classified  89.62075848303394 % of the not hateful memes\n",
      "Classified  25.851703406813627 % of the hateful memes\n"
     ]
    }
   ],
   "source": [
    "#Accuracy on not hateful meme\n",
    "acc_NHM = len(TP) / (len(TP) + len(FN)) * 100\n",
    "print(\"Classified \", acc_NHM, \"%\", \"of the not hateful memes\")\n",
    "\n",
    "#Accuracy on not hateful meme\n",
    "acc_HM = len(TN) / (len(TN) + len(FP)) * 100\n",
    "print(\"Classified \", acc_HM, \"%\", \"of the hateful memes\")"
   ]
  },
  {
   "cell_type": "markdown",
   "id": "429eb096",
   "metadata": {
    "papermill": {
     "duration": 0.098134,
     "end_time": "2021-08-25T14:07:27.735315",
     "exception": false,
     "start_time": "2021-08-25T14:07:27.637181",
     "status": "completed"
    },
    "tags": []
   },
   "source": [
    "# Exploring result in TN dataset"
   ]
  },
  {
   "cell_type": "code",
   "execution_count": 48,
   "id": "53ca356f",
   "metadata": {
    "execution": {
     "iopub.execute_input": "2021-08-25T14:07:27.950326Z",
     "iopub.status.busy": "2021-08-25T14:07:27.949618Z",
     "iopub.status.idle": "2021-08-25T14:07:27.954198Z",
     "shell.execute_reply": "2021-08-25T14:07:27.953698Z",
     "shell.execute_reply.started": "2021-08-25T12:46:44.801871Z"
    },
    "papermill": {
     "duration": 0.119007,
     "end_time": "2021-08-25T14:07:27.954347",
     "exception": false,
     "start_time": "2021-08-25T14:07:27.835340",
     "status": "completed"
    },
    "tags": []
   },
   "outputs": [
    {
     "data": {
      "text/html": [
       "<div>\n",
       "<style scoped>\n",
       "    .dataframe tbody tr th:only-of-type {\n",
       "        vertical-align: middle;\n",
       "    }\n",
       "\n",
       "    .dataframe tbody tr th {\n",
       "        vertical-align: top;\n",
       "    }\n",
       "\n",
       "    .dataframe thead th {\n",
       "        text-align: right;\n",
       "    }\n",
       "</style>\n",
       "<table border=\"1\" class=\"dataframe\">\n",
       "  <thead>\n",
       "    <tr style=\"text-align: right;\">\n",
       "      <th></th>\n",
       "      <th>id</th>\n",
       "      <th>True Label</th>\n",
       "      <th>Label</th>\n",
       "      <th>Proba</th>\n",
       "      <th>Community</th>\n",
       "      <th>Multi/Uni</th>\n",
       "      <th>Text</th>\n",
       "    </tr>\n",
       "  </thead>\n",
       "  <tbody>\n",
       "    <tr>\n",
       "      <th>2</th>\n",
       "      <td>94180</td>\n",
       "      <td>1</td>\n",
       "      <td>1</td>\n",
       "      <td>0.897919</td>\n",
       "      <td>LGBT</td>\n",
       "      <td>uni</td>\n",
       "      <td>happy pride month let's go beat up lesbians</td>\n",
       "    </tr>\n",
       "    <tr>\n",
       "      <th>6</th>\n",
       "      <td>5429</td>\n",
       "      <td>1</td>\n",
       "      <td>1</td>\n",
       "      <td>0.580428</td>\n",
       "      <td>Fake News</td>\n",
       "      <td>multi</td>\n",
       "      <td>claims that her ancestors created a safe space...</td>\n",
       "    </tr>\n",
       "    <tr>\n",
       "      <th>12</th>\n",
       "      <td>47829</td>\n",
       "      <td>1</td>\n",
       "      <td>1</td>\n",
       "      <td>0.586631</td>\n",
       "      <td>Musulman</td>\n",
       "      <td>multi</td>\n",
       "      <td>when you found your wife is cheating on you ya...</td>\n",
       "    </tr>\n",
       "    <tr>\n",
       "      <th>17</th>\n",
       "      <td>38045</td>\n",
       "      <td>1</td>\n",
       "      <td>1</td>\n",
       "      <td>0.564669</td>\n",
       "      <td>Black</td>\n",
       "      <td>multi</td>\n",
       "      <td>i am not racist some of my best slaves are black</td>\n",
       "    </tr>\n",
       "    <tr>\n",
       "      <th>20</th>\n",
       "      <td>1865</td>\n",
       "      <td>1</td>\n",
       "      <td>1</td>\n",
       "      <td>0.707008</td>\n",
       "      <td>People of Color</td>\n",
       "      <td>uni</td>\n",
       "      <td>i'm this pretty because both my parents are white</td>\n",
       "    </tr>\n",
       "    <tr>\n",
       "      <th>...</th>\n",
       "      <td>...</td>\n",
       "      <td>...</td>\n",
       "      <td>...</td>\n",
       "      <td>...</td>\n",
       "      <td>...</td>\n",
       "      <td>...</td>\n",
       "      <td>...</td>\n",
       "    </tr>\n",
       "    <tr>\n",
       "      <th>962</th>\n",
       "      <td>95260</td>\n",
       "      <td>1</td>\n",
       "      <td>1</td>\n",
       "      <td>0.731351</td>\n",
       "      <td>Black</td>\n",
       "      <td>multi</td>\n",
       "      <td>what's black and screams harvey price answerin...</td>\n",
       "    </tr>\n",
       "    <tr>\n",
       "      <th>968</th>\n",
       "      <td>20974</td>\n",
       "      <td>1</td>\n",
       "      <td>1</td>\n",
       "      <td>0.792673</td>\n",
       "      <td>Jewish</td>\n",
       "      <td>multi</td>\n",
       "      <td>when mom asks where all the jews went</td>\n",
       "    </tr>\n",
       "    <tr>\n",
       "      <th>969</th>\n",
       "      <td>93820</td>\n",
       "      <td>1</td>\n",
       "      <td>1</td>\n",
       "      <td>0.826299</td>\n",
       "      <td>LGBT</td>\n",
       "      <td>uni</td>\n",
       "      <td>we should legally be allowed to shoot fat g*y ...</td>\n",
       "    </tr>\n",
       "    <tr>\n",
       "      <th>980</th>\n",
       "      <td>68749</td>\n",
       "      <td>1</td>\n",
       "      <td>1</td>\n",
       "      <td>0.674317</td>\n",
       "      <td>Musulman</td>\n",
       "      <td>multi</td>\n",
       "      <td>\"my name is osama bin laden and this is jackass\"</td>\n",
       "    </tr>\n",
       "    <tr>\n",
       "      <th>993</th>\n",
       "      <td>36421</td>\n",
       "      <td>1</td>\n",
       "      <td>1</td>\n",
       "      <td>0.637457</td>\n",
       "      <td>White</td>\n",
       "      <td>multi</td>\n",
       "      <td>freakin white people... so annoying.</td>\n",
       "    </tr>\n",
       "  </tbody>\n",
       "</table>\n",
       "<p>129 rows × 7 columns</p>\n",
       "</div>"
      ],
      "text/plain": [
       "        id  True Label  Label     Proba        Community Multi/Uni  \\\n",
       "2    94180           1      1  0.897919             LGBT       uni   \n",
       "6     5429           1      1  0.580428        Fake News     multi   \n",
       "12   47829           1      1  0.586631         Musulman     multi   \n",
       "17   38045           1      1  0.564669            Black     multi   \n",
       "20    1865           1      1  0.707008  People of Color       uni   \n",
       "..     ...         ...    ...       ...              ...       ...   \n",
       "962  95260           1      1  0.731351            Black     multi   \n",
       "968  20974           1      1  0.792673           Jewish     multi   \n",
       "969  93820           1      1  0.826299             LGBT       uni   \n",
       "980  68749           1      1  0.674317         Musulman     multi   \n",
       "993  36421           1      1  0.637457            White     multi   \n",
       "\n",
       "                                                  Text  \n",
       "2          happy pride month let's go beat up lesbians  \n",
       "6    claims that her ancestors created a safe space...  \n",
       "12   when you found your wife is cheating on you ya...  \n",
       "17    i am not racist some of my best slaves are black  \n",
       "20   i'm this pretty because both my parents are white  \n",
       "..                                                 ...  \n",
       "962  what's black and screams harvey price answerin...  \n",
       "968              when mom asks where all the jews went  \n",
       "969  we should legally be allowed to shoot fat g*y ...  \n",
       "980   \"my name is osama bin laden and this is jackass\"  \n",
       "993               freakin white people... so annoying.  \n",
       "\n",
       "[129 rows x 7 columns]"
      ]
     },
     "execution_count": 48,
     "metadata": {},
     "output_type": "execute_result"
    }
   ],
   "source": [
    "TN"
   ]
  },
  {
   "cell_type": "code",
   "execution_count": 49,
   "id": "f5749b68",
   "metadata": {
    "execution": {
     "iopub.execute_input": "2021-08-25T14:07:28.174339Z",
     "iopub.status.busy": "2021-08-25T14:07:28.173718Z",
     "iopub.status.idle": "2021-08-25T14:07:28.177864Z",
     "shell.execute_reply": "2021-08-25T14:07:28.177325Z",
     "shell.execute_reply.started": "2021-08-25T12:46:44.827438Z"
    },
    "papermill": {
     "duration": 0.121119,
     "end_time": "2021-08-25T14:07:28.177991",
     "exception": false,
     "start_time": "2021-08-25T14:07:28.056872",
     "status": "completed"
    },
    "tags": []
   },
   "outputs": [
    {
     "data": {
      "text/html": [
       "<div>\n",
       "<style scoped>\n",
       "    .dataframe tbody tr th:only-of-type {\n",
       "        vertical-align: middle;\n",
       "    }\n",
       "\n",
       "    .dataframe tbody tr th {\n",
       "        vertical-align: top;\n",
       "    }\n",
       "\n",
       "    .dataframe thead th {\n",
       "        text-align: right;\n",
       "    }\n",
       "</style>\n",
       "<table border=\"1\" class=\"dataframe\">\n",
       "  <thead>\n",
       "    <tr style=\"text-align: right;\">\n",
       "      <th></th>\n",
       "      <th>id</th>\n",
       "      <th>True Label</th>\n",
       "      <th>Label</th>\n",
       "      <th>Proba</th>\n",
       "      <th>Community</th>\n",
       "      <th>Multi/Uni</th>\n",
       "      <th>Text</th>\n",
       "    </tr>\n",
       "  </thead>\n",
       "  <tbody>\n",
       "    <tr>\n",
       "      <th>753</th>\n",
       "      <td>78163</td>\n",
       "      <td>1</td>\n",
       "      <td>1</td>\n",
       "      <td>0.983789</td>\n",
       "      <td>Musulman</td>\n",
       "      <td>multi</td>\n",
       "      <td>note to americans: we behead gays and brutaliz...</td>\n",
       "    </tr>\n",
       "    <tr>\n",
       "      <th>311</th>\n",
       "      <td>41692</td>\n",
       "      <td>1</td>\n",
       "      <td>1</td>\n",
       "      <td>0.980364</td>\n",
       "      <td>Jewish</td>\n",
       "      <td>uni</td>\n",
       "      <td>when you fart next to the jewish kid, and real...</td>\n",
       "    </tr>\n",
       "    <tr>\n",
       "      <th>259</th>\n",
       "      <td>9357</td>\n",
       "      <td>1</td>\n",
       "      <td>1</td>\n",
       "      <td>0.980364</td>\n",
       "      <td>Jewish</td>\n",
       "      <td>multi</td>\n",
       "      <td>when you fart next to the jewish kid, and real...</td>\n",
       "    </tr>\n",
       "    <tr>\n",
       "      <th>745</th>\n",
       "      <td>15942</td>\n",
       "      <td>1</td>\n",
       "      <td>1</td>\n",
       "      <td>0.949282</td>\n",
       "      <td>Musulman</td>\n",
       "      <td>uni</td>\n",
       "      <td>radical muslims want to cut your head off mode...</td>\n",
       "    </tr>\n",
       "    <tr>\n",
       "      <th>62</th>\n",
       "      <td>64279</td>\n",
       "      <td>1</td>\n",
       "      <td>1</td>\n",
       "      <td>0.935852</td>\n",
       "      <td>Jewish</td>\n",
       "      <td>multi</td>\n",
       "      <td>jew mad? get fuhrererious !</td>\n",
       "    </tr>\n",
       "    <tr>\n",
       "      <th>...</th>\n",
       "      <td>...</td>\n",
       "      <td>...</td>\n",
       "      <td>...</td>\n",
       "      <td>...</td>\n",
       "      <td>...</td>\n",
       "      <td>...</td>\n",
       "      <td>...</td>\n",
       "    </tr>\n",
       "    <tr>\n",
       "      <th>103</th>\n",
       "      <td>30762</td>\n",
       "      <td>1</td>\n",
       "      <td>1</td>\n",
       "      <td>0.510882</td>\n",
       "      <td>Musulman</td>\n",
       "      <td>multi</td>\n",
       "      <td>muslim women are fighting for freedom and are ...</td>\n",
       "    </tr>\n",
       "    <tr>\n",
       "      <th>767</th>\n",
       "      <td>89421</td>\n",
       "      <td>1</td>\n",
       "      <td>1</td>\n",
       "      <td>0.506404</td>\n",
       "      <td>LGBT</td>\n",
       "      <td>uni</td>\n",
       "      <td>say \"no\" to pride month! it's not only the pro...</td>\n",
       "    </tr>\n",
       "    <tr>\n",
       "      <th>651</th>\n",
       "      <td>38764</td>\n",
       "      <td>1</td>\n",
       "      <td>1</td>\n",
       "      <td>0.505066</td>\n",
       "      <td>Black</td>\n",
       "      <td>multi</td>\n",
       "      <td>there's only one race the human race and that ...</td>\n",
       "    </tr>\n",
       "    <tr>\n",
       "      <th>449</th>\n",
       "      <td>97125</td>\n",
       "      <td>1</td>\n",
       "      <td>1</td>\n",
       "      <td>0.504730</td>\n",
       "      <td>Jewish</td>\n",
       "      <td>multi</td>\n",
       "      <td>see? i fuckin told you! little foil on top kee...</td>\n",
       "    </tr>\n",
       "    <tr>\n",
       "      <th>741</th>\n",
       "      <td>68034</td>\n",
       "      <td>1</td>\n",
       "      <td>1</td>\n",
       "      <td>0.501158</td>\n",
       "      <td>Black</td>\n",
       "      <td>multi</td>\n",
       "      <td>when you go to africa and a kid is roasting yo...</td>\n",
       "    </tr>\n",
       "  </tbody>\n",
       "</table>\n",
       "<p>129 rows × 7 columns</p>\n",
       "</div>"
      ],
      "text/plain": [
       "        id  True Label  Label     Proba Community Multi/Uni  \\\n",
       "753  78163           1      1  0.983789  Musulman     multi   \n",
       "311  41692           1      1  0.980364    Jewish       uni   \n",
       "259   9357           1      1  0.980364    Jewish     multi   \n",
       "745  15942           1      1  0.949282  Musulman       uni   \n",
       "62   64279           1      1  0.935852    Jewish     multi   \n",
       "..     ...         ...    ...       ...       ...       ...   \n",
       "103  30762           1      1  0.510882  Musulman     multi   \n",
       "767  89421           1      1  0.506404      LGBT       uni   \n",
       "651  38764           1      1  0.505066     Black     multi   \n",
       "449  97125           1      1  0.504730    Jewish     multi   \n",
       "741  68034           1      1  0.501158     Black     multi   \n",
       "\n",
       "                                                  Text  \n",
       "753  note to americans: we behead gays and brutaliz...  \n",
       "311  when you fart next to the jewish kid, and real...  \n",
       "259  when you fart next to the jewish kid, and real...  \n",
       "745  radical muslims want to cut your head off mode...  \n",
       "62                         jew mad? get fuhrererious !  \n",
       "..                                                 ...  \n",
       "103  muslim women are fighting for freedom and are ...  \n",
       "767  say \"no\" to pride month! it's not only the pro...  \n",
       "651  there's only one race the human race and that ...  \n",
       "449  see? i fuckin told you! little foil on top kee...  \n",
       "741  when you go to africa and a kid is roasting yo...  \n",
       "\n",
       "[129 rows x 7 columns]"
      ]
     },
     "execution_count": 49,
     "metadata": {},
     "output_type": "execute_result"
    }
   ],
   "source": [
    "TN_sortedFrame = TN.sort_values(\"Proba\", ascending=False)\n",
    "TN_sortedFrame"
   ]
  },
  {
   "cell_type": "code",
   "execution_count": 50,
   "id": "94c4d810",
   "metadata": {
    "execution": {
     "iopub.execute_input": "2021-08-25T14:07:28.391350Z",
     "iopub.status.busy": "2021-08-25T14:07:28.390754Z",
     "iopub.status.idle": "2021-08-25T14:07:28.394237Z",
     "shell.execute_reply": "2021-08-25T14:07:28.393663Z",
     "shell.execute_reply.started": "2021-08-25T12:46:44.855568Z"
    },
    "papermill": {
     "duration": 0.116429,
     "end_time": "2021-08-25T14:07:28.394366",
     "exception": false,
     "start_time": "2021-08-25T14:07:28.277937",
     "status": "completed"
    },
    "tags": []
   },
   "outputs": [
    {
     "data": {
      "text/html": [
       "<div>\n",
       "<style scoped>\n",
       "    .dataframe tbody tr th:only-of-type {\n",
       "        vertical-align: middle;\n",
       "    }\n",
       "\n",
       "    .dataframe tbody tr th {\n",
       "        vertical-align: top;\n",
       "    }\n",
       "\n",
       "    .dataframe thead th {\n",
       "        text-align: right;\n",
       "    }\n",
       "</style>\n",
       "<table border=\"1\" class=\"dataframe\">\n",
       "  <thead>\n",
       "    <tr style=\"text-align: right;\">\n",
       "      <th></th>\n",
       "      <th>id</th>\n",
       "      <th>True Label</th>\n",
       "      <th>Label</th>\n",
       "      <th>Proba</th>\n",
       "      <th>Community</th>\n",
       "      <th>Multi/Uni</th>\n",
       "      <th>Text</th>\n",
       "    </tr>\n",
       "  </thead>\n",
       "  <tbody>\n",
       "    <tr>\n",
       "      <th>753</th>\n",
       "      <td>78163</td>\n",
       "      <td>1</td>\n",
       "      <td>1</td>\n",
       "      <td>0.983789</td>\n",
       "      <td>Musulman</td>\n",
       "      <td>multi</td>\n",
       "      <td>note to americans: we behead gays and brutaliz...</td>\n",
       "    </tr>\n",
       "    <tr>\n",
       "      <th>311</th>\n",
       "      <td>41692</td>\n",
       "      <td>1</td>\n",
       "      <td>1</td>\n",
       "      <td>0.980364</td>\n",
       "      <td>Jewish</td>\n",
       "      <td>uni</td>\n",
       "      <td>when you fart next to the jewish kid, and real...</td>\n",
       "    </tr>\n",
       "    <tr>\n",
       "      <th>259</th>\n",
       "      <td>9357</td>\n",
       "      <td>1</td>\n",
       "      <td>1</td>\n",
       "      <td>0.980364</td>\n",
       "      <td>Jewish</td>\n",
       "      <td>multi</td>\n",
       "      <td>when you fart next to the jewish kid, and real...</td>\n",
       "    </tr>\n",
       "    <tr>\n",
       "      <th>745</th>\n",
       "      <td>15942</td>\n",
       "      <td>1</td>\n",
       "      <td>1</td>\n",
       "      <td>0.949282</td>\n",
       "      <td>Musulman</td>\n",
       "      <td>uni</td>\n",
       "      <td>radical muslims want to cut your head off mode...</td>\n",
       "    </tr>\n",
       "    <tr>\n",
       "      <th>62</th>\n",
       "      <td>64279</td>\n",
       "      <td>1</td>\n",
       "      <td>1</td>\n",
       "      <td>0.935852</td>\n",
       "      <td>Jewish</td>\n",
       "      <td>multi</td>\n",
       "      <td>jew mad? get fuhrererious !</td>\n",
       "    </tr>\n",
       "    <tr>\n",
       "      <th>803</th>\n",
       "      <td>23694</td>\n",
       "      <td>1</td>\n",
       "      <td>1</td>\n",
       "      <td>0.935224</td>\n",
       "      <td>Musulman</td>\n",
       "      <td>uni</td>\n",
       "      <td>\"we will take over politically, oust the const...</td>\n",
       "    </tr>\n",
       "    <tr>\n",
       "      <th>795</th>\n",
       "      <td>57049</td>\n",
       "      <td>1</td>\n",
       "      <td>1</td>\n",
       "      <td>0.935003</td>\n",
       "      <td>Musulman</td>\n",
       "      <td>uni</td>\n",
       "      <td>radical muslims are snakes. moderate muslims a...</td>\n",
       "    </tr>\n",
       "    <tr>\n",
       "      <th>157</th>\n",
       "      <td>21530</td>\n",
       "      <td>1</td>\n",
       "      <td>1</td>\n",
       "      <td>0.927811</td>\n",
       "      <td>Musulman</td>\n",
       "      <td>multi</td>\n",
       "      <td>went down on a muslim bitch. her pussy was the...</td>\n",
       "    </tr>\n",
       "    <tr>\n",
       "      <th>904</th>\n",
       "      <td>34678</td>\n",
       "      <td>1</td>\n",
       "      <td>1</td>\n",
       "      <td>0.915432</td>\n",
       "      <td>Disable</td>\n",
       "      <td>multi</td>\n",
       "      <td>i hate it when white people throw gang signs t...</td>\n",
       "    </tr>\n",
       "    <tr>\n",
       "      <th>95</th>\n",
       "      <td>16592</td>\n",
       "      <td>1</td>\n",
       "      <td>1</td>\n",
       "      <td>0.910987</td>\n",
       "      <td>Black</td>\n",
       "      <td>uni</td>\n",
       "      <td>what's the deal with black people? they're not...</td>\n",
       "    </tr>\n",
       "    <tr>\n",
       "      <th>954</th>\n",
       "      <td>62085</td>\n",
       "      <td>1</td>\n",
       "      <td>1</td>\n",
       "      <td>0.901192</td>\n",
       "      <td>Politic</td>\n",
       "      <td>multi</td>\n",
       "      <td>\"lynch said her greatest fear is the incredibl...</td>\n",
       "    </tr>\n",
       "    <tr>\n",
       "      <th>127</th>\n",
       "      <td>5162</td>\n",
       "      <td>1</td>\n",
       "      <td>1</td>\n",
       "      <td>0.898656</td>\n",
       "      <td>Musulman</td>\n",
       "      <td>uni</td>\n",
       "      <td>went down on a muslim bitch her pussy was the ...</td>\n",
       "    </tr>\n",
       "    <tr>\n",
       "      <th>2</th>\n",
       "      <td>94180</td>\n",
       "      <td>1</td>\n",
       "      <td>1</td>\n",
       "      <td>0.897919</td>\n",
       "      <td>LGBT</td>\n",
       "      <td>uni</td>\n",
       "      <td>happy pride month let's go beat up lesbians</td>\n",
       "    </tr>\n",
       "    <tr>\n",
       "      <th>442</th>\n",
       "      <td>64297</td>\n",
       "      <td>1</td>\n",
       "      <td>1</td>\n",
       "      <td>0.894731</td>\n",
       "      <td>Jewish</td>\n",
       "      <td>multi</td>\n",
       "      <td>when the whole squad roasts the jewish kid</td>\n",
       "    </tr>\n",
       "    <tr>\n",
       "      <th>33</th>\n",
       "      <td>14267</td>\n",
       "      <td>1</td>\n",
       "      <td>1</td>\n",
       "      <td>0.889412</td>\n",
       "      <td>Black</td>\n",
       "      <td>uni</td>\n",
       "      <td>when you beat up a black kid and get arrested ...</td>\n",
       "    </tr>\n",
       "    <tr>\n",
       "      <th>72</th>\n",
       "      <td>3976</td>\n",
       "      <td>1</td>\n",
       "      <td>1</td>\n",
       "      <td>0.888837</td>\n",
       "      <td>Musulman</td>\n",
       "      <td>uni</td>\n",
       "      <td>warning \"every\" country that has become involv...</td>\n",
       "    </tr>\n",
       "    <tr>\n",
       "      <th>70</th>\n",
       "      <td>89251</td>\n",
       "      <td>1</td>\n",
       "      <td>1</td>\n",
       "      <td>0.875278</td>\n",
       "      <td>Transgender</td>\n",
       "      <td>uni</td>\n",
       "      <td>sorry i'm late. having tranny problems</td>\n",
       "    </tr>\n",
       "    <tr>\n",
       "      <th>347</th>\n",
       "      <td>4583</td>\n",
       "      <td>1</td>\n",
       "      <td>1</td>\n",
       "      <td>0.874665</td>\n",
       "      <td>Jewish</td>\n",
       "      <td>multi</td>\n",
       "      <td>mom won't let me use the oven with my jewish f...</td>\n",
       "    </tr>\n",
       "    <tr>\n",
       "      <th>693</th>\n",
       "      <td>50176</td>\n",
       "      <td>1</td>\n",
       "      <td>1</td>\n",
       "      <td>0.861837</td>\n",
       "      <td>Jewish</td>\n",
       "      <td>multi</td>\n",
       "      <td>how do you get a jewish girls number? roll up ...</td>\n",
       "    </tr>\n",
       "    <tr>\n",
       "      <th>535</th>\n",
       "      <td>59021</td>\n",
       "      <td>1</td>\n",
       "      <td>1</td>\n",
       "      <td>0.861837</td>\n",
       "      <td>Jewish</td>\n",
       "      <td>multi</td>\n",
       "      <td>how do you get a jewish girls number? roll up ...</td>\n",
       "    </tr>\n",
       "  </tbody>\n",
       "</table>\n",
       "</div>"
      ],
      "text/plain": [
       "        id  True Label  Label     Proba    Community Multi/Uni  \\\n",
       "753  78163           1      1  0.983789     Musulman     multi   \n",
       "311  41692           1      1  0.980364       Jewish       uni   \n",
       "259   9357           1      1  0.980364       Jewish     multi   \n",
       "745  15942           1      1  0.949282     Musulman       uni   \n",
       "62   64279           1      1  0.935852       Jewish     multi   \n",
       "803  23694           1      1  0.935224     Musulman       uni   \n",
       "795  57049           1      1  0.935003     Musulman       uni   \n",
       "157  21530           1      1  0.927811     Musulman     multi   \n",
       "904  34678           1      1  0.915432      Disable     multi   \n",
       "95   16592           1      1  0.910987        Black       uni   \n",
       "954  62085           1      1  0.901192      Politic     multi   \n",
       "127   5162           1      1  0.898656     Musulman       uni   \n",
       "2    94180           1      1  0.897919         LGBT       uni   \n",
       "442  64297           1      1  0.894731       Jewish     multi   \n",
       "33   14267           1      1  0.889412        Black       uni   \n",
       "72    3976           1      1  0.888837     Musulman       uni   \n",
       "70   89251           1      1  0.875278  Transgender       uni   \n",
       "347   4583           1      1  0.874665       Jewish     multi   \n",
       "693  50176           1      1  0.861837       Jewish     multi   \n",
       "535  59021           1      1  0.861837       Jewish     multi   \n",
       "\n",
       "                                                  Text  \n",
       "753  note to americans: we behead gays and brutaliz...  \n",
       "311  when you fart next to the jewish kid, and real...  \n",
       "259  when you fart next to the jewish kid, and real...  \n",
       "745  radical muslims want to cut your head off mode...  \n",
       "62                         jew mad? get fuhrererious !  \n",
       "803  \"we will take over politically, oust the const...  \n",
       "795  radical muslims are snakes. moderate muslims a...  \n",
       "157  went down on a muslim bitch. her pussy was the...  \n",
       "904  i hate it when white people throw gang signs t...  \n",
       "95   what's the deal with black people? they're not...  \n",
       "954  \"lynch said her greatest fear is the incredibl...  \n",
       "127  went down on a muslim bitch her pussy was the ...  \n",
       "2          happy pride month let's go beat up lesbians  \n",
       "442         when the whole squad roasts the jewish kid  \n",
       "33   when you beat up a black kid and get arrested ...  \n",
       "72   warning \"every\" country that has become involv...  \n",
       "70              sorry i'm late. having tranny problems  \n",
       "347  mom won't let me use the oven with my jewish f...  \n",
       "693  how do you get a jewish girls number? roll up ...  \n",
       "535  how do you get a jewish girls number? roll up ...  "
      ]
     },
     "execution_count": 50,
     "metadata": {},
     "output_type": "execute_result"
    }
   ],
   "source": [
    "TN_sortedFrame.head(20)"
   ]
  },
  {
   "cell_type": "code",
   "execution_count": 51,
   "id": "c8f36c66",
   "metadata": {
    "execution": {
     "iopub.execute_input": "2021-08-25T14:07:28.598637Z",
     "iopub.status.busy": "2021-08-25T14:07:28.597989Z",
     "iopub.status.idle": "2021-08-25T14:07:28.605641Z",
     "shell.execute_reply": "2021-08-25T14:07:28.605210Z",
     "shell.execute_reply.started": "2021-08-25T12:46:44.886150Z"
    },
    "papermill": {
     "duration": 0.111172,
     "end_time": "2021-08-25T14:07:28.605778",
     "exception": false,
     "start_time": "2021-08-25T14:07:28.494606",
     "status": "completed"
    },
    "tags": []
   },
   "outputs": [
    {
     "name": "stdout",
     "output_type": "stream",
     "text": [
      "Number of multimodal samples in the dataset:  96\n",
      "Number of unimodal samples in the dataset:  33\n"
     ]
    }
   ],
   "source": [
    "multi_sample_in_TN = TN[TN['Multi/Uni'] == 'multi']\n",
    "uni_sample_in_TN = TN[TN['Multi/Uni'] == 'uni']\n",
    "\n",
    "numb_multi_sample_TN = len(multi_sample_in_TN)\n",
    "numb_uni_sample_TN = len(uni_sample_in_TN)\n",
    "\n",
    "print(\"Number of multimodal samples in the dataset: \", numb_multi_sample_TN)\n",
    "print(\"Number of unimodal samples in the dataset: \", numb_uni_sample_TN)"
   ]
  },
  {
   "cell_type": "markdown",
   "id": "40f8d243",
   "metadata": {
    "papermill": {
     "duration": 0.101575,
     "end_time": "2021-08-25T14:07:28.809025",
     "exception": false,
     "start_time": "2021-08-25T14:07:28.707450",
     "status": "completed"
    },
    "tags": []
   },
   "source": [
    "It is very surprising to see that the model only correct classify 33 unimodal samples out of the 70 unimodal (text) and hateful - as this number is still small and there is more multimodal sample so the model could have learn from the training set. \n",
    "However, statisticly, 47% of the unimodal hateful samples were correctly classified, whereas the multimodal hateful samples were only classified correctly 22% of the time. In other words, the BERT model performed twice as well on the unimodal hateful samples compared to the multimodal hateful samples."
   ]
  },
  {
   "cell_type": "code",
   "execution_count": 52,
   "id": "3147b0e2",
   "metadata": {
    "execution": {
     "iopub.execute_input": "2021-08-25T14:07:29.051555Z",
     "iopub.status.busy": "2021-08-25T14:07:29.050874Z",
     "iopub.status.idle": "2021-08-25T14:07:29.311615Z",
     "shell.execute_reply": "2021-08-25T14:07:29.310988Z",
     "shell.execute_reply.started": "2021-08-25T12:46:44.899057Z"
    },
    "papermill": {
     "duration": 0.401484,
     "end_time": "2021-08-25T14:07:29.311757",
     "exception": false,
     "start_time": "2021-08-25T14:07:28.910273",
     "status": "completed"
    },
    "tags": []
   },
   "outputs": [
    {
     "data": {
      "text/plain": [
       "Text(0, 0.5, 'number of sample')"
      ]
     },
     "execution_count": 52,
     "metadata": {},
     "output_type": "execute_result"
    },
    {
     "data": {
      "image/png": "[encoded data removed]",
      "text/plain": [
       "<Figure size 432x288 with 1 Axes>"
      ]
     },
     "metadata": {
      "needs_background": "light"
     },
     "output_type": "display_data"
    }
   ],
   "source": [
    "Disable_sample_tn = TN[TN['Community'] == 'Disable']\n",
    "Women_sample_tn = TN[TN['Community'] == 'Women']\n",
    "LGBT_sample_tn = TN[TN['Community'] == 'LGBT']\n",
    "Black_sample_tn = TN[TN['Community'] == 'Black']\n",
    "Musulman_sample_tn = TN[TN['Community'] == 'Musulman']\n",
    "FakeNews_sample_tn = TN[TN['Community'] == 'Fake News']\n",
    "NA_sample_tn = TN[TN['Community'] == 'Not Applicable']\n",
    "IncitingViolence_sample_tn = TN[TN['Community'] == 'Inciting Violence']\n",
    "Transgender_sample_tn = TN[TN['Community'] == 'Transgender']\n",
    "Ginger_sample_tn = TN[TN['Community'] == 'Ginger']\n",
    "Immigrant_sample_tn = TN[TN['Community'] == 'Immigrant']\n",
    "Jewish_sample_tn = TN[TN['Community'] == 'Jewish']\n",
    "PeopleofColor_sample_tn = TN[TN['Community'] == 'People of Color']\n",
    "White_sample_tn = TN[TN['Community'] == 'White']\n",
    "Indian_sample_tn = TN[TN['Community'] == 'Indian']\n",
    "Japanese_sample_tn = TN[TN['Community'] == 'Japanese']\n",
    "Chinese_sample_tn = TN[TN['Community'] == 'Chinese']\n",
    "Asian_sample_tn = TN[TN['Community'] == 'Asian']\n",
    "Politic_sample_tn = TN[TN['Community'] == 'Politic']\n",
    "German_sample_tn = TN[TN['Community'] == 'German']\n",
    "Romanian_sample_tn = TN[TN['Community'] == 'Romania']\n",
    "Christian_sample_tn = TN[TN['Community'] == 'Christian']\n",
    "\n",
    "TN_categories = {\n",
    "'Disable' : len(Disable_sample_tn),\n",
    "'Women' : len(Women_sample_tn),\n",
    "'LGBT' : len(LGBT_sample_tn),\n",
    "'Black' : len(Black_sample_tn),\n",
    "'Musulman' : len(Musulman_sample_tn),\n",
    "'FakeNews' : len(FakeNews_sample_tn),\n",
    "'NA' : len(NA_sample_tn),\n",
    "'Inciting Violence' : len(IncitingViolence_sample_tn),\n",
    "'Transgender' : len(Transgender_sample_tn),\n",
    "'Ginger' : len(Ginger_sample_tn),\n",
    "'Immigrant' : len(Immigrant_sample_tn),\n",
    "'Jewish' : len(Jewish_sample_tn),\n",
    "'People of Color' : len(PeopleofColor_sample_tn),\n",
    "'White' : len(White_sample_tn),\n",
    "'Indian' : len(Indian_sample_tn),\n",
    "'Japanese' : len(Japanese_sample_tn),\n",
    "'Chinese' : len(Chinese_sample_tn),\n",
    "'Asian' : len(Asian_sample_tn),\n",
    "'Politic' : len(Politic_sample_tn),\n",
    "'German' : len(German_sample_tn),\n",
    "'Romanian' : len(Romanian_sample_tn),\n",
    "'Christian' : len(Christian_sample_tn)\n",
    "}\n",
    "\n",
    "lists = sorted(TN_categories.items()) # sorted by key, return a list of tuples\n",
    "categories, numb_of_sample = zip(*lists) # unpack a list of pairs into two tuples\n",
    "\n",
    "plt.xticks(rotation='vertical')\n",
    "df = plt.bar(categories, numb_of_sample, color='b')\n",
    "plt.title('Number of sample by category')\n",
    "plt.xlabel('categories')\n",
    "plt.ylabel('number of sample')"
   ]
  },
  {
   "cell_type": "code",
   "execution_count": 53,
   "id": "d842a2b1",
   "metadata": {
    "execution": {
     "iopub.execute_input": "2021-08-25T14:07:29.522949Z",
     "iopub.status.busy": "2021-08-25T14:07:29.522371Z",
     "iopub.status.idle": "2021-08-25T14:07:29.526669Z",
     "shell.execute_reply": "2021-08-25T14:07:29.526177Z",
     "shell.execute_reply.started": "2021-08-25T12:46:45.258208Z"
    },
    "papermill": {
     "duration": 0.112276,
     "end_time": "2021-08-25T14:07:29.526795",
     "exception": false,
     "start_time": "2021-08-25T14:07:29.414519",
     "status": "completed"
    },
    "tags": []
   },
   "outputs": [
    {
     "data": {
      "text/plain": [
       "{'Disable': 1,\n",
       " 'Women': 12,\n",
       " 'LGBT': 9,\n",
       " 'Black': 25,\n",
       " 'Musulman': 32,\n",
       " 'FakeNews': 3,\n",
       " 'NA': 0,\n",
       " 'Inciting Violence': 0,\n",
       " 'Transgender': 4,\n",
       " 'Ginger': 0,\n",
       " 'Immigrant': 3,\n",
       " 'Jewish': 20,\n",
       " 'People of Color': 3,\n",
       " 'White': 5,\n",
       " 'Indian': 1,\n",
       " 'Japanese': 0,\n",
       " 'Chinese': 3,\n",
       " 'Asian': 5,\n",
       " 'Politic': 2,\n",
       " 'German': 0,\n",
       " 'Romanian': 1,\n",
       " 'Christian': 0}"
      ]
     },
     "execution_count": 53,
     "metadata": {},
     "output_type": "execute_result"
    }
   ],
   "source": [
    "TN_categories"
   ]
  },
  {
   "cell_type": "code",
   "execution_count": 54,
   "id": "bd54e5f5",
   "metadata": {
    "execution": {
     "iopub.execute_input": "2021-08-25T14:07:29.771711Z",
     "iopub.status.busy": "2021-08-25T14:07:29.757382Z",
     "iopub.status.idle": "2021-08-25T14:07:30.027896Z",
     "shell.execute_reply": "2021-08-25T14:07:30.027270Z",
     "shell.execute_reply.started": "2021-08-25T12:46:45.267542Z"
    },
    "papermill": {
     "duration": 0.398269,
     "end_time": "2021-08-25T14:07:30.028051",
     "exception": false,
     "start_time": "2021-08-25T14:07:29.629782",
     "status": "completed"
    },
    "tags": []
   },
   "outputs": [
    {
     "data": {
      "text/plain": [
       "Text(0, 0.5, 'number of sample')"
      ]
     },
     "execution_count": 54,
     "metadata": {},
     "output_type": "execute_result"
    },
    {
     "data": {
      "image/png": "[encoded data removed]",
      "text/plain": [
       "<Figure size 432x288 with 1 Axes>"
      ]
     },
     "metadata": {
      "needs_background": "light"
     },
     "output_type": "display_data"
    }
   ],
   "source": [
    "Acc_TN_Disable = len(Disable_sample_tn) / len(Disable_sample_h) * 100\n",
    "Acc_TN_Women = len(Women_sample_tn) / len(Women_sample_h) * 100\n",
    "Acc_TN_LGBT = len(LGBT_sample_tn) / len(LGBT_sample_h) * 100\n",
    "Acc_TN_Black = len(Black_sample_tn) / len(Black_sample_h) * 100\n",
    "Acc_TN_Musulman = len(Musulman_sample_tn) / len(Musulman_sample_h) * 100\n",
    "Acc_TN_FakeNews = len(FakeNews_sample_tn) / len(FakeNews_sample_h) * 100\n",
    "Acc_TN_NA = len(NA_sample_tn) / len(NA_sample_h) * 100\n",
    "Acc_TN_IncitingViolence = len(IncitingViolence_sample_tn) / len(IncitingViolence_sample_h) * 100\n",
    "Acc_TN_Transgender = len(Transgender_sample_tn) / len(Transgender_sample_h) * 100\n",
    "Acc_TN_Ginger = len(Ginger_sample_tn) / len(Ginger_sample_h) * 100\n",
    "Acc_TN_Immigrant = len(Immigrant_sample_tn) / len(Immigrant_sample_h) * 100\n",
    "Acc_TN_Jewish = len(Jewish_sample_tn) / len(Jewish_sample_h) * 100\n",
    "Acc_TN_PeopleofColor = len(PeopleofColor_sample_tn) / len(PeopleofColor_sample_h) * 100\n",
    "Acc_TN_White = len(White_sample_tn) / len(White_sample_h) * 100\n",
    "Acc_TN_Indian = len(Indian_sample_tn) / len(Indian_sample_h) * 100\n",
    "Acc_TN_Japanese = len(Japanese_sample_tn) / len(Japanese_sample_h) * 100\n",
    "Acc_TN_Chinese = len(Chinese_sample_tn) / len(Chinese_sample_h) * 100\n",
    "Acc_TN_Asian = len(Asian_sample_tn) / len(Asian_sample_h) * 100\n",
    "Acc_TN_Politic = len(Politic_sample_tn) / len(Politic_sample_h) * 100\n",
    "Acc_TN_German = len(German_sample_tn) / len(German_sample_h) * 100\n",
    "Acc_TN_Romanian = 0\n",
    "Acc_TN_Christian = len(Christian_sample_tn) / len(Christian_sample_h) * 100\n",
    "\n",
    "\n",
    "Acc_TN_categories = {\n",
    "'Disable' : Acc_TN_Disable,\n",
    "'Women' : Acc_TN_Women,\n",
    "'LGBT' : Acc_TN_LGBT,\n",
    "'Black' : Acc_TN_Black,\n",
    "'Musulman' : Acc_TN_Musulman,\n",
    "'FakeNews' : Acc_TN_FakeNews,\n",
    "'NA' : Acc_TN_NA,\n",
    "'Inciting Violence' : Acc_TN_IncitingViolence,\n",
    "'Transgender' : Acc_TN_Transgender,\n",
    "'Ginger' : Acc_TN_Ginger,\n",
    "'Immigrant' : Acc_TN_Immigrant,\n",
    "'Jewish' : Acc_TN_Jewish,\n",
    "'People of Color' : Acc_TN_PeopleofColor,\n",
    "'White' : Acc_TN_White,\n",
    "'Indian' : Acc_TN_Indian,\n",
    "'Japanese' : Acc_TN_Japanese,\n",
    "'Chinese' : Acc_TN_Chinese,\n",
    "'Asian' : Acc_TN_Asian,\n",
    "'Politic' : Acc_TN_Politic,\n",
    "'German' : Acc_TN_German,\n",
    "'Romanian' : Acc_TN_Romanian,\n",
    "'Christian' : Acc_TN_Christian\n",
    "}\n",
    "\n",
    "lists = sorted(Acc_TN_categories.items()) # sorted by key, return a list of tuples\n",
    "categories, numb_of_sample = zip(*lists) # unpack a list of pairs into two tuples\n",
    "\n",
    "plt.xticks(rotation='vertical')\n",
    "df = plt.bar(categories, numb_of_sample, color=(0.5,0.1,0.5,0.6))\n",
    "plt.title('Number of sample by category')\n",
    "plt.xlabel('categories')\n",
    "plt.ylabel('number of sample')"
   ]
  },
  {
   "cell_type": "code",
   "execution_count": 55,
   "id": "e1a60ec5",
   "metadata": {
    "execution": {
     "iopub.execute_input": "2021-08-25T14:07:30.241686Z",
     "iopub.status.busy": "2021-08-25T14:07:30.241108Z",
     "iopub.status.idle": "2021-08-25T14:07:30.257051Z",
     "shell.execute_reply": "2021-08-25T14:07:30.256523Z",
     "shell.execute_reply.started": "2021-08-25T12:46:45.607437Z"
    },
    "papermill": {
     "duration": 0.124027,
     "end_time": "2021-08-25T14:07:30.257198",
     "exception": false,
     "start_time": "2021-08-25T14:07:30.133171",
     "status": "completed"
    },
    "tags": []
   },
   "outputs": [
    {
     "name": "stdout",
     "output_type": "stream",
     "text": [
      "Disable : 1.8181818181818181 %\n",
      "Women : 27.906976744186046 %\n",
      "LGBT : 45.0 %\n",
      "Black : 22.321428571428573 %\n",
      "Musulman : 34.40860215053764 %\n",
      "FakeNews : 60.0 %\n",
      "NA : 0.0 %\n",
      "Inciting Violence : 0.0 %\n",
      "Transgender : 30.76923076923077 %\n",
      "Ginger : 0.0 %\n",
      "Immigrant : 25.0 %\n",
      "Jewish : 31.746031746031743 %\n",
      "People of Color : 15.789473684210526 %\n",
      "White : 45.45454545454545 %\n",
      "Indian : 50.0 %\n",
      "Japanese : 0.0 %\n",
      "Chinese : 60.0 %\n",
      "Asian : 71.42857142857143 %\n",
      "Politic : 40.0 %\n",
      "German : 0.0 %\n",
      "Romanian : 0 %\n",
      "Christian : 0.0 %\n"
     ]
    }
   ],
   "source": [
    "for key, value in Acc_TN_categories.items():\n",
    "    print(key, ':', value, '%')"
   ]
  },
  {
   "cell_type": "markdown",
   "id": "69c27238",
   "metadata": {
    "papermill": {
     "duration": 0.10374,
     "end_time": "2021-08-25T14:07:30.464751",
     "exception": false,
     "start_time": "2021-08-25T14:07:30.361011",
     "status": "completed"
    },
    "tags": []
   },
   "source": [
    "Why Asian where more easy to classify? Is there anything special in the text? Is it a community where the words need to be more explicite to attack them and make the system more keen on noticing them? \n",
    "Are Asian and Fake News hate mainly unimodal?\n",
    "\n",
    "try graph to check those points"
   ]
  },
  {
   "cell_type": "code",
   "execution_count": 56,
   "id": "053ed180",
   "metadata": {
    "execution": {
     "iopub.execute_input": "2021-08-25T14:07:30.678095Z",
     "iopub.status.busy": "2021-08-25T14:07:30.677488Z",
     "iopub.status.idle": "2021-08-25T14:07:30.686118Z",
     "shell.execute_reply": "2021-08-25T14:07:30.685526Z",
     "shell.execute_reply.started": "2021-08-25T12:46:45.628015Z"
    },
    "papermill": {
     "duration": 0.117821,
     "end_time": "2021-08-25T14:07:30.686255",
     "exception": false,
     "start_time": "2021-08-25T14:07:30.568434",
     "status": "completed"
    },
    "tags": []
   },
   "outputs": [
    {
     "data": {
      "text/html": [
       "<div>\n",
       "<style scoped>\n",
       "    .dataframe tbody tr th:only-of-type {\n",
       "        vertical-align: middle;\n",
       "    }\n",
       "\n",
       "    .dataframe tbody tr th {\n",
       "        vertical-align: top;\n",
       "    }\n",
       "\n",
       "    .dataframe thead th {\n",
       "        text-align: right;\n",
       "    }\n",
       "</style>\n",
       "<table border=\"1\" class=\"dataframe\">\n",
       "  <thead>\n",
       "    <tr style=\"text-align: right;\">\n",
       "      <th></th>\n",
       "      <th>id</th>\n",
       "      <th>True Label</th>\n",
       "      <th>Label</th>\n",
       "      <th>Proba</th>\n",
       "      <th>Community</th>\n",
       "      <th>Multi/Uni</th>\n",
       "      <th>Text</th>\n",
       "    </tr>\n",
       "  </thead>\n",
       "  <tbody>\n",
       "    <tr>\n",
       "      <th>904</th>\n",
       "      <td>34678</td>\n",
       "      <td>1</td>\n",
       "      <td>1</td>\n",
       "      <td>0.915432</td>\n",
       "      <td>Disable</td>\n",
       "      <td>multi</td>\n",
       "      <td>i hate it when white people throw gang signs t...</td>\n",
       "    </tr>\n",
       "  </tbody>\n",
       "</table>\n",
       "</div>"
      ],
      "text/plain": [
       "        id  True Label  Label     Proba Community Multi/Uni  \\\n",
       "904  34678           1      1  0.915432   Disable     multi   \n",
       "\n",
       "                                                  Text  \n",
       "904  i hate it when white people throw gang signs t...  "
      ]
     },
     "execution_count": 56,
     "metadata": {},
     "output_type": "execute_result"
    }
   ],
   "source": [
    "# Total number of hateful memes against Asian correctly classify\n",
    "TN[TN['Community']== 'Disable']"
   ]
  },
  {
   "cell_type": "code",
   "execution_count": 57,
   "id": "1c428a00",
   "metadata": {
    "execution": {
     "iopub.execute_input": "2021-08-25T14:07:30.905901Z",
     "iopub.status.busy": "2021-08-25T14:07:30.901356Z",
     "iopub.status.idle": "2021-08-25T14:07:30.909504Z",
     "shell.execute_reply": "2021-08-25T14:07:30.909913Z",
     "shell.execute_reply.started": "2021-08-25T12:46:45.647007Z"
    },
    "papermill": {
     "duration": 0.120198,
     "end_time": "2021-08-25T14:07:30.910101",
     "exception": false,
     "start_time": "2021-08-25T14:07:30.789903",
     "status": "completed"
    },
    "tags": []
   },
   "outputs": [
    {
     "data": {
      "text/html": [
       "<div>\n",
       "<style scoped>\n",
       "    .dataframe tbody tr th:only-of-type {\n",
       "        vertical-align: middle;\n",
       "    }\n",
       "\n",
       "    .dataframe tbody tr th {\n",
       "        vertical-align: top;\n",
       "    }\n",
       "\n",
       "    .dataframe thead th {\n",
       "        text-align: right;\n",
       "    }\n",
       "</style>\n",
       "<table border=\"1\" class=\"dataframe\">\n",
       "  <thead>\n",
       "    <tr style=\"text-align: right;\">\n",
       "      <th></th>\n",
       "      <th>id</th>\n",
       "      <th>True Label</th>\n",
       "      <th>Label</th>\n",
       "      <th>Proba</th>\n",
       "      <th>Community</th>\n",
       "      <th>Multi/Uni</th>\n",
       "      <th>Text</th>\n",
       "    </tr>\n",
       "  </thead>\n",
       "  <tbody>\n",
       "    <tr>\n",
       "      <th>418</th>\n",
       "      <td>30849</td>\n",
       "      <td>1</td>\n",
       "      <td>0</td>\n",
       "      <td>0.415045</td>\n",
       "      <td>Asian</td>\n",
       "      <td>multi</td>\n",
       "      <td>when you finger an asian girl</td>\n",
       "    </tr>\n",
       "    <tr>\n",
       "      <th>425</th>\n",
       "      <td>84057</td>\n",
       "      <td>1</td>\n",
       "      <td>1</td>\n",
       "      <td>0.718961</td>\n",
       "      <td>Asian</td>\n",
       "      <td>multi</td>\n",
       "      <td>no little asian don't eat them raw</td>\n",
       "    </tr>\n",
       "    <tr>\n",
       "      <th>505</th>\n",
       "      <td>87501</td>\n",
       "      <td>1</td>\n",
       "      <td>1</td>\n",
       "      <td>0.605173</td>\n",
       "      <td>Asian</td>\n",
       "      <td>multi</td>\n",
       "      <td>how to prepare the dog for the family event am...</td>\n",
       "    </tr>\n",
       "    <tr>\n",
       "      <th>624</th>\n",
       "      <td>15489</td>\n",
       "      <td>1</td>\n",
       "      <td>0</td>\n",
       "      <td>0.346677</td>\n",
       "      <td>Asian</td>\n",
       "      <td>multi</td>\n",
       "      <td>rice cooker now versus in 1945</td>\n",
       "    </tr>\n",
       "    <tr>\n",
       "      <th>667</th>\n",
       "      <td>8567</td>\n",
       "      <td>1</td>\n",
       "      <td>1</td>\n",
       "      <td>0.849058</td>\n",
       "      <td>Asian</td>\n",
       "      <td>multi</td>\n",
       "      <td>to see better, asians sometime switch to fulls...</td>\n",
       "    </tr>\n",
       "    <tr>\n",
       "      <th>692</th>\n",
       "      <td>69425</td>\n",
       "      <td>1</td>\n",
       "      <td>1</td>\n",
       "      <td>0.718961</td>\n",
       "      <td>Asian</td>\n",
       "      <td>multi</td>\n",
       "      <td>no little asian don't eat them raw</td>\n",
       "    </tr>\n",
       "    <tr>\n",
       "      <th>712</th>\n",
       "      <td>50348</td>\n",
       "      <td>1</td>\n",
       "      <td>1</td>\n",
       "      <td>0.687266</td>\n",
       "      <td>Asian</td>\n",
       "      <td>multi</td>\n",
       "      <td>asians be like switching to fullscreen mode</td>\n",
       "    </tr>\n",
       "  </tbody>\n",
       "</table>\n",
       "</div>"
      ],
      "text/plain": [
       "        id  True Label  Label     Proba Community Multi/Uni  \\\n",
       "418  30849           1      0  0.415045     Asian     multi   \n",
       "425  84057           1      1  0.718961     Asian     multi   \n",
       "505  87501           1      1  0.605173     Asian     multi   \n",
       "624  15489           1      0  0.346677     Asian     multi   \n",
       "667   8567           1      1  0.849058     Asian     multi   \n",
       "692  69425           1      1  0.718961     Asian     multi   \n",
       "712  50348           1      1  0.687266     Asian     multi   \n",
       "\n",
       "                                                  Text  \n",
       "418                      when you finger an asian girl  \n",
       "425                 no little asian don't eat them raw  \n",
       "505  how to prepare the dog for the family event am...  \n",
       "624                     rice cooker now versus in 1945  \n",
       "667  to see better, asians sometime switch to fulls...  \n",
       "692                 no little asian don't eat them raw  \n",
       "712        asians be like switching to fullscreen mode  "
      ]
     },
     "execution_count": 57,
     "metadata": {},
     "output_type": "execute_result"
    }
   ],
   "source": [
    "# Total number of hateful memes against Asian\n",
    "Asian_sample_h"
   ]
  },
  {
   "cell_type": "code",
   "execution_count": 58,
   "id": "66fa5b85",
   "metadata": {
    "execution": {
     "iopub.execute_input": "2021-08-25T14:07:31.131886Z",
     "iopub.status.busy": "2021-08-25T14:07:31.131039Z",
     "iopub.status.idle": "2021-08-25T14:07:31.135548Z",
     "shell.execute_reply": "2021-08-25T14:07:31.135073Z",
     "shell.execute_reply.started": "2021-08-25T12:46:45.664798Z"
    },
    "papermill": {
     "duration": 0.120709,
     "end_time": "2021-08-25T14:07:31.135683",
     "exception": false,
     "start_time": "2021-08-25T14:07:31.014974",
     "status": "completed"
    },
    "tags": []
   },
   "outputs": [
    {
     "data": {
      "text/html": [
       "<div>\n",
       "<style scoped>\n",
       "    .dataframe tbody tr th:only-of-type {\n",
       "        vertical-align: middle;\n",
       "    }\n",
       "\n",
       "    .dataframe tbody tr th {\n",
       "        vertical-align: top;\n",
       "    }\n",
       "\n",
       "    .dataframe thead th {\n",
       "        text-align: right;\n",
       "    }\n",
       "</style>\n",
       "<table border=\"1\" class=\"dataframe\">\n",
       "  <thead>\n",
       "    <tr style=\"text-align: right;\">\n",
       "      <th></th>\n",
       "      <th>id</th>\n",
       "      <th>True Label</th>\n",
       "      <th>Label</th>\n",
       "      <th>Proba</th>\n",
       "      <th>Community</th>\n",
       "      <th>Multi/Uni</th>\n",
       "      <th>Text</th>\n",
       "    </tr>\n",
       "  </thead>\n",
       "  <tbody>\n",
       "    <tr>\n",
       "      <th>6</th>\n",
       "      <td>5429</td>\n",
       "      <td>1</td>\n",
       "      <td>1</td>\n",
       "      <td>0.580428</td>\n",
       "      <td>Fake News</td>\n",
       "      <td>multi</td>\n",
       "      <td>claims that her ancestors created a safe space...</td>\n",
       "    </tr>\n",
       "    <tr>\n",
       "      <th>351</th>\n",
       "      <td>38754</td>\n",
       "      <td>1</td>\n",
       "      <td>1</td>\n",
       "      <td>0.795115</td>\n",
       "      <td>Fake News</td>\n",
       "      <td>multi</td>\n",
       "      <td>'slavery reparations' has there ever been a mo...</td>\n",
       "    </tr>\n",
       "    <tr>\n",
       "      <th>772</th>\n",
       "      <td>81964</td>\n",
       "      <td>1</td>\n",
       "      <td>1</td>\n",
       "      <td>0.772609</td>\n",
       "      <td>Fake News</td>\n",
       "      <td>uni</td>\n",
       "      <td>oprah winfrey: \"old white people need to just ...</td>\n",
       "    </tr>\n",
       "  </tbody>\n",
       "</table>\n",
       "</div>"
      ],
      "text/plain": [
       "        id  True Label  Label     Proba  Community Multi/Uni  \\\n",
       "6     5429           1      1  0.580428  Fake News     multi   \n",
       "351  38754           1      1  0.795115  Fake News     multi   \n",
       "772  81964           1      1  0.772609  Fake News       uni   \n",
       "\n",
       "                                                  Text  \n",
       "6    claims that her ancestors created a safe space...  \n",
       "351  'slavery reparations' has there ever been a mo...  \n",
       "772  oprah winfrey: \"old white people need to just ...  "
      ]
     },
     "execution_count": 58,
     "metadata": {},
     "output_type": "execute_result"
    }
   ],
   "source": [
    "# Total number of hateful Fake News memes correctly classify\n",
    "TN[TN['Community']== 'Fake News']"
   ]
  },
  {
   "cell_type": "code",
   "execution_count": 59,
   "id": "47501885",
   "metadata": {
    "execution": {
     "iopub.execute_input": "2021-08-25T14:07:31.350561Z",
     "iopub.status.busy": "2021-08-25T14:07:31.349683Z",
     "iopub.status.idle": "2021-08-25T14:07:31.361373Z",
     "shell.execute_reply": "2021-08-25T14:07:31.361768Z",
     "shell.execute_reply.started": "2021-08-25T12:46:45.687317Z"
    },
    "papermill": {
     "duration": 0.12016,
     "end_time": "2021-08-25T14:07:31.361932",
     "exception": false,
     "start_time": "2021-08-25T14:07:31.241772",
     "status": "completed"
    },
    "tags": []
   },
   "outputs": [
    {
     "data": {
      "text/html": [
       "<div>\n",
       "<style scoped>\n",
       "    .dataframe tbody tr th:only-of-type {\n",
       "        vertical-align: middle;\n",
       "    }\n",
       "\n",
       "    .dataframe tbody tr th {\n",
       "        vertical-align: top;\n",
       "    }\n",
       "\n",
       "    .dataframe thead th {\n",
       "        text-align: right;\n",
       "    }\n",
       "</style>\n",
       "<table border=\"1\" class=\"dataframe\">\n",
       "  <thead>\n",
       "    <tr style=\"text-align: right;\">\n",
       "      <th></th>\n",
       "      <th>id</th>\n",
       "      <th>True Label</th>\n",
       "      <th>Label</th>\n",
       "      <th>Proba</th>\n",
       "      <th>Community</th>\n",
       "      <th>Multi/Uni</th>\n",
       "      <th>Text</th>\n",
       "    </tr>\n",
       "  </thead>\n",
       "  <tbody>\n",
       "    <tr>\n",
       "      <th>6</th>\n",
       "      <td>5429</td>\n",
       "      <td>1</td>\n",
       "      <td>1</td>\n",
       "      <td>0.580428</td>\n",
       "      <td>Fake News</td>\n",
       "      <td>multi</td>\n",
       "      <td>claims that her ancestors created a safe space...</td>\n",
       "    </tr>\n",
       "    <tr>\n",
       "      <th>351</th>\n",
       "      <td>38754</td>\n",
       "      <td>1</td>\n",
       "      <td>1</td>\n",
       "      <td>0.795115</td>\n",
       "      <td>Fake News</td>\n",
       "      <td>multi</td>\n",
       "      <td>'slavery reparations' has there ever been a mo...</td>\n",
       "    </tr>\n",
       "    <tr>\n",
       "      <th>393</th>\n",
       "      <td>26910</td>\n",
       "      <td>1</td>\n",
       "      <td>0</td>\n",
       "      <td>0.148768</td>\n",
       "      <td>Fake News</td>\n",
       "      <td>multi</td>\n",
       "      <td>\"they are the biggest terrorists in the histor...</td>\n",
       "    </tr>\n",
       "    <tr>\n",
       "      <th>642</th>\n",
       "      <td>90875</td>\n",
       "      <td>1</td>\n",
       "      <td>0</td>\n",
       "      <td>0.106388</td>\n",
       "      <td>Fake News</td>\n",
       "      <td>uni</td>\n",
       "      <td>so obama imports 70,000 somali immigrants and ...</td>\n",
       "    </tr>\n",
       "    <tr>\n",
       "      <th>772</th>\n",
       "      <td>81964</td>\n",
       "      <td>1</td>\n",
       "      <td>1</td>\n",
       "      <td>0.772609</td>\n",
       "      <td>Fake News</td>\n",
       "      <td>uni</td>\n",
       "      <td>oprah winfrey: \"old white people need to just ...</td>\n",
       "    </tr>\n",
       "  </tbody>\n",
       "</table>\n",
       "</div>"
      ],
      "text/plain": [
       "        id  True Label  Label     Proba  Community Multi/Uni  \\\n",
       "6     5429           1      1  0.580428  Fake News     multi   \n",
       "351  38754           1      1  0.795115  Fake News     multi   \n",
       "393  26910           1      0  0.148768  Fake News     multi   \n",
       "642  90875           1      0  0.106388  Fake News       uni   \n",
       "772  81964           1      1  0.772609  Fake News       uni   \n",
       "\n",
       "                                                  Text  \n",
       "6    claims that her ancestors created a safe space...  \n",
       "351  'slavery reparations' has there ever been a mo...  \n",
       "393  \"they are the biggest terrorists in the histor...  \n",
       "642  so obama imports 70,000 somali immigrants and ...  \n",
       "772  oprah winfrey: \"old white people need to just ...  "
      ]
     },
     "execution_count": 59,
     "metadata": {},
     "output_type": "execute_result"
    }
   ],
   "source": [
    "# Total number of hateful Fake News memes\n",
    "FakeNews_sample_h"
   ]
  },
  {
   "cell_type": "code",
   "execution_count": 60,
   "id": "1ac74ac2",
   "metadata": {
    "execution": {
     "iopub.execute_input": "2021-08-25T14:07:31.584485Z",
     "iopub.status.busy": "2021-08-25T14:07:31.583712Z",
     "iopub.status.idle": "2021-08-25T14:07:31.586540Z",
     "shell.execute_reply": "2021-08-25T14:07:31.586950Z",
     "shell.execute_reply.started": "2021-08-25T12:46:45.710212Z"
    },
    "papermill": {
     "duration": 0.120274,
     "end_time": "2021-08-25T14:07:31.587123",
     "exception": false,
     "start_time": "2021-08-25T14:07:31.466849",
     "status": "completed"
    },
    "tags": []
   },
   "outputs": [
    {
     "data": {
      "text/html": [
       "<div>\n",
       "<style scoped>\n",
       "    .dataframe tbody tr th:only-of-type {\n",
       "        vertical-align: middle;\n",
       "    }\n",
       "\n",
       "    .dataframe tbody tr th {\n",
       "        vertical-align: top;\n",
       "    }\n",
       "\n",
       "    .dataframe thead th {\n",
       "        text-align: right;\n",
       "    }\n",
       "</style>\n",
       "<table border=\"1\" class=\"dataframe\">\n",
       "  <thead>\n",
       "    <tr style=\"text-align: right;\">\n",
       "      <th></th>\n",
       "      <th>id</th>\n",
       "      <th>True Label</th>\n",
       "      <th>Label</th>\n",
       "      <th>Proba</th>\n",
       "      <th>Community</th>\n",
       "      <th>Multi/Uni</th>\n",
       "      <th>Text</th>\n",
       "    </tr>\n",
       "  </thead>\n",
       "  <tbody>\n",
       "    <tr>\n",
       "      <th>70</th>\n",
       "      <td>89251</td>\n",
       "      <td>1</td>\n",
       "      <td>1</td>\n",
       "      <td>0.875278</td>\n",
       "      <td>Transgender</td>\n",
       "      <td>uni</td>\n",
       "      <td>sorry i'm late. having tranny problems</td>\n",
       "    </tr>\n",
       "    <tr>\n",
       "      <th>91</th>\n",
       "      <td>26091</td>\n",
       "      <td>1</td>\n",
       "      <td>1</td>\n",
       "      <td>0.578300</td>\n",
       "      <td>Transgender</td>\n",
       "      <td>multi</td>\n",
       "      <td>no to transphobes give trans people peace</td>\n",
       "    </tr>\n",
       "    <tr>\n",
       "      <th>111</th>\n",
       "      <td>51863</td>\n",
       "      <td>1</td>\n",
       "      <td>1</td>\n",
       "      <td>0.784060</td>\n",
       "      <td>Transgender</td>\n",
       "      <td>multi</td>\n",
       "      <td>hey grandma what are you doing ? im sewing a s...</td>\n",
       "    </tr>\n",
       "    <tr>\n",
       "      <th>591</th>\n",
       "      <td>19238</td>\n",
       "      <td>1</td>\n",
       "      <td>1</td>\n",
       "      <td>0.638424</td>\n",
       "      <td>Transgender</td>\n",
       "      <td>multi</td>\n",
       "      <td>when did you decide to gender swap? it started...</td>\n",
       "    </tr>\n",
       "  </tbody>\n",
       "</table>\n",
       "</div>"
      ],
      "text/plain": [
       "        id  True Label  Label     Proba    Community Multi/Uni  \\\n",
       "70   89251           1      1  0.875278  Transgender       uni   \n",
       "91   26091           1      1  0.578300  Transgender     multi   \n",
       "111  51863           1      1  0.784060  Transgender     multi   \n",
       "591  19238           1      1  0.638424  Transgender     multi   \n",
       "\n",
       "                                                  Text  \n",
       "70              sorry i'm late. having tranny problems  \n",
       "91           no to transphobes give trans people peace  \n",
       "111  hey grandma what are you doing ? im sewing a s...  \n",
       "591  when did you decide to gender swap? it started...  "
      ]
     },
     "execution_count": 60,
     "metadata": {},
     "output_type": "execute_result"
    }
   ],
   "source": [
    "TN[TN[\"Community\"] == \"Transgender\"]"
   ]
  },
  {
   "cell_type": "code",
   "execution_count": 61,
   "id": "fe7d4dd0",
   "metadata": {
    "execution": {
     "iopub.execute_input": "2021-08-25T14:07:31.800321Z",
     "iopub.status.busy": "2021-08-25T14:07:31.799694Z",
     "iopub.status.idle": "2021-08-25T14:07:31.814358Z",
     "shell.execute_reply": "2021-08-25T14:07:31.813746Z",
     "shell.execute_reply.started": "2021-08-25T12:46:45.733159Z"
    },
    "papermill": {
     "duration": 0.122647,
     "end_time": "2021-08-25T14:07:31.814492",
     "exception": false,
     "start_time": "2021-08-25T14:07:31.691845",
     "status": "completed"
    },
    "tags": []
   },
   "outputs": [
    {
     "data": {
      "text/html": [
       "<div>\n",
       "<style scoped>\n",
       "    .dataframe tbody tr th:only-of-type {\n",
       "        vertical-align: middle;\n",
       "    }\n",
       "\n",
       "    .dataframe tbody tr th {\n",
       "        vertical-align: top;\n",
       "    }\n",
       "\n",
       "    .dataframe thead th {\n",
       "        text-align: right;\n",
       "    }\n",
       "</style>\n",
       "<table border=\"1\" class=\"dataframe\">\n",
       "  <thead>\n",
       "    <tr style=\"text-align: right;\">\n",
       "      <th></th>\n",
       "      <th>id</th>\n",
       "      <th>True Label</th>\n",
       "      <th>Label</th>\n",
       "      <th>Proba</th>\n",
       "      <th>Community</th>\n",
       "      <th>Multi/Uni</th>\n",
       "      <th>Text</th>\n",
       "    </tr>\n",
       "  </thead>\n",
       "  <tbody>\n",
       "    <tr>\n",
       "      <th>2</th>\n",
       "      <td>94180</td>\n",
       "      <td>1</td>\n",
       "      <td>1</td>\n",
       "      <td>0.897919</td>\n",
       "      <td>LGBT</td>\n",
       "      <td>uni</td>\n",
       "      <td>happy pride month let's go beat up lesbians</td>\n",
       "    </tr>\n",
       "    <tr>\n",
       "      <th>969</th>\n",
       "      <td>93820</td>\n",
       "      <td>1</td>\n",
       "      <td>1</td>\n",
       "      <td>0.826299</td>\n",
       "      <td>LGBT</td>\n",
       "      <td>uni</td>\n",
       "      <td>we should legally be allowed to shoot fat g*y ...</td>\n",
       "    </tr>\n",
       "    <tr>\n",
       "      <th>859</th>\n",
       "      <td>24658</td>\n",
       "      <td>1</td>\n",
       "      <td>1</td>\n",
       "      <td>0.674104</td>\n",
       "      <td>LGBT</td>\n",
       "      <td>uni</td>\n",
       "      <td>silly f@ggots, dicks are for chicks get trump'...</td>\n",
       "    </tr>\n",
       "    <tr>\n",
       "      <th>30</th>\n",
       "      <td>83720</td>\n",
       "      <td>1</td>\n",
       "      <td>1</td>\n",
       "      <td>0.593261</td>\n",
       "      <td>LGBT</td>\n",
       "      <td>uni</td>\n",
       "      <td>banging a squirter not fun for a gay man</td>\n",
       "    </tr>\n",
       "    <tr>\n",
       "      <th>548</th>\n",
       "      <td>92658</td>\n",
       "      <td>1</td>\n",
       "      <td>1</td>\n",
       "      <td>0.580474</td>\n",
       "      <td>LGBT</td>\n",
       "      <td>multi</td>\n",
       "      <td>i found the lgbt hq straight pride</td>\n",
       "    </tr>\n",
       "    <tr>\n",
       "      <th>97</th>\n",
       "      <td>51263</td>\n",
       "      <td>1</td>\n",
       "      <td>1</td>\n",
       "      <td>0.572970</td>\n",
       "      <td>LGBT</td>\n",
       "      <td>multi</td>\n",
       "      <td>gay friends asked for directions told him to g...</td>\n",
       "    </tr>\n",
       "    <tr>\n",
       "      <th>341</th>\n",
       "      <td>84670</td>\n",
       "      <td>1</td>\n",
       "      <td>1</td>\n",
       "      <td>0.551149</td>\n",
       "      <td>LGBT</td>\n",
       "      <td>multi</td>\n",
       "      <td>my local mosque is really going all out for ga...</td>\n",
       "    </tr>\n",
       "    <tr>\n",
       "      <th>791</th>\n",
       "      <td>42958</td>\n",
       "      <td>1</td>\n",
       "      <td>1</td>\n",
       "      <td>0.523294</td>\n",
       "      <td>LGBT</td>\n",
       "      <td>multi</td>\n",
       "      <td>if you wantto find out if you're gay poop in y...</td>\n",
       "    </tr>\n",
       "    <tr>\n",
       "      <th>767</th>\n",
       "      <td>89421</td>\n",
       "      <td>1</td>\n",
       "      <td>1</td>\n",
       "      <td>0.506404</td>\n",
       "      <td>LGBT</td>\n",
       "      <td>uni</td>\n",
       "      <td>say \"no\" to pride month! it's not only the pro...</td>\n",
       "    </tr>\n",
       "  </tbody>\n",
       "</table>\n",
       "</div>"
      ],
      "text/plain": [
       "        id  True Label  Label     Proba Community Multi/Uni  \\\n",
       "2    94180           1      1  0.897919      LGBT       uni   \n",
       "969  93820           1      1  0.826299      LGBT       uni   \n",
       "859  24658           1      1  0.674104      LGBT       uni   \n",
       "30   83720           1      1  0.593261      LGBT       uni   \n",
       "548  92658           1      1  0.580474      LGBT     multi   \n",
       "97   51263           1      1  0.572970      LGBT     multi   \n",
       "341  84670           1      1  0.551149      LGBT     multi   \n",
       "791  42958           1      1  0.523294      LGBT     multi   \n",
       "767  89421           1      1  0.506404      LGBT       uni   \n",
       "\n",
       "                                                  Text  \n",
       "2          happy pride month let's go beat up lesbians  \n",
       "969  we should legally be allowed to shoot fat g*y ...  \n",
       "859  silly f@ggots, dicks are for chicks get trump'...  \n",
       "30            banging a squirter not fun for a gay man  \n",
       "548                 i found the lgbt hq straight pride  \n",
       "97   gay friends asked for directions told him to g...  \n",
       "341  my local mosque is really going all out for ga...  \n",
       "791  if you wantto find out if you're gay poop in y...  \n",
       "767  say \"no\" to pride month! it's not only the pro...  "
      ]
     },
     "execution_count": 61,
     "metadata": {},
     "output_type": "execute_result"
    }
   ],
   "source": [
    "CorCl = TN_sortedFrame[TN_sortedFrame['Community'] == 'LGBT']\n",
    "CorCl.sort_values(\"Proba\")\n",
    "CorCl"
   ]
  },
  {
   "cell_type": "markdown",
   "id": "99737bce",
   "metadata": {
    "papermill": {
     "duration": 0.105224,
     "end_time": "2021-08-25T14:07:32.025845",
     "exception": false,
     "start_time": "2021-08-25T14:07:31.920621",
     "status": "completed"
    },
    "tags": []
   },
   "source": [
    "# Exploring result in FP dataset"
   ]
  },
  {
   "cell_type": "code",
   "execution_count": 62,
   "id": "efd71f2b",
   "metadata": {
    "execution": {
     "iopub.execute_input": "2021-08-25T14:07:32.254232Z",
     "iopub.status.busy": "2021-08-25T14:07:32.253610Z",
     "iopub.status.idle": "2021-08-25T14:07:32.260665Z",
     "shell.execute_reply": "2021-08-25T14:07:32.260219Z",
     "shell.execute_reply.started": "2021-08-25T12:46:45.754821Z"
    },
    "papermill": {
     "duration": 0.128857,
     "end_time": "2021-08-25T14:07:32.260800",
     "exception": false,
     "start_time": "2021-08-25T14:07:32.131943",
     "status": "completed"
    },
    "tags": []
   },
   "outputs": [
    {
     "data": {
      "text/html": [
       "<div>\n",
       "<style scoped>\n",
       "    .dataframe tbody tr th:only-of-type {\n",
       "        vertical-align: middle;\n",
       "    }\n",
       "\n",
       "    .dataframe tbody tr th {\n",
       "        vertical-align: top;\n",
       "    }\n",
       "\n",
       "    .dataframe thead th {\n",
       "        text-align: right;\n",
       "    }\n",
       "</style>\n",
       "<table border=\"1\" class=\"dataframe\">\n",
       "  <thead>\n",
       "    <tr style=\"text-align: right;\">\n",
       "      <th></th>\n",
       "      <th>id</th>\n",
       "      <th>True Label</th>\n",
       "      <th>Label</th>\n",
       "      <th>Proba</th>\n",
       "      <th>Community</th>\n",
       "      <th>Multi/Uni</th>\n",
       "      <th>Text</th>\n",
       "    </tr>\n",
       "  </thead>\n",
       "  <tbody>\n",
       "    <tr>\n",
       "      <th>0</th>\n",
       "      <td>16395</td>\n",
       "      <td>1</td>\n",
       "      <td>0</td>\n",
       "      <td>0.429417</td>\n",
       "      <td>Disable</td>\n",
       "      <td>multi</td>\n",
       "      <td>handjobs sold seperately</td>\n",
       "    </tr>\n",
       "    <tr>\n",
       "      <th>1</th>\n",
       "      <td>37405</td>\n",
       "      <td>1</td>\n",
       "      <td>0</td>\n",
       "      <td>0.489593</td>\n",
       "      <td>Women</td>\n",
       "      <td>multi</td>\n",
       "      <td>introducing fidget spinner for women</td>\n",
       "    </tr>\n",
       "    <tr>\n",
       "      <th>3</th>\n",
       "      <td>54321</td>\n",
       "      <td>1</td>\n",
       "      <td>0</td>\n",
       "      <td>0.271455</td>\n",
       "      <td>Black</td>\n",
       "      <td>multi</td>\n",
       "      <td>laughs in [majority of u.s crime rate]</td>\n",
       "    </tr>\n",
       "    <tr>\n",
       "      <th>4</th>\n",
       "      <td>97015</td>\n",
       "      <td>1</td>\n",
       "      <td>0</td>\n",
       "      <td>0.385270</td>\n",
       "      <td>Musulman</td>\n",
       "      <td>multi</td>\n",
       "      <td>finds out those 72 virgins.. are goats</td>\n",
       "    </tr>\n",
       "    <tr>\n",
       "      <th>5</th>\n",
       "      <td>73506</td>\n",
       "      <td>1</td>\n",
       "      <td>0</td>\n",
       "      <td>0.197662</td>\n",
       "      <td>Musulman</td>\n",
       "      <td>multi</td>\n",
       "      <td>look your dad fucked goats.. i capped him...so...</td>\n",
       "    </tr>\n",
       "    <tr>\n",
       "      <th>...</th>\n",
       "      <td>...</td>\n",
       "      <td>...</td>\n",
       "      <td>...</td>\n",
       "      <td>...</td>\n",
       "      <td>...</td>\n",
       "      <td>...</td>\n",
       "      <td>...</td>\n",
       "    </tr>\n",
       "    <tr>\n",
       "      <th>988</th>\n",
       "      <td>10234</td>\n",
       "      <td>1</td>\n",
       "      <td>0</td>\n",
       "      <td>0.044021</td>\n",
       "      <td>Black</td>\n",
       "      <td>multi</td>\n",
       "      <td>when you've decided to start a life of crime</td>\n",
       "    </tr>\n",
       "    <tr>\n",
       "      <th>989</th>\n",
       "      <td>65948</td>\n",
       "      <td>1</td>\n",
       "      <td>0</td>\n",
       "      <td>0.026274</td>\n",
       "      <td>LGBT</td>\n",
       "      <td>multi</td>\n",
       "      <td>me watching the pride parade</td>\n",
       "    </tr>\n",
       "    <tr>\n",
       "      <th>990</th>\n",
       "      <td>86173</td>\n",
       "      <td>1</td>\n",
       "      <td>0</td>\n",
       "      <td>0.063424</td>\n",
       "      <td>Disable</td>\n",
       "      <td>multi</td>\n",
       "      <td>when i said i wanted a little pussy this is no...</td>\n",
       "    </tr>\n",
       "    <tr>\n",
       "      <th>991</th>\n",
       "      <td>50839</td>\n",
       "      <td>1</td>\n",
       "      <td>0</td>\n",
       "      <td>0.337216</td>\n",
       "      <td>Musulman</td>\n",
       "      <td>multi</td>\n",
       "      <td>\"you think i'm a terrorist but i identify as a...</td>\n",
       "    </tr>\n",
       "    <tr>\n",
       "      <th>992</th>\n",
       "      <td>31405</td>\n",
       "      <td>1</td>\n",
       "      <td>0</td>\n",
       "      <td>0.471853</td>\n",
       "      <td>Black</td>\n",
       "      <td>multi</td>\n",
       "      <td>\"they were uneducated false. they all had thei...</td>\n",
       "    </tr>\n",
       "  </tbody>\n",
       "</table>\n",
       "<p>370 rows × 7 columns</p>\n",
       "</div>"
      ],
      "text/plain": [
       "        id  True Label  Label     Proba Community Multi/Uni  \\\n",
       "0    16395           1      0  0.429417   Disable     multi   \n",
       "1    37405           1      0  0.489593     Women     multi   \n",
       "3    54321           1      0  0.271455     Black     multi   \n",
       "4    97015           1      0  0.385270  Musulman     multi   \n",
       "5    73506           1      0  0.197662  Musulman     multi   \n",
       "..     ...         ...    ...       ...       ...       ...   \n",
       "988  10234           1      0  0.044021     Black     multi   \n",
       "989  65948           1      0  0.026274      LGBT     multi   \n",
       "990  86173           1      0  0.063424   Disable     multi   \n",
       "991  50839           1      0  0.337216  Musulman     multi   \n",
       "992  31405           1      0  0.471853     Black     multi   \n",
       "\n",
       "                                                  Text  \n",
       "0                             handjobs sold seperately  \n",
       "1                 introducing fidget spinner for women  \n",
       "3               laughs in [majority of u.s crime rate]  \n",
       "4               finds out those 72 virgins.. are goats  \n",
       "5    look your dad fucked goats.. i capped him...so...  \n",
       "..                                                 ...  \n",
       "988       when you've decided to start a life of crime  \n",
       "989                       me watching the pride parade  \n",
       "990  when i said i wanted a little pussy this is no...  \n",
       "991  \"you think i'm a terrorist but i identify as a...  \n",
       "992  \"they were uneducated false. they all had thei...  \n",
       "\n",
       "[370 rows x 7 columns]"
      ]
     },
     "execution_count": 62,
     "metadata": {},
     "output_type": "execute_result"
    }
   ],
   "source": [
    "FP"
   ]
  },
  {
   "cell_type": "code",
   "execution_count": 63,
   "id": "d4da250d",
   "metadata": {
    "execution": {
     "iopub.execute_input": "2021-08-25T14:07:32.492049Z",
     "iopub.status.busy": "2021-08-25T14:07:32.491316Z",
     "iopub.status.idle": "2021-08-25T14:07:32.495473Z",
     "shell.execute_reply": "2021-08-25T14:07:32.494884Z",
     "shell.execute_reply.started": "2021-08-25T12:46:45.776926Z"
    },
    "papermill": {
     "duration": 0.127471,
     "end_time": "2021-08-25T14:07:32.495612",
     "exception": false,
     "start_time": "2021-08-25T14:07:32.368141",
     "status": "completed"
    },
    "tags": []
   },
   "outputs": [
    {
     "data": {
      "text/html": [
       "<div>\n",
       "<style scoped>\n",
       "    .dataframe tbody tr th:only-of-type {\n",
       "        vertical-align: middle;\n",
       "    }\n",
       "\n",
       "    .dataframe tbody tr th {\n",
       "        vertical-align: top;\n",
       "    }\n",
       "\n",
       "    .dataframe thead th {\n",
       "        text-align: right;\n",
       "    }\n",
       "</style>\n",
       "<table border=\"1\" class=\"dataframe\">\n",
       "  <thead>\n",
       "    <tr style=\"text-align: right;\">\n",
       "      <th></th>\n",
       "      <th>id</th>\n",
       "      <th>True Label</th>\n",
       "      <th>Label</th>\n",
       "      <th>Proba</th>\n",
       "      <th>Community</th>\n",
       "      <th>Multi/Uni</th>\n",
       "      <th>Text</th>\n",
       "    </tr>\n",
       "  </thead>\n",
       "  <tbody>\n",
       "    <tr>\n",
       "      <th>41</th>\n",
       "      <td>42975</td>\n",
       "      <td>1</td>\n",
       "      <td>0</td>\n",
       "      <td>0.012305</td>\n",
       "      <td>Musulman</td>\n",
       "      <td>multi</td>\n",
       "      <td>when you're still fucked from last night's ben...</td>\n",
       "    </tr>\n",
       "    <tr>\n",
       "      <th>476</th>\n",
       "      <td>90657</td>\n",
       "      <td>1</td>\n",
       "      <td>0</td>\n",
       "      <td>0.015733</td>\n",
       "      <td>Jewish</td>\n",
       "      <td>multi</td>\n",
       "      <td>feeling cute might write a diary later</td>\n",
       "    </tr>\n",
       "    <tr>\n",
       "      <th>989</th>\n",
       "      <td>65948</td>\n",
       "      <td>1</td>\n",
       "      <td>0</td>\n",
       "      <td>0.026274</td>\n",
       "      <td>LGBT</td>\n",
       "      <td>multi</td>\n",
       "      <td>me watching the pride parade</td>\n",
       "    </tr>\n",
       "    <tr>\n",
       "      <th>500</th>\n",
       "      <td>19740</td>\n",
       "      <td>1</td>\n",
       "      <td>0</td>\n",
       "      <td>0.028616</td>\n",
       "      <td>Black</td>\n",
       "      <td>multi</td>\n",
       "      <td>where we were where we are from</td>\n",
       "    </tr>\n",
       "    <tr>\n",
       "      <th>26</th>\n",
       "      <td>93875</td>\n",
       "      <td>1</td>\n",
       "      <td>0</td>\n",
       "      <td>0.034104</td>\n",
       "      <td>LGBT</td>\n",
       "      <td>uni</td>\n",
       "      <td>we live in a society where they lecture us on ...</td>\n",
       "    </tr>\n",
       "    <tr>\n",
       "      <th>80</th>\n",
       "      <td>15473</td>\n",
       "      <td>1</td>\n",
       "      <td>0</td>\n",
       "      <td>0.034651</td>\n",
       "      <td>Disable</td>\n",
       "      <td>multi</td>\n",
       "      <td>i wish i could stand by you!</td>\n",
       "    </tr>\n",
       "    <tr>\n",
       "      <th>28</th>\n",
       "      <td>8261</td>\n",
       "      <td>1</td>\n",
       "      <td>0</td>\n",
       "      <td>0.039625</td>\n",
       "      <td>Inciting Violence</td>\n",
       "      <td>multi</td>\n",
       "      <td>life is like belgium some times you just have ...</td>\n",
       "    </tr>\n",
       "    <tr>\n",
       "      <th>186</th>\n",
       "      <td>94152</td>\n",
       "      <td>1</td>\n",
       "      <td>0</td>\n",
       "      <td>0.041269</td>\n",
       "      <td>Inciting Violence</td>\n",
       "      <td>multi</td>\n",
       "      <td>we make sacrifices for love and peace in future</td>\n",
       "    </tr>\n",
       "    <tr>\n",
       "      <th>863</th>\n",
       "      <td>5978</td>\n",
       "      <td>1</td>\n",
       "      <td>0</td>\n",
       "      <td>0.042738</td>\n",
       "      <td>Black</td>\n",
       "      <td>multi</td>\n",
       "      <td>i think it is safe now challenge accepted</td>\n",
       "    </tr>\n",
       "    <tr>\n",
       "      <th>988</th>\n",
       "      <td>10234</td>\n",
       "      <td>1</td>\n",
       "      <td>0</td>\n",
       "      <td>0.044021</td>\n",
       "      <td>Black</td>\n",
       "      <td>multi</td>\n",
       "      <td>when you've decided to start a life of crime</td>\n",
       "    </tr>\n",
       "    <tr>\n",
       "      <th>657</th>\n",
       "      <td>18430</td>\n",
       "      <td>1</td>\n",
       "      <td>0</td>\n",
       "      <td>0.044401</td>\n",
       "      <td>Black</td>\n",
       "      <td>multi</td>\n",
       "      <td>share a coke with your dad</td>\n",
       "    </tr>\n",
       "    <tr>\n",
       "      <th>735</th>\n",
       "      <td>23197</td>\n",
       "      <td>1</td>\n",
       "      <td>0</td>\n",
       "      <td>0.044494</td>\n",
       "      <td>Black</td>\n",
       "      <td>multi</td>\n",
       "      <td>\"beats by dre beats by tyrone</td>\n",
       "    </tr>\n",
       "    <tr>\n",
       "      <th>153</th>\n",
       "      <td>60175</td>\n",
       "      <td>1</td>\n",
       "      <td>0</td>\n",
       "      <td>0.046956</td>\n",
       "      <td>Black</td>\n",
       "      <td>multi</td>\n",
       "      <td>we are never going to have social change until...</td>\n",
       "    </tr>\n",
       "    <tr>\n",
       "      <th>509</th>\n",
       "      <td>89140</td>\n",
       "      <td>1</td>\n",
       "      <td>0</td>\n",
       "      <td>0.048098</td>\n",
       "      <td>Jewish</td>\n",
       "      <td>multi</td>\n",
       "      <td>burning things that don't mean anything to you</td>\n",
       "    </tr>\n",
       "    <tr>\n",
       "      <th>513</th>\n",
       "      <td>87532</td>\n",
       "      <td>1</td>\n",
       "      <td>0</td>\n",
       "      <td>0.053443</td>\n",
       "      <td>Jewish</td>\n",
       "      <td>multi</td>\n",
       "      <td>not the shower we deserved but the shower we n...</td>\n",
       "    </tr>\n",
       "    <tr>\n",
       "      <th>804</th>\n",
       "      <td>42351</td>\n",
       "      <td>1</td>\n",
       "      <td>0</td>\n",
       "      <td>0.053616</td>\n",
       "      <td>Musulman</td>\n",
       "      <td>multi</td>\n",
       "      <td>we are not here to be part of america we are h...</td>\n",
       "    </tr>\n",
       "    <tr>\n",
       "      <th>771</th>\n",
       "      <td>14375</td>\n",
       "      <td>1</td>\n",
       "      <td>0</td>\n",
       "      <td>0.054624</td>\n",
       "      <td>Jewish</td>\n",
       "      <td>multi</td>\n",
       "      <td>wait a sec are u trying to gas me again</td>\n",
       "    </tr>\n",
       "    <tr>\n",
       "      <th>959</th>\n",
       "      <td>31985</td>\n",
       "      <td>1</td>\n",
       "      <td>0</td>\n",
       "      <td>0.056807</td>\n",
       "      <td>Black</td>\n",
       "      <td>multi</td>\n",
       "      <td>when your dad comes to career day and starts h...</td>\n",
       "    </tr>\n",
       "    <tr>\n",
       "      <th>54</th>\n",
       "      <td>2356</td>\n",
       "      <td>1</td>\n",
       "      <td>0</td>\n",
       "      <td>0.060696</td>\n",
       "      <td>Black</td>\n",
       "      <td>multi</td>\n",
       "      <td>if i was arrested what do u think i got arrest...</td>\n",
       "    </tr>\n",
       "    <tr>\n",
       "      <th>205</th>\n",
       "      <td>68594</td>\n",
       "      <td>1</td>\n",
       "      <td>0</td>\n",
       "      <td>0.062033</td>\n",
       "      <td>Jewish</td>\n",
       "      <td>multi</td>\n",
       "      <td>when you make history by locking up you diary</td>\n",
       "    </tr>\n",
       "  </tbody>\n",
       "</table>\n",
       "</div>"
      ],
      "text/plain": [
       "        id  True Label  Label     Proba          Community Multi/Uni  \\\n",
       "41   42975           1      0  0.012305           Musulman     multi   \n",
       "476  90657           1      0  0.015733             Jewish     multi   \n",
       "989  65948           1      0  0.026274               LGBT     multi   \n",
       "500  19740           1      0  0.028616              Black     multi   \n",
       "26   93875           1      0  0.034104               LGBT       uni   \n",
       "80   15473           1      0  0.034651            Disable     multi   \n",
       "28    8261           1      0  0.039625  Inciting Violence     multi   \n",
       "186  94152           1      0  0.041269  Inciting Violence     multi   \n",
       "863   5978           1      0  0.042738              Black     multi   \n",
       "988  10234           1      0  0.044021              Black     multi   \n",
       "657  18430           1      0  0.044401              Black     multi   \n",
       "735  23197           1      0  0.044494              Black     multi   \n",
       "153  60175           1      0  0.046956              Black     multi   \n",
       "509  89140           1      0  0.048098             Jewish     multi   \n",
       "513  87532           1      0  0.053443             Jewish     multi   \n",
       "804  42351           1      0  0.053616           Musulman     multi   \n",
       "771  14375           1      0  0.054624             Jewish     multi   \n",
       "959  31985           1      0  0.056807              Black     multi   \n",
       "54    2356           1      0  0.060696              Black     multi   \n",
       "205  68594           1      0  0.062033             Jewish     multi   \n",
       "\n",
       "                                                  Text  \n",
       "41   when you're still fucked from last night's ben...  \n",
       "476             feeling cute might write a diary later  \n",
       "989                       me watching the pride parade  \n",
       "500                    where we were where we are from  \n",
       "26   we live in a society where they lecture us on ...  \n",
       "80                        i wish i could stand by you!  \n",
       "28   life is like belgium some times you just have ...  \n",
       "186    we make sacrifices for love and peace in future  \n",
       "863          i think it is safe now challenge accepted  \n",
       "988       when you've decided to start a life of crime  \n",
       "657                         share a coke with your dad  \n",
       "735                      \"beats by dre beats by tyrone  \n",
       "153  we are never going to have social change until...  \n",
       "509     burning things that don't mean anything to you  \n",
       "513  not the shower we deserved but the shower we n...  \n",
       "804  we are not here to be part of america we are h...  \n",
       "771            wait a sec are u trying to gas me again  \n",
       "959  when your dad comes to career day and starts h...  \n",
       "54   if i was arrested what do u think i got arrest...  \n",
       "205      when you make history by locking up you diary  "
      ]
     },
     "execution_count": 63,
     "metadata": {},
     "output_type": "execute_result"
    }
   ],
   "source": [
    "FP_sortedFrame = FP.sort_values(\"Proba\")\n",
    "FP_sortedFrame.head(20)"
   ]
  },
  {
   "cell_type": "code",
   "execution_count": 64,
   "id": "15c37d9e",
   "metadata": {
    "execution": {
     "iopub.execute_input": "2021-08-25T14:07:32.730417Z",
     "iopub.status.busy": "2021-08-25T14:07:32.729781Z",
     "iopub.status.idle": "2021-08-25T14:07:32.734407Z",
     "shell.execute_reply": "2021-08-25T14:07:32.733933Z",
     "shell.execute_reply.started": "2021-08-25T12:46:45.804066Z"
    },
    "papermill": {
     "duration": 0.13133,
     "end_time": "2021-08-25T14:07:32.734542",
     "exception": false,
     "start_time": "2021-08-25T14:07:32.603212",
     "status": "completed"
    },
    "tags": []
   },
   "outputs": [
    {
     "data": {
      "text/html": [
       "<div>\n",
       "<style scoped>\n",
       "    .dataframe tbody tr th:only-of-type {\n",
       "        vertical-align: middle;\n",
       "    }\n",
       "\n",
       "    .dataframe tbody tr th {\n",
       "        vertical-align: top;\n",
       "    }\n",
       "\n",
       "    .dataframe thead th {\n",
       "        text-align: right;\n",
       "    }\n",
       "</style>\n",
       "<table border=\"1\" class=\"dataframe\">\n",
       "  <thead>\n",
       "    <tr style=\"text-align: right;\">\n",
       "      <th></th>\n",
       "      <th>id</th>\n",
       "      <th>True Label</th>\n",
       "      <th>Label</th>\n",
       "      <th>Proba</th>\n",
       "      <th>Community</th>\n",
       "      <th>Multi/Uni</th>\n",
       "      <th>Text</th>\n",
       "    </tr>\n",
       "  </thead>\n",
       "  <tbody>\n",
       "    <tr>\n",
       "      <th>476</th>\n",
       "      <td>90657</td>\n",
       "      <td>1</td>\n",
       "      <td>0</td>\n",
       "      <td>0.015733</td>\n",
       "      <td>Jewish</td>\n",
       "      <td>multi</td>\n",
       "      <td>feeling cute might write a diary later</td>\n",
       "    </tr>\n",
       "    <tr>\n",
       "      <th>509</th>\n",
       "      <td>89140</td>\n",
       "      <td>1</td>\n",
       "      <td>0</td>\n",
       "      <td>0.048098</td>\n",
       "      <td>Jewish</td>\n",
       "      <td>multi</td>\n",
       "      <td>burning things that don't mean anything to you</td>\n",
       "    </tr>\n",
       "    <tr>\n",
       "      <th>513</th>\n",
       "      <td>87532</td>\n",
       "      <td>1</td>\n",
       "      <td>0</td>\n",
       "      <td>0.053443</td>\n",
       "      <td>Jewish</td>\n",
       "      <td>multi</td>\n",
       "      <td>not the shower we deserved but the shower we n...</td>\n",
       "    </tr>\n",
       "    <tr>\n",
       "      <th>771</th>\n",
       "      <td>14375</td>\n",
       "      <td>1</td>\n",
       "      <td>0</td>\n",
       "      <td>0.054624</td>\n",
       "      <td>Jewish</td>\n",
       "      <td>multi</td>\n",
       "      <td>wait a sec are u trying to gas me again</td>\n",
       "    </tr>\n",
       "    <tr>\n",
       "      <th>205</th>\n",
       "      <td>68594</td>\n",
       "      <td>1</td>\n",
       "      <td>0</td>\n",
       "      <td>0.062033</td>\n",
       "      <td>Jewish</td>\n",
       "      <td>multi</td>\n",
       "      <td>when you make history by locking up you diary</td>\n",
       "    </tr>\n",
       "    <tr>\n",
       "      <th>488</th>\n",
       "      <td>51928</td>\n",
       "      <td>1</td>\n",
       "      <td>0</td>\n",
       "      <td>0.063256</td>\n",
       "      <td>Jewish</td>\n",
       "      <td>multi</td>\n",
       "      <td>i could have annihilated all of them but i lef...</td>\n",
       "    </tr>\n",
       "    <tr>\n",
       "      <th>328</th>\n",
       "      <td>17904</td>\n",
       "      <td>1</td>\n",
       "      <td>0</td>\n",
       "      <td>0.078507</td>\n",
       "      <td>Jewish</td>\n",
       "      <td>multi</td>\n",
       "      <td>today i feel so hot don't you?</td>\n",
       "    </tr>\n",
       "    <tr>\n",
       "      <th>718</th>\n",
       "      <td>29863</td>\n",
       "      <td>1</td>\n",
       "      <td>0</td>\n",
       "      <td>0.088010</td>\n",
       "      <td>Jewish</td>\n",
       "      <td>multi</td>\n",
       "      <td>when your parents ask why the gas bill is so high</td>\n",
       "    </tr>\n",
       "    <tr>\n",
       "      <th>243</th>\n",
       "      <td>7396</td>\n",
       "      <td>1</td>\n",
       "      <td>0</td>\n",
       "      <td>0.091589</td>\n",
       "      <td>Jewish</td>\n",
       "      <td>multi</td>\n",
       "      <td>this project is tough but it will save the world</td>\n",
       "    </tr>\n",
       "    <tr>\n",
       "      <th>472</th>\n",
       "      <td>45139</td>\n",
       "      <td>1</td>\n",
       "      <td>0</td>\n",
       "      <td>0.121673</td>\n",
       "      <td>Jewish</td>\n",
       "      <td>multi</td>\n",
       "      <td>this is the worst cancer i've ever seen</td>\n",
       "    </tr>\n",
       "    <tr>\n",
       "      <th>927</th>\n",
       "      <td>34297</td>\n",
       "      <td>1</td>\n",
       "      <td>0</td>\n",
       "      <td>0.141098</td>\n",
       "      <td>Jewish</td>\n",
       "      <td>multi</td>\n",
       "      <td>feeling cute. might kill 6 million later...idk</td>\n",
       "    </tr>\n",
       "    <tr>\n",
       "      <th>117</th>\n",
       "      <td>59423</td>\n",
       "      <td>1</td>\n",
       "      <td>0</td>\n",
       "      <td>0.153413</td>\n",
       "      <td>Jewish</td>\n",
       "      <td>multi</td>\n",
       "      <td>mmm what's cooking</td>\n",
       "    </tr>\n",
       "    <tr>\n",
       "      <th>112</th>\n",
       "      <td>2584</td>\n",
       "      <td>1</td>\n",
       "      <td>0</td>\n",
       "      <td>0.154283</td>\n",
       "      <td>Jewish</td>\n",
       "      <td>multi</td>\n",
       "      <td>imagine being so disugsting there have to be l...</td>\n",
       "    </tr>\n",
       "    <tr>\n",
       "      <th>55</th>\n",
       "      <td>91806</td>\n",
       "      <td>1</td>\n",
       "      <td>0</td>\n",
       "      <td>0.158146</td>\n",
       "      <td>Jewish</td>\n",
       "      <td>multi</td>\n",
       "      <td>gas yourself</td>\n",
       "    </tr>\n",
       "    <tr>\n",
       "      <th>37</th>\n",
       "      <td>86394</td>\n",
       "      <td>1</td>\n",
       "      <td>0</td>\n",
       "      <td>0.160927</td>\n",
       "      <td>Jewish</td>\n",
       "      <td>multi</td>\n",
       "      <td>had secret door before it was cool</td>\n",
       "    </tr>\n",
       "    <tr>\n",
       "      <th>110</th>\n",
       "      <td>70143</td>\n",
       "      <td>1</td>\n",
       "      <td>0</td>\n",
       "      <td>0.179788</td>\n",
       "      <td>Jewish</td>\n",
       "      <td>multi</td>\n",
       "      <td>when you unlock a new skin for your character</td>\n",
       "    </tr>\n",
       "    <tr>\n",
       "      <th>204</th>\n",
       "      <td>30154</td>\n",
       "      <td>1</td>\n",
       "      <td>0</td>\n",
       "      <td>0.188978</td>\n",
       "      <td>Jewish</td>\n",
       "      <td>multi</td>\n",
       "      <td>you should thank me for what i've done, there ...</td>\n",
       "    </tr>\n",
       "    <tr>\n",
       "      <th>462</th>\n",
       "      <td>10649</td>\n",
       "      <td>1</td>\n",
       "      <td>0</td>\n",
       "      <td>0.196234</td>\n",
       "      <td>Jewish</td>\n",
       "      <td>multi</td>\n",
       "      <td>straight outta oven</td>\n",
       "    </tr>\n",
       "    <tr>\n",
       "      <th>781</th>\n",
       "      <td>89250</td>\n",
       "      <td>1</td>\n",
       "      <td>0</td>\n",
       "      <td>0.198475</td>\n",
       "      <td>Jewish</td>\n",
       "      <td>multi</td>\n",
       "      <td>when you start burning calories instead of people</td>\n",
       "    </tr>\n",
       "    <tr>\n",
       "      <th>468</th>\n",
       "      <td>87924</td>\n",
       "      <td>1</td>\n",
       "      <td>0</td>\n",
       "      <td>0.214051</td>\n",
       "      <td>Jewish</td>\n",
       "      <td>multi</td>\n",
       "      <td>gods chosen terrorists</td>\n",
       "    </tr>\n",
       "    <tr>\n",
       "      <th>29</th>\n",
       "      <td>60823</td>\n",
       "      <td>1</td>\n",
       "      <td>0</td>\n",
       "      <td>0.232919</td>\n",
       "      <td>Jewish</td>\n",
       "      <td>multi</td>\n",
       "      <td>why are we smart? because we went to camps!</td>\n",
       "    </tr>\n",
       "    <tr>\n",
       "      <th>57</th>\n",
       "      <td>1627</td>\n",
       "      <td>1</td>\n",
       "      <td>0</td>\n",
       "      <td>0.238384</td>\n",
       "      <td>Jewish</td>\n",
       "      <td>multi</td>\n",
       "      <td>jew jerky: leave out in the sun until all mois...</td>\n",
       "    </tr>\n",
       "    <tr>\n",
       "      <th>855</th>\n",
       "      <td>47180</td>\n",
       "      <td>1</td>\n",
       "      <td>0</td>\n",
       "      <td>0.252686</td>\n",
       "      <td>Jewish</td>\n",
       "      <td>multi</td>\n",
       "      <td>and that's why i gas people</td>\n",
       "    </tr>\n",
       "    <tr>\n",
       "      <th>383</th>\n",
       "      <td>28716</td>\n",
       "      <td>1</td>\n",
       "      <td>0</td>\n",
       "      <td>0.274286</td>\n",
       "      <td>Jewish</td>\n",
       "      <td>multi</td>\n",
       "      <td>can you smell what the reich is cooking?</td>\n",
       "    </tr>\n",
       "    <tr>\n",
       "      <th>471</th>\n",
       "      <td>52719</td>\n",
       "      <td>1</td>\n",
       "      <td>0</td>\n",
       "      <td>0.274286</td>\n",
       "      <td>Jewish</td>\n",
       "      <td>multi</td>\n",
       "      <td>can you smell what the reich is cooking?</td>\n",
       "    </tr>\n",
       "    <tr>\n",
       "      <th>316</th>\n",
       "      <td>47265</td>\n",
       "      <td>1</td>\n",
       "      <td>0</td>\n",
       "      <td>0.283001</td>\n",
       "      <td>Jewish</td>\n",
       "      <td>uni</td>\n",
       "      <td>andy's coming</td>\n",
       "    </tr>\n",
       "    <tr>\n",
       "      <th>145</th>\n",
       "      <td>18453</td>\n",
       "      <td>1</td>\n",
       "      <td>0</td>\n",
       "      <td>0.283671</td>\n",
       "      <td>Jewish</td>\n",
       "      <td>multi</td>\n",
       "      <td>when i grow up i want to be a gas plumber</td>\n",
       "    </tr>\n",
       "    <tr>\n",
       "      <th>377</th>\n",
       "      <td>81075</td>\n",
       "      <td>1</td>\n",
       "      <td>0</td>\n",
       "      <td>0.294635</td>\n",
       "      <td>Jewish</td>\n",
       "      <td>multi</td>\n",
       "      <td>they're not alllll rapists... right?</td>\n",
       "    </tr>\n",
       "    <tr>\n",
       "      <th>257</th>\n",
       "      <td>93145</td>\n",
       "      <td>1</td>\n",
       "      <td>0</td>\n",
       "      <td>0.298695</td>\n",
       "      <td>Jewish</td>\n",
       "      <td>multi</td>\n",
       "      <td>when when germans try to dab</td>\n",
       "    </tr>\n",
       "    <tr>\n",
       "      <th>495</th>\n",
       "      <td>26531</td>\n",
       "      <td>1</td>\n",
       "      <td>0</td>\n",
       "      <td>0.298923</td>\n",
       "      <td>Jewish</td>\n",
       "      <td>multi</td>\n",
       "      <td>millions of kills, 1 death what a fucking camper</td>\n",
       "    </tr>\n",
       "    <tr>\n",
       "      <th>832</th>\n",
       "      <td>60721</td>\n",
       "      <td>1</td>\n",
       "      <td>0</td>\n",
       "      <td>0.300524</td>\n",
       "      <td>Jewish</td>\n",
       "      <td>multi</td>\n",
       "      <td>when you see the gas bill</td>\n",
       "    </tr>\n",
       "    <tr>\n",
       "      <th>728</th>\n",
       "      <td>84395</td>\n",
       "      <td>1</td>\n",
       "      <td>0</td>\n",
       "      <td>0.307319</td>\n",
       "      <td>Jewish</td>\n",
       "      <td>multi</td>\n",
       "      <td>how to pick up a girl from auschwitz</td>\n",
       "    </tr>\n",
       "    <tr>\n",
       "      <th>423</th>\n",
       "      <td>74813</td>\n",
       "      <td>1</td>\n",
       "      <td>0</td>\n",
       "      <td>0.327982</td>\n",
       "      <td>Jewish</td>\n",
       "      <td>multi</td>\n",
       "      <td>a little gas never killed anybody right?</td>\n",
       "    </tr>\n",
       "    <tr>\n",
       "      <th>364</th>\n",
       "      <td>14602</td>\n",
       "      <td>1</td>\n",
       "      <td>0</td>\n",
       "      <td>0.328365</td>\n",
       "      <td>Jewish</td>\n",
       "      <td>multi</td>\n",
       "      <td>best polish removers</td>\n",
       "    </tr>\n",
       "    <tr>\n",
       "      <th>16</th>\n",
       "      <td>96082</td>\n",
       "      <td>1</td>\n",
       "      <td>0</td>\n",
       "      <td>0.334832</td>\n",
       "      <td>Jewish</td>\n",
       "      <td>multi</td>\n",
       "      <td>then he said i couldn't come to the barbecue b...</td>\n",
       "    </tr>\n",
       "    <tr>\n",
       "      <th>858</th>\n",
       "      <td>94302</td>\n",
       "      <td>1</td>\n",
       "      <td>0</td>\n",
       "      <td>0.345023</td>\n",
       "      <td>Jewish</td>\n",
       "      <td>multi</td>\n",
       "      <td>we can end racism if we end a race</td>\n",
       "    </tr>\n",
       "    <tr>\n",
       "      <th>93</th>\n",
       "      <td>98653</td>\n",
       "      <td>1</td>\n",
       "      <td>0</td>\n",
       "      <td>0.353270</td>\n",
       "      <td>Jewish</td>\n",
       "      <td>multi</td>\n",
       "      <td>what's that burning? oh it's my family</td>\n",
       "    </tr>\n",
       "    <tr>\n",
       "      <th>983</th>\n",
       "      <td>31805</td>\n",
       "      <td>1</td>\n",
       "      <td>0</td>\n",
       "      <td>0.434027</td>\n",
       "      <td>Jewish</td>\n",
       "      <td>uni</td>\n",
       "      <td>what if hitler was the second coming of jesus ...</td>\n",
       "    </tr>\n",
       "    <tr>\n",
       "      <th>338</th>\n",
       "      <td>37289</td>\n",
       "      <td>1</td>\n",
       "      <td>0</td>\n",
       "      <td>0.435622</td>\n",
       "      <td>Jewish</td>\n",
       "      <td>uni</td>\n",
       "      <td>hitler be like i deserve to be in heaven i kne...</td>\n",
       "    </tr>\n",
       "    <tr>\n",
       "      <th>670</th>\n",
       "      <td>71532</td>\n",
       "      <td>1</td>\n",
       "      <td>0</td>\n",
       "      <td>0.438900</td>\n",
       "      <td>Jewish</td>\n",
       "      <td>multi</td>\n",
       "      <td>kills: 17 million, deaths: 1 fucking camper</td>\n",
       "    </tr>\n",
       "    <tr>\n",
       "      <th>496</th>\n",
       "      <td>87390</td>\n",
       "      <td>1</td>\n",
       "      <td>0</td>\n",
       "      <td>0.442907</td>\n",
       "      <td>Jewish</td>\n",
       "      <td>multi</td>\n",
       "      <td>when you so savage you roast a whole race</td>\n",
       "    </tr>\n",
       "    <tr>\n",
       "      <th>358</th>\n",
       "      <td>7612</td>\n",
       "      <td>1</td>\n",
       "      <td>0</td>\n",
       "      <td>0.477693</td>\n",
       "      <td>Jewish</td>\n",
       "      <td>multi</td>\n",
       "      <td>what is that wonderful smell? it smells like.....</td>\n",
       "    </tr>\n",
       "    <tr>\n",
       "      <th>696</th>\n",
       "      <td>15097</td>\n",
       "      <td>1</td>\n",
       "      <td>0</td>\n",
       "      <td>0.499682</td>\n",
       "      <td>Jewish</td>\n",
       "      <td>multi</td>\n",
       "      <td>you forgot a comma? i forgot your parents were...</td>\n",
       "    </tr>\n",
       "  </tbody>\n",
       "</table>\n",
       "</div>"
      ],
      "text/plain": [
       "        id  True Label  Label     Proba Community Multi/Uni  \\\n",
       "476  90657           1      0  0.015733    Jewish     multi   \n",
       "509  89140           1      0  0.048098    Jewish     multi   \n",
       "513  87532           1      0  0.053443    Jewish     multi   \n",
       "771  14375           1      0  0.054624    Jewish     multi   \n",
       "205  68594           1      0  0.062033    Jewish     multi   \n",
       "488  51928           1      0  0.063256    Jewish     multi   \n",
       "328  17904           1      0  0.078507    Jewish     multi   \n",
       "718  29863           1      0  0.088010    Jewish     multi   \n",
       "243   7396           1      0  0.091589    Jewish     multi   \n",
       "472  45139           1      0  0.121673    Jewish     multi   \n",
       "927  34297           1      0  0.141098    Jewish     multi   \n",
       "117  59423           1      0  0.153413    Jewish     multi   \n",
       "112   2584           1      0  0.154283    Jewish     multi   \n",
       "55   91806           1      0  0.158146    Jewish     multi   \n",
       "37   86394           1      0  0.160927    Jewish     multi   \n",
       "110  70143           1      0  0.179788    Jewish     multi   \n",
       "204  30154           1      0  0.188978    Jewish     multi   \n",
       "462  10649           1      0  0.196234    Jewish     multi   \n",
       "781  89250           1      0  0.198475    Jewish     multi   \n",
       "468  87924           1      0  0.214051    Jewish     multi   \n",
       "29   60823           1      0  0.232919    Jewish     multi   \n",
       "57    1627           1      0  0.238384    Jewish     multi   \n",
       "855  47180           1      0  0.252686    Jewish     multi   \n",
       "383  28716           1      0  0.274286    Jewish     multi   \n",
       "471  52719           1      0  0.274286    Jewish     multi   \n",
       "316  47265           1      0  0.283001    Jewish       uni   \n",
       "145  18453           1      0  0.283671    Jewish     multi   \n",
       "377  81075           1      0  0.294635    Jewish     multi   \n",
       "257  93145           1      0  0.298695    Jewish     multi   \n",
       "495  26531           1      0  0.298923    Jewish     multi   \n",
       "832  60721           1      0  0.300524    Jewish     multi   \n",
       "728  84395           1      0  0.307319    Jewish     multi   \n",
       "423  74813           1      0  0.327982    Jewish     multi   \n",
       "364  14602           1      0  0.328365    Jewish     multi   \n",
       "16   96082           1      0  0.334832    Jewish     multi   \n",
       "858  94302           1      0  0.345023    Jewish     multi   \n",
       "93   98653           1      0  0.353270    Jewish     multi   \n",
       "983  31805           1      0  0.434027    Jewish       uni   \n",
       "338  37289           1      0  0.435622    Jewish       uni   \n",
       "670  71532           1      0  0.438900    Jewish     multi   \n",
       "496  87390           1      0  0.442907    Jewish     multi   \n",
       "358   7612           1      0  0.477693    Jewish     multi   \n",
       "696  15097           1      0  0.499682    Jewish     multi   \n",
       "\n",
       "                                                  Text  \n",
       "476             feeling cute might write a diary later  \n",
       "509     burning things that don't mean anything to you  \n",
       "513  not the shower we deserved but the shower we n...  \n",
       "771            wait a sec are u trying to gas me again  \n",
       "205      when you make history by locking up you diary  \n",
       "488  i could have annihilated all of them but i lef...  \n",
       "328                     today i feel so hot don't you?  \n",
       "718  when your parents ask why the gas bill is so high  \n",
       "243   this project is tough but it will save the world  \n",
       "472            this is the worst cancer i've ever seen  \n",
       "927     feeling cute. might kill 6 million later...idk  \n",
       "117                                 mmm what's cooking  \n",
       "112  imagine being so disugsting there have to be l...  \n",
       "55                                        gas yourself  \n",
       "37                  had secret door before it was cool  \n",
       "110      when you unlock a new skin for your character  \n",
       "204  you should thank me for what i've done, there ...  \n",
       "462                                straight outta oven  \n",
       "781  when you start burning calories instead of people  \n",
       "468                             gods chosen terrorists  \n",
       "29         why are we smart? because we went to camps!  \n",
       "57   jew jerky: leave out in the sun until all mois...  \n",
       "855                        and that's why i gas people  \n",
       "383           can you smell what the reich is cooking?  \n",
       "471           can you smell what the reich is cooking?  \n",
       "316                                      andy's coming  \n",
       "145          when i grow up i want to be a gas plumber  \n",
       "377               they're not alllll rapists... right?  \n",
       "257                       when when germans try to dab  \n",
       "495   millions of kills, 1 death what a fucking camper  \n",
       "832                          when you see the gas bill  \n",
       "728               how to pick up a girl from auschwitz  \n",
       "423           a little gas never killed anybody right?  \n",
       "364                               best polish removers  \n",
       "16   then he said i couldn't come to the barbecue b...  \n",
       "858                 we can end racism if we end a race  \n",
       "93              what's that burning? oh it's my family  \n",
       "983  what if hitler was the second coming of jesus ...  \n",
       "338  hitler be like i deserve to be in heaven i kne...  \n",
       "670        kills: 17 million, deaths: 1 fucking camper  \n",
       "496          when you so savage you roast a whole race  \n",
       "358  what is that wonderful smell? it smells like.....  \n",
       "696  you forgot a comma? i forgot your parents were...  "
      ]
     },
     "execution_count": 64,
     "metadata": {},
     "output_type": "execute_result"
    }
   ],
   "source": [
    "MissCl = FP_sortedFrame[FP_sortedFrame['Community'] == 'Jewish']\n",
    "MissCl.sort_values(\"Proba\")\n",
    "MissCl"
   ]
  },
  {
   "cell_type": "code",
   "execution_count": 65,
   "id": "8e6d4d5e",
   "metadata": {
    "execution": {
     "iopub.execute_input": "2021-08-25T14:07:32.966034Z",
     "iopub.status.busy": "2021-08-25T14:07:32.965398Z",
     "iopub.status.idle": "2021-08-25T14:07:32.969651Z",
     "shell.execute_reply": "2021-08-25T14:07:32.969185Z",
     "shell.execute_reply.started": "2021-08-25T12:46:45.839803Z"
    },
    "papermill": {
     "duration": 0.124861,
     "end_time": "2021-08-25T14:07:32.969780",
     "exception": false,
     "start_time": "2021-08-25T14:07:32.844919",
     "status": "completed"
    },
    "tags": []
   },
   "outputs": [
    {
     "data": {
      "text/html": [
       "<div>\n",
       "<style scoped>\n",
       "    .dataframe tbody tr th:only-of-type {\n",
       "        vertical-align: middle;\n",
       "    }\n",
       "\n",
       "    .dataframe tbody tr th {\n",
       "        vertical-align: top;\n",
       "    }\n",
       "\n",
       "    .dataframe thead th {\n",
       "        text-align: right;\n",
       "    }\n",
       "</style>\n",
       "<table border=\"1\" class=\"dataframe\">\n",
       "  <thead>\n",
       "    <tr style=\"text-align: right;\">\n",
       "      <th></th>\n",
       "      <th>id</th>\n",
       "      <th>True Label</th>\n",
       "      <th>Label</th>\n",
       "      <th>Proba</th>\n",
       "      <th>Community</th>\n",
       "      <th>Multi/Uni</th>\n",
       "      <th>Text</th>\n",
       "    </tr>\n",
       "  </thead>\n",
       "  <tbody>\n",
       "    <tr>\n",
       "      <th>10</th>\n",
       "      <td>43728</td>\n",
       "      <td>1</td>\n",
       "      <td>0</td>\n",
       "      <td>0.384597</td>\n",
       "      <td>Transgender</td>\n",
       "      <td>multi</td>\n",
       "      <td>bruce jenner's cat</td>\n",
       "    </tr>\n",
       "    <tr>\n",
       "      <th>71</th>\n",
       "      <td>2789</td>\n",
       "      <td>1</td>\n",
       "      <td>0</td>\n",
       "      <td>0.151258</td>\n",
       "      <td>Transgender</td>\n",
       "      <td>multi</td>\n",
       "      <td>when you got a warrant out for your arrest &amp; y...</td>\n",
       "    </tr>\n",
       "    <tr>\n",
       "      <th>378</th>\n",
       "      <td>73049</td>\n",
       "      <td>1</td>\n",
       "      <td>0</td>\n",
       "      <td>0.151463</td>\n",
       "      <td>Transgender</td>\n",
       "      <td>multi</td>\n",
       "      <td>i was asked who my favourite x-men character w...</td>\n",
       "    </tr>\n",
       "    <tr>\n",
       "      <th>407</th>\n",
       "      <td>5461</td>\n",
       "      <td>1</td>\n",
       "      <td>0</td>\n",
       "      <td>0.287013</td>\n",
       "      <td>Transgender</td>\n",
       "      <td>uni</td>\n",
       "      <td>me, an air force intellectual watching some ma...</td>\n",
       "    </tr>\n",
       "    <tr>\n",
       "      <th>463</th>\n",
       "      <td>62509</td>\n",
       "      <td>1</td>\n",
       "      <td>0</td>\n",
       "      <td>0.402599</td>\n",
       "      <td>Transgender</td>\n",
       "      <td>multi</td>\n",
       "      <td>hot sports car for sale includes partially reb...</td>\n",
       "    </tr>\n",
       "    <tr>\n",
       "      <th>644</th>\n",
       "      <td>28196</td>\n",
       "      <td>1</td>\n",
       "      <td>0</td>\n",
       "      <td>0.062502</td>\n",
       "      <td>Transgender</td>\n",
       "      <td>multi</td>\n",
       "      <td>the woman you met who admits she's wrong, apol...</td>\n",
       "    </tr>\n",
       "    <tr>\n",
       "      <th>645</th>\n",
       "      <td>8716</td>\n",
       "      <td>1</td>\n",
       "      <td>0</td>\n",
       "      <td>0.462029</td>\n",
       "      <td>Transgender</td>\n",
       "      <td>multi</td>\n",
       "      <td>for decades bruce fondled her this just in cai...</td>\n",
       "    </tr>\n",
       "    <tr>\n",
       "      <th>686</th>\n",
       "      <td>21065</td>\n",
       "      <td>1</td>\n",
       "      <td>0</td>\n",
       "      <td>0.295632</td>\n",
       "      <td>Transgender</td>\n",
       "      <td>uni</td>\n",
       "      <td>i just squirted tranny fluid</td>\n",
       "    </tr>\n",
       "    <tr>\n",
       "      <th>935</th>\n",
       "      <td>80231</td>\n",
       "      <td>1</td>\n",
       "      <td>0</td>\n",
       "      <td>0.105091</td>\n",
       "      <td>Transgender</td>\n",
       "      <td>multi</td>\n",
       "      <td>transrepublican identifies as a republican, bu...</td>\n",
       "    </tr>\n",
       "  </tbody>\n",
       "</table>\n",
       "</div>"
      ],
      "text/plain": [
       "        id  True Label  Label     Proba    Community Multi/Uni  \\\n",
       "10   43728           1      0  0.384597  Transgender     multi   \n",
       "71    2789           1      0  0.151258  Transgender     multi   \n",
       "378  73049           1      0  0.151463  Transgender     multi   \n",
       "407   5461           1      0  0.287013  Transgender       uni   \n",
       "463  62509           1      0  0.402599  Transgender     multi   \n",
       "644  28196           1      0  0.062502  Transgender     multi   \n",
       "645   8716           1      0  0.462029  Transgender     multi   \n",
       "686  21065           1      0  0.295632  Transgender       uni   \n",
       "935  80231           1      0  0.105091  Transgender     multi   \n",
       "\n",
       "                                                  Text  \n",
       "10                                  bruce jenner's cat  \n",
       "71   when you got a warrant out for your arrest & y...  \n",
       "378  i was asked who my favourite x-men character w...  \n",
       "407  me, an air force intellectual watching some ma...  \n",
       "463  hot sports car for sale includes partially reb...  \n",
       "644  the woman you met who admits she's wrong, apol...  \n",
       "645  for decades bruce fondled her this just in cai...  \n",
       "686                       i just squirted tranny fluid  \n",
       "935  transrepublican identifies as a republican, bu...  "
      ]
     },
     "execution_count": 65,
     "metadata": {},
     "output_type": "execute_result"
    }
   ],
   "source": [
    "FP[FP[\"Community\"] == \"Transgender\"]"
   ]
  },
  {
   "cell_type": "code",
   "execution_count": 66,
   "id": "63b60d52",
   "metadata": {
    "execution": {
     "iopub.execute_input": "2021-08-25T14:07:33.197929Z",
     "iopub.status.busy": "2021-08-25T14:07:33.197325Z",
     "iopub.status.idle": "2021-08-25T14:07:33.201591Z",
     "shell.execute_reply": "2021-08-25T14:07:33.202110Z",
     "shell.execute_reply.started": "2021-08-25T12:46:45.856439Z"
    },
    "papermill": {
     "duration": 0.122412,
     "end_time": "2021-08-25T14:07:33.202293",
     "exception": false,
     "start_time": "2021-08-25T14:07:33.079881",
     "status": "completed"
    },
    "tags": []
   },
   "outputs": [
    {
     "name": "stdout",
     "output_type": "stream",
     "text": [
      "Number of multimodal samples in the dataset:  333\n",
      "Number of unimodal samples in the dataset:  37\n"
     ]
    }
   ],
   "source": [
    "multi_sample_in_FP = FP[FP['Multi/Uni'] == 'multi']\n",
    "uni_sample_in_FP = FP[FP['Multi/Uni'] == 'uni']\n",
    "\n",
    "numb_multi_sample_FP = len(multi_sample_in_FP)\n",
    "numb_uni_sample_FP = len(uni_sample_in_FP)\n",
    "\n",
    "print(\"Number of multimodal samples in the dataset: \", numb_multi_sample_FP)\n",
    "print(\"Number of unimodal samples in the dataset: \", numb_uni_sample_FP)"
   ]
  },
  {
   "cell_type": "code",
   "execution_count": 67,
   "id": "33f04ddc",
   "metadata": {
    "execution": {
     "iopub.execute_input": "2021-08-25T14:07:33.446479Z",
     "iopub.status.busy": "2021-08-25T14:07:33.429909Z",
     "iopub.status.idle": "2021-08-25T14:07:33.706381Z",
     "shell.execute_reply": "2021-08-25T14:07:33.706785Z",
     "shell.execute_reply.started": "2021-08-25T12:46:45.877477Z"
    },
    "papermill": {
     "duration": 0.394521,
     "end_time": "2021-08-25T14:07:33.706952",
     "exception": false,
     "start_time": "2021-08-25T14:07:33.312431",
     "status": "completed"
    },
    "tags": []
   },
   "outputs": [
    {
     "data": {
      "text/plain": [
       "Text(0, 0.5, 'number of sample')"
      ]
     },
     "execution_count": 67,
     "metadata": {},
     "output_type": "execute_result"
    },
    {
     "data": {
      "image/png": "[encoded data removed]",
      "text/plain": [
       "<Figure size 432x288 with 1 Axes>"
      ]
     },
     "metadata": {
      "needs_background": "light"
     },
     "output_type": "display_data"
    }
   ],
   "source": [
    "Disable_sample_FP = FP[FP['Community'] == 'Disable']\n",
    "Women_sample_FP = FP[FP['Community'] == 'Women']\n",
    "LGBT_sample_FP = FP[FP['Community'] == 'LGBT']\n",
    "Black_sample_FP = FP[FP['Community'] == 'Black']\n",
    "Musulman_sample_FP = FP[FP['Community'] == 'Musulman']\n",
    "FakeNews_sample_FP = FP[FP['Community'] == 'Fake News']\n",
    "NA_sample_FP = FP[FP['Community'] == 'Not Applicable']\n",
    "IncitingViolence_sample_FP = FP[FP['Community'] == 'Inciting Violence']\n",
    "Transgender_sample_FP = FP[FP['Community'] == 'Transgender']\n",
    "Ginger_sample_FP = FP[FP['Community'] == 'Ginger']\n",
    "Immigrant_sample_FP = FP[FP['Community'] == 'Immigrant']\n",
    "Jewish_sample_FP = FP[FP['Community'] == 'Jewish']\n",
    "PeopleofColor_sample_FP = FP[FP['Community'] == 'People of Color']\n",
    "White_sample_FP = FP[FP['Community'] == 'White']\n",
    "Indian_sample_FP = FP[FP['Community'] == 'Indian']\n",
    "Japanese_sample_FP = FP[FP['Community'] == 'Japanese']\n",
    "Chinese_sample_FP = FP[FP['Community'] == 'Chinese']\n",
    "Asian_sample_FP = FP[FP['Community'] == 'Asian']\n",
    "Politic_sample_FP = FP[FP['Community'] == 'Politic']\n",
    "German_sample_FP = FP[FP['Community'] == 'German']\n",
    "Romanian_sample_FP = FP[FP['Community'] == 'Romania']\n",
    "Christian_sample_FP = FP[FP['Community'] == 'Christian']\n",
    "\n",
    "FP_categories = {\n",
    "'Disable' : len(Disable_sample_FP),\n",
    "'Women' : len(Women_sample_FP),\n",
    "'LGBT' : len(LGBT_sample_FP),\n",
    "'Black' : len(Black_sample_FP),\n",
    "'Musulman' : len(Musulman_sample_FP),\n",
    "'FakeNews' : len(FakeNews_sample_FP),\n",
    "'NA' : len(NA_sample_FP),\n",
    "'Inciting Violence' : len(IncitingViolence_sample_FP),\n",
    "'Transgender' : len(Transgender_sample_FP),\n",
    "'Ginger' : len(Ginger_sample_FP),\n",
    "'Immigrant' : len(Immigrant_sample_FP),\n",
    "'Jewish' : len(Jewish_sample_FP),\n",
    "'People of Color' : len(PeopleofColor_sample_FP),\n",
    "'White' : len(White_sample_FP),\n",
    "'Indian' : len(Indian_sample_FP),\n",
    "'Japanese' : len(Japanese_sample_FP),\n",
    "'Chinese' : len(Chinese_sample_FP),\n",
    "'Asian' : len(Asian_sample_FP),\n",
    "'Politic' : len(Politic_sample_FP),\n",
    "'German' : len(German_sample_FP),\n",
    "'Romanian' : len(Romanian_sample_FP),\n",
    "'Christian' : len(Christian_sample_FP)\n",
    "}\n",
    "\n",
    "lists = sorted(FP_categories.items()) # sorted by key, return a list of tuples\n",
    "categories, numb_of_sample = zip(*lists) # unpack a list of pairs into two tuples\n",
    "\n",
    "plt.xticks(rotation='vertical')\n",
    "df = plt.bar(categories, numb_of_sample, color='b')\n",
    "plt.title('Number of sample by category')\n",
    "plt.xlabel('categories')\n",
    "plt.ylabel('number of sample')"
   ]
  },
  {
   "cell_type": "code",
   "execution_count": 68,
   "id": "2f5ee295",
   "metadata": {
    "execution": {
     "iopub.execute_input": "2021-08-25T14:07:33.976729Z",
     "iopub.status.busy": "2021-08-25T14:07:33.971218Z",
     "iopub.status.idle": "2021-08-25T14:07:34.213835Z",
     "shell.execute_reply": "2021-08-25T14:07:34.213263Z",
     "shell.execute_reply.started": "2021-08-25T12:46:46.247128Z"
    },
    "papermill": {
     "duration": 0.39748,
     "end_time": "2021-08-25T14:07:34.213964",
     "exception": false,
     "start_time": "2021-08-25T14:07:33.816484",
     "status": "completed"
    },
    "tags": []
   },
   "outputs": [
    {
     "data": {
      "text/plain": [
       "Text(0, 0.5, 'number of sample')"
      ]
     },
     "execution_count": 68,
     "metadata": {},
     "output_type": "execute_result"
    },
    {
     "data": {
      "image/png": "[encoded data removed]",
      "text/plain": [
       "<Figure size 432x288 with 1 Axes>"
      ]
     },
     "metadata": {
      "needs_background": "light"
     },
     "output_type": "display_data"
    }
   ],
   "source": [
    "Acc_FP_Disable = len(Disable_sample_FP) / len(Disable_sample_h) * 100\n",
    "Acc_FP_Women = len(Women_sample_FP) / len(Women_sample_h) * 100\n",
    "Acc_FP_LGBT = len(LGBT_sample_FP) / len(LGBT_sample_h) * 100\n",
    "Acc_FP_Black = len(Black_sample_FP) / len(Black_sample_h) * 100\n",
    "Acc_FP_Musulman = len(Musulman_sample_FP) / len(Musulman_sample_h) * 100\n",
    "Acc_FP_FakeNews = len(FakeNews_sample_FP) / len(FakeNews_sample_h) * 100\n",
    "Acc_FP_NA = len(NA_sample_FP) / len(NA_sample_h) * 100\n",
    "Acc_FP_IncitingViolence = len(IncitingViolence_sample_FP) / len(IncitingViolence_sample_h) * 100\n",
    "Acc_FP_Transgender = len(Transgender_sample_FP) / len(Transgender_sample_h) * 100\n",
    "Acc_FP_Ginger = len(Ginger_sample_FP) / len(Ginger_sample_h) * 100\n",
    "Acc_FP_Immigrant = len(Immigrant_sample_FP) / len(Immigrant_sample_h) * 100\n",
    "Acc_FP_Jewish = len(Jewish_sample_FP) / len(Jewish_sample_h) * 100\n",
    "Acc_FP_PeopleofColor = len(PeopleofColor_sample_FP) / len(PeopleofColor_sample_h) * 100\n",
    "Acc_FP_White = len(White_sample_FP) / len(White_sample_h) * 100\n",
    "Acc_FP_Indian = len(Indian_sample_FP) / len(Indian_sample_h) * 100\n",
    "Acc_FP_Japanese = len(Japanese_sample_FP) / len(Japanese_sample_h) * 100\n",
    "Acc_FP_Chinese = len(Chinese_sample_FP) / len(Chinese_sample_h) * 100\n",
    "Acc_FP_Asian = len(Asian_sample_FP) / len(Asian_sample_h) * 100\n",
    "Acc_FP_Politic = len(Politic_sample_FP) / len(Politic_sample_h) * 100\n",
    "Acc_FP_German = len(German_sample_FP) / len(German_sample_h) * 100\n",
    "Acc_FP_Romanian = 0\n",
    "Acc_FP_Christian = len(Christian_sample_FP) / len(Christian_sample_h) * 100\n",
    "\n",
    "\n",
    "Acc_FP_categories = {\n",
    "'Disable' : Acc_FP_Disable,\n",
    "'Women' : Acc_FP_Women,\n",
    "'LGBT' : Acc_FP_LGBT,\n",
    "'Black' : Acc_FP_Black,\n",
    "'Musulman' : Acc_FP_Musulman,\n",
    "'FakeNews' : Acc_FP_FakeNews,\n",
    "'NA' : Acc_FP_NA,\n",
    "'Inciting Violence' : Acc_FP_IncitingViolence,\n",
    "'Transgender' : Acc_FP_Transgender,\n",
    "'Ginger' : Acc_FP_Ginger,\n",
    "'Immigrant' : Acc_FP_Immigrant,\n",
    "'Jewish' : Acc_FP_Jewish,\n",
    "'People of Color' : Acc_FP_PeopleofColor,\n",
    "'White' : Acc_FP_White,\n",
    "'Indian' : Acc_FP_Indian,\n",
    "'Japanese' : Acc_FP_Japanese,\n",
    "'Chinese' : Acc_FP_Chinese,\n",
    "'Asian' : Acc_FP_Asian,\n",
    "'Politic' : Acc_FP_Politic,\n",
    "'German' : Acc_FP_German,\n",
    "'Romanian' : Acc_FP_Romanian,\n",
    "'Christian' : Acc_FP_Christian\n",
    "}\n",
    "\n",
    "lists = sorted(Acc_FP_categories.items()) # sorted by key, return a list of tuples\n",
    "categories, numb_of_sample = zip(*lists) # unpack a list of pairs into two tuples\n",
    "\n",
    "plt.xticks(rotation='vertical')\n",
    "df = plt.bar(categories, numb_of_sample, color=(0.5,0.1,0.5,0.6))\n",
    "plt.title('Number of sample by category')\n",
    "plt.xlabel('categories')\n",
    "plt.ylabel('number of sample')"
   ]
  },
  {
   "cell_type": "code",
   "execution_count": 69,
   "id": "2910df0b",
   "metadata": {
    "execution": {
     "iopub.execute_input": "2021-08-25T14:07:34.441116Z",
     "iopub.status.busy": "2021-08-25T14:07:34.440290Z",
     "iopub.status.idle": "2021-08-25T14:07:34.455378Z",
     "shell.execute_reply": "2021-08-25T14:07:34.454791Z",
     "shell.execute_reply.started": "2021-08-25T12:46:46.603385Z"
    },
    "papermill": {
     "duration": 0.130166,
     "end_time": "2021-08-25T14:07:34.455509",
     "exception": false,
     "start_time": "2021-08-25T14:07:34.325343",
     "status": "completed"
    },
    "tags": []
   },
   "outputs": [
    {
     "name": "stdout",
     "output_type": "stream",
     "text": [
      "Fail on Disable at 98.18181818181819 %\n",
      "Fail on Women at 72.09302325581395 %\n",
      "Fail on LGBT at 55.00000000000001 %\n",
      "Fail on Black at 77.67857142857143 %\n",
      "Fail on Musulman at 65.59139784946237 %\n",
      "Fail on FakeNews at 40.0 %\n",
      "Fail on NA at 100.0 %\n",
      "Fail on Inciting Violence at 100.0 %\n",
      "Fail on Transgender at 69.23076923076923 %\n",
      "Fail on Ginger at 100.0 %\n",
      "Fail on Immigrant at 75.0 %\n",
      "Fail on Jewish at 68.25396825396825 %\n",
      "Fail on People of Color at 84.21052631578947 %\n",
      "Fail on White at 54.54545454545454 %\n",
      "Fail on Indian at 50.0 %\n",
      "Fail on Japanese at 100.0 %\n",
      "Fail on Chinese at 40.0 %\n",
      "Fail on Asian at 28.57142857142857 %\n",
      "Fail on Politic at 60.0 %\n",
      "Fail on German at 100.0 %\n",
      "Fail on Romanian at 0 %\n",
      "Fail on Christian at 100.0 %\n"
     ]
    }
   ],
   "source": [
    "for key, value in Acc_FP_categories.items():\n",
    "    print(\"Fail on\", key, 'at', value, '%')"
   ]
  },
  {
   "cell_type": "markdown",
   "id": "8c480655",
   "metadata": {
    "papermill": {
     "duration": 0.110451,
     "end_time": "2021-08-25T14:07:34.677115",
     "exception": false,
     "start_time": "2021-08-25T14:07:34.566664",
     "status": "completed"
    },
    "tags": []
   },
   "source": [
    "# Exploring result in TP dataset"
   ]
  },
  {
   "cell_type": "code",
   "execution_count": 70,
   "id": "913d5c2e",
   "metadata": {
    "execution": {
     "iopub.execute_input": "2021-08-25T14:07:34.914547Z",
     "iopub.status.busy": "2021-08-25T14:07:34.913624Z",
     "iopub.status.idle": "2021-08-25T14:07:34.917963Z",
     "shell.execute_reply": "2021-08-25T14:07:34.917397Z",
     "shell.execute_reply.started": "2021-08-25T12:46:46.625313Z"
    },
    "papermill": {
     "duration": 0.13036,
     "end_time": "2021-08-25T14:07:34.918112",
     "exception": false,
     "start_time": "2021-08-25T14:07:34.787752",
     "status": "completed"
    },
    "tags": []
   },
   "outputs": [
    {
     "data": {
      "text/html": [
       "<div>\n",
       "<style scoped>\n",
       "    .dataframe tbody tr th:only-of-type {\n",
       "        vertical-align: middle;\n",
       "    }\n",
       "\n",
       "    .dataframe tbody tr th {\n",
       "        vertical-align: top;\n",
       "    }\n",
       "\n",
       "    .dataframe thead th {\n",
       "        text-align: right;\n",
       "    }\n",
       "</style>\n",
       "<table border=\"1\" class=\"dataframe\">\n",
       "  <thead>\n",
       "    <tr style=\"text-align: right;\">\n",
       "      <th></th>\n",
       "      <th>id</th>\n",
       "      <th>True Label</th>\n",
       "      <th>Label</th>\n",
       "      <th>Proba</th>\n",
       "      <th>Community</th>\n",
       "      <th>Multi/Uni</th>\n",
       "      <th>Text</th>\n",
       "    </tr>\n",
       "  </thead>\n",
       "  <tbody>\n",
       "    <tr>\n",
       "      <th>7</th>\n",
       "      <td>70691</td>\n",
       "      <td>0</td>\n",
       "      <td>0</td>\n",
       "      <td>0.045991</td>\n",
       "      <td>Not Applicable</td>\n",
       "      <td>Uni</td>\n",
       "      <td>overdose</td>\n",
       "    </tr>\n",
       "    <tr>\n",
       "      <th>46</th>\n",
       "      <td>52971</td>\n",
       "      <td>0</td>\n",
       "      <td>0</td>\n",
       "      <td>0.316937</td>\n",
       "      <td>LGBT</td>\n",
       "      <td>multi</td>\n",
       "      <td>that's a man baby!</td>\n",
       "    </tr>\n",
       "    <tr>\n",
       "      <th>51</th>\n",
       "      <td>24973</td>\n",
       "      <td>0</td>\n",
       "      <td>0</td>\n",
       "      <td>0.155977</td>\n",
       "      <td>Not Applicable</td>\n",
       "      <td>uni</td>\n",
       "      <td>in england they drive on the left in canada we...</td>\n",
       "    </tr>\n",
       "    <tr>\n",
       "      <th>58</th>\n",
       "      <td>18239</td>\n",
       "      <td>0</td>\n",
       "      <td>0</td>\n",
       "      <td>0.373321</td>\n",
       "      <td>Not Applicable</td>\n",
       "      <td>multi</td>\n",
       "      <td>orange is the new black</td>\n",
       "    </tr>\n",
       "    <tr>\n",
       "      <th>60</th>\n",
       "      <td>59167</td>\n",
       "      <td>0</td>\n",
       "      <td>0</td>\n",
       "      <td>0.032050</td>\n",
       "      <td>Not Applicable</td>\n",
       "      <td>multi</td>\n",
       "      <td>i'm not racist, but... racist memes are allowe...</td>\n",
       "    </tr>\n",
       "    <tr>\n",
       "      <th>...</th>\n",
       "      <td>...</td>\n",
       "      <td>...</td>\n",
       "      <td>...</td>\n",
       "      <td>...</td>\n",
       "      <td>...</td>\n",
       "      <td>...</td>\n",
       "      <td>...</td>\n",
       "    </tr>\n",
       "    <tr>\n",
       "      <th>995</th>\n",
       "      <td>3869</td>\n",
       "      <td>0</td>\n",
       "      <td>0</td>\n",
       "      <td>0.073661</td>\n",
       "      <td>Not Applicable</td>\n",
       "      <td>multi</td>\n",
       "      <td>a mother's love for the child is a divine thing</td>\n",
       "    </tr>\n",
       "    <tr>\n",
       "      <th>996</th>\n",
       "      <td>23817</td>\n",
       "      <td>0</td>\n",
       "      <td>0</td>\n",
       "      <td>0.373033</td>\n",
       "      <td>Not Applicable</td>\n",
       "      <td>uni</td>\n",
       "      <td>sea monkeys</td>\n",
       "    </tr>\n",
       "    <tr>\n",
       "      <th>997</th>\n",
       "      <td>56280</td>\n",
       "      <td>0</td>\n",
       "      <td>0</td>\n",
       "      <td>0.200106</td>\n",
       "      <td>Not Applicable</td>\n",
       "      <td>multi</td>\n",
       "      <td>little miss muffet sat on her tuffet</td>\n",
       "    </tr>\n",
       "    <tr>\n",
       "      <th>998</th>\n",
       "      <td>29384</td>\n",
       "      <td>0</td>\n",
       "      <td>0</td>\n",
       "      <td>0.152466</td>\n",
       "      <td>Not Applicable</td>\n",
       "      <td>multi</td>\n",
       "      <td>they're in a row</td>\n",
       "    </tr>\n",
       "    <tr>\n",
       "      <th>999</th>\n",
       "      <td>34127</td>\n",
       "      <td>0</td>\n",
       "      <td>0</td>\n",
       "      <td>0.068527</td>\n",
       "      <td>Musulman</td>\n",
       "      <td>multi</td>\n",
       "      <td>that feeling when you win a fifa game after be...</td>\n",
       "    </tr>\n",
       "  </tbody>\n",
       "</table>\n",
       "<p>449 rows × 7 columns</p>\n",
       "</div>"
      ],
      "text/plain": [
       "        id  True Label  Label     Proba       Community Multi/Uni  \\\n",
       "7    70691           0      0  0.045991  Not Applicable       Uni   \n",
       "46   52971           0      0  0.316937            LGBT     multi   \n",
       "51   24973           0      0  0.155977  Not Applicable       uni   \n",
       "58   18239           0      0  0.373321  Not Applicable     multi   \n",
       "60   59167           0      0  0.032050  Not Applicable     multi   \n",
       "..     ...         ...    ...       ...             ...       ...   \n",
       "995   3869           0      0  0.073661  Not Applicable     multi   \n",
       "996  23817           0      0  0.373033  Not Applicable       uni   \n",
       "997  56280           0      0  0.200106  Not Applicable     multi   \n",
       "998  29384           0      0  0.152466  Not Applicable     multi   \n",
       "999  34127           0      0  0.068527        Musulman     multi   \n",
       "\n",
       "                                                  Text  \n",
       "7                                             overdose  \n",
       "46                                  that's a man baby!  \n",
       "51   in england they drive on the left in canada we...  \n",
       "58                             orange is the new black  \n",
       "60   i'm not racist, but... racist memes are allowe...  \n",
       "..                                                 ...  \n",
       "995    a mother's love for the child is a divine thing  \n",
       "996                                        sea monkeys  \n",
       "997               little miss muffet sat on her tuffet  \n",
       "998                                   they're in a row  \n",
       "999  that feeling when you win a fifa game after be...  \n",
       "\n",
       "[449 rows x 7 columns]"
      ]
     },
     "execution_count": 70,
     "metadata": {},
     "output_type": "execute_result"
    }
   ],
   "source": [
    "TP"
   ]
  },
  {
   "cell_type": "code",
   "execution_count": 71,
   "id": "ec3257ee",
   "metadata": {
    "execution": {
     "iopub.execute_input": "2021-08-25T14:07:35.155121Z",
     "iopub.status.busy": "2021-08-25T14:07:35.154396Z",
     "iopub.status.idle": "2021-08-25T14:07:35.157752Z",
     "shell.execute_reply": "2021-08-25T14:07:35.158232Z",
     "shell.execute_reply.started": "2021-08-25T12:46:46.654270Z"
    },
    "papermill": {
     "duration": 0.128525,
     "end_time": "2021-08-25T14:07:35.158416",
     "exception": false,
     "start_time": "2021-08-25T14:07:35.029891",
     "status": "completed"
    },
    "tags": []
   },
   "outputs": [
    {
     "data": {
      "text/html": [
       "<div>\n",
       "<style scoped>\n",
       "    .dataframe tbody tr th:only-of-type {\n",
       "        vertical-align: middle;\n",
       "    }\n",
       "\n",
       "    .dataframe tbody tr th {\n",
       "        vertical-align: top;\n",
       "    }\n",
       "\n",
       "    .dataframe thead th {\n",
       "        text-align: right;\n",
       "    }\n",
       "</style>\n",
       "<table border=\"1\" class=\"dataframe\">\n",
       "  <thead>\n",
       "    <tr style=\"text-align: right;\">\n",
       "      <th></th>\n",
       "      <th>id</th>\n",
       "      <th>True Label</th>\n",
       "      <th>Label</th>\n",
       "      <th>Proba</th>\n",
       "      <th>Community</th>\n",
       "      <th>Multi/Uni</th>\n",
       "      <th>Text</th>\n",
       "    </tr>\n",
       "  </thead>\n",
       "  <tbody>\n",
       "    <tr>\n",
       "      <th>217</th>\n",
       "      <td>95371</td>\n",
       "      <td>0</td>\n",
       "      <td>0</td>\n",
       "      <td>0.143053</td>\n",
       "      <td>Disable</td>\n",
       "      <td>uni</td>\n",
       "      <td>down syndrome girl put on makeup for a party</td>\n",
       "    </tr>\n",
       "    <tr>\n",
       "      <th>522</th>\n",
       "      <td>78956</td>\n",
       "      <td>0</td>\n",
       "      <td>0</td>\n",
       "      <td>0.115518</td>\n",
       "      <td>Disable</td>\n",
       "      <td>multi</td>\n",
       "      <td>when one of your senses doesn't work, the othe...</td>\n",
       "    </tr>\n",
       "    <tr>\n",
       "      <th>885</th>\n",
       "      <td>28504</td>\n",
       "      <td>0</td>\n",
       "      <td>0</td>\n",
       "      <td>0.085200</td>\n",
       "      <td>Disable</td>\n",
       "      <td>multi</td>\n",
       "      <td>we wouldn't change him for the world. but we w...</td>\n",
       "    </tr>\n",
       "    <tr>\n",
       "      <th>895</th>\n",
       "      <td>43127</td>\n",
       "      <td>0</td>\n",
       "      <td>0</td>\n",
       "      <td>0.368091</td>\n",
       "      <td>Disable</td>\n",
       "      <td>multi</td>\n",
       "      <td>it's taekwondo, not taekwondon't</td>\n",
       "    </tr>\n",
       "    <tr>\n",
       "      <th>977</th>\n",
       "      <td>56430</td>\n",
       "      <td>0</td>\n",
       "      <td>0</td>\n",
       "      <td>0.041783</td>\n",
       "      <td>Disable</td>\n",
       "      <td>multi</td>\n",
       "      <td>it's not the cards you're dealt, but how you p...</td>\n",
       "    </tr>\n",
       "    <tr>\n",
       "      <th>979</th>\n",
       "      <td>74265</td>\n",
       "      <td>0</td>\n",
       "      <td>0</td>\n",
       "      <td>0.368091</td>\n",
       "      <td>Disable</td>\n",
       "      <td>multi</td>\n",
       "      <td>it's taekwondo, not taekwondon't</td>\n",
       "    </tr>\n",
       "  </tbody>\n",
       "</table>\n",
       "</div>"
      ],
      "text/plain": [
       "        id  True Label  Label     Proba Community Multi/Uni  \\\n",
       "217  95371           0      0  0.143053   Disable       uni   \n",
       "522  78956           0      0  0.115518   Disable     multi   \n",
       "885  28504           0      0  0.085200   Disable     multi   \n",
       "895  43127           0      0  0.368091   Disable     multi   \n",
       "977  56430           0      0  0.041783   Disable     multi   \n",
       "979  74265           0      0  0.368091   Disable     multi   \n",
       "\n",
       "                                                  Text  \n",
       "217       down syndrome girl put on makeup for a party  \n",
       "522  when one of your senses doesn't work, the othe...  \n",
       "885  we wouldn't change him for the world. but we w...  \n",
       "895                   it's taekwondo, not taekwondon't  \n",
       "977  it's not the cards you're dealt, but how you p...  \n",
       "979                   it's taekwondo, not taekwondon't  "
      ]
     },
     "execution_count": 71,
     "metadata": {},
     "output_type": "execute_result"
    }
   ],
   "source": [
    "TP[TP[\"Community\"] == \"Disable\"]"
   ]
  },
  {
   "cell_type": "code",
   "execution_count": 72,
   "id": "10a52872",
   "metadata": {
    "execution": {
     "iopub.execute_input": "2021-08-25T14:07:35.392768Z",
     "iopub.status.busy": "2021-08-25T14:07:35.392027Z",
     "iopub.status.idle": "2021-08-25T14:07:35.395993Z",
     "shell.execute_reply": "2021-08-25T14:07:35.395514Z",
     "shell.execute_reply.started": "2021-08-25T12:46:46.678586Z"
    },
    "papermill": {
     "duration": 0.125035,
     "end_time": "2021-08-25T14:07:35.396163",
     "exception": false,
     "start_time": "2021-08-25T14:07:35.271128",
     "status": "completed"
    },
    "tags": []
   },
   "outputs": [
    {
     "name": "stdout",
     "output_type": "stream",
     "text": [
      "Number of multimodal samples in the dataset:  262\n",
      "Number of unimodal samples in the dataset:  186\n"
     ]
    }
   ],
   "source": [
    "multi_sample_in_TP = TP[TP['Multi/Uni'] == 'multi']\n",
    "uni_sample_in_TP = TP[TP['Multi/Uni'] == 'uni']\n",
    "\n",
    "numb_multi_sample_TP = len(multi_sample_in_TP)\n",
    "numb_uni_sample_TP = len(uni_sample_in_TP)\n",
    "\n",
    "print(\"Number of multimodal samples in the dataset: \", numb_multi_sample_TP)\n",
    "print(\"Number of unimodal samples in the dataset: \", numb_uni_sample_TP)"
   ]
  },
  {
   "cell_type": "code",
   "execution_count": 73,
   "id": "7933c2f4",
   "metadata": {
    "execution": {
     "iopub.execute_input": "2021-08-25T14:07:35.702123Z",
     "iopub.status.busy": "2021-08-25T14:07:35.690480Z",
     "iopub.status.idle": "2021-08-25T14:07:36.093913Z",
     "shell.execute_reply": "2021-08-25T14:07:36.093416Z",
     "shell.execute_reply.started": "2021-08-25T12:46:46.695432Z"
    },
    "papermill": {
     "duration": 0.584751,
     "end_time": "2021-08-25T14:07:36.094076",
     "exception": false,
     "start_time": "2021-08-25T14:07:35.509325",
     "status": "completed"
    },
    "tags": []
   },
   "outputs": [
    {
     "data": {
      "text/plain": [
       "Text(0, 0.5, 'number of sample')"
      ]
     },
     "execution_count": 73,
     "metadata": {},
     "output_type": "execute_result"
    },
    {
     "data": {
      "image/png": "[encoded data removed]",
      "text/plain": [
       "<Figure size 432x288 with 1 Axes>"
      ]
     },
     "metadata": {
      "needs_background": "light"
     },
     "output_type": "display_data"
    }
   ],
   "source": [
    "Disable_sample_TP = TP[TP['Community'] == 'Disable']\n",
    "Women_sample_TP = TP[TP['Community'] == 'Women']\n",
    "LGBT_sample_TP = TP[TP['Community'] == 'LGBT']\n",
    "Black_sample_TP = TP[TP['Community'] == 'Black']\n",
    "Musulman_sample_TP = TP[TP['Community'] == 'Musulman']\n",
    "FakeNews_sample_TP = TP[TP['Community'] == 'Fake News']\n",
    "NA_sample_TP = TP[TP['Community'] == 'Not Applicable']\n",
    "IncitingViolence_sample_TP = TP[TP['Community'] == 'Inciting Violence']\n",
    "Transgender_sample_TP = TP[TP['Community'] == 'Transgender']\n",
    "Ginger_sample_TP = TP[TP['Community'] == 'Ginger']\n",
    "Immigrant_sample_TP = TP[TP['Community'] == 'Immigrant']\n",
    "Jewish_sample_TP = TP[TP['Community'] == 'Jewish']\n",
    "PeopleofColor_sample_TP = TP[TP['Community'] == 'People of Color']\n",
    "White_sample_TP = TP[TP['Community'] == 'White']\n",
    "Indian_sample_TP = TP[TP['Community'] == 'Indian']\n",
    "Japanese_sample_TP = TP[TP['Community'] == 'Japanese']\n",
    "Chinese_sample_TP = TP[TP['Community'] == 'Chinese']\n",
    "Asian_sample_TP = TP[TP['Community'] == 'Asian']\n",
    "Politic_sample_TP = TP[TP['Community'] == 'Politic']\n",
    "German_sample_TP = TP[TP['Community'] == 'German']\n",
    "Romanian_sample_TP = TP[TP['Community'] == 'Romania']\n",
    "Christian_sample_TP = TP[TP['Community'] == 'Christian']\n",
    "\n",
    "TP_categories = {\n",
    "'Disable' : len(Disable_sample_TP),\n",
    "'Women' : len(Women_sample_TP),\n",
    "'LGBT' : len(LGBT_sample_TP),\n",
    "'Black' : len(Black_sample_TP),\n",
    "'Musulman' : len(Musulman_sample_TP),\n",
    "'FakeNews' : len(FakeNews_sample_TP),\n",
    "'NA' : len(NA_sample_TP),\n",
    "'Inciting Violence' : len(IncitingViolence_sample_TP),\n",
    "'Transgender' : len(Transgender_sample_TP),\n",
    "'Ginger' : len(Ginger_sample_TP),\n",
    "'Immigrant' : len(Immigrant_sample_TP),\n",
    "'Jewish' : len(Jewish_sample_TP),\n",
    "'People of Color' : len(PeopleofColor_sample_TP),\n",
    "'White' : len(White_sample_TP),\n",
    "'Indian' : len(Indian_sample_TP),\n",
    "'Japanese' : len(Japanese_sample_TP),\n",
    "'Chinese' : len(Chinese_sample_TP),\n",
    "'Asian' : len(Asian_sample_TP),\n",
    "'Politic' : len(Politic_sample_TP),\n",
    "'German' : len(German_sample_TP),\n",
    "'Romanian' : len(Romanian_sample_TP),\n",
    "'Christian' : len(Christian_sample_TP)\n",
    "}\n",
    "\n",
    "lists = sorted(TP_categories.items()) # sorted by key, return a list of tuples\n",
    "categories, numb_of_sample = zip(*lists) # unpack a list of pairs into two tuples\n",
    "\n",
    "plt.xticks(rotation='vertical')\n",
    "df = plt.bar(categories, numb_of_sample, color='b')\n",
    "plt.title('Number of sample by category')\n",
    "plt.xlabel('categories')\n",
    "plt.ylabel('number of sample')"
   ]
  },
  {
   "cell_type": "code",
   "execution_count": 74,
   "id": "eb49b84b",
   "metadata": {
    "execution": {
     "iopub.execute_input": "2021-08-25T14:07:36.363359Z",
     "iopub.status.busy": "2021-08-25T14:07:36.362377Z",
     "iopub.status.idle": "2021-08-25T14:07:36.633394Z",
     "shell.execute_reply": "2021-08-25T14:07:36.632922Z",
     "shell.execute_reply.started": "2021-08-25T12:46:47.220343Z"
    },
    "papermill": {
     "duration": 0.423716,
     "end_time": "2021-08-25T14:07:36.633529",
     "exception": false,
     "start_time": "2021-08-25T14:07:36.209813",
     "status": "completed"
    },
    "tags": []
   },
   "outputs": [
    {
     "data": {
      "text/plain": [
       "Text(0, 0.5, 'number of sample')"
      ]
     },
     "execution_count": 74,
     "metadata": {},
     "output_type": "execute_result"
    },
    {
     "data": {
      "image/png": "[encoded data removed]",
      "text/plain": [
       "<Figure size 432x288 with 1 Axes>"
      ]
     },
     "metadata": {
      "needs_background": "light"
     },
     "output_type": "display_data"
    }
   ],
   "source": [
    "Acc_TP_Disable = len(Disable_sample_TP) / len(Disable_sample_nh) * 100\n",
    "Acc_TP_Women = len(Women_sample_TP) / len(Women_sample_nh) * 100\n",
    "Acc_TP_LGBT = len(LGBT_sample_TP) / len(LGBT_sample_nh) * 100\n",
    "Acc_TP_Black = len(Black_sample_TP) / len(Black_sample_nh) * 100\n",
    "Acc_TP_Musulman = len(Musulman_sample_TP) / len(Musulman_sample_nh) * 100\n",
    "Acc_TP_FakeNews = len(FakeNews_sample_TP) / len(FakeNews_sample_nh) * 100\n",
    "Acc_TP_NA = len(NA_sample_TP) / len(NA_sample_nh) * 100\n",
    "Acc_TP_IncitingViolence = len(IncitingViolence_sample_TP) / len(IncitingViolence_sample_nh) * 100\n",
    "Acc_TP_Transgender = len(Transgender_sample_TP) / len(Transgender_sample_nh) * 100\n",
    "Acc_TP_Ginger = 0\n",
    "Acc_TP_Immigrant = len(Immigrant_sample_TP) / len(Immigrant_sample_nh) * 100\n",
    "Acc_TP_Jewish = len(Jewish_sample_TP) / len(Jewish_sample_nh) * 100\n",
    "Acc_TP_PeopleofColor = len(PeopleofColor_sample_TP) / len(PeopleofColor_sample_nh) * 100\n",
    "Acc_TP_White = len(White_sample_TP) / len(White_sample_nh) * 100\n",
    "Acc_TP_Indian = 0\n",
    "Acc_TP_Japanese = 0\n",
    "Acc_TP_Chinese = len(Chinese_sample_TP) / len(Chinese_sample_nh) * 100\n",
    "Acc_TP_Asian = len(Asian_sample_TP) / len(Asian_sample_nh) * 100\n",
    "Acc_TP_Politic = len(Politic_sample_TP) / len(Politic_sample_nh) * 100\n",
    "Acc_TP_German = len(German_sample_TP) / len(German_sample_nh) * 100\n",
    "Acc_TP_Romanian = 0\n",
    "Acc_TP_Christian = 0\n",
    "\n",
    "\n",
    "Acc_TP_categories = {\n",
    "'Disable' : Acc_TP_Disable,\n",
    "'Women' : Acc_TP_Women,\n",
    "'LGBT' : Acc_TP_LGBT,\n",
    "'Black' : Acc_TP_Black,\n",
    "'Musulman' : Acc_TP_Musulman,\n",
    "'FakeNews' : Acc_TP_FakeNews,\n",
    "'NA' : Acc_TP_NA,\n",
    "'Inciting Violence' : Acc_TP_IncitingViolence,\n",
    "'Transgender' : Acc_TP_Transgender,\n",
    "'Ginger' : Acc_TP_Ginger,\n",
    "'Immigrant' : Acc_TP_Immigrant,\n",
    "'Jewish' : Acc_TP_Jewish,\n",
    "'People of Color' : Acc_TP_PeopleofColor,\n",
    "'White' : Acc_TP_White,\n",
    "'Indian' : Acc_TP_Indian,\n",
    "'Japanese' : Acc_TP_Japanese,\n",
    "'Chinese' : Acc_TP_Chinese,\n",
    "'Asian' : Acc_TP_Asian,\n",
    "'Politic' : Acc_TP_Politic,\n",
    "'German' : Acc_TP_German,\n",
    "'Romanian' : Acc_TP_Romanian,\n",
    "'Christian' : Acc_TP_Christian\n",
    "}\n",
    "\n",
    "lists = sorted(Acc_TP_categories.items()) # sorted by key, return a list of tuples\n",
    "categories, numb_of_sample = zip(*lists) # unpack a list of pairs into two tuples\n",
    "\n",
    "plt.xticks(rotation='vertical')\n",
    "df = plt.bar(categories, numb_of_sample, color=(0.5,0.1,0.5,0.6))\n",
    "plt.title('Number of sample by category')\n",
    "plt.xlabel('categories')\n",
    "plt.ylabel('number of sample')"
   ]
  },
  {
   "cell_type": "code",
   "execution_count": 75,
   "id": "109e34b0",
   "metadata": {
    "execution": {
     "iopub.execute_input": "2021-08-25T14:07:36.867833Z",
     "iopub.status.busy": "2021-08-25T14:07:36.867164Z",
     "iopub.status.idle": "2021-08-25T14:07:36.879641Z",
     "shell.execute_reply": "2021-08-25T14:07:36.879087Z",
     "shell.execute_reply.started": "2021-08-25T12:46:47.586811Z"
    },
    "papermill": {
     "duration": 0.131597,
     "end_time": "2021-08-25T14:07:36.879803",
     "exception": false,
     "start_time": "2021-08-25T14:07:36.748206",
     "status": "completed"
    },
    "tags": []
   },
   "outputs": [
    {
     "name": "stdout",
     "output_type": "stream",
     "text": [
      "Disable : 85.71428571428571 %\n",
      "Women : 94.11764705882352 %\n",
      "LGBT : 83.33333333333334 %\n",
      "Black : 84.61538461538461 %\n",
      "Musulman : 80.76923076923077 %\n",
      "FakeNews : 100.0 %\n",
      "NA : 91.36125654450262 %\n",
      "Inciting Violence : 100.0 %\n",
      "Transgender : 50.0 %\n",
      "Ginger : 0 %\n",
      "Immigrant : 100.0 %\n",
      "Jewish : 83.33333333333334 %\n",
      "People of Color : 50.0 %\n",
      "White : 75.0 %\n",
      "Indian : 0 %\n",
      "Japanese : 0 %\n",
      "Chinese : 100.0 %\n",
      "Asian : 25.0 %\n",
      "Politic : 100.0 %\n",
      "German : 100.0 %\n",
      "Romanian : 0 %\n",
      "Christian : 0 %\n"
     ]
    }
   ],
   "source": [
    "for key, value in Acc_TP_categories.items():\n",
    "    print(key, ':', value, '%')"
   ]
  },
  {
   "cell_type": "markdown",
   "id": "2c5f5993",
   "metadata": {
    "papermill": {
     "duration": 0.114534,
     "end_time": "2021-08-25T14:07:37.109778",
     "exception": false,
     "start_time": "2021-08-25T14:07:36.995244",
     "status": "completed"
    },
    "tags": []
   },
   "source": [
    "# Women F1 score"
   ]
  },
  {
   "cell_type": "code",
   "execution_count": 76,
   "id": "dc60b41b",
   "metadata": {
    "execution": {
     "iopub.execute_input": "2021-08-25T14:07:37.350556Z",
     "iopub.status.busy": "2021-08-25T14:07:37.349883Z",
     "iopub.status.idle": "2021-08-25T14:07:37.352935Z",
     "shell.execute_reply": "2021-08-25T14:07:37.352432Z",
     "shell.execute_reply.started": "2021-08-25T12:46:47.607326Z"
    },
    "papermill": {
     "duration": 0.126039,
     "end_time": "2021-08-25T14:07:37.353124",
     "exception": false,
     "start_time": "2021-08-25T14:07:37.227085",
     "status": "completed"
    },
    "tags": []
   },
   "outputs": [],
   "source": [
    "lenght_women_TN = len(TN[TN[\"Community\"] == \"Women\"])\n",
    "lenght_women_FN = len(FN[FN[\"Community\"] == \"Women\"])\n",
    "lenght_women_FP = len(FP[FP[\"Community\"] == \"Women\"])"
   ]
  },
  {
   "cell_type": "code",
   "execution_count": 77,
   "id": "7d83c651",
   "metadata": {
    "execution": {
     "iopub.execute_input": "2021-08-25T14:07:37.588204Z",
     "iopub.status.busy": "2021-08-25T14:07:37.587359Z",
     "iopub.status.idle": "2021-08-25T14:07:37.591648Z",
     "shell.execute_reply": "2021-08-25T14:07:37.591177Z",
     "shell.execute_reply.started": "2021-08-25T12:46:47.617926Z"
    },
    "papermill": {
     "duration": 0.123715,
     "end_time": "2021-08-25T14:07:37.591773",
     "exception": false,
     "start_time": "2021-08-25T14:07:37.468058",
     "status": "completed"
    },
    "tags": []
   },
   "outputs": [
    {
     "name": "stdout",
     "output_type": "stream",
     "text": [
      "The precision score is: 0.9230769230769231\n"
     ]
    }
   ],
   "source": [
    "# precision is the ratio of correctly predicted hateful memes to all pedicted hateful (so 129 and the wrong classified 52)\n",
    "#precision = TN / (TN + FN)\n",
    "\n",
    "precision_women = lenght_women_TN / (lenght_women_TN + lenght_women_FN)\n",
    "print( \"The precision score is:\", precision_women)"
   ]
  },
  {
   "cell_type": "code",
   "execution_count": 78,
   "id": "2cc7d8d6",
   "metadata": {
    "execution": {
     "iopub.execute_input": "2021-08-25T14:07:37.827661Z",
     "iopub.status.busy": "2021-08-25T14:07:37.826734Z",
     "iopub.status.idle": "2021-08-25T14:07:37.829873Z",
     "shell.execute_reply": "2021-08-25T14:07:37.830320Z",
     "shell.execute_reply.started": "2021-08-25T12:46:47.634645Z"
    },
    "papermill": {
     "duration": 0.123321,
     "end_time": "2021-08-25T14:07:37.830481",
     "exception": false,
     "start_time": "2021-08-25T14:07:37.707160",
     "status": "completed"
    },
    "tags": []
   },
   "outputs": [
    {
     "name": "stdout",
     "output_type": "stream",
     "text": [
      "The recall score is: 0.27906976744186046\n"
     ]
    }
   ],
   "source": [
    "# recall is the ratio of correctly predicted hateful to all actual hateful (so 129 over the entire hateful meme in the dataset)\n",
    "#recall = TN / (TN + FP)\n",
    "\n",
    "recall_women = lenght_women_TN / (lenght_women_TN + lenght_women_FP)\n",
    "print(\"The recall score is:\", recall_women)"
   ]
  },
  {
   "cell_type": "code",
   "execution_count": 79,
   "id": "5c76bf6e",
   "metadata": {
    "execution": {
     "iopub.execute_input": "2021-08-25T14:07:38.068777Z",
     "iopub.status.busy": "2021-08-25T14:07:38.068086Z",
     "iopub.status.idle": "2021-08-25T14:07:38.071789Z",
     "shell.execute_reply": "2021-08-25T14:07:38.071359Z",
     "shell.execute_reply.started": "2021-08-25T12:46:47.650041Z"
    },
    "papermill": {
     "duration": 0.124677,
     "end_time": "2021-08-25T14:07:38.071920",
     "exception": false,
     "start_time": "2021-08-25T14:07:37.947243",
     "status": "completed"
    },
    "tags": []
   },
   "outputs": [
    {
     "name": "stdout",
     "output_type": "stream",
     "text": [
      "The Women F1 score is: 0.42857142857142855\n"
     ]
    }
   ],
   "source": [
    "#F1 score\n",
    "#The problem of the accuracy is that this metric doesn't represent well the performance of the model on both classes \n",
    "\n",
    "F1Score_women = (2 * precision_women * recall_women) / (precision_women + recall_women)\n",
    "print(\"The Women F1 score is:\", F1Score_women)"
   ]
  },
  {
   "cell_type": "markdown",
   "id": "ad643fdc",
   "metadata": {
    "papermill": {
     "duration": 0.116218,
     "end_time": "2021-08-25T14:07:38.305322",
     "exception": false,
     "start_time": "2021-08-25T14:07:38.189104",
     "status": "completed"
    },
    "tags": []
   },
   "source": [
    "# Disable F1 score"
   ]
  },
  {
   "cell_type": "code",
   "execution_count": 80,
   "id": "bd45ce2f",
   "metadata": {
    "execution": {
     "iopub.execute_input": "2021-08-25T14:07:38.544705Z",
     "iopub.status.busy": "2021-08-25T14:07:38.544088Z",
     "iopub.status.idle": "2021-08-25T14:07:38.547186Z",
     "shell.execute_reply": "2021-08-25T14:07:38.546555Z",
     "shell.execute_reply.started": "2021-08-25T12:46:47.664693Z"
    },
    "papermill": {
     "duration": 0.12552,
     "end_time": "2021-08-25T14:07:38.547320",
     "exception": false,
     "start_time": "2021-08-25T14:07:38.421800",
     "status": "completed"
    },
    "tags": []
   },
   "outputs": [],
   "source": [
    "lenght_Disable_TN = len(TN[TN[\"Community\"] == \"Disable\"])\n",
    "lenght_Disable_FN = len(FN[FN[\"Community\"] == \"Disable\"])\n",
    "lenght_Disable_FP = len(FP[FP[\"Community\"] == \"Disable\"])"
   ]
  },
  {
   "cell_type": "code",
   "execution_count": 81,
   "id": "4c5e6734",
   "metadata": {
    "execution": {
     "iopub.execute_input": "2021-08-25T14:07:38.780440Z",
     "iopub.status.busy": "2021-08-25T14:07:38.779856Z",
     "iopub.status.idle": "2021-08-25T14:07:38.784944Z",
     "shell.execute_reply": "2021-08-25T14:07:38.785356Z",
     "shell.execute_reply.started": "2021-08-25T12:46:47.684265Z"
    },
    "papermill": {
     "duration": 0.123071,
     "end_time": "2021-08-25T14:07:38.785526",
     "exception": false,
     "start_time": "2021-08-25T14:07:38.662455",
     "status": "completed"
    },
    "tags": []
   },
   "outputs": [
    {
     "name": "stdout",
     "output_type": "stream",
     "text": [
      "The precision score is: 0.5\n"
     ]
    }
   ],
   "source": [
    "# precision is the ratio of correctly predicted hateful memes to all pedicted hateful (so 129 and the wrong classified 52)\n",
    "#precision = TN / (TN + FN)\n",
    "\n",
    "precision_disable = lenght_Disable_TN / (lenght_Disable_TN + lenght_Disable_FN)\n",
    "print( \"The precision score is:\", precision_disable)"
   ]
  },
  {
   "cell_type": "code",
   "execution_count": 82,
   "id": "e07c3d82",
   "metadata": {
    "execution": {
     "iopub.execute_input": "2021-08-25T14:07:39.024785Z",
     "iopub.status.busy": "2021-08-25T14:07:39.024103Z",
     "iopub.status.idle": "2021-08-25T14:07:39.027438Z",
     "shell.execute_reply": "2021-08-25T14:07:39.027828Z",
     "shell.execute_reply.started": "2021-08-25T12:46:47.702449Z"
    },
    "papermill": {
     "duration": 0.125786,
     "end_time": "2021-08-25T14:07:39.027991",
     "exception": false,
     "start_time": "2021-08-25T14:07:38.902205",
     "status": "completed"
    },
    "tags": []
   },
   "outputs": [
    {
     "name": "stdout",
     "output_type": "stream",
     "text": [
      "The recall score is: 0.01818181818181818\n"
     ]
    }
   ],
   "source": [
    "# recall is the ratio of correctly predicted hateful to all actual hateful (so 129 over the entire hateful meme in the dataset)\n",
    "#recall = TN / (TN + FP)\n",
    "\n",
    "recall_disable = lenght_Disable_TN / (lenght_Disable_TN + lenght_Disable_FP)\n",
    "print(\"The recall score is:\", recall_disable)"
   ]
  },
  {
   "cell_type": "code",
   "execution_count": 83,
   "id": "5617f496",
   "metadata": {
    "execution": {
     "iopub.execute_input": "2021-08-25T14:07:39.267960Z",
     "iopub.status.busy": "2021-08-25T14:07:39.267382Z",
     "iopub.status.idle": "2021-08-25T14:07:39.271345Z",
     "shell.execute_reply": "2021-08-25T14:07:39.270788Z",
     "shell.execute_reply.started": "2021-08-25T12:46:47.713987Z"
    },
    "papermill": {
     "duration": 0.125776,
     "end_time": "2021-08-25T14:07:39.271470",
     "exception": false,
     "start_time": "2021-08-25T14:07:39.145694",
     "status": "completed"
    },
    "tags": []
   },
   "outputs": [
    {
     "name": "stdout",
     "output_type": "stream",
     "text": [
      "The Disable F1 score is: 0.03508771929824561\n"
     ]
    }
   ],
   "source": [
    "#F1 score\n",
    "#The problem of the accuracy is that this metric doesn't represent well the performance of the model on both classes \n",
    "\n",
    "F1Score_disable = (2 * precision_disable * recall_disable) / (precision_disable + recall_disable)\n",
    "print(\"The Disable F1 score is:\", F1Score_disable)"
   ]
  },
  {
   "cell_type": "markdown",
   "id": "94ac3fd3",
   "metadata": {
    "papermill": {
     "duration": 0.115877,
     "end_time": "2021-08-25T14:07:39.503428",
     "exception": false,
     "start_time": "2021-08-25T14:07:39.387551",
     "status": "completed"
    },
    "tags": []
   },
   "source": [
    "# LGBT F1 score"
   ]
  },
  {
   "cell_type": "code",
   "execution_count": 84,
   "id": "81701abf",
   "metadata": {
    "execution": {
     "iopub.execute_input": "2021-08-25T14:07:39.743310Z",
     "iopub.status.busy": "2021-08-25T14:07:39.742695Z",
     "iopub.status.idle": "2021-08-25T14:07:39.745767Z",
     "shell.execute_reply": "2021-08-25T14:07:39.745291Z",
     "shell.execute_reply.started": "2021-08-25T12:46:47.728543Z"
    },
    "papermill": {
     "duration": 0.125928,
     "end_time": "2021-08-25T14:07:39.745899",
     "exception": false,
     "start_time": "2021-08-25T14:07:39.619971",
     "status": "completed"
    },
    "tags": []
   },
   "outputs": [],
   "source": [
    "lenght_LGBT_TN = len(TN[TN[\"Community\"] == \"LGBT\"])\n",
    "lenght_LGBT_FN = len(FN[FN[\"Community\"] == \"LGBT\"])\n",
    "lenght_LGBT_FP = len(FP[FP[\"Community\"] == \"LGBT\"])"
   ]
  },
  {
   "cell_type": "code",
   "execution_count": 85,
   "id": "59f800d9",
   "metadata": {
    "execution": {
     "iopub.execute_input": "2021-08-25T14:07:39.984797Z",
     "iopub.status.busy": "2021-08-25T14:07:39.984137Z",
     "iopub.status.idle": "2021-08-25T14:07:39.988133Z",
     "shell.execute_reply": "2021-08-25T14:07:39.987622Z",
     "shell.execute_reply.started": "2021-08-25T12:46:47.744716Z"
    },
    "papermill": {
     "duration": 0.125305,
     "end_time": "2021-08-25T14:07:39.988269",
     "exception": false,
     "start_time": "2021-08-25T14:07:39.862964",
     "status": "completed"
    },
    "tags": []
   },
   "outputs": [
    {
     "name": "stdout",
     "output_type": "stream",
     "text": [
      "The precision score is: 0.8181818181818182\n"
     ]
    }
   ],
   "source": [
    "# precision is the ratio of correctly predicted hateful memes to all pedicted hateful (so 129 and the wrong classified 52)\n",
    "#precision = TN / (TN + FN)\n",
    "\n",
    "precision_LGBT = lenght_LGBT_TN / (lenght_LGBT_TN + lenght_LGBT_FN)\n",
    "print( \"The precision score is:\", precision_LGBT)"
   ]
  },
  {
   "cell_type": "code",
   "execution_count": 86,
   "id": "a108c218",
   "metadata": {
    "execution": {
     "iopub.execute_input": "2021-08-25T14:07:40.230517Z",
     "iopub.status.busy": "2021-08-25T14:07:40.229733Z",
     "iopub.status.idle": "2021-08-25T14:07:40.232895Z",
     "shell.execute_reply": "2021-08-25T14:07:40.233368Z",
     "shell.execute_reply.started": "2021-08-25T12:46:47.760649Z"
    },
    "papermill": {
     "duration": 0.126909,
     "end_time": "2021-08-25T14:07:40.233532",
     "exception": false,
     "start_time": "2021-08-25T14:07:40.106623",
     "status": "completed"
    },
    "tags": []
   },
   "outputs": [
    {
     "name": "stdout",
     "output_type": "stream",
     "text": [
      "The recall score is: 0.45\n"
     ]
    }
   ],
   "source": [
    "# recall is the ratio of correctly predicted hateful to all actual hateful (so 129 over the entire hateful meme in the dataset)\n",
    "#recall = TN / (TN + FP)\n",
    "\n",
    "recall_LGBT = lenght_LGBT_TN / (lenght_LGBT_TN + lenght_LGBT_FP)\n",
    "print(\"The recall score is:\", recall_LGBT)"
   ]
  },
  {
   "cell_type": "code",
   "execution_count": 87,
   "id": "17c8c1d9",
   "metadata": {
    "execution": {
     "iopub.execute_input": "2021-08-25T14:07:40.471672Z",
     "iopub.status.busy": "2021-08-25T14:07:40.470956Z",
     "iopub.status.idle": "2021-08-25T14:07:40.474395Z",
     "shell.execute_reply": "2021-08-25T14:07:40.474848Z",
     "shell.execute_reply.started": "2021-08-25T12:46:47.775929Z"
    },
    "papermill": {
     "duration": 0.124923,
     "end_time": "2021-08-25T14:07:40.475026",
     "exception": false,
     "start_time": "2021-08-25T14:07:40.350103",
     "status": "completed"
    },
    "tags": []
   },
   "outputs": [
    {
     "name": "stdout",
     "output_type": "stream",
     "text": [
      "The LGBT F1 score is: 0.5806451612903226\n"
     ]
    }
   ],
   "source": [
    "#F1 score\n",
    "#The problem of the accuracy is that this metric doesn't represent well the performance of the model on both classes \n",
    "\n",
    "F1Score_LGBT = (2 * precision_LGBT * recall_LGBT) / (precision_LGBT + recall_LGBT)\n",
    "print(\"The LGBT F1 score is:\", F1Score_LGBT)"
   ]
  },
  {
   "cell_type": "markdown",
   "id": "2116002f",
   "metadata": {
    "papermill": {
     "duration": 0.11707,
     "end_time": "2021-08-25T14:07:40.709367",
     "exception": false,
     "start_time": "2021-08-25T14:07:40.592297",
     "status": "completed"
    },
    "tags": []
   },
   "source": [
    "# Black F1 score"
   ]
  },
  {
   "cell_type": "code",
   "execution_count": 88,
   "id": "7d4d06ff",
   "metadata": {
    "execution": {
     "iopub.execute_input": "2021-08-25T14:07:40.951961Z",
     "iopub.status.busy": "2021-08-25T14:07:40.951348Z",
     "iopub.status.idle": "2021-08-25T14:07:40.953762Z",
     "shell.execute_reply": "2021-08-25T14:07:40.954184Z",
     "shell.execute_reply.started": "2021-08-25T12:46:47.787884Z"
    },
    "papermill": {
     "duration": 0.128191,
     "end_time": "2021-08-25T14:07:40.954371",
     "exception": false,
     "start_time": "2021-08-25T14:07:40.826180",
     "status": "completed"
    },
    "tags": []
   },
   "outputs": [],
   "source": [
    "lenght_Black_TN = len(TN[TN[\"Community\"] == \"Black\"])\n",
    "lenght_Black_FN = len(FN[FN[\"Community\"] == \"Black\"])\n",
    "lenght_Black_FP = len(FP[FP[\"Community\"] == \"Black\"])"
   ]
  },
  {
   "cell_type": "code",
   "execution_count": 89,
   "id": "483ee3a1",
   "metadata": {
    "execution": {
     "iopub.execute_input": "2021-08-25T14:07:41.193152Z",
     "iopub.status.busy": "2021-08-25T14:07:41.192472Z",
     "iopub.status.idle": "2021-08-25T14:07:41.195978Z",
     "shell.execute_reply": "2021-08-25T14:07:41.195453Z",
     "shell.execute_reply.started": "2021-08-25T12:46:47.800124Z"
    },
    "papermill": {
     "duration": 0.124639,
     "end_time": "2021-08-25T14:07:41.196126",
     "exception": false,
     "start_time": "2021-08-25T14:07:41.071487",
     "status": "completed"
    },
    "tags": []
   },
   "outputs": [
    {
     "name": "stdout",
     "output_type": "stream",
     "text": [
      "The precision score is: 0.9259259259259259\n"
     ]
    }
   ],
   "source": [
    "# precision is the ratio of correctly predicted hateful memes to all pedicted hateful (so 129 and the wrong classified 52)\n",
    "#precision = TN / (TN + FN)\n",
    "\n",
    "precision_Black = lenght_Black_TN / (lenght_Black_TN + lenght_Black_FN)\n",
    "print( \"The precision score is:\", precision_Black)"
   ]
  },
  {
   "cell_type": "code",
   "execution_count": 90,
   "id": "7c0419e9",
   "metadata": {
    "execution": {
     "iopub.execute_input": "2021-08-25T14:07:41.438305Z",
     "iopub.status.busy": "2021-08-25T14:07:41.437669Z",
     "iopub.status.idle": "2021-08-25T14:07:41.440634Z",
     "shell.execute_reply": "2021-08-25T14:07:41.441100Z",
     "shell.execute_reply.started": "2021-08-25T12:46:47.813794Z"
    },
    "papermill": {
     "duration": 0.125629,
     "end_time": "2021-08-25T14:07:41.441268",
     "exception": false,
     "start_time": "2021-08-25T14:07:41.315639",
     "status": "completed"
    },
    "tags": []
   },
   "outputs": [
    {
     "name": "stdout",
     "output_type": "stream",
     "text": [
      "The recall score is: 0.22321428571428573\n"
     ]
    }
   ],
   "source": [
    "# recall is the ratio of correctly predicted hateful to all actual hateful (so 129 over the entire hateful meme in the dataset)\n",
    "#recall = TN / (TN + FP)\n",
    "\n",
    "recall_Black = lenght_Black_TN / (lenght_Black_TN + lenght_Black_FP)\n",
    "print(\"The recall score is:\", recall_Black)"
   ]
  },
  {
   "cell_type": "code",
   "execution_count": 91,
   "id": "402b6967",
   "metadata": {
    "execution": {
     "iopub.execute_input": "2021-08-25T14:07:41.679611Z",
     "iopub.status.busy": "2021-08-25T14:07:41.678923Z",
     "iopub.status.idle": "2021-08-25T14:07:41.683087Z",
     "shell.execute_reply": "2021-08-25T14:07:41.682595Z",
     "shell.execute_reply.started": "2021-08-25T12:46:47.825581Z"
    },
    "papermill": {
     "duration": 0.125096,
     "end_time": "2021-08-25T14:07:41.683227",
     "exception": false,
     "start_time": "2021-08-25T14:07:41.558131",
     "status": "completed"
    },
    "tags": []
   },
   "outputs": [
    {
     "name": "stdout",
     "output_type": "stream",
     "text": [
      "The Black F1 score is: 0.3597122302158274\n"
     ]
    }
   ],
   "source": [
    "#F1 score\n",
    "#The problem of the accuracy is that this metric doesn't represent well the performance of the model on both classes \n",
    "\n",
    "F1Score_Black = (2 * precision_Black * recall_Black) / (precision_Black + recall_Black)\n",
    "print(\"The Black F1 score is:\", F1Score_Black)"
   ]
  },
  {
   "cell_type": "markdown",
   "id": "4d3b584f",
   "metadata": {
    "papermill": {
     "duration": 0.119436,
     "end_time": "2021-08-25T14:07:41.921018",
     "exception": false,
     "start_time": "2021-08-25T14:07:41.801582",
     "status": "completed"
    },
    "tags": []
   },
   "source": [
    "# Musulman F1 Score"
   ]
  },
  {
   "cell_type": "code",
   "execution_count": 92,
   "id": "e4f924b3",
   "metadata": {
    "execution": {
     "iopub.execute_input": "2021-08-25T14:07:42.169851Z",
     "iopub.status.busy": "2021-08-25T14:07:42.168950Z",
     "iopub.status.idle": "2021-08-25T14:07:42.171713Z",
     "shell.execute_reply": "2021-08-25T14:07:42.171243Z",
     "shell.execute_reply.started": "2021-08-25T12:46:47.838391Z"
    },
    "papermill": {
     "duration": 0.130299,
     "end_time": "2021-08-25T14:07:42.171844",
     "exception": false,
     "start_time": "2021-08-25T14:07:42.041545",
     "status": "completed"
    },
    "tags": []
   },
   "outputs": [],
   "source": [
    "lenght_Musulman_TN = len(TN[TN[\"Community\"] == \"Musulman\"])\n",
    "lenght_Musulman_FN = len(FN[FN[\"Community\"] == \"Musulman\"])\n",
    "lenght_Musulman_FP = len(FP[FP[\"Community\"] == \"Musulman\"])"
   ]
  },
  {
   "cell_type": "code",
   "execution_count": 93,
   "id": "9da759bf",
   "metadata": {
    "execution": {
     "iopub.execute_input": "2021-08-25T14:07:42.418580Z",
     "iopub.status.busy": "2021-08-25T14:07:42.417871Z",
     "iopub.status.idle": "2021-08-25T14:07:42.421250Z",
     "shell.execute_reply": "2021-08-25T14:07:42.421635Z",
     "shell.execute_reply.started": "2021-08-25T12:46:47.849884Z"
    },
    "papermill": {
     "duration": 0.130083,
     "end_time": "2021-08-25T14:07:42.421812",
     "exception": false,
     "start_time": "2021-08-25T14:07:42.291729",
     "status": "completed"
    },
    "tags": []
   },
   "outputs": [
    {
     "name": "stdout",
     "output_type": "stream",
     "text": [
      "The precision score is: 0.8648648648648649\n"
     ]
    }
   ],
   "source": [
    "# precision is the ratio of correctly predicted hateful memes to all pedicted hateful (so 129 and the wrong classified 52)\n",
    "#precision = TN / (TN + FN)\n",
    "\n",
    "precision_Musulman = lenght_Musulman_TN / (lenght_Musulman_TN + lenght_Musulman_FN)\n",
    "print( \"The precision score is:\", precision_Musulman)"
   ]
  },
  {
   "cell_type": "code",
   "execution_count": 94,
   "id": "85dec03c",
   "metadata": {
    "execution": {
     "iopub.execute_input": "2021-08-25T14:07:42.665248Z",
     "iopub.status.busy": "2021-08-25T14:07:42.664635Z",
     "iopub.status.idle": "2021-08-25T14:07:42.667805Z",
     "shell.execute_reply": "2021-08-25T14:07:42.668259Z",
     "shell.execute_reply.started": "2021-08-25T12:46:47.870928Z"
    },
    "papermill": {
     "duration": 0.128669,
     "end_time": "2021-08-25T14:07:42.668434",
     "exception": false,
     "start_time": "2021-08-25T14:07:42.539765",
     "status": "completed"
    },
    "tags": []
   },
   "outputs": [
    {
     "name": "stdout",
     "output_type": "stream",
     "text": [
      "The recall score is: 0.34408602150537637\n"
     ]
    }
   ],
   "source": [
    "# recall is the ratio of correctly predicted hateful to all actual hateful (so 129 over the entire hateful meme in the dataset)\n",
    "#recall = TN / (TN + FP)\n",
    "\n",
    "recall_Musulman = lenght_Musulman_TN / (lenght_Musulman_TN + lenght_Musulman_FP)\n",
    "print(\"The recall score is:\", recall_Musulman)"
   ]
  },
  {
   "cell_type": "code",
   "execution_count": 95,
   "id": "74fcfda9",
   "metadata": {
    "execution": {
     "iopub.execute_input": "2021-08-25T14:07:42.906673Z",
     "iopub.status.busy": "2021-08-25T14:07:42.906094Z",
     "iopub.status.idle": "2021-08-25T14:07:42.910955Z",
     "shell.execute_reply": "2021-08-25T14:07:42.911544Z",
     "shell.execute_reply.started": "2021-08-25T12:46:47.883288Z"
    },
    "papermill": {
     "duration": 0.125588,
     "end_time": "2021-08-25T14:07:42.911720",
     "exception": false,
     "start_time": "2021-08-25T14:07:42.786132",
     "status": "completed"
    },
    "tags": []
   },
   "outputs": [
    {
     "name": "stdout",
     "output_type": "stream",
     "text": [
      "The Musulman F1 score is: 0.49230769230769234\n"
     ]
    }
   ],
   "source": [
    "#F1 score\n",
    "#The problem of the accuracy is that this metric doesn't represent well the performance of the model on both classes \n",
    "\n",
    "F1Score_Musulman = (2 * precision_Musulman * recall_Musulman) / (precision_Musulman + recall_Musulman)\n",
    "print(\"The Musulman F1 score is:\", F1Score_Musulman)"
   ]
  },
  {
   "cell_type": "markdown",
   "id": "a7ff1b72",
   "metadata": {
    "papermill": {
     "duration": 0.119209,
     "end_time": "2021-08-25T14:07:43.149556",
     "exception": false,
     "start_time": "2021-08-25T14:07:43.030347",
     "status": "completed"
    },
    "tags": []
   },
   "source": [
    "# Transgender F1 Score"
   ]
  },
  {
   "cell_type": "code",
   "execution_count": 96,
   "id": "3315bbb5",
   "metadata": {
    "execution": {
     "iopub.execute_input": "2021-08-25T14:07:43.392194Z",
     "iopub.status.busy": "2021-08-25T14:07:43.391486Z",
     "iopub.status.idle": "2021-08-25T14:07:43.397591Z",
     "shell.execute_reply": "2021-08-25T14:07:43.398133Z",
     "shell.execute_reply.started": "2021-08-25T12:46:47.895920Z"
    },
    "papermill": {
     "duration": 0.129616,
     "end_time": "2021-08-25T14:07:43.398302",
     "exception": false,
     "start_time": "2021-08-25T14:07:43.268686",
     "status": "completed"
    },
    "tags": []
   },
   "outputs": [],
   "source": [
    "lenght_Transgender_TN = len(TN[TN[\"Community\"] == \"Transgender\"])\n",
    "lenght_Transgender_FN = len(FN[FN[\"Community\"] == \"Transgender\"])\n",
    "lenght_Transgender_FP = len(FP[FP[\"Community\"] == \"Transgender\"])"
   ]
  },
  {
   "cell_type": "code",
   "execution_count": 97,
   "id": "91365993",
   "metadata": {
    "execution": {
     "iopub.execute_input": "2021-08-25T14:07:43.639496Z",
     "iopub.status.busy": "2021-08-25T14:07:43.638804Z",
     "iopub.status.idle": "2021-08-25T14:07:43.644262Z",
     "shell.execute_reply": "2021-08-25T14:07:43.643744Z",
     "shell.execute_reply.started": "2021-08-25T12:46:47.909351Z"
    },
    "papermill": {
     "duration": 0.12691,
     "end_time": "2021-08-25T14:07:43.644430",
     "exception": false,
     "start_time": "2021-08-25T14:07:43.517520",
     "status": "completed"
    },
    "tags": []
   },
   "outputs": [
    {
     "name": "stdout",
     "output_type": "stream",
     "text": [
      "The precision score is: 0.8\n"
     ]
    }
   ],
   "source": [
    "# precision is the ratio of correctly predicted hateful memes to all pedicted hateful (so 129 and the wrong classified 52)\n",
    "#precision = TN / (TN + FN)\n",
    "\n",
    "precision_Transgender = lenght_Transgender_TN / (lenght_Transgender_TN + lenght_Transgender_FN)\n",
    "print( \"The precision score is:\", precision_Transgender)"
   ]
  },
  {
   "cell_type": "code",
   "execution_count": 98,
   "id": "b6d923bd",
   "metadata": {
    "execution": {
     "iopub.execute_input": "2021-08-25T14:07:43.889194Z",
     "iopub.status.busy": "2021-08-25T14:07:43.888517Z",
     "iopub.status.idle": "2021-08-25T14:07:43.891757Z",
     "shell.execute_reply": "2021-08-25T14:07:43.892211Z",
     "shell.execute_reply.started": "2021-08-25T12:46:47.922461Z"
    },
    "papermill": {
     "duration": 0.127552,
     "end_time": "2021-08-25T14:07:43.892372",
     "exception": false,
     "start_time": "2021-08-25T14:07:43.764820",
     "status": "completed"
    },
    "tags": []
   },
   "outputs": [
    {
     "name": "stdout",
     "output_type": "stream",
     "text": [
      "The recall score is: 0.3076923076923077\n"
     ]
    }
   ],
   "source": [
    "# recall is the ratio of correctly predicted hateful to all actual hateful (so 129 over the entire hateful meme in the dataset)\n",
    "#recall = TN / (TN + FP)\n",
    "\n",
    "recall_Transgender = lenght_Transgender_TN / (lenght_Transgender_TN + lenght_Transgender_FP)\n",
    "print(\"The recall score is:\", recall_Transgender)"
   ]
  },
  {
   "cell_type": "code",
   "execution_count": 99,
   "id": "221cfc88",
   "metadata": {
    "execution": {
     "iopub.execute_input": "2021-08-25T14:07:44.138770Z",
     "iopub.status.busy": "2021-08-25T14:07:44.138174Z",
     "iopub.status.idle": "2021-08-25T14:07:44.141039Z",
     "shell.execute_reply": "2021-08-25T14:07:44.141801Z",
     "shell.execute_reply.started": "2021-08-25T12:46:47.937010Z"
    },
    "papermill": {
     "duration": 0.129306,
     "end_time": "2021-08-25T14:07:44.142034",
     "exception": false,
     "start_time": "2021-08-25T14:07:44.012728",
     "status": "completed"
    },
    "tags": []
   },
   "outputs": [
    {
     "name": "stdout",
     "output_type": "stream",
     "text": [
      "The Transgender F1 score is: 0.4444444444444444\n"
     ]
    }
   ],
   "source": [
    "#F1 score\n",
    "#The problem of the accuracy is that this metric doesn't represent well the performance of the model on both classes \n",
    "\n",
    "F1Score_Transgender = (2 * precision_Transgender * recall_Transgender) / (precision_Transgender + recall_Transgender)\n",
    "print(\"The Transgender F1 score is:\", F1Score_Transgender)"
   ]
  },
  {
   "cell_type": "markdown",
   "id": "f382307e",
   "metadata": {
    "papermill": {
     "duration": 0.118309,
     "end_time": "2021-08-25T14:07:44.381599",
     "exception": false,
     "start_time": "2021-08-25T14:07:44.263290",
     "status": "completed"
    },
    "tags": []
   },
   "source": [
    "# Jewish F1 Score"
   ]
  },
  {
   "cell_type": "code",
   "execution_count": 100,
   "id": "68ec52a3",
   "metadata": {
    "execution": {
     "iopub.execute_input": "2021-08-25T14:07:44.622057Z",
     "iopub.status.busy": "2021-08-25T14:07:44.621473Z",
     "iopub.status.idle": "2021-08-25T14:07:44.627522Z",
     "shell.execute_reply": "2021-08-25T14:07:44.627976Z",
     "shell.execute_reply.started": "2021-08-25T12:46:47.948161Z"
    },
    "papermill": {
     "duration": 0.127827,
     "end_time": "2021-08-25T14:07:44.628174",
     "exception": false,
     "start_time": "2021-08-25T14:07:44.500347",
     "status": "completed"
    },
    "tags": []
   },
   "outputs": [],
   "source": [
    "lenght_Jewish_TN = len(TN[TN[\"Community\"] == \"Jewish\"])\n",
    "lenght_Jewish_FN = len(FN[FN[\"Community\"] == \"Jewish\"])\n",
    "lenght_Jewish_FP = len(FP[FP[\"Community\"] == \"Jewish\"])"
   ]
  },
  {
   "cell_type": "code",
   "execution_count": 101,
   "id": "945825b9",
   "metadata": {
    "execution": {
     "iopub.execute_input": "2021-08-25T14:07:44.869987Z",
     "iopub.status.busy": "2021-08-25T14:07:44.869324Z",
     "iopub.status.idle": "2021-08-25T14:07:44.874867Z",
     "shell.execute_reply": "2021-08-25T14:07:44.874413Z",
     "shell.execute_reply.started": "2021-08-25T12:46:47.971141Z"
    },
    "papermill": {
     "duration": 0.126964,
     "end_time": "2021-08-25T14:07:44.875016",
     "exception": false,
     "start_time": "2021-08-25T14:07:44.748052",
     "status": "completed"
    },
    "tags": []
   },
   "outputs": [
    {
     "name": "stdout",
     "output_type": "stream",
     "text": [
      "The precision score is: 0.9090909090909091\n"
     ]
    }
   ],
   "source": [
    "# precision is the ratio of correctly predicted hateful memes to all pedicted hateful (so 129 and the wrong classified 52)\n",
    "#precision = TN / (TN + FN)\n",
    "\n",
    "precision_Jewish = lenght_Jewish_TN / (lenght_Jewish_TN + lenght_Jewish_FN)\n",
    "print( \"The precision score is:\", precision_Jewish)"
   ]
  },
  {
   "cell_type": "code",
   "execution_count": 102,
   "id": "f3aed134",
   "metadata": {
    "execution": {
     "iopub.execute_input": "2021-08-25T14:07:45.118231Z",
     "iopub.status.busy": "2021-08-25T14:07:45.117299Z",
     "iopub.status.idle": "2021-08-25T14:07:45.123171Z",
     "shell.execute_reply": "2021-08-25T14:07:45.122692Z",
     "shell.execute_reply.started": "2021-08-25T12:46:47.987494Z"
    },
    "papermill": {
     "duration": 0.128543,
     "end_time": "2021-08-25T14:07:45.123319",
     "exception": false,
     "start_time": "2021-08-25T14:07:44.994776",
     "status": "completed"
    },
    "tags": []
   },
   "outputs": [
    {
     "name": "stdout",
     "output_type": "stream",
     "text": [
      "The recall score is: 0.31746031746031744\n"
     ]
    }
   ],
   "source": [
    "# recall is the ratio of correctly predicted hateful to all actual hateful (so 129 over the entire hateful meme in the dataset)\n",
    "#recall = TN / (TN + FP)\n",
    "\n",
    "recall_Jewish = lenght_Jewish_TN / (lenght_Jewish_TN + lenght_Jewish_FP)\n",
    "print(\"The recall score is:\", recall_Jewish)"
   ]
  },
  {
   "cell_type": "code",
   "execution_count": 103,
   "id": "c60a8e47",
   "metadata": {
    "execution": {
     "iopub.execute_input": "2021-08-25T14:07:45.368295Z",
     "iopub.status.busy": "2021-08-25T14:07:45.367586Z",
     "iopub.status.idle": "2021-08-25T14:07:45.371098Z",
     "shell.execute_reply": "2021-08-25T14:07:45.370518Z",
     "shell.execute_reply.started": "2021-08-25T12:46:48.001882Z"
    },
    "papermill": {
     "duration": 0.127851,
     "end_time": "2021-08-25T14:07:45.371243",
     "exception": false,
     "start_time": "2021-08-25T14:07:45.243392",
     "status": "completed"
    },
    "tags": []
   },
   "outputs": [
    {
     "name": "stdout",
     "output_type": "stream",
     "text": [
      "The Jewish F1 score is: 0.4705882352941177\n"
     ]
    }
   ],
   "source": [
    "#F1 score\n",
    "#The problem of the accuracy is that this metric doesn't represent well the performance of the model on both classes \n",
    "\n",
    "F1Score_Jewish = (2 * precision_Jewish * recall_Jewish) / (precision_Jewish + recall_Jewish)\n",
    "print(\"The Jewish F1 score is:\", F1Score_Jewish)"
   ]
  },
  {
   "cell_type": "markdown",
   "id": "dc630978",
   "metadata": {
    "papermill": {
     "duration": 0.119064,
     "end_time": "2021-08-25T14:07:45.610445",
     "exception": false,
     "start_time": "2021-08-25T14:07:45.491381",
     "status": "completed"
    },
    "tags": []
   },
   "source": [
    "# People of Color F1 Score"
   ]
  },
  {
   "cell_type": "code",
   "execution_count": 104,
   "id": "15c0bf74",
   "metadata": {
    "execution": {
     "iopub.execute_input": "2021-08-25T14:07:45.857936Z",
     "iopub.status.busy": "2021-08-25T14:07:45.857328Z",
     "iopub.status.idle": "2021-08-25T14:07:45.860327Z",
     "shell.execute_reply": "2021-08-25T14:07:45.859824Z",
     "shell.execute_reply.started": "2021-08-25T12:46:48.014559Z"
    },
    "papermill": {
     "duration": 0.130187,
     "end_time": "2021-08-25T14:07:45.860459",
     "exception": false,
     "start_time": "2021-08-25T14:07:45.730272",
     "status": "completed"
    },
    "tags": []
   },
   "outputs": [],
   "source": [
    "lenght_PeopleofColor_TN = len(TN[TN[\"Community\"] == \"People of Color\"])\n",
    "lenght_PeopleofColor_FN = len(FN[FN[\"Community\"] == \"People of Color\"])\n",
    "lenght_PeopleofColor_FP = len(FP[FP[\"Community\"] == \"People of Color\"])"
   ]
  },
  {
   "cell_type": "code",
   "execution_count": 105,
   "id": "d05fe226",
   "metadata": {
    "execution": {
     "iopub.execute_input": "2021-08-25T14:07:46.107938Z",
     "iopub.status.busy": "2021-08-25T14:07:46.107276Z",
     "iopub.status.idle": "2021-08-25T14:07:46.111205Z",
     "shell.execute_reply": "2021-08-25T14:07:46.110766Z",
     "shell.execute_reply.started": "2021-08-25T12:46:48.031349Z"
    },
    "papermill": {
     "duration": 0.130207,
     "end_time": "2021-08-25T14:07:46.111349",
     "exception": false,
     "start_time": "2021-08-25T14:07:45.981142",
     "status": "completed"
    },
    "tags": []
   },
   "outputs": [
    {
     "name": "stdout",
     "output_type": "stream",
     "text": [
      "The precision score is: 0.75\n"
     ]
    }
   ],
   "source": [
    "# precision is the ratio of correctly predicted hateful memes to all pedicted hateful (so 129 and the wrong classified 52)\n",
    "#precision = TN / (TN + FN)\n",
    "\n",
    "precision_PeopleofColor = lenght_PeopleofColor_TN / (lenght_PeopleofColor_TN + lenght_PeopleofColor_FN)\n",
    "print( \"The precision score is:\", precision_PeopleofColor)"
   ]
  },
  {
   "cell_type": "code",
   "execution_count": 106,
   "id": "9d53388a",
   "metadata": {
    "execution": {
     "iopub.execute_input": "2021-08-25T14:07:46.356089Z",
     "iopub.status.busy": "2021-08-25T14:07:46.355472Z",
     "iopub.status.idle": "2021-08-25T14:07:46.358926Z",
     "shell.execute_reply": "2021-08-25T14:07:46.359346Z",
     "shell.execute_reply.started": "2021-08-25T12:46:48.043238Z"
    },
    "papermill": {
     "duration": 0.12857,
     "end_time": "2021-08-25T14:07:46.359509",
     "exception": false,
     "start_time": "2021-08-25T14:07:46.230939",
     "status": "completed"
    },
    "tags": []
   },
   "outputs": [
    {
     "name": "stdout",
     "output_type": "stream",
     "text": [
      "The recall score is: 0.15789473684210525\n"
     ]
    }
   ],
   "source": [
    "# recall is the ratio of correctly predicted hateful to all actual hateful (so 129 over the entire hateful meme in the dataset)\n",
    "#recall = TN / (TN + FP)\n",
    "\n",
    "recall_PeopleofColor = lenght_PeopleofColor_TN / (lenght_PeopleofColor_TN + lenght_PeopleofColor_FP)\n",
    "print(\"The recall score is:\", recall_PeopleofColor)"
   ]
  },
  {
   "cell_type": "code",
   "execution_count": 107,
   "id": "bb6948da",
   "metadata": {
    "execution": {
     "iopub.execute_input": "2021-08-25T14:07:46.606880Z",
     "iopub.status.busy": "2021-08-25T14:07:46.606311Z",
     "iopub.status.idle": "2021-08-25T14:07:46.610480Z",
     "shell.execute_reply": "2021-08-25T14:07:46.609895Z",
     "shell.execute_reply.started": "2021-08-25T12:46:48.057274Z"
    },
    "papermill": {
     "duration": 0.128398,
     "end_time": "2021-08-25T14:07:46.610611",
     "exception": false,
     "start_time": "2021-08-25T14:07:46.482213",
     "status": "completed"
    },
    "tags": []
   },
   "outputs": [
    {
     "name": "stdout",
     "output_type": "stream",
     "text": [
      "The People of color F1 score is: 0.2608695652173913\n"
     ]
    }
   ],
   "source": [
    "#F1 score\n",
    "#The problem of the accuracy is that this metric doesn't represent well the performance of the model on both classes \n",
    "\n",
    "F1Score_PeopleofColor = (2 * precision_PeopleofColor * recall_PeopleofColor) / (precision_PeopleofColor + recall_PeopleofColor)\n",
    "print(\"The People of color F1 score is:\", F1Score_PeopleofColor)"
   ]
  },
  {
   "cell_type": "markdown",
   "id": "8e25df9c",
   "metadata": {
    "papermill": {
     "duration": 0.12055,
     "end_time": "2021-08-25T14:07:46.852210",
     "exception": false,
     "start_time": "2021-08-25T14:07:46.731660",
     "status": "completed"
    },
    "tags": []
   },
   "source": [
    "# Graph of F1 Score by categories"
   ]
  },
  {
   "cell_type": "code",
   "execution_count": 108,
   "id": "17f0b687",
   "metadata": {
    "execution": {
     "iopub.execute_input": "2021-08-25T14:07:47.099902Z",
     "iopub.status.busy": "2021-08-25T14:07:47.098943Z",
     "iopub.status.idle": "2021-08-25T14:07:47.101811Z",
     "shell.execute_reply": "2021-08-25T14:07:47.101256Z",
     "shell.execute_reply.started": "2021-08-25T12:46:48.075561Z"
    },
    "papermill": {
     "duration": 0.12888,
     "end_time": "2021-08-25T14:07:47.101939",
     "exception": false,
     "start_time": "2021-08-25T14:07:46.973059",
     "status": "completed"
    },
    "tags": []
   },
   "outputs": [],
   "source": [
    "F1Score_women_graph = F1Score_women * 100\n",
    "F1Score_disable_graph = F1Score_disable * 100\n",
    "F1Score_LGBT_graph = F1Score_LGBT * 100\n",
    "F1Score_Black_graph = F1Score_Black * 100\n",
    "F1Score_Musulman_graph = F1Score_Musulman * 100\n",
    "F1Score_Transgender_graph = F1Score_Transgender * 100\n",
    "F1Score_Jewish_graph = F1Score_Jewish * 100\n",
    "F1Score_PeopleofColor_graph = F1Score_PeopleofColor * 100"
   ]
  },
  {
   "cell_type": "code",
   "execution_count": 109,
   "id": "33d9eeee",
   "metadata": {
    "execution": {
     "iopub.execute_input": "2021-08-25T14:07:47.385391Z",
     "iopub.status.busy": "2021-08-25T14:07:47.382308Z",
     "iopub.status.idle": "2021-08-25T14:07:47.550242Z",
     "shell.execute_reply": "2021-08-25T14:07:47.550717Z",
     "shell.execute_reply.started": "2021-08-25T12:46:48.087007Z"
    },
    "papermill": {
     "duration": 0.327405,
     "end_time": "2021-08-25T14:07:47.550906",
     "exception": false,
     "start_time": "2021-08-25T14:07:47.223501",
     "status": "completed"
    },
    "tags": []
   },
   "outputs": [
    {
     "data": {
      "text/plain": [
       "Text(0, 0.5, 'F1 Score')"
      ]
     },
     "execution_count": 109,
     "metadata": {},
     "output_type": "execute_result"
    },
    {
     "data": {
      "image/png": "[encoded data removed]",
      "text/plain": [
       "<Figure size 432x288 with 1 Axes>"
      ]
     },
     "metadata": {
      "needs_background": "light"
     },
     "output_type": "display_data"
    }
   ],
   "source": [
    "BERT_Graph_categories = {\n",
    "'Disable' : F1Score_disable_graph,\n",
    "'Women' : F1Score_women_graph,\n",
    "'LGBT' : F1Score_LGBT_graph,\n",
    "'Black' : F1Score_Black_graph,\n",
    "'Musulman' : F1Score_Musulman_graph,\n",
    "'Transgender' : F1Score_Transgender_graph,\n",
    "'Jewish' : F1Score_Jewish_graph,\n",
    "'People of Color' : F1Score_PeopleofColor_graph\n",
    "}\n",
    "\n",
    "lists = sorted(BERT_Graph_categories.items()) # sorted by key, return a list of tuples\n",
    "communities, numb_of_samples = zip(*lists) # unpack a list of pairs into two tuples\n",
    "\n",
    "plt.xticks(rotation='vertical')\n",
    "df = plt.bar(communities, numb_of_samples, color='b')\n",
    "plt.title('F1 Score by community')\n",
    "plt.xlabel('Communities')\n",
    "plt.ylabel('F1 Score')"
   ]
  },
  {
   "cell_type": "code",
   "execution_count": 110,
   "id": "4496bebc",
   "metadata": {
    "execution": {
     "iopub.execute_input": "2021-08-25T14:07:47.804229Z",
     "iopub.status.busy": "2021-08-25T14:07:47.803585Z",
     "iopub.status.idle": "2021-08-25T14:07:47.807147Z",
     "shell.execute_reply": "2021-08-25T14:07:47.806532Z",
     "shell.execute_reply.started": "2021-08-25T12:46:48.302183Z"
    },
    "papermill": {
     "duration": 0.131646,
     "end_time": "2021-08-25T14:07:47.807282",
     "exception": false,
     "start_time": "2021-08-25T14:07:47.675636",
     "status": "completed"
    },
    "tags": []
   },
   "outputs": [
    {
     "data": {
      "text/plain": [
       "{'Disable': 3.508771929824561,\n",
       " 'Women': 42.857142857142854,\n",
       " 'LGBT': 58.06451612903226,\n",
       " 'Black': 35.97122302158274,\n",
       " 'Musulman': 49.23076923076923,\n",
       " 'Transgender': 44.44444444444444,\n",
       " 'Jewish': 47.05882352941177,\n",
       " 'People of Color': 26.08695652173913}"
      ]
     },
     "execution_count": 110,
     "metadata": {},
     "output_type": "execute_result"
    }
   ],
   "source": [
    "BERT_Graph_categories"
   ]
  },
  {
   "cell_type": "code",
   "execution_count": 111,
   "id": "9529122e",
   "metadata": {
    "execution": {
     "iopub.execute_input": "2021-08-25T14:07:48.062220Z",
     "iopub.status.busy": "2021-08-25T14:07:48.061544Z",
     "iopub.status.idle": "2021-08-25T14:07:48.066076Z",
     "shell.execute_reply": "2021-08-25T14:07:48.065459Z",
     "shell.execute_reply.started": "2021-08-25T12:46:48.311630Z"
    },
    "papermill": {
     "duration": 0.134249,
     "end_time": "2021-08-25T14:07:48.066209",
     "exception": false,
     "start_time": "2021-08-25T14:07:47.931960",
     "status": "completed"
    },
    "tags": []
   },
   "outputs": [
    {
     "data": {
      "text/plain": [
       "{'Disable': 55.00000000000001,\n",
       " 'Women': 45.16129032258064,\n",
       " 'LGBT': 50.0,\n",
       " 'Black': 53.987730061349694,\n",
       " 'Musulman': 56.75675675675676,\n",
       " 'Transgender': 47.05882352941176,\n",
       " 'Jewish': 70.58823529411765,\n",
       " 'People of Color': 57.14285714285714}"
      ]
     },
     "execution_count": 111,
     "metadata": {},
     "output_type": "execute_result"
    }
   ],
   "source": [
    "multimodel_graph_cat = {\n",
    "    'Disable': 55.00000000000001,\n",
    "    'Women': 45.16129032258064,\n",
    "    'LGBT': 50.0,\n",
    "    'Black': 53.987730061349694,\n",
    "    'Musulman': 56.75675675675676,\n",
    "    'Transgender': 47.05882352941176,\n",
    "    'Jewish': 70.58823529411765,\n",
    "    'People of Color': 57.14285714285714}\n",
    "\n",
    "multimodel_graph_cat"
   ]
  },
  {
   "cell_type": "code",
   "execution_count": 112,
   "id": "1229ea1a",
   "metadata": {
    "execution": {
     "iopub.execute_input": "2021-08-25T14:07:48.322262Z",
     "iopub.status.busy": "2021-08-25T14:07:48.321470Z",
     "iopub.status.idle": "2021-08-25T14:07:48.324972Z",
     "shell.execute_reply": "2021-08-25T14:07:48.324509Z",
     "shell.execute_reply.started": "2021-08-25T12:46:48.327449Z"
    },
    "papermill": {
     "duration": 0.132528,
     "end_time": "2021-08-25T14:07:48.325123",
     "exception": false,
     "start_time": "2021-08-25T14:07:48.192595",
     "status": "completed"
    },
    "tags": []
   },
   "outputs": [
    {
     "data": {
      "text/plain": [
       "(['Transgender', 44, 47], ['Women', 43, 45])"
      ]
     },
     "execution_count": 112,
     "metadata": {},
     "output_type": "execute_result"
    }
   ],
   "source": [
    "[\"Black\", 36, 54], [\"Disabled\", 3, 55], [\"Jewish\", 47, 70], [\"LGBT\", 58, 50], [\"Muslim\", 49, 56], [\"People of color\", 26, 57],\n",
    "[\"Transgender\", 44, 47], [\"Women\", 43, 45]"
   ]
  },
  {
   "cell_type": "code",
   "execution_count": 113,
   "id": "a4643e6d",
   "metadata": {
    "execution": {
     "iopub.execute_input": "2021-08-25T14:07:48.606738Z",
     "iopub.status.busy": "2021-08-25T14:07:48.598660Z",
     "iopub.status.idle": "2021-08-25T14:07:48.802380Z",
     "shell.execute_reply": "2021-08-25T14:07:48.801795Z",
     "shell.execute_reply.started": "2021-08-25T12:46:48.340172Z"
    },
    "papermill": {
     "duration": 0.354019,
     "end_time": "2021-08-25T14:07:48.802517",
     "exception": false,
     "start_time": "2021-08-25T14:07:48.448498",
     "status": "completed"
    },
    "tags": []
   },
   "outputs": [
    {
     "data": {
      "image/png": "[encoded data removed]",
      "text/plain": [
       "<Figure size 1296x432 with 1 Axes>"
      ]
     },
     "metadata": {
      "needs_background": "light"
     },
     "output_type": "display_data"
    }
   ],
   "source": [
    "data_cat=[\n",
    "    [\"Black\", 36, 54], [\"Disabled\", 3, 55], [\"Jewish\", 47, 70], [\"LGBT\", 58, 50], [\"Muslim\", 49, 56], [\"People of color\", 26, 57],\n",
    "[\"Transgender\", 44, 47], [\"Women\", 43, 45]\n",
    "     ]\n",
    "\n",
    "df_cat=pd.DataFrame(data_cat,columns=[\"Communities\", \"BERT model\", \"DrivenData Multimodal Model\"])\n",
    "df_cat.plot(x=\"Communities\", y=[\"BERT model\", \"DrivenData Multimodal Model\"], kind=\"bar\",figsize=(18,6))\n",
    "plt.title(\"F1 Score by community for each Model - BERT Model and DrivenData Multimodal Model\")\n",
    "plt.ylabel(\"F1 Score percentage\")\n",
    "plt.show()"
   ]
  },
  {
   "cell_type": "markdown",
   "id": "f410c132",
   "metadata": {
    "papermill": {
     "duration": 0.12474,
     "end_time": "2021-08-25T14:07:49.051848",
     "exception": false,
     "start_time": "2021-08-25T14:07:48.927108",
     "status": "completed"
    },
    "tags": []
   },
   "source": [
    "# Graph F1 Score Uni / Multi / All"
   ]
  },
  {
   "cell_type": "code",
   "execution_count": 114,
   "id": "ca99d81d",
   "metadata": {
    "execution": {
     "iopub.execute_input": "2021-08-25T14:07:49.306529Z",
     "iopub.status.busy": "2021-08-25T14:07:49.305892Z",
     "iopub.status.idle": "2021-08-25T14:07:49.311456Z",
     "shell.execute_reply": "2021-08-25T14:07:49.311894Z",
     "shell.execute_reply.started": "2021-08-25T12:46:48.613336Z"
    },
    "papermill": {
     "duration": 0.135717,
     "end_time": "2021-08-25T14:07:49.312091",
     "exception": false,
     "start_time": "2021-08-25T14:07:49.176374",
     "status": "completed"
    },
    "tags": []
   },
   "outputs": [],
   "source": [
    "uniFrame_TN = TN[TN['Multi/Uni'] == 'uni']\n",
    "uniFrame_FN = FN[FN['Multi/Uni'] == 'uni']\n",
    "uniFrame_FP = FP[FP['Multi/Uni'] == 'uni']\n",
    "\n",
    "MultiFrame_TN = TN[TN['Multi/Uni'] == 'multi']\n",
    "MultiFrame_FN = FN[FN['Multi/Uni'] == 'multi']\n",
    "MultiFrame_FP = FP[FP['Multi/Uni'] == 'multi']"
   ]
  },
  {
   "cell_type": "markdown",
   "id": "14db5449",
   "metadata": {
    "papermill": {
     "duration": 0.125983,
     "end_time": "2021-08-25T14:07:49.562039",
     "exception": false,
     "start_time": "2021-08-25T14:07:49.436056",
     "status": "completed"
    },
    "tags": []
   },
   "source": [
    "Uni"
   ]
  },
  {
   "cell_type": "code",
   "execution_count": 115,
   "id": "6f1b8317",
   "metadata": {
    "execution": {
     "iopub.execute_input": "2021-08-25T14:07:49.815255Z",
     "iopub.status.busy": "2021-08-25T14:07:49.814632Z",
     "iopub.status.idle": "2021-08-25T14:07:49.820756Z",
     "shell.execute_reply": "2021-08-25T14:07:49.821420Z",
     "shell.execute_reply.started": "2021-08-25T12:46:48.626248Z"
    },
    "papermill": {
     "duration": 0.133657,
     "end_time": "2021-08-25T14:07:49.821716",
     "exception": false,
     "start_time": "2021-08-25T14:07:49.688059",
     "status": "completed"
    },
    "tags": []
   },
   "outputs": [
    {
     "name": "stdout",
     "output_type": "stream",
     "text": [
      "The uni precision score is: 0.6346153846153846\n"
     ]
    }
   ],
   "source": [
    "# precision is the ratio of correctly predicted hateful memes to all pedicted hateful (so 129 and the wrong classified 52)\n",
    "#precision = TN / (TN + FN)\n",
    "\n",
    "precision_uni = len(uniFrame_TN) / (len(uniFrame_TN) + len(uniFrame_FN))\n",
    "print( \"The uni precision score is:\", precision_uni)"
   ]
  },
  {
   "cell_type": "code",
   "execution_count": 116,
   "id": "2cffaf02",
   "metadata": {
    "execution": {
     "iopub.execute_input": "2021-08-25T14:07:50.116613Z",
     "iopub.status.busy": "2021-08-25T14:07:50.115981Z",
     "iopub.status.idle": "2021-08-25T14:07:50.120591Z",
     "shell.execute_reply": "2021-08-25T14:07:50.120082Z",
     "shell.execute_reply.started": "2021-08-25T12:46:48.640374Z"
    },
    "papermill": {
     "duration": 0.173513,
     "end_time": "2021-08-25T14:07:50.120723",
     "exception": false,
     "start_time": "2021-08-25T14:07:49.947210",
     "status": "completed"
    },
    "tags": []
   },
   "outputs": [
    {
     "name": "stdout",
     "output_type": "stream",
     "text": [
      "The uni recall score is: 0.4714285714285714\n"
     ]
    }
   ],
   "source": [
    "# recall is the ratio of correctly predicted hateful to all actual hateful (so 129 over the entire hateful meme in the dataset)\n",
    "#recall = TN / (TN + FP)\n",
    "\n",
    "recall_uni = len(uniFrame_TN) / (len(uniFrame_TN) + len(uniFrame_FP))\n",
    "print(\"The uni recall score is:\", recall_uni)"
   ]
  },
  {
   "cell_type": "code",
   "execution_count": 117,
   "id": "cf86214c",
   "metadata": {
    "execution": {
     "iopub.execute_input": "2021-08-25T14:07:50.376184Z",
     "iopub.status.busy": "2021-08-25T14:07:50.375541Z",
     "iopub.status.idle": "2021-08-25T14:07:50.378995Z",
     "shell.execute_reply": "2021-08-25T14:07:50.379450Z",
     "shell.execute_reply.started": "2021-08-25T12:46:48.654246Z"
    },
    "papermill": {
     "duration": 0.133523,
     "end_time": "2021-08-25T14:07:50.379615",
     "exception": false,
     "start_time": "2021-08-25T14:07:50.246092",
     "status": "completed"
    },
    "tags": []
   },
   "outputs": [
    {
     "name": "stdout",
     "output_type": "stream",
     "text": [
      "The Uni F1 score is: 0.540983606557377\n"
     ]
    }
   ],
   "source": [
    "#F1 score\n",
    "#The problem of the accuracy is that this metric doesn't represent well the performance of the model on both classes \n",
    "\n",
    "F1Score_uni = (2 * precision_uni * recall_uni) / (precision_uni + recall_uni)\n",
    "print(\"The Uni F1 score is:\", F1Score_uni)"
   ]
  },
  {
   "cell_type": "markdown",
   "id": "9019301d",
   "metadata": {
    "papermill": {
     "duration": 0.12355,
     "end_time": "2021-08-25T14:07:50.626935",
     "exception": false,
     "start_time": "2021-08-25T14:07:50.503385",
     "status": "completed"
    },
    "tags": []
   },
   "source": [
    "Multi"
   ]
  },
  {
   "cell_type": "code",
   "execution_count": 118,
   "id": "f851fb1b",
   "metadata": {
    "execution": {
     "iopub.execute_input": "2021-08-25T14:07:50.882369Z",
     "iopub.status.busy": "2021-08-25T14:07:50.881633Z",
     "iopub.status.idle": "2021-08-25T14:07:50.885228Z",
     "shell.execute_reply": "2021-08-25T14:07:50.884664Z",
     "shell.execute_reply.started": "2021-08-25T12:46:48.669740Z"
    },
    "papermill": {
     "duration": 0.134945,
     "end_time": "2021-08-25T14:07:50.885360",
     "exception": false,
     "start_time": "2021-08-25T14:07:50.750415",
     "status": "completed"
    },
    "tags": []
   },
   "outputs": [
    {
     "name": "stdout",
     "output_type": "stream",
     "text": [
      "The uni precision score is: 0.7441860465116279\n"
     ]
    }
   ],
   "source": [
    "# precision is the ratio of correctly predicted hateful memes to all pedicted hateful (so 129 and the wrong classified 52)\n",
    "#precision = TN / (TN + FN)\n",
    "\n",
    "precision_Multi = len(MultiFrame_TN) / (len(MultiFrame_TN) + len(MultiFrame_FN))\n",
    "print( \"The uni precision score is:\", precision_Multi)"
   ]
  },
  {
   "cell_type": "code",
   "execution_count": 119,
   "id": "b8a8beb8",
   "metadata": {
    "execution": {
     "iopub.execute_input": "2021-08-25T14:07:51.144693Z",
     "iopub.status.busy": "2021-08-25T14:07:51.143954Z",
     "iopub.status.idle": "2021-08-25T14:07:51.147138Z",
     "shell.execute_reply": "2021-08-25T14:07:51.147827Z",
     "shell.execute_reply.started": "2021-08-25T12:46:48.682538Z"
    },
    "papermill": {
     "duration": 0.136906,
     "end_time": "2021-08-25T14:07:51.148066",
     "exception": false,
     "start_time": "2021-08-25T14:07:51.011160",
     "status": "completed"
    },
    "tags": []
   },
   "outputs": [
    {
     "name": "stdout",
     "output_type": "stream",
     "text": [
      "The uni recall score is: 0.22377622377622378\n"
     ]
    }
   ],
   "source": [
    "# recall is the ratio of correctly predicted hateful to all actual hateful (so 129 over the entire hateful meme in the dataset)\n",
    "#recall = TN / (TN + FP)\n",
    "\n",
    "recall_Multi = len(MultiFrame_TN) / (len(MultiFrame_TN) + len(MultiFrame_FP))\n",
    "print(\"The uni recall score is:\", recall_Multi)"
   ]
  },
  {
   "cell_type": "code",
   "execution_count": 120,
   "id": "79a1643a",
   "metadata": {
    "execution": {
     "iopub.execute_input": "2021-08-25T14:07:51.404567Z",
     "iopub.status.busy": "2021-08-25T14:07:51.403778Z",
     "iopub.status.idle": "2021-08-25T14:07:51.407585Z",
     "shell.execute_reply": "2021-08-25T14:07:51.407972Z",
     "shell.execute_reply.started": "2021-08-25T12:46:48.697994Z"
    },
    "papermill": {
     "duration": 0.134372,
     "end_time": "2021-08-25T14:07:51.408149",
     "exception": false,
     "start_time": "2021-08-25T14:07:51.273777",
     "status": "completed"
    },
    "tags": []
   },
   "outputs": [
    {
     "name": "stdout",
     "output_type": "stream",
     "text": [
      "The Uni F1 score is: 0.3440860215053763\n"
     ]
    }
   ],
   "source": [
    "#F1 score\n",
    "#The problem of the accuracy is that this metric doesn't represent well the performance of the model on both classes \n",
    "\n",
    "F1Score_Multi = (2 * precision_Multi * recall_Multi) / (precision_Multi + recall_Multi)\n",
    "print(\"The Uni F1 score is:\", F1Score_Multi)"
   ]
  },
  {
   "cell_type": "code",
   "execution_count": 121,
   "id": "56f05e75",
   "metadata": {
    "execution": {
     "iopub.execute_input": "2021-08-25T14:07:51.663627Z",
     "iopub.status.busy": "2021-08-25T14:07:51.663082Z",
     "iopub.status.idle": "2021-08-25T14:07:51.665820Z",
     "shell.execute_reply": "2021-08-25T14:07:51.666224Z",
     "shell.execute_reply.started": "2021-08-25T12:46:48.713260Z"
    },
    "papermill": {
     "duration": 0.132618,
     "end_time": "2021-08-25T14:07:51.666387",
     "exception": false,
     "start_time": "2021-08-25T14:07:51.533769",
     "status": "completed"
    },
    "tags": []
   },
   "outputs": [],
   "source": [
    "F1Score_uni = F1Score_uni * 100\n",
    "F1Score_multi = F1Score_Multi * 100\n",
    "F1Score_all = F1Score * 100"
   ]
  },
  {
   "cell_type": "code",
   "execution_count": 122,
   "id": "f3dc42b7",
   "metadata": {
    "execution": {
     "iopub.execute_input": "2021-08-25T14:07:51.943676Z",
     "iopub.status.busy": "2021-08-25T14:07:51.939501Z",
     "iopub.status.idle": "2021-08-25T14:07:52.053160Z",
     "shell.execute_reply": "2021-08-25T14:07:52.053635Z",
     "shell.execute_reply.started": "2021-08-25T12:46:48.725630Z"
    },
    "papermill": {
     "duration": 0.261388,
     "end_time": "2021-08-25T14:07:52.053803",
     "exception": false,
     "start_time": "2021-08-25T14:07:51.792415",
     "status": "completed"
    },
    "tags": []
   },
   "outputs": [
    {
     "data": {
      "text/plain": [
       "Text(0, 0.5, 'F1 Score')"
      ]
     },
     "execution_count": 122,
     "metadata": {},
     "output_type": "execute_result"
    },
    {
     "data": {
      "image/png": "[encoded data removed]",
      "text/plain": [
       "<Figure size 432x288 with 1 Axes>"
      ]
     },
     "metadata": {
      "needs_background": "light"
     },
     "output_type": "display_data"
    }
   ],
   "source": [
    "BERT_F1_score = {\n",
    "    'F1 Uni - MultiM' : F1Score_uni,\n",
    "    'F1 Multi - MultiM' : F1Score_multi,\n",
    "    'F1 All - MultiM' : F1Score_all\n",
    "}\n",
    "\n",
    "lists = sorted(BERT_F1_score.items()) # sorted by key, return a list of tuples\n",
    "communities, numb_of_samples = zip(*lists) # unpack a list of pairs into two tuples\n",
    "\n",
    "plt.xticks(rotation='vertical')\n",
    "df = plt.bar(communities, numb_of_samples, color='b')\n",
    "plt.title('F1 Score by Modality')\n",
    "plt.xlabel('Modalities')\n",
    "plt.ylabel('F1 Score')"
   ]
  },
  {
   "cell_type": "code",
   "execution_count": 123,
   "id": "73a317b4",
   "metadata": {
    "execution": {
     "iopub.execute_input": "2021-08-25T14:07:52.314021Z",
     "iopub.status.busy": "2021-08-25T14:07:52.313056Z",
     "iopub.status.idle": "2021-08-25T14:07:52.318199Z",
     "shell.execute_reply": "2021-08-25T14:07:52.318583Z",
     "shell.execute_reply.started": "2021-08-25T12:46:48.896698Z"
    },
    "papermill": {
     "duration": 0.138453,
     "end_time": "2021-08-25T14:07:52.318754",
     "exception": false,
     "start_time": "2021-08-25T14:07:52.180301",
     "status": "completed"
    },
    "tags": []
   },
   "outputs": [
    {
     "data": {
      "text/plain": [
       "{'F1 Uni - MultiM': 54.0983606557377,\n",
       " 'F1 Multi - MultiM': 34.40860215053763,\n",
       " 'F1 All - MultiM': 37.94117647058823}"
      ]
     },
     "execution_count": 123,
     "metadata": {},
     "output_type": "execute_result"
    }
   ],
   "source": [
    "BERT_F1_score"
   ]
  },
  {
   "cell_type": "code",
   "execution_count": 124,
   "id": "0c09f5b9",
   "metadata": {
    "execution": {
     "iopub.execute_input": "2021-08-25T14:07:52.579936Z",
     "iopub.status.busy": "2021-08-25T14:07:52.578969Z",
     "iopub.status.idle": "2021-08-25T14:07:52.582704Z",
     "shell.execute_reply": "2021-08-25T14:07:52.583126Z",
     "shell.execute_reply.started": "2021-08-25T12:46:48.908642Z"
    },
    "papermill": {
     "duration": 0.133261,
     "end_time": "2021-08-25T14:07:52.583293",
     "exception": false,
     "start_time": "2021-08-25T14:07:52.450032",
     "status": "completed"
    },
    "tags": []
   },
   "outputs": [],
   "source": [
    "Multi_model_F1Score = {\n",
    "    'F1 Uni - MultiM': 33.91812865497076,\n",
    "    'F1 Multi - MultiM': 50.98039215686274,\n",
    "    'F1 All - MultiM': 47.68361581920904}"
   ]
  },
  {
   "cell_type": "code",
   "execution_count": 125,
   "id": "b0c03049",
   "metadata": {
    "execution": {
     "iopub.execute_input": "2021-08-25T14:07:52.869694Z",
     "iopub.status.busy": "2021-08-25T14:07:52.864830Z",
     "iopub.status.idle": "2021-08-25T14:07:53.014103Z",
     "shell.execute_reply": "2021-08-25T14:07:53.013486Z",
     "shell.execute_reply.started": "2021-08-25T12:46:48.920508Z"
    },
    "papermill": {
     "duration": 0.304632,
     "end_time": "2021-08-25T14:07:53.014241",
     "exception": false,
     "start_time": "2021-08-25T14:07:52.709609",
     "status": "completed"
    },
    "tags": []
   },
   "outputs": [
    {
     "data": {
      "image/png": "[encoded data removed]",
      "text/plain": [
       "<Figure size 1080x360 with 1 Axes>"
      ]
     },
     "metadata": {
      "needs_background": "light"
     },
     "output_type": "display_data"
    }
   ],
   "source": [
    "import pandas as pd \n",
    "import matplotlib.pyplot as plt \n",
    "from matplotlib.patches import Patch\n",
    "\n",
    "\n",
    "data=[[\"Unimodal memes\",54, 34],\n",
    "      [\"Multimodal memes\",34, 51],\n",
    "      [\"All memes\",38, 48],\n",
    "     ]\n",
    "\n",
    "\n",
    "df=pd.DataFrame(data,columns=[\" \", \"BERT model\", \"DrivenData Multimodal Model\"])\n",
    "\n",
    "df.plot(x=\" \", y=[\"BERT model\", \"DrivenData Multimodal Model\"], kind=\"bar\",figsize=(15,5))\n",
    "\n",
    "plt.title(\"F1 Score by group of memes being unimodal, multimodal and all of them for each Model - BERT Model and DrivenData Multimodal Model\")\n",
    "plt.ylabel(\"F1 Score percentage\")\n",
    "plt.show()"
   ]
  }
 ],
 "metadata": {
  "kernelspec": {
   "display_name": "Python 3",
   "language": "python",
   "name": "python3"
  },
  "language_info": {
   "codemirror_mode": {
    "name": "ipython",
    "version": 3
   },
   "file_extension": ".py",
   "mimetype": "text/x-python",
   "name": "python",
   "nbconvert_exporter": "python",
   "pygments_lexer": "ipython3",
   "version": "3.7.10"
  },
  "papermill": {
   "default_parameters": {},
   "duration": 49.781204,
   "end_time": "2021-08-25T14:07:53.954298",
   "environment_variables": {},
   "exception": null,
   "input_path": "__notebook__.ipynb",
   "output_path": "__notebook__.ipynb",
   "parameters": {},
   "start_time": "2021-08-25T14:07:04.173094",
   "version": "2.3.3"
  }
 },
 "nbformat": 4,
 "nbformat_minor": 5
}
